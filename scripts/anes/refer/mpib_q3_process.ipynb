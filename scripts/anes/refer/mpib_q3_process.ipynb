{
 "cells": [
  {
   "cell_type": "markdown",
   "id": "026fc63d",
   "metadata": {},
   "source": [
    "## Participants based analysis"
   ]
  },
  {
   "cell_type": "code",
   "execution_count": 1,
   "id": "85f9bd22",
   "metadata": {},
   "outputs": [],
   "source": [
    "import numpy as np\n",
    "import pandas as pd\n",
    "import openai"
   ]
  },
  {
   "cell_type": "code",
   "execution_count": 3,
   "id": "e714dcca",
   "metadata": {},
   "outputs": [],
   "source": [
    "df = pd.read_csv('~/knowledge-explore/data/processed_data/reference_dataset_v1.csv')"
   ]
  },
  {
   "cell_type": "code",
   "execution_count": 4,
   "id": "ede0e390",
   "metadata": {},
   "outputs": [
    {
     "data": {
      "text/plain": [
       "300"
      ]
     },
     "execution_count": 4,
     "metadata": {},
     "output_type": "execute_result"
    }
   ],
   "source": [
    "len(df['participant_id'].unique())"
   ]
  },
  {
   "cell_type": "code",
   "execution_count": 5,
   "id": "7c51295c",
   "metadata": {
    "scrolled": false
   },
   "outputs": [
    {
     "data": {
      "text/html": [
       "<div>\n",
       "<style scoped>\n",
       "    .dataframe tbody tr th:only-of-type {\n",
       "        vertical-align: middle;\n",
       "    }\n",
       "\n",
       "    .dataframe tbody tr th {\n",
       "        vertical-align: top;\n",
       "    }\n",
       "\n",
       "    .dataframe thead th {\n",
       "        text-align: right;\n",
       "    }\n",
       "</style>\n",
       "<table border=\"1\" class=\"dataframe\">\n",
       "  <thead>\n",
       "    <tr style=\"text-align: right;\">\n",
       "      <th></th>\n",
       "      <th>Unnamed: 0</th>\n",
       "      <th>problem_id</th>\n",
       "      <th>participant_id</th>\n",
       "      <th>DAT</th>\n",
       "      <th>CRT2</th>\n",
       "      <th>CURIOSITY_SCORE</th>\n",
       "      <th>AGE</th>\n",
       "      <th>GENDER</th>\n",
       "      <th>EDUCATION</th>\n",
       "      <th>EMPLOYMENT</th>\n",
       "      <th>...</th>\n",
       "      <th>POLITICAL</th>\n",
       "      <th>CLIMATE</th>\n",
       "      <th>COVID</th>\n",
       "      <th>NEWS</th>\n",
       "      <th>MEDIA</th>\n",
       "      <th>RELATION_KNOWLEDGE</th>\n",
       "      <th>RELATION_INTEREST</th>\n",
       "      <th>RELATION_CONCERN</th>\n",
       "      <th>ideas</th>\n",
       "      <th>emb_ideas</th>\n",
       "    </tr>\n",
       "  </thead>\n",
       "  <tbody>\n",
       "    <tr>\n",
       "      <th>0</th>\n",
       "      <td>0</td>\n",
       "      <td>Q1</td>\n",
       "      <td>00278</td>\n",
       "      <td>74.104969</td>\n",
       "      <td>3</td>\n",
       "      <td>4.229167</td>\n",
       "      <td>24</td>\n",
       "      <td>1</td>\n",
       "      <td>5</td>\n",
       "      <td>1</td>\n",
       "      <td>...</td>\n",
       "      <td>2</td>\n",
       "      <td>1</td>\n",
       "      <td>1</td>\n",
       "      <td>4</td>\n",
       "      <td>5</td>\n",
       "      <td>2</td>\n",
       "      <td>4</td>\n",
       "      <td>4</td>\n",
       "      <td>['vaccination schemes in these areas', 'increa...</td>\n",
       "      <td>[[-0.011656875722110271, -0.019422005861997604...</td>\n",
       "    </tr>\n",
       "    <tr>\n",
       "      <th>1</th>\n",
       "      <td>1</td>\n",
       "      <td>Q2</td>\n",
       "      <td>00278</td>\n",
       "      <td>74.104969</td>\n",
       "      <td>3</td>\n",
       "      <td>4.229167</td>\n",
       "      <td>24</td>\n",
       "      <td>1</td>\n",
       "      <td>5</td>\n",
       "      <td>1</td>\n",
       "      <td>...</td>\n",
       "      <td>2</td>\n",
       "      <td>1</td>\n",
       "      <td>1</td>\n",
       "      <td>4</td>\n",
       "      <td>5</td>\n",
       "      <td>3</td>\n",
       "      <td>5</td>\n",
       "      <td>5</td>\n",
       "      <td>['equal pay for women and men in the same role...</td>\n",
       "      <td>[[-0.0034376916009932756, 0.006209875456988811...</td>\n",
       "    </tr>\n",
       "    <tr>\n",
       "      <th>2</th>\n",
       "      <td>2</td>\n",
       "      <td>Q3</td>\n",
       "      <td>00278</td>\n",
       "      <td>74.104969</td>\n",
       "      <td>3</td>\n",
       "      <td>4.229167</td>\n",
       "      <td>24</td>\n",
       "      <td>1</td>\n",
       "      <td>5</td>\n",
       "      <td>1</td>\n",
       "      <td>...</td>\n",
       "      <td>2</td>\n",
       "      <td>1</td>\n",
       "      <td>1</td>\n",
       "      <td>4</td>\n",
       "      <td>5</td>\n",
       "      <td>3</td>\n",
       "      <td>5</td>\n",
       "      <td>5</td>\n",
       "      <td>['look into conservation plans ', 'ensure poac...</td>\n",
       "      <td>[[0.03516001999378204, -0.004544570576399565, ...</td>\n",
       "    </tr>\n",
       "    <tr>\n",
       "      <th>3</th>\n",
       "      <td>3</td>\n",
       "      <td>Q4</td>\n",
       "      <td>00278</td>\n",
       "      <td>74.104969</td>\n",
       "      <td>3</td>\n",
       "      <td>4.229167</td>\n",
       "      <td>24</td>\n",
       "      <td>1</td>\n",
       "      <td>5</td>\n",
       "      <td>1</td>\n",
       "      <td>...</td>\n",
       "      <td>2</td>\n",
       "      <td>1</td>\n",
       "      <td>1</td>\n",
       "      <td>4</td>\n",
       "      <td>5</td>\n",
       "      <td>3</td>\n",
       "      <td>4</td>\n",
       "      <td>3</td>\n",
       "      <td>['make it more affordable ', 'make it more rel...</td>\n",
       "      <td>[[-0.0006349863833747804, -0.02672582119703293...</td>\n",
       "    </tr>\n",
       "    <tr>\n",
       "      <th>4</th>\n",
       "      <td>4</td>\n",
       "      <td>Q5</td>\n",
       "      <td>00278</td>\n",
       "      <td>74.104969</td>\n",
       "      <td>3</td>\n",
       "      <td>4.229167</td>\n",
       "      <td>24</td>\n",
       "      <td>1</td>\n",
       "      <td>5</td>\n",
       "      <td>1</td>\n",
       "      <td>...</td>\n",
       "      <td>2</td>\n",
       "      <td>1</td>\n",
       "      <td>1</td>\n",
       "      <td>4</td>\n",
       "      <td>5</td>\n",
       "      <td>3</td>\n",
       "      <td>5</td>\n",
       "      <td>5</td>\n",
       "      <td>['a better work-life balance ', 'more flexible...</td>\n",
       "      <td>[[0.01157371699810028, 0.009878437966108322, 0...</td>\n",
       "    </tr>\n",
       "  </tbody>\n",
       "</table>\n",
       "<p>5 rows × 24 columns</p>\n",
       "</div>"
      ],
      "text/plain": [
       "   Unnamed: 0 problem_id participant_id        DAT  CRT2  CURIOSITY_SCORE  \\\n",
       "0           0         Q1          00278  74.104969     3         4.229167   \n",
       "1           1         Q2          00278  74.104969     3         4.229167   \n",
       "2           2         Q3          00278  74.104969     3         4.229167   \n",
       "3           3         Q4          00278  74.104969     3         4.229167   \n",
       "4           4         Q5          00278  74.104969     3         4.229167   \n",
       "\n",
       "   AGE  GENDER  EDUCATION  EMPLOYMENT  ...  POLITICAL  CLIMATE  COVID  NEWS  \\\n",
       "0   24       1          5           1  ...          2        1      1     4   \n",
       "1   24       1          5           1  ...          2        1      1     4   \n",
       "2   24       1          5           1  ...          2        1      1     4   \n",
       "3   24       1          5           1  ...          2        1      1     4   \n",
       "4   24       1          5           1  ...          2        1      1     4   \n",
       "\n",
       "   MEDIA  RELATION_KNOWLEDGE  RELATION_INTEREST  RELATION_CONCERN  \\\n",
       "0      5                   2                  4                 4   \n",
       "1      5                   3                  5                 5   \n",
       "2      5                   3                  5                 5   \n",
       "3      5                   3                  4                 3   \n",
       "4      5                   3                  5                 5   \n",
       "\n",
       "                                               ideas  \\\n",
       "0  ['vaccination schemes in these areas', 'increa...   \n",
       "1  ['equal pay for women and men in the same role...   \n",
       "2  ['look into conservation plans ', 'ensure poac...   \n",
       "3  ['make it more affordable ', 'make it more rel...   \n",
       "4  ['a better work-life balance ', 'more flexible...   \n",
       "\n",
       "                                           emb_ideas  \n",
       "0  [[-0.011656875722110271, -0.019422005861997604...  \n",
       "1  [[-0.0034376916009932756, 0.006209875456988811...  \n",
       "2  [[0.03516001999378204, -0.004544570576399565, ...  \n",
       "3  [[-0.0006349863833747804, -0.02672582119703293...  \n",
       "4  [[0.01157371699810028, 0.009878437966108322, 0...  \n",
       "\n",
       "[5 rows x 24 columns]"
      ]
     },
     "execution_count": 5,
     "metadata": {},
     "output_type": "execute_result"
    }
   ],
   "source": [
    "df.head(5)"
   ]
  },
  {
   "cell_type": "code",
   "execution_count": 6,
   "id": "09502f3e",
   "metadata": {},
   "outputs": [],
   "source": [
    "df = df.rename(columns = {'participant_id': 'PARTICIPANT_ID'})\n",
    "# df = df.set_index('PARTICIPANT_ID')"
   ]
  },
  {
   "cell_type": "code",
   "execution_count": 7,
   "id": "ca3d2a65",
   "metadata": {},
   "outputs": [],
   "source": [
    "df_3_whole = df.loc[df['problem_id'] == 'Q3'][['PARTICIPANT_ID','ideas', 'emb_ideas']]\n"
   ]
  },
  {
   "cell_type": "code",
   "execution_count": 8,
   "id": "b1e11705",
   "metadata": {},
   "outputs": [],
   "source": [
    "df_3 = df_3_whole[['PARTICIPANT_ID','ideas']]"
   ]
  },
  {
   "cell_type": "code",
   "execution_count": 9,
   "id": "8c3ceaa1",
   "metadata": {},
   "outputs": [
    {
     "name": "stderr",
     "output_type": "stream",
     "text": [
      "/tmp/ipykernel_1585516/1535057389.py:3: SettingWithCopyWarning: \n",
      "A value is trying to be set on a copy of a slice from a DataFrame.\n",
      "Try using .loc[row_indexer,col_indexer] = value instead\n",
      "\n",
      "See the caveats in the documentation: https://pandas.pydata.org/pandas-docs/stable/user_guide/indexing.html#returning-a-view-versus-a-copy\n",
      "  df_3['ideas']= df_3['ideas'].map(ast.literal_eval)\n"
     ]
    }
   ],
   "source": [
    "# idea values are stored as string, not the list. So str -> list\n",
    "import ast\n",
    "df_3['ideas']= df_3['ideas'].map(ast.literal_eval)\n",
    "\n",
    "# unlist and make new rows\n",
    "df_3 = df_3.explode('ideas')\n"
   ]
  },
  {
   "cell_type": "code",
   "execution_count": 10,
   "id": "743d422b",
   "metadata": {},
   "outputs": [],
   "source": [
    "# delete the second level of index and concatenate only with the first one.\n",
    "df_3 = df_3.set_index('PARTICIPANT_ID')\n",
    "# sort the dataframe by the participant id\n",
    "df_3 = df_3.sort_index()"
   ]
  },
  {
   "cell_type": "code",
   "execution_count": 11,
   "id": "1e20a090",
   "metadata": {
    "scrolled": true
   },
   "outputs": [],
   "source": [
    "df_3 = df_3.squeeze()"
   ]
  },
  {
   "cell_type": "code",
   "execution_count": 12,
   "id": "ea62de65",
   "metadata": {},
   "outputs": [
    {
     "data": {
      "text/plain": [
       "PARTICIPANT_ID\n",
       "00278                        look into conservation plans \n",
       "00278           ensure poachers are prosecuted and stopped\n",
       "00278                   protect the land they live off of \n",
       "00278       have protected areas that people cannot access\n",
       "00278    stop them being used for human entertainment/t...\n",
       "                               ...                        \n",
       "fb9c4    prosecute those who profit of elephants in so ...\n",
       "fb9c4    create a scheme to impregnate a lot of female ...\n",
       "ff2bf                            ban ivory imports/exports\n",
       "ff2bf                            try to breed in captivity\n",
       "ff2bf                          protected elephant colonies\n",
       "Name: ideas, Length: 1330, dtype: object"
      ]
     },
     "execution_count": 12,
     "metadata": {},
     "output_type": "execute_result"
    }
   ],
   "source": [
    "df_3"
   ]
  },
  {
   "cell_type": "markdown",
   "id": "8127afec",
   "metadata": {},
   "source": [
    "## Preprocessing the text\n",
    "\n",
    "0. null values\n",
    "1. non-english answers\n",
    "2. drop stopwords\n",
    "3. lemmatization "
   ]
  },
  {
   "cell_type": "markdown",
   "id": "72d41795",
   "metadata": {},
   "source": [
    "### Null values handling"
   ]
  },
  {
   "cell_type": "code",
   "execution_count": 13,
   "id": "f2be391a",
   "metadata": {
    "scrolled": true
   },
   "outputs": [
    {
     "name": "stdout",
     "output_type": "stream",
     "text": [
      "<class 'pandas.core.series.Series'>\n",
      "Index: 1330 entries, 00278 to ff2bf\n",
      "Series name: ideas\n",
      "Non-Null Count  Dtype \n",
      "--------------  ----- \n",
      "1330 non-null   object\n",
      "dtypes: object(1)\n",
      "memory usage: 53.1+ KB\n",
      "None \n",
      "\n"
     ]
    }
   ],
   "source": [
    "print(df_3.info(), '\\n')"
   ]
  },
  {
   "cell_type": "markdown",
   "id": "53dd62a0",
   "metadata": {},
   "source": [
    "## Question 3"
   ]
  },
  {
   "cell_type": "code",
   "execution_count": 14,
   "id": "54670444",
   "metadata": {},
   "outputs": [],
   "source": [
    "# Data cleaning & preprocessing\n",
    "import nltk\n",
    "import re\n",
    "from nltk.corpus import stopwords\n",
    "\n",
    "# Lemmatizer modules\n",
    "from nltk.stem import WordNetLemmatizer"
   ]
  },
  {
   "cell_type": "markdown",
   "id": "9d136a55",
   "metadata": {},
   "source": [
    "### Make lower case, drop stopwords"
   ]
  },
  {
   "cell_type": "code",
   "execution_count": 15,
   "id": "7f1176ad",
   "metadata": {},
   "outputs": [],
   "source": [
    "# define the dataframe for preprocessing\n",
    "data = df_3.copy()"
   ]
  },
  {
   "cell_type": "code",
   "execution_count": 16,
   "id": "873f97d6",
   "metadata": {},
   "outputs": [
    {
     "data": {
      "text/plain": [
       "1330"
      ]
     },
     "execution_count": 16,
     "metadata": {},
     "output_type": "execute_result"
    }
   ],
   "source": [
    "len(data)"
   ]
  },
  {
   "cell_type": "code",
   "execution_count": 17,
   "id": "aa1a9a23",
   "metadata": {
    "scrolled": true
   },
   "outputs": [
    {
     "data": {
      "text/plain": [
       "Index(['00278', '00278', '00278', '00278', '00278', '0068d', '0068d', '0068d',\n",
       "       '0068d', '0068d',\n",
       "       ...\n",
       "       'fb2a2', 'fb2a2', 'fb9c4', 'fb9c4', 'fb9c4', 'fb9c4', 'fb9c4', 'ff2bf',\n",
       "       'ff2bf', 'ff2bf'],\n",
       "      dtype='object', name='PARTICIPANT_ID', length=1330)"
      ]
     },
     "execution_count": 17,
     "metadata": {},
     "output_type": "execute_result"
    }
   ],
   "source": [
    "data.index"
   ]
  },
  {
   "cell_type": "code",
   "execution_count": 18,
   "id": "27c23ce3",
   "metadata": {},
   "outputs": [],
   "source": [
    "import re\n",
    "# Remove special characters, lower the cases, remove stopwords.\n",
    "\n",
    "# dictionary to contain\n",
    "new_dict = {new_list: [] for new_list in data.index}\n",
    "\n",
    "# list of index\n",
    "ind_list = data.index.to_list()\n",
    "\n",
    "# preprocess - remove special character, lower case, drop stopwords\n",
    "for i in range(len(data)): \n",
    "    \n",
    "    text = data.iloc[i]\n",
    "    \n",
    "    temp = re.sub('\\W+', \" \", text)\n",
    "    temp = temp.lower()\n",
    "    temp = temp.split()\n",
    "    temp = [word for word in temp if not word in stopwords.words('english')]\n",
    "    temp = ' '.join(temp)\n",
    "    \n",
    "    new_dict[ind_list[i]].append(temp)"
   ]
  },
  {
   "cell_type": "markdown",
   "id": "5f6a1e14",
   "metadata": {},
   "source": [
    "### Lemmatization"
   ]
  },
  {
   "cell_type": "code",
   "execution_count": 19,
   "id": "90a2a0c5",
   "metadata": {},
   "outputs": [
    {
     "name": "stdout",
     "output_type": "stream",
     "text": [
      "['look conservation plans', 'ensure poachers prosecuted stopped', 'protect land live', 'protected areas people cannot access', 'stop used human entertainment tourism']\n",
      "['hefty fines', 'long prison sentences', 'educating schoolchildren', 'include local villagers tuition villagers', 'control border crossing checks']\n",
      "['punishing poachers', 'armed guards around habitats', 'incentivising protection elephants', 'make ivory worthless', 'introduce breeding project']\n",
      "['safe living areas', 'tourist based funding', 'preservation areas', 'scented candles', 'breeding programme']\n",
      "['ban hunting elephants', 'create sanctuaries elephants', 'give elephants protected species status', 'disturbing natural habitat elephants', 'displacing elephants putting zoos circus']\n",
      "['tv advert', 'ask donations', 'get celebraty indorse project', 'report major newspapers', 'educate elephants threat extinction']\n",
      "['protections', 'harsher punishments kill', 'ban people coming near', 'environment protection', 'answers ai']\n",
      "['stop killing elephants', 'make illegal hunt', 'ban ivory trade', 'raise money elephants', 'protect wildlife']\n",
      "['think protecting natural environment would best', 'making sure people disturb natural habitat', 'ones captivity make sure always well fed taken care', 'encourage multiply', 'think fifth one']\n",
      "['increased spend recruit guards wardens', 'improved communication public intelligence elephants', 'improved breeding programme elephants', 'build artificial environments floating islands free attack', 'gene research capture information needed replenish population required']\n",
      "['stop poaching', 'zoos look', 'stop poachers killing', 'land', 'make easier survive wild']\n",
      "['encourage breeding', 'ensure illegal killing takes place', 'put elephants captivity', 'provide suitable sustainable environment wild', 'encourage people care']\n",
      "['identifying poachers', 'punishment poaching', 'solve climate change', 'introduce safe places elephants', 'encourage elephants breed']\n",
      "['ban hunting every country']\n",
      "['remove tusks hold value poachers', 'surveillance systems surrounding areas live', 'ad campaigns raise awareness issue', 'breeding programs', 'cloning last resort']\n",
      "['making illegal harm', 'paying locals protect', 'rewarding people protect', 'educating people']\n",
      "['providing safer habitat', 'passing laws stop encroachers', 'passing laws stop improper acts elephants', 'providing proper health care', 'research ways boost reproduction']\n",
      "['protect reserves', 'breed zoos', 'breeding program', 'employ wardens']\n",
      "['targeting poachers kill ivory', 'professionals protect areas prevent unlawful killing', 'dedicated elephant zoos breeding encouraged', 'tougher sanctions place', 'educate people live near beautiful animals']\n",
      "['run hard hitting video footage social media effects poaching elephants ivory', 'massive punishments elephant poachers', 'secure game reserves', 'captivity breeding programmes', 'protect environment']\n",
      "['stop ivory trade', 'employ people guard elephants', 'use drones track elephants', 'educate people appreciate elephants bring', 'provide safe sanctuary elephants']\n",
      "['understand current challenges reproduction', 'consider building sancturies', 'clamp poaching hunting activities affect elephant population', 'protecting known habitats', 'reduce interference natural food supplies habitat']\n",
      "['robust anti poaching patrols', 'use aerial surveillance', 'international cooperation countries straddling reserves', 'strict control ivory trade internationally', 'shaming ivory artifacts']\n",
      "['large bans ivory worldwide', 'offer incentives farmers whose land borders elephant territory', 'breeding programmes zoo rare breeds placeholder0 pygmy elephants', 'secure']\n",
      "['stop poachers hunters killing', 'get wardens deter people killing', 'create program breeding', 'devalue ivory point makes pointless kill elephants', 'protected game reserves protection']\n",
      "['building protected habitats elephants live propagate species']\n",
      "['bring death penalty anyone involved hunting elephants ivory trade', 'employ much people protect elephant environments', 'give guards protect elephant herds authority shoot kill poachers', 'bring heavy sanctions countries involved ivory trade']\n",
      "['increase physical protection elephants', 'increase penalties hunting', 'protect environment', 'make local populations aware benefits elephants', 'make local populations aware risks hunting']\n",
      "['education animal preservation', 'stricter punishments poaching', 'stricter punishments ivory trade', 'look cloning animals', 'sanctuary']\n",
      "['protective areas', 'breeding facilitys', 'stop poaching', 'advertisments elephants going extinct better understanding need protecting', 'set charitys fund']\n",
      "['breeding programs zoos', 'protect habitats', 'combatting ivory trade', 'monitor wild elephants', 'raising money zoos reservations']\n",
      "['find killing', 'monitor whereabouts', 'come hard people kill', 'protect physically around', 'sell guns']\n",
      "['employing wardens guard', 'eliminating poachers every opportunity', 'developing international fund', 'educating local population', 'explaining elephants vital tourism']\n",
      "['longer sentences poachers', 'breeding programmes wild', 'better protection wild', 'research diseases affect', 'protect habitat']\n",
      "['specail big enclosures moat cameras', 'make illegal buying anything made', 'alloctaed zoo parks']\n",
      "['research species', 'conservation', 'hunting patrols', 'ban sales ivory', 'set breeding programs native areas']\n",
      "['trachers eleephant personal protection squads', 'think nature reserves protect encourage breading']\n",
      "['banning hunting', 'creating elephant sanctuaries', 'donate elephant charities', 'ban ivory imports exports']\n",
      "['breed', 'higher penalties hunters', 'wild life ideas']\n",
      "['research', 'keep captive breeding', 'dna research', 'set protection camps', 'camera monitors']\n",
      "['store dna banks preserve diversity', 'harsher penalties poaching smuggling ivory', 'job creation schemes local communities disincentivise poaching', 'promote alternative products ivory', 'control human expansion elephant habitats']\n",
      "['make endangered species', 'make poaching sentences strong across world', 'better conservation areas', 'charity fundraising', 'make ivory type products']\n",
      "['conservation areas', 'stopping illegal shooting elephants', 'breeding programmes', 'raise awareness raise money help', 'stop used cruel ways tourists pleasure']\n",
      "['greater local education', 'stiffer penalties poachers', 'increase ranger staff', 'ban trade ivory', 'designate specific areas land elephant friendly']\n",
      "['become wildlife donator', 'buy ivory', 'adopt elephant', 'support research']\n",
      "['less tourism', 'banning deforestation', 'criminalising poaching', 'programmes mating', 'wear elephant shirts']\n",
      "['make hunting illegal', 'increase patrols known hotspots', 'introduce nature preservation measures ensure conducive environment thrive', 'treat sick animals possible', 'reduce pollution populated areas']\n",
      "['ban use ivory products', 'death penalty poaches', 'army patrols protect elephants', 'eductate people', 'give poor countries aid stop poaching']\n",
      "['make incentives', 'make punishments', 'artificial herds', 'freeze genetic material', 'elephant island']\n",
      "['encourage major retailers support coin collections elephant charities', 'apply funding pay poachers problem areas', 'televised campaign monthly direct debit', 'promotion sustainable products supermarkets']\n",
      "['better security killed', 'reduce demand ivory', 'protect habitats', 'increase charity marketing']\n",
      "['remove human activities land surrounding existing reserves', 'incentivise people give pastoralism areas used elephants', 'demonize use chinese medicine', 'increase funding poaching prevention schemes', 'enable managemnt habitat level rather spi']\n",
      "['extremely severe penalties poaching', 'conservation programmes preserve habitats food chains', 'elephant sanctuaries', 'ethically managed breeding programmes', 'climate change initiatives positively impact health habitats']\n",
      "['protecting', 'breed captivity', 'increase sentences poachers etc', 'destroy inhabitat', 'provide safe environments shelter raise young']\n",
      "['stopping poaching', 'funding wildlife preservation zoos', 'improve climate change', 'sustainable', 'preserve planet']\n",
      "['educating people', 'countries elephants live', 'prevent illegal killing', 'reduce ivory trafficking', 'protect elephants']\n",
      "['global awareness people', 'providing safe place elephants', 'providing food elephants', 'breeding elephants', 'asking people live areas elephants found hunt']\n",
      "['international ban ivory trade', 'investment anti poaching units', 'education live elephants', 'buying land elephants live', 'removing ivory museums']\n",
      "['send poachers jail', 'inprison peole ivory', 'pay poachers look insted killing', 'seend eleahant familys countrys']\n",
      "['elephant breeding centres', 'publicity campaign brand poachers losers', 'set aside large areas protected habitat', 'campaign reduce desirability ivory', 'development man made materials mimic improve ivory']\n",
      "['give suits armour', 'preserve dna later cloning', 'housing protected areas zoos', 'encourage mate calves', 'vaccinating disease']\n",
      "['life prison sentences poachers', 'conservation zones ensuring protection', 'jurassic park elephants', 'ensure natural habitat destroyed', 'educate humans better']\n",
      "['coming hard poaching', 'banning import ivory', 'allowing ivory taken dead ones zoos without animal killed', 'stop ruining natural habitat', 'providing man made areas wild']\n",
      "['preserve habitat', 'reduce value ivory', 'educate locals', 'set breeding programs', 'educate world importance']\n",
      "['stop people hunting', 'create kind protective barriers live', 'education ecological value elephants', 'punish hunt elephants', 'wipe homo sapiens']\n",
      "['stiffer punishment poachers buyers handlers ivory also help']\n",
      "['understand many elephants currently situated', 'review current rules laws protect whether need changed']\n",
      "['make people know going problem', 'invest training needed', 'government helpful problem', 'train folk help problem', 'tv programs issue']\n",
      "['protected roaming areas actually protected', 'find less dangerous habitats', 'perhaps including relgious laws', 'promote ban trade parts', 'make']\n",
      "['remove need kill poach elephants', 'increase birth rates elephants', 'provide special protection', 'provide save environments elephants thrive live', 'provide incentives increasing elephants population']\n",
      "['people patrol hunters', 'increase penalties poachers', 'patrol air using helicopters', 'educate people', 'make difficult trade ivory']\n",
      "['protection poachers', 'breeding program', 'protection habitat', 'watch natural environment find need', 'build sanctuary raise numbers']\n",
      "['research issues surrounding decline moment', 'invest breeding programs wild controlled areas zoos', 'protect environment destroyed laws enforcement laws', 'make illegal poach enforce laws', 'significant prison sentences fines still poaching deter']\n",
      "['freeze elephant eggs sperm', 'restore elephant habitats', 'maintain elephant habitats', 'breed elephants captivity release wild', 'keep number elephants captivity']\n",
      "['ban use ivory everywhere', 'promoting ivory substitute materials', 'setting reserves elephants', 'releasing elephants bred zoos back nature', 'feeding wild elephants']\n",
      "['stop hunting', 'protect theyr habitat', 'confiscate guns hunters', 'turn illegal elephant hunting']\n",
      "['protect environment', 'ensure food readily available', 'breed elephants animal sanctuaries', 'prevent illegal killings tusks', 'ban selling objects made elephant tusks']\n",
      "['ban hunting', 'ban sale ivory', 'zoo etc', 'strengthen parameters wildlife sanctiries', 'increase number wild life wardens']\n",
      "['preserve', 'invitrologist']\n",
      "['stop poaching encourage awareness public encourage breeding stop kill', 'encourage tourism watchdog tagging herds', 'government']\n",
      "['spend money catching ivory hunters', 'tourism locations jobs locals', 'tourists also means witnesses potential crimes', 'keep habitats well looked']\n",
      "['create protected reserved natural parks poaching banned', 'create safe environment animals including elephants live normal life', 'nature parks must well funded government', 'ivory trade must made illegal world stigma attached owning ivory', 'poachers jailed life caught involved trafficking elephants']\n",
      "['elephant wardens wild', 'breed elephants captivity release', 'stop whatever reducing population elephants', 'create wildlife reserves keep existing ones safe', 'research diseases kill elephants']\n",
      "['protect elephants', 'keep elephants zoos', 'breeding program', 'prevent selling ivory', 'make illegal hunt elephants']\n",
      "['harsher punishments poachers', 'safe zones elephants observed protected', 'gather support elephant charities offer help', 'look going extinct', 'repopulate elphant']\n",
      "['mapping live', 'identify risks face areas', 'agree plans strategies mitigate risk identified risk', 'prepare appropriate conditions elephants breed', 'strongly fight elephant hunting phenomenon']\n",
      "['banning hunting', 'making hunting illegal', 'long prison terms anyone found hunting', 'making safe place elefants go', 'making breeding programe']\n",
      "['improve habitat', 'pay locals protect', 'captive breeding case', 'protect poaching', 'ban ivory sales']\n",
      "['make punishment stronger', 'dispel myths medicinal uses ivory', 'guards guns', 'ban sale ivory', 'nature preservations']\n",
      "['dye tusks pink', 'protected lands', 'harsh punishment poaching', 'education']\n",
      "['employ ramgers guards areas poaching occurs', 'move many animals possible safer protected areas', 'move wildlife parks breed ensure future survival species', 'change laws ensure poach kill elephants sentenced 20 years plus prison', 'donate projects save elephants support way placeholder0 wwf']\n",
      "['providing enough food', 'making elephant hunting illegal', 'increasing tax fines elephant hunting', 'increasing wild rescuers', 'separating baby elephants mothers']\n",
      "['educate natives', 'worldwide elephant slaughter', 'robust breeding', 'moer care given elephants environment', 'hyave less elephants zoos leave natural habitat']\n",
      "['ban hunting', 'sponsor elephant', 'tighter controls conservation', 'ban purchase ivory destroy artifacts', 'look bread captivity protect numbers']\n",
      "['make elephants protected species', 'make elephant charities', 'raise awareness elephants social media tv', 'gm elephants']\n",
      "['tough fines poachers', 'building secure enclosures', 'research elephant health']\n",
      "['survival programmes set', 'much harsher penalties poachers etc', 'create breeding programme', 'keep habitats safe free removal', 'store sperm future breeding']\n",
      "['could also allow use routes migration travel instead building around routes']\n",
      "['wildlife reserves open elephants', 'governments could forceful poachers', 'sale ivory elephant meat outlawed']\n",
      "['jail time opposers', 'put zoos protected parks', 'armed guards natural habitat', 'relocate somewhere safe', 'help breed']\n",
      "['tougher punishment animal poachers dissuade others', 'fund elephant reservation schemes encourage safe breeding growth', 'promote ivory alt']\n",
      "['whats main contributions killing elephants', 'protect better', 'stop people buying products people killing elephants', 'make sure habitat protected', 'improve food source']\n",
      "['look', 'recycle', 'buy ivory', 'support charties', 'dont hunt']\n",
      "['better laws', 'police enforcement', 'funding cause', 'keeping habitat intact without much human interference', 'protecting wild animals']\n",
      "['home elephants different continent', 'improve economy areas elephants hunted', 'find ways close market elephant products', 'pay local people']\n",
      "['captive breeding programs', 'setting wildlife reserves elephants protected', 'better detection apprehension severer punishment poaching', 'educating native communities need protect elephants', 'promoting wildlife tourism create economic benefits']\n",
      "['ban hunting ensure rule enforced', 'place protected areas predators get', 'learn diseases ensure steps taken prevent catching', 'ensure mate much possible keep birth rates', 'provide young elephants protection allow grow adulthood']\n",
      "['try harder stop poaching', 'breed captivity', 'set protection orders', 'educate people matter', 'harsher punishments culprits poaching']\n",
      "['protect', 'electronic', 'cameras watching', 'keep close', 'make sure guarded']\n",
      "['detect poses threat elephants health endangerment', 'tackle threats working specialists', 'publicise threats deter people making worse raising awareness', 'create charity employ people monitor health group elephants track health', 'raise awareness marketing fundraising']\n",
      "['monitor elephant population', 'increase punishment poachers', 'breeding programs', 'elephant sanctuaries', 'monitor environmental changes may affect elephants habitats']\n",
      "['research extent problem', 'identify key causes', 'introduce breeding programmes', 'raise awareness issue', 'use legislation protect elephants']\n",
      "['zoos wildlife parks', 'worldwide ban hunting', 'severe penalties hunting', 'education schools', 'awareness']\n",
      "['stricter laws', 'provide police', 'stricter gun laws', 'safe areas', 'monitored cameras']\n",
      "['prosecute illegal poachers', 'make park elephant elephant roaming breeding freely']\n",
      "['policing areas elephants live', 'hunt hunters', 'harsher sentences caught hunting', 'breeding programmes', 'better care wardens taken']\n",
      "['conservation programmes', 'harvest dna consider cloning methods', 'harsher penalties sanctions poachers', 'armed protection elephants guard poachers', 'donations public utilised conversation programmes like']\n",
      "['give severe punishment poachers', 'employ people travel stay areas take care', 'build sanctuaries', 'mass breeding']\n",
      "['harsh penalties hunting elephants', 'educating hunt find people alternative options', 'mass breeding conservation project', 'need know reasons may become extinct', 'promote cross country continent work across globe ensure survival']\n",
      "['shoot hunters', 'ban ivory hunting completely', 'test tube elephants', 'breed captivity', 'make protected animal']\n",
      "['look conditions causing extinction', 'educate people', 'look research conservation groups', 'tackle poaching illegal killing', 'environment elephant live']\n",
      "['knowledge care elephants', 'protection areas elephants live', 'tougher penalties poachers', 'information deter use ivory', 'dedicated staff look elephants already']\n",
      "['severe punishment hunting', 'prevent illegal trading elephant parts', 'promote beauty', 'educate people live alongside', 'stricter laws harming']\n",
      "['elephant conservation', 'stricter hunting laws', 'increased efforts monitor black market ivory', 'harsher sentences hunters selling ivory', 'zoos provide funding towards conservation']\n",
      "['shoot poachers']\n",
      "['ban sales ivory', 'ensure areas set aside elephants', 'patrols deter catch poachers', 'much harsher punishments poachers', 'include provision elephants planning tackle climate change']\n",
      "['increase mating programmes', 'better conservation', 'make illegal hunt', 'agressive breeding programmes']\n",
      "['promote conservation', 'public knowledge animal conservation', 'look elephants', 'understanding disadvantage elephant extinction', 'charity works promote animal sa']\n",
      "['initiate breeding programme', 'stiffer penalties hunters', 'manipulate elephants environment', 'provide wild elephants meals', 'protect environment']\n",
      "['wildlife sanctuarys', 'raise awareness public', 'hold tours see', 'look natural habitat', 'jail hunters 10 years']\n",
      "['educate people elephants', 'protect habitants elephants law', 'educate tourists visit responsibly']\n",
      "['set designated areas land', 'use drones equipment monitor stop hunted', 'set breeding programmes', 'research improve health fertility rates', 'encourage people donate charities support elephants']\n",
      "['prohibit elephant hunting law prosecute perpetrators', 'ebsure natural habitat protected', 'start using sustainable methods comes agriculture', 'build settlements elephants live', 'run campaign make people aware problem']\n",
      "['makinhg poaching capital offence', 'pay local people ot kill poachers', 'make poachers live elephants', 'pay poachers killing animals', 'make tusks valueless']\n",
      "['make sex', 'prevent hunting elefants', 'make people aware effects extinction', 'celebrate new baby elephant births', 'set charity fund extinction prevention']\n",
      "['stop destruction habitat', 'microchip provide safe havens poaching hotspots', 'involve local communities keeping safe', 'provide jobs locals poaching rife']\n",
      "['sanctuaries elephants', 'stopping using tourists', 'bigger concequences poachers', 'stop hunting sport', 'breed elephants']\n",
      "['create elephant sanctuary', 'genetically modify elephants grow tusks stops ivory hunting', 'introduce stop elephant poaching']\n",
      "['heavier sanctions killing', 'keep safe poachers', 'make reproduce', 'keeping humans away', 'use amusement']\n",
      "['could ban sale ivory products']\n",
      "['tougher punishment hunters kill', 'sanctuaries', 'letting animals back wild zoos etc', 'consider ways breeding artificial insemination']\n",
      "['getting world wildlife fund charities involved', 'examining elephants signs disease illnesses', 'increasing significantly fines punishments ivory hunters', 'take captivity breed release offspring', 'freezing sperm eggs living elephants']\n",
      "['stop hunting', 'make endangered species', 'encourage breeding humane way', 'harsher punishments elephant hunters', 'go places elephant hunting popular warn dangers']\n",
      "['start breeding programme']\n",
      "['stop allowing ivory ornaments medicines', 'breed elephants trunks', 'remove elephant trunks incentive', 'parks security protect', 'education worlwide support african countries']\n",
      "['teach elephants early age school', 'educate people empathising understanding wildlife general', 'harsher sentences hunt hurt abuse elephants', 'ensuring charities centres help encourage elephants flourish']\n",
      "['enforcing law elephant hunting', 'promote elephant mating', 'increase public awareness elephant conservation', 'promote ethical tourism sustainable elephant experiences', 'develop']\n",
      "['enforce bans hunting', 'make sale ivory illegal worldwide', 'provide funds breeding programmes', 'educate local populations kill elephants', 'educate positive actions taken extinct']\n",
      "['designing reservation areas', 'preventing people hunting elephantd', 'ideas hybrid breeding', 'medication', 'research elephants life diseases']\n",
      "['ban hunting', 'give land', 'expand breeding program', 'better education', 'people deter poachers']\n",
      "['harsher penalties poaching', 'enforced breeding', 'ban reduce wildlife tours', 'education scale issue encouraging raise money', 'shut zoos']\n",
      "['protection park elephants', 'track elephant', 'invest elephant habitat', 'invest alternative ivory']\n",
      "['many patrols poachers', 'funding protecting', 'death sentence hunters', 'breed sanctuaries', 'death hunters poachers ans advertise fact']\n",
      "['establishing specific areas', 'great punishments people hunt hem', 'genetically help fertilise better', 'training special shepherd', 'optimal weather']\n",
      "['stop deforesting', 'stop hunting', 'create elephant reserves', 'teach people animal', 'responsible']\n",
      "['stop hunting', 'reduce tourism people take advantage elephants take pictures', 'protect lives protected government something important', 'spread information issue', 'protect enclosures endangered']\n",
      "['make laws capital punishment', 'awareness campaigns protect', 'build shelters', 'accept donations', 'government programs']\n",
      "['security poachers', 'safari parks breeding schemes elephants', 'tougher sentences elephant poachers', 'scientific studies']\n",
      "['find root cause endangered', 'discourage poaching areas problem', 'incentivise poachers engage behaviour', 'encourage mating possible', 'create safer habitats']\n",
      "['shut game tourism', 'media ivory', 'use media make uncool', 'international cooperation']\n",
      "['keep records elephant numbers', 'track elephant locations', 'prevent poaching', 'economic benefits elephants placeholder0 tourism encourage locals', 'limit urban encroachment']\n",
      "['track existing heards gain knowledge', 'firm anyone caught poaching', 'decelop breeding programmes zoos', 'educate children zoos importance conservation', 'allow people adopt elephant wild use money protect reserves']\n",
      "['put elephants conservation project', 'put cameras stop people hunting', 'put fence around live', 'make sure access plenty food drink', 'gather much info diseases online possible']\n",
      "['stamp poaching', 'increase fines poaching', 'stop destroying habitat']\n",
      "['harsher fines poaching', 'create sanctuaries', 'greater protection habitats', 'location monitoring', 'harsh fines purchasing ivory']\n",
      "['stricter hunting', 'insure consistent water supply', 'prevent poachers', 'rangers national park']\n",
      "['pay local population maintain ecology', 'prevent habitat destruction', 'ban sales ivory internationally', 'stop farmland expansion elephant habitats', 'introduce breeding programmes countries bolster population']\n",
      "['letting tourists play', 'big fines jail kill', 'make sure got mating', 'look kills', 'protect reservats']\n",
      "['protect elephants hunters', 'study elephant behaviour', 'banning ivory trade', 'take dna samples', 'create elephant sanctuaries']\n",
      "['create sanctuaries elephants', 'educate children extinction rate animals avoided', 'harsh prison sentences anyone harms elephants', 'public visits people donate money adopt elephant let visit friend', 'public funding conservationists safari parks']\n",
      "['put zoos breed', 'create elephant sanctuary', 'make mandatory shoot elephant poachers', 'saved species', 'exterminate mice']\n",
      "['surveillance', 'vets care', 'preserve dna', 'employ people look', 'help reproduction']\n",
      "['game wardens give villages money benifit lose crops ban ivory trade park land']\n",
      "['protecting', 'education way reaches harm', 'media information regarding threat extinction', 'local government country origan loose valuable asset', 'world view society play part saving']\n",
      "['harsher penalties poachers', 'guards', 'stringent rules ivory trade', 'increased surveillance elephant herds', 'increased breeding programmes']\n",
      "['freeze embryos sperm', 'maintaining habitat', 'preventing removing human threats', 'hold captivity zoos', 'transport new areas threat']\n",
      "['fund people prevent poaching', 'fund sanctuaries help', 'reduce climate change', 'stop deforrestation', 'make sure look well zoos conservation areas']\n",
      "['charities', 'set parks rides elephants', 'show respect understanding']\n",
      "['stricter laws country', 'ban ivory products', 'stop rich carrying deaths', 'stop corruption countries', 'stricter bye laws']\n",
      "['harsher punishments poachers', 'start breeding elephants captivity', 'monitor numbers poaching rates threats key sites', 'reduce demand ivory', 'rangers patrol areas elephants']\n",
      "['charity benefits raise money', 'adverts tv internet social media', 'utilise zoos animal santurys pop culture see tiger king', 'pop song benefit', 'kids movie toy']\n",
      "['deploy better policing elephant habitats', 'prohibit sale ivory', 'provide rehabilitation programs poachers including career opportunities', 'fence major affected areas', 'remove tusks elephants']\n",
      "['ensure always around', 'force confined areas', 'remove dangerous poaching areas', 'reduce price selling tusks', 'make killing illegal']\n",
      "['protect endangered spieces', 'fine people exploit', 'build safari parks protection', 'inform people social media', 'crowdsourcing gather resources protect']\n",
      "['stop hunting tusks make sure environment encroached upon human habitations']\n",
      "['define goal prevent extincion totally wild', 'building bank eggs sperm captive bred elephants', 'research feasibility building bank wild bred sperm eggs', 'research feasibilty artificial insemination wild elephants', 'educate']\n",
      "['inject tusks elephants chemical would kill anyone ingesting powdered form substance prevent poachers selling chinese medicine trade']\n",
      "['making penalty harming harsher', 'increasing surveillance', 'engaging poachers routing away poaching', 'making ivory possesssion illegal', 'breeding incaptivity']\n",
      "['track elephant populations', 'stop ivory trade', 'track effects climate change elephants', 'identify biggest risk factors elephants', 'raise awareness issues facing elephant population']\n",
      "['ban hunting elephnats', 'create conservation programs breed elephants', 'make profitable countries elephants kill', 'setting charities protection elephants', 'developing poorer countries']\n",
      "['create safe breeding programmes ethical healthy', 'protect elephants wild', 'adopt elephant raise funds protect', 'research elephants livelihoods keep safe placeholder2']\n",
      "['shoot poachers', 'develop better elephant protection using drones', 'develop better breeding programmes', 'preserves much better protection poachers', 'save dna could potentialy resurrect future technlogy improves']\n",
      "['educate people live near positives', 'provide space safe', 'bigger sanctions poachers', 'money catch poachers', 'fences help farmers deter']\n",
      "['declare endangered species', 'increase wildlife protection officers', 'heavy penalty kill', 'ban sale tusks', 'educate people ivory smuggling']\n",
      "['ban poaching', 'protect endagered breeds sanctuarys', 'create safe breeding ground', 'provide support elephants wild placeholder0 food medicinal', 'make sure injured elephants heal safely wild']\n",
      "['stop poachers', 'ensure conservation areas well funded maintained', 'poachers harsh sentences caught', 'security ground', 'intelligent tracker systems placeholder0 place whatthreewords cameras animals stress factor built']\n",
      "['create reserves national parks', 'target poaching employ people vigilate', 'work local people help protect elephants', 'protect environment legislation changes education']\n",
      "['clamp ivory exports imports', 'breeding programmes zoos wildlife parks', 'pay poachers take tasks', 'breed elephants tasks', 'provide land']\n",
      "['strict controls poachers', 'monitoring natural habitat', 'remove tusks birth avoid poachers', 'supporting reproduction safe habitats', 'stricter rules poachers']\n",
      "['good reason say would bad thing disappear']\n",
      "['use drones monitor land live naturally prevent hunting', 'keep elephants zoos protect', 'creat e international breeding campaign promote population growth', 'store dna elephants allow cloning numbers become low', 'artificial insemination promote elephant numbers specific locations live naturally']\n",
      "['figuring going extinct', 'increasing funding zoos conservation programs', 'zoos take captivity', 'helping stay healthy wild']\n",
      "['expanding reserves', 'make trade dead elephant projects severely punishable law', 'monitor improve health elephants', 'making data possibility elephant extinction widely available', 'expaning breeding programmes zoos reserves']\n",
      "['poaching sanctions', 'protected environments', 'care help humans', 'develop medicine help unwell elephants']\n",
      "['get tough poachers', 'ban sale ivory enforce', 'encourage responsible tourism', 'educate local communities may feel resources adversely affected elephants']\n",
      "['globally ban killing elephants tusks', 'provide means elephant procreation', 'take care environments needed elephants thrive', 'donate charities help cause', 'take number existing elephants protect']\n",
      "['build public support social media', 'create protected habitats', 'sperm egg banks properly maintained experts', 'spread species throughout world spread risk', 'increase birth rates']\n",
      "['create safe spaces', 'preserve dna could cloned', 'increase security elephant habitats', 'larger zoo areas elephants']\n",
      "['severe punishments poachers', 'severe penalties anyone found goods poaching trade', 'vast conservation areas']\n",
      "['offer poachers alternatives', 'offering poachers alternative employment', 'tagging tracking poachers', 'tagging tracking elephants']\n",
      "['breeding', 'protect shot wild', 'breeding zoos safari parks', 'cant think', 'idea left']\n",
      "['provide monitoring security againt hunters', 'encourage buy public sponser elephant increase financial resourses', 'provide secure comfortable areas promote mating', 'make selling ivory automatic jail sentence', 'employ animal carers']\n",
      "['keep trophy hunters away', 'breed confined areas', 'make sure herded places ample food', 'protect baby elephants', 'wardens police poachers']\n",
      "['get rid poachers', 'protect young', 'ensure sufficient food', 'take zoo safari parks']\n",
      "['increase sentences killing elephants', 'set protection areas fund well enough proper security security', 'encourage breeding programmes safe environments', 'actively search poachers killers chance kill']\n",
      "['raise fines criminal implications hunters', 'jail time offenders', 'keeping secluded areas showing public zoos', 'encouraging reproduction elephants protection supervision', 'consider ludicrous punishments like life imprisonment offenders']\n",
      "['track existing breed', 'punishment kill', 'introduce good breeding system', 'preserve natural habitat', 'monitor develop system preserve']\n",
      "['introduce breeding programme', 'ban elephant hunting', 'start charity fund raiser help raise awareness', 'making sure right habitat live', 'raise awareness plight start specific charity elephant extinction']\n",
      "['wildlife reserves', 'international cooperation trade ivory', 'funding stop poaching countries lack resources fund', 'done reducing land grabbing']\n",
      "['look environment', 'mating programs', 'stop elecphant tusk poaching', 'choose ethical trade']\n",
      "['strong marketing help raise awareness get people donate towwards habitat', 'pay people give land elephants use', 'increased funding towards genetic engineering geneobe elephant cloned', 'poachers']\n",
      "['help breed possible', 'ban forms hunting', 'introduce stern penalties', 'help survive wild']\n",
      "['keeping natural patterns migration instead one place', 'spread rumours ivory bad luck like opals', 'show documentaries elephants lives', 'exaggerate low numbers scare people', 'serious punishment caught poachers']\n",
      "['banning ivory trade', 'tackling climate change', 'monitoring elephant herds', 'better wildlife parks', 'adoption charities']\n",
      "['controlled sale ivory reduce benefits poaching', 'better monitoring elephant routes deter poaching', 'better reserves safe environments', 'using satellite monitoring monitor elephants', 'conservation projects zoos']\n",
      "['protect ones double protection programmes', 'tougher sentences poachers people pay poachers', 'set breeding programme highly protected area', 'stop governments making money safaris encouraging enabling people get near animals']\n",
      "['track movements', 'track newborn elephants', 'save space keep together', 'providing food medications', 'make people aware issue']\n",
      "['population gets bigger could try release new elephants wild area freeing still protection poachers']\n",
      "['higher punishments poachers', 'tracking elephant know exact location', 'new world wide organisation', 'education across world', 'mating opportunities elephants']\n",
      "['special zoos breed elephants', 'prevent hunting killing elephants', 'make crime hunt kill elephants', 'set aside land special reserves elephants', 'research elephant population falling']\n",
      "['elephant trust', 'illegal kill one', 'conservation areas', 'protect poachers']\n",
      "['money policing poachers', 'staining tusks make undesirable', 'vaccination elephant diseases', 'vetinary help possible']\n",
      "['give protected status', 'ban hunting elephants', 'stop sale elephants tusks', 'give harsher sentences offenders', 'encourage watchfulness elephants']\n",
      "['preserving eggs sperm freezing used later date', 'hiring guards protect elephants wild', 'giving option donate percentages bills purchases protection elephants', 'attaching devices elephants would deter natural predators', 'building giant enclosures certain parts world']\n",
      "['protection teams', 'information', 'elephant santuaries']\n",
      "['protected areas', 'forbidding hunting elephants', 'increase availability food receive', 'complimentary competing species', 'decrease global temperature']\n",
      "['regulate sales tusks hides make less lucrative poachers', 'invest breeding programmes grow elephant population', 'limit human access natural habitat hold space feel safe enough breed', 'ensure preferred food source grown natural habitats intervene food scarce']\n",
      "['jailing poachers', 'making elephants accessible people see like', 'making uncool buy thinks containing elephant tusks', 'bring elephants zoos safe', 'fit elephants tracking devices']\n",
      "['elephant sanctuaries', 'greater punishment elephant poachers', 'using social media raise awareness', 'protected habitats areas elephant populations']\n",
      "['banning imports ivory', 'employing rangers protect elephants monitor suspicious activity', 'shut illicit trade ivory goods taking proactive approach online trade', 'establish breeding networks across zoos preserve genetic diversity species', 'compensate farmers losses damage crops elephants']\n",
      "['multinational funding protection', 'reward countries offer protection', 'prosecute poachers', 'safeguard habitat']\n",
      "['make people want look elephants', 'stop ivory trade', 'reduce pollution', 'research tracking elephants wild increase knowledge']\n",
      "['ban ivory worldwide', 'ivory amnesty people already ivory', 'find way staining tusks forever wanted poachers', 'make sure local people benefit looking elephants', 'visitors elephant areas pay premium help']\n",
      "['improve reproduction rates', 'shoot hunters poachers site', 'better monitoring recording', 'ivory sellers jailed life', 'bring sanctuaries']\n",
      "['provide financial support countries', 'provide manpower police reserves poaching issue', 'breed captivity release bolstering populations', 'sever punishments poachers', 'severe punishment people handling products ivory']\n",
      "['emphasis stopping poachers', 'breeding programmes zoos', 'wildlife reserves', 'electronic tagging monitoring', 'make ivory illegal countries']\n",
      "['collect dna elephant populations cloning', 'prevent elephant habitat destruction', 'enforce elephant hunting bans', 'ban ivory sale export']\n",
      "['ban forms ivory sales make status panda']\n",
      "['protect habitiat', 'penalise poachers hunters', 'create sanctuaries captive elephants aim rehabilitate teh wild', 'crack black market trade', 'ban animal based tourism elephants treaetd badly placeholder1 ones forced paint']\n",
      "['stop killing', 'breeding programmes zoos', 'safe areas fior live', 'stop destroying thneir habitats profit', 'severe sentences penalties poachers trophy hunters']\n",
      "['fund security teams situ', 'completely ban ivory trade ivory historic illegal possess trade', 'breeding programmes produce elephants released wild', 'research elephant behaviours factors affecting population size', 'collecting freezing elephant gametes surrogate implantation']\n",
      "['regulate use methods used kill elephants', 'punish poachers', 'protect elephants natural environment', 'best recreate elephants natural environment captivity', 'best help injured elephants would survive wild']\n",
      "['ensure elephants adequate land live', 'ensure enough wardens etc support monitor elephants', 'strong punishments illegally hunting elephands', 'adopting breeding programmes', 'tougher wild life trading']\n",
      "['make sure protection orders adhered', 'rear elephant communities controlled humain environments allow reproduce safely', 'clamp hard ivory trade', 'ensure ban elephants wild animals purposes entertainment enforced', 'monitor population']\n",
      "['learn habitat', 'learn makes procreate', 'find endanger', 'major factors food enemies', 'create best conditions']\n",
      "['give tools defend', 'disprove medical usages possible', 'create better funded sanctuarys', 'owning ivory', 'liquid trackers ivory']\n",
      "['create sanctuaries', 'greater punishments poachers', 'investing local education elephants live', 'setting programmes schools protecting elephants', 'making ivory trade unprofitable']\n",
      "['rehabilitation facilties', 'fundraising sanctuaries', 'higher punishments hunting', 'facilitating babies born release wild', 'maintain wildlife conservations']\n",
      "['greater tracking physical protection', 'allow wild chained', 'keep areas hard humans reach', 'harsher punishments caught', 'create global community dedicated love protection intimidate poachers']\n",
      "['harsher penalities poaching', 'greater legal protections', 'stricter enforcement wildlife trade', 'larger protected areas']\n",
      "['protected habitat', 'devalue price ivory', 'educate young', 'sanctuaries elephants', 'guards elephants']\n",
      "['introducing new measures crack poaching', 'stricter laws concerning sale ivory', 'raising public awareness exploitative practises like circuses tourist elephant rides', 'introducing breeding programmes zoos', 'protecting habits preventing deforestation']\n",
      "['moving protected areas', 'prison killing', 'teaching risk extinction']\n",
      "['pay money countries elephants employ rangers', 'banning importation exportation ivory products', 'enact stricter penalties ivory poaching', 'use captive breeding programs release elephants wild', 'expand areas national parks compensate moved parks']\n",
      "['breeding programmes stop hunting clone place protected areas sanction hunting']\n",
      "['provide larger conservation areas roam', 'improve life villagers near reserves make poaching less attractive', 'stop destroying building areas roam', 'bigger severe deterrents poaching', 'protection legislation natural grounds']\n",
      "['need make sure poachers cannot get security essential', 'make sure elephants breeding captivity stop extinction', 'need educate people happening maybe people aware possibility becoming extinct']\n",
      "['create reserves preserves', 'examine availability natural food sources', 'stiffer penalties poaching illegal hunting', 'intergovernmental cooperation treaties', 'relict populations translocated nature reserves zoos']\n",
      "['ban type elephant hunting', 'ban sale elephant products ivory placeholder2', 'identify previous people prosecuted elephant hunting', 'encourage safe places worldwide elephant breeding', 'country country co operation resolving problem']\n",
      "['rangers patrolling elephant areas', 'laws punish poachers', 'awareness problems']\n",
      "['breed elephants', 'make wildlife reserves', 'harsher laws poaching', 'farm elephants like cows', 'educate elephants']\n",
      "['captive breeding programmes followed release wild', 'split larger populations create reserve herds', 'enforce ban hunting', 'help local populations whose crops destroyed elephants want kill', 'careful monitoring global population']\n",
      "['ban practice hunting', 'reserves elephants', 'fines prison trophy hunters', 'funding repopulation']\n",
      "['campaign tv let people know', 'campaign social media', 'information happening make people aware', 'information source people hunting', 'information schools bring awareness']\n",
      "['resources game keepers', 'store elephant genetic material cloning programmes', 'invest local economy development incentivise livelihoods', 'international breeding programme zoo elephants', 'establish elephant sanctuaries']\n",
      "['strict laws punish people kill elephants', 'protecting habitats', 'breeding programme every country', 'educating people importance elephants protect habitat', 'cloning elephants']\n",
      "['ensure']\n",
      "['catching poachers', 'preserving habitat', 'rangers hand monitor protect poachers', 'stiffer penalties poachers knowingly purchasing contraband poached elephants']\n",
      "['allow surrounded nature areas']\n",
      "['killing', 'secure public cant get', 'take care planet']\n",
      "['keeping environment safe', 'keep track elephants', 'ensure help elephants injured', 'free elephants used work reproduce wild', 'tackle climate change keep elephants safe']\n",
      "['research elephant predators', 'research human interaction elephant', 'consider removing tusks', 'create good habitat', 'harsh treatment people harm elephants']\n",
      "['managing eradicating hunt elephants tusks', 'increase rangers areas elephants', 'increase breeding programmes zoos', 'tougher sentences poachers shoot elephants tusks', 'make world aware plight elephants']\n",
      "['wildlife protection zones warders', 'damage market ivory', 'breeding programes', 'protecting habitats elephants', 'providing medical support elephant population']\n",
      "['make nature reserves', 'pr0tect poachers', 'make ivory worthless item', 'protect desease', 'tag follow']\n",
      "['create sanctuaries favor breeding', 'control hunting elephants closely', 'increase penalties hunting killing hurting elephants', 'expand patrolling areas elephants naturally live human surveillance', 'artificially breeding elephants using dna real elephants']\n",
      "['making hunting completely illegal punishment life prison', 'educating poachers', 'criminalize western rich people hunting trips', 'make ivory less sexy', 'improve awareness elephant hunting west']\n",
      "['increase breeding programs', 'better education young', 'jail poachers', 'improve habitat']\n",
      "['law enforcement', 'anti corruption schemes laws exist already', 'international co operation intelligence sharing', 'artificial manufacturing ivory making elephant tusks less attractive']\n",
      "['put lots elephants zoos', 'strict policing poaching hunting', 'protection natural habitat', 'clone elephants store dna future', 'creating whole country island elephants']\n",
      "['guarded safe zones', 'higher penalties offenders', 'incentives locals help protect', 'incentives people snitch poachers']\n",
      "['stopping building terrirtory', 'educating local people work rangers', 'reducing rate ivory trade trophy hunting still happening', 'employing wardens']\n",
      "['less poaching', 'harsher sentences poachers', 'better protection', 'fertile environment elephants']\n",
      "['increase knowledge measures people go get tusks', 'breed elephants places care given', 'stop people killing elephants surveillance systems tracking', 'give greater care medication sick etc']\n",
      "['monitor threats', 'monitor hunter activity', 'consider environments', 'safer environments']\n",
      "['increase habitat corridors protection', 'protect wild spaces live', 'funding survival protection', 'increasing public knowledge', 'supporting staff trained protection']\n",
      "['funding security animals', 'harsh punishment hunter', 'support leading charity preserve lands', 'enough support zoo continue keep ext']\n",
      "['increase sexual reproduction animals zoos', 'harsher sentences poachers buy elephant tusks', 'educate people reality extinction', 'prosecute profit elephants called sancturies', 'create scheme impregnate lot female elephants']\n",
      "['ban ivory imports exports', 'try breed captivity', 'protected elephant colonies']\n"
     ]
    }
   ],
   "source": [
    "# This seems very plausible for the lemmatization.\n",
    "for a in new_dict.items(): \n",
    "    print(a[1])"
   ]
  },
  {
   "cell_type": "code",
   "execution_count": 20,
   "id": "9d45d0f6",
   "metadata": {},
   "outputs": [],
   "source": [
    "# Lemmatizer modules\n",
    "lemmatizer = WordNetLemmatizer()"
   ]
  },
  {
   "cell_type": "code",
   "execution_count": 21,
   "id": "6c14d92f",
   "metadata": {},
   "outputs": [],
   "source": [
    "for pair in new_dict.items():\n",
    "    new_dict[pair[0]] = [lemmatizer.lemmatize(answer) for answer in pair[1]]"
   ]
  },
  {
   "cell_type": "code",
   "execution_count": 22,
   "id": "b6f29e89",
   "metadata": {},
   "outputs": [],
   "source": [
    "result_df = pd.DataFrame.from_dict(new_dict, orient='index').T.stack()"
   ]
  },
  {
   "cell_type": "code",
   "execution_count": 23,
   "id": "754cb396",
   "metadata": {},
   "outputs": [],
   "source": [
    "result_df = result_df.reset_index(level=0, drop=True)"
   ]
  },
  {
   "cell_type": "code",
   "execution_count": 24,
   "id": "4d23df8b",
   "metadata": {},
   "outputs": [],
   "source": [
    "result_df = result_df.sort_index()"
   ]
  },
  {
   "cell_type": "code",
   "execution_count": 25,
   "id": "3019b707",
   "metadata": {},
   "outputs": [],
   "source": [
    "# Replace the df_1 with the dataframe containing processed data.\n",
    "df_3 = result_df"
   ]
  },
  {
   "cell_type": "code",
   "execution_count": 26,
   "id": "82ac5bfd",
   "metadata": {},
   "outputs": [],
   "source": [
    "df_3 = pd.DataFrame(df_3, columns = ['q3'])"
   ]
  },
  {
   "cell_type": "markdown",
   "id": "3f0d7eae",
   "metadata": {},
   "source": [
    "## Delete the empty value indices "
   ]
  },
  {
   "cell_type": "code",
   "execution_count": 27,
   "id": "94ba1f8e",
   "metadata": {},
   "outputs": [],
   "source": [
    "for i in range(len(df_3)): \n",
    "    if df_3['q3'].iloc[i] == '': \n",
    "        print(i)"
   ]
  },
  {
   "cell_type": "markdown",
   "id": "6a89aafb",
   "metadata": {},
   "source": [
    "## Embedding analysis"
   ]
  },
  {
   "cell_type": "code",
   "execution_count": 28,
   "id": "04eea54b",
   "metadata": {},
   "outputs": [],
   "source": [
    "# After 'expand', the column emb_ideas are stored as string -> np.array\n",
    "df_3_whole['emb_ideas'] = df_3_whole['emb_ideas'].apply(eval).apply(np.array)"
   ]
  },
  {
   "cell_type": "code",
   "execution_count": 29,
   "id": "9287e8d8",
   "metadata": {},
   "outputs": [],
   "source": [
    "# Extract the column needed for embedding analysis.\n",
    "emb_3 = df_3_whole[['PARTICIPANT_ID', 'emb_ideas']]"
   ]
  },
  {
   "cell_type": "code",
   "execution_count": 30,
   "id": "babaccf8",
   "metadata": {},
   "outputs": [],
   "source": [
    "emb_3 = emb_3.reset_index(drop = True)"
   ]
  },
  {
   "cell_type": "code",
   "execution_count": 31,
   "id": "65ea5431",
   "metadata": {},
   "outputs": [
    {
     "data": {
      "text/html": [
       "<div>\n",
       "<style scoped>\n",
       "    .dataframe tbody tr th:only-of-type {\n",
       "        vertical-align: middle;\n",
       "    }\n",
       "\n",
       "    .dataframe tbody tr th {\n",
       "        vertical-align: top;\n",
       "    }\n",
       "\n",
       "    .dataframe thead th {\n",
       "        text-align: right;\n",
       "    }\n",
       "</style>\n",
       "<table border=\"1\" class=\"dataframe\">\n",
       "  <thead>\n",
       "    <tr style=\"text-align: right;\">\n",
       "      <th></th>\n",
       "      <th>PARTICIPANT_ID</th>\n",
       "      <th>emb_ideas</th>\n",
       "    </tr>\n",
       "  </thead>\n",
       "  <tbody>\n",
       "    <tr>\n",
       "      <th>0</th>\n",
       "      <td>00278</td>\n",
       "      <td>[[0.03516001999378204, -0.004544570576399565, ...</td>\n",
       "    </tr>\n",
       "    <tr>\n",
       "      <th>1</th>\n",
       "      <td>0068d</td>\n",
       "      <td>[[0.010956131853163242, -0.004035493358969688,...</td>\n",
       "    </tr>\n",
       "    <tr>\n",
       "      <th>2</th>\n",
       "      <td>00f13</td>\n",
       "      <td>[[0.026723945513367653, 0.0026687385980039835,...</td>\n",
       "    </tr>\n",
       "    <tr>\n",
       "      <th>3</th>\n",
       "      <td>01cb6</td>\n",
       "      <td>[[0.004764847457408905, -0.013441885821521282,...</td>\n",
       "    </tr>\n",
       "    <tr>\n",
       "      <th>4</th>\n",
       "      <td>02670</td>\n",
       "      <td>[[0.01575230248272419, -0.011049142107367516, ...</td>\n",
       "    </tr>\n",
       "    <tr>\n",
       "      <th>...</th>\n",
       "      <td>...</td>\n",
       "      <td>...</td>\n",
       "    </tr>\n",
       "    <tr>\n",
       "      <th>294</th>\n",
       "      <td>f92a4</td>\n",
       "      <td>[[0.006696878932416439, 0.0011165362084284425,...</td>\n",
       "    </tr>\n",
       "    <tr>\n",
       "      <th>295</th>\n",
       "      <td>f9fd8</td>\n",
       "      <td>[[0.006908088456839323, -0.024523714557290077,...</td>\n",
       "    </tr>\n",
       "    <tr>\n",
       "      <th>296</th>\n",
       "      <td>fb2a2</td>\n",
       "      <td>[[0.02998393028974533, -0.004912570118904114, ...</td>\n",
       "    </tr>\n",
       "    <tr>\n",
       "      <th>297</th>\n",
       "      <td>fb9c4</td>\n",
       "      <td>[[0.051104817539453506, 0.005594604182988405, ...</td>\n",
       "    </tr>\n",
       "    <tr>\n",
       "      <th>298</th>\n",
       "      <td>ff2bf</td>\n",
       "      <td>[[-0.014726934023201466, -0.020951909944415092...</td>\n",
       "    </tr>\n",
       "  </tbody>\n",
       "</table>\n",
       "<p>299 rows × 2 columns</p>\n",
       "</div>"
      ],
      "text/plain": [
       "    PARTICIPANT_ID                                          emb_ideas\n",
       "0            00278  [[0.03516001999378204, -0.004544570576399565, ...\n",
       "1            0068d  [[0.010956131853163242, -0.004035493358969688,...\n",
       "2            00f13  [[0.026723945513367653, 0.0026687385980039835,...\n",
       "3            01cb6  [[0.004764847457408905, -0.013441885821521282,...\n",
       "4            02670  [[0.01575230248272419, -0.011049142107367516, ...\n",
       "..             ...                                                ...\n",
       "294          f92a4  [[0.006696878932416439, 0.0011165362084284425,...\n",
       "295          f9fd8  [[0.006908088456839323, -0.024523714557290077,...\n",
       "296          fb2a2  [[0.02998393028974533, -0.004912570118904114, ...\n",
       "297          fb9c4  [[0.051104817539453506, 0.005594604182988405, ...\n",
       "298          ff2bf  [[-0.014726934023201466, -0.020951909944415092...\n",
       "\n",
       "[299 rows x 2 columns]"
      ]
     },
     "execution_count": 31,
     "metadata": {},
     "output_type": "execute_result"
    }
   ],
   "source": [
    "emb_3"
   ]
  },
  {
   "cell_type": "code",
   "execution_count": 32,
   "id": "50eb692f",
   "metadata": {
    "scrolled": true
   },
   "outputs": [
    {
     "data": {
      "text/plain": [
       "numpy.ndarray"
      ]
     },
     "execution_count": 32,
     "metadata": {},
     "output_type": "execute_result"
    }
   ],
   "source": [
    "# check if the type change has been successful to be np.array\n",
    "type(emb_3['emb_ideas'][0])"
   ]
  },
  {
   "cell_type": "code",
   "execution_count": 33,
   "id": "e978f861",
   "metadata": {},
   "outputs": [],
   "source": [
    "emb_3 = emb_3.rename(columns = {'PARTICIPANT_ID': 'index', 'emb_ideas': 'q3_emb'})"
   ]
  },
  {
   "cell_type": "code",
   "execution_count": 34,
   "id": "8303e4c4",
   "metadata": {},
   "outputs": [
    {
     "data": {
      "text/html": [
       "<div>\n",
       "<style scoped>\n",
       "    .dataframe tbody tr th:only-of-type {\n",
       "        vertical-align: middle;\n",
       "    }\n",
       "\n",
       "    .dataframe tbody tr th {\n",
       "        vertical-align: top;\n",
       "    }\n",
       "\n",
       "    .dataframe thead th {\n",
       "        text-align: right;\n",
       "    }\n",
       "</style>\n",
       "<table border=\"1\" class=\"dataframe\">\n",
       "  <thead>\n",
       "    <tr style=\"text-align: right;\">\n",
       "      <th></th>\n",
       "      <th>index</th>\n",
       "      <th>q3_emb</th>\n",
       "    </tr>\n",
       "  </thead>\n",
       "  <tbody>\n",
       "    <tr>\n",
       "      <th>0</th>\n",
       "      <td>00278</td>\n",
       "      <td>[[0.03516001999378204, -0.004544570576399565, ...</td>\n",
       "    </tr>\n",
       "    <tr>\n",
       "      <th>1</th>\n",
       "      <td>0068d</td>\n",
       "      <td>[[0.010956131853163242, -0.004035493358969688,...</td>\n",
       "    </tr>\n",
       "    <tr>\n",
       "      <th>2</th>\n",
       "      <td>00f13</td>\n",
       "      <td>[[0.026723945513367653, 0.0026687385980039835,...</td>\n",
       "    </tr>\n",
       "    <tr>\n",
       "      <th>3</th>\n",
       "      <td>01cb6</td>\n",
       "      <td>[[0.004764847457408905, -0.013441885821521282,...</td>\n",
       "    </tr>\n",
       "    <tr>\n",
       "      <th>4</th>\n",
       "      <td>02670</td>\n",
       "      <td>[[0.01575230248272419, -0.011049142107367516, ...</td>\n",
       "    </tr>\n",
       "    <tr>\n",
       "      <th>...</th>\n",
       "      <td>...</td>\n",
       "      <td>...</td>\n",
       "    </tr>\n",
       "    <tr>\n",
       "      <th>294</th>\n",
       "      <td>f92a4</td>\n",
       "      <td>[[0.006696878932416439, 0.0011165362084284425,...</td>\n",
       "    </tr>\n",
       "    <tr>\n",
       "      <th>295</th>\n",
       "      <td>f9fd8</td>\n",
       "      <td>[[0.006908088456839323, -0.024523714557290077,...</td>\n",
       "    </tr>\n",
       "    <tr>\n",
       "      <th>296</th>\n",
       "      <td>fb2a2</td>\n",
       "      <td>[[0.02998393028974533, -0.004912570118904114, ...</td>\n",
       "    </tr>\n",
       "    <tr>\n",
       "      <th>297</th>\n",
       "      <td>fb9c4</td>\n",
       "      <td>[[0.051104817539453506, 0.005594604182988405, ...</td>\n",
       "    </tr>\n",
       "    <tr>\n",
       "      <th>298</th>\n",
       "      <td>ff2bf</td>\n",
       "      <td>[[-0.014726934023201466, -0.020951909944415092...</td>\n",
       "    </tr>\n",
       "  </tbody>\n",
       "</table>\n",
       "<p>299 rows × 2 columns</p>\n",
       "</div>"
      ],
      "text/plain": [
       "     index                                             q3_emb\n",
       "0    00278  [[0.03516001999378204, -0.004544570576399565, ...\n",
       "1    0068d  [[0.010956131853163242, -0.004035493358969688,...\n",
       "2    00f13  [[0.026723945513367653, 0.0026687385980039835,...\n",
       "3    01cb6  [[0.004764847457408905, -0.013441885821521282,...\n",
       "4    02670  [[0.01575230248272419, -0.011049142107367516, ...\n",
       "..     ...                                                ...\n",
       "294  f92a4  [[0.006696878932416439, 0.0011165362084284425,...\n",
       "295  f9fd8  [[0.006908088456839323, -0.024523714557290077,...\n",
       "296  fb2a2  [[0.02998393028974533, -0.004912570118904114, ...\n",
       "297  fb9c4  [[0.051104817539453506, 0.005594604182988405, ...\n",
       "298  ff2bf  [[-0.014726934023201466, -0.020951909944415092...\n",
       "\n",
       "[299 rows x 2 columns]"
      ]
     },
     "execution_count": 34,
     "metadata": {},
     "output_type": "execute_result"
    }
   ],
   "source": [
    "emb_3"
   ]
  },
  {
   "cell_type": "markdown",
   "id": "9241c3ef",
   "metadata": {},
   "source": [
    "### Aggregate within the dataframe first and then join together"
   ]
  },
  {
   "cell_type": "code",
   "execution_count": 35,
   "id": "d35ded7b",
   "metadata": {
    "scrolled": true
   },
   "outputs": [],
   "source": [
    "# question 3\n",
    "df = emb_3[['index', 'q3_emb']]\n",
    "\n",
    "# Flatten the embedding 5 * 1536 -> 1 * 1536\n",
    "df['q3_emb'] = df['q3_emb'].apply(np.mean, axis = 0)\n",
    "emb_3 = df.reset_index(drop = True)\n",
    "\n",
    "emb_3 = emb_3.rename(columns = {'q3_emb': 'q3'})"
   ]
  },
  {
   "cell_type": "markdown",
   "id": "9c072581",
   "metadata": {},
   "source": [
    "## Analysis within question"
   ]
  },
  {
   "cell_type": "markdown",
   "id": "30964664",
   "metadata": {},
   "source": [
    "### Question 3\n",
    "\"How could we prevent the extinction of the elephant?\""
   ]
  },
  {
   "cell_type": "code",
   "execution_count": 36,
   "id": "0e6f7744",
   "metadata": {},
   "outputs": [
    {
     "data": {
      "text/plain": [
       "(299, 1536)"
      ]
     },
     "execution_count": 36,
     "metadata": {},
     "output_type": "execute_result"
    }
   ],
   "source": [
    "# convert list to numpy array to make an input to embeddings\n",
    "emb_3['q3'] = emb_3['q3'].apply(np.array)  \n",
    "matrix = np.vstack(emb_3['q3'].values)\n",
    "matrix.shape"
   ]
  },
  {
   "cell_type": "code",
   "execution_count": 37,
   "id": "2fc782c9",
   "metadata": {},
   "outputs": [],
   "source": [
    "X = matrix.copy()"
   ]
  },
  {
   "cell_type": "markdown",
   "id": "e719daad",
   "metadata": {},
   "source": [
    "## Dimensionality reduction (umap)"
   ]
  },
  {
   "cell_type": "code",
   "execution_count": 41,
   "id": "01687adf",
   "metadata": {},
   "outputs": [],
   "source": [
    "from sklearn.cluster import KMeans\n",
    "from sklearn import metrics\n",
    "from sklearn.metrics import silhouette_score, calinski_harabasz_score, davies_bouldin_score\n",
    "from scipy.spatial.distance import cdist\n",
    "import matplotlib.pyplot as plt\n",
    "from umap import UMAP"
   ]
  },
  {
   "cell_type": "code",
   "execution_count": 42,
   "id": "866eb7eb",
   "metadata": {
    "scrolled": true
   },
   "outputs": [],
   "source": [
    "# Step 1: Normalize the data\n",
    "from sklearn.preprocessing import StandardScaler\n",
    "normalized_embeddings = StandardScaler().fit_transform(X)"
   ]
  },
  {
   "cell_type": "code",
   "execution_count": 43,
   "id": "d5b7622e",
   "metadata": {},
   "outputs": [],
   "source": [
    "# Step 2: Apply UMAP for dimensionality reduction\n",
    "umap_model = UMAP(n_neighbors=10, min_dist=0.1, n_components=2, random_state = 42)\n",
    "umap_embeddings = umap_model.fit_transform(normalized_embeddings)\n",
    "X = umap_embeddings.copy()"
   ]
  },
  {
   "cell_type": "code",
   "execution_count": 44,
   "id": "41b26b20",
   "metadata": {
    "scrolled": true
   },
   "outputs": [],
   "source": [
    "# Step 3: Use silhouette score to find optimal number of clusters\n",
    "silhouette_scores = []\n",
    "for num_clusters in range(2, 11):\n",
    "    kmeans = KMeans(n_clusters=num_clusters, random_state=0)\n",
    "    cluster_labels = kmeans.fit_predict(X)\n",
    "    silhouette_scores.append(silhouette_score(X, cluster_labels))\n",
    "\n",
    "optimal_num_clusters = silhouette_scores.index(max(silhouette_scores)) + 2"
   ]
  },
  {
   "cell_type": "markdown",
   "id": "621b75af",
   "metadata": {},
   "source": [
    "The last line derives from the fact that silhouette score is calculated from the num_cluster 2, so therefore if retrieving index of the lists, the first element's index is 0 but it indicates the value of num_cluster 2, therefore +2 would make it easier to retrieve the value. \n"
   ]
  },
  {
   "cell_type": "code",
   "execution_count": 45,
   "id": "af186b1b",
   "metadata": {
    "scrolled": true
   },
   "outputs": [
    {
     "data": {
      "text/plain": [
       "2"
      ]
     },
     "execution_count": 45,
     "metadata": {},
     "output_type": "execute_result"
    }
   ],
   "source": [
    "optimal_num_clusters"
   ]
  },
  {
   "cell_type": "code",
   "execution_count": 46,
   "id": "e4f720fc",
   "metadata": {
    "scrolled": false
   },
   "outputs": [],
   "source": [
    "# Use Elbow-analysis as well to find optimal number of clusters\n",
    "# Elbow analysis\n",
    "distortions = []\n",
    "inertias = []\n",
    "mapping1 = {}\n",
    "mapping2 = {}\n",
    "K = range(1, 20)\n",
    "\n",
    "for k in K:\n",
    "    # Building and fitting the model\n",
    "    kmeanModel = KMeans(n_clusters=k).fit(X)\n",
    "    kmeanModel.fit(X)\n",
    "    distortions.append(np.sum(np.min(cdist(X, kmeanModel.cluster_centers_, 'euclidean'), axis=1)) / X.shape[0])\n",
    "    inertias.append(kmeanModel.inertia_)\n",
    "\n",
    "    mapping1[k] = np.sum(np.min(cdist(X, kmeanModel.cluster_centers_,\n",
    "                                   'euclidean'), axis=1)) / X.shape[0]\n",
    "    mapping2[k] = kmeanModel.inertia_"
   ]
  },
  {
   "cell_type": "code",
   "execution_count": 47,
   "id": "7d6afe70",
   "metadata": {
    "scrolled": true
   },
   "outputs": [
    {
     "data": {
      "image/png": "[encoded data removed]",
      "text/plain": [
       "<Figure size 1200x400 with 2 Axes>"
      ]
     },
     "metadata": {},
     "output_type": "display_data"
    }
   ],
   "source": [
    "# Create a figure with subplots\n",
    "fig, (ax1, ax2) = plt.subplots(1, 2, figsize=(12, 4))  # Adjust figsize as needed\n",
    "\n",
    "# Plot the first plot on ax1\n",
    "ax1.plot(K, distortions, 'bx-')\n",
    "ax1.set_xlabel('Values of_K')\n",
    "ax1.set_ylabel('Distortion')\n",
    "ax1.set_title('The Elbow Method using Distortion')\n",
    "\n",
    "\n",
    "# Plot the second plot on ax2\n",
    "ax2.plot(K, inertias, 'bx-')\n",
    "ax2.set_xlabel('Values of_K')\n",
    "ax2.set_ylabel('Inertia')\n",
    "ax2.set_title('The Elbow Method using Inertia')\n",
    "\n",
    "# Adjust layout to prevent overlap\n",
    "plt.tight_layout()\n",
    "\n",
    "# Display the plots\n",
    "plt.show()"
   ]
  },
  {
   "cell_type": "markdown",
   "id": "be32b423",
   "metadata": {},
   "source": [
    "Define the number of clusters for the clustering method combining the result of the graphs and the value of variable optimal_num_clusters"
   ]
  },
  {
   "cell_type": "markdown",
   "id": "7eaf4de3",
   "metadata": {},
   "source": [
    "## KMeans clustering"
   ]
  },
  {
   "cell_type": "code",
   "execution_count": 48,
   "id": "4a78f2ff",
   "metadata": {
    "scrolled": false
   },
   "outputs": [],
   "source": [
    "# Step 4: Perform final clustering\n",
    "final_kmeans = KMeans(n_clusters=4, random_state=0) # random_state fixed to 0, n_cluster changed\n",
    "final_cluster_labels = final_kmeans.fit_predict(X)\n",
    "\n",
    "# Save the result of clustering with random state 0 as a dataframe column\n",
    "emb_3['label'] = final_cluster_labels  "
   ]
  },
  {
   "cell_type": "code",
   "execution_count": 49,
   "id": "9535ff9e",
   "metadata": {},
   "outputs": [
    {
     "data": {
      "image/png": "[encoded data removed]",
      "text/plain": [
       "<Figure size 640x480 with 2 Axes>"
      ]
     },
     "metadata": {},
     "output_type": "display_data"
    }
   ],
   "source": [
    "# Visualize clustering depending on different random states.\n",
    "figures = [] # list to hold different figures. \n",
    "\n",
    "fig1, ax1 = plt.subplots()\n",
    "scatter = ax1.scatter(X[:, 0], X[:, 1], c=final_cluster_labels, cmap='viridis')\n",
    "ax1.set_xlabel('UMAP Dimension 1')\n",
    "ax1.set_ylabel('UMAP Dimension 2')\n",
    "ax1.set_title('UMAP Visualization of Text Clusters')\n",
    "\n",
    "colorbar = plt.colorbar(scatter, ax=ax1)\n",
    "colorbar.set_label('Cluster Label')\n",
    "\n",
    "figures.append(fig1)"
   ]
  },
  {
   "cell_type": "code",
   "execution_count": 50,
   "id": "5d1906f7",
   "metadata": {
    "scrolled": true
   },
   "outputs": [
    {
     "name": "stdout",
     "output_type": "stream",
     "text": [
      "\n",
      "\"Question 3\"\n",
      "\n",
      "Silhouette Coefficient: 0.3769693076610565\n",
      "Calinski-Harabasz Index: 314.45299131521193\n",
      "Davies-Bouldin Index: 1.0603526498356466\n"
     ]
    }
   ],
   "source": [
    "# Cluster labels obtained from clustering algorithm\n",
    "\n",
    "final_cluster_labels # cluster_labels_from_bert\n",
    "X # contextualized tokens of the input texts.\n",
    "\n",
    "# Specify the question that is addressed. \n",
    "print(\"\\n\\\"Question 3\\\"\\n\")\n",
    "\n",
    "# Calculate Silhouette Coefficient\n",
    "silhouette = silhouette_score(X, final_cluster_labels)\n",
    "print(f\"Silhouette Coefficient: {silhouette}\")\n",
    "\n",
    "# Calculate Calinski-Harabasz Index\n",
    "calinski = calinski_harabasz_score(X, final_cluster_labels)\n",
    "print(f\"Calinski-Harabasz Index: {calinski}\")\n",
    "\n",
    "# Calculate Davies-Bouldin Index\n",
    "davies_bouldin = davies_bouldin_score(X, final_cluster_labels)\n",
    "print(f\"Davies-Bouldin Index: {davies_bouldin}\")"
   ]
  },
  {
   "cell_type": "code",
   "execution_count": null,
   "id": "683fd879",
   "metadata": {},
   "outputs": [],
   "source": []
  },
  {
   "cell_type": "code",
   "execution_count": null,
   "id": "0d6e4dbd",
   "metadata": {},
   "outputs": [],
   "source": []
  },
  {
   "cell_type": "code",
   "execution_count": null,
   "id": "f73f8183",
   "metadata": {},
   "outputs": [],
   "source": []
  },
  {
   "cell_type": "code",
   "execution_count": null,
   "id": "ce62c043",
   "metadata": {},
   "outputs": [],
   "source": []
  },
  {
   "cell_type": "code",
   "execution_count": null,
   "id": "c19c3b1d",
   "metadata": {},
   "outputs": [],
   "source": []
  }
 ],
 "metadata": {
  "kernelspec": {
   "display_name": "Kim - 1st Custom Python environment",
   "language": "python",
   "name": "my-python-env"
  },
  "language_info": {
   "codemirror_mode": {
    "name": "ipython",
    "version": 3
   },
   "file_extension": ".py",
   "mimetype": "text/x-python",
   "name": "python",
   "nbconvert_exporter": "python",
   "pygments_lexer": "ipython3",
   "version": "3.9.12"
  }
 },
 "nbformat": 4,
 "nbformat_minor": 5
}
