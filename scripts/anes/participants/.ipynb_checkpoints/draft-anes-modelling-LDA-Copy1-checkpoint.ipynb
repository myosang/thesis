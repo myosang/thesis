{
 "cells": [
  {
   "cell_type": "markdown",
   "id": "d19f5f6b",
   "metadata": {},
   "source": [
    "# LDA"
   ]
  },
  {
   "cell_type": "code",
   "execution_count": 1,
   "id": "deef353c",
   "metadata": {},
   "outputs": [],
   "source": [
    "import pandas as pd\n",
    "import numpy as np\n",
    "import os"
   ]
  },
  {
   "cell_type": "code",
   "execution_count": 2,
   "id": "b49e2504",
   "metadata": {},
   "outputs": [],
   "source": [
    "from gensim.corpora import Dictionary\n",
    "from gensim.models.ldamodel import LdaModel\n",
    "from sklearn.feature_extraction.text import CountVectorizer"
   ]
  },
  {
   "cell_type": "markdown",
   "id": "f13329d7",
   "metadata": {},
   "source": [
    "## Participant-based analysis\n",
    "### 1. Dataset: Aggregate the LDA results of each mention 1,2,3\n",
    "### * with BOW"
   ]
  },
  {
   "cell_type": "code",
   "execution_count": 3,
   "id": "8354fff0",
   "metadata": {},
   "outputs": [],
   "source": [
    "m1 = pd.read_json('~/thesis/data/processed_uscensus/political_mention1.jsonl', orient='index')\n",
    "m2 = pd.read_json('~/thesis/data/processed_uscensus/political_mention2.jsonl', orient = 'index')\n",
    "m3 = pd.read_json('~/thesis/data/processed_uscensus/political_mention3.jsonl', orient = 'index')"
   ]
  },
  {
   "cell_type": "code",
   "execution_count": 4,
   "id": "41b2518c",
   "metadata": {},
   "outputs": [
    {
     "data": {
      "text/html": [
       "<div>\n",
       "<style scoped>\n",
       "    .dataframe tbody tr th:only-of-type {\n",
       "        vertical-align: middle;\n",
       "    }\n",
       "\n",
       "    .dataframe tbody tr th {\n",
       "        vertical-align: top;\n",
       "    }\n",
       "\n",
       "    .dataframe thead th {\n",
       "        text-align: right;\n",
       "    }\n",
       "</style>\n",
       "<table border=\"1\" class=\"dataframe\">\n",
       "  <thead>\n",
       "    <tr style=\"text-align: right;\">\n",
       "      <th></th>\n",
       "      <th>mention1</th>\n",
       "    </tr>\n",
       "  </thead>\n",
       "  <tbody>\n",
       "    <tr>\n",
       "      <th>200015</th>\n",
       "      <td>racim blacks whites false information</td>\n",
       "    </tr>\n",
       "    <tr>\n",
       "      <th>200022</th>\n",
       "      <td>coming together country</td>\n",
       "    </tr>\n",
       "    <tr>\n",
       "      <th>200039</th>\n",
       "      <td>severe political polarization allow compromise...</td>\n",
       "    </tr>\n",
       "    <tr>\n",
       "      <th>200046</th>\n",
       "      <td>pandemic covid 19</td>\n",
       "    </tr>\n",
       "    <tr>\n",
       "      <th>200053</th>\n",
       "      <td>globalism fake covid law order blm public educ...</td>\n",
       "    </tr>\n",
       "  </tbody>\n",
       "</table>\n",
       "</div>"
      ],
      "text/plain": [
       "                                                 mention1\n",
       "200015              racim blacks whites false information\n",
       "200022                            coming together country\n",
       "200039  severe political polarization allow compromise...\n",
       "200046                                  pandemic covid 19\n",
       "200053  globalism fake covid law order blm public educ..."
      ]
     },
     "execution_count": 4,
     "metadata": {},
     "output_type": "execute_result"
    }
   ],
   "source": [
    "m1.head(5)"
   ]
  },
  {
   "cell_type": "code",
   "execution_count": 5,
   "id": "1a7b9ca1",
   "metadata": {},
   "outputs": [],
   "source": [
    "# Step 1: Prepare the data for LDA without concatenating\n",
    "texts1 = m1['mention1'].apply(lambda x: x.split())\n",
    "texts2 = m2['mention2'].apply(lambda x: x.split())\n",
    "texts3 = m3['mention3'].apply(lambda x: x.split())"
   ]
  },
  {
   "cell_type": "code",
   "execution_count": 6,
   "id": "a6087f27",
   "metadata": {
    "scrolled": false
   },
   "outputs": [
    {
     "data": {
      "text/plain": [
       "200015          [racim, blacks, whites, false, information]\n",
       "200022                          [coming, together, country]\n",
       "200039    [severe, political, polarization, allow, compr...\n",
       "200046                                [pandemic, covid, 19]\n",
       "200053    [globalism, fake, covid, law, order, blm, publ...\n",
       "Name: mention1, dtype: object"
      ]
     },
     "execution_count": 6,
     "metadata": {},
     "output_type": "execute_result"
    }
   ],
   "source": [
    "# see what's inside the texts1\n",
    "texts1[:5]"
   ]
  },
  {
   "cell_type": "code",
   "execution_count": 7,
   "id": "7fd61f68",
   "metadata": {},
   "outputs": [],
   "source": [
    "# Create dictionaries and corpora for each column\n",
    "dictionary1 = Dictionary(texts1)\n",
    "dictionary2 = Dictionary(texts2)\n",
    "dictionary3 = Dictionary(texts3)\n",
    "\n",
    "corpus1 = [dictionary1.doc2bow(text) for text in texts1]\n",
    "corpus2 = [dictionary2.doc2bow(text) for text in texts2]\n",
    "corpus3 = [dictionary3.doc2bow(text) for text in texts3]\n",
    "\n",
    "# Step 2: Combine corpora and dictionaries\n",
    "# Note: In real application, ensure dictionaries are aligned or use a shared dictionary\n",
    "combined_corpus = corpus1 + corpus2 + corpus3\n",
    "combined_dictionary = Dictionary(list(texts1) + list(texts2) + list(texts3))"
   ]
  },
  {
   "cell_type": "code",
   "execution_count": 8,
   "id": "ff547ef7",
   "metadata": {},
   "outputs": [],
   "source": [
    "# Assume we have 10 topics\n",
    "num_topics = 6"
   ]
  },
  {
   "cell_type": "code",
   "execution_count": 9,
   "id": "63c31b80",
   "metadata": {},
   "outputs": [],
   "source": [
    "# Step 3: Apply LDA\n",
    "lda_model = LdaModel(corpus=combined_corpus, num_topics= num_topics, id2word=combined_dictionary, passes=10)"
   ]
  },
  {
   "cell_type": "code",
   "execution_count": 10,
   "id": "085481ba",
   "metadata": {},
   "outputs": [],
   "source": [
    "# Step 4: Get topic distribution for each document\n",
    "topic_distributions1 = [lda_model.get_document_topics(bow, minimum_probability=0.0) for bow in corpus1]\n",
    "topic_distributions2 = [lda_model.get_document_topics(bow, minimum_probability=0.0) for bow in corpus2]\n",
    "topic_distributions3 = [lda_model.get_document_topics(bow, minimum_probability=0.0) for bow in corpus3]"
   ]
  },
  {
   "cell_type": "code",
   "execution_count": 11,
   "id": "aa8fba25",
   "metadata": {
    "scrolled": true
   },
   "outputs": [
    {
     "name": "stdout",
     "output_type": "stream",
     "text": [
      "    index                                          response1  \\\n",
      "0  200015              racim blacks whites false information   \n",
      "1  200022                            coming together country   \n",
      "2  200039  severe political polarization allow compromise...   \n",
      "3  200046                                  pandemic covid 19   \n",
      "4  200053  globalism fake covid law order blm public educ...   \n",
      "\n",
      "                                           response2  \\\n",
      "0                                                      \n",
      "1                                                      \n",
      "2                             affordable health care   \n",
      "3                unemployment lot people lossing job   \n",
      "4  globalism fake covid socialism public educatio...   \n",
      "\n",
      "                    response3  \n",
      "0                              \n",
      "1                              \n",
      "2             systemic racism  \n",
      "3            health insurance  \n",
      "4  soros gates ruling country  \n"
     ]
    }
   ],
   "source": [
    "# Step 2: Concatenate the DataFrames horizontally\n",
    "combined_df = pd.concat([m1, m2, m3], axis=1)\n",
    "\n",
    "# Step 1: Handle NaN values by filling with an empty string\n",
    "combined_df.fillna('', inplace=True)\n",
    "\n",
    "# Rename the columns if needed\n",
    "combined_df.columns = ['response1', 'response2', 'response3']\n",
    "\n",
    "# Reset index if you want to keep 'participant_id' as a regular column\n",
    "combined_df.reset_index(inplace=True)\n",
    "\n",
    "# Now you have a single DataFrame with columns: 'participant_id', 'response1', 'response2', 'response3'\n",
    "print(combined_df.head())"
   ]
  },
  {
   "cell_type": "code",
   "execution_count": 12,
   "id": "df67175e",
   "metadata": {},
   "outputs": [],
   "source": [
    "import numpy as np\n",
    "\n",
    "# num_topics\n",
    "num_topics\n",
    "\n",
    "# Step 5: Aggregate topic distributions for each participant\n",
    "aggregated_topic_distributions = []\n",
    "\n",
    "# Ensure all participants are accounted for by using a loop over the total number of participants\n",
    "for i in range(len(combined_df)):\n",
    "    # Get topic distributions for each response, fill with zeros if missing\n",
    "    dist1 = topic_distributions1[i] if i < len(topic_distributions1) else [(topic_id, 0.0) for topic_id in range(num_topics)]\n",
    "    dist2 = topic_distributions2[i] if i < len(topic_distributions2) else [(topic_id, 0.0) for topic_id in range(num_topics)]\n",
    "    dist3 = topic_distributions3[i] if i < len(topic_distributions3) else [(topic_id, 0.0) for topic_id in range(num_topics)]\n",
    "    \n",
    "    # Initialize aggregation\n",
    "    aggregated = np.zeros(num_topics)\n",
    "    \n",
    "    # Aggregate the topic probabilities from the three distributions\n",
    "    for topic_id, prob in dist1:\n",
    "        aggregated[topic_id] += prob\n",
    "    for topic_id, prob in dist2:\n",
    "        aggregated[topic_id] += prob\n",
    "    for topic_id, prob in dist3:\n",
    "        aggregated[topic_id] += prob\n",
    "    \n",
    "    aggregated_topic_distributions.append(aggregated)\n",
    "\n",
    "# Convert to DataFrame\n",
    "aggregated_topic_df = pd.DataFrame(aggregated_topic_distributions, columns=[f'Topic_{i}' for i in range(num_topics)])"
   ]
  },
  {
   "cell_type": "code",
   "execution_count": 13,
   "id": "3635facb",
   "metadata": {},
   "outputs": [
    {
     "data": {
      "text/plain": [
       "7300"
      ]
     },
     "execution_count": 13,
     "metadata": {},
     "output_type": "execute_result"
    }
   ],
   "source": [
    "len(aggregated_topic_df)"
   ]
  },
  {
   "cell_type": "code",
   "execution_count": 14,
   "id": "60e8a782",
   "metadata": {},
   "outputs": [],
   "source": [
    "# Ensure the length of the DataFrame matches the number of participants\n",
    "assert len(aggregated_topic_df) == len(combined_df)\n",
    "\n",
    "# Optionally, join this back to the combined_df for further analysis\n",
    "combined_df = pd.concat([combined_df, aggregated_topic_df], axis=1)"
   ]
  },
  {
   "cell_type": "code",
   "execution_count": 15,
   "id": "1ed6fc07",
   "metadata": {},
   "outputs": [
    {
     "data": {
      "text/html": [
       "<div>\n",
       "<style scoped>\n",
       "    .dataframe tbody tr th:only-of-type {\n",
       "        vertical-align: middle;\n",
       "    }\n",
       "\n",
       "    .dataframe tbody tr th {\n",
       "        vertical-align: top;\n",
       "    }\n",
       "\n",
       "    .dataframe thead th {\n",
       "        text-align: right;\n",
       "    }\n",
       "</style>\n",
       "<table border=\"1\" class=\"dataframe\">\n",
       "  <thead>\n",
       "    <tr style=\"text-align: right;\">\n",
       "      <th></th>\n",
       "      <th>index</th>\n",
       "      <th>response1</th>\n",
       "      <th>response2</th>\n",
       "      <th>response3</th>\n",
       "      <th>Topic_0</th>\n",
       "      <th>Topic_1</th>\n",
       "      <th>Topic_2</th>\n",
       "      <th>Topic_3</th>\n",
       "      <th>Topic_4</th>\n",
       "      <th>Topic_5</th>\n",
       "    </tr>\n",
       "  </thead>\n",
       "  <tbody>\n",
       "    <tr>\n",
       "      <th>0</th>\n",
       "      <td>200015</td>\n",
       "      <td>racim blacks whites false information</td>\n",
       "      <td></td>\n",
       "      <td></td>\n",
       "      <td>0.125048</td>\n",
       "      <td>0.125001</td>\n",
       "      <td>0.125001</td>\n",
       "      <td>2.374914</td>\n",
       "      <td>0.125036</td>\n",
       "      <td>0.125001</td>\n",
       "    </tr>\n",
       "    <tr>\n",
       "      <th>1</th>\n",
       "      <td>200022</td>\n",
       "      <td>coming together country</td>\n",
       "      <td></td>\n",
       "      <td></td>\n",
       "      <td>1.252974</td>\n",
       "      <td>0.125007</td>\n",
       "      <td>0.125028</td>\n",
       "      <td>1.243884</td>\n",
       "      <td>0.126378</td>\n",
       "      <td>0.126729</td>\n",
       "    </tr>\n",
       "    <tr>\n",
       "      <th>2</th>\n",
       "      <td>200039</td>\n",
       "      <td>severe political polarization allow compromise...</td>\n",
       "      <td>affordable health care</td>\n",
       "      <td>systemic racism</td>\n",
       "      <td>1.144104</td>\n",
       "      <td>0.717913</td>\n",
       "      <td>0.202990</td>\n",
       "      <td>0.777416</td>\n",
       "      <td>0.078618</td>\n",
       "      <td>0.078960</td>\n",
       "    </tr>\n",
       "    <tr>\n",
       "      <th>3</th>\n",
       "      <td>200046</td>\n",
       "      <td>pandemic covid 19</td>\n",
       "      <td>unemployment lot people lossing job</td>\n",
       "      <td>health insurance</td>\n",
       "      <td>0.199181</td>\n",
       "      <td>0.353539</td>\n",
       "      <td>1.670905</td>\n",
       "      <td>0.377958</td>\n",
       "      <td>0.310373</td>\n",
       "      <td>0.088044</td>\n",
       "    </tr>\n",
       "    <tr>\n",
       "      <th>4</th>\n",
       "      <td>200053</td>\n",
       "      <td>globalism fake covid law order blm public educ...</td>\n",
       "      <td>globalism fake covid socialism public educatio...</td>\n",
       "      <td>soros gates ruling country</td>\n",
       "      <td>0.077386</td>\n",
       "      <td>0.077652</td>\n",
       "      <td>0.747757</td>\n",
       "      <td>0.077692</td>\n",
       "      <td>1.942068</td>\n",
       "      <td>0.077445</td>\n",
       "    </tr>\n",
       "  </tbody>\n",
       "</table>\n",
       "</div>"
      ],
      "text/plain": [
       "    index                                          response1  \\\n",
       "0  200015              racim blacks whites false information   \n",
       "1  200022                            coming together country   \n",
       "2  200039  severe political polarization allow compromise...   \n",
       "3  200046                                  pandemic covid 19   \n",
       "4  200053  globalism fake covid law order blm public educ...   \n",
       "\n",
       "                                           response2  \\\n",
       "0                                                      \n",
       "1                                                      \n",
       "2                             affordable health care   \n",
       "3                unemployment lot people lossing job   \n",
       "4  globalism fake covid socialism public educatio...   \n",
       "\n",
       "                    response3   Topic_0   Topic_1   Topic_2   Topic_3  \\\n",
       "0                              0.125048  0.125001  0.125001  2.374914   \n",
       "1                              1.252974  0.125007  0.125028  1.243884   \n",
       "2             systemic racism  1.144104  0.717913  0.202990  0.777416   \n",
       "3            health insurance  0.199181  0.353539  1.670905  0.377958   \n",
       "4  soros gates ruling country  0.077386  0.077652  0.747757  0.077692   \n",
       "\n",
       "    Topic_4   Topic_5  \n",
       "0  0.125036  0.125001  \n",
       "1  0.126378  0.126729  \n",
       "2  0.078618  0.078960  \n",
       "3  0.310373  0.088044  \n",
       "4  1.942068  0.077445  "
      ]
     },
     "execution_count": 15,
     "metadata": {},
     "output_type": "execute_result"
    }
   ],
   "source": [
    "combined_df.head()"
   ]
  },
  {
   "cell_type": "code",
   "execution_count": 16,
   "id": "71ffba95",
   "metadata": {},
   "outputs": [],
   "source": [
    "# Extract top words for each topic\n",
    "top_words_per_topic = []\n",
    "for t in range(num_topics):\n",
    "    top_words = [word for word, _ in lda_model.show_topic(t, topn=20)]\n",
    "    top_words_per_topic.append(top_words)"
   ]
  },
  {
   "cell_type": "markdown",
   "id": "2b3975dd",
   "metadata": {},
   "source": [
    "### Visualize the result of topic modelling"
   ]
  },
  {
   "cell_type": "code",
   "execution_count": 17,
   "id": "5ed595da",
   "metadata": {},
   "outputs": [
    {
     "data": {
      "text/html": [
       "\n",
       "<link rel=\"stylesheet\" type=\"text/css\" href=\"https://cdn.jsdelivr.net/gh/bmabey/pyLDAvis@3.4.0/pyLDAvis/js/ldavis.v1.0.0.css\">\n",
       "\n",
       "\n",
       "<div id=\"ldavis_el23566851407165021294562970532069\" style=\"background-color:white;\"></div>\n",
       "<script type=\"text/javascript\">\n",
       "\n",
       "var ldavis_el23566851407165021294562970532069_data = {\"mdsDat\": {\"x\": [0.014409641104220753, -0.11997703021871169, -0.16144147492332384, 0.07846446200535498, 0.12951615635776498, 0.059028245674694814], \"y\": [-0.05260489400423005, 0.17054988347937045, -0.13880551076691455, -0.01076857187846744, -0.031366228342603816, 0.06299532151284548], \"topics\": [1, 2, 3, 4, 5, 6], \"cluster\": [1, 1, 1, 1, 1, 1], \"Freq\": [26.369016695946357, 17.48343118379163, 16.290815458224433, 14.666182860030608, 14.405358710985173, 10.785195091021798]}, \"tinfo\": {\"Term\": [\"covid\", \"economy\", \"racism\", \"pandemic\", \"climate\", \"health\", \"immigration\", \"change\", \"unemployment\", \"virus\", \"care\", \"inequality\", \"racial\", \"media\", \"systemic\", \"global\", \"warming\", \"election\", \"education\", \"corona\", \"socialism\", \"police\", \"country\", \"illegal\", \"jobs\", \"national\", \"divided\", \"healthcare\", \"coronavirus\", \"political\", \"none\", \"know\", \"back\", \"dont\", \"bring\", \"kids\", \"joe\", \"biden\", \"would\", \"want\", \"anything\", \"teaching\", \"get\", \"nothing\", \"seriously\", \"god\", \"mask\", \"hope\", \"work\", \"actually\", \"rid\", \"afford\", \"wearing\", \"able\", \"trade\", \"let\", \"come\", \"got\", \"else\", \"even\", \"take\", \"china\", \"time\", \"better\", \"countries\", \"make\", \"things\", \"think\", \"usa\", \"need\", \"help\", \"people\", \"president\", \"going\", \"getting\", \"children\", \"many\", \"like\", \"country\", \"world\", \"money\", \"one\", \"us\", \"problem\", \"covid\", \"trump\", \"economy\", \"jobs\", \"needs\", \"warming\", \"inequality\", \"disparity\", \"global\", \"injustice\", \"climate\", \"wealth\", \"brutality\", \"income\", \"gap\", \"change\", \"racial\", \"environmental\", \"environment\", \"recovery\", \"defunding\", \"class\", \"housing\", \"relations\", \"gender\", \"equality\", \"equity\", \"tensions\", \"supremacy\", \"sexism\", \"enforcement\", \"justice\", \"systematic\", \"inequity\", \"education\", \"poverty\", \"rich\", \"homelessness\", \"wage\", \"healthcare\", \"economic\", \"police\", \"poor\", \"law\", \"middle\", \"race\", \"lack\", \"issues\", \"social\", \"racism\", \"system\", \"corona\", \"response\", \"unemployment\", \"virus\", \"cure\", \"businesses\", \"recession\", \"small\", \"coronavirus\", \"economy\", \"pandemic\", \"rate\", \"health\", \"unemployed\", \"closing\", \"care\", \"covid\", \"deaths\", \"finding\", \"vaccine\", \"insurance\", \"shutdown\", \"handling\", \"lockdowns\", \"coverage\", \"rates\", \"shutdowns\", \"shutting\", \"business\", \"stimulus\", \"jobs\", \"due\", \"shut\", \"keeping\", \"control\", \"getting\", \"high\", \"affordable\", \"people\", \"economic\", \"job\", \"need\", \"lack\", \"healthcare\", \"many\", \"divided\", \"illegal\", \"limits\", \"rioting\", \"gun\", \"unrest\", \"immigration\", \"violence\", \"freedom\", \"hatred\", \"unity\", \"aliens\", \"already\", \"relationships\", \"religious\", \"policy\", \"authority\", \"theories\", \"dangerous\", \"divide\", \"hate\", \"conspiracy\", \"term\", \"looting\", \"fighting\", \"speech\", \"epidemic\", \"divisiveness\", \"split\", \"misinformation\", \"among\", \"biggest\", \"facing\", \"immigrants\", \"nation\", \"civil\", \"country\", \"problem\", \"democracy\", \"groups\", \"division\", \"congress\", \"crime\", \"trump\", \"control\", \"political\", \"people\", \"covid\", \"lack\", \"social\", \"racism\", \"fraud\", \"voter\", \"la\", \"el\", \"deficit\", \"election\", \"tech\", \"corruption\", \"que\", \"de\", \"voting\", \"cheating\", \"censorship\", \"news\", \"spending\", \"terrorism\", \"transition\", \"integrity\", \"en\", \"reporting\", \"dishonest\", \"media\", \"polarization\", \"las\", \"matter\", \"presidential\", \"suppression\", \"racismo\", \"influence\", \"results\", \"national\", \"blm\", \"debt\", \"lives\", \"political\", \"power\", \"party\", \"government\", \"federal\", \"politicians\", \"democratic\", \"division\", \"black\", \"parties\", \"leadership\", \"democrats\", \"big\", \"people\", \"social\", \"much\", \"lack\", \"abortion\", \"trafficking\", \"systemic\", \"border\", \"court\", \"supreme\", \"treated\", \"homeless\", \"socialism\", \"hungry\", \"color\", \"racist\", \"babies\", \"racisim\", \"towards\", \"human\", \"racism\", \"sure\", \"dividing\", \"infrastructure\", \"sex\", \"legal\", \"illegals\", \"murder\", \"protecting\", \"riots\", \"hand\", \"belief\", \"drug\", \"toward\", \"equal\", \"rights\", \"liberal\", \"security\", \"people\", \"black\", \"police\", \"problems\", \"issue\", \"country\", \"many\", \"immigration\"], \"Freq\": [657.0, 441.0, 334.0, 341.0, 222.0, 266.0, 240.0, 200.0, 173.0, 163.0, 217.0, 143.0, 180.0, 149.0, 100.0, 117.0, 106.0, 104.0, 174.0, 87.0, 97.0, 193.0, 294.0, 94.0, 164.0, 121.0, 89.0, 179.0, 109.0, 139.0, 52.20504165809437, 53.95773880633185, 86.57202444541974, 48.5076771745317, 25.843167136299925, 34.05585869101075, 29.98501355122331, 49.263260769589074, 38.080050103452, 48.94314731146382, 37.15785741556213, 15.61681876909215, 98.2672657342183, 31.037711053022004, 21.75087641375371, 26.708829626959552, 22.760458423855365, 21.921290894321835, 83.20244129666291, 14.619651173696091, 14.54148777544786, 19.21189357380297, 16.64805233417193, 28.394110640275027, 21.120240461340636, 16.917876961178884, 23.89223906123818, 13.703531607283553, 13.250816905135741, 25.403561240349664, 36.22371426029241, 54.92524538247771, 45.80222595544287, 46.82457416448613, 39.801782081604905, 38.60365187831711, 27.08925827676164, 94.61654070269948, 27.660521207451715, 107.02048957235864, 46.1312961461163, 178.98176655407894, 51.21110130068955, 44.04713871372943, 66.1299220246626, 35.00780110895816, 64.93571141152908, 39.14269545164641, 91.87038855733644, 42.73536894657229, 45.67980504131113, 42.853523584636, 48.49726436114578, 48.052372524675285, 61.26405878679321, 44.41918164307659, 52.03433759282182, 42.31825684843767, 40.69196954166897, 101.40864298721905, 134.44744159074406, 63.05886960708007, 108.32834995429718, 63.407823161867235, 198.54761188366268, 67.36229839237069, 68.26455634682053, 78.02698622408911, 41.377254701158904, 171.75137111193237, 148.73480157667706, 32.83581071058313, 50.82182201249158, 23.398544927466375, 23.56234254377675, 42.10517109170064, 43.17082102200442, 48.140219491599005, 23.604796873947738, 43.01806764318804, 13.909898019867246, 15.217079799283805, 12.772705282261187, 14.55689454788867, 29.437419869003822, 44.84831467837454, 13.60207235095851, 12.274480095908757, 122.36522966264833, 69.02607328850404, 35.03742428790996, 39.15120263846644, 31.51197603829487, 112.26431716290816, 89.38176582592112, 117.50167630948744, 51.77520148153167, 46.20305915344352, 33.872222076786734, 50.76656837378506, 79.78655717041526, 54.76748132374175, 52.65735048642093, 66.51426645413773, 41.42209419721375, 81.86273464526596, 46.46874485102229, 146.32337420632868, 137.72815324598565, 23.035487091170822, 47.22683691322533, 16.269803827176915, 38.24214550707686, 84.48720766695406, 340.16988362808354, 261.8647041328263, 23.99501200602834, 201.38965319456085, 18.38994759637803, 14.01606779441335, 157.6259091498793, 470.8264183308294, 14.569695683950108, 14.738548775929129, 35.61114368227108, 41.73836619290671, 9.86545365660959, 32.28042601364412, 13.641969391610393, 13.583610811832088, 12.794028802673546, 10.059444908412159, 17.01683522504762, 37.79511021865331, 20.065025301253034, 102.62641495432607, 47.4401884222853, 19.12160191164523, 24.944233456606344, 57.92290123077412, 48.01212266251677, 32.726773396528834, 27.460193789193713, 66.11650630686043, 35.6921678676239, 25.36577340348426, 32.477781829075745, 29.568473077700258, 27.35147195665077, 26.12453069302156, 74.33620492076557, 78.29948000627053, 31.12641979210584, 25.997605402562463, 51.49542660059444, 40.490641827770744, 180.21956085034338, 50.05223318599786, 33.02685153236924, 26.192468023117506, 39.29616769649126, 10.269828818357816, 23.133924075984414, 12.737239122249603, 19.094790062769473, 21.96024082605846, 9.792562964482633, 8.373096448500009, 10.710788326284, 46.82004851629797, 36.06726555874102, 8.026648113151149, 31.192285939416237, 13.102013037226852, 14.802198986018468, 12.935242492966564, 11.222025096500605, 24.373806943985517, 9.207950716350007, 14.076748082602375, 24.726671188792984, 19.84685737763357, 20.66486116357478, 23.077460896836634, 34.99814467588853, 18.022363962881293, 120.52133417500661, 63.49741599651398, 21.472565920454887, 24.662163878136248, 68.95319733664421, 26.162664357081205, 25.172703081957195, 41.488209412243194, 47.93674002457147, 40.39330466060028, 47.246655170288115, 49.64483626286442, 32.80205367227887, 26.29955070324976, 27.41270787511859, 50.85352428485929, 40.733451365586525, 31.947713026185113, 25.079714251412273, 34.316326301725994, 85.44916893605821, 19.381921170117213, 64.22494942306497, 16.146318737821364, 18.83123902140045, 31.79609751628638, 14.462756007156964, 16.069256525791054, 41.900840658086835, 29.152619993767793, 21.318212439285674, 20.74439747810997, 17.63393995158916, 13.149656956965822, 13.689121407327304, 17.32808081078463, 112.65148472889543, 29.735826671810617, 11.655843671745188, 45.20745583354129, 15.891155928693976, 12.097583018886029, 10.448399765185144, 18.30776054320104, 19.316653751262724, 85.6315576373334, 33.71452112767135, 69.68071472985463, 47.58862036438763, 74.14220136498389, 35.96388522290111, 39.56129825561008, 89.10023173358961, 26.489307343479076, 32.602871619073255, 24.699370885864564, 62.185482958278, 38.87158304661466, 29.101051335363852, 27.192514093549327, 27.771915065208038, 29.320552358380148, 39.73726092807276, 30.339866695691537, 28.16377581734795, 28.648629049546994, 49.64470931936425, 15.84751383761614, 79.55036901915281, 24.08865149869982, 19.051437498521143, 18.671850784698766, 16.097673961921924, 41.64867376264134, 65.79870046312124, 12.850736278829475, 21.719639775836598, 17.88658317896035, 10.398771861119283, 11.254569818195243, 24.18716110812373, 20.83721381270444, 216.5339005747363, 21.892980388121224, 11.212112144837505, 21.991403250501218, 10.904253558843608, 13.995432754061236, 12.363838467050895, 8.121707834271746, 10.973299201160353, 21.55045968523498, 16.448834336739313, 7.039763670142158, 21.659917772528004, 13.025913592947695, 23.230222770695992, 49.740948491735004, 22.537782843005253, 36.794399268798614, 62.08770196166621, 24.589714101821787, 35.04163187303619, 22.12096496522083, 21.497632403705, 37.23249185910244, 20.233624544740493, 21.06547531305961], \"Total\": [657.0, 441.0, 334.0, 341.0, 222.0, 266.0, 240.0, 200.0, 173.0, 163.0, 217.0, 143.0, 180.0, 149.0, 100.0, 117.0, 106.0, 104.0, 174.0, 87.0, 97.0, 193.0, 294.0, 94.0, 164.0, 121.0, 89.0, 179.0, 109.0, 139.0, 56.59373892920655, 59.720338456809834, 96.06844127118548, 55.26490958555544, 29.986252761361744, 40.15865224962153, 35.66553066175401, 58.61995953208933, 45.79218913252169, 59.41682459901356, 46.17987718553713, 19.538192579791684, 124.10965035699948, 39.710133252383585, 27.853177937389148, 34.254513913186045, 29.428190876010035, 28.41866837873214, 108.07252807276001, 18.9954887370641, 18.9744260939526, 25.12541559094247, 21.877380466771648, 37.31370026642361, 28.272558832654415, 22.650380188532786, 31.995452097308917, 18.35377899022834, 17.799723761877672, 34.26466977443316, 49.081625041475455, 75.15140354657659, 63.56371593237047, 65.46346876951472, 55.840678350015686, 54.072666227784154, 36.95476397120317, 146.47668201075385, 38.73704706501583, 207.2236442565694, 73.02827307594683, 413.25235513730587, 88.996854490482, 73.51359275941718, 138.45973170771262, 54.55925503381315, 144.04730896536665, 65.75828734116809, 294.6624582733519, 83.01668200441472, 95.97433250368508, 85.65819747998314, 117.92723490903953, 144.67371272899086, 657.8638617459027, 134.78675199213077, 441.6496180778096, 164.14379691995737, 102.70425540761829, 106.41335562447124, 143.3964515413728, 68.06527154702498, 117.0925273264631, 69.09055508315062, 222.43626186657042, 75.9626575833417, 78.24342017287297, 90.7990737303817, 48.30376556708392, 200.81796954564854, 180.44307537870358, 40.50350537872022, 63.14823567936661, 29.599671620755423, 29.98899022228905, 53.61474748561737, 56.22429097411218, 62.82816127268808, 30.830689551577812, 56.2390046398355, 18.444673537188162, 20.325951580417613, 17.09571193123474, 19.740037297782635, 40.155214650672264, 61.18603214209642, 18.87028753153817, 17.18207084453452, 174.77940630300475, 98.92704835531582, 50.31077171273513, 56.51569517546703, 45.15027181158797, 179.78434999598915, 141.75700087052283, 193.20813238019372, 79.54950025237169, 74.62734850130559, 49.45464362452979, 88.46819894557086, 206.0263168312033, 111.29518735366887, 144.27603288670383, 334.8299472031562, 99.94981578688909, 87.28080325401946, 54.9669832837331, 173.18524817550554, 163.07035538690178, 27.476604278005798, 59.07230690891783, 20.672457520675867, 48.71117427189338, 109.23843703555275, 441.6496180778096, 341.9129600950703, 31.405759908393858, 266.0064824033824, 24.356766225765423, 18.810930850593618, 217.26238480821095, 657.8638617459027, 20.359999525632517, 20.685334759682632, 50.04165390863623, 59.26372246375546, 14.095469561894932, 46.41265185590933, 19.760242269047342, 20.110728326914995, 18.969379756831167, 15.047581944626291, 26.161058301563163, 58.30939469117324, 31.343757664461474, 164.14379691995737, 75.32697125248791, 31.00920138438726, 45.2696148995972, 183.7747547675015, 138.45973170771262, 80.53529457623911, 64.56658207466886, 413.25235513730587, 141.75700087052283, 75.94457145614456, 207.2236442565694, 206.0263168312033, 179.78434999598915, 144.04730896536665, 89.99762960043736, 94.96992148313102, 38.90638737056478, 32.97864384615314, 65.4315870241234, 52.38426617595399, 240.13223710258603, 67.7408939907147, 45.348835981368204, 36.129327815642014, 55.33710420551361, 14.628966181099205, 33.06491818825675, 18.20644362620545, 27.3982273228934, 32.52948221261226, 14.549663447951767, 12.458828836282445, 15.950227542584468, 70.30970328068852, 54.207015497955325, 12.11786180406287, 47.167919211508305, 19.833293238192923, 22.619738953345635, 19.777824388940378, 17.189934404840876, 37.443722639456766, 14.286629609900004, 21.90827356823422, 39.22505746345913, 31.29399346947476, 33.760167622041344, 38.5780574363636, 64.53958759345181, 29.61644618253577, 294.6624582733519, 144.67371272899086, 37.4351039795765, 44.843005097004465, 171.5898790255272, 48.8677855027991, 47.83468085741726, 134.78675199213077, 183.7747547675015, 139.95731155115848, 413.25235513730587, 657.8638617459027, 206.0263168312033, 144.27603288670383, 334.8299472031562, 56.147182305521106, 45.64830700055443, 36.00740921019725, 28.986383710834378, 40.000179569273755, 104.38587107852051, 23.886140514971466, 79.30218973389563, 20.068751147101896, 23.661205353209596, 40.29422095976306, 18.53845261846501, 20.604971017994373, 53.82240635145518, 37.66828120254194, 27.55288884701752, 26.82398435442672, 22.908793576509197, 17.193352334094794, 18.03886155640343, 22.941750685878986, 149.17277040611617, 39.61336834897252, 15.552053621759168, 61.05227742309017, 21.507645232408912, 16.489674590958817, 14.342711486964285, 25.65437870345479, 27.257758194731544, 121.11216879707807, 48.70806334592617, 113.69883241831238, 74.74417087519303, 139.95731155115848, 57.933732053696325, 65.35834513888409, 177.34379953329923, 40.694758749471525, 56.903003273866084, 39.0171248613662, 171.5898790255272, 82.26950820815973, 62.46857822454554, 54.700812413103414, 65.6782233530066, 84.70709228281515, 413.25235513730587, 144.27603288670383, 117.67730255998933, 206.0263168312033, 61.062326847426085, 20.055581447089487, 100.73192980489424, 32.37262069848745, 25.907405309177502, 25.45549145003212, 22.25868099537508, 59.69187898594845, 97.19016023548465, 18.992685887522896, 32.19712046504442, 26.675814574960913, 15.541823754236166, 16.852942318336098, 36.33244387267386, 32.090220125636634, 334.8299472031562, 34.40461846898162, 17.813560840296972, 35.18840354879981, 17.92775073705854, 23.124554235147507, 20.580370657136754, 13.591279226146419, 18.58252897400223, 36.53808818250663, 28.07952964443556, 12.088904032275003, 37.929336419439295, 22.928033707435382, 41.54795626415613, 93.38359072874763, 41.14509870184226, 76.9397018908429, 413.25235513730587, 82.26950820815973, 193.20813238019372, 76.18093147295139, 72.78815179453623, 294.6624582733519, 144.04730896536665, 240.13223710258603], \"Category\": [\"Default\", \"Default\", \"Default\", \"Default\", \"Default\", \"Default\", \"Default\", \"Default\", \"Default\", \"Default\", \"Default\", \"Default\", \"Default\", \"Default\", \"Default\", \"Default\", \"Default\", \"Default\", \"Default\", \"Default\", \"Default\", \"Default\", \"Default\", \"Default\", \"Default\", \"Default\", \"Default\", \"Default\", \"Default\", \"Default\", \"Topic1\", \"Topic1\", \"Topic1\", \"Topic1\", \"Topic1\", \"Topic1\", \"Topic1\", \"Topic1\", \"Topic1\", \"Topic1\", \"Topic1\", \"Topic1\", \"Topic1\", \"Topic1\", \"Topic1\", \"Topic1\", \"Topic1\", \"Topic1\", \"Topic1\", \"Topic1\", \"Topic1\", \"Topic1\", \"Topic1\", \"Topic1\", \"Topic1\", \"Topic1\", \"Topic1\", \"Topic1\", \"Topic1\", \"Topic1\", \"Topic1\", \"Topic1\", \"Topic1\", \"Topic1\", \"Topic1\", \"Topic1\", \"Topic1\", \"Topic1\", \"Topic1\", \"Topic1\", \"Topic1\", \"Topic1\", \"Topic1\", \"Topic1\", \"Topic1\", \"Topic1\", \"Topic1\", \"Topic1\", \"Topic1\", \"Topic1\", \"Topic1\", \"Topic1\", \"Topic1\", \"Topic1\", \"Topic1\", \"Topic1\", \"Topic1\", \"Topic1\", \"Topic1\", \"Topic2\", \"Topic2\", \"Topic2\", \"Topic2\", \"Topic2\", \"Topic2\", \"Topic2\", \"Topic2\", \"Topic2\", \"Topic2\", \"Topic2\", \"Topic2\", \"Topic2\", \"Topic2\", \"Topic2\", \"Topic2\", \"Topic2\", \"Topic2\", \"Topic2\", \"Topic2\", \"Topic2\", \"Topic2\", \"Topic2\", \"Topic2\", \"Topic2\", \"Topic2\", \"Topic2\", \"Topic2\", \"Topic2\", \"Topic2\", \"Topic2\", \"Topic2\", \"Topic2\", \"Topic2\", \"Topic2\", \"Topic2\", \"Topic2\", \"Topic2\", \"Topic2\", \"Topic2\", \"Topic2\", \"Topic2\", \"Topic2\", \"Topic2\", \"Topic2\", \"Topic2\", \"Topic3\", \"Topic3\", \"Topic3\", \"Topic3\", \"Topic3\", \"Topic3\", \"Topic3\", \"Topic3\", \"Topic3\", \"Topic3\", \"Topic3\", \"Topic3\", \"Topic3\", \"Topic3\", \"Topic3\", \"Topic3\", \"Topic3\", \"Topic3\", \"Topic3\", \"Topic3\", \"Topic3\", \"Topic3\", \"Topic3\", \"Topic3\", \"Topic3\", \"Topic3\", \"Topic3\", \"Topic3\", \"Topic3\", \"Topic3\", \"Topic3\", \"Topic3\", \"Topic3\", \"Topic3\", \"Topic3\", \"Topic3\", \"Topic3\", \"Topic3\", \"Topic3\", \"Topic3\", \"Topic3\", \"Topic3\", \"Topic3\", \"Topic3\", \"Topic3\", \"Topic4\", \"Topic4\", \"Topic4\", \"Topic4\", \"Topic4\", \"Topic4\", \"Topic4\", \"Topic4\", \"Topic4\", \"Topic4\", \"Topic4\", \"Topic4\", \"Topic4\", \"Topic4\", \"Topic4\", \"Topic4\", \"Topic4\", \"Topic4\", \"Topic4\", \"Topic4\", \"Topic4\", \"Topic4\", \"Topic4\", \"Topic4\", \"Topic4\", \"Topic4\", \"Topic4\", \"Topic4\", \"Topic4\", \"Topic4\", \"Topic4\", \"Topic4\", \"Topic4\", \"Topic4\", \"Topic4\", \"Topic4\", \"Topic4\", \"Topic4\", \"Topic4\", \"Topic4\", \"Topic4\", \"Topic4\", \"Topic4\", \"Topic4\", \"Topic4\", \"Topic4\", \"Topic4\", \"Topic4\", \"Topic4\", \"Topic4\", \"Topic4\", \"Topic5\", \"Topic5\", \"Topic5\", \"Topic5\", \"Topic5\", \"Topic5\", \"Topic5\", \"Topic5\", \"Topic5\", \"Topic5\", \"Topic5\", \"Topic5\", \"Topic5\", \"Topic5\", \"Topic5\", \"Topic5\", \"Topic5\", \"Topic5\", \"Topic5\", \"Topic5\", \"Topic5\", \"Topic5\", \"Topic5\", \"Topic5\", \"Topic5\", \"Topic5\", \"Topic5\", \"Topic5\", \"Topic5\", \"Topic5\", \"Topic5\", \"Topic5\", \"Topic5\", \"Topic5\", \"Topic5\", \"Topic5\", \"Topic5\", \"Topic5\", \"Topic5\", \"Topic5\", \"Topic5\", \"Topic5\", \"Topic5\", \"Topic5\", \"Topic5\", \"Topic5\", \"Topic5\", \"Topic5\", \"Topic5\", \"Topic5\", \"Topic5\", \"Topic6\", \"Topic6\", \"Topic6\", \"Topic6\", \"Topic6\", \"Topic6\", \"Topic6\", \"Topic6\", \"Topic6\", \"Topic6\", \"Topic6\", \"Topic6\", \"Topic6\", \"Topic6\", \"Topic6\", \"Topic6\", \"Topic6\", \"Topic6\", \"Topic6\", \"Topic6\", \"Topic6\", \"Topic6\", \"Topic6\", \"Topic6\", \"Topic6\", \"Topic6\", \"Topic6\", \"Topic6\", \"Topic6\", \"Topic6\", \"Topic6\", \"Topic6\", \"Topic6\", \"Topic6\", \"Topic6\", \"Topic6\", \"Topic6\", \"Topic6\", \"Topic6\", \"Topic6\", \"Topic6\", \"Topic6\"], \"logprob\": [30.0, 29.0, 28.0, 27.0, 26.0, 25.0, 24.0, 23.0, 22.0, 21.0, 20.0, 19.0, 18.0, 17.0, 16.0, 15.0, 14.0, 13.0, 12.0, 11.0, 10.0, 9.0, 8.0, 7.0, 6.0, 5.0, 4.0, 3.0, 2.0, 1.0, -5.1226, -5.0896, -4.6168, -5.1961, -5.8258, -5.5498, -5.6771, -5.1806, -5.4381, -5.1872, -5.4626, -6.3295, -4.4901, -5.6426, -5.9982, -5.7928, -5.9528, -5.9904, -4.6565, -6.3955, -6.4008, -6.1223, -6.2655, -5.7316, -6.0276, -6.2494, -5.9043, -6.4602, -6.4938, -5.8429, -5.4881, -5.0718, -5.2535, -5.2314, -5.3939, -5.4245, -5.7787, -4.528, -5.7578, -4.4048, -5.2463, -3.8905, -5.1419, -5.2926, -4.8862, -5.5222, -4.9044, -5.4106, -4.5574, -5.3228, -5.2562, -5.32, -5.1963, -5.2055, -4.9626, -5.2841, -5.1259, -5.3326, -5.3718, -4.0477, -3.7657, -4.5228, -3.9817, -4.5173, -3.3759, -4.4568, -4.4435, -4.3098, -4.9442, -3.5208, -3.6647, -5.1754, -4.7386, -5.5142, -5.5072, -4.9267, -4.9017, -4.7928, -5.5054, -4.9053, -6.0343, -5.9445, -6.1196, -5.9888, -5.2846, -4.8636, -6.0567, -6.1594, -3.8599, -4.4324, -5.1105, -4.9995, -5.2165, -3.946, -4.174, -3.9004, -4.72, -4.8338, -5.1443, -4.7396, -4.2875, -4.6638, -4.7031, -4.4695, -4.9431, -4.1912, -4.7575, -3.6104, -3.6709, -5.4592, -4.7413, -5.8069, -4.9523, -4.1596, -2.7668, -3.0284, -5.4184, -3.291, -5.6844, -5.956, -3.536, -2.4417, -5.9173, -5.9058, -5.0236, -4.8648, -6.3072, -5.1218, -5.9831, -5.9874, -6.0473, -6.2877, -5.762, -4.9641, -5.5973, -3.9651, -4.7368, -5.6454, -5.3796, -4.5371, -4.7248, -5.108, -5.2835, -4.4048, -5.0213, -5.3628, -5.1157, -5.2095, -5.2875, -5.3334, -4.1826, -4.1306, -5.0531, -5.2332, -4.5497, -4.7901, -3.297, -4.5781, -4.9939, -5.2257, -4.82, -6.162, -5.3499, -5.9466, -5.5418, -5.4019, -6.2096, -6.3662, -6.1199, -4.6449, -4.9058, -6.4084, -5.051, -5.9184, -5.7964, -5.9312, -6.0733, -5.2977, -6.2711, -5.8467, -5.2833, -5.5031, -5.4627, -5.3523, -4.9359, -5.5996, -3.6993, -4.3402, -5.4244, -5.2859, -4.2577, -5.2268, -5.2654, -4.7658, -4.6213, -4.7925, -4.6358, -4.5863, -5.0007, -5.2216, -5.1802, -4.5443, -4.7662, -5.0091, -5.2512, -4.9376, -4.0253, -5.5089, -4.3108, -5.6915, -5.5377, -5.0139, -5.8017, -5.6963, -4.7379, -5.1007, -5.4137, -5.441, -5.6034, -5.8968, -5.8566, -5.6209, -3.7489, -5.0809, -6.0174, -4.662, -5.7075, -5.9802, -6.1268, -5.5659, -5.5123, -4.0232, -4.9553, -4.2293, -4.6106, -4.1672, -4.8907, -4.7954, -3.9835, -5.1965, -4.9888, -5.2665, -4.3431, -4.813, -5.1025, -5.1703, -5.1492, -5.0949, -4.7909, -5.0608, -5.1352, -5.1181, -4.2789, -5.4208, -3.8074, -5.0021, -5.2367, -5.2568, -5.4051, -4.4545, -3.9972, -5.6304, -5.1056, -5.2998, -5.8421, -5.763, -4.998, -5.1471, -2.8061, -5.0976, -5.7668, -5.0932, -5.7947, -5.5451, -5.669, -6.0893, -5.7883, -5.1134, -5.3836, -6.2322, -5.1083, -5.6169, -5.0384, -4.277, -5.0686, -4.5785, -4.0553, -4.9815, -4.6273, -5.0873, -5.1159, -4.5666, -5.1765, -5.1362], \"loglift\": [30.0, 29.0, 28.0, 27.0, 26.0, 25.0, 24.0, 23.0, 22.0, 21.0, 20.0, 19.0, 18.0, 17.0, 16.0, 15.0, 14.0, 13.0, 12.0, 11.0, 10.0, 9.0, 8.0, 7.0, 6.0, 5.0, 4.0, 3.0, 2.0, 1.0, 1.2523, 1.2315, 1.2289, 1.2026, 1.1843, 1.1681, 1.1595, 1.1591, 1.1486, 1.1391, 1.1156, 1.109, 1.0995, 1.0866, 1.0857, 1.0842, 1.0761, 1.0734, 1.0715, 1.0711, 1.0669, 1.0646, 1.0598, 1.0598, 1.0413, 1.0412, 1.0409, 1.0408, 1.0379, 1.0338, 1.0292, 1.0194, 1.0053, 0.9979, 0.9944, 0.996, 1.0224, 0.8959, 0.9962, 0.6722, 0.8736, 0.4962, 0.7803, 0.8208, 0.594, 0.8893, 0.5362, 0.8142, 0.1675, 0.669, 0.5906, 0.6404, 0.4444, 0.2308, -1.0408, 0.223, -0.8056, -0.0225, 0.4072, 1.6957, 1.6795, 1.6675, 1.6661, 1.6581, 1.6303, 1.6238, 1.6075, 1.5923, 1.5891, 1.5876, 1.5507, 1.534, 1.5268, 1.5088, 1.5027, 1.5023, 1.4797, 1.4776, 1.4769, 1.4759, 1.4617, 1.4544, 1.4524, 1.4393, 1.4334, 1.4333, 1.4166, 1.4076, 1.3874, 1.384, 1.3821, 1.3768, 1.3843, 1.273, 1.2827, 1.2466, 1.3144, 1.2645, 1.3655, 1.1885, 0.7953, 1.0348, 0.736, 0.1277, 0.8631, 1.7505, 1.6466, 1.646, 1.6457, 1.6383, 1.5908, 1.5751, 1.5726, 1.5576, 1.5535, 1.5478, 1.5454, 1.5363, 1.5336, 1.5203, 1.4937, 1.4801, 1.4799, 1.4756, 1.4744, 1.464, 1.4578, 1.4515, 1.444, 1.4222, 1.4207, 1.4119, 1.3845, 1.381, 1.3685, 1.3449, 1.3522, 1.3311, 1.2186, 0.66, 0.7554, 0.9141, 0.9596, -0.0181, 0.4354, 0.718, -0.0387, -0.1267, -0.0684, 0.1073, 1.7284, 1.7266, 1.6965, 1.6818, 1.6801, 1.6621, 1.6326, 1.617, 1.6026, 1.598, 1.5773, 1.5658, 1.5625, 1.5624, 1.5586, 1.5267, 1.5237, 1.5222, 1.5214, 1.513, 1.5122, 1.5077, 1.5061, 1.505, 1.4956, 1.495, 1.4932, 1.4903, 1.4804, 1.4773, 1.4582, 1.4642, 1.4288, 1.4058, 1.3076, 1.4229, 1.0256, 1.0961, 1.3638, 1.3217, 1.0079, 1.2948, 1.2776, 0.7413, 0.5758, 0.677, -0.2491, -0.6645, 0.0821, 0.2174, -0.583, 1.8385, 1.8237, 1.8179, 1.7928, 1.7843, 1.7374, 1.7286, 1.7267, 1.7201, 1.7093, 1.7007, 1.6893, 1.6889, 1.6872, 1.6813, 1.681, 1.6805, 1.6759, 1.6694, 1.6616, 1.6569, 1.6568, 1.6508, 1.6492, 1.6371, 1.6349, 1.6278, 1.6208, 1.6002, 1.5932, 1.5909, 1.5697, 1.4479, 1.4861, 1.3022, 1.4608, 1.4355, 1.2492, 1.5082, 1.3806, 1.4803, 0.9226, 1.1878, 1.1737, 1.2386, 1.0768, 0.8767, -0.4042, 0.3783, 0.5077, -0.0353, 2.02, 1.9915, 1.9909, 1.9314, 1.9196, 1.9171, 1.9029, 1.8671, 1.8369, 1.8363, 1.8333, 1.8273, 1.8251, 1.8232, 1.8201, 1.7952, 1.7911, 1.775, 1.764, 1.7569, 1.7298, 1.7248, 1.7174, 1.7121, 1.7002, 1.699, 1.6922, 1.6863, 1.6667, 1.6616, 1.6456, 1.5971, 1.6251, 1.4893, 0.3315, 1.0193, 0.5198, 0.9904, 1.0074, 0.1583, 0.2642, -0.2066]}, \"token.table\": {\"Topic\": [1, 2, 3, 4, 5, 6, 1, 2, 3, 4, 5, 6, 1, 2, 3, 4, 5, 6, 1, 2, 3, 4, 5, 6, 1, 2, 3, 4, 5, 6, 1, 2, 3, 4, 5, 6, 1, 2, 3, 4, 5, 6, 1, 2, 3, 4, 5, 6, 1, 2, 3, 4, 5, 6, 1, 2, 3, 4, 5, 6, 1, 2, 3, 4, 5, 6, 1, 2, 3, 4, 5, 6, 1, 2, 3, 4, 5, 6, 1, 2, 3, 4, 5, 6, 1, 2, 3, 4, 5, 6, 1, 2, 3, 4, 5, 6, 1, 2, 3, 4, 5, 6, 1, 2, 3, 4, 5, 6, 1, 2, 3, 4, 5, 6, 1, 2, 3, 4, 5, 6, 1, 2, 3, 4, 5, 6, 1, 2, 3, 4, 5, 6, 1, 2, 3, 4, 5, 6, 1, 2, 3, 4, 5, 6, 1, 2, 3, 4, 5, 6, 1, 2, 3, 4, 5, 6, 1, 2, 3, 4, 5, 6, 1, 2, 3, 4, 5, 6, 1, 2, 3, 4, 5, 6, 1, 2, 3, 4, 5, 6, 1, 2, 3, 4, 5, 6, 1, 2, 3, 4, 5, 6, 1, 2, 3, 4, 5, 6, 1, 2, 3, 4, 5, 6, 1, 2, 3, 4, 5, 6, 1, 2, 3, 4, 5, 6, 1, 2, 3, 4, 5, 6, 1, 2, 3, 4, 5, 6, 1, 2, 3, 4, 5, 6, 1, 2, 3, 4, 5, 6, 1, 2, 3, 4, 5, 6, 1, 2, 3, 4, 5, 6, 1, 2, 3, 4, 5, 6, 1, 2, 3, 4, 5, 6, 1, 2, 3, 4, 5, 6, 1, 2, 3, 4, 5, 6, 1, 2, 3, 4, 5, 6, 1, 2, 3, 4, 5, 6, 1, 2, 3, 4, 5, 6, 1, 2, 3, 4, 5, 6, 1, 2, 3, 4, 5, 6, 1, 2, 3, 4, 5, 6, 1, 2, 3, 4, 5, 6, 1, 2, 3, 4, 5, 6, 1, 2, 3, 4, 5, 6, 1, 2, 3, 4, 5, 6, 1, 2, 3, 4, 5, 6, 1, 2, 3, 4, 5, 6, 1, 2, 3, 4, 5, 6, 1, 2, 3, 4, 5, 6, 1, 2, 3, 4, 5, 6, 1, 2, 3, 4, 5, 6, 1, 2, 3, 4, 5, 6, 1, 2, 3, 4, 5, 6, 1, 2, 3, 4, 5, 6, 1, 2, 3, 4, 5, 6, 1, 2, 3, 4, 5, 6, 1, 2, 3, 4, 5, 6, 1, 2, 3, 4, 5, 6, 1, 2, 3, 4, 5, 6, 1, 2, 3, 4, 5, 6, 1, 2, 3, 4, 5, 6, 1, 2, 3, 4, 5, 6, 1, 2, 3, 4, 5, 6, 1, 2, 3, 4, 5, 6, 1, 2, 3, 4, 5, 6, 1, 2, 3, 4, 5, 6, 1, 2, 3, 4, 5, 6, 1, 2, 3, 4, 5, 6, 1, 2, 3, 4, 5, 6, 1, 2, 3, 4, 5, 6, 1, 2, 3, 4, 5, 6, 1, 2, 3, 4, 5, 6, 1, 2, 3, 4, 5, 6, 1, 2, 3, 4, 5, 6, 1, 2, 3, 4, 5, 6, 1, 2, 3, 4, 5, 6, 1, 2, 3, 4, 5, 6, 1, 2, 3, 4, 5, 6, 1, 2, 3, 4, 5, 6, 1, 2, 3, 4, 5, 6, 1, 2, 3, 4, 5, 6, 1, 2, 3, 4, 5, 6, 1, 2, 3, 4, 5, 6, 1, 2, 3, 4, 5, 6, 1, 2, 3, 4, 5, 6, 1, 2, 3, 4, 5, 6, 1, 2, 3, 4, 5, 6, 1, 2, 3, 4, 5, 6, 1, 2, 3, 4, 5, 6, 1, 2, 3, 4, 5, 6, 1, 2, 3, 4, 5, 6, 1, 2, 3, 4, 5, 6, 1, 2, 3, 4, 5, 6, 1, 2, 3, 4, 5, 6, 1, 2, 3, 4, 5, 6, 1, 2, 3, 4, 5, 6, 1, 2, 3, 4, 5, 6, 1, 2, 3, 4, 5, 6, 1, 2, 3, 4, 5, 6, 1, 2, 3, 4, 5, 6, 1, 2, 3, 4, 5, 6, 1, 2, 3, 4, 5, 6, 1, 2, 3, 4, 5, 6, 1, 2, 3, 4, 5, 6, 1, 2, 3, 4, 5, 6, 1, 2, 3, 4, 5, 6, 1, 2, 3, 4, 5, 6, 1, 2, 3, 4, 5, 6, 1, 2, 3, 4, 5, 6, 1, 2, 3, 4, 5, 6, 1, 2, 3, 4, 5, 6, 1, 2, 3, 4, 5, 6, 1, 2, 3, 4, 5, 6, 1, 2, 3, 4, 5, 6, 1, 2, 3, 4, 5, 6, 1, 2, 3, 4, 5, 6, 1, 2, 3, 4, 5, 6, 1, 2, 3, 4, 5, 6, 1, 2, 3, 4, 5, 6, 1, 2, 3, 4, 5, 6, 1, 2, 3, 4, 5, 6, 1, 2, 3, 4, 5, 6, 1, 2, 3, 4, 5, 6, 1, 2, 3, 4, 5, 6, 1, 2, 3, 4, 5, 6, 1, 2, 3, 4, 5, 6, 1, 2, 3, 4, 5, 6, 1, 2, 3, 4, 5, 6, 1, 2, 3, 4, 5, 6, 1, 2, 3, 4, 5, 6, 1, 2, 3, 4, 5, 6, 1, 2, 3, 4, 5, 6, 1, 2, 3, 4, 5, 6, 1, 2, 3, 4, 5, 6, 1, 2, 3, 4, 5, 6, 1, 2, 3, 4, 5, 6, 1, 2, 3, 4, 5, 6, 1, 2, 3, 4, 5, 6, 1, 2, 3, 4, 5, 6, 1, 2, 3, 4, 5, 6, 1, 2, 3, 4, 5, 6, 1, 2, 3, 4, 5, 6, 1, 2, 3, 4, 5, 6, 1, 2, 3, 4, 5, 6, 1, 2, 3, 4, 5, 6, 1, 2, 3, 4, 5, 6, 1, 2, 3, 4, 5, 6, 1, 2, 3, 4, 5, 6, 1, 2, 3, 4, 5, 6, 1, 2, 3, 4, 5, 6, 1, 2, 3, 4, 5, 6, 1, 2, 3, 4, 5, 6, 1, 2, 3, 4, 5, 6, 1, 2, 3, 4, 5, 6, 1, 2, 3, 4, 5, 6, 1, 2, 3, 4, 5, 6, 1, 2, 3, 4, 5, 6, 1, 2, 3, 4, 5, 6, 1, 2, 3, 4, 5, 6, 1, 2, 3, 4, 5, 6, 1, 2, 3, 4, 5, 6, 1, 2, 3, 4, 5, 6, 1, 2, 3, 4, 5, 6, 1, 2, 3, 4, 5, 6, 1, 2, 3, 4, 5, 6, 1, 2, 3, 4, 5, 6, 1, 2, 3, 4, 5, 6, 1, 2, 3, 4, 5, 6, 1, 2, 3, 4, 5, 6, 1, 2, 3, 4, 5, 6, 1, 2, 3, 4, 5, 6, 1, 2, 3, 4, 5, 6, 1, 2, 3, 4, 5, 6, 1, 2, 3, 4, 5, 6, 1, 2, 3, 4, 5, 6, 1, 2, 3, 4, 5, 6, 1, 2, 3, 4, 5, 6, 1, 2, 3, 4, 5, 6, 1, 2, 3, 4, 5, 6, 1, 2, 3, 4, 5, 6, 1, 2, 3, 4, 5, 6, 1, 2, 3, 4, 5, 6, 1, 2, 3, 4, 5, 6, 1, 2, 3, 4, 5, 6, 1, 2, 3, 4, 5, 6, 1, 2, 3, 4, 5, 6, 1, 2, 3, 4, 5, 6, 1, 2, 3, 4, 5, 6, 1, 2, 3, 4, 5, 6, 1, 2, 3, 4, 5, 6, 1, 2, 3, 4, 5, 6, 1, 2, 3, 4, 5, 6, 1, 2, 3, 4, 5, 6, 1, 2, 3, 4, 5, 6, 1, 2, 3, 4, 5, 6, 1, 2, 3, 4, 5, 6, 1, 2, 3, 4, 5, 6, 1, 2, 3, 4, 5, 6, 1, 2, 3, 4, 5, 6, 1, 2, 3, 4, 5, 6, 1, 2, 3, 4, 5, 6, 1, 2, 3, 4, 5, 6, 1, 2, 3, 4, 5, 6, 1, 2, 3, 4, 5, 6, 1, 2, 3, 4, 5, 6, 1, 2, 3, 4, 5, 6, 1, 2, 3, 4, 5, 6, 1, 2, 3, 4, 5, 6, 1, 2, 3, 4, 5, 6, 1, 2, 3, 4, 5, 6, 1, 2, 3, 4, 5, 6, 1, 2, 3, 4, 5, 6, 1, 2, 3, 4, 5, 6, 1, 2, 3, 4, 5, 6, 1, 2, 3, 4, 5, 6, 1, 2, 3, 4, 5, 6, 1, 2, 3, 4, 5, 6, 1, 2, 3, 4, 5, 6, 1, 2, 3, 4, 5, 6, 1, 2, 3, 4, 5, 6, 1, 2, 3, 4, 5, 6, 1, 2, 3, 4, 5, 6, 1, 2, 3, 4, 5, 6, 1, 2, 3, 4, 5, 6, 1, 2, 3, 4, 5, 6, 1, 2, 3, 4, 5, 6, 1, 2, 3, 4, 5, 6, 1, 2, 3, 4, 5, 6, 1, 2, 3, 4, 5, 6, 1, 2, 3, 4, 5, 6, 1, 2, 3, 4, 5, 6, 1, 2, 3, 4, 5, 6, 1, 2, 3, 4, 5, 6, 1, 2, 3, 4, 5, 6, 1, 2, 3, 4, 5, 6, 1, 2, 3, 4, 5, 6, 1, 2, 3, 4, 5, 6, 1, 2, 3, 4, 5, 6, 1, 2, 3, 4, 5, 6, 1, 2, 3, 4, 5, 6, 1, 2, 3, 4, 5, 6, 1, 2, 3, 4, 5, 6, 1, 2, 3, 4, 5, 6, 1, 2, 3, 4, 5, 6, 1, 2, 3, 4, 5, 6, 1, 2, 3, 4, 5, 6, 1, 2, 3, 4, 5, 6, 1, 2, 3, 4, 5, 6, 1, 2, 3, 4, 5, 6, 1, 2, 3, 4, 5, 6, 1, 2, 3, 4, 5, 6, 1, 2, 3, 4, 5, 6], \"Freq\": [0.7503946218165756, 0.05359961584404111, 0.026799807922020556, 0.05359961584404111, 0.08039942376606167, 0.026799807922020556, 0.0655068387746611, 0.03275341938733055, 0.016376709693665274, 0.049130129080995816, 0.016376709693665274, 0.8188354846832636, 0.7896611773263785, 0.052644078488425235, 0.052644078488425235, 0.052644078488425235, 0.052644078488425235, 0.052644078488425235, 0.7562063971132625, 0.03980033669017171, 0.07960067338034342, 0.03980033669017171, 0.03980033669017171, 0.03980033669017171, 0.092927328769877, 0.43366086759275935, 0.4181729794644465, 0.015487888128312833, 0.015487888128312833, 0.015487888128312833, 0.06835753036957674, 0.06835753036957674, 0.06835753036957674, 0.6835753036957675, 0.06835753036957674, 0.06835753036957674, 0.12097413872993129, 0.060487069364965645, 0.030243534682482823, 0.6956012976971049, 0.030243534682482823, 0.030243534682482823, 0.07648172352060181, 0.12746953920100304, 0.025493907840200607, 0.6373476960050152, 0.12746953920100304, 0.025493907840200607, 0.8012147769762338, 0.021654453431790104, 0.021654453431790104, 0.04330890686358021, 0.08661781372716042, 0.04330890686358021, 0.06873011211408984, 0.06873011211408984, 0.06873011211408984, 0.6873011211408985, 0.06873011211408984, 0.06873011211408984, 0.12868502639240578, 0.06434251319620289, 0.06434251319620289, 0.06434251319620289, 0.06434251319620289, 0.6434251319620289, 0.9056043675613852, 0.010409245604153853, 0.020818491208307706, 0.04163698241661541, 0.010409245604153853, 0.010409245604153853, 0.0827204846138406, 0.0827204846138406, 0.0827204846138406, 0.0827204846138406, 0.0827204846138406, 0.5790433922968842, 0.7179576775174973, 0.12220556213063782, 0.045827085798989184, 0.045827085798989184, 0.015275695266329728, 0.045827085798989184, 0.835892764019681, 0.017059036000401654, 0.017059036000401654, 0.017059036000401654, 0.08529518000200827, 0.017059036000401654, 0.2597185124304311, 0.08263770850059171, 0.12985925621521555, 0.10624848235790363, 0.3423562209310228, 0.07083232157193575, 0.19173008410871584, 0.03195501401811931, 0.06391002803623862, 0.6391002803623861, 0.03195501401811931, 0.06391002803623862, 0.08508620207487419, 0.10939654552483824, 0.012155171724982027, 0.024310343449964054, 0.4740516972742991, 0.3038792931245507, 0.06159144490500284, 0.06159144490500284, 0.020530481635000947, 0.12318288981000568, 0.6980363755900322, 0.041060963270001895, 0.06178060215228253, 0.030890301076141265, 0.030890301076141265, 0.0926709032284238, 0.030890301076141265, 0.7413672258273905, 0.8670639911867161, 0.033348615045642925, 0.033348615045642925, 0.033348615045642925, 0.033348615045642925, 0.033348615045642925, 0.012780627403436289, 0.8690826634336676, 0.012780627403436289, 0.025561254806872578, 0.012780627403436289, 0.06390313701718144, 0.10289937036352512, 0.0857494753029376, 0.6516960123023257, 0.03429979012117504, 0.10289937036352512, 0.01714989506058752, 0.0846420304476915, 0.0338568121790766, 0.7956350862083001, 0.0169284060895383, 0.0507852182686149, 0.0169284060895383, 0.15649280490966536, 0.08745186156716593, 0.7272312698743273, 0.009205459112333256, 0.009205459112333256, 0.013808188668499885, 0.04853197799340254, 0.04853197799340254, 0.04853197799340254, 0.04853197799340254, 0.7765116478944406, 0.04853197799340254, 0.07967414487956463, 0.8564970574553198, 0.009959268109945579, 0.019918536219891158, 0.009959268109945579, 0.02987780432983674, 0.05394193466848262, 0.05394193466848262, 0.05394193466848262, 0.05394193466848262, 0.7551870853587567, 0.05394193466848262, 0.6415043603199625, 0.07331478403656715, 0.03665739201828357, 0.018328696009141787, 0.07331478403656715, 0.1466295680731343, 0.7318559255638206, 0.013306471373887647, 0.07983882824332589, 0.039919414121662944, 0.11975824236498883, 0.013306471373887647, 0.13506009381904574, 0.033765023454761435, 0.033765023454761435, 0.6077704221857058, 0.13506009381904574, 0.033765023454761435, 0.1305610923911898, 0.7833665543471388, 0.018651584627312826, 0.018651584627312826, 0.018651584627312826, 0.018651584627312826, 0.05394803841469996, 0.894638303710441, 0.008991339735783326, 0.01798267947156665, 0.004495669867891663, 0.02697401920734998, 0.05316058029996123, 0.05316058029996123, 0.7442481241994572, 0.05316058029996123, 0.05316058029996123, 0.05316058029996123, 0.06211735618318254, 0.1863520685495476, 0.03105867809159127, 0.03105867809159127, 0.03105867809159127, 0.6832909180150079, 0.750106606620464, 0.031254441942519334, 0.06250888388503867, 0.031254441942519334, 0.031254441942519334, 0.093763325827558, 0.18417040812059077, 0.020463378680065644, 0.06139013604019693, 0.5320478456817067, 0.10231689340032821, 0.08185351472026257, 0.08252280940064201, 0.08252280940064201, 0.08252280940064201, 0.6601824752051361, 0.08252280940064201, 0.08252280940064201, 0.17412620161286071, 0.10882887600803795, 0.31560374042331, 0.26118930241929106, 0.10338743220763605, 0.04353155040321518, 0.022914546216758102, 0.011457273108379051, 0.9394963948870823, 0.011457273108379051, 0.011457273108379051, 0.011457273108379051, 0.07323429570304378, 0.05492572177728284, 0.7689601048819598, 0.06408000874016331, 0.018308573925760945, 0.009154286962880473, 0.03782997682745864, 0.025219984551639093, 0.012609992275819546, 0.08826994593073682, 0.807039505652451, 0.025219984551639093, 0.7163236762504115, 0.07163236762504115, 0.017908091906260287, 0.05372427571878086, 0.12535664334382202, 0.017908091906260287, 0.31222165368162924, 0.04072456352369077, 0.03733084989671654, 0.4106393488638819, 0.07466169979343308, 0.12556740419804654, 0.07719800482264101, 0.038599002411320506, 0.038599002411320506, 0.038599002411320506, 0.07719800482264101, 0.7333810458150896, 0.049724703339642844, 0.09944940667928569, 0.6961458467549998, 0.049724703339642844, 0.049724703339642844, 0.049724703339642844, 0.09272435156737795, 0.06232292482397534, 0.7159535998071314, 0.07600356685850651, 0.036481712092083125, 0.018240856046041563, 0.10452667207927444, 0.18814800974269397, 0.08362133766341955, 0.5226333603963722, 0.020905334415854886, 0.06271600324756466, 0.036394599197269444, 0.036394599197269444, 0.8370757815371972, 0.036394599197269444, 0.036394599197269444, 0.036394599197269444, 0.06269503035804132, 0.06269503035804132, 0.06269503035804132, 0.6896453339384545, 0.06269503035804132, 0.06269503035804132, 0.042263273788135734, 0.042263273788135734, 0.042263273788135734, 0.042263273788135734, 0.8030022019745789, 0.042263273788135734, 0.04911591470034346, 0.04911591470034346, 0.7367387205051519, 0.09823182940068692, 0.04911591470034346, 0.04911591470034346, 0.2198791268851543, 0.09674681582946788, 0.026385495226218515, 0.017590330150812343, 0.615661555278432, 0.026385495226218515, 0.04999977553941546, 0.02499988776970773, 0.02499988776970773, 0.02499988776970773, 0.8499961841700628, 0.02499988776970773, 0.03334557091077908, 0.8002937018586979, 0.03334557091077908, 0.03334557091077908, 0.03334557091077908, 0.06669114182155816, 0.0801386848460929, 0.05342578989739528, 0.02671289494869764, 0.5609707939226504, 0.2137031595895811, 0.0801386848460929, 0.1025190865347616, 0.0256297716336904, 0.0256297716336904, 0.1025190865347616, 0.64074429084226, 0.128148858168452, 0.2740634426612577, 0.015225746814514315, 0.03045149362902863, 0.15225746814514315, 0.42632091080640083, 0.10658022770160021, 0.043588652570246786, 0.043588652570246786, 0.043588652570246786, 0.08717730514049357, 0.7410070936941954, 0.043588652570246786, 0.014691780070386105, 0.9255821444343246, 0.014691780070386105, 0.014691780070386105, 0.014691780070386105, 0.014691780070386105, 0.08533672764976635, 0.1137823035330218, 0.014222787941627724, 0.668471033256503, 0.07111393970813862, 0.042668363824883176, 0.10000263384666147, 0.011111403760740164, 0.011111403760740164, 0.8222438782947721, 0.03333421128222049, 0.02222280752148033, 0.05613700758457279, 0.05613700758457279, 0.05613700758457279, 0.11227401516914558, 0.05613700758457279, 0.6175070834303007, 0.07576204420580078, 0.06410634509721604, 0.04662279643433894, 0.40212161924617335, 0.36132667236612676, 0.052450645988631306, 0.08012023881510955, 0.18694722390192228, 0.02670674627170318, 0.6409619105208764, 0.02670674627170318, 0.02670674627170318, 0.8866385626514641, 0.01809466454390743, 0.01809466454390743, 0.03618932908781486, 0.03618932908781486, 0.01809466454390743, 0.07909444992194642, 0.15818889984389284, 0.13182408320324404, 0.026364816640648808, 0.026364816640648808, 0.5800259660942738, 0.09292820199204284, 0.06637728713717345, 0.6239464990894305, 0.10620365941947753, 0.06637728713717345, 0.03982637228230407, 0.035271626581369835, 0.6278349531483831, 0.2539557113858628, 0.04938027721391777, 0.02821730126509587, 0.007054325316273967, 0.1177403939039265, 0.04754900523043186, 0.7698410370641349, 0.03396357516459418, 0.02264238344306279, 0.009056953377225115, 0.17736643381347303, 0.6980227395239905, 0.051493480784556685, 0.011442995729901486, 0.017164493594852226, 0.040050485054655194, 0.03449895681972309, 0.03449895681972309, 0.03449895681972309, 0.03449895681972309, 0.8624739204930773, 0.03449895681972309, 0.07663872435362722, 0.009579840544203402, 0.019159681088406804, 0.0670588838094238, 0.8142864462572891, 0.019159681088406804, 0.7303484129255187, 0.05618064714811682, 0.05618064714811682, 0.05618064714811682, 0.05618064714811682, 0.05618064714811682, 0.05816201404870754, 0.05816201404870754, 0.05816201404870754, 0.05816201404870754, 0.7561061826331981, 0.05816201404870754, 0.024903365819344672, 0.7221976087609955, 0.024903365819344672, 0.049806731638689344, 0.049806731638689344, 0.09961346327737869, 0.09501453105459401, 0.8076235139640491, 0.01583575517576567, 0.03167151035153134, 0.01583575517576567, 0.03167151035153134, 0.07406766332812625, 0.8147442966093887, 0.024689221109375416, 0.04937844221875083, 0.024689221109375416, 0.024689221109375416, 0.11634715717337338, 0.11634715717337338, 0.05817357858668669, 0.6399093644535536, 0.05817357858668669, 0.05817357858668669, 0.04813714511694097, 0.2888228707016458, 0.024068572558470485, 0.024068572558470485, 0.024068572558470485, 0.5535771688448211, 0.053343760601961734, 0.7645939019614515, 0.017781253533987244, 0.03556250706797449, 0.017781253533987244, 0.12446877473791071, 0.054216194067289905, 0.7590267169420587, 0.054216194067289905, 0.054216194067289905, 0.054216194067289905, 0.054216194067289905, 0.7296145027685029, 0.029184580110740117, 0.05836916022148023, 0.05836916022148023, 0.05836916022148023, 0.08755374033222035, 0.2073449420739795, 0.029620706010568498, 0.059241412021136995, 0.6220348262219384, 0.029620706010568498, 0.059241412021136995, 0.14743913428600725, 0.024573189047667872, 0.09829275619067149, 0.07371956714300362, 0.6389029152393647, 0.024573189047667872, 0.13262752528610755, 0.04420917509536918, 0.08841835019073836, 0.6631376264305378, 0.04420917509536918, 0.04420917509536918, 0.04834342840557165, 0.04834342840557165, 0.7251514260835747, 0.0966868568111433, 0.04834342840557165, 0.04834342840557165, 0.017810332752916564, 0.017810332752916564, 0.017810332752916564, 0.017810332752916564, 0.9083269703987449, 0.017810332752916564, 0.08820513059350454, 0.022051282648376136, 0.04410256529675227, 0.7276923273964124, 0.08820513059350454, 0.04410256529675227, 0.041404639504189676, 0.8487951098358884, 0.020702319752094838, 0.041404639504189676, 0.020702319752094838, 0.020702319752094838, 0.0324352135662442, 0.7784451255898608, 0.0324352135662442, 0.0648704271324884, 0.0324352135662442, 0.0648704271324884, 0.7896243339507002, 0.024172173488286743, 0.07251652046486022, 0.05640173813933573, 0.016114782325524494, 0.03222956465104899, 0.4766728866651675, 0.05777853171699, 0.34667119030194, 0.05777853171699, 0.03611158232311875, 0.02166694939387125, 0.02562076392488964, 0.922347501296027, 0.01708050928325976, 0.01708050928325976, 0.00854025464162988, 0.01708050928325976, 0.7882172862948299, 0.029193232825734442, 0.029193232825734442, 0.08757969847720333, 0.029193232825734442, 0.029193232825734442, 0.5985287665642426, 0.013602926512823696, 0.21764682420517914, 0.040808779538471084, 0.040808779538471084, 0.09522048558976587, 0.7627856915708576, 0.05448469225506126, 0.05448469225506126, 0.05448469225506126, 0.05448469225506126, 0.05448469225506126, 0.2255505977951563, 0.045110119559031256, 0.10149776900782033, 0.062026414393667975, 0.5018500800942227, 0.062026414393667975, 0.08920008798132938, 0.06690006598599703, 0.022300021995332344, 0.5575005498833087, 0.1561001539673264, 0.11150010997666172, 0.015283138396617504, 0.12226510717294004, 0.015283138396617504, 0.7794400582274927, 0.015283138396617504, 0.03056627679323501, 0.2136787929134348, 0.03561313215223914, 0.03561313215223914, 0.03561313215223914, 0.07122626430447827, 0.5698101144358262, 0.06463754773835521, 0.043091698492236805, 0.6894671758757889, 0.15082094472282884, 0.021545849246118402, 0.021545849246118402, 0.11068678002068419, 0.036895593340228065, 0.018447796670114033, 0.6641206801241052, 0.036895593340228065, 0.12913457669079823, 0.11071338001113377, 0.027678345002783444, 0.027678345002783444, 0.7196369700723695, 0.027678345002783444, 0.05535669000556689, 0.0751861376433347, 0.127816433993669, 0.7556206833155138, 0.022555841293000412, 0.0037593068821667355, 0.011277920646500206, 0.1501799238955023, 0.6229685731961577, 0.1501799238955023, 0.03337331642122274, 0.011124438807074245, 0.027811097017685613, 0.6298930272137426, 0.08215996007135773, 0.1917065734998347, 0.027386653357119244, 0.013693326678559622, 0.041079980035678865, 0.1738368261228229, 0.1738368261228229, 0.4097582330037968, 0.024833832303260413, 0.21108757457771352, 0.012416916151630207, 0.13402158109117676, 0.06701079054558838, 0.08376348818198548, 0.016752697636397095, 0.016752697636397095, 0.703613300728678, 0.19463619735805715, 0.6900737906331118, 0.053082599279470136, 0.03538839951964676, 0.01769419975982338, 0.01769419975982338, 0.7741390168887815, 0.03518813713130825, 0.03518813713130825, 0.03518813713130825, 0.0703762742626165, 0.03518813713130825, 0.08892953407455492, 0.7647939930411723, 0.08892953407455492, 0.017785906814910987, 0.017785906814910987, 0.03557181362982197, 0.1558107105661621, 0.09348642633969727, 0.031162142113232424, 0.06232428422646485, 0.031162142113232424, 0.6544049843778809, 0.1053036948983548, 0.0526518474491774, 0.0526518474491774, 0.0526518474491774, 0.0526518474491774, 0.6844740168393062, 0.06317789786807128, 0.010529649644678547, 0.010529649644678547, 0.8213126722849267, 0.03158894893403564, 0.06317789786807128, 0.14576996935473926, 0.04858998978491309, 0.04858998978491309, 0.09717997956982619, 0.09717997956982619, 0.5830798774189571, 0.15552882645522767, 0.05184294215174256, 0.02592147107587128, 0.5961938347450394, 0.02592147107587128, 0.15552882645522767, 0.0791230708098683, 0.04164372147887806, 0.012493116443663417, 0.749586986619805, 0.033314977183102445, 0.08745181510564391, 0.0660799692496464, 0.8590396002454033, 0.0440533128330976, 0.0110133282082744, 0.0110133282082744, 0.0110133282082744, 0.01394734652428243, 0.9344722171269229, 0.006973673262141215, 0.006973673262141215, 0.006973673262141215, 0.020921019786423644, 0.05820020235326245, 0.6984024282391494, 0.05820020235326245, 0.05820020235326245, 0.05820020235326245, 0.05820020235326245, 0.11693910169011422, 0.038979700563371404, 0.038979700563371404, 0.07795940112674281, 0.7016346101406853, 0.038979700563371404, 0.14209226608038425, 0.11367381286430739, 0.056836906432153694, 0.028418453216076847, 0.028418453216076847, 0.6252059707536907, 0.014473758371118861, 0.9118467773804882, 0.014473758371118861, 0.014473758371118861, 0.014473758371118861, 0.028947516742237722, 0.1687372912849983, 0.08436864564249914, 0.7086966233969928, 0.016873729128499826, 0.016873729128499826, 0.016873729128499826, 0.0436513601932057, 0.0436513601932057, 0.0436513601932057, 0.0436513601932057, 0.7857244834777026, 0.0436513601932057, 0.274769993562349, 0.027476999356234898, 0.24729299420611406, 0.10990799742493959, 0.04121549903435234, 0.2885084932404664, 0.1617320607296379, 0.49418129667389354, 0.06289580139485917, 0.14376183175967813, 0.053910686909879296, 0.08086603036481894, 0.42135993905079744, 0.09217248666736193, 0.3291874523834355, 0.039502494286012255, 0.06583749047668709, 0.039502494286012255, 0.25587320866277247, 0.04264553477712874, 0.6274985831491801, 0.01218443850775107, 0.02436887701550214, 0.03655331552325321, 0.8411482864089429, 0.028038276213631433, 0.028038276213631433, 0.028038276213631433, 0.0841148286408943, 0.028038276213631433, 0.04903079828796381, 0.7354619743194571, 0.01634359942932127, 0.06537439771728508, 0.03268719885864254, 0.09806159657592763, 0.2208987203045321, 0.022089872030453206, 0.5522468007613301, 0.08835948812181282, 0.04417974406090641, 0.06626961609135962, 0.8466419587156445, 0.0249012340798719, 0.0249012340798719, 0.0249012340798719, 0.0498024681597438, 0.0249012340798719, 0.9042145673546906, 0.01674471421027205, 0.01674471421027205, 0.01674471421027205, 0.01674471421027205, 0.01674471421027205, 0.02777206197097905, 0.02777206197097905, 0.02777206197097905, 0.02777206197097905, 0.8887059830713296, 0.02777206197097905, 0.10192872601418794, 0.38829990862547786, 0.14561246573455422, 0.16017371230800964, 0.14075871687673575, 0.06795248400945864, 0.06430018982193332, 0.06430018982193332, 0.06430018982193332, 0.06430018982193332, 0.7716022778631998, 0.06430018982193332, 0.05359965321466594, 0.6163960119686583, 0.013399913303666485, 0.0937993931256654, 0.13399913303666486, 0.08039947982199892, 0.1462501130620068, 0.0731250565310034, 0.0731250565310034, 0.1462501130620068, 0.493594131584273, 0.0365625282655017, 0.1729763073192699, 0.04324407682981748, 0.04324407682981748, 0.08648815365963496, 0.08648815365963496, 0.6054170756174447, 0.750539278303443, 0.04414936931196724, 0.04414936931196724, 0.08829873862393448, 0.04414936931196724, 0.04414936931196724, 0.14582538842545908, 0.024304231404243183, 0.024304231404243183, 0.07291269421272954, 0.19443385123394546, 0.5589973222975932, 0.5930811396844878, 0.030414417419717326, 0.10645046096901065, 0.06082883483943465, 0.09124325225915197, 0.10645046096901065, 0.10281088197426064, 0.02570272049356516, 0.02570272049356516, 0.79678433530052, 0.05140544098713032, 0.02570272049356516, 0.13378969734908006, 0.013378969734908005, 0.10703175787926404, 0.040136909204724014, 0.6421905472755842, 0.08027381840944803, 0.05060666698233811, 0.05060666698233811, 0.7084933377527335, 0.05060666698233811, 0.10121333396467622, 0.05060666698233811, 0.05042026999703219, 0.05042026999703219, 0.05042026999703219, 0.6554635099614184, 0.15126080999109656, 0.05042026999703219, 0.7212516548695842, 0.05548089652842956, 0.018493632176143186, 0.03698726435228637, 0.09246816088071592, 0.09246816088071592, 0.45124064077884285, 0.041652982225739335, 0.18049625631153712, 0.12495894667721802, 0.05553730963431912, 0.1388432740857978, 0.7815635047667738, 0.03398102194638147, 0.10194306583914442, 0.03398102194638147, 0.03398102194638147, 0.03398102194638147, 0.13103524287161766, 0.016379405358952208, 0.016379405358952208, 0.016379405358952208, 0.7370732411528493, 0.08189702679476105, 0.08044363570731132, 0.02011090892682783, 0.00670363630894261, 0.11396181725202437, 0.7575109029105149, 0.02681454523577044, 0.16176438477117958, 0.6874986352775132, 0.040441096192794894, 0.08088219238558979, 0.020220548096397447, 0.020220548096397447, 0.09128971270926109, 0.045644856354630545, 0.045644856354630545, 0.6390279889648276, 0.13693456906389162, 0.045644856354630545, 0.4792948156032631, 0.07293616759180091, 0.12503343015737298, 0.06251671507868649, 0.15629178769671623, 0.10419452513114416, 0.2719300944520469, 0.07648033906463819, 0.14446286267764993, 0.19544975538740872, 0.23793883264554105, 0.06798252361301173, 0.0735765915305629, 0.0735765915305629, 0.0735765915305629, 0.1471531830611258, 0.0735765915305629, 0.5886127322445032, 0.294392956454648, 0.030988732258384, 0.015494366129192, 0.54230281452172, 0.046483098387576, 0.07747183064596, 0.07431127763122951, 0.024770425877076504, 0.07431127763122951, 0.024770425877076504, 0.7100855418095264, 0.09908170350830602, 0.5163503440153784, 0.0868626746941758, 0.15442253278964588, 0.11099119544255798, 0.0723855622451465, 0.05308274564644077, 0.3992044909656075, 0.12657703372080237, 0.19473389803200367, 0.107103643917602, 0.07789355921280146, 0.09736694901600183, 0.09289811323838769, 0.018579622647677537, 0.018579622647677537, 0.07431849059071015, 0.7803441512024566, 0.018579622647677537, 0.9188295557755446, 0.017669799149529705, 0.017669799149529705, 0.017669799149529705, 0.017669799149529705, 0.017669799149529705, 0.7806571638270501, 0.025182489155711293, 0.05036497831142259, 0.07554746746713388, 0.025182489155711293, 0.05036497831142259, 0.5019951535875871, 0.011674305897385745, 0.035022917692157235, 0.2101375061529434, 0.09339444717908596, 0.15176597666601468, 0.09066634967969721, 0.06141914010560134, 0.7662768908413119, 0.049720256275962986, 0.017548325744457523, 0.01169888382963835, 0.14407243218581314, 0.016008048020645902, 0.016008048020645902, 0.27213681635098036, 0.4642333925987312, 0.08004024010322952, 0.24480423985644964, 0.030600529982056205, 0.015300264991028103, 0.07650132495514052, 0.6120105996411241, 0.030600529982056205, 0.4331493765849829, 0.04597674946991439, 0.15970870868496576, 0.11373195921505139, 0.09679315677876714, 0.15002939300708906, 0.05048800653307421, 0.05048800653307421, 0.025244003266537106, 0.07573200979961132, 0.7573200979961132, 0.05048800653307421, 0.03623035901110749, 0.6107403376158119, 0.025878827865076778, 0.08281224916824569, 0.06210918687618427, 0.18115179505553744, 0.15370671956350448, 0.0614826878254018, 0.0307413439127009, 0.6763095660794197, 0.0307413439127009, 0.0307413439127009, 0.09288546526022773, 0.028580143156993146, 0.02143510736774486, 0.2858014315699315, 0.5287326484043732, 0.04287021473548972, 0.21088517845439023, 0.03514752974239837, 0.017573764871199184, 0.08786882435599593, 0.5799342407495731, 0.07029505948479674, 0.1257078921712253, 0.6536810392903716, 0.08799552451985772, 0.02514157843424506, 0.06285394608561265, 0.05028315686849012, 0.09097612988183719, 0.6974836624274184, 0.13140996538487593, 0.010108458875759688, 0.010108458875759688, 0.060650753254558126, 0.17261100995066955, 0.08630550497533478, 0.017261100995066954, 0.06904440398026782, 0.6213996358224104, 0.03452220199013391, 0.573053961198756, 0.011236352180367764, 0.07865446526257434, 0.191017987066252, 0.12359987398404541, 0.022472704360735528, 0.0929901892275166, 0.0464950946137583, 0.0464950946137583, 0.0464950946137583, 0.7439215138201328, 0.0464950946137583, 0.3317810754598916, 0.027648422954990967, 0.055296845909981934, 0.43546266154110774, 0.03456052869373871, 0.11059369181996387, 0.30191282195290986, 0.11813979989461691, 0.09188651102914648, 0.14439308876008733, 0.05250657773094085, 0.28878617752017466, 0.10762797694533868, 0.05381398847266934, 0.05381398847266934, 0.05381398847266934, 0.161441965418008, 0.5919538731993628, 0.049828710948185174, 0.049828710948185174, 0.049828710948185174, 0.049828710948185174, 0.7972593751709628, 0.049828710948185174, 0.06782098055021372, 0.5764783346768166, 0.011303496758368954, 0.18085594813390327, 0.03391049027510686, 0.1243384643420585, 0.016625741906159446, 0.8257451813392526, 0.005541913968719815, 0.07758679556207741, 0.03325148381231889, 0.038793397781038706, 0.05933681971438271, 0.05933681971438271, 0.05933681971438271, 0.05933681971438271, 0.05933681971438271, 0.6527050168582098, 0.026879316128014377, 0.2001015756196626, 0.01791954408534292, 0.08063794838404313, 0.026879316128014377, 0.6480901777532356, 0.06972182358327948, 0.06972182358327948, 0.06972182358327948, 0.06972182358327948, 0.6972182358327947, 0.06972182358327948, 0.11246142049644967, 0.03748714016548322, 0.03748714016548322, 0.14994856066193288, 0.03748714016548322, 0.674768522978698, 0.03184129290031058, 0.09552387870093174, 0.7641910296074539, 0.03184129290031058, 0.03184129290031058, 0.03184129290031058, 0.05271653648242687, 0.05271653648242687, 0.6853149742715493, 0.10543307296485374, 0.05271653648242687, 0.05271653648242687, 0.048373542381201416, 0.048373542381201416, 0.7739766780992227, 0.048373542381201416, 0.048373542381201416, 0.048373542381201416, 0.03378415858163763, 0.7770356473776654, 0.10135247574491288, 0.03378415858163763, 0.03378415858163763, 0.03378415858163763, 0.07958214753888622, 0.7639886163733077, 0.015916429507777243, 0.07958214753888622, 0.015916429507777243, 0.031832859015554486, 0.10985121757229399, 0.054925608786146995, 0.054925608786146995, 0.714032914219911, 0.054925608786146995, 0.054925608786146995, 0.0729974233890979, 0.0729974233890979, 0.03649871169454895, 0.69347552219643, 0.0729974233890979, 0.0729974233890979, 0.05543587087650885, 0.05543587087650885, 0.05543587087650885, 0.05543587087650885, 0.776102192271124, 0.05543587087650885, 0.05457821806436699, 0.018192739354788996, 0.8368660103202937, 0.03638547870957799, 0.018192739354788996, 0.018192739354788996, 0.07337360562493234, 0.03668680281246617, 0.03668680281246617, 0.07337360562493234, 0.6970492534368572, 0.03668680281246617, 0.19876459174782857, 0.6956760711173999, 0.019876459174782857, 0.019876459174782857, 0.039752918349565715, 0.019876459174782857, 0.7905377441049822, 0.052702516273665484, 0.052702516273665484, 0.052702516273665484, 0.052702516273665484, 0.052702516273665484, 0.04283407790153245, 0.11779371422921425, 0.010708519475383113, 0.1606277921307467, 0.13921075317998047, 0.5354259737691557, 0.060645307591485266, 0.030322653795742633, 0.030322653795742633, 0.7883889986893085, 0.060645307591485266, 0.030322653795742633, 0.05473740142095179, 0.027368700710475896, 0.027368700710475896, 0.16421220426285538, 0.10947480284190358, 0.6021114156304697, 0.10397752790035353, 0.2339494377757954, 0.07798314592526515, 0.03899157296263257, 0.06498595493772095, 0.480896066539135, 0.7898560103071024, 0.07180509184610022, 0.03590254592305011, 0.07180509184610022, 0.03590254592305011, 0.03590254592305011, 0.11155889153823355, 0.11155889153823355, 0.055779445769116774, 0.055779445769116774, 0.11155889153823355, 0.6135739034602845, 0.05065846558011967, 0.7598769837017949, 0.05065846558011967, 0.05065846558011967, 0.05065846558011967, 0.10131693116023933, 0.29023643300054114, 0.03224849255561568, 0.612721358556698, 0.03224849255561568, 0.03224849255561568, 0.03224849255561568, 0.07094478091764717, 0.07094478091764717, 0.7094478091764717, 0.07094478091764717, 0.07094478091764717, 0.07094478091764717, 0.1329117201261847, 0.06645586006309236, 0.6645586006309236, 0.06645586006309236, 0.06645586006309236, 0.06645586006309236, 0.22934851988160934, 0.038224753313601555, 0.6498208063312264, 0.038224753313601555, 0.038224753313601555, 0.038224753313601555, 0.08211668184538147, 0.041058340922690735, 0.780108477531124, 0.020529170461345368, 0.041058340922690735, 0.020529170461345368, 0.10396737212603499, 0.3673513815119903, 0.027724632566942665, 0.18021011168512732, 0.20793474425206998, 0.11089853026777066, 0.13375839661650882, 0.01028910743203914, 0.01028910743203914, 0.061734644592234836, 0.11318018175243054, 0.6790810905145832, 0.10112335718373484, 0.05056167859186742, 0.05056167859186742, 0.6573018216942764, 0.15168503577560224, 0.05056167859186742, 0.13273767319286628, 0.026547534638573254, 0.026547534638573254, 0.026547534638573254, 0.7698785045186244, 0.026547534638573254, 0.13999103039768654, 0.06999551519884327, 0.06999551519884327, 0.6299596367895894, 0.06999551519884327, 0.06999551519884327, 0.22332995535939895, 0.031904279337056994, 0.6380855867411399, 0.031904279337056994, 0.06380855867411399, 0.031904279337056994, 0.06064401055847964, 0.06064401055847964, 0.06064401055847964, 0.06064401055847964, 0.7277281267017557, 0.06064401055847964, 0.058494200418348706, 0.7604246054385332, 0.058494200418348706, 0.058494200418348706, 0.058494200418348706, 0.058494200418348706, 0.11785276296428425, 0.03928425432142808, 0.03928425432142808, 0.03928425432142808, 0.07856850864285617, 0.7464008321071336, 0.20346105585536525, 0.05813173024439008, 0.02906586512219504, 0.02906586512219504, 0.02906586512219504, 0.6394490326882908, 0.2401205025847401, 0.4102058585822644, 0.0800401675282467, 0.07003514658721587, 0.15007531411546257, 0.04002008376412335, 0.05299336315510223, 0.7419070841714313, 0.05299336315510223, 0.05299336315510223, 0.05299336315510223, 0.10598672631020446, 0.009927338848137637, 0.11912806617765163, 0.009927338848137637, 0.019854677696275275, 0.04963669424068818, 0.7941871078510109, 0.7334720472188708, 0.04074844706771505, 0.020374223533857524, 0.0814968941354301, 0.10187111766928762, 0.020374223533857524, 0.8189089105687682, 0.051181806910548015, 0.051181806910548015, 0.051181806910548015, 0.051181806910548015, 0.051181806910548015, 0.041865281642013925, 0.041865281642013925, 0.041865281642013925, 0.041865281642013925, 0.7954403511982646, 0.041865281642013925, 0.04919818863306838, 0.7379728294960256, 0.04919818863306838, 0.09839637726613676, 0.04919818863306838, 0.04919818863306838, 0.10600425211846255, 0.021200850423692512, 0.021200850423692512, 0.6572263631344678, 0.06360255127107753, 0.14840595296584758, 0.0362938349424019, 0.0725876698848038, 0.0362938349424019, 0.0362938349424019, 0.7621705337904399, 0.0362938349424019, 0.08026436618888387, 0.08026436618888387, 0.08026436618888387, 0.642114929511071, 0.08026436618888387, 0.08026436618888387, 0.7306229860117528, 0.027060110593027882, 0.054120221186055764, 0.08118033177908364, 0.054120221186055764, 0.054120221186055764, 0.6485673944541248, 0.07509727725258288, 0.013654050409560522, 0.12971347889082496, 0.06827025204780261, 0.06144322684302235, 0.7236833046221269, 0.07866122876327467, 0.0471967372579648, 0.03146449150530987, 0.07866122876327467, 0.0471967372579648, 0.0872294600365759, 0.04361473001828795, 0.04361473001828795, 0.13084419005486386, 0.13084419005486386, 0.5669914902377434, 0.1100944382937162, 0.0550472191468581, 0.02752360957342905, 0.08257082872028715, 0.0550472191468581, 0.6605666297622972, 0.7427696985016188, 0.07073997128586847, 0.03536998564293423, 0.03536998564293423, 0.07073997128586847, 0.03536998564293423, 0.04986143147423543, 0.04986143147423543, 0.04986143147423543, 0.04986143147423543, 0.04986143147423543, 0.7977829035877669, 0.07456013892544427, 0.07456013892544427, 0.03728006946272214, 0.03728006946272214, 0.782881458717165, 0.03728006946272214, 0.08985258382630854, 0.04492629191315427, 0.04492629191315427, 0.04492629191315427, 0.04492629191315427, 0.7188206706104683, 0.32644157789757294, 0.022257380311198154, 0.13354428186718892, 0.30418419758637477, 0.13354428186718892, 0.07419126770399384, 0.12316905997260412, 0.04105635332420138, 0.7390143598356248, 0.04105635332420138, 0.04105635332420138, 0.04105635332420138, 0.07506413009741933, 0.0577416385364764, 0.8430279226325554, 0.00577416385364764, 0.00577416385364764, 0.00577416385364764, 0.12649740351434116, 0.01807105764490588, 0.01807105764490588, 0.7047712481513293, 0.03614211528981176, 0.07228423057962352, 0.038179402824546245, 0.038179402824546245, 0.019089701412273122, 0.7635880564909249, 0.07635880564909249, 0.057269104236819364, 0.40703065782067815, 0.06783844297011303, 0.12719708056896192, 0.20351532891033908, 0.0593586375988489, 0.12719708056896192, 0.7228222624456921, 0.025815080801631862, 0.07744524240489559, 0.1290754040081593, 0.051630161603263725, 0.025815080801631862, 0.19983352305376526, 0.019983352305376526, 0.719400682993555, 0.019983352305376526, 0.019983352305376526, 0.019983352305376526, 0.029524263442318045, 0.08857279032695413, 0.014762131721159023, 0.7381065860579511, 0.044286395163477064, 0.07381065860579511, 0.11038180395997227, 0.006132322442220682, 0.846260497026454, 0.018396967326662045, 0.012264644884441364, 0.006132322442220682, 0.02190661747845006, 0.02190661747845006, 0.02190661747845006, 0.02190661747845006, 0.8981713166164526, 0.02190661747845006, 0.0992698184683683, 0.024817454617092075, 0.024817454617092075, 0.024817454617092075, 0.7941585477469464, 0.024817454617092075, 0.22148260904674036, 0.7087443489495692, 0.022148260904674037, 0.022148260904674037, 0.022148260904674037, 0.022148260904674037, 0.824682239932652, 0.01683024979454392, 0.01683024979454392, 0.01683024979454392, 0.06732099917817568, 0.05049074938363175, 0.01879463332645881, 0.9491289829861699, 0.009397316663229405, 0.009397316663229405, 0.009397316663229405, 0.009397316663229405, 0.02632872602970373, 0.882012321995075, 0.013164363014851865, 0.013164363014851865, 0.02632872602970373, 0.02632872602970373, 0.7770582966192121, 0.045709311565836006, 0.09141862313167201, 0.045709311565836006, 0.045709311565836006, 0.045709311565836006, 0.7680027614799583, 0.018506090638071283, 0.0647713172332495, 0.037012181276142565, 0.018506090638071283, 0.08327740787132078, 0.5179681837647199, 0.13250348887004462, 0.060228858577293015, 0.19273234744733764, 0.03613731514637581, 0.07227463029275162, 0.8298358458039372, 0.021837785415893086, 0.04367557083178617, 0.04367557083178617, 0.021837785415893086, 0.04367557083178617], \"Term\": [\"able\", \"able\", \"able\", \"able\", \"able\", \"able\", \"abortion\", \"abortion\", \"abortion\", \"abortion\", \"abortion\", \"abortion\", \"actually\", \"actually\", \"actually\", \"actually\", \"actually\", \"actually\", \"afford\", \"afford\", \"afford\", \"afford\", \"afford\", \"afford\", \"affordable\", \"affordable\", \"affordable\", \"affordable\", \"affordable\", \"affordable\", \"aliens\", \"aliens\", \"aliens\", \"aliens\", \"aliens\", \"aliens\", \"already\", \"already\", \"already\", \"already\", \"already\", \"already\", \"among\", \"among\", \"among\", \"among\", \"among\", \"among\", \"anything\", \"anything\", \"anything\", \"anything\", \"anything\", \"anything\", \"authority\", \"authority\", \"authority\", \"authority\", \"authority\", \"authority\", \"babies\", \"babies\", \"babies\", \"babies\", \"babies\", \"babies\", \"back\", \"back\", \"back\", \"back\", \"back\", \"back\", \"belief\", \"belief\", \"belief\", \"belief\", \"belief\", \"belief\", \"better\", \"better\", \"better\", \"better\", \"better\", \"better\", \"biden\", \"biden\", \"biden\", \"biden\", \"biden\", \"biden\", \"big\", \"big\", \"big\", \"big\", \"big\", \"big\", \"biggest\", \"biggest\", \"biggest\", \"biggest\", \"biggest\", \"biggest\", \"black\", \"black\", \"black\", \"black\", \"black\", \"black\", \"blm\", \"blm\", \"blm\", \"blm\", \"blm\", \"blm\", \"border\", \"border\", \"border\", \"border\", \"border\", \"border\", \"bring\", \"bring\", \"bring\", \"bring\", \"bring\", \"bring\", \"brutality\", \"brutality\", \"brutality\", \"brutality\", \"brutality\", \"brutality\", \"business\", \"business\", \"business\", \"business\", \"business\", \"business\", \"businesses\", \"businesses\", \"businesses\", \"businesses\", \"businesses\", \"businesses\", \"care\", \"care\", \"care\", \"care\", \"care\", \"care\", \"censorship\", \"censorship\", \"censorship\", \"censorship\", \"censorship\", \"censorship\", \"change\", \"change\", \"change\", \"change\", \"change\", \"change\", \"cheating\", \"cheating\", \"cheating\", \"cheating\", \"cheating\", \"cheating\", \"children\", \"children\", \"children\", \"children\", \"children\", \"children\", \"china\", \"china\", \"china\", \"china\", \"china\", \"china\", \"civil\", \"civil\", \"civil\", \"civil\", \"civil\", \"civil\", \"class\", \"class\", \"class\", \"class\", \"class\", \"class\", \"climate\", \"climate\", \"climate\", \"climate\", \"climate\", \"climate\", \"closing\", \"closing\", \"closing\", \"closing\", \"closing\", \"closing\", \"color\", \"color\", \"color\", \"color\", \"color\", \"color\", \"come\", \"come\", \"come\", \"come\", \"come\", \"come\", \"congress\", \"congress\", \"congress\", \"congress\", \"congress\", \"congress\", \"conspiracy\", \"conspiracy\", \"conspiracy\", \"conspiracy\", \"conspiracy\", \"conspiracy\", \"control\", \"control\", \"control\", \"control\", \"control\", \"control\", \"corona\", \"corona\", \"corona\", \"corona\", \"corona\", \"corona\", \"coronavirus\", \"coronavirus\", \"coronavirus\", \"coronavirus\", \"coronavirus\", \"coronavirus\", \"corruption\", \"corruption\", \"corruption\", \"corruption\", \"corruption\", \"corruption\", \"countries\", \"countries\", \"countries\", \"countries\", \"countries\", \"countries\", \"country\", \"country\", \"country\", \"country\", \"country\", \"country\", \"court\", \"court\", \"court\", \"court\", \"court\", \"court\", \"coverage\", \"coverage\", \"coverage\", \"coverage\", \"coverage\", \"coverage\", \"covid\", \"covid\", \"covid\", \"covid\", \"covid\", \"covid\", \"crime\", \"crime\", \"crime\", \"crime\", \"crime\", \"crime\", \"cure\", \"cure\", \"cure\", \"cure\", \"cure\", \"cure\", \"dangerous\", \"dangerous\", \"dangerous\", \"dangerous\", \"dangerous\", \"dangerous\", \"de\", \"de\", \"de\", \"de\", \"de\", \"de\", \"deaths\", \"deaths\", \"deaths\", \"deaths\", \"deaths\", \"deaths\", \"debt\", \"debt\", \"debt\", \"debt\", \"debt\", \"debt\", \"deficit\", \"deficit\", \"deficit\", \"deficit\", \"deficit\", \"deficit\", \"defunding\", \"defunding\", \"defunding\", \"defunding\", \"defunding\", \"defunding\", \"democracy\", \"democracy\", \"democracy\", \"democracy\", \"democracy\", \"democracy\", \"democratic\", \"democratic\", \"democratic\", \"democratic\", \"democratic\", \"democratic\", \"democrats\", \"democrats\", \"democrats\", \"democrats\", \"democrats\", \"democrats\", \"dishonest\", \"dishonest\", \"dishonest\", \"dishonest\", \"dishonest\", \"dishonest\", \"disparity\", \"disparity\", \"disparity\", \"disparity\", \"disparity\", \"disparity\", \"divide\", \"divide\", \"divide\", \"divide\", \"divide\", \"divide\", \"divided\", \"divided\", \"divided\", \"divided\", \"divided\", \"divided\", \"dividing\", \"dividing\", \"dividing\", \"dividing\", \"dividing\", \"dividing\", \"division\", \"division\", \"division\", \"division\", \"division\", \"division\", \"divisiveness\", \"divisiveness\", \"divisiveness\", \"divisiveness\", \"divisiveness\", \"divisiveness\", \"dont\", \"dont\", \"dont\", \"dont\", \"dont\", \"dont\", \"drug\", \"drug\", \"drug\", \"drug\", \"drug\", \"drug\", \"due\", \"due\", \"due\", \"due\", \"due\", \"due\", \"economic\", \"economic\", \"economic\", \"economic\", \"economic\", \"economic\", \"economy\", \"economy\", \"economy\", \"economy\", \"economy\", \"economy\", \"education\", \"education\", \"education\", \"education\", \"education\", \"education\", \"el\", \"el\", \"el\", \"el\", \"el\", \"el\", \"election\", \"election\", \"election\", \"election\", \"election\", \"election\", \"else\", \"else\", \"else\", \"else\", \"else\", \"else\", \"en\", \"en\", \"en\", \"en\", \"en\", \"en\", \"enforcement\", \"enforcement\", \"enforcement\", \"enforcement\", \"enforcement\", \"enforcement\", \"environment\", \"environment\", \"environment\", \"environment\", \"environment\", \"environment\", \"environmental\", \"environmental\", \"environmental\", \"environmental\", \"environmental\", \"environmental\", \"epidemic\", \"epidemic\", \"epidemic\", \"epidemic\", \"epidemic\", \"epidemic\", \"equal\", \"equal\", \"equal\", \"equal\", \"equal\", \"equal\", \"equality\", \"equality\", \"equality\", \"equality\", \"equality\", \"equality\", \"equity\", \"equity\", \"equity\", \"equity\", \"equity\", \"equity\", \"even\", \"even\", \"even\", \"even\", \"even\", \"even\", \"facing\", \"facing\", \"facing\", \"facing\", \"facing\", \"facing\", \"federal\", \"federal\", \"federal\", \"federal\", \"federal\", \"federal\", \"fighting\", \"fighting\", \"fighting\", \"fighting\", \"fighting\", \"fighting\", \"finding\", \"finding\", \"finding\", \"finding\", \"finding\", \"finding\", \"fraud\", \"fraud\", \"fraud\", \"fraud\", \"fraud\", \"fraud\", \"freedom\", \"freedom\", \"freedom\", \"freedom\", \"freedom\", \"freedom\", \"gap\", \"gap\", \"gap\", \"gap\", \"gap\", \"gap\", \"gender\", \"gender\", \"gender\", \"gender\", \"gender\", \"gender\", \"get\", \"get\", \"get\", \"get\", \"get\", \"get\", \"getting\", \"getting\", \"getting\", \"getting\", \"getting\", \"getting\", \"global\", \"global\", \"global\", \"global\", \"global\", \"global\", \"god\", \"god\", \"god\", \"god\", \"god\", \"god\", \"going\", \"going\", \"going\", \"going\", \"going\", \"going\", \"got\", \"got\", \"got\", \"got\", \"got\", \"got\", \"government\", \"government\", \"government\", \"government\", \"government\", \"government\", \"groups\", \"groups\", \"groups\", \"groups\", \"groups\", \"groups\", \"gun\", \"gun\", \"gun\", \"gun\", \"gun\", \"gun\", \"hand\", \"hand\", \"hand\", \"hand\", \"hand\", \"hand\", \"handling\", \"handling\", \"handling\", \"handling\", \"handling\", \"handling\", \"hate\", \"hate\", \"hate\", \"hate\", \"hate\", \"hate\", \"hatred\", \"hatred\", \"hatred\", \"hatred\", \"hatred\", \"hatred\", \"health\", \"health\", \"health\", \"health\", \"health\", \"health\", \"healthcare\", \"healthcare\", \"healthcare\", \"healthcare\", \"healthcare\", \"healthcare\", \"help\", \"help\", \"help\", \"help\", \"help\", \"help\", \"high\", \"high\", \"high\", \"high\", \"high\", \"high\", \"homeless\", \"homeless\", \"homeless\", \"homeless\", \"homeless\", \"homeless\", \"homelessness\", \"homelessness\", \"homelessness\", \"homelessness\", \"homelessness\", \"homelessness\", \"hope\", \"hope\", \"hope\", \"hope\", \"hope\", \"hope\", \"housing\", \"housing\", \"housing\", \"housing\", \"housing\", \"housing\", \"human\", \"human\", \"human\", \"human\", \"human\", \"human\", \"hungry\", \"hungry\", \"hungry\", \"hungry\", \"hungry\", \"hungry\", \"illegal\", \"illegal\", \"illegal\", \"illegal\", \"illegal\", \"illegal\", \"illegals\", \"illegals\", \"illegals\", \"illegals\", \"illegals\", \"illegals\", \"immigrants\", \"immigrants\", \"immigrants\", \"immigrants\", \"immigrants\", \"immigrants\", \"immigration\", \"immigration\", \"immigration\", \"immigration\", \"immigration\", \"immigration\", \"income\", \"income\", \"income\", \"income\", \"income\", \"income\", \"inequality\", \"inequality\", \"inequality\", \"inequality\", \"inequality\", \"inequality\", \"inequity\", \"inequity\", \"inequity\", \"inequity\", \"inequity\", \"inequity\", \"influence\", \"influence\", \"influence\", \"influence\", \"influence\", \"influence\", \"infrastructure\", \"infrastructure\", \"infrastructure\", \"infrastructure\", \"infrastructure\", \"infrastructure\", \"injustice\", \"injustice\", \"injustice\", \"injustice\", \"injustice\", \"injustice\", \"insurance\", \"insurance\", \"insurance\", \"insurance\", \"insurance\", \"insurance\", \"integrity\", \"integrity\", \"integrity\", \"integrity\", \"integrity\", \"integrity\", \"issue\", \"issue\", \"issue\", \"issue\", \"issue\", \"issue\", \"issues\", \"issues\", \"issues\", \"issues\", \"issues\", \"issues\", \"job\", \"job\", \"job\", \"job\", \"job\", \"job\", \"jobs\", \"jobs\", \"jobs\", \"jobs\", \"jobs\", \"jobs\", \"joe\", \"joe\", \"joe\", \"joe\", \"joe\", \"joe\", \"justice\", \"justice\", \"justice\", \"justice\", \"justice\", \"justice\", \"keeping\", \"keeping\", \"keeping\", \"keeping\", \"keeping\", \"keeping\", \"kids\", \"kids\", \"kids\", \"kids\", \"kids\", \"kids\", \"know\", \"know\", \"know\", \"know\", \"know\", \"know\", \"la\", \"la\", \"la\", \"la\", \"la\", \"la\", \"lack\", \"lack\", \"lack\", \"lack\", \"lack\", \"lack\", \"las\", \"las\", \"las\", \"las\", \"las\", \"las\", \"law\", \"law\", \"law\", \"law\", \"law\", \"law\", \"leadership\", \"leadership\", \"leadership\", \"leadership\", \"leadership\", \"leadership\", \"legal\", \"legal\", \"legal\", \"legal\", \"legal\", \"legal\", \"let\", \"let\", \"let\", \"let\", \"let\", \"let\", \"liberal\", \"liberal\", \"liberal\", \"liberal\", \"liberal\", \"liberal\", \"like\", \"like\", \"like\", \"like\", \"like\", \"like\", \"limits\", \"limits\", \"limits\", \"limits\", \"limits\", \"limits\", \"lives\", \"lives\", \"lives\", \"lives\", \"lives\", \"lives\", \"lockdowns\", \"lockdowns\", \"lockdowns\", \"lockdowns\", \"lockdowns\", \"lockdowns\", \"looting\", \"looting\", \"looting\", \"looting\", \"looting\", \"looting\", \"make\", \"make\", \"make\", \"make\", \"make\", \"make\", \"many\", \"many\", \"many\", \"many\", \"many\", \"many\", \"mask\", \"mask\", \"mask\", \"mask\", \"mask\", \"mask\", \"matter\", \"matter\", \"matter\", \"matter\", \"matter\", \"matter\", \"media\", \"media\", \"media\", \"media\", \"media\", \"media\", \"middle\", \"middle\", \"middle\", \"middle\", \"middle\", \"middle\", \"misinformation\", \"misinformation\", \"misinformation\", \"misinformation\", \"misinformation\", \"misinformation\", \"money\", \"money\", \"money\", \"money\", \"money\", \"money\", \"much\", \"much\", \"much\", \"much\", \"much\", \"much\", \"murder\", \"murder\", \"murder\", \"murder\", \"murder\", \"murder\", \"nation\", \"nation\", \"nation\", \"nation\", \"nation\", \"nation\", \"national\", \"national\", \"national\", \"national\", \"national\", \"national\", \"need\", \"need\", \"need\", \"need\", \"need\", \"need\", \"needs\", \"needs\", \"needs\", \"needs\", \"needs\", \"needs\", \"news\", \"news\", \"news\", \"news\", \"news\", \"news\", \"none\", \"none\", \"none\", \"none\", \"none\", \"none\", \"nothing\", \"nothing\", \"nothing\", \"nothing\", \"nothing\", \"nothing\", \"one\", \"one\", \"one\", \"one\", \"one\", \"one\", \"pandemic\", \"pandemic\", \"pandemic\", \"pandemic\", \"pandemic\", \"pandemic\", \"parties\", \"parties\", \"parties\", \"parties\", \"parties\", \"parties\", \"party\", \"party\", \"party\", \"party\", \"party\", \"party\", \"people\", \"people\", \"people\", \"people\", \"people\", \"people\", \"polarization\", \"polarization\", \"polarization\", \"polarization\", \"polarization\", \"polarization\", \"police\", \"police\", \"police\", \"police\", \"police\", \"police\", \"policy\", \"policy\", \"policy\", \"policy\", \"policy\", \"policy\", \"political\", \"political\", \"political\", \"political\", \"political\", \"political\", \"politicians\", \"politicians\", \"politicians\", \"politicians\", \"politicians\", \"politicians\", \"poor\", \"poor\", \"poor\", \"poor\", \"poor\", \"poor\", \"poverty\", \"poverty\", \"poverty\", \"poverty\", \"poverty\", \"poverty\", \"power\", \"power\", \"power\", \"power\", \"power\", \"power\", \"president\", \"president\", \"president\", \"president\", \"president\", \"president\", \"presidential\", \"presidential\", \"presidential\", \"presidential\", \"presidential\", \"presidential\", \"problem\", \"problem\", \"problem\", \"problem\", \"problem\", \"problem\", \"problems\", \"problems\", \"problems\", \"problems\", \"problems\", \"problems\", \"protecting\", \"protecting\", \"protecting\", \"protecting\", \"protecting\", \"protecting\", \"que\", \"que\", \"que\", \"que\", \"que\", \"que\", \"race\", \"race\", \"race\", \"race\", \"race\", \"race\", \"racial\", \"racial\", \"racial\", \"racial\", \"racial\", \"racial\", \"racisim\", \"racisim\", \"racisim\", \"racisim\", \"racisim\", \"racisim\", \"racism\", \"racism\", \"racism\", \"racism\", \"racism\", \"racism\", \"racismo\", \"racismo\", \"racismo\", \"racismo\", \"racismo\", \"racismo\", \"racist\", \"racist\", \"racist\", \"racist\", \"racist\", \"racist\", \"rate\", \"rate\", \"rate\", \"rate\", \"rate\", \"rate\", \"rates\", \"rates\", \"rates\", \"rates\", \"rates\", \"rates\", \"recession\", \"recession\", \"recession\", \"recession\", \"recession\", \"recession\", \"recovery\", \"recovery\", \"recovery\", \"recovery\", \"recovery\", \"recovery\", \"relations\", \"relations\", \"relations\", \"relations\", \"relations\", \"relations\", \"relationships\", \"relationships\", \"relationships\", \"relationships\", \"relationships\", \"relationships\", \"religious\", \"religious\", \"religious\", \"religious\", \"religious\", \"religious\", \"reporting\", \"reporting\", \"reporting\", \"reporting\", \"reporting\", \"reporting\", \"response\", \"response\", \"response\", \"response\", \"response\", \"response\", \"results\", \"results\", \"results\", \"results\", \"results\", \"results\", \"rich\", \"rich\", \"rich\", \"rich\", \"rich\", \"rich\", \"rid\", \"rid\", \"rid\", \"rid\", \"rid\", \"rid\", \"rights\", \"rights\", \"rights\", \"rights\", \"rights\", \"rights\", \"rioting\", \"rioting\", \"rioting\", \"rioting\", \"rioting\", \"rioting\", \"riots\", \"riots\", \"riots\", \"riots\", \"riots\", \"riots\", \"security\", \"security\", \"security\", \"security\", \"security\", \"security\", \"seriously\", \"seriously\", \"seriously\", \"seriously\", \"seriously\", \"seriously\", \"sex\", \"sex\", \"sex\", \"sex\", \"sex\", \"sex\", \"sexism\", \"sexism\", \"sexism\", \"sexism\", \"sexism\", \"sexism\", \"shut\", \"shut\", \"shut\", \"shut\", \"shut\", \"shut\", \"shutdown\", \"shutdown\", \"shutdown\", \"shutdown\", \"shutdown\", \"shutdown\", \"shutdowns\", \"shutdowns\", \"shutdowns\", \"shutdowns\", \"shutdowns\", \"shutdowns\", \"shutting\", \"shutting\", \"shutting\", \"shutting\", \"shutting\", \"shutting\", \"small\", \"small\", \"small\", \"small\", \"small\", \"small\", \"social\", \"social\", \"social\", \"social\", \"social\", \"social\", \"socialism\", \"socialism\", \"socialism\", \"socialism\", \"socialism\", \"socialism\", \"speech\", \"speech\", \"speech\", \"speech\", \"speech\", \"speech\", \"spending\", \"spending\", \"spending\", \"spending\", \"spending\", \"spending\", \"split\", \"split\", \"split\", \"split\", \"split\", \"split\", \"stimulus\", \"stimulus\", \"stimulus\", \"stimulus\", \"stimulus\", \"stimulus\", \"suppression\", \"suppression\", \"suppression\", \"suppression\", \"suppression\", \"suppression\", \"supremacy\", \"supremacy\", \"supremacy\", \"supremacy\", \"supremacy\", \"supremacy\", \"supreme\", \"supreme\", \"supreme\", \"supreme\", \"supreme\", \"supreme\", \"sure\", \"sure\", \"sure\", \"sure\", \"sure\", \"sure\", \"system\", \"system\", \"system\", \"system\", \"system\", \"system\", \"systematic\", \"systematic\", \"systematic\", \"systematic\", \"systematic\", \"systematic\", \"systemic\", \"systemic\", \"systemic\", \"systemic\", \"systemic\", \"systemic\", \"take\", \"take\", \"take\", \"take\", \"take\", \"take\", \"teaching\", \"teaching\", \"teaching\", \"teaching\", \"teaching\", \"teaching\", \"tech\", \"tech\", \"tech\", \"tech\", \"tech\", \"tech\", \"tensions\", \"tensions\", \"tensions\", \"tensions\", \"tensions\", \"tensions\", \"term\", \"term\", \"term\", \"term\", \"term\", \"term\", \"terrorism\", \"terrorism\", \"terrorism\", \"terrorism\", \"terrorism\", \"terrorism\", \"theories\", \"theories\", \"theories\", \"theories\", \"theories\", \"theories\", \"things\", \"things\", \"things\", \"things\", \"things\", \"things\", \"think\", \"think\", \"think\", \"think\", \"think\", \"think\", \"time\", \"time\", \"time\", \"time\", \"time\", \"time\", \"toward\", \"toward\", \"toward\", \"toward\", \"toward\", \"toward\", \"towards\", \"towards\", \"towards\", \"towards\", \"towards\", \"towards\", \"trade\", \"trade\", \"trade\", \"trade\", \"trade\", \"trade\", \"trafficking\", \"trafficking\", \"trafficking\", \"trafficking\", \"trafficking\", \"trafficking\", \"transition\", \"transition\", \"transition\", \"transition\", \"transition\", \"transition\", \"treated\", \"treated\", \"treated\", \"treated\", \"treated\", \"treated\", \"trump\", \"trump\", \"trump\", \"trump\", \"trump\", \"trump\", \"unemployed\", \"unemployed\", \"unemployed\", \"unemployed\", \"unemployed\", \"unemployed\", \"unemployment\", \"unemployment\", \"unemployment\", \"unemployment\", \"unemployment\", \"unemployment\", \"unity\", \"unity\", \"unity\", \"unity\", \"unity\", \"unity\", \"unrest\", \"unrest\", \"unrest\", \"unrest\", \"unrest\", \"unrest\", \"us\", \"us\", \"us\", \"us\", \"us\", \"us\", \"usa\", \"usa\", \"usa\", \"usa\", \"usa\", \"usa\", \"vaccine\", \"vaccine\", \"vaccine\", \"vaccine\", \"vaccine\", \"vaccine\", \"violence\", \"violence\", \"violence\", \"violence\", \"violence\", \"violence\", \"virus\", \"virus\", \"virus\", \"virus\", \"virus\", \"virus\", \"voter\", \"voter\", \"voter\", \"voter\", \"voter\", \"voter\", \"voting\", \"voting\", \"voting\", \"voting\", \"voting\", \"voting\", \"wage\", \"wage\", \"wage\", \"wage\", \"wage\", \"wage\", \"want\", \"want\", \"want\", \"want\", \"want\", \"want\", \"warming\", \"warming\", \"warming\", \"warming\", \"warming\", \"warming\", \"wealth\", \"wealth\", \"wealth\", \"wealth\", \"wealth\", \"wealth\", \"wearing\", \"wearing\", \"wearing\", \"wearing\", \"wearing\", \"wearing\", \"work\", \"work\", \"work\", \"work\", \"work\", \"work\", \"world\", \"world\", \"world\", \"world\", \"world\", \"world\", \"would\", \"would\", \"would\", \"would\", \"would\", \"would\"]}, \"R\": 30, \"lambda.step\": 0.01, \"plot.opts\": {\"xlab\": \"PC1\", \"ylab\": \"PC2\"}, \"topic.order\": [5, 2, 6, 4, 3, 1]};\n",
       "\n",
       "function LDAvis_load_lib(url, callback){\n",
       "  var s = document.createElement('script');\n",
       "  s.src = url;\n",
       "  s.async = true;\n",
       "  s.onreadystatechange = s.onload = callback;\n",
       "  s.onerror = function(){console.warn(\"failed to load library \" + url);};\n",
       "  document.getElementsByTagName(\"head\")[0].appendChild(s);\n",
       "}\n",
       "\n",
       "if(typeof(LDAvis) !== \"undefined\"){\n",
       "   // already loaded: just create the visualization\n",
       "   !function(LDAvis){\n",
       "       new LDAvis(\"#\" + \"ldavis_el23566851407165021294562970532069\", ldavis_el23566851407165021294562970532069_data);\n",
       "   }(LDAvis);\n",
       "}else if(typeof define === \"function\" && define.amd){\n",
       "   // require.js is available: use it to load d3/LDAvis\n",
       "   require.config({paths: {d3: \"https://d3js.org/d3.v5\"}});\n",
       "   require([\"d3\"], function(d3){\n",
       "      window.d3 = d3;\n",
       "      LDAvis_load_lib(\"https://cdn.jsdelivr.net/gh/bmabey/pyLDAvis@3.4.0/pyLDAvis/js/ldavis.v3.0.0.js\", function(){\n",
       "        new LDAvis(\"#\" + \"ldavis_el23566851407165021294562970532069\", ldavis_el23566851407165021294562970532069_data);\n",
       "      });\n",
       "    });\n",
       "}else{\n",
       "    // require.js not available: dynamically load d3 & LDAvis\n",
       "    LDAvis_load_lib(\"https://d3js.org/d3.v5.js\", function(){\n",
       "         LDAvis_load_lib(\"https://cdn.jsdelivr.net/gh/bmabey/pyLDAvis@3.4.0/pyLDAvis/js/ldavis.v3.0.0.js\", function(){\n",
       "                 new LDAvis(\"#\" + \"ldavis_el23566851407165021294562970532069\", ldavis_el23566851407165021294562970532069_data);\n",
       "            })\n",
       "         });\n",
       "}\n",
       "</script>"
      ],
      "text/plain": [
       "PreparedData(topic_coordinates=              x         y  topics  cluster       Freq\n",
       "topic                                                \n",
       "4      0.014410 -0.052605       1        1  26.369017\n",
       "1     -0.119977  0.170550       2        1  17.483431\n",
       "5     -0.161441 -0.138806       3        1  16.290815\n",
       "3      0.078464 -0.010769       4        1  14.666183\n",
       "2      0.129516 -0.031366       5        1  14.405359\n",
       "0      0.059028  0.062995       6        1  10.785195, topic_info=            Term        Freq       Total Category  logprob  loglift\n",
       "191        covid  657.000000  657.000000  Default  30.0000  30.0000\n",
       "271      economy  441.000000  441.000000  Default  29.0000  29.0000\n",
       "717       racism  334.000000  334.000000  Default  28.0000  28.0000\n",
       "638     pandemic  341.000000  341.000000  Default  27.0000  27.0000\n",
       "139      climate  222.000000  222.000000  Default  26.0000  26.0000\n",
       "..           ...         ...         ...      ...      ...      ...\n",
       "691     problems   22.120965   76.180931   Topic6  -5.0873   0.9904\n",
       "480        issue   21.497632   72.788152   Topic6  -5.1159   1.0074\n",
       "186      country   37.232492  294.662458   Topic6  -4.5666   0.1583\n",
       "563         many   20.233625  144.047309   Topic6  -5.1765   0.2642\n",
       "449  immigration   21.065475  240.132237   Topic6  -5.1362  -0.2066\n",
       "\n",
       "[324 rows x 6 columns], token_table=      Topic      Freq   Term\n",
       "term                        \n",
       "1         1  0.750395   able\n",
       "1         2  0.053600   able\n",
       "1         3  0.026800   able\n",
       "1         4  0.053600   able\n",
       "1         5  0.080399   able\n",
       "...     ...       ...    ...\n",
       "992       2  0.021838  would\n",
       "992       3  0.043676  would\n",
       "992       4  0.043676  would\n",
       "992       5  0.021838  would\n",
       "992       6  0.043676  would\n",
       "\n",
       "[1578 rows x 3 columns], R=30, lambda_step=0.01, plot_opts={'xlab': 'PC1', 'ylab': 'PC2'}, topic_order=[5, 2, 6, 4, 3, 1])"
      ]
     },
     "execution_count": 17,
     "metadata": {},
     "output_type": "execute_result"
    }
   ],
   "source": [
    "import pyLDAvis.gensim\n",
    "import pickle \n",
    "import pyLDAvis\n",
    "import os\n",
    "\n",
    "# Step 8: Visualize with PyLDAvis\n",
    "pyLDAvis.enable_notebook()\n",
    "LDAvis_data_filepath = os.path.join('/mnt/home/kim/thesis/data/processed_data/ldavis_'+str(num_topics))\n",
    "\n",
    "# Prepare and save the visualization\n",
    "if not os.path.exists(LDAvis_data_filepath):\n",
    "    LDAvis_prepared = pyLDAvis.gensim.prepare(lda_model, combined_corpus, combined_dictionary)\n",
    "    with open(LDAvis_data_filepath, 'wb') as f:\n",
    "        pickle.dump(LDAvis_prepared, f)\n",
    "else:\n",
    "    with open(LDAvis_data_filepath, 'rb') as f:\n",
    "        LDAvis_prepared = pickle.load(f)\n",
    "\n",
    "# Save the visualization as an HTML file\n",
    "pyLDAvis.save_html(LDAvis_prepared, '/mnt/home/kim/thesis/data/processed_data/ldavis_'+ str(num_topics) +'.html')\n",
    "\n",
    "# Display inline in Jupyter Notebook\n",
    "LDAvis_prepared"
   ]
  },
  {
   "cell_type": "markdown",
   "id": "ab44f042",
   "metadata": {},
   "source": [
    "* topic = 6 shows the best-humanly-readable clustering results from the LDA\n",
    "* topic = 10 shows the funny results, one cluster consists of just spanish-speaking people. "
   ]
  },
  {
   "cell_type": "markdown",
   "id": "f39ca2be",
   "metadata": {},
   "source": [
    "### 2. Dataset: Create the summed BOW after vectorizing each response\n",
    "### * with BOW"
   ]
  },
  {
   "cell_type": "code",
   "execution_count": 62,
   "id": "18d35db3",
   "metadata": {},
   "outputs": [],
   "source": [
    "# Step 1: Load Data\n",
    "m1 = pd.read_json('~/thesis/data/processed_uscensus/political_mention1.jsonl', orient='index')\n",
    "m2 = pd.read_json('~/thesis/data/processed_uscensus/political_mention2.jsonl', orient='index')\n",
    "m3 = pd.read_json('~/thesis/data/processed_uscensus/political_mention3.jsonl', orient='index')\n",
    "\n",
    "# Step 2: Align DataFrames by index\n",
    "df = m1.join(m2, how='outer', lsuffix='_1').join(m3, how='outer', lsuffix='_2', rsuffix='_3')\n",
    "df.fillna('', inplace=True)\n",
    "\n",
    "# Rename columns if needed\n",
    "df.columns = ['response1', 'response2', 'response3']"
   ]
  },
  {
   "cell_type": "code",
   "execution_count": 63,
   "id": "415835ac",
   "metadata": {},
   "outputs": [],
   "source": [
    "# Step 3: Vectorize each column using BoW\n",
    "vectorizer = CountVectorizer(max_features=1000)\n",
    "\n",
    "vectors1 = vectorizer.fit_transform(df['response1']).toarray()\n",
    "vectors2 = vectorizer.fit_transform(df['response2']).toarray()\n",
    "vectors3 = vectorizer.fit_transform(df['response3']).toarray()"
   ]
  },
  {
   "cell_type": "code",
   "execution_count": 64,
   "id": "1262a9ed",
   "metadata": {},
   "outputs": [],
   "source": [
    "# Step 4: Ensure all vectors have the same shape by padding missing vectors with zeros\n",
    "max_len = max(vectors1.shape[0], vectors2.shape[0], vectors3.shape[0])\n",
    "\n",
    "if vectors1.shape[0] < max_len:\n",
    "    vectors1 = np.pad(vectors1, ((0, max_len - vectors1.shape[0]), (0, 0)), 'constant')\n",
    "\n",
    "if vectors2.shape[0] < max_len:\n",
    "    vectors2 = np.pad(vectors2, ((0, max_len - vectors2.shape[0]), (0, 0)), 'constant')\n",
    "\n",
    "if vectors3.shape[0] < max_len:\n",
    "    vectors3 = np.pad(vectors3, ((0, max_len - vectors3.shape[0]), (0, 0)), 'constant')\n",
    "\n",
    "# Step 5: Sum the vectors element-wise\n",
    "summed_vectors = vectors1 + vectors2 + vectors3\n"
   ]
  },
  {
   "cell_type": "code",
   "execution_count": 21,
   "id": "21d41fcd",
   "metadata": {},
   "outputs": [],
   "source": [
    "# Step 6: Create DataFrame from the summed vectors\n",
    "final_df = pd.DataFrame(summed_vectors)\n",
    "\n",
    "# Step 7: Convert final_df to a Gensim-compatible corpus format\n",
    "corpus = [list(enumerate(doc)) for doc in final_df.values]\n",
    "\n",
    "# Create a dummy Dictionary for visualization purposes\n",
    "dummy_dict = Dictionary()\n",
    "dummy_dict.token2id = {str(i): i for i in range(final_df.shape[1])}\n",
    "dummy_dict.id2token = {i: str(i) for i in range(final_df.shape[1])}\n"
   ]
  },
  {
   "cell_type": "code",
   "execution_count": 22,
   "id": "26c8c0e8",
   "metadata": {},
   "outputs": [],
   "source": [
    "# Step 8: Train the LDA model on the corpus\n",
    "num_topics = 5  # Adjust based on your needs\n",
    "lda_model = LdaModel(corpus=corpus, num_topics=num_topics, id2word=dummy_dict, passes=10)\n"
   ]
  },
  {
   "cell_type": "code",
   "execution_count": 23,
   "id": "f4063604",
   "metadata": {},
   "outputs": [
    {
     "data": {
      "text/html": [
       "\n",
       "<link rel=\"stylesheet\" type=\"text/css\" href=\"https://cdn.jsdelivr.net/gh/bmabey/pyLDAvis@3.4.0/pyLDAvis/js/ldavis.v1.0.0.css\">\n",
       "\n",
       "\n",
       "<div id=\"ldavis_el23566851407164058946084059237994\" style=\"background-color:white;\"></div>\n",
       "<script type=\"text/javascript\">\n",
       "\n",
       "var ldavis_el23566851407164058946084059237994_data = {\"mdsDat\": {\"x\": [-0.13881212041017577, -0.09731839357683535, 0.09746307393240967, -0.16447377741246538, 0.3031412174670665], \"y\": [-0.07916493226960641, -0.2503416880671505, 0.04462292897582958, 0.26958284332279, 0.01530084803813749], \"topics\": [1, 2, 3, 4, 5], \"cluster\": [1, 1, 1, 1, 1], \"Freq\": [29.934164249039714, 20.24931608953805, 17.329237734743256, 16.49376985789239, 15.993512068786595]}, \"tinfo\": {\"Term\": [\"manufacturing\", \"pandemic\", \"covid\", \"19\", \"information\", \"allow\", \"effort\", \"policing\", \"country\", \"trabajos\", \"disease\", \"change\", \"growth\", \"opinions\", \"fake\", \"views\", \"politically\", \"simmer\", \"tatic\", \"whites\", \"demensional\", \"false\", \"economy\", \"people\", \"fighting\", \"bill\", \"virus\", \"imprisonment\", \"refusal\", \"health\", \"americans\", \"mankind\", \"direction\", \"unaccountable\", \"election\", \"severe\", \"poses\", \"compromise\", \"corruption\", \"continually\", \"problem\", \"turning\", \"around\", \"thy\", \"understand\", \"unity\", \"one\", \"kind\", \"mensch\", \"enviromental\", \"youmg\", \"divided\", \"currently\", \"biggest\", \"break\", \"upon\", \"great\", \"positive\", \"color\", \"leads\", \"breathed\", \"say\", \"live\", \"much\", \"country\", \"division\", \"political\", \"whites\", \"people\", \"white\", \"think\", \"globalism\", \"debates\", \"government\", \"name\", \"pandemic\", \"covid\", \"19\", \"effort\", \"disease\", \"virus\", \"spread\", \"coordination\", \"small\", \"garbage\", \"corona\", \"president2\", \"standard\", \"spends\", \"back\", \"pr0gressive\", \"control\", \"distancing\", \"stimulating\", \"businesses\", \"disrespect\", \"odds\", \"equaloity\", \"guidelines\", \"observed\", \"recovery\", \"follow\", \"extrememly\", \"blow\", \"accountability\", \"economy\", \"order\", \"rules\", \"jobs\", \"getting\", \"lot\", \"whites\", \"people\", \"fighting\", \"towards\", \"following\", \"increase\", \"allow\", \"change\", \"simmer\", \"demensional\", \"health\", \"climate\", \"planning\", \"racim\", \"system\", \"exhausting\", \"spirit\", \"needing\", \"care\", \"prejudices\", \"destroyed\", \"brat\", \"offer\", \"sone\", \"crisis\", \"equitable\", \"vets\", \"border\", \"dangerous\", \"recreational\", \"economyhealth\", \"racial\", \"therefore\", \"coronavirusequalitypolice\", \"mass\", \"drugs\", \"education\", \"mend\", \"behavior\", \"inequality\", \"moral\", \"justice\", \"income\", \"party\", \"issues\", \"spreading\", \"information\", \"fake\", \"politically\", \"false\", \"bill\", \"vaccine\", \"tends\", \"viruslack\", \"deserves\", \"facts\", \"lose\", \"thoughts\", \"bunch\", \"trumpdismantling\", \"plus\", \"net\", \"media\", \"instructions\", \"bias\", \"peace\", \"news\", \"degradation\", \"verifiable\", \"ends\", \"enforce\", \"widening\", \"promote\", \"poorthe\", \"joke\", \"creates\", \"views\", \"continues\", \"failing\", \"humans\", \"refusal\", \"well\", \"supreme\", \"democratic\", \"integrity\", \"reason\", \"blacks\", \"country\", \"social\", \"policing\", \"trabajos\", \"opinions\", \"tatic\", \"de\", \"que\", \"supplement\", \"pooor\", \"paga\", \"immigracion\", \"ruin\", \"sexos\", \"mistreatment\", \"pocket\", \"maga\", \"abuse\", \"cobertura\", \"fda\", \"addication\", \"regulation\", \"19unemploymentracism\", \"en\", \"collective\", \"discrimination\", \"international\", \"antifa\", \"belive\", \"class\", \"systemic\", \"constituional\", \"manufacturing\", \"learn\", \"growth\", \"love\", \"rights\", \"imprisonment\", \"equality\", \"shutdowns\", \"high\", \"fighting\", \"blacks\", \"biased\", \"healthcare\", \"another\", \"racism\"], \"Freq\": [897.0, 708.0, 696.0, 549.0, 471.0, 459.0, 488.0, 401.0, 902.0, 350.0, 380.0, 338.0, 364.0, 297.0, 290.0, 308.0, 284.0, 287.0, 259.0, 682.0, 258.0, 249.0, 273.0, 576.0, 377.0, 218.0, 244.0, 302.0, 326.0, 218.0, 292.45211468417705, 285.3570801019842, 252.38633959172117, 243.56280260767886, 199.8962413182418, 192.85803131246004, 177.16530270765375, 158.65304314150612, 147.2155591045526, 150.97249712064703, 169.97889566193615, 126.72650383680362, 127.62602232794855, 121.77206560145758, 122.18197653013178, 116.57905014279783, 113.85453827452102, 114.13079733641233, 113.57000194240452, 116.71992911665045, 114.2012905718466, 109.2306781701065, 103.59704898122797, 92.45803454345334, 93.33220854584683, 88.99261189650841, 91.29776963671324, 89.8173372715826, 85.26779068116782, 83.85513105006876, 85.57769630903944, 345.345640989371, 107.81339616732325, 167.84845364859237, 762.8593539969157, 158.01988571778742, 141.06525791219732, 478.83490613218504, 402.1409782121032, 239.54929402160735, 135.65059187572928, 141.63755548690764, 165.40187118045412, 224.83275408729455, 115.6722218545709, 707.7393877447666, 695.3336282486861, 549.1576167889486, 488.1258337572041, 380.0057027052713, 243.36930269753358, 192.84975719685465, 214.56252127311598, 157.50954411781564, 138.72736708052162, 122.27101264025616, 117.23212936130376, 113.97336212876158, 115.28259245750482, 144.11399718535034, 111.14899874542729, 173.40945217498165, 105.50199482688586, 99.40574147819657, 95.24478356794334, 94.48355319154619, 93.91578523503965, 89.89127913392339, 80.78262583487725, 79.39878163870439, 77.48031753148477, 84.15187909406833, 73.8321139045864, 70.34760881808293, 66.16081937324765, 268.2054785550992, 79.07909821884759, 127.26741764428087, 144.99616255041443, 159.49113270917525, 150.7340523013268, 203.31771529358699, 173.35667037326746, 131.4281294333731, 98.52593663881323, 98.58905552929046, 96.58091941451674, 459.10067624194534, 337.9210564224016, 286.62798694377824, 257.4611627549823, 218.251856776671, 180.72287193948117, 185.0540158138635, 176.15115151226877, 173.1377406220205, 174.77402116528225, 166.54335042362862, 159.6422844794451, 155.49205172183596, 150.76383398753345, 135.75997779422062, 135.60785582478744, 123.69114980100883, 119.00572803897433, 108.48505152308988, 104.30567537854925, 105.32496629388277, 103.67216095238061, 92.51729982731659, 90.96860262953753, 89.07704937742076, 84.81166960449457, 83.84084249489274, 81.47133386748217, 75.26690401505184, 74.42043893716706, 149.87035557143346, 75.76102994899456, 132.19353188337075, 96.86472914886399, 92.7225002912137, 137.54175506915058, 106.82229875089722, 117.85732157956781, 106.95448756277739, 104.6171381458474, 470.8810578751525, 289.8718485580685, 283.66017317039024, 248.5178995083823, 217.67388418271108, 180.45783232071977, 171.1599110376783, 154.35851318763366, 155.77685004772002, 135.74283278653576, 133.8109994446268, 127.95388093457687, 125.69179365761413, 118.98404482006022, 114.18550307529165, 110.71770918272532, 103.47936888012048, 96.25244649541813, 83.8303623526142, 81.18933324326882, 78.78847224584544, 79.19784059688446, 78.34330102214967, 77.3097470841311, 123.4096042841686, 72.56352910998996, 68.09939202781275, 67.83438789414832, 62.49091166535155, 61.88014418221191, 296.9766365823182, 103.0181050442812, 104.96326080915382, 103.32509485770282, 228.3694205817764, 207.31530849250336, 84.34558109020982, 107.75577552680818, 134.51600347843578, 102.29595135245745, 111.3704076708357, 135.3921122564229, 103.03163705392622, 401.0416105003376, 349.44429699313764, 296.45238460145845, 258.2965903229278, 182.94170207899023, 167.05917974423895, 169.2325909310561, 149.79573678055664, 149.19405258591854, 143.59064209874003, 131.96446948997573, 124.51983149755587, 121.26022721010905, 120.40685604451801, 117.39651764144777, 116.61964044115443, 111.00107607266767, 97.47984654470874, 86.35228522943919, 86.07495594737453, 80.22308365931741, 77.88965985640041, 77.02312292804011, 75.96355294366805, 73.94591305340086, 79.2285560774585, 67.21504054276458, 64.11493196059745, 61.18047783313963, 59.747150399521004, 822.0340347197904, 85.84125924017879, 339.72849423435935, 91.21426004281265, 201.76649847411932, 228.934942392832, 194.63797132939789, 170.58869984062062, 122.74103091443861, 232.388348475459, 203.00006859302326, 113.57835807753523, 145.43782512351595, 143.87884859823353, 115.95568837387538], \"Total\": [897.0, 708.0, 696.0, 549.0, 471.0, 459.0, 488.0, 401.0, 902.0, 350.0, 380.0, 338.0, 364.0, 297.0, 290.0, 308.0, 284.0, 287.0, 259.0, 682.0, 258.0, 249.0, 273.0, 576.0, 377.0, 218.0, 244.0, 302.0, 326.0, 218.0, 293.1704953098779, 286.09254045354845, 253.12879418376704, 244.31370240765605, 200.65968666410654, 193.59540192733104, 177.8864351601328, 159.37171843923798, 147.93898991728432, 151.7379961795562, 170.92299530354236, 127.47677298734703, 128.39101803428863, 122.5049400669428, 122.9212463851353, 117.29657017649448, 114.57004403228778, 114.85851260259946, 114.300224847917, 117.47236214234898, 114.9412777440621, 109.94634576411329, 104.31886492905312, 93.17681389422326, 94.07364400437275, 89.71491153755929, 92.04303229664535, 90.55694095719025, 85.9874271445743, 84.57861334748017, 86.32119404013147, 354.52568230966756, 109.17112486445994, 175.6864369991602, 902.7452740385743, 171.2690590938676, 153.44002963853012, 682.685968208682, 576.061353765571, 327.5771720920096, 153.3782533894121, 169.00349925902972, 235.98291339875334, 449.19224238998845, 158.55121559353864, 708.4633851405841, 696.0483520726418, 549.8763114196383, 488.8518196959181, 380.72843432526685, 244.0890491988831, 193.57548144856696, 215.48377889889272, 158.24267201043972, 139.45985002527797, 122.99159789040293, 117.96757533875197, 114.70537990160534, 116.02307330468977, 145.04688402169404, 111.8779219503026, 174.61743729299474, 106.23711857265164, 100.15039958128712, 95.96487417790803, 95.21709479467727, 94.67714851599264, 90.64879425051093, 81.50928169538895, 80.14113546162045, 78.21068861748437, 85.00015486856388, 74.58529088924011, 71.08892046202577, 66.88565331573801, 273.05347298843424, 79.9997889867406, 139.0868805579816, 225.42303286229537, 265.78837548693963, 279.6613284083183, 682.685968208682, 576.061353765571, 377.3948907192373, 133.57641235714667, 150.77312834534737, 190.31797318342845, 459.83580449647695, 338.65544160316773, 287.3623741181623, 258.2362213682067, 218.98712048056055, 181.45939033162938, 185.81474254448344, 176.90130781489998, 173.87980066508257, 175.53174638120976, 167.28625899159192, 160.39142630424712, 156.22299252737116, 151.54713198525948, 136.49750264418782, 136.36297713616386, 124.44611580989627, 119.74788350603853, 109.2226801253227, 105.04865241209477, 106.07823645268363, 104.41890126687466, 93.2587106036507, 91.71458832340119, 89.83728113743274, 85.54173253843241, 84.57886937356864, 82.21012556844825, 75.99858109377232, 75.1659645222684, 151.48323469920743, 76.52733073846464, 154.2813618197794, 108.95339542661492, 102.08562886563305, 253.0591110019352, 143.88310065724727, 204.4594758113586, 183.94208570451536, 202.7544593005305, 471.6448722945541, 290.63374483787646, 284.4326612135789, 249.28067518812819, 218.4664284689721, 181.2194900069676, 171.9344947061085, 155.1188090501157, 156.6016285424338, 136.51907515787644, 134.58027475555255, 128.72901675592016, 126.49054896154948, 119.74776845249077, 114.94845334562903, 111.48592445586698, 104.23912552722794, 97.02903900923067, 84.59282671108708, 81.96622032758674, 79.5505302239444, 79.96399473868574, 79.12052003800623, 78.08363058776902, 124.69053576706061, 73.32955327983575, 68.86530973964459, 68.61068369016672, 63.27099453519518, 62.65741319352145, 308.08967523438344, 109.10112674140143, 117.04605081091991, 115.76336119695173, 326.91244256911006, 347.681548630717, 93.07005607485226, 162.47800626201814, 277.6656444298337, 165.86531983212018, 314.9985184018279, 902.7452740385743, 250.36469887517384, 401.8472374751691, 350.23788868439533, 297.2437959841037, 259.0993884589104, 183.72978837047665, 167.84521956742086, 170.0331822895281, 150.58928384531882, 149.99390050654557, 144.38863356156386, 132.76936248699178, 125.32468653090689, 122.04992788151229, 121.20472111241331, 118.19315036639244, 117.41799068188782, 111.78971989057402, 98.26942625148386, 87.15135894391558, 86.87404359658278, 81.0149085854274, 78.68528211868299, 77.82195198646349, 76.7520501022438, 74.73546715036488, 80.1329022631003, 68.02538763853737, 64.90266800406934, 61.9663388849409, 60.54592085340687, 897.1062343195945, 87.76332129471673, 364.10907039403156, 94.37461301584165, 249.7066948571806, 302.5359747251864, 265.8527630926145, 237.25792864071383, 149.44396858402163, 377.3948907192373, 314.9985184018279, 141.8594146965325, 279.8652047167137, 303.15143571069206, 254.0205339510249], \"Category\": [\"Default\", \"Default\", \"Default\", \"Default\", \"Default\", \"Default\", \"Default\", \"Default\", \"Default\", \"Default\", \"Default\", \"Default\", \"Default\", \"Default\", \"Default\", \"Default\", \"Default\", \"Default\", \"Default\", \"Default\", \"Default\", \"Default\", \"Default\", \"Default\", \"Default\", \"Default\", \"Default\", \"Default\", \"Default\", \"Default\", \"Topic1\", \"Topic1\", \"Topic1\", \"Topic1\", \"Topic1\", \"Topic1\", \"Topic1\", \"Topic1\", \"Topic1\", \"Topic1\", \"Topic1\", \"Topic1\", \"Topic1\", \"Topic1\", \"Topic1\", \"Topic1\", \"Topic1\", \"Topic1\", \"Topic1\", \"Topic1\", \"Topic1\", \"Topic1\", \"Topic1\", \"Topic1\", \"Topic1\", \"Topic1\", \"Topic1\", \"Topic1\", \"Topic1\", \"Topic1\", \"Topic1\", \"Topic1\", \"Topic1\", \"Topic1\", \"Topic1\", \"Topic1\", \"Topic1\", \"Topic1\", \"Topic1\", \"Topic1\", \"Topic1\", \"Topic1\", \"Topic1\", \"Topic1\", \"Topic1\", \"Topic2\", \"Topic2\", \"Topic2\", \"Topic2\", \"Topic2\", \"Topic2\", \"Topic2\", \"Topic2\", \"Topic2\", \"Topic2\", \"Topic2\", \"Topic2\", \"Topic2\", \"Topic2\", \"Topic2\", \"Topic2\", \"Topic2\", \"Topic2\", \"Topic2\", \"Topic2\", \"Topic2\", \"Topic2\", \"Topic2\", \"Topic2\", \"Topic2\", \"Topic2\", \"Topic2\", \"Topic2\", \"Topic2\", \"Topic2\", \"Topic2\", \"Topic2\", \"Topic2\", \"Topic2\", \"Topic2\", \"Topic2\", \"Topic2\", \"Topic2\", \"Topic2\", \"Topic2\", \"Topic2\", \"Topic2\", \"Topic3\", \"Topic3\", \"Topic3\", \"Topic3\", \"Topic3\", \"Topic3\", \"Topic3\", \"Topic3\", \"Topic3\", \"Topic3\", \"Topic3\", \"Topic3\", \"Topic3\", \"Topic3\", \"Topic3\", \"Topic3\", \"Topic3\", \"Topic3\", \"Topic3\", \"Topic3\", \"Topic3\", \"Topic3\", \"Topic3\", \"Topic3\", \"Topic3\", \"Topic3\", \"Topic3\", \"Topic3\", \"Topic3\", \"Topic3\", \"Topic3\", \"Topic3\", \"Topic3\", \"Topic3\", \"Topic3\", \"Topic3\", \"Topic3\", \"Topic3\", \"Topic3\", \"Topic3\", \"Topic4\", \"Topic4\", \"Topic4\", \"Topic4\", \"Topic4\", \"Topic4\", \"Topic4\", \"Topic4\", \"Topic4\", \"Topic4\", \"Topic4\", \"Topic4\", \"Topic4\", \"Topic4\", \"Topic4\", \"Topic4\", \"Topic4\", \"Topic4\", \"Topic4\", \"Topic4\", \"Topic4\", \"Topic4\", \"Topic4\", \"Topic4\", \"Topic4\", \"Topic4\", \"Topic4\", \"Topic4\", \"Topic4\", \"Topic4\", \"Topic4\", \"Topic4\", \"Topic4\", \"Topic4\", \"Topic4\", \"Topic4\", \"Topic4\", \"Topic4\", \"Topic4\", \"Topic4\", \"Topic4\", \"Topic4\", \"Topic4\", \"Topic5\", \"Topic5\", \"Topic5\", \"Topic5\", \"Topic5\", \"Topic5\", \"Topic5\", \"Topic5\", \"Topic5\", \"Topic5\", \"Topic5\", \"Topic5\", \"Topic5\", \"Topic5\", \"Topic5\", \"Topic5\", \"Topic5\", \"Topic5\", \"Topic5\", \"Topic5\", \"Topic5\", \"Topic5\", \"Topic5\", \"Topic5\", \"Topic5\", \"Topic5\", \"Topic5\", \"Topic5\", \"Topic5\", \"Topic5\", \"Topic5\", \"Topic5\", \"Topic5\", \"Topic5\", \"Topic5\", \"Topic5\", \"Topic5\", \"Topic5\", \"Topic5\", \"Topic5\", \"Topic5\", \"Topic5\", \"Topic5\", \"Topic5\", \"Topic5\"], \"logprob\": [30.0, 29.0, 28.0, 27.0, 26.0, 25.0, 24.0, 23.0, 22.0, 21.0, 20.0, 19.0, 18.0, 17.0, 16.0, 15.0, 14.0, 13.0, 12.0, 11.0, 10.0, 9.0, 8.0, 7.0, 6.0, 5.0, 4.0, 3.0, 2.0, 1.0, -4.7994, -4.824, -4.9468, -4.9823, -5.1799, -5.2158, -5.3006, -5.411, -5.4858, -5.4606, -5.342, -5.6357, -5.6286, -5.6756, -5.6722, -5.7191, -5.7428, -5.7404, -5.7453, -5.7179, -5.7398, -5.7843, -5.8372, -5.951, -5.9415, -5.9892, -5.9636, -5.9799, -6.0319, -6.0486, -6.0283, -4.6332, -5.7973, -5.3547, -3.8406, -5.415, -5.5285, -4.3064, -4.4809, -4.999, -5.5676, -5.5244, -5.3693, -5.0624, -5.727, -3.5248, -3.5424, -3.7784, -3.8963, -4.1466, -4.5923, -4.8249, -4.7182, -5.0273, -5.1543, -5.2806, -5.3227, -5.3509, -5.3394, -5.1162, -5.376, -4.9312, -5.4281, -5.4876, -5.5304, -5.5384, -5.5444, -5.5882, -5.6951, -5.7124, -5.7368, -5.6542, -5.785, -5.8334, -5.8947, -4.4951, -5.7164, -5.2405, -5.1101, -5.0148, -5.0713, -4.7721, -4.9315, -5.2084, -5.4965, -5.4959, -5.5165, -3.8018, -4.1083, -4.2729, -4.3802, -4.5455, -4.7341, -4.7105, -4.7598, -4.777, -4.7676, -4.8159, -4.8582, -4.8845, -4.9154, -5.0202, -5.0213, -5.1133, -5.1519, -5.2445, -5.2838, -5.2741, -5.2899, -5.4037, -5.4206, -5.4416, -5.4907, -5.5022, -5.5309, -5.6101, -5.6214, -4.9213, -5.6035, -5.0468, -5.3578, -5.4015, -5.0072, -5.2599, -5.1616, -5.2587, -5.2808, -3.7271, -4.2123, -4.2339, -4.3662, -4.4987, -4.6862, -4.7391, -4.8424, -4.8333, -4.9709, -4.9853, -5.03, -5.0479, -5.1027, -5.1439, -5.1747, -5.2423, -5.3147, -5.4529, -5.4849, -5.5149, -5.5097, -5.5206, -5.5339, -5.0662, -5.5972, -5.6607, -5.6646, -5.7467, -5.7565, -4.188, -5.2468, -5.2281, -5.2438, -4.4507, -4.5475, -5.4468, -5.2018, -4.98, -5.2538, -5.1688, -4.9735, -5.2467, -3.8568, -3.9946, -4.159, -4.2968, -4.6417, -4.7325, -4.7196, -4.8416, -4.8456, -4.8839, -4.9684, -5.0264, -5.053, -5.06, -5.0853, -5.092, -5.1414, -5.2712, -5.3925, -5.3957, -5.4661, -5.4956, -5.5068, -5.5206, -5.5476, -5.4786, -5.643, -5.6902, -5.7371, -5.7608, -3.1391, -5.3984, -4.0227, -5.3377, -4.5438, -4.4175, -4.5798, -4.7116, -5.0408, -4.4025, -4.5377, -5.1184, -4.8711, -4.8819, -5.0977], \"loglift\": [30.0, 29.0, 28.0, 27.0, 26.0, 25.0, 24.0, 23.0, 22.0, 21.0, 20.0, 19.0, 18.0, 17.0, 16.0, 15.0, 14.0, 13.0, 12.0, 11.0, 10.0, 9.0, 8.0, 7.0, 6.0, 5.0, 4.0, 3.0, 2.0, 1.0, 1.2037, 1.2036, 1.2032, 1.2031, 1.2024, 1.2024, 1.2021, 1.2017, 1.2013, 1.2011, 1.2006, 1.2003, 1.2002, 1.2002, 1.2001, 1.2, 1.1999, 1.1998, 1.1998, 1.1997, 1.1997, 1.1996, 1.1992, 1.1984, 1.1983, 1.1981, 1.198, 1.198, 1.1978, 1.1976, 1.1975, 1.1799, 1.1937, 1.1605, 1.0378, 1.1257, 1.1221, 0.8515, 0.8468, 0.8932, 1.0833, 1.0295, 0.8508, 0.5141, 0.8909, 1.596, 1.596, 1.5957, 1.5956, 1.5951, 1.5941, 1.5933, 1.5928, 1.5924, 1.5918, 1.5912, 1.5908, 1.5906, 1.5906, 1.5906, 1.5905, 1.5901, 1.5901, 1.5896, 1.5895, 1.5893, 1.589, 1.5887, 1.5881, 1.5877, 1.5877, 1.587, 1.5869, 1.5866, 1.5862, 1.5791, 1.5855, 1.5082, 1.1558, 1.0863, 0.979, 0.3858, 0.3962, 0.5422, 1.2927, 1.1722, 0.9187, 1.7512, 1.7506, 1.7502, 1.7498, 1.7494, 1.7487, 1.7487, 1.7485, 1.7485, 1.7484, 1.7483, 1.7481, 1.7481, 1.7476, 1.7474, 1.7472, 1.7467, 1.7466, 1.746, 1.7457, 1.7456, 1.7456, 1.7448, 1.7446, 1.7443, 1.7442, 1.744, 1.7437, 1.7431, 1.7428, 1.7421, 1.7427, 1.5983, 1.6352, 1.6566, 1.1431, 1.4549, 1.2019, 1.2106, 1.0911, 1.8006, 1.7996, 1.7995, 1.7991, 1.7986, 1.798, 1.7977, 1.7973, 1.7969, 1.7965, 1.7965, 1.7961, 1.7959, 1.7958, 1.7955, 1.7953, 1.7949, 1.7942, 1.7931, 1.7927, 1.7926, 1.7926, 1.7923, 1.7922, 1.7919, 1.7917, 1.791, 1.7908, 1.7898, 1.7897, 1.7655, 1.7448, 1.6932, 1.6885, 1.4435, 1.2851, 1.7038, 1.3915, 1.0775, 1.3189, 0.7625, -0.0951, 0.9143, 1.831, 1.8307, 1.8303, 1.8299, 1.8287, 1.8283, 1.8283, 1.8277, 1.8276, 1.8274, 1.8269, 1.8265, 1.8265, 1.8264, 1.8262, 1.8262, 1.8259, 1.8249, 1.8238, 1.8237, 1.8232, 1.8228, 1.8227, 1.8227, 1.8224, 1.8216, 1.821, 1.8208, 1.8202, 1.8197, 1.7456, 1.8108, 1.7637, 1.7989, 1.6198, 1.5542, 1.5212, 1.5031, 1.6361, 1.3481, 1.3936, 1.6106, 1.1784, 1.0877, 1.0488]}, \"token.table\": {\"Topic\": [2, 5, 5, 2, 5, 3, 1, 1, 3, 4, 5, 5, 1, 2, 1, 3, 5, 4, 2, 4, 5, 1, 4, 4, 5, 2, 3, 3, 1, 1, 4, 2, 3, 3, 5, 3, 5, 5, 1, 1, 5, 1, 2, 4, 2, 3, 2, 2, 3, 1, 1, 2, 4, 2, 4, 3, 1, 3, 5, 1, 3, 4, 3, 1, 2, 3, 4, 4, 3, 1, 5, 2, 2, 2, 1, 1, 3, 3, 2, 3, 3, 3, 5, 2, 1, 5, 4, 1, 4, 1, 3, 5, 2, 3, 3, 2, 4, 2, 4, 4, 4, 5, 1, 2, 5, 2, 1, 2, 4, 2, 1, 2, 1, 2, 1, 2, 3, 4, 5, 1, 1, 2, 5, 2, 3, 2, 3, 5, 4, 5, 1, 4, 5, 3, 5, 3, 5, 1, 2, 3, 5, 4, 4, 1, 3, 4, 5, 1, 2, 3, 2, 3, 5, 4, 1, 3, 4, 5, 1, 1, 4, 5, 1, 2, 4, 1, 2, 3, 4, 1, 5, 5, 1, 1, 5, 3, 4, 3, 1, 5, 2, 3, 5, 1, 2, 1, 2, 4, 3, 4, 4, 2, 2, 3, 1, 5, 2, 5, 2, 1, 3, 4, 4, 1, 2, 3, 4, 5, 5, 1, 3, 4, 5, 4, 1, 1, 2, 3, 2, 1, 4, 5, 3, 3, 1, 3, 5, 1, 4, 2, 3, 1, 3, 4, 5, 1, 3, 5, 5, 1, 2, 1, 4, 1, 5, 4, 5, 3, 2, 1, 2, 3, 4, 5, 3, 2, 3, 2, 3, 4, 2, 2, 5, 1, 3, 4, 3, 5, 5, 4, 3, 1, 3, 4, 1, 1, 2, 5, 4, 1, 1, 1, 1, 1, 4, 4, 3, 1, 4, 2, 4, 1, 2, 3, 4, 5, 1, 5, 1, 2, 4, 1], \"Freq\": [0.998406348116041, 0.9874725701337154, 0.996440147889941, 0.9867586952981198, 0.9867889731397474, 0.9981823849115182, 0.9960074587020066, 0.36285495314288013, 0.009896044176624003, 0.15173934404156805, 0.47501012047795216, 0.9858622085172873, 0.9969544751628637, 0.9927824439059479, 0.14259661530404982, 0.8555796918242988, 0.9849263977151308, 0.9929919978544778, 0.049344627672223876, 0.14803388301667164, 0.8036125078047889, 0.9873700994374072, 0.9978649878965804, 0.35238260980771613, 0.6444474755942916, 0.9846822760150444, 0.9959882620694885, 0.9973381547998807, 0.988587196597563, 0.9962790825161414, 0.9961218528532231, 0.9899455484501625, 0.9921714946847092, 0.9980645767861727, 0.9860919738459327, 0.9974683573509764, 0.9929356662549379, 0.9894380445943265, 0.9885166101909981, 0.9976676009841753, 0.9909833586522097, 0.9951363785067854, 0.054994849083654186, 0.9440782426027302, 0.9907372521434913, 0.0057268049256849205, 0.9977549173243351, 0.9919376777974173, 0.9852800909853775, 0.9936528570472914, 0.8451996614577647, 0.004430928762557088, 0.14954384573630175, 0.9984938516562533, 0.9895078146381341, 0.9888056205550002, 0.9969433627439296, 0.9972258826872461, 0.9960279257002947, 0.6992031652782861, 0.2966316458756365, 0.987944640061618, 0.9952128273808497, 0.09847486664870689, 0.0061546791655441805, 0.23387780829067886, 0.6647053498787715, 0.9961582229505949, 0.9963552253004608, 0.9955406330306794, 0.9902015633296835, 0.998086735164507, 0.9872176860961599, 0.9977680251889599, 0.9913926583231457, 0.9225250657411784, 0.07590396110528684, 0.9844881319666566, 0.9814927349829083, 0.014649145298252363, 0.9906800258552808, 0.9902085884147337, 0.006601390589431558, 0.998257509409604, 0.9967124105739743, 0.9912908475355103, 0.9861221797755552, 0.008019854865874825, 0.9864421485026036, 0.9959789508465269, 0.26706511970788094, 0.733488709056856, 0.9928427702113944, 0.9900174596435467, 0.9969706540715721, 0.9921527303539075, 0.9961977829305086, 0.10252374955721659, 0.8970828086256452, 0.9978194382134463, 0.998874059579964, 0.9870821851728813, 0.03444667725952692, 0.34711651699984825, 0.6147407018623267, 0.9882334935729185, 0.12601715045986384, 0.6566156787119221, 0.21887189290397402, 0.9967026350222331, 0.3988135290183474, 0.598220293527521, 0.8402192890832292, 0.15976000567075485, 0.5008991223954734, 0.1602877191665515, 0.06678654965272979, 0.09795360615733703, 0.17364502909709745, 0.9886679928874599, 0.002746429796208647, 0.06316788531279888, 0.93378613071094, 0.99375185641689, 0.995492335446969, 0.22510836980885177, 0.25369355962584883, 0.5181065654330715, 0.17397824914815524, 0.823050947893196, 0.10365974066340415, 0.8897461073608857, 0.9973084199775452, 0.24129361827568033, 0.756934775138778, 0.7436592588791316, 0.2502031151369041, 0.48865589751928795, 0.5096733554771068, 0.8902889131650231, 0.10096059840015727, 0.9986327164092408, 0.9893945253942711, 0.36374683734243096, 0.15126106107309012, 0.48619626773493246, 0.9901590613077302, 0.40230053778379804, 0.010872987507670217, 0.5817048316603566, 0.6432350685680662, 0.34601610585040804, 0.008872207842318154, 0.9799118925736472, 0.027661521342918452, 0.5453271350461066, 0.3319382561150214, 0.09483950174714897, 0.9925254769268183, 0.9931588693101054, 0.011394281634373369, 0.9799082205561097, 0.9892725767375399, 0.009159931266088333, 0.995688262959735, 0.021454521560591768, 0.5399387926082262, 0.1573331581110063, 0.278908780287693, 0.0317882098175748, 0.9642423644664356, 0.9899050802631646, 0.9961811641372529, 0.08248744370406133, 0.9162794422261947, 0.986860529770415, 0.9881126638298182, 0.9931092495533809, 0.9973733660776568, 0.9913975542654022, 0.00979569809298249, 0.9109999226473716, 0.07836558474385992, 0.9562491155808632, 0.03984371314920263, 0.7316247911802657, 0.2270559696766342, 0.03784266161277237, 0.9975595559359599, 0.9956413829078545, 0.9930794902008246, 0.985760927206142, 0.9928478146352469, 0.9964151889595513, 0.9950244932076038, 0.9958155695731653, 0.9875026047017911, 0.9933737271769781, 0.9993459293023419, 0.3228023535621987, 0.5771314806112038, 0.0978188950188481, 0.9882119692267725, 0.6978423346267288, 0.3003152335582689, 0.9956152965403787, 0.991748881189578, 0.9900604440045205, 0.9978916429026803, 0.9189257870463399, 0.07820644996139062, 0.9984788624072465, 0.9960868142123306, 0.9910992915779056, 0.9950168479157231, 0.9938498258520732, 0.9921528579097797, 0.9963896909292042, 0.991797955192573, 0.9945999348893739, 0.9874347513586156, 0.9949642916873105, 0.9936670380367966, 0.9949050245810332, 0.2558848254863207, 0.2873783424692524, 0.45665599625251074, 0.3798262353080509, 0.6149567619273205, 0.9845201642015243, 0.9922085642375515, 0.003058923031932618, 0.29671553409746393, 0.697434451280637, 0.9899389557525193, 0.11213155504707058, 0.07608926949622646, 0.8089490756967234, 0.9942052709105449, 0.07908725794892203, 0.913098341773918, 0.9731311925059715, 0.02538603110885143, 0.9969245037774475, 0.9974092372389313, 0.27817826943918744, 0.7207346071833493, 0.9987389646286355, 0.9984664565672671, 0.007988346635869599, 0.09186598631250038, 0.33551055870652313, 0.41139985174728433, 0.15177858608152237, 0.993754515869996, 0.9911821564836241, 0.998288807500882, 0.9970270953518466, 0.5178677715017106, 0.4833432534015965, 0.9938505072542333, 0.9885132801656633, 0.9939236431641394, 0.06446756618664178, 0.021489188728880594, 0.9025459266129849, 0.9949401790103429, 0.9844054223255758, 0.9957568851649962, 0.9945648212843743, 0.9931558629495048, 0.8866967578168305, 0.11083709472710382, 0.9943368109670065, 0.9958782064897393, 0.262022309046747, 0.7411488170179416, 0.9964655774706579, 0.9937554706684372, 0.9962599226810177, 0.9987159852085061, 0.9925053933943293, 0.9974716210708613, 0.9920312964109652, 0.9932706465131278, 0.9858378074680503, 0.9898354602344415, 0.0357038904066863, 0.9640050409805301, 0.9955383119297755, 0.99278740562175, 0.02300956157008217, 0.11504780785041084, 0.25310517727090387, 0.5953724056258761, 0.011504780785041085, 0.7326517854320721, 0.2655862722191262, 0.7016403182518325, 0.2973548739146597, 0.9955058599828349, 0.9918107944984044], \"Term\": [\"19\", \"19unemploymentracism\", \"abuse\", \"accountability\", \"addication\", \"allow\", \"americans\", \"another\", \"another\", \"another\", \"another\", \"antifa\", \"around\", \"back\", \"behavior\", \"behavior\", \"belive\", \"bias\", \"biased\", \"biased\", \"biased\", \"biggest\", \"bill\", \"blacks\", \"blacks\", \"blow\", \"border\", \"brat\", \"break\", \"breathed\", \"bunch\", \"businesses\", \"care\", \"change\", \"class\", \"climate\", \"cobertura\", \"collective\", \"color\", \"compromise\", \"constituional\", \"continually\", \"continues\", \"continues\", \"control\", \"control\", \"coordination\", \"corona\", \"coronavirusequalitypolice\", \"corruption\", \"country\", \"country\", \"country\", \"covid\", \"creates\", \"crisis\", \"currently\", \"dangerous\", \"de\", \"debates\", \"debates\", \"degradation\", \"demensional\", \"democratic\", \"democratic\", \"democratic\", \"democratic\", \"deserves\", \"destroyed\", \"direction\", \"discrimination\", \"disease\", \"disrespect\", \"distancing\", \"divided\", \"division\", \"division\", \"drugs\", \"economy\", \"economy\", \"economyhealth\", \"education\", \"education\", \"effort\", \"election\", \"en\", \"ends\", \"enforce\", \"enforce\", \"enviromental\", \"equality\", \"equality\", \"equaloity\", \"equitable\", \"exhausting\", \"extrememly\", \"facts\", \"failing\", \"failing\", \"fake\", \"false\", \"fda\", \"fighting\", \"fighting\", \"fighting\", \"follow\", \"following\", \"following\", \"following\", \"garbage\", \"getting\", \"getting\", \"globalism\", \"globalism\", \"government\", \"government\", \"government\", \"government\", \"government\", \"great\", \"growth\", \"growth\", \"growth\", \"guidelines\", \"health\", \"healthcare\", \"healthcare\", \"healthcare\", \"high\", \"high\", \"humans\", \"humans\", \"immigracion\", \"imprisonment\", \"imprisonment\", \"income\", \"income\", \"increase\", \"increase\", \"inequality\", \"inequality\", \"information\", \"instructions\", \"integrity\", \"integrity\", \"integrity\", \"international\", \"issues\", \"issues\", \"issues\", \"jobs\", \"jobs\", \"jobs\", \"joke\", \"justice\", \"justice\", \"justice\", \"justice\", \"kind\", \"leads\", \"learn\", \"learn\", \"live\", \"live\", \"lose\", \"lot\", \"lot\", \"lot\", \"lot\", \"love\", \"love\", \"maga\", \"mankind\", \"manufacturing\", \"manufacturing\", \"mass\", \"media\", \"mend\", \"mensch\", \"mistreatment\", \"moral\", \"moral\", \"moral\", \"much\", \"much\", \"name\", \"name\", \"name\", \"needing\", \"net\", \"news\", \"observed\", \"odds\", \"offer\", \"one\", \"opinions\", \"order\", \"paga\", \"pandemic\", \"party\", \"party\", \"party\", \"peace\", \"people\", \"people\", \"planning\", \"plus\", \"pocket\", \"policing\", \"political\", \"political\", \"politically\", \"pooor\", \"poorthe\", \"poses\", \"positive\", \"pr0gressive\", \"prejudices\", \"president2\", \"problem\", \"promote\", \"que\", \"racial\", \"racim\", \"racism\", \"racism\", \"racism\", \"reason\", \"reason\", \"recovery\", \"recreational\", \"refusal\", \"refusal\", \"refusal\", \"regulation\", \"rights\", \"rights\", \"rights\", \"ruin\", \"rules\", \"rules\", \"say\", \"say\", \"severe\", \"sexos\", \"shutdowns\", \"shutdowns\", \"simmer\", \"small\", \"social\", \"social\", \"social\", \"social\", \"social\", \"sone\", \"spends\", \"spirit\", \"spread\", \"spreading\", \"spreading\", \"standard\", \"stimulating\", \"supplement\", \"supreme\", \"supreme\", \"supreme\", \"system\", \"systemic\", \"tatic\", \"tends\", \"therefore\", \"think\", \"think\", \"thoughts\", \"thy\", \"towards\", \"towards\", \"trabajos\", \"trumpdismantling\", \"turning\", \"unaccountable\", \"understand\", \"unity\", \"upon\", \"vaccine\", \"verifiable\", \"vets\", \"views\", \"views\", \"virus\", \"viruslack\", \"well\", \"well\", \"well\", \"well\", \"well\", \"white\", \"white\", \"whites\", \"whites\", \"widening\", \"youmg\"]}, \"R\": 30, \"lambda.step\": 0.01, \"plot.opts\": {\"xlab\": \"PC1\", \"ylab\": \"PC2\"}, \"topic.order\": [1, 4, 5, 2, 3]};\n",
       "\n",
       "function LDAvis_load_lib(url, callback){\n",
       "  var s = document.createElement('script');\n",
       "  s.src = url;\n",
       "  s.async = true;\n",
       "  s.onreadystatechange = s.onload = callback;\n",
       "  s.onerror = function(){console.warn(\"failed to load library \" + url);};\n",
       "  document.getElementsByTagName(\"head\")[0].appendChild(s);\n",
       "}\n",
       "\n",
       "if(typeof(LDAvis) !== \"undefined\"){\n",
       "   // already loaded: just create the visualization\n",
       "   !function(LDAvis){\n",
       "       new LDAvis(\"#\" + \"ldavis_el23566851407164058946084059237994\", ldavis_el23566851407164058946084059237994_data);\n",
       "   }(LDAvis);\n",
       "}else if(typeof define === \"function\" && define.amd){\n",
       "   // require.js is available: use it to load d3/LDAvis\n",
       "   require.config({paths: {d3: \"https://d3js.org/d3.v5\"}});\n",
       "   require([\"d3\"], function(d3){\n",
       "      window.d3 = d3;\n",
       "      LDAvis_load_lib(\"https://cdn.jsdelivr.net/gh/bmabey/pyLDAvis@3.4.0/pyLDAvis/js/ldavis.v3.0.0.js\", function(){\n",
       "        new LDAvis(\"#\" + \"ldavis_el23566851407164058946084059237994\", ldavis_el23566851407164058946084059237994_data);\n",
       "      });\n",
       "    });\n",
       "}else{\n",
       "    // require.js not available: dynamically load d3 & LDAvis\n",
       "    LDAvis_load_lib(\"https://d3js.org/d3.v5.js\", function(){\n",
       "         LDAvis_load_lib(\"https://cdn.jsdelivr.net/gh/bmabey/pyLDAvis@3.4.0/pyLDAvis/js/ldavis.v3.0.0.js\", function(){\n",
       "                 new LDAvis(\"#\" + \"ldavis_el23566851407164058946084059237994\", ldavis_el23566851407164058946084059237994_data);\n",
       "            })\n",
       "         });\n",
       "}\n",
       "</script>"
      ],
      "text/plain": [
       "PreparedData(topic_coordinates=              x         y  topics  cluster       Freq\n",
       "topic                                                \n",
       "0     -0.138812 -0.079165       1        1  29.934164\n",
       "3     -0.097318 -0.250342       2        1  20.249316\n",
       "4      0.097463  0.044623       3        1  17.329238\n",
       "1     -0.164474  0.269583       4        1  16.493770\n",
       "2      0.303141  0.015301       5        1  15.993512, topic_info=              Term        Freq       Total Category  logprob  loglift\n",
       "107  manufacturing  897.000000  897.000000  Default  30.0000  30.0000\n",
       "16        pandemic  708.000000  708.000000  Default  29.0000  29.0000\n",
       "15           covid  696.000000  696.000000  Default  28.0000  28.0000\n",
       "14              19  549.000000  549.000000  Default  27.0000  27.0000\n",
       "2      information  471.000000  471.000000  Default  26.0000  26.0000\n",
       "..             ...         ...         ...      ...      ...      ...\n",
       "0           blacks  203.000069  314.998518   Topic5  -4.5377   1.3936\n",
       "272         biased  113.578358  141.859415   Topic5  -5.1184   1.6106\n",
       "60      healthcare  145.437825  279.865205   Topic5  -4.8711   1.1784\n",
       "145        another  143.878849  303.151436   Topic5  -4.8819   1.0877\n",
       "36          racism  115.955688  254.020534   Topic5  -5.0977   1.0488\n",
       "\n",
       "[245 rows x 6 columns], token_table=      Topic      Freq                  Term\n",
       "term                                       \n",
       "14        2  0.998406                    19\n",
       "859       5  0.987473  19unemploymentracism\n",
       "51        5  0.996440                 abuse\n",
       "1136      2  0.986759        accountability\n",
       "53        5  0.986789            addication\n",
       "...     ...       ...                   ...\n",
       "127       5  0.265586                 white\n",
       "4         1  0.701640                whites\n",
       "4         2  0.297355                whites\n",
       "182       4  0.995506              widening\n",
       "854       1  0.991811                 youmg\n",
       "\n",
       "[302 rows x 3 columns], R=30, lambda_step=0.01, plot_opts={'xlab': 'PC1', 'ylab': 'PC2'}, topic_order=[1, 4, 5, 2, 3])"
      ]
     },
     "execution_count": 23,
     "metadata": {},
     "output_type": "execute_result"
    }
   ],
   "source": [
    "# Step 9: Visualize the LDA Model using PyLDAvis\n",
    "pyLDAvis.enable_notebook()\n",
    "LDAvis_data_filepath = os.path.join('/mnt/home/kim/thesis/data/processed_data/ldavis_'+str(num_topics))\n",
    "\n",
    "# Prepare the visualization\n",
    "if not os.path.exists(LDAvis_data_filepath):\n",
    "    LDAvis_prepared = pyLDAvis.gensim.prepare(lda_model, corpus, dummy_dict)\n",
    "    with open(LDAvis_data_filepath, 'wb') as f:\n",
    "        pickle.dump(LDAvis_prepared, f)\n",
    "else:\n",
    "    with open(LDAvis_data_filepath, 'rb') as f:\n",
    "        LDAvis_prepared = pickle.load(f)\n",
    "\n",
    "# Save the visualization as an HTML file\n",
    "pyLDAvis.save_html(LDAvis_prepared, '/mnt/home/kim/thesis/data/processed_data/ldavis_'+ str(num_topics) +'.html')\n",
    "\n",
    "# Display the visualization inline (in Jupyter Notebook)\n",
    "LDAvis_prepared"
   ]
  },
  {
   "cell_type": "markdown",
   "id": "9c67c194",
   "metadata": {},
   "source": [
    "### Linkage Matrix"
   ]
  },
  {
   "cell_type": "code",
   "execution_count": 75,
   "id": "b0d5bbd5",
   "metadata": {},
   "outputs": [],
   "source": [
    "from sklearn.metrics.pairwise import cosine_distances\n",
    "import scipy.cluster.hierarchy as sch\n",
    "import matplotlib.pyplot as plt"
   ]
  },
  {
   "cell_type": "code",
   "execution_count": 71,
   "id": "fb875195",
   "metadata": {},
   "outputs": [],
   "source": [
    "distance_matrix = cosine_distances(final_df)"
   ]
  },
  {
   "cell_type": "code",
   "execution_count": 73,
   "id": "78dd623e",
   "metadata": {},
   "outputs": [
    {
     "name": "stderr",
     "output_type": "stream",
     "text": [
      "/tmp/ipykernel_2356685/2685822042.py:1: ClusterWarning: The symmetric non-negative hollow observation matrix looks suspiciously like an uncondensed distance matrix\n",
      "  linkage_matrix = sch.linkage(distance_matrix, method = 'ward')\n"
     ]
    }
   ],
   "source": [
    "linkage_matrix = sch.linkage(distance_matrix, method = 'ward')"
   ]
  },
  {
   "cell_type": "code",
   "execution_count": 76,
   "id": "6385ecec",
   "metadata": {},
   "outputs": [
    {
     "ename": "KeyboardInterrupt",
     "evalue": "",
     "output_type": "error",
     "traceback": [
      "\u001b[0;31m---------------------------------------------------------------------------\u001b[0m",
      "\u001b[0;31mKeyboardInterrupt\u001b[0m                         Traceback (most recent call last)",
      "Cell \u001b[0;32mIn[76], line 7\u001b[0m\n\u001b[1;32m      5\u001b[0m plt\u001b[38;5;241m.\u001b[39mxlabel(\u001b[38;5;124m'\u001b[39m\u001b[38;5;124mDocuments\u001b[39m\u001b[38;5;124m'\u001b[39m)\n\u001b[1;32m      6\u001b[0m plt\u001b[38;5;241m.\u001b[39mylabel(\u001b[38;5;124m'\u001b[39m\u001b[38;5;124mDistance\u001b[39m\u001b[38;5;124m'\u001b[39m)\n\u001b[0;32m----> 7\u001b[0m \u001b[43mplt\u001b[49m\u001b[38;5;241;43m.\u001b[39;49m\u001b[43mshow\u001b[49m\u001b[43m(\u001b[49m\u001b[43m)\u001b[49m\n",
      "File \u001b[0;32m~/venvs/my_environment/lib/python3.9/site-packages/matplotlib/pyplot.py:446\u001b[0m, in \u001b[0;36mshow\u001b[0;34m(*args, **kwargs)\u001b[0m\n\u001b[1;32m    402\u001b[0m \u001b[38;5;250m\u001b[39m\u001b[38;5;124;03m\"\"\"\u001b[39;00m\n\u001b[1;32m    403\u001b[0m \u001b[38;5;124;03mDisplay all open figures.\u001b[39;00m\n\u001b[1;32m    404\u001b[0m \n\u001b[0;32m   (...)\u001b[0m\n\u001b[1;32m    443\u001b[0m \u001b[38;5;124;03mexplicitly there.\u001b[39;00m\n\u001b[1;32m    444\u001b[0m \u001b[38;5;124;03m\"\"\"\u001b[39;00m\n\u001b[1;32m    445\u001b[0m _warn_if_gui_out_of_main_thread()\n\u001b[0;32m--> 446\u001b[0m \u001b[38;5;28;01mreturn\u001b[39;00m \u001b[43m_get_backend_mod\u001b[49m\u001b[43m(\u001b[49m\u001b[43m)\u001b[49m\u001b[38;5;241;43m.\u001b[39;49m\u001b[43mshow\u001b[49m\u001b[43m(\u001b[49m\u001b[38;5;241;43m*\u001b[39;49m\u001b[43margs\u001b[49m\u001b[43m,\u001b[49m\u001b[43m \u001b[49m\u001b[38;5;241;43m*\u001b[39;49m\u001b[38;5;241;43m*\u001b[39;49m\u001b[43mkwargs\u001b[49m\u001b[43m)\u001b[49m\n",
      "File \u001b[0;32m~/venvs/my_environment/lib/python3.9/site-packages/matplotlib_inline/backend_inline.py:90\u001b[0m, in \u001b[0;36mshow\u001b[0;34m(close, block)\u001b[0m\n\u001b[1;32m     88\u001b[0m \u001b[38;5;28;01mtry\u001b[39;00m:\n\u001b[1;32m     89\u001b[0m     \u001b[38;5;28;01mfor\u001b[39;00m figure_manager \u001b[38;5;129;01min\u001b[39;00m Gcf\u001b[38;5;241m.\u001b[39mget_all_fig_managers():\n\u001b[0;32m---> 90\u001b[0m         \u001b[43mdisplay\u001b[49m\u001b[43m(\u001b[49m\n\u001b[1;32m     91\u001b[0m \u001b[43m            \u001b[49m\u001b[43mfigure_manager\u001b[49m\u001b[38;5;241;43m.\u001b[39;49m\u001b[43mcanvas\u001b[49m\u001b[38;5;241;43m.\u001b[39;49m\u001b[43mfigure\u001b[49m\u001b[43m,\u001b[49m\n\u001b[1;32m     92\u001b[0m \u001b[43m            \u001b[49m\u001b[43mmetadata\u001b[49m\u001b[38;5;241;43m=\u001b[39;49m\u001b[43m_fetch_figure_metadata\u001b[49m\u001b[43m(\u001b[49m\u001b[43mfigure_manager\u001b[49m\u001b[38;5;241;43m.\u001b[39;49m\u001b[43mcanvas\u001b[49m\u001b[38;5;241;43m.\u001b[39;49m\u001b[43mfigure\u001b[49m\u001b[43m)\u001b[49m\n\u001b[1;32m     93\u001b[0m \u001b[43m        \u001b[49m\u001b[43m)\u001b[49m\n\u001b[1;32m     94\u001b[0m \u001b[38;5;28;01mfinally\u001b[39;00m:\n\u001b[1;32m     95\u001b[0m     show\u001b[38;5;241m.\u001b[39m_to_draw \u001b[38;5;241m=\u001b[39m []\n",
      "File \u001b[0;32m~/venvs/my_environment/lib/python3.9/site-packages/IPython/core/display_functions.py:298\u001b[0m, in \u001b[0;36mdisplay\u001b[0;34m(include, exclude, metadata, transient, display_id, raw, clear, *objs, **kwargs)\u001b[0m\n\u001b[1;32m    296\u001b[0m     publish_display_data(data\u001b[38;5;241m=\u001b[39mobj, metadata\u001b[38;5;241m=\u001b[39mmetadata, \u001b[38;5;241m*\u001b[39m\u001b[38;5;241m*\u001b[39mkwargs)\n\u001b[1;32m    297\u001b[0m \u001b[38;5;28;01melse\u001b[39;00m:\n\u001b[0;32m--> 298\u001b[0m     format_dict, md_dict \u001b[38;5;241m=\u001b[39m \u001b[38;5;28;43mformat\u001b[39;49m\u001b[43m(\u001b[49m\u001b[43mobj\u001b[49m\u001b[43m,\u001b[49m\u001b[43m \u001b[49m\u001b[43minclude\u001b[49m\u001b[38;5;241;43m=\u001b[39;49m\u001b[43minclude\u001b[49m\u001b[43m,\u001b[49m\u001b[43m \u001b[49m\u001b[43mexclude\u001b[49m\u001b[38;5;241;43m=\u001b[39;49m\u001b[43mexclude\u001b[49m\u001b[43m)\u001b[49m\n\u001b[1;32m    299\u001b[0m     \u001b[38;5;28;01mif\u001b[39;00m \u001b[38;5;129;01mnot\u001b[39;00m format_dict:\n\u001b[1;32m    300\u001b[0m         \u001b[38;5;66;03m# nothing to display (e.g. _ipython_display_ took over)\u001b[39;00m\n\u001b[1;32m    301\u001b[0m         \u001b[38;5;28;01mcontinue\u001b[39;00m\n",
      "File \u001b[0;32m~/venvs/my_environment/lib/python3.9/site-packages/IPython/core/formatters.py:179\u001b[0m, in \u001b[0;36mDisplayFormatter.format\u001b[0;34m(self, obj, include, exclude)\u001b[0m\n\u001b[1;32m    177\u001b[0m md \u001b[38;5;241m=\u001b[39m \u001b[38;5;28;01mNone\u001b[39;00m\n\u001b[1;32m    178\u001b[0m \u001b[38;5;28;01mtry\u001b[39;00m:\n\u001b[0;32m--> 179\u001b[0m     data \u001b[38;5;241m=\u001b[39m \u001b[43mformatter\u001b[49m\u001b[43m(\u001b[49m\u001b[43mobj\u001b[49m\u001b[43m)\u001b[49m\n\u001b[1;32m    180\u001b[0m \u001b[38;5;28;01mexcept\u001b[39;00m:\n\u001b[1;32m    181\u001b[0m     \u001b[38;5;66;03m# FIXME: log the exception\u001b[39;00m\n\u001b[1;32m    182\u001b[0m     \u001b[38;5;28;01mraise\u001b[39;00m\n",
      "File \u001b[0;32m~/venvs/my_environment/lib/python3.9/site-packages/decorator.py:232\u001b[0m, in \u001b[0;36mdecorate.<locals>.fun\u001b[0;34m(*args, **kw)\u001b[0m\n\u001b[1;32m    230\u001b[0m \u001b[38;5;28;01mif\u001b[39;00m \u001b[38;5;129;01mnot\u001b[39;00m kwsyntax:\n\u001b[1;32m    231\u001b[0m     args, kw \u001b[38;5;241m=\u001b[39m fix(args, kw, sig)\n\u001b[0;32m--> 232\u001b[0m \u001b[38;5;28;01mreturn\u001b[39;00m \u001b[43mcaller\u001b[49m\u001b[43m(\u001b[49m\u001b[43mfunc\u001b[49m\u001b[43m,\u001b[49m\u001b[43m \u001b[49m\u001b[38;5;241;43m*\u001b[39;49m\u001b[43m(\u001b[49m\u001b[43mextras\u001b[49m\u001b[43m \u001b[49m\u001b[38;5;241;43m+\u001b[39;49m\u001b[43m \u001b[49m\u001b[43margs\u001b[49m\u001b[43m)\u001b[49m\u001b[43m,\u001b[49m\u001b[43m \u001b[49m\u001b[38;5;241;43m*\u001b[39;49m\u001b[38;5;241;43m*\u001b[39;49m\u001b[43mkw\u001b[49m\u001b[43m)\u001b[49m\n",
      "File \u001b[0;32m~/venvs/my_environment/lib/python3.9/site-packages/IPython/core/formatters.py:223\u001b[0m, in \u001b[0;36mcatch_format_error\u001b[0;34m(method, self, *args, **kwargs)\u001b[0m\n\u001b[1;32m    221\u001b[0m \u001b[38;5;250m\u001b[39m\u001b[38;5;124;03m\"\"\"show traceback on failed format call\"\"\"\u001b[39;00m\n\u001b[1;32m    222\u001b[0m \u001b[38;5;28;01mtry\u001b[39;00m:\n\u001b[0;32m--> 223\u001b[0m     r \u001b[38;5;241m=\u001b[39m \u001b[43mmethod\u001b[49m\u001b[43m(\u001b[49m\u001b[38;5;28;43mself\u001b[39;49m\u001b[43m,\u001b[49m\u001b[43m \u001b[49m\u001b[38;5;241;43m*\u001b[39;49m\u001b[43margs\u001b[49m\u001b[43m,\u001b[49m\u001b[43m \u001b[49m\u001b[38;5;241;43m*\u001b[39;49m\u001b[38;5;241;43m*\u001b[39;49m\u001b[43mkwargs\u001b[49m\u001b[43m)\u001b[49m\n\u001b[1;32m    224\u001b[0m \u001b[38;5;28;01mexcept\u001b[39;00m \u001b[38;5;167;01mNotImplementedError\u001b[39;00m:\n\u001b[1;32m    225\u001b[0m     \u001b[38;5;66;03m# don't warn on NotImplementedErrors\u001b[39;00m\n\u001b[1;32m    226\u001b[0m     \u001b[38;5;28;01mreturn\u001b[39;00m \u001b[38;5;28mself\u001b[39m\u001b[38;5;241m.\u001b[39m_check_return(\u001b[38;5;28;01mNone\u001b[39;00m, args[\u001b[38;5;241m0\u001b[39m])\n",
      "File \u001b[0;32m~/venvs/my_environment/lib/python3.9/site-packages/IPython/core/formatters.py:340\u001b[0m, in \u001b[0;36mBaseFormatter.__call__\u001b[0;34m(self, obj)\u001b[0m\n\u001b[1;32m    338\u001b[0m     \u001b[38;5;28;01mpass\u001b[39;00m\n\u001b[1;32m    339\u001b[0m \u001b[38;5;28;01melse\u001b[39;00m:\n\u001b[0;32m--> 340\u001b[0m     \u001b[38;5;28;01mreturn\u001b[39;00m \u001b[43mprinter\u001b[49m\u001b[43m(\u001b[49m\u001b[43mobj\u001b[49m\u001b[43m)\u001b[49m\n\u001b[1;32m    341\u001b[0m \u001b[38;5;66;03m# Finally look for special method names\u001b[39;00m\n\u001b[1;32m    342\u001b[0m method \u001b[38;5;241m=\u001b[39m get_real_method(obj, \u001b[38;5;28mself\u001b[39m\u001b[38;5;241m.\u001b[39mprint_method)\n",
      "File \u001b[0;32m~/venvs/my_environment/lib/python3.9/site-packages/IPython/core/pylabtools.py:152\u001b[0m, in \u001b[0;36mprint_figure\u001b[0;34m(fig, fmt, bbox_inches, base64, **kwargs)\u001b[0m\n\u001b[1;32m    149\u001b[0m     \u001b[38;5;28;01mfrom\u001b[39;00m \u001b[38;5;21;01mmatplotlib\u001b[39;00m\u001b[38;5;21;01m.\u001b[39;00m\u001b[38;5;21;01mbackend_bases\u001b[39;00m \u001b[38;5;28;01mimport\u001b[39;00m FigureCanvasBase\n\u001b[1;32m    150\u001b[0m     FigureCanvasBase(fig)\n\u001b[0;32m--> 152\u001b[0m \u001b[43mfig\u001b[49m\u001b[38;5;241;43m.\u001b[39;49m\u001b[43mcanvas\u001b[49m\u001b[38;5;241;43m.\u001b[39;49m\u001b[43mprint_figure\u001b[49m\u001b[43m(\u001b[49m\u001b[43mbytes_io\u001b[49m\u001b[43m,\u001b[49m\u001b[43m \u001b[49m\u001b[38;5;241;43m*\u001b[39;49m\u001b[38;5;241;43m*\u001b[39;49m\u001b[43mkw\u001b[49m\u001b[43m)\u001b[49m\n\u001b[1;32m    153\u001b[0m data \u001b[38;5;241m=\u001b[39m bytes_io\u001b[38;5;241m.\u001b[39mgetvalue()\n\u001b[1;32m    154\u001b[0m \u001b[38;5;28;01mif\u001b[39;00m fmt \u001b[38;5;241m==\u001b[39m \u001b[38;5;124m'\u001b[39m\u001b[38;5;124msvg\u001b[39m\u001b[38;5;124m'\u001b[39m:\n",
      "File \u001b[0;32m~/venvs/my_environment/lib/python3.9/site-packages/matplotlib/backend_bases.py:2366\u001b[0m, in \u001b[0;36mFigureCanvasBase.print_figure\u001b[0;34m(self, filename, dpi, facecolor, edgecolor, orientation, format, bbox_inches, pad_inches, bbox_extra_artists, backend, **kwargs)\u001b[0m\n\u001b[1;32m   2362\u001b[0m \u001b[38;5;28;01mtry\u001b[39;00m:\n\u001b[1;32m   2363\u001b[0m     \u001b[38;5;66;03m# _get_renderer may change the figure dpi (as vector formats\u001b[39;00m\n\u001b[1;32m   2364\u001b[0m     \u001b[38;5;66;03m# force the figure dpi to 72), so we need to set it again here.\u001b[39;00m\n\u001b[1;32m   2365\u001b[0m     \u001b[38;5;28;01mwith\u001b[39;00m cbook\u001b[38;5;241m.\u001b[39m_setattr_cm(\u001b[38;5;28mself\u001b[39m\u001b[38;5;241m.\u001b[39mfigure, dpi\u001b[38;5;241m=\u001b[39mdpi):\n\u001b[0;32m-> 2366\u001b[0m         result \u001b[38;5;241m=\u001b[39m \u001b[43mprint_method\u001b[49m\u001b[43m(\u001b[49m\n\u001b[1;32m   2367\u001b[0m \u001b[43m            \u001b[49m\u001b[43mfilename\u001b[49m\u001b[43m,\u001b[49m\n\u001b[1;32m   2368\u001b[0m \u001b[43m            \u001b[49m\u001b[43mfacecolor\u001b[49m\u001b[38;5;241;43m=\u001b[39;49m\u001b[43mfacecolor\u001b[49m\u001b[43m,\u001b[49m\n\u001b[1;32m   2369\u001b[0m \u001b[43m            \u001b[49m\u001b[43medgecolor\u001b[49m\u001b[38;5;241;43m=\u001b[39;49m\u001b[43medgecolor\u001b[49m\u001b[43m,\u001b[49m\n\u001b[1;32m   2370\u001b[0m \u001b[43m            \u001b[49m\u001b[43morientation\u001b[49m\u001b[38;5;241;43m=\u001b[39;49m\u001b[43morientation\u001b[49m\u001b[43m,\u001b[49m\n\u001b[1;32m   2371\u001b[0m \u001b[43m            \u001b[49m\u001b[43mbbox_inches_restore\u001b[49m\u001b[38;5;241;43m=\u001b[39;49m\u001b[43m_bbox_inches_restore\u001b[49m\u001b[43m,\u001b[49m\n\u001b[1;32m   2372\u001b[0m \u001b[43m            \u001b[49m\u001b[38;5;241;43m*\u001b[39;49m\u001b[38;5;241;43m*\u001b[39;49m\u001b[43mkwargs\u001b[49m\u001b[43m)\u001b[49m\n\u001b[1;32m   2373\u001b[0m \u001b[38;5;28;01mfinally\u001b[39;00m:\n\u001b[1;32m   2374\u001b[0m     \u001b[38;5;28;01mif\u001b[39;00m bbox_inches \u001b[38;5;129;01mand\u001b[39;00m restore_bbox:\n",
      "File \u001b[0;32m~/venvs/my_environment/lib/python3.9/site-packages/matplotlib/backend_bases.py:2232\u001b[0m, in \u001b[0;36mFigureCanvasBase._switch_canvas_and_return_print_method.<locals>.<lambda>\u001b[0;34m(*args, **kwargs)\u001b[0m\n\u001b[1;32m   2228\u001b[0m     optional_kws \u001b[38;5;241m=\u001b[39m {  \u001b[38;5;66;03m# Passed by print_figure for other renderers.\u001b[39;00m\n\u001b[1;32m   2229\u001b[0m         \u001b[38;5;124m\"\u001b[39m\u001b[38;5;124mdpi\u001b[39m\u001b[38;5;124m\"\u001b[39m, \u001b[38;5;124m\"\u001b[39m\u001b[38;5;124mfacecolor\u001b[39m\u001b[38;5;124m\"\u001b[39m, \u001b[38;5;124m\"\u001b[39m\u001b[38;5;124medgecolor\u001b[39m\u001b[38;5;124m\"\u001b[39m, \u001b[38;5;124m\"\u001b[39m\u001b[38;5;124morientation\u001b[39m\u001b[38;5;124m\"\u001b[39m,\n\u001b[1;32m   2230\u001b[0m         \u001b[38;5;124m\"\u001b[39m\u001b[38;5;124mbbox_inches_restore\u001b[39m\u001b[38;5;124m\"\u001b[39m}\n\u001b[1;32m   2231\u001b[0m     skip \u001b[38;5;241m=\u001b[39m optional_kws \u001b[38;5;241m-\u001b[39m {\u001b[38;5;241m*\u001b[39minspect\u001b[38;5;241m.\u001b[39msignature(meth)\u001b[38;5;241m.\u001b[39mparameters}\n\u001b[0;32m-> 2232\u001b[0m     print_method \u001b[38;5;241m=\u001b[39m functools\u001b[38;5;241m.\u001b[39mwraps(meth)(\u001b[38;5;28;01mlambda\u001b[39;00m \u001b[38;5;241m*\u001b[39margs, \u001b[38;5;241m*\u001b[39m\u001b[38;5;241m*\u001b[39mkwargs: \u001b[43mmeth\u001b[49m\u001b[43m(\u001b[49m\n\u001b[1;32m   2233\u001b[0m \u001b[43m        \u001b[49m\u001b[38;5;241;43m*\u001b[39;49m\u001b[43margs\u001b[49m\u001b[43m,\u001b[49m\u001b[43m \u001b[49m\u001b[38;5;241;43m*\u001b[39;49m\u001b[38;5;241;43m*\u001b[39;49m\u001b[43m{\u001b[49m\u001b[43mk\u001b[49m\u001b[43m:\u001b[49m\u001b[43m \u001b[49m\u001b[43mv\u001b[49m\u001b[43m \u001b[49m\u001b[38;5;28;43;01mfor\u001b[39;49;00m\u001b[43m \u001b[49m\u001b[43mk\u001b[49m\u001b[43m,\u001b[49m\u001b[43m \u001b[49m\u001b[43mv\u001b[49m\u001b[43m \u001b[49m\u001b[38;5;129;43;01min\u001b[39;49;00m\u001b[43m \u001b[49m\u001b[43mkwargs\u001b[49m\u001b[38;5;241;43m.\u001b[39;49m\u001b[43mitems\u001b[49m\u001b[43m(\u001b[49m\u001b[43m)\u001b[49m\u001b[43m \u001b[49m\u001b[38;5;28;43;01mif\u001b[39;49;00m\u001b[43m \u001b[49m\u001b[43mk\u001b[49m\u001b[43m \u001b[49m\u001b[38;5;129;43;01mnot\u001b[39;49;00m\u001b[43m \u001b[49m\u001b[38;5;129;43;01min\u001b[39;49;00m\u001b[43m \u001b[49m\u001b[43mskip\u001b[49m\u001b[43m}\u001b[49m\u001b[43m)\u001b[49m)\n\u001b[1;32m   2234\u001b[0m \u001b[38;5;28;01melse\u001b[39;00m:  \u001b[38;5;66;03m# Let third-parties do as they see fit.\u001b[39;00m\n\u001b[1;32m   2235\u001b[0m     print_method \u001b[38;5;241m=\u001b[39m meth\n",
      "File \u001b[0;32m~/venvs/my_environment/lib/python3.9/site-packages/matplotlib/backends/backend_agg.py:509\u001b[0m, in \u001b[0;36mFigureCanvasAgg.print_png\u001b[0;34m(self, filename_or_obj, metadata, pil_kwargs)\u001b[0m\n\u001b[1;32m    462\u001b[0m \u001b[38;5;28;01mdef\u001b[39;00m \u001b[38;5;21mprint_png\u001b[39m(\u001b[38;5;28mself\u001b[39m, filename_or_obj, \u001b[38;5;241m*\u001b[39m, metadata\u001b[38;5;241m=\u001b[39m\u001b[38;5;28;01mNone\u001b[39;00m, pil_kwargs\u001b[38;5;241m=\u001b[39m\u001b[38;5;28;01mNone\u001b[39;00m):\n\u001b[1;32m    463\u001b[0m \u001b[38;5;250m    \u001b[39m\u001b[38;5;124;03m\"\"\"\u001b[39;00m\n\u001b[1;32m    464\u001b[0m \u001b[38;5;124;03m    Write the figure to a PNG file.\u001b[39;00m\n\u001b[1;32m    465\u001b[0m \n\u001b[0;32m   (...)\u001b[0m\n\u001b[1;32m    507\u001b[0m \u001b[38;5;124;03m        *metadata*, including the default 'Software' key.\u001b[39;00m\n\u001b[1;32m    508\u001b[0m \u001b[38;5;124;03m    \"\"\"\u001b[39;00m\n\u001b[0;32m--> 509\u001b[0m     \u001b[38;5;28;43mself\u001b[39;49m\u001b[38;5;241;43m.\u001b[39;49m\u001b[43m_print_pil\u001b[49m\u001b[43m(\u001b[49m\u001b[43mfilename_or_obj\u001b[49m\u001b[43m,\u001b[49m\u001b[43m \u001b[49m\u001b[38;5;124;43m\"\u001b[39;49m\u001b[38;5;124;43mpng\u001b[39;49m\u001b[38;5;124;43m\"\u001b[39;49m\u001b[43m,\u001b[49m\u001b[43m \u001b[49m\u001b[43mpil_kwargs\u001b[49m\u001b[43m,\u001b[49m\u001b[43m \u001b[49m\u001b[43mmetadata\u001b[49m\u001b[43m)\u001b[49m\n",
      "File \u001b[0;32m~/venvs/my_environment/lib/python3.9/site-packages/matplotlib/backends/backend_agg.py:457\u001b[0m, in \u001b[0;36mFigureCanvasAgg._print_pil\u001b[0;34m(self, filename_or_obj, fmt, pil_kwargs, metadata)\u001b[0m\n\u001b[1;32m    452\u001b[0m \u001b[38;5;28;01mdef\u001b[39;00m \u001b[38;5;21m_print_pil\u001b[39m(\u001b[38;5;28mself\u001b[39m, filename_or_obj, fmt, pil_kwargs, metadata\u001b[38;5;241m=\u001b[39m\u001b[38;5;28;01mNone\u001b[39;00m):\n\u001b[1;32m    453\u001b[0m \u001b[38;5;250m    \u001b[39m\u001b[38;5;124;03m\"\"\"\u001b[39;00m\n\u001b[1;32m    454\u001b[0m \u001b[38;5;124;03m    Draw the canvas, then save it using `.image.imsave` (to which\u001b[39;00m\n\u001b[1;32m    455\u001b[0m \u001b[38;5;124;03m    *pil_kwargs* and *metadata* are forwarded).\u001b[39;00m\n\u001b[1;32m    456\u001b[0m \u001b[38;5;124;03m    \"\"\"\u001b[39;00m\n\u001b[0;32m--> 457\u001b[0m     \u001b[43mFigureCanvasAgg\u001b[49m\u001b[38;5;241;43m.\u001b[39;49m\u001b[43mdraw\u001b[49m\u001b[43m(\u001b[49m\u001b[38;5;28;43mself\u001b[39;49m\u001b[43m)\u001b[49m\n\u001b[1;32m    458\u001b[0m     mpl\u001b[38;5;241m.\u001b[39mimage\u001b[38;5;241m.\u001b[39mimsave(\n\u001b[1;32m    459\u001b[0m         filename_or_obj, \u001b[38;5;28mself\u001b[39m\u001b[38;5;241m.\u001b[39mbuffer_rgba(), \u001b[38;5;28mformat\u001b[39m\u001b[38;5;241m=\u001b[39mfmt, origin\u001b[38;5;241m=\u001b[39m\u001b[38;5;124m\"\u001b[39m\u001b[38;5;124mupper\u001b[39m\u001b[38;5;124m\"\u001b[39m,\n\u001b[1;32m    460\u001b[0m         dpi\u001b[38;5;241m=\u001b[39m\u001b[38;5;28mself\u001b[39m\u001b[38;5;241m.\u001b[39mfigure\u001b[38;5;241m.\u001b[39mdpi, metadata\u001b[38;5;241m=\u001b[39mmetadata, pil_kwargs\u001b[38;5;241m=\u001b[39mpil_kwargs)\n",
      "File \u001b[0;32m~/venvs/my_environment/lib/python3.9/site-packages/matplotlib/backends/backend_agg.py:400\u001b[0m, in \u001b[0;36mFigureCanvasAgg.draw\u001b[0;34m(self)\u001b[0m\n\u001b[1;32m    396\u001b[0m \u001b[38;5;66;03m# Acquire a lock on the shared font cache.\u001b[39;00m\n\u001b[1;32m    397\u001b[0m \u001b[38;5;28;01mwith\u001b[39;00m RendererAgg\u001b[38;5;241m.\u001b[39mlock, \\\n\u001b[1;32m    398\u001b[0m      (\u001b[38;5;28mself\u001b[39m\u001b[38;5;241m.\u001b[39mtoolbar\u001b[38;5;241m.\u001b[39m_wait_cursor_for_draw_cm() \u001b[38;5;28;01mif\u001b[39;00m \u001b[38;5;28mself\u001b[39m\u001b[38;5;241m.\u001b[39mtoolbar\n\u001b[1;32m    399\u001b[0m       \u001b[38;5;28;01melse\u001b[39;00m nullcontext()):\n\u001b[0;32m--> 400\u001b[0m     \u001b[38;5;28;43mself\u001b[39;49m\u001b[38;5;241;43m.\u001b[39;49m\u001b[43mfigure\u001b[49m\u001b[38;5;241;43m.\u001b[39;49m\u001b[43mdraw\u001b[49m\u001b[43m(\u001b[49m\u001b[38;5;28;43mself\u001b[39;49m\u001b[38;5;241;43m.\u001b[39;49m\u001b[43mrenderer\u001b[49m\u001b[43m)\u001b[49m\n\u001b[1;32m    401\u001b[0m     \u001b[38;5;66;03m# A GUI class may be need to update a window using this draw, so\u001b[39;00m\n\u001b[1;32m    402\u001b[0m     \u001b[38;5;66;03m# don't forget to call the superclass.\u001b[39;00m\n\u001b[1;32m    403\u001b[0m     \u001b[38;5;28msuper\u001b[39m()\u001b[38;5;241m.\u001b[39mdraw()\n",
      "File \u001b[0;32m~/venvs/my_environment/lib/python3.9/site-packages/matplotlib/artist.py:95\u001b[0m, in \u001b[0;36m_finalize_rasterization.<locals>.draw_wrapper\u001b[0;34m(artist, renderer, *args, **kwargs)\u001b[0m\n\u001b[1;32m     93\u001b[0m \u001b[38;5;129m@wraps\u001b[39m(draw)\n\u001b[1;32m     94\u001b[0m \u001b[38;5;28;01mdef\u001b[39;00m \u001b[38;5;21mdraw_wrapper\u001b[39m(artist, renderer, \u001b[38;5;241m*\u001b[39margs, \u001b[38;5;241m*\u001b[39m\u001b[38;5;241m*\u001b[39mkwargs):\n\u001b[0;32m---> 95\u001b[0m     result \u001b[38;5;241m=\u001b[39m \u001b[43mdraw\u001b[49m\u001b[43m(\u001b[49m\u001b[43martist\u001b[49m\u001b[43m,\u001b[49m\u001b[43m \u001b[49m\u001b[43mrenderer\u001b[49m\u001b[43m,\u001b[49m\u001b[43m \u001b[49m\u001b[38;5;241;43m*\u001b[39;49m\u001b[43margs\u001b[49m\u001b[43m,\u001b[49m\u001b[43m \u001b[49m\u001b[38;5;241;43m*\u001b[39;49m\u001b[38;5;241;43m*\u001b[39;49m\u001b[43mkwargs\u001b[49m\u001b[43m)\u001b[49m\n\u001b[1;32m     96\u001b[0m     \u001b[38;5;28;01mif\u001b[39;00m renderer\u001b[38;5;241m.\u001b[39m_rasterizing:\n\u001b[1;32m     97\u001b[0m         renderer\u001b[38;5;241m.\u001b[39mstop_rasterizing()\n",
      "File \u001b[0;32m~/venvs/my_environment/lib/python3.9/site-packages/matplotlib/artist.py:72\u001b[0m, in \u001b[0;36mallow_rasterization.<locals>.draw_wrapper\u001b[0;34m(artist, renderer)\u001b[0m\n\u001b[1;32m     69\u001b[0m     \u001b[38;5;28;01mif\u001b[39;00m artist\u001b[38;5;241m.\u001b[39mget_agg_filter() \u001b[38;5;129;01mis\u001b[39;00m \u001b[38;5;129;01mnot\u001b[39;00m \u001b[38;5;28;01mNone\u001b[39;00m:\n\u001b[1;32m     70\u001b[0m         renderer\u001b[38;5;241m.\u001b[39mstart_filter()\n\u001b[0;32m---> 72\u001b[0m     \u001b[38;5;28;01mreturn\u001b[39;00m \u001b[43mdraw\u001b[49m\u001b[43m(\u001b[49m\u001b[43martist\u001b[49m\u001b[43m,\u001b[49m\u001b[43m \u001b[49m\u001b[43mrenderer\u001b[49m\u001b[43m)\u001b[49m\n\u001b[1;32m     73\u001b[0m \u001b[38;5;28;01mfinally\u001b[39;00m:\n\u001b[1;32m     74\u001b[0m     \u001b[38;5;28;01mif\u001b[39;00m artist\u001b[38;5;241m.\u001b[39mget_agg_filter() \u001b[38;5;129;01mis\u001b[39;00m \u001b[38;5;129;01mnot\u001b[39;00m \u001b[38;5;28;01mNone\u001b[39;00m:\n",
      "File \u001b[0;32m~/venvs/my_environment/lib/python3.9/site-packages/matplotlib/figure.py:3175\u001b[0m, in \u001b[0;36mFigure.draw\u001b[0;34m(self, renderer)\u001b[0m\n\u001b[1;32m   3172\u001b[0m         \u001b[38;5;66;03m# ValueError can occur when resizing a window.\u001b[39;00m\n\u001b[1;32m   3174\u001b[0m \u001b[38;5;28mself\u001b[39m\u001b[38;5;241m.\u001b[39mpatch\u001b[38;5;241m.\u001b[39mdraw(renderer)\n\u001b[0;32m-> 3175\u001b[0m \u001b[43mmimage\u001b[49m\u001b[38;5;241;43m.\u001b[39;49m\u001b[43m_draw_list_compositing_images\u001b[49m\u001b[43m(\u001b[49m\n\u001b[1;32m   3176\u001b[0m \u001b[43m    \u001b[49m\u001b[43mrenderer\u001b[49m\u001b[43m,\u001b[49m\u001b[43m \u001b[49m\u001b[38;5;28;43mself\u001b[39;49m\u001b[43m,\u001b[49m\u001b[43m \u001b[49m\u001b[43martists\u001b[49m\u001b[43m,\u001b[49m\u001b[43m \u001b[49m\u001b[38;5;28;43mself\u001b[39;49m\u001b[38;5;241;43m.\u001b[39;49m\u001b[43msuppressComposite\u001b[49m\u001b[43m)\u001b[49m\n\u001b[1;32m   3178\u001b[0m \u001b[38;5;28;01mfor\u001b[39;00m sfig \u001b[38;5;129;01min\u001b[39;00m \u001b[38;5;28mself\u001b[39m\u001b[38;5;241m.\u001b[39msubfigs:\n\u001b[1;32m   3179\u001b[0m     sfig\u001b[38;5;241m.\u001b[39mdraw(renderer)\n",
      "File \u001b[0;32m~/venvs/my_environment/lib/python3.9/site-packages/matplotlib/image.py:131\u001b[0m, in \u001b[0;36m_draw_list_compositing_images\u001b[0;34m(renderer, parent, artists, suppress_composite)\u001b[0m\n\u001b[1;32m    129\u001b[0m \u001b[38;5;28;01mif\u001b[39;00m not_composite \u001b[38;5;129;01mor\u001b[39;00m \u001b[38;5;129;01mnot\u001b[39;00m has_images:\n\u001b[1;32m    130\u001b[0m     \u001b[38;5;28;01mfor\u001b[39;00m a \u001b[38;5;129;01min\u001b[39;00m artists:\n\u001b[0;32m--> 131\u001b[0m         \u001b[43ma\u001b[49m\u001b[38;5;241;43m.\u001b[39;49m\u001b[43mdraw\u001b[49m\u001b[43m(\u001b[49m\u001b[43mrenderer\u001b[49m\u001b[43m)\u001b[49m\n\u001b[1;32m    132\u001b[0m \u001b[38;5;28;01melse\u001b[39;00m:\n\u001b[1;32m    133\u001b[0m     \u001b[38;5;66;03m# Composite any adjacent images together\u001b[39;00m\n\u001b[1;32m    134\u001b[0m     image_group \u001b[38;5;241m=\u001b[39m []\n",
      "File \u001b[0;32m~/venvs/my_environment/lib/python3.9/site-packages/matplotlib/artist.py:72\u001b[0m, in \u001b[0;36mallow_rasterization.<locals>.draw_wrapper\u001b[0;34m(artist, renderer)\u001b[0m\n\u001b[1;32m     69\u001b[0m     \u001b[38;5;28;01mif\u001b[39;00m artist\u001b[38;5;241m.\u001b[39mget_agg_filter() \u001b[38;5;129;01mis\u001b[39;00m \u001b[38;5;129;01mnot\u001b[39;00m \u001b[38;5;28;01mNone\u001b[39;00m:\n\u001b[1;32m     70\u001b[0m         renderer\u001b[38;5;241m.\u001b[39mstart_filter()\n\u001b[0;32m---> 72\u001b[0m     \u001b[38;5;28;01mreturn\u001b[39;00m \u001b[43mdraw\u001b[49m\u001b[43m(\u001b[49m\u001b[43martist\u001b[49m\u001b[43m,\u001b[49m\u001b[43m \u001b[49m\u001b[43mrenderer\u001b[49m\u001b[43m)\u001b[49m\n\u001b[1;32m     73\u001b[0m \u001b[38;5;28;01mfinally\u001b[39;00m:\n\u001b[1;32m     74\u001b[0m     \u001b[38;5;28;01mif\u001b[39;00m artist\u001b[38;5;241m.\u001b[39mget_agg_filter() \u001b[38;5;129;01mis\u001b[39;00m \u001b[38;5;129;01mnot\u001b[39;00m \u001b[38;5;28;01mNone\u001b[39;00m:\n",
      "File \u001b[0;32m~/venvs/my_environment/lib/python3.9/site-packages/matplotlib/axes/_base.py:3028\u001b[0m, in \u001b[0;36m_AxesBase.draw\u001b[0;34m(self, renderer)\u001b[0m\n\u001b[1;32m   3025\u001b[0m     \u001b[38;5;28;01mfor\u001b[39;00m spine \u001b[38;5;129;01min\u001b[39;00m \u001b[38;5;28mself\u001b[39m\u001b[38;5;241m.\u001b[39mspines\u001b[38;5;241m.\u001b[39mvalues():\n\u001b[1;32m   3026\u001b[0m         artists\u001b[38;5;241m.\u001b[39mremove(spine)\n\u001b[0;32m-> 3028\u001b[0m \u001b[38;5;28;43mself\u001b[39;49m\u001b[38;5;241;43m.\u001b[39;49m\u001b[43m_update_title_position\u001b[49m\u001b[43m(\u001b[49m\u001b[43mrenderer\u001b[49m\u001b[43m)\u001b[49m\n\u001b[1;32m   3030\u001b[0m \u001b[38;5;28;01mif\u001b[39;00m \u001b[38;5;129;01mnot\u001b[39;00m \u001b[38;5;28mself\u001b[39m\u001b[38;5;241m.\u001b[39maxison:\n\u001b[1;32m   3031\u001b[0m     \u001b[38;5;28;01mfor\u001b[39;00m _axis \u001b[38;5;129;01min\u001b[39;00m \u001b[38;5;28mself\u001b[39m\u001b[38;5;241m.\u001b[39m_axis_map\u001b[38;5;241m.\u001b[39mvalues():\n",
      "File \u001b[0;32m~/venvs/my_environment/lib/python3.9/site-packages/matplotlib/axes/_base.py:2963\u001b[0m, in \u001b[0;36m_AxesBase._update_title_position\u001b[0;34m(self, renderer)\u001b[0m\n\u001b[1;32m   2960\u001b[0m bb \u001b[38;5;241m=\u001b[39m \u001b[38;5;28;01mNone\u001b[39;00m\n\u001b[1;32m   2961\u001b[0m \u001b[38;5;28;01mif\u001b[39;00m (ax\u001b[38;5;241m.\u001b[39mxaxis\u001b[38;5;241m.\u001b[39mget_ticks_position() \u001b[38;5;129;01min\u001b[39;00m [\u001b[38;5;124m'\u001b[39m\u001b[38;5;124mtop\u001b[39m\u001b[38;5;124m'\u001b[39m, \u001b[38;5;124m'\u001b[39m\u001b[38;5;124munknown\u001b[39m\u001b[38;5;124m'\u001b[39m]\n\u001b[1;32m   2962\u001b[0m         \u001b[38;5;129;01mor\u001b[39;00m ax\u001b[38;5;241m.\u001b[39mxaxis\u001b[38;5;241m.\u001b[39mget_label_position() \u001b[38;5;241m==\u001b[39m \u001b[38;5;124m'\u001b[39m\u001b[38;5;124mtop\u001b[39m\u001b[38;5;124m'\u001b[39m):\n\u001b[0;32m-> 2963\u001b[0m     bb \u001b[38;5;241m=\u001b[39m \u001b[43max\u001b[49m\u001b[38;5;241;43m.\u001b[39;49m\u001b[43mxaxis\u001b[49m\u001b[38;5;241;43m.\u001b[39;49m\u001b[43mget_tightbbox\u001b[49m\u001b[43m(\u001b[49m\u001b[43mrenderer\u001b[49m\u001b[43m)\u001b[49m\n\u001b[1;32m   2964\u001b[0m \u001b[38;5;28;01mif\u001b[39;00m bb \u001b[38;5;129;01mis\u001b[39;00m \u001b[38;5;28;01mNone\u001b[39;00m:\n\u001b[1;32m   2965\u001b[0m     \u001b[38;5;28;01mif\u001b[39;00m \u001b[38;5;124m'\u001b[39m\u001b[38;5;124moutline\u001b[39m\u001b[38;5;124m'\u001b[39m \u001b[38;5;129;01min\u001b[39;00m ax\u001b[38;5;241m.\u001b[39mspines:\n\u001b[1;32m   2966\u001b[0m         \u001b[38;5;66;03m# Special case for colorbars:\u001b[39;00m\n",
      "File \u001b[0;32m~/venvs/my_environment/lib/python3.9/site-packages/matplotlib/axis.py:1325\u001b[0m, in \u001b[0;36mAxis.get_tightbbox\u001b[0;34m(self, renderer, for_layout_only)\u001b[0m\n\u001b[1;32m   1322\u001b[0m     renderer \u001b[38;5;241m=\u001b[39m \u001b[38;5;28mself\u001b[39m\u001b[38;5;241m.\u001b[39mfigure\u001b[38;5;241m.\u001b[39m_get_renderer()\n\u001b[1;32m   1323\u001b[0m ticks_to_draw \u001b[38;5;241m=\u001b[39m \u001b[38;5;28mself\u001b[39m\u001b[38;5;241m.\u001b[39m_update_ticks()\n\u001b[0;32m-> 1325\u001b[0m \u001b[38;5;28;43mself\u001b[39;49m\u001b[38;5;241;43m.\u001b[39;49m\u001b[43m_update_label_position\u001b[49m\u001b[43m(\u001b[49m\u001b[43mrenderer\u001b[49m\u001b[43m)\u001b[49m\n\u001b[1;32m   1327\u001b[0m \u001b[38;5;66;03m# go back to just this axis's tick labels\u001b[39;00m\n\u001b[1;32m   1328\u001b[0m tlb1, tlb2 \u001b[38;5;241m=\u001b[39m \u001b[38;5;28mself\u001b[39m\u001b[38;5;241m.\u001b[39m_get_ticklabel_bboxes(ticks_to_draw, renderer)\n",
      "File \u001b[0;32m~/venvs/my_environment/lib/python3.9/site-packages/matplotlib/axis.py:2304\u001b[0m, in \u001b[0;36mXAxis._update_label_position\u001b[0;34m(self, renderer)\u001b[0m\n\u001b[1;32m   2300\u001b[0m     \u001b[38;5;28;01mreturn\u001b[39;00m\n\u001b[1;32m   2302\u001b[0m \u001b[38;5;66;03m# get bounding boxes for this axis and any siblings\u001b[39;00m\n\u001b[1;32m   2303\u001b[0m \u001b[38;5;66;03m# that have been set by `fig.align_xlabels()`\u001b[39;00m\n\u001b[0;32m-> 2304\u001b[0m bboxes, bboxes2 \u001b[38;5;241m=\u001b[39m \u001b[38;5;28;43mself\u001b[39;49m\u001b[38;5;241;43m.\u001b[39;49m\u001b[43m_get_tick_boxes_siblings\u001b[49m\u001b[43m(\u001b[49m\u001b[43mrenderer\u001b[49m\u001b[38;5;241;43m=\u001b[39;49m\u001b[43mrenderer\u001b[49m\u001b[43m)\u001b[49m\n\u001b[1;32m   2306\u001b[0m x, y \u001b[38;5;241m=\u001b[39m \u001b[38;5;28mself\u001b[39m\u001b[38;5;241m.\u001b[39mlabel\u001b[38;5;241m.\u001b[39mget_position()\n\u001b[1;32m   2307\u001b[0m \u001b[38;5;28;01mif\u001b[39;00m \u001b[38;5;28mself\u001b[39m\u001b[38;5;241m.\u001b[39mlabel_position \u001b[38;5;241m==\u001b[39m \u001b[38;5;124m'\u001b[39m\u001b[38;5;124mbottom\u001b[39m\u001b[38;5;124m'\u001b[39m:\n",
      "File \u001b[0;32m~/venvs/my_environment/lib/python3.9/site-packages/matplotlib/axis.py:2100\u001b[0m, in \u001b[0;36mAxis._get_tick_boxes_siblings\u001b[0;34m(self, renderer)\u001b[0m\n\u001b[1;32m   2098\u001b[0m axis \u001b[38;5;241m=\u001b[39m \u001b[38;5;28mgetattr\u001b[39m(ax, \u001b[38;5;124mf\u001b[39m\u001b[38;5;124m\"\u001b[39m\u001b[38;5;132;01m{\u001b[39;00maxis_name\u001b[38;5;132;01m}\u001b[39;00m\u001b[38;5;124maxis\u001b[39m\u001b[38;5;124m\"\u001b[39m)\n\u001b[1;32m   2099\u001b[0m ticks_to_draw \u001b[38;5;241m=\u001b[39m axis\u001b[38;5;241m.\u001b[39m_update_ticks()\n\u001b[0;32m-> 2100\u001b[0m tlb, tlb2 \u001b[38;5;241m=\u001b[39m \u001b[43maxis\u001b[49m\u001b[38;5;241;43m.\u001b[39;49m\u001b[43m_get_ticklabel_bboxes\u001b[49m\u001b[43m(\u001b[49m\u001b[43mticks_to_draw\u001b[49m\u001b[43m,\u001b[49m\u001b[43m \u001b[49m\u001b[43mrenderer\u001b[49m\u001b[43m)\u001b[49m\n\u001b[1;32m   2101\u001b[0m bboxes\u001b[38;5;241m.\u001b[39mextend(tlb)\n\u001b[1;32m   2102\u001b[0m bboxes2\u001b[38;5;241m.\u001b[39mextend(tlb2)\n",
      "File \u001b[0;32m~/venvs/my_environment/lib/python3.9/site-packages/matplotlib/axis.py:1304\u001b[0m, in \u001b[0;36mAxis._get_ticklabel_bboxes\u001b[0;34m(self, ticks, renderer)\u001b[0m\n\u001b[1;32m   1302\u001b[0m \u001b[38;5;28;01mif\u001b[39;00m renderer \u001b[38;5;129;01mis\u001b[39;00m \u001b[38;5;28;01mNone\u001b[39;00m:\n\u001b[1;32m   1303\u001b[0m     renderer \u001b[38;5;241m=\u001b[39m \u001b[38;5;28mself\u001b[39m\u001b[38;5;241m.\u001b[39mfigure\u001b[38;5;241m.\u001b[39m_get_renderer()\n\u001b[0;32m-> 1304\u001b[0m \u001b[38;5;28;01mreturn\u001b[39;00m ([tick\u001b[38;5;241m.\u001b[39mlabel1\u001b[38;5;241m.\u001b[39mget_window_extent(renderer)\n\u001b[1;32m   1305\u001b[0m          \u001b[38;5;28;01mfor\u001b[39;00m tick \u001b[38;5;129;01min\u001b[39;00m ticks \u001b[38;5;28;01mif\u001b[39;00m tick\u001b[38;5;241m.\u001b[39mlabel1\u001b[38;5;241m.\u001b[39mget_visible()],\n\u001b[1;32m   1306\u001b[0m         [tick\u001b[38;5;241m.\u001b[39mlabel2\u001b[38;5;241m.\u001b[39mget_window_extent(renderer)\n\u001b[1;32m   1307\u001b[0m          \u001b[38;5;28;01mfor\u001b[39;00m tick \u001b[38;5;129;01min\u001b[39;00m ticks \u001b[38;5;28;01mif\u001b[39;00m tick\u001b[38;5;241m.\u001b[39mlabel2\u001b[38;5;241m.\u001b[39mget_visible()])\n",
      "File \u001b[0;32m~/venvs/my_environment/lib/python3.9/site-packages/matplotlib/axis.py:1304\u001b[0m, in \u001b[0;36m<listcomp>\u001b[0;34m(.0)\u001b[0m\n\u001b[1;32m   1302\u001b[0m \u001b[38;5;28;01mif\u001b[39;00m renderer \u001b[38;5;129;01mis\u001b[39;00m \u001b[38;5;28;01mNone\u001b[39;00m:\n\u001b[1;32m   1303\u001b[0m     renderer \u001b[38;5;241m=\u001b[39m \u001b[38;5;28mself\u001b[39m\u001b[38;5;241m.\u001b[39mfigure\u001b[38;5;241m.\u001b[39m_get_renderer()\n\u001b[0;32m-> 1304\u001b[0m \u001b[38;5;28;01mreturn\u001b[39;00m ([\u001b[43mtick\u001b[49m\u001b[38;5;241;43m.\u001b[39;49m\u001b[43mlabel1\u001b[49m\u001b[38;5;241;43m.\u001b[39;49m\u001b[43mget_window_extent\u001b[49m\u001b[43m(\u001b[49m\u001b[43mrenderer\u001b[49m\u001b[43m)\u001b[49m\n\u001b[1;32m   1305\u001b[0m          \u001b[38;5;28;01mfor\u001b[39;00m tick \u001b[38;5;129;01min\u001b[39;00m ticks \u001b[38;5;28;01mif\u001b[39;00m tick\u001b[38;5;241m.\u001b[39mlabel1\u001b[38;5;241m.\u001b[39mget_visible()],\n\u001b[1;32m   1306\u001b[0m         [tick\u001b[38;5;241m.\u001b[39mlabel2\u001b[38;5;241m.\u001b[39mget_window_extent(renderer)\n\u001b[1;32m   1307\u001b[0m          \u001b[38;5;28;01mfor\u001b[39;00m tick \u001b[38;5;129;01min\u001b[39;00m ticks \u001b[38;5;28;01mif\u001b[39;00m tick\u001b[38;5;241m.\u001b[39mlabel2\u001b[38;5;241m.\u001b[39mget_visible()])\n",
      "File \u001b[0;32m~/venvs/my_environment/lib/python3.9/site-packages/matplotlib/text.py:959\u001b[0m, in \u001b[0;36mText.get_window_extent\u001b[0;34m(self, renderer, dpi)\u001b[0m\n\u001b[1;32m    954\u001b[0m     \u001b[38;5;28;01mraise\u001b[39;00m \u001b[38;5;167;01mRuntimeError\u001b[39;00m(\n\u001b[1;32m    955\u001b[0m         \u001b[38;5;124m\"\u001b[39m\u001b[38;5;124mCannot get window extent of text w/o renderer. You likely \u001b[39m\u001b[38;5;124m\"\u001b[39m\n\u001b[1;32m    956\u001b[0m         \u001b[38;5;124m\"\u001b[39m\u001b[38;5;124mwant to call \u001b[39m\u001b[38;5;124m'\u001b[39m\u001b[38;5;124mfigure.draw_without_rendering()\u001b[39m\u001b[38;5;124m'\u001b[39m\u001b[38;5;124m first.\u001b[39m\u001b[38;5;124m\"\u001b[39m)\n\u001b[1;32m    958\u001b[0m \u001b[38;5;28;01mwith\u001b[39;00m cbook\u001b[38;5;241m.\u001b[39m_setattr_cm(\u001b[38;5;28mself\u001b[39m\u001b[38;5;241m.\u001b[39mfigure, dpi\u001b[38;5;241m=\u001b[39mdpi):\n\u001b[0;32m--> 959\u001b[0m     bbox, info, descent \u001b[38;5;241m=\u001b[39m \u001b[38;5;28;43mself\u001b[39;49m\u001b[38;5;241;43m.\u001b[39;49m\u001b[43m_get_layout\u001b[49m\u001b[43m(\u001b[49m\u001b[38;5;28;43mself\u001b[39;49m\u001b[38;5;241;43m.\u001b[39;49m\u001b[43m_renderer\u001b[49m\u001b[43m)\u001b[49m\n\u001b[1;32m    960\u001b[0m     x, y \u001b[38;5;241m=\u001b[39m \u001b[38;5;28mself\u001b[39m\u001b[38;5;241m.\u001b[39mget_unitless_position()\n\u001b[1;32m    961\u001b[0m     x, y \u001b[38;5;241m=\u001b[39m \u001b[38;5;28mself\u001b[39m\u001b[38;5;241m.\u001b[39mget_transform()\u001b[38;5;241m.\u001b[39mtransform((x, y))\n",
      "File \u001b[0;32m~/venvs/my_environment/lib/python3.9/site-packages/matplotlib/text.py:386\u001b[0m, in \u001b[0;36mText._get_layout\u001b[0;34m(self, renderer)\u001b[0m\n\u001b[1;32m    384\u001b[0m clean_line, ismath \u001b[38;5;241m=\u001b[39m \u001b[38;5;28mself\u001b[39m\u001b[38;5;241m.\u001b[39m_preprocess_math(line)\n\u001b[1;32m    385\u001b[0m \u001b[38;5;28;01mif\u001b[39;00m clean_line:\n\u001b[0;32m--> 386\u001b[0m     w, h, d \u001b[38;5;241m=\u001b[39m \u001b[43m_get_text_metrics_with_cache\u001b[49m\u001b[43m(\u001b[49m\n\u001b[1;32m    387\u001b[0m \u001b[43m        \u001b[49m\u001b[43mrenderer\u001b[49m\u001b[43m,\u001b[49m\u001b[43m \u001b[49m\u001b[43mclean_line\u001b[49m\u001b[43m,\u001b[49m\u001b[43m \u001b[49m\u001b[38;5;28;43mself\u001b[39;49m\u001b[38;5;241;43m.\u001b[39;49m\u001b[43m_fontproperties\u001b[49m\u001b[43m,\u001b[49m\n\u001b[1;32m    388\u001b[0m \u001b[43m        \u001b[49m\u001b[43mismath\u001b[49m\u001b[38;5;241;43m=\u001b[39;49m\u001b[43mismath\u001b[49m\u001b[43m,\u001b[49m\u001b[43m \u001b[49m\u001b[43mdpi\u001b[49m\u001b[38;5;241;43m=\u001b[39;49m\u001b[38;5;28;43mself\u001b[39;49m\u001b[38;5;241;43m.\u001b[39;49m\u001b[43mfigure\u001b[49m\u001b[38;5;241;43m.\u001b[39;49m\u001b[43mdpi\u001b[49m\u001b[43m)\u001b[49m\n\u001b[1;32m    389\u001b[0m \u001b[38;5;28;01melse\u001b[39;00m:\n\u001b[1;32m    390\u001b[0m     w \u001b[38;5;241m=\u001b[39m h \u001b[38;5;241m=\u001b[39m d \u001b[38;5;241m=\u001b[39m \u001b[38;5;241m0\u001b[39m\n",
      "File \u001b[0;32m~/venvs/my_environment/lib/python3.9/site-packages/matplotlib/text.py:97\u001b[0m, in \u001b[0;36m_get_text_metrics_with_cache\u001b[0;34m(renderer, text, fontprop, ismath, dpi)\u001b[0m\n\u001b[1;32m     94\u001b[0m \u001b[38;5;250m\u001b[39m\u001b[38;5;124;03m\"\"\"Call ``renderer.get_text_width_height_descent``, caching the results.\"\"\"\u001b[39;00m\n\u001b[1;32m     95\u001b[0m \u001b[38;5;66;03m# Cached based on a copy of fontprop so that later in-place mutations of\u001b[39;00m\n\u001b[1;32m     96\u001b[0m \u001b[38;5;66;03m# the passed-in argument do not mess up the cache.\u001b[39;00m\n\u001b[0;32m---> 97\u001b[0m \u001b[38;5;28;01mreturn\u001b[39;00m \u001b[43m_get_text_metrics_with_cache_impl\u001b[49m\u001b[43m(\u001b[49m\n\u001b[1;32m     98\u001b[0m \u001b[43m    \u001b[49m\u001b[43mweakref\u001b[49m\u001b[38;5;241;43m.\u001b[39;49m\u001b[43mref\u001b[49m\u001b[43m(\u001b[49m\u001b[43mrenderer\u001b[49m\u001b[43m)\u001b[49m\u001b[43m,\u001b[49m\u001b[43m \u001b[49m\u001b[43mtext\u001b[49m\u001b[43m,\u001b[49m\u001b[43m \u001b[49m\u001b[43mfontprop\u001b[49m\u001b[38;5;241;43m.\u001b[39;49m\u001b[43mcopy\u001b[49m\u001b[43m(\u001b[49m\u001b[43m)\u001b[49m\u001b[43m,\u001b[49m\u001b[43m \u001b[49m\u001b[43mismath\u001b[49m\u001b[43m,\u001b[49m\u001b[43m \u001b[49m\u001b[43mdpi\u001b[49m\u001b[43m)\u001b[49m\n",
      "File \u001b[0;32m~/venvs/my_environment/lib/python3.9/site-packages/matplotlib/text.py:105\u001b[0m, in \u001b[0;36m_get_text_metrics_with_cache_impl\u001b[0;34m(renderer_ref, text, fontprop, ismath, dpi)\u001b[0m\n\u001b[1;32m    101\u001b[0m \u001b[38;5;129m@functools\u001b[39m\u001b[38;5;241m.\u001b[39mlru_cache(\u001b[38;5;241m4096\u001b[39m)\n\u001b[1;32m    102\u001b[0m \u001b[38;5;28;01mdef\u001b[39;00m \u001b[38;5;21m_get_text_metrics_with_cache_impl\u001b[39m(\n\u001b[1;32m    103\u001b[0m         renderer_ref, text, fontprop, ismath, dpi):\n\u001b[1;32m    104\u001b[0m     \u001b[38;5;66;03m# dpi is unused, but participates in cache invalidation (via the renderer).\u001b[39;00m\n\u001b[0;32m--> 105\u001b[0m     \u001b[38;5;28;01mreturn\u001b[39;00m \u001b[43mrenderer_ref\u001b[49m\u001b[43m(\u001b[49m\u001b[43m)\u001b[49m\u001b[38;5;241;43m.\u001b[39;49m\u001b[43mget_text_width_height_descent\u001b[49m\u001b[43m(\u001b[49m\u001b[43mtext\u001b[49m\u001b[43m,\u001b[49m\u001b[43m \u001b[49m\u001b[43mfontprop\u001b[49m\u001b[43m,\u001b[49m\u001b[43m \u001b[49m\u001b[43mismath\u001b[49m\u001b[43m)\u001b[49m\n",
      "File \u001b[0;32m~/venvs/my_environment/lib/python3.9/site-packages/matplotlib/backends/backend_agg.py:234\u001b[0m, in \u001b[0;36mRendererAgg.get_text_width_height_descent\u001b[0;34m(self, s, prop, ismath)\u001b[0m\n\u001b[1;32m    231\u001b[0m     \u001b[38;5;28;01mreturn\u001b[39;00m width, height, descent\n\u001b[1;32m    233\u001b[0m font \u001b[38;5;241m=\u001b[39m \u001b[38;5;28mself\u001b[39m\u001b[38;5;241m.\u001b[39m_prepare_font(prop)\n\u001b[0;32m--> 234\u001b[0m \u001b[43mfont\u001b[49m\u001b[38;5;241;43m.\u001b[39;49m\u001b[43mset_text\u001b[49m\u001b[43m(\u001b[49m\u001b[43ms\u001b[49m\u001b[43m,\u001b[49m\u001b[43m \u001b[49m\u001b[38;5;241;43m0.0\u001b[39;49m\u001b[43m,\u001b[49m\u001b[43m \u001b[49m\u001b[43mflags\u001b[49m\u001b[38;5;241;43m=\u001b[39;49m\u001b[43mget_hinting_flag\u001b[49m\u001b[43m(\u001b[49m\u001b[43m)\u001b[49m\u001b[43m)\u001b[49m\n\u001b[1;32m    235\u001b[0m w, h \u001b[38;5;241m=\u001b[39m font\u001b[38;5;241m.\u001b[39mget_width_height()  \u001b[38;5;66;03m# width and height of unrotated string\u001b[39;00m\n\u001b[1;32m    236\u001b[0m d \u001b[38;5;241m=\u001b[39m font\u001b[38;5;241m.\u001b[39mget_descent()\n",
      "\u001b[0;31mKeyboardInterrupt\u001b[0m: "
     ]
    }
   ],
   "source": [
    "# Step 9: Plot the Dendrogram -> it takes too long to draw. \n",
    "plt.figure(figsize=(10, 7))\n",
    "sch.dendrogram(linkage_matrix, labels=df.index.tolist())\n",
    "plt.title('Dendrogram for BoW Data')\n",
    "plt.xlabel('Documents')\n",
    "plt.ylabel('Distance')\n",
    "plt.show()"
   ]
  },
  {
   "cell_type": "code",
   "execution_count": null,
   "id": "7cc94f21",
   "metadata": {},
   "outputs": [],
   "source": []
  },
  {
   "cell_type": "code",
   "execution_count": null,
   "id": "9187c890",
   "metadata": {},
   "outputs": [],
   "source": []
  },
  {
   "cell_type": "code",
   "execution_count": null,
   "id": "1ed4dc36",
   "metadata": {},
   "outputs": [],
   "source": []
  },
  {
   "cell_type": "markdown",
   "id": "8ec767ed",
   "metadata": {},
   "source": [
    "### 3. Dataset: Create the summed tf-idf after vectorizing each response\n",
    "### * with tf-idf Vectorizer"
   ]
  },
  {
   "cell_type": "code",
   "execution_count": 24,
   "id": "bbbfda1a",
   "metadata": {},
   "outputs": [],
   "source": [
    "import pandas as pd\n",
    "from sklearn.feature_extraction.text import TfidfVectorizer\n",
    "import numpy as np\n",
    "from gensim.corpora import Dictionary\n",
    "from gensim.models.ldamodel import LdaModel\n",
    "import pyLDAvis.gensim\n",
    "import pickle\n",
    "import pyLDAvis\n",
    "import os"
   ]
  },
  {
   "cell_type": "code",
   "execution_count": 25,
   "id": "c48f0678",
   "metadata": {},
   "outputs": [],
   "source": [
    "# Step 1: Load each dataset\n",
    "m1 = pd.read_json('~/thesis/data/processed_uscensus/political_mention1.jsonl', orient='index')\n",
    "m2 = pd.read_json('~/thesis/data/processed_uscensus/political_mention2.jsonl', orient='index')\n",
    "m3 = pd.read_json('~/thesis/data/processed_uscensus/political_mention3.jsonl', orient='index')"
   ]
  },
  {
   "cell_type": "code",
   "execution_count": 26,
   "id": "c0fcd1c3",
   "metadata": {},
   "outputs": [],
   "source": [
    "# Step 2: Combine the DataFrames\n",
    "df = pd.concat([m1, m2, m3], axis=1)\n",
    "df.columns = ['response1', 'response2', 'response3']\n",
    "\n",
    "# Step 3: Handle NaN values (if any)\n",
    "df.fillna('', inplace=True)"
   ]
  },
  {
   "cell_type": "code",
   "execution_count": 27,
   "id": "c67c6717",
   "metadata": {},
   "outputs": [],
   "source": [
    "# Step 4: Vectorize each response separately using TfidfVectorizer\n",
    "vectorizer = TfidfVectorizer(max_features=1000)"
   ]
  },
  {
   "cell_type": "code",
   "execution_count": 28,
   "id": "b3164e76",
   "metadata": {},
   "outputs": [],
   "source": [
    "# Fit the vectorizer on all responses combined to build a common vocabulary\n",
    "vectorizer.fit(pd.concat([df['response1'], df['response2'], df['response3']]))\n",
    "\n",
    "# Transform each response\n",
    "vectors1 = vectorizer.transform(df['response1']).toarray()\n",
    "vectors2 = vectorizer.transform(df['response2']).toarray()\n",
    "vectors3 = vectorizer.transform(df['response3']).toarray()"
   ]
  },
  {
   "cell_type": "code",
   "execution_count": 29,
   "id": "17278b8c",
   "metadata": {},
   "outputs": [],
   "source": [
    "# Ensure all vectors have the same shape by padding missing vectors with zeros\n",
    "max_len = max(vectors1.shape[0], vectors2.shape[0], vectors3.shape[0])\n",
    "\n",
    "if vectors1.shape[0] < max_len:\n",
    "    vectors1 = np.pad(vectors1, ((0, max_len - vectors1.shape[0]), (0, 0)), 'constant')\n",
    "\n",
    "if vectors2.shape[0] < max_len:\n",
    "    vectors2 = np.pad(vectors2, ((0, max_len - vectors2.shape[0]), (0, 0)), 'constant')\n",
    "\n",
    "if vectors3.shape[0] < max_len:\n",
    "    vectors3 = np.pad(vectors3, ((0, max_len - vectors3.shape[0]), (0, 0)), 'constant')\n",
    "\n",
    "# Step 5: Sum the vectors element-wise\n",
    "summed_vectors = vectors1 + vectors2 + vectors3"
   ]
  },
  {
   "cell_type": "code",
   "execution_count": 30,
   "id": "80f56536",
   "metadata": {},
   "outputs": [],
   "source": [
    "# Step 6: Create DataFrame from the summed vectors\n",
    "final_df = pd.DataFrame(summed_vectors)\n",
    "\n",
    "# Step 7: Convert final_df to a Gensim-compatible corpus format\n",
    "corpus = [list(enumerate(doc)) for doc in final_df.values]\n",
    "\n",
    "# Create a dummy Dictionary for visualization purposes\n",
    "dummy_dict = Dictionary()\n",
    "dummy_dict.token2id = {str(i): i for i in range(final_df.shape[1])}\n",
    "dummy_dict.id2token = {i: str(i) for i in range(final_df.shape[1])}\n"
   ]
  },
  {
   "cell_type": "code",
   "execution_count": null,
   "id": "9560f58f",
   "metadata": {},
   "outputs": [],
   "source": []
  },
  {
   "cell_type": "code",
   "execution_count": 31,
   "id": "667021c7",
   "metadata": {},
   "outputs": [],
   "source": [
    "# Step 8: Train the LDA model on the corpus\n",
    "num_topics = 5  # Adjust based on your needs\n",
    "lda_model = LdaModel(corpus=corpus, num_topics=num_topics, id2word=dummy_dict, passes=10)\n"
   ]
  },
  {
   "cell_type": "code",
   "execution_count": 32,
   "id": "a9ea37df",
   "metadata": {},
   "outputs": [
    {
     "data": {
      "text/html": [
       "\n",
       "<link rel=\"stylesheet\" type=\"text/css\" href=\"https://cdn.jsdelivr.net/gh/bmabey/pyLDAvis@3.4.0/pyLDAvis/js/ldavis.v1.0.0.css\">\n",
       "\n",
       "\n",
       "<div id=\"ldavis_el23566851407164058918083783109802\" style=\"background-color:white;\"></div>\n",
       "<script type=\"text/javascript\">\n",
       "\n",
       "var ldavis_el23566851407164058918083783109802_data = {\"mdsDat\": {\"x\": [-0.13881212041017577, -0.09731839357683535, 0.09746307393240967, -0.16447377741246538, 0.3031412174670665], \"y\": [-0.07916493226960641, -0.2503416880671505, 0.04462292897582958, 0.26958284332279, 0.01530084803813749], \"topics\": [1, 2, 3, 4, 5], \"cluster\": [1, 1, 1, 1, 1], \"Freq\": [29.934164249039714, 20.24931608953805, 17.329237734743256, 16.49376985789239, 15.993512068786595]}, \"tinfo\": {\"Term\": [\"manufacturing\", \"pandemic\", \"covid\", \"19\", \"information\", \"allow\", \"effort\", \"policing\", \"country\", \"trabajos\", \"disease\", \"change\", \"growth\", \"opinions\", \"fake\", \"views\", \"politically\", \"simmer\", \"tatic\", \"whites\", \"demensional\", \"false\", \"economy\", \"people\", \"fighting\", \"bill\", \"virus\", \"imprisonment\", \"refusal\", \"health\", \"americans\", \"mankind\", \"direction\", \"unaccountable\", \"election\", \"severe\", \"poses\", \"compromise\", \"corruption\", \"continually\", \"problem\", \"turning\", \"around\", \"thy\", \"understand\", \"unity\", \"one\", \"kind\", \"mensch\", \"enviromental\", \"youmg\", \"divided\", \"currently\", \"biggest\", \"break\", \"upon\", \"great\", \"positive\", \"color\", \"leads\", \"breathed\", \"say\", \"live\", \"much\", \"country\", \"division\", \"political\", \"whites\", \"people\", \"white\", \"think\", \"globalism\", \"debates\", \"government\", \"name\", \"pandemic\", \"covid\", \"19\", \"effort\", \"disease\", \"virus\", \"spread\", \"coordination\", \"small\", \"garbage\", \"corona\", \"president2\", \"standard\", \"spends\", \"back\", \"pr0gressive\", \"control\", \"distancing\", \"stimulating\", \"businesses\", \"disrespect\", \"odds\", \"equaloity\", \"guidelines\", \"observed\", \"recovery\", \"follow\", \"extrememly\", \"blow\", \"accountability\", \"economy\", \"order\", \"rules\", \"jobs\", \"getting\", \"lot\", \"whites\", \"people\", \"fighting\", \"towards\", \"following\", \"increase\", \"allow\", \"change\", \"simmer\", \"demensional\", \"health\", \"climate\", \"planning\", \"racim\", \"system\", \"exhausting\", \"spirit\", \"needing\", \"care\", \"prejudices\", \"destroyed\", \"brat\", \"offer\", \"sone\", \"crisis\", \"equitable\", \"vets\", \"border\", \"dangerous\", \"recreational\", \"economyhealth\", \"racial\", \"therefore\", \"coronavirusequalitypolice\", \"mass\", \"drugs\", \"education\", \"mend\", \"behavior\", \"inequality\", \"moral\", \"justice\", \"income\", \"party\", \"issues\", \"spreading\", \"information\", \"fake\", \"politically\", \"false\", \"bill\", \"vaccine\", \"tends\", \"viruslack\", \"deserves\", \"facts\", \"lose\", \"thoughts\", \"bunch\", \"trumpdismantling\", \"plus\", \"net\", \"media\", \"instructions\", \"bias\", \"peace\", \"news\", \"degradation\", \"verifiable\", \"ends\", \"enforce\", \"widening\", \"promote\", \"poorthe\", \"joke\", \"creates\", \"views\", \"continues\", \"failing\", \"humans\", \"refusal\", \"well\", \"supreme\", \"democratic\", \"integrity\", \"reason\", \"blacks\", \"country\", \"social\", \"policing\", \"trabajos\", \"opinions\", \"tatic\", \"de\", \"que\", \"supplement\", \"pooor\", \"paga\", \"immigracion\", \"ruin\", \"sexos\", \"mistreatment\", \"pocket\", \"maga\", \"abuse\", \"cobertura\", \"fda\", \"addication\", \"regulation\", \"19unemploymentracism\", \"en\", \"collective\", \"discrimination\", \"international\", \"antifa\", \"belive\", \"class\", \"systemic\", \"constituional\", \"manufacturing\", \"learn\", \"growth\", \"love\", \"rights\", \"imprisonment\", \"equality\", \"shutdowns\", \"high\", \"fighting\", \"blacks\", \"biased\", \"healthcare\", \"another\", \"racism\"], \"Freq\": [897.0, 708.0, 696.0, 549.0, 471.0, 459.0, 488.0, 401.0, 902.0, 350.0, 380.0, 338.0, 364.0, 297.0, 290.0, 308.0, 284.0, 287.0, 259.0, 682.0, 258.0, 249.0, 273.0, 576.0, 377.0, 218.0, 244.0, 302.0, 326.0, 218.0, 292.45211468417705, 285.3570801019842, 252.38633959172117, 243.56280260767886, 199.8962413182418, 192.85803131246004, 177.16530270765375, 158.65304314150612, 147.2155591045526, 150.97249712064703, 169.97889566193615, 126.72650383680362, 127.62602232794855, 121.77206560145758, 122.18197653013178, 116.57905014279783, 113.85453827452102, 114.13079733641233, 113.57000194240452, 116.71992911665045, 114.2012905718466, 109.2306781701065, 103.59704898122797, 92.45803454345334, 93.33220854584683, 88.99261189650841, 91.29776963671324, 89.8173372715826, 85.26779068116782, 83.85513105006876, 85.57769630903944, 345.345640989371, 107.81339616732325, 167.84845364859237, 762.8593539969157, 158.01988571778742, 141.06525791219732, 478.83490613218504, 402.1409782121032, 239.54929402160735, 135.65059187572928, 141.63755548690764, 165.40187118045412, 224.83275408729455, 115.6722218545709, 707.7393877447666, 695.3336282486861, 549.1576167889486, 488.1258337572041, 380.0057027052713, 243.36930269753358, 192.84975719685465, 214.56252127311598, 157.50954411781564, 138.72736708052162, 122.27101264025616, 117.23212936130376, 113.97336212876158, 115.28259245750482, 144.11399718535034, 111.14899874542729, 173.40945217498165, 105.50199482688586, 99.40574147819657, 95.24478356794334, 94.48355319154619, 93.91578523503965, 89.89127913392339, 80.78262583487725, 79.39878163870439, 77.48031753148477, 84.15187909406833, 73.8321139045864, 70.34760881808293, 66.16081937324765, 268.2054785550992, 79.07909821884759, 127.26741764428087, 144.99616255041443, 159.49113270917525, 150.7340523013268, 203.31771529358699, 173.35667037326746, 131.4281294333731, 98.52593663881323, 98.58905552929046, 96.58091941451674, 459.10067624194534, 337.9210564224016, 286.62798694377824, 257.4611627549823, 218.251856776671, 180.72287193948117, 185.0540158138635, 176.15115151226877, 173.1377406220205, 174.77402116528225, 166.54335042362862, 159.6422844794451, 155.49205172183596, 150.76383398753345, 135.75997779422062, 135.60785582478744, 123.69114980100883, 119.00572803897433, 108.48505152308988, 104.30567537854925, 105.32496629388277, 103.67216095238061, 92.51729982731659, 90.96860262953753, 89.07704937742076, 84.81166960449457, 83.84084249489274, 81.47133386748217, 75.26690401505184, 74.42043893716706, 149.87035557143346, 75.76102994899456, 132.19353188337075, 96.86472914886399, 92.7225002912137, 137.54175506915058, 106.82229875089722, 117.85732157956781, 106.95448756277739, 104.6171381458474, 470.8810578751525, 289.8718485580685, 283.66017317039024, 248.5178995083823, 217.67388418271108, 180.45783232071977, 171.1599110376783, 154.35851318763366, 155.77685004772002, 135.74283278653576, 133.8109994446268, 127.95388093457687, 125.69179365761413, 118.98404482006022, 114.18550307529165, 110.71770918272532, 103.47936888012048, 96.25244649541813, 83.8303623526142, 81.18933324326882, 78.78847224584544, 79.19784059688446, 78.34330102214967, 77.3097470841311, 123.4096042841686, 72.56352910998996, 68.09939202781275, 67.83438789414832, 62.49091166535155, 61.88014418221191, 296.9766365823182, 103.0181050442812, 104.96326080915382, 103.32509485770282, 228.3694205817764, 207.31530849250336, 84.34558109020982, 107.75577552680818, 134.51600347843578, 102.29595135245745, 111.3704076708357, 135.3921122564229, 103.03163705392622, 401.0416105003376, 349.44429699313764, 296.45238460145845, 258.2965903229278, 182.94170207899023, 167.05917974423895, 169.2325909310561, 149.79573678055664, 149.19405258591854, 143.59064209874003, 131.96446948997573, 124.51983149755587, 121.26022721010905, 120.40685604451801, 117.39651764144777, 116.61964044115443, 111.00107607266767, 97.47984654470874, 86.35228522943919, 86.07495594737453, 80.22308365931741, 77.88965985640041, 77.02312292804011, 75.96355294366805, 73.94591305340086, 79.2285560774585, 67.21504054276458, 64.11493196059745, 61.18047783313963, 59.747150399521004, 822.0340347197904, 85.84125924017879, 339.72849423435935, 91.21426004281265, 201.76649847411932, 228.934942392832, 194.63797132939789, 170.58869984062062, 122.74103091443861, 232.388348475459, 203.00006859302326, 113.57835807753523, 145.43782512351595, 143.87884859823353, 115.95568837387538], \"Total\": [897.0, 708.0, 696.0, 549.0, 471.0, 459.0, 488.0, 401.0, 902.0, 350.0, 380.0, 338.0, 364.0, 297.0, 290.0, 308.0, 284.0, 287.0, 259.0, 682.0, 258.0, 249.0, 273.0, 576.0, 377.0, 218.0, 244.0, 302.0, 326.0, 218.0, 293.1704953098779, 286.09254045354845, 253.12879418376704, 244.31370240765605, 200.65968666410654, 193.59540192733104, 177.8864351601328, 159.37171843923798, 147.93898991728432, 151.7379961795562, 170.92299530354236, 127.47677298734703, 128.39101803428863, 122.5049400669428, 122.9212463851353, 117.29657017649448, 114.57004403228778, 114.85851260259946, 114.300224847917, 117.47236214234898, 114.9412777440621, 109.94634576411329, 104.31886492905312, 93.17681389422326, 94.07364400437275, 89.71491153755929, 92.04303229664535, 90.55694095719025, 85.9874271445743, 84.57861334748017, 86.32119404013147, 354.52568230966756, 109.17112486445994, 175.6864369991602, 902.7452740385743, 171.2690590938676, 153.44002963853012, 682.685968208682, 576.061353765571, 327.5771720920096, 153.3782533894121, 169.00349925902972, 235.98291339875334, 449.19224238998845, 158.55121559353864, 708.4633851405841, 696.0483520726418, 549.8763114196383, 488.8518196959181, 380.72843432526685, 244.0890491988831, 193.57548144856696, 215.48377889889272, 158.24267201043972, 139.45985002527797, 122.99159789040293, 117.96757533875197, 114.70537990160534, 116.02307330468977, 145.04688402169404, 111.8779219503026, 174.61743729299474, 106.23711857265164, 100.15039958128712, 95.96487417790803, 95.21709479467727, 94.67714851599264, 90.64879425051093, 81.50928169538895, 80.14113546162045, 78.21068861748437, 85.00015486856388, 74.58529088924011, 71.08892046202577, 66.88565331573801, 273.05347298843424, 79.9997889867406, 139.0868805579816, 225.42303286229537, 265.78837548693963, 279.6613284083183, 682.685968208682, 576.061353765571, 377.3948907192373, 133.57641235714667, 150.77312834534737, 190.31797318342845, 459.83580449647695, 338.65544160316773, 287.3623741181623, 258.2362213682067, 218.98712048056055, 181.45939033162938, 185.81474254448344, 176.90130781489998, 173.87980066508257, 175.53174638120976, 167.28625899159192, 160.39142630424712, 156.22299252737116, 151.54713198525948, 136.49750264418782, 136.36297713616386, 124.44611580989627, 119.74788350603853, 109.2226801253227, 105.04865241209477, 106.07823645268363, 104.41890126687466, 93.2587106036507, 91.71458832340119, 89.83728113743274, 85.54173253843241, 84.57886937356864, 82.21012556844825, 75.99858109377232, 75.1659645222684, 151.48323469920743, 76.52733073846464, 154.2813618197794, 108.95339542661492, 102.08562886563305, 253.0591110019352, 143.88310065724727, 204.4594758113586, 183.94208570451536, 202.7544593005305, 471.6448722945541, 290.63374483787646, 284.4326612135789, 249.28067518812819, 218.4664284689721, 181.2194900069676, 171.9344947061085, 155.1188090501157, 156.6016285424338, 136.51907515787644, 134.58027475555255, 128.72901675592016, 126.49054896154948, 119.74776845249077, 114.94845334562903, 111.48592445586698, 104.23912552722794, 97.02903900923067, 84.59282671108708, 81.96622032758674, 79.5505302239444, 79.96399473868574, 79.12052003800623, 78.08363058776902, 124.69053576706061, 73.32955327983575, 68.86530973964459, 68.61068369016672, 63.27099453519518, 62.65741319352145, 308.08967523438344, 109.10112674140143, 117.04605081091991, 115.76336119695173, 326.91244256911006, 347.681548630717, 93.07005607485226, 162.47800626201814, 277.6656444298337, 165.86531983212018, 314.9985184018279, 902.7452740385743, 250.36469887517384, 401.8472374751691, 350.23788868439533, 297.2437959841037, 259.0993884589104, 183.72978837047665, 167.84521956742086, 170.0331822895281, 150.58928384531882, 149.99390050654557, 144.38863356156386, 132.76936248699178, 125.32468653090689, 122.04992788151229, 121.20472111241331, 118.19315036639244, 117.41799068188782, 111.78971989057402, 98.26942625148386, 87.15135894391558, 86.87404359658278, 81.0149085854274, 78.68528211868299, 77.82195198646349, 76.7520501022438, 74.73546715036488, 80.1329022631003, 68.02538763853737, 64.90266800406934, 61.9663388849409, 60.54592085340687, 897.1062343195945, 87.76332129471673, 364.10907039403156, 94.37461301584165, 249.7066948571806, 302.5359747251864, 265.8527630926145, 237.25792864071383, 149.44396858402163, 377.3948907192373, 314.9985184018279, 141.8594146965325, 279.8652047167137, 303.15143571069206, 254.0205339510249], \"Category\": [\"Default\", \"Default\", \"Default\", \"Default\", \"Default\", \"Default\", \"Default\", \"Default\", \"Default\", \"Default\", \"Default\", \"Default\", \"Default\", \"Default\", \"Default\", \"Default\", \"Default\", \"Default\", \"Default\", \"Default\", \"Default\", \"Default\", \"Default\", \"Default\", \"Default\", \"Default\", \"Default\", \"Default\", \"Default\", \"Default\", \"Topic1\", \"Topic1\", \"Topic1\", \"Topic1\", \"Topic1\", \"Topic1\", \"Topic1\", \"Topic1\", \"Topic1\", \"Topic1\", \"Topic1\", \"Topic1\", \"Topic1\", \"Topic1\", \"Topic1\", \"Topic1\", \"Topic1\", \"Topic1\", \"Topic1\", \"Topic1\", \"Topic1\", \"Topic1\", \"Topic1\", \"Topic1\", \"Topic1\", \"Topic1\", \"Topic1\", \"Topic1\", \"Topic1\", \"Topic1\", \"Topic1\", \"Topic1\", \"Topic1\", \"Topic1\", \"Topic1\", \"Topic1\", \"Topic1\", \"Topic1\", \"Topic1\", \"Topic1\", \"Topic1\", \"Topic1\", \"Topic1\", \"Topic1\", \"Topic1\", \"Topic2\", \"Topic2\", \"Topic2\", \"Topic2\", \"Topic2\", \"Topic2\", \"Topic2\", \"Topic2\", \"Topic2\", \"Topic2\", \"Topic2\", \"Topic2\", \"Topic2\", \"Topic2\", \"Topic2\", \"Topic2\", \"Topic2\", \"Topic2\", \"Topic2\", \"Topic2\", \"Topic2\", \"Topic2\", \"Topic2\", \"Topic2\", \"Topic2\", \"Topic2\", \"Topic2\", \"Topic2\", \"Topic2\", \"Topic2\", \"Topic2\", \"Topic2\", \"Topic2\", \"Topic2\", \"Topic2\", \"Topic2\", \"Topic2\", \"Topic2\", \"Topic2\", \"Topic2\", \"Topic2\", \"Topic2\", \"Topic3\", \"Topic3\", \"Topic3\", \"Topic3\", \"Topic3\", \"Topic3\", \"Topic3\", \"Topic3\", \"Topic3\", \"Topic3\", \"Topic3\", \"Topic3\", \"Topic3\", \"Topic3\", \"Topic3\", \"Topic3\", \"Topic3\", \"Topic3\", \"Topic3\", \"Topic3\", \"Topic3\", \"Topic3\", \"Topic3\", \"Topic3\", \"Topic3\", \"Topic3\", \"Topic3\", \"Topic3\", \"Topic3\", \"Topic3\", \"Topic3\", \"Topic3\", \"Topic3\", \"Topic3\", \"Topic3\", \"Topic3\", \"Topic3\", \"Topic3\", \"Topic3\", \"Topic3\", \"Topic4\", \"Topic4\", \"Topic4\", \"Topic4\", \"Topic4\", \"Topic4\", \"Topic4\", \"Topic4\", \"Topic4\", \"Topic4\", \"Topic4\", \"Topic4\", \"Topic4\", \"Topic4\", \"Topic4\", \"Topic4\", \"Topic4\", \"Topic4\", \"Topic4\", \"Topic4\", \"Topic4\", \"Topic4\", \"Topic4\", \"Topic4\", \"Topic4\", \"Topic4\", \"Topic4\", \"Topic4\", \"Topic4\", \"Topic4\", \"Topic4\", \"Topic4\", \"Topic4\", \"Topic4\", \"Topic4\", \"Topic4\", \"Topic4\", \"Topic4\", \"Topic4\", \"Topic4\", \"Topic4\", \"Topic4\", \"Topic4\", \"Topic5\", \"Topic5\", \"Topic5\", \"Topic5\", \"Topic5\", \"Topic5\", \"Topic5\", \"Topic5\", \"Topic5\", \"Topic5\", \"Topic5\", \"Topic5\", \"Topic5\", \"Topic5\", \"Topic5\", \"Topic5\", \"Topic5\", \"Topic5\", \"Topic5\", \"Topic5\", \"Topic5\", \"Topic5\", \"Topic5\", \"Topic5\", \"Topic5\", \"Topic5\", \"Topic5\", \"Topic5\", \"Topic5\", \"Topic5\", \"Topic5\", \"Topic5\", \"Topic5\", \"Topic5\", \"Topic5\", \"Topic5\", \"Topic5\", \"Topic5\", \"Topic5\", \"Topic5\", \"Topic5\", \"Topic5\", \"Topic5\", \"Topic5\", \"Topic5\"], \"logprob\": [30.0, 29.0, 28.0, 27.0, 26.0, 25.0, 24.0, 23.0, 22.0, 21.0, 20.0, 19.0, 18.0, 17.0, 16.0, 15.0, 14.0, 13.0, 12.0, 11.0, 10.0, 9.0, 8.0, 7.0, 6.0, 5.0, 4.0, 3.0, 2.0, 1.0, -4.7994, -4.824, -4.9468, -4.9823, -5.1799, -5.2158, -5.3006, -5.411, -5.4858, -5.4606, -5.342, -5.6357, -5.6286, -5.6756, -5.6722, -5.7191, -5.7428, -5.7404, -5.7453, -5.7179, -5.7398, -5.7843, -5.8372, -5.951, -5.9415, -5.9892, -5.9636, -5.9799, -6.0319, -6.0486, -6.0283, -4.6332, -5.7973, -5.3547, -3.8406, -5.415, -5.5285, -4.3064, -4.4809, -4.999, -5.5676, -5.5244, -5.3693, -5.0624, -5.727, -3.5248, -3.5424, -3.7784, -3.8963, -4.1466, -4.5923, -4.8249, -4.7182, -5.0273, -5.1543, -5.2806, -5.3227, -5.3509, -5.3394, -5.1162, -5.376, -4.9312, -5.4281, -5.4876, -5.5304, -5.5384, -5.5444, -5.5882, -5.6951, -5.7124, -5.7368, -5.6542, -5.785, -5.8334, -5.8947, -4.4951, -5.7164, -5.2405, -5.1101, -5.0148, -5.0713, -4.7721, -4.9315, -5.2084, -5.4965, -5.4959, -5.5165, -3.8018, -4.1083, -4.2729, -4.3802, -4.5455, -4.7341, -4.7105, -4.7598, -4.777, -4.7676, -4.8159, -4.8582, -4.8845, -4.9154, -5.0202, -5.0213, -5.1133, -5.1519, -5.2445, -5.2838, -5.2741, -5.2899, -5.4037, -5.4206, -5.4416, -5.4907, -5.5022, -5.5309, -5.6101, -5.6214, -4.9213, -5.6035, -5.0468, -5.3578, -5.4015, -5.0072, -5.2599, -5.1616, -5.2587, -5.2808, -3.7271, -4.2123, -4.2339, -4.3662, -4.4987, -4.6862, -4.7391, -4.8424, -4.8333, -4.9709, -4.9853, -5.03, -5.0479, -5.1027, -5.1439, -5.1747, -5.2423, -5.3147, -5.4529, -5.4849, -5.5149, -5.5097, -5.5206, -5.5339, -5.0662, -5.5972, -5.6607, -5.6646, -5.7467, -5.7565, -4.188, -5.2468, -5.2281, -5.2438, -4.4507, -4.5475, -5.4468, -5.2018, -4.98, -5.2538, -5.1688, -4.9735, -5.2467, -3.8568, -3.9946, -4.159, -4.2968, -4.6417, -4.7325, -4.7196, -4.8416, -4.8456, -4.8839, -4.9684, -5.0264, -5.053, -5.06, -5.0853, -5.092, -5.1414, -5.2712, -5.3925, -5.3957, -5.4661, -5.4956, -5.5068, -5.5206, -5.5476, -5.4786, -5.643, -5.6902, -5.7371, -5.7608, -3.1391, -5.3984, -4.0227, -5.3377, -4.5438, -4.4175, -4.5798, -4.7116, -5.0408, -4.4025, -4.5377, -5.1184, -4.8711, -4.8819, -5.0977], \"loglift\": [30.0, 29.0, 28.0, 27.0, 26.0, 25.0, 24.0, 23.0, 22.0, 21.0, 20.0, 19.0, 18.0, 17.0, 16.0, 15.0, 14.0, 13.0, 12.0, 11.0, 10.0, 9.0, 8.0, 7.0, 6.0, 5.0, 4.0, 3.0, 2.0, 1.0, 1.2037, 1.2036, 1.2032, 1.2031, 1.2024, 1.2024, 1.2021, 1.2017, 1.2013, 1.2011, 1.2006, 1.2003, 1.2002, 1.2002, 1.2001, 1.2, 1.1999, 1.1998, 1.1998, 1.1997, 1.1997, 1.1996, 1.1992, 1.1984, 1.1983, 1.1981, 1.198, 1.198, 1.1978, 1.1976, 1.1975, 1.1799, 1.1937, 1.1605, 1.0378, 1.1257, 1.1221, 0.8515, 0.8468, 0.8932, 1.0833, 1.0295, 0.8508, 0.5141, 0.8909, 1.596, 1.596, 1.5957, 1.5956, 1.5951, 1.5941, 1.5933, 1.5928, 1.5924, 1.5918, 1.5912, 1.5908, 1.5906, 1.5906, 1.5906, 1.5905, 1.5901, 1.5901, 1.5896, 1.5895, 1.5893, 1.589, 1.5887, 1.5881, 1.5877, 1.5877, 1.587, 1.5869, 1.5866, 1.5862, 1.5791, 1.5855, 1.5082, 1.1558, 1.0863, 0.979, 0.3858, 0.3962, 0.5422, 1.2927, 1.1722, 0.9187, 1.7512, 1.7506, 1.7502, 1.7498, 1.7494, 1.7487, 1.7487, 1.7485, 1.7485, 1.7484, 1.7483, 1.7481, 1.7481, 1.7476, 1.7474, 1.7472, 1.7467, 1.7466, 1.746, 1.7457, 1.7456, 1.7456, 1.7448, 1.7446, 1.7443, 1.7442, 1.744, 1.7437, 1.7431, 1.7428, 1.7421, 1.7427, 1.5983, 1.6352, 1.6566, 1.1431, 1.4549, 1.2019, 1.2106, 1.0911, 1.8006, 1.7996, 1.7995, 1.7991, 1.7986, 1.798, 1.7977, 1.7973, 1.7969, 1.7965, 1.7965, 1.7961, 1.7959, 1.7958, 1.7955, 1.7953, 1.7949, 1.7942, 1.7931, 1.7927, 1.7926, 1.7926, 1.7923, 1.7922, 1.7919, 1.7917, 1.791, 1.7908, 1.7898, 1.7897, 1.7655, 1.7448, 1.6932, 1.6885, 1.4435, 1.2851, 1.7038, 1.3915, 1.0775, 1.3189, 0.7625, -0.0951, 0.9143, 1.831, 1.8307, 1.8303, 1.8299, 1.8287, 1.8283, 1.8283, 1.8277, 1.8276, 1.8274, 1.8269, 1.8265, 1.8265, 1.8264, 1.8262, 1.8262, 1.8259, 1.8249, 1.8238, 1.8237, 1.8232, 1.8228, 1.8227, 1.8227, 1.8224, 1.8216, 1.821, 1.8208, 1.8202, 1.8197, 1.7456, 1.8108, 1.7637, 1.7989, 1.6198, 1.5542, 1.5212, 1.5031, 1.6361, 1.3481, 1.3936, 1.6106, 1.1784, 1.0877, 1.0488]}, \"token.table\": {\"Topic\": [2, 5, 5, 2, 5, 3, 1, 1, 3, 4, 5, 5, 1, 2, 1, 3, 5, 4, 2, 4, 5, 1, 4, 4, 5, 2, 3, 3, 1, 1, 4, 2, 3, 3, 5, 3, 5, 5, 1, 1, 5, 1, 2, 4, 2, 3, 2, 2, 3, 1, 1, 2, 4, 2, 4, 3, 1, 3, 5, 1, 3, 4, 3, 1, 2, 3, 4, 4, 3, 1, 5, 2, 2, 2, 1, 1, 3, 3, 2, 3, 3, 3, 5, 2, 1, 5, 4, 1, 4, 1, 3, 5, 2, 3, 3, 2, 4, 2, 4, 4, 4, 5, 1, 2, 5, 2, 1, 2, 4, 2, 1, 2, 1, 2, 1, 2, 3, 4, 5, 1, 1, 2, 5, 2, 3, 2, 3, 5, 4, 5, 1, 4, 5, 3, 5, 3, 5, 1, 2, 3, 5, 4, 4, 1, 3, 4, 5, 1, 2, 3, 2, 3, 5, 4, 1, 3, 4, 5, 1, 1, 4, 5, 1, 2, 4, 1, 2, 3, 4, 1, 5, 5, 1, 1, 5, 3, 4, 3, 1, 5, 2, 3, 5, 1, 2, 1, 2, 4, 3, 4, 4, 2, 2, 3, 1, 5, 2, 5, 2, 1, 3, 4, 4, 1, 2, 3, 4, 5, 5, 1, 3, 4, 5, 4, 1, 1, 2, 3, 2, 1, 4, 5, 3, 3, 1, 3, 5, 1, 4, 2, 3, 1, 3, 4, 5, 1, 3, 5, 5, 1, 2, 1, 4, 1, 5, 4, 5, 3, 2, 1, 2, 3, 4, 5, 3, 2, 3, 2, 3, 4, 2, 2, 5, 1, 3, 4, 3, 5, 5, 4, 3, 1, 3, 4, 1, 1, 2, 5, 4, 1, 1, 1, 1, 1, 4, 4, 3, 1, 4, 2, 4, 1, 2, 3, 4, 5, 1, 5, 1, 2, 4, 1], \"Freq\": [0.998406348116041, 0.9874725701337154, 0.996440147889941, 0.9867586952981198, 0.9867889731397474, 0.9981823849115182, 0.9960074587020066, 0.36285495314288013, 0.009896044176624003, 0.15173934404156805, 0.47501012047795216, 0.9858622085172873, 0.9969544751628637, 0.9927824439059479, 0.14259661530404982, 0.8555796918242988, 0.9849263977151308, 0.9929919978544778, 0.049344627672223876, 0.14803388301667164, 0.8036125078047889, 0.9873700994374072, 0.9978649878965804, 0.35238260980771613, 0.6444474755942916, 0.9846822760150444, 0.9959882620694885, 0.9973381547998807, 0.988587196597563, 0.9962790825161414, 0.9961218528532231, 0.9899455484501625, 0.9921714946847092, 0.9980645767861727, 0.9860919738459327, 0.9974683573509764, 0.9929356662549379, 0.9894380445943265, 0.9885166101909981, 0.9976676009841753, 0.9909833586522097, 0.9951363785067854, 0.054994849083654186, 0.9440782426027302, 0.9907372521434913, 0.0057268049256849205, 0.9977549173243351, 0.9919376777974173, 0.9852800909853775, 0.9936528570472914, 0.8451996614577647, 0.004430928762557088, 0.14954384573630175, 0.9984938516562533, 0.9895078146381341, 0.9888056205550002, 0.9969433627439296, 0.9972258826872461, 0.9960279257002947, 0.6992031652782861, 0.2966316458756365, 0.987944640061618, 0.9952128273808497, 0.09847486664870689, 0.0061546791655441805, 0.23387780829067886, 0.6647053498787715, 0.9961582229505949, 0.9963552253004608, 0.9955406330306794, 0.9902015633296835, 0.998086735164507, 0.9872176860961599, 0.9977680251889599, 0.9913926583231457, 0.9225250657411784, 0.07590396110528684, 0.9844881319666566, 0.9814927349829083, 0.014649145298252363, 0.9906800258552808, 0.9902085884147337, 0.006601390589431558, 0.998257509409604, 0.9967124105739743, 0.9912908475355103, 0.9861221797755552, 0.008019854865874825, 0.9864421485026036, 0.9959789508465269, 0.26706511970788094, 0.733488709056856, 0.9928427702113944, 0.9900174596435467, 0.9969706540715721, 0.9921527303539075, 0.9961977829305086, 0.10252374955721659, 0.8970828086256452, 0.9978194382134463, 0.998874059579964, 0.9870821851728813, 0.03444667725952692, 0.34711651699984825, 0.6147407018623267, 0.9882334935729185, 0.12601715045986384, 0.6566156787119221, 0.21887189290397402, 0.9967026350222331, 0.3988135290183474, 0.598220293527521, 0.8402192890832292, 0.15976000567075485, 0.5008991223954734, 0.1602877191665515, 0.06678654965272979, 0.09795360615733703, 0.17364502909709745, 0.9886679928874599, 0.002746429796208647, 0.06316788531279888, 0.93378613071094, 0.99375185641689, 0.995492335446969, 0.22510836980885177, 0.25369355962584883, 0.5181065654330715, 0.17397824914815524, 0.823050947893196, 0.10365974066340415, 0.8897461073608857, 0.9973084199775452, 0.24129361827568033, 0.756934775138778, 0.7436592588791316, 0.2502031151369041, 0.48865589751928795, 0.5096733554771068, 0.8902889131650231, 0.10096059840015727, 0.9986327164092408, 0.9893945253942711, 0.36374683734243096, 0.15126106107309012, 0.48619626773493246, 0.9901590613077302, 0.40230053778379804, 0.010872987507670217, 0.5817048316603566, 0.6432350685680662, 0.34601610585040804, 0.008872207842318154, 0.9799118925736472, 0.027661521342918452, 0.5453271350461066, 0.3319382561150214, 0.09483950174714897, 0.9925254769268183, 0.9931588693101054, 0.011394281634373369, 0.9799082205561097, 0.9892725767375399, 0.009159931266088333, 0.995688262959735, 0.021454521560591768, 0.5399387926082262, 0.1573331581110063, 0.278908780287693, 0.0317882098175748, 0.9642423644664356, 0.9899050802631646, 0.9961811641372529, 0.08248744370406133, 0.9162794422261947, 0.986860529770415, 0.9881126638298182, 0.9931092495533809, 0.9973733660776568, 0.9913975542654022, 0.00979569809298249, 0.9109999226473716, 0.07836558474385992, 0.9562491155808632, 0.03984371314920263, 0.7316247911802657, 0.2270559696766342, 0.03784266161277237, 0.9975595559359599, 0.9956413829078545, 0.9930794902008246, 0.985760927206142, 0.9928478146352469, 0.9964151889595513, 0.9950244932076038, 0.9958155695731653, 0.9875026047017911, 0.9933737271769781, 0.9993459293023419, 0.3228023535621987, 0.5771314806112038, 0.0978188950188481, 0.9882119692267725, 0.6978423346267288, 0.3003152335582689, 0.9956152965403787, 0.991748881189578, 0.9900604440045205, 0.9978916429026803, 0.9189257870463399, 0.07820644996139062, 0.9984788624072465, 0.9960868142123306, 0.9910992915779056, 0.9950168479157231, 0.9938498258520732, 0.9921528579097797, 0.9963896909292042, 0.991797955192573, 0.9945999348893739, 0.9874347513586156, 0.9949642916873105, 0.9936670380367966, 0.9949050245810332, 0.2558848254863207, 0.2873783424692524, 0.45665599625251074, 0.3798262353080509, 0.6149567619273205, 0.9845201642015243, 0.9922085642375515, 0.003058923031932618, 0.29671553409746393, 0.697434451280637, 0.9899389557525193, 0.11213155504707058, 0.07608926949622646, 0.8089490756967234, 0.9942052709105449, 0.07908725794892203, 0.913098341773918, 0.9731311925059715, 0.02538603110885143, 0.9969245037774475, 0.9974092372389313, 0.27817826943918744, 0.7207346071833493, 0.9987389646286355, 0.9984664565672671, 0.007988346635869599, 0.09186598631250038, 0.33551055870652313, 0.41139985174728433, 0.15177858608152237, 0.993754515869996, 0.9911821564836241, 0.998288807500882, 0.9970270953518466, 0.5178677715017106, 0.4833432534015965, 0.9938505072542333, 0.9885132801656633, 0.9939236431641394, 0.06446756618664178, 0.021489188728880594, 0.9025459266129849, 0.9949401790103429, 0.9844054223255758, 0.9957568851649962, 0.9945648212843743, 0.9931558629495048, 0.8866967578168305, 0.11083709472710382, 0.9943368109670065, 0.9958782064897393, 0.262022309046747, 0.7411488170179416, 0.9964655774706579, 0.9937554706684372, 0.9962599226810177, 0.9987159852085061, 0.9925053933943293, 0.9974716210708613, 0.9920312964109652, 0.9932706465131278, 0.9858378074680503, 0.9898354602344415, 0.0357038904066863, 0.9640050409805301, 0.9955383119297755, 0.99278740562175, 0.02300956157008217, 0.11504780785041084, 0.25310517727090387, 0.5953724056258761, 0.011504780785041085, 0.7326517854320721, 0.2655862722191262, 0.7016403182518325, 0.2973548739146597, 0.9955058599828349, 0.9918107944984044], \"Term\": [\"19\", \"19unemploymentracism\", \"abuse\", \"accountability\", \"addication\", \"allow\", \"americans\", \"another\", \"another\", \"another\", \"another\", \"antifa\", \"around\", \"back\", \"behavior\", \"behavior\", \"belive\", \"bias\", \"biased\", \"biased\", \"biased\", \"biggest\", \"bill\", \"blacks\", \"blacks\", \"blow\", \"border\", \"brat\", \"break\", \"breathed\", \"bunch\", \"businesses\", \"care\", \"change\", \"class\", \"climate\", \"cobertura\", \"collective\", \"color\", \"compromise\", \"constituional\", \"continually\", \"continues\", \"continues\", \"control\", \"control\", \"coordination\", \"corona\", \"coronavirusequalitypolice\", \"corruption\", \"country\", \"country\", \"country\", \"covid\", \"creates\", \"crisis\", \"currently\", \"dangerous\", \"de\", \"debates\", \"debates\", \"degradation\", \"demensional\", \"democratic\", \"democratic\", \"democratic\", \"democratic\", \"deserves\", \"destroyed\", \"direction\", \"discrimination\", \"disease\", \"disrespect\", \"distancing\", \"divided\", \"division\", \"division\", \"drugs\", \"economy\", \"economy\", \"economyhealth\", \"education\", \"education\", \"effort\", \"election\", \"en\", \"ends\", \"enforce\", \"enforce\", \"enviromental\", \"equality\", \"equality\", \"equaloity\", \"equitable\", \"exhausting\", \"extrememly\", \"facts\", \"failing\", \"failing\", \"fake\", \"false\", \"fda\", \"fighting\", \"fighting\", \"fighting\", \"follow\", \"following\", \"following\", \"following\", \"garbage\", \"getting\", \"getting\", \"globalism\", \"globalism\", \"government\", \"government\", \"government\", \"government\", \"government\", \"great\", \"growth\", \"growth\", \"growth\", \"guidelines\", \"health\", \"healthcare\", \"healthcare\", \"healthcare\", \"high\", \"high\", \"humans\", \"humans\", \"immigracion\", \"imprisonment\", \"imprisonment\", \"income\", \"income\", \"increase\", \"increase\", \"inequality\", \"inequality\", \"information\", \"instructions\", \"integrity\", \"integrity\", \"integrity\", \"international\", \"issues\", \"issues\", \"issues\", \"jobs\", \"jobs\", \"jobs\", \"joke\", \"justice\", \"justice\", \"justice\", \"justice\", \"kind\", \"leads\", \"learn\", \"learn\", \"live\", \"live\", \"lose\", \"lot\", \"lot\", \"lot\", \"lot\", \"love\", \"love\", \"maga\", \"mankind\", \"manufacturing\", \"manufacturing\", \"mass\", \"media\", \"mend\", \"mensch\", \"mistreatment\", \"moral\", \"moral\", \"moral\", \"much\", \"much\", \"name\", \"name\", \"name\", \"needing\", \"net\", \"news\", \"observed\", \"odds\", \"offer\", \"one\", \"opinions\", \"order\", \"paga\", \"pandemic\", \"party\", \"party\", \"party\", \"peace\", \"people\", \"people\", \"planning\", \"plus\", \"pocket\", \"policing\", \"political\", \"political\", \"politically\", \"pooor\", \"poorthe\", \"poses\", \"positive\", \"pr0gressive\", \"prejudices\", \"president2\", \"problem\", \"promote\", \"que\", \"racial\", \"racim\", \"racism\", \"racism\", \"racism\", \"reason\", \"reason\", \"recovery\", \"recreational\", \"refusal\", \"refusal\", \"refusal\", \"regulation\", \"rights\", \"rights\", \"rights\", \"ruin\", \"rules\", \"rules\", \"say\", \"say\", \"severe\", \"sexos\", \"shutdowns\", \"shutdowns\", \"simmer\", \"small\", \"social\", \"social\", \"social\", \"social\", \"social\", \"sone\", \"spends\", \"spirit\", \"spread\", \"spreading\", \"spreading\", \"standard\", \"stimulating\", \"supplement\", \"supreme\", \"supreme\", \"supreme\", \"system\", \"systemic\", \"tatic\", \"tends\", \"therefore\", \"think\", \"think\", \"thoughts\", \"thy\", \"towards\", \"towards\", \"trabajos\", \"trumpdismantling\", \"turning\", \"unaccountable\", \"understand\", \"unity\", \"upon\", \"vaccine\", \"verifiable\", \"vets\", \"views\", \"views\", \"virus\", \"viruslack\", \"well\", \"well\", \"well\", \"well\", \"well\", \"white\", \"white\", \"whites\", \"whites\", \"widening\", \"youmg\"]}, \"R\": 30, \"lambda.step\": 0.01, \"plot.opts\": {\"xlab\": \"PC1\", \"ylab\": \"PC2\"}, \"topic.order\": [1, 4, 5, 2, 3]};\n",
       "\n",
       "function LDAvis_load_lib(url, callback){\n",
       "  var s = document.createElement('script');\n",
       "  s.src = url;\n",
       "  s.async = true;\n",
       "  s.onreadystatechange = s.onload = callback;\n",
       "  s.onerror = function(){console.warn(\"failed to load library \" + url);};\n",
       "  document.getElementsByTagName(\"head\")[0].appendChild(s);\n",
       "}\n",
       "\n",
       "if(typeof(LDAvis) !== \"undefined\"){\n",
       "   // already loaded: just create the visualization\n",
       "   !function(LDAvis){\n",
       "       new LDAvis(\"#\" + \"ldavis_el23566851407164058918083783109802\", ldavis_el23566851407164058918083783109802_data);\n",
       "   }(LDAvis);\n",
       "}else if(typeof define === \"function\" && define.amd){\n",
       "   // require.js is available: use it to load d3/LDAvis\n",
       "   require.config({paths: {d3: \"https://d3js.org/d3.v5\"}});\n",
       "   require([\"d3\"], function(d3){\n",
       "      window.d3 = d3;\n",
       "      LDAvis_load_lib(\"https://cdn.jsdelivr.net/gh/bmabey/pyLDAvis@3.4.0/pyLDAvis/js/ldavis.v3.0.0.js\", function(){\n",
       "        new LDAvis(\"#\" + \"ldavis_el23566851407164058918083783109802\", ldavis_el23566851407164058918083783109802_data);\n",
       "      });\n",
       "    });\n",
       "}else{\n",
       "    // require.js not available: dynamically load d3 & LDAvis\n",
       "    LDAvis_load_lib(\"https://d3js.org/d3.v5.js\", function(){\n",
       "         LDAvis_load_lib(\"https://cdn.jsdelivr.net/gh/bmabey/pyLDAvis@3.4.0/pyLDAvis/js/ldavis.v3.0.0.js\", function(){\n",
       "                 new LDAvis(\"#\" + \"ldavis_el23566851407164058918083783109802\", ldavis_el23566851407164058918083783109802_data);\n",
       "            })\n",
       "         });\n",
       "}\n",
       "</script>"
      ],
      "text/plain": [
       "PreparedData(topic_coordinates=              x         y  topics  cluster       Freq\n",
       "topic                                                \n",
       "0     -0.138812 -0.079165       1        1  29.934164\n",
       "3     -0.097318 -0.250342       2        1  20.249316\n",
       "4      0.097463  0.044623       3        1  17.329238\n",
       "1     -0.164474  0.269583       4        1  16.493770\n",
       "2      0.303141  0.015301       5        1  15.993512, topic_info=              Term        Freq       Total Category  logprob  loglift\n",
       "107  manufacturing  897.000000  897.000000  Default  30.0000  30.0000\n",
       "16        pandemic  708.000000  708.000000  Default  29.0000  29.0000\n",
       "15           covid  696.000000  696.000000  Default  28.0000  28.0000\n",
       "14              19  549.000000  549.000000  Default  27.0000  27.0000\n",
       "2      information  471.000000  471.000000  Default  26.0000  26.0000\n",
       "..             ...         ...         ...      ...      ...      ...\n",
       "0           blacks  203.000069  314.998518   Topic5  -4.5377   1.3936\n",
       "272         biased  113.578358  141.859415   Topic5  -5.1184   1.6106\n",
       "60      healthcare  145.437825  279.865205   Topic5  -4.8711   1.1784\n",
       "145        another  143.878849  303.151436   Topic5  -4.8819   1.0877\n",
       "36          racism  115.955688  254.020534   Topic5  -5.0977   1.0488\n",
       "\n",
       "[245 rows x 6 columns], token_table=      Topic      Freq                  Term\n",
       "term                                       \n",
       "14        2  0.998406                    19\n",
       "859       5  0.987473  19unemploymentracism\n",
       "51        5  0.996440                 abuse\n",
       "1136      2  0.986759        accountability\n",
       "53        5  0.986789            addication\n",
       "...     ...       ...                   ...\n",
       "127       5  0.265586                 white\n",
       "4         1  0.701640                whites\n",
       "4         2  0.297355                whites\n",
       "182       4  0.995506              widening\n",
       "854       1  0.991811                 youmg\n",
       "\n",
       "[302 rows x 3 columns], R=30, lambda_step=0.01, plot_opts={'xlab': 'PC1', 'ylab': 'PC2'}, topic_order=[1, 4, 5, 2, 3])"
      ]
     },
     "execution_count": 32,
     "metadata": {},
     "output_type": "execute_result"
    }
   ],
   "source": [
    "# Step 9: Visualize the LDA Model using PyLDAvis\n",
    "pyLDAvis.enable_notebook()\n",
    "LDAvis_data_filepath = os.path.join('/mnt/home/kim/thesis/data/processed_data/ldavis_'+str(num_topics))\n",
    "\n",
    "# Prepare the visualization\n",
    "if not os.path.exists(LDAvis_data_filepath):\n",
    "    LDAvis_prepared = pyLDAvis.gensim.prepare(lda_model, corpus, dummy_dict)\n",
    "    with open(LDAvis_data_filepath, 'wb') as f:\n",
    "        pickle.dump(LDAvis_prepared, f)\n",
    "else:\n",
    "    with open(LDAvis_data_filepath, 'rb') as f:\n",
    "        LDAvis_prepared = pickle.load(f)\n",
    "\n",
    "# Save the visualization as an HTML file\n",
    "pyLDAvis.save_html(LDAvis_prepared, '/mnt/home/kim/thesis/data/processed_data/ldavis_'+ str(num_topics) +'.html')\n",
    "\n",
    "# Display the visualization inline (in Jupyter Notebook)\n",
    "LDAvis_prepared"
   ]
  },
  {
   "cell_type": "markdown",
   "id": "f33b6f6d",
   "metadata": {},
   "source": [
    "### 4. Dataset: responses stacked\n",
    "### * with BOW"
   ]
  },
  {
   "cell_type": "code",
   "execution_count": 33,
   "id": "047faf3c",
   "metadata": {},
   "outputs": [],
   "source": [
    "data = pd.read_json('~/thesis/data/processed_uscensus/political_mentions_stack.jsonl', orient='records', lines = True)"
   ]
  },
  {
   "cell_type": "code",
   "execution_count": 34,
   "id": "eff3a39f",
   "metadata": {},
   "outputs": [
    {
     "name": "stderr",
     "output_type": "stream",
     "text": [
      "[nltk_data] Downloading package stopwords to\n",
      "[nltk_data]     /mnt/home/kim/nltk_data...\n",
      "[nltk_data]   Package stopwords is already up-to-date!\n"
     ]
    }
   ],
   "source": [
    "# Tokenising and removing the stopwords\n",
    "import gensim\n",
    "from gensim.utils import simple_preprocess\n",
    "import nltk\n",
    "nltk.download('stopwords')\n",
    "from nltk.corpus import stopwords\n",
    "stop_words = stopwords.words('english')\n",
    "stop_words.extend(['from', 'subject', 're', 'edu', 'use'])\n",
    "\n",
    "def sent_to_words(sentences):\n",
    "    for sentence in sentences:\n",
    "        # deacc=True removes punctuations\n",
    "        yield(gensim.utils.simple_preprocess(str(sentence), deacc=True))\n",
    "def remove_stopwords(texts):\n",
    "    return [[word for word in simple_preprocess(str(doc)) \n",
    "             if word not in stop_words] for doc in texts]\n"
   ]
  },
  {
   "cell_type": "code",
   "execution_count": 35,
   "id": "db1c11c1",
   "metadata": {},
   "outputs": [
    {
     "name": "stdout",
     "output_type": "stream",
     "text": [
      "['racim', 'blacks', 'whites', 'false', 'information']\n"
     ]
    }
   ],
   "source": [
    "data = data['stack'].tolist()\n",
    "data_words = list(sent_to_words(data))\n",
    "\n",
    "# remove stop words\n",
    "data_words = remove_stopwords(data_words)\n",
    "print(data_words[:1][0][:30])"
   ]
  },
  {
   "cell_type": "code",
   "execution_count": 36,
   "id": "f8af0747",
   "metadata": {},
   "outputs": [
    {
     "name": "stdout",
     "output_type": "stream",
     "text": [
      "[(0, 1), (1, 1), (2, 1), (3, 1), (4, 1)]\n"
     ]
    }
   ],
   "source": [
    "# Convert tokenised object into corpus and dictionary\n",
    "# The produced corpus shown above is a mapping of (word_id, word_frequency).\n",
    "import gensim.corpora as corpora\n",
    "\n",
    "# Create Dictionary\n",
    "id2word = corpora.Dictionary(data_words)\n",
    "\n",
    "# Create Corpus\n",
    "texts = data_words\n",
    "\n",
    "# Term Document Frequency\n",
    "corpus = [id2word.doc2bow(text) for text in texts]\n",
    "\n",
    "# View\n",
    "print(corpus[:1][0][:30]) "
   ]
  },
  {
   "cell_type": "code",
   "execution_count": 37,
   "id": "15d8627c",
   "metadata": {},
   "outputs": [],
   "source": [
    "# LDA model\n",
    "from pprint import pprint\n"
   ]
  },
  {
   "cell_type": "code",
   "execution_count": 38,
   "id": "298524a4",
   "metadata": {},
   "outputs": [],
   "source": [
    "# number of topics\n",
    "num_topics = 6 # based on the clustering result from the previous analysis\n",
    "\n",
    "# Build LDA model\n",
    "lda_model = gensim.models.LdaMulticore(corpus=corpus,\n",
    "                                       id2word=id2word,\n",
    "                                       num_topics=num_topics,random_state=0,\n",
    "                                        chunksize=100,\n",
    "                                        passes=10,\n",
    "                                        alpha=0.01,\n",
    "                                        eta=0.9\n",
    "                                      )"
   ]
  },
  {
   "cell_type": "code",
   "execution_count": 39,
   "id": "7ac84865",
   "metadata": {
    "scrolled": true
   },
   "outputs": [
    {
     "name": "stdout",
     "output_type": "stream",
     "text": [
      "[(0,\n",
      "  '0.070*\"covid\" + 0.039*\"economy\" + 0.034*\"pandemic\" + 0.012*\"unemployment\" + '\n",
      "  '0.010*\"getting\" + 0.009*\"control\" + 0.008*\"virus\" + 0.007*\"people\" + '\n",
      "  '0.007*\"businesses\" + 0.007*\"jobs\"'),\n",
      " (1,\n",
      "  '0.028*\"climate\" + 0.025*\"change\" + 0.021*\"racial\" + 0.014*\"inequality\" + '\n",
      "  '0.010*\"division\" + 0.010*\"racism\" + 0.008*\"social\" + 0.007*\"lack\" + '\n",
      "  '0.007*\"injustice\" + 0.006*\"political\"'),\n",
      " (2,\n",
      "  '0.019*\"country\" + 0.015*\"people\" + 0.011*\"media\" + 0.007*\"immigration\" + '\n",
      "  '0.007*\"trump\" + 0.007*\"political\" + 0.006*\"government\" + 0.006*\"one\" + '\n",
      "  '0.006*\"problem\" + 0.006*\"need\"'),\n",
      " (3,\n",
      "  '0.030*\"people\" + 0.015*\"racism\" + 0.011*\"healthcare\" + 0.011*\"need\" + '\n",
      "  '0.009*\"education\" + 0.007*\"covid\" + 0.007*\"many\" + 0.006*\"jobs\" + '\n",
      "  '0.006*\"get\" + 0.006*\"country\"'),\n",
      " (4,\n",
      "  '0.030*\"health\" + 0.023*\"care\" + 0.021*\"police\" + 0.011*\"national\" + '\n",
      "  '0.009*\"law\" + 0.009*\"lack\" + 0.009*\"debt\" + 0.007*\"security\" + '\n",
      "  '0.007*\"brutality\" + 0.005*\"enforcement\"'),\n",
      " (5,\n",
      "  '0.012*\"corona\" + 0.012*\"virus\" + 0.010*\"relations\" + 0.009*\"black\" + '\n",
      "  '0.009*\"lives\" + 0.009*\"race\" + 0.009*\"matter\" + 0.004*\"none\" + '\n",
      "  '0.003*\"economy\" + 0.003*\"movement\"')]\n"
     ]
    }
   ],
   "source": [
    "# Print the Keyword in the 10 topics\n",
    "pprint(lda_model.print_topics())\n",
    "doc_lda = lda_model[corpus]"
   ]
  },
  {
   "cell_type": "code",
   "execution_count": 40,
   "id": "2c602d26",
   "metadata": {},
   "outputs": [],
   "source": [
    "### Visualize the result of topic modelling\n",
    "\n",
    "import pyLDAvis.gensim\n",
    "import pickle \n",
    "import pyLDAvis\n"
   ]
  },
  {
   "cell_type": "code",
   "execution_count": 41,
   "id": "a22cdbc1",
   "metadata": {},
   "outputs": [],
   "source": [
    "# Visualize the topics\n",
    "pyLDAvis.enable_notebook()\n",
    "LDAvis_data_filepath = os.path.join('/mnt/home/kim/thesis/data/processed_data/ldavis_'+str(num_topics))"
   ]
  },
  {
   "cell_type": "code",
   "execution_count": 42,
   "id": "86dc451b",
   "metadata": {},
   "outputs": [
    {
     "data": {
      "text/html": [
       "\n",
       "<link rel=\"stylesheet\" type=\"text/css\" href=\"https://cdn.jsdelivr.net/gh/bmabey/pyLDAvis@3.4.0/pyLDAvis/js/ldavis.v1.0.0.css\">\n",
       "\n",
       "\n",
       "<div id=\"ldavis_el23566851407164061628168112026517\" style=\"background-color:white;\"></div>\n",
       "<script type=\"text/javascript\">\n",
       "\n",
       "var ldavis_el23566851407164061628168112026517_data = {\"mdsDat\": {\"x\": [0.13153891116289868, 0.10245868615284512, -0.017980780146664394, -0.07084224193677079, -0.06038083447615288, -0.08479374075615573], \"y\": [-0.059269375742265484, 0.027870267391912, 0.14324288017298165, -0.05022492469239608, -0.05188410975478675, -0.009734737375445284], \"topics\": [1, 2, 3, 4, 5, 6], \"cluster\": [1, 1, 1, 1, 1, 1], \"Freq\": [36.27097130195844, 28.670200633709932, 13.38704344353228, 10.654798129850562, 8.226640875989865, 2.790345614958928]}, \"tinfo\": {\"Term\": [\"covid\", \"economy\", \"pandemic\", \"health\", \"climate\", \"change\", \"care\", \"racial\", \"police\", \"racism\", \"people\", \"virus\", \"media\", \"inequality\", \"division\", \"healthcare\", \"unemployment\", \"black\", \"political\", \"getting\", \"education\", \"national\", \"lives\", \"jobs\", \"race\", \"lack\", \"debt\", \"law\", \"country\", \"economic\", \"media\", \"party\", \"news\", \"divided\", \"democrats\", \"socialism\", \"socialist\", \"god\", \"biden\", \"liberal\", \"truth\", \"joe\", \"illegal\", \"politicians\", \"vote\", \"longer\", \"compromise\", \"censorship\", \"facts\", \"democrat\", \"reporting\", \"electoral\", \"elected\", \"opinions\", \"tech\", \"agenda\", \"true\", \"influence\", \"together\", \"false\", \"president\", \"corrupt\", \"power\", \"politics\", \"nation\", \"country\", \"united\", \"unity\", \"parties\", \"one\", \"political\", \"immigration\", \"trump\", \"left\", \"america\", \"congress\", \"china\", \"us\", \"government\", \"problem\", \"division\", \"people\", \"like\", \"way\", \"big\", \"think\", \"much\", \"need\", \"lack\", \"many\", \"right\", \"social\", \"warming\", \"global\", \"living\", \"homeless\", \"women\", \"color\", \"pay\", \"food\", \"healthcare\", \"minimum\", \"treated\", \"higher\", \"seriously\", \"parents\", \"afford\", \"equal\", \"moment\", \"opportunities\", \"help\", \"loans\", \"veterans\", \"low\", \"cost\", \"trafficking\", \"expensive\", \"teachers\", \"systemic\", \"bills\", \"ice\", \"wages\", \"education\", \"children\", \"families\", \"racism\", \"wage\", \"paying\", \"job\", \"people\", \"poverty\", \"jobs\", \"need\", \"issue\", \"poor\", \"many\", \"enough\", \"get\", \"rights\", \"better\", \"think\", \"work\", \"system\", \"problem\", \"money\", \"care\", \"covid\", \"country\", \"police\", \"health\", \"economy\", \"businesses\", \"recovery\", \"shutting\", \"shutdowns\", \"closing\", \"deaths\", \"small\", \"shutdown\", \"shut\", \"response\", \"rate\", \"pandemic\", \"economy\", \"lockdowns\", \"handled\", \"covid\", \"downs\", \"affairs\", \"unemployment\", \"vaccine\", \"shrinking\", \"handling\", \"coronavirus\", \"recovering\", \"relief\", \"richer\", \"recession\", \"safely\", \"downturn\", \"vaccines\", \"spread\", \"due\", \"mask\", \"middle\", \"getting\", \"virus\", \"class\", \"economic\", \"business\", \"back\", \"control\", \"election\", \"fraud\", \"jobs\", \"voter\", \"people\", \"poor\", \"loss\", \"get\", \"need\", \"going\", \"trump\", \"many\", \"climate\", \"racial\", \"injustice\", \"la\", \"de\", \"que\", \"change\", \"el\", \"los\", \"tensions\", \"inequality\", \"en\", \"las\", \"para\", \"tension\", \"economia\", \"mas\", \"es\", \"racismo\", \"personas\", \"por\", \"este\", \"pais\", \"gender\", \"se\", \"problema\", \"pandemia\", \"hay\", \"discord\", \"existential\", \"unrest\", \"gun\", \"environmental\", \"equality\", \"violence\", \"division\", \"discrimination\", \"corruption\", \"social\", \"wealth\", \"justice\", \"economic\", \"issues\", \"income\", \"among\", \"racism\", \"environment\", \"political\", \"lack\", \"divide\", \"covid\", \"control\", \"government\", \"trump\", \"hate\", \"enforcement\", \"defunding\", \"medicare\", \"law\", \"addiction\", \"supremacy\", \"national\", \"defund\", \"budget\", \"health\", \"prescription\", \"deficit\", \"inner\", \"brutality\", \"training\", \"abortion\", \"strategy\", \"iran\", \"security\", \"court\", \"balances\", \"officers\", \"care\", \"disrespect\", \"supreme\", \"bridges\", \"affordability\", \"israel\", \"finance\", \"drug\", \"police\", \"funding\", \"debt\", \"spending\", \"crime\", \"homelessness\", \"insurance\", \"quality\", \"affordable\", \"reform\", \"lack\", \"white\", \"drugs\", \"education\", \"social\", \"housing\", \"high\", \"costs\", \"immigration\", \"control\", \"government\", \"racism\", \"relations\", \"none\", \"corona\", \"green\", \"answered\", \"idk\", \"matter\", \"nope\", \"pelosi\", \"racisim\", \"nancy\", \"domestic\", \"relationships\", \"agressiveness\", \"corvid\", \"pandimic\", \"chuck\", \"schumer\", \"forest\", \"lives\", \"gases\", \"handeling\", \"race\", \"nana\", \"peaple\", \"platform\", \"virius\", \"devoting\", \"investigation\", \"respected\", \"black\", \"virus\", \"cure\", \"rioting\", \"movement\", \"disregard\", \"international\", \"russia\", \"allies\", \"terrorism\", \"looting\", \"foreign\", \"relationship\", \"new\", \"china\", \"deal\", \"limits\", \"economy\", \"term\", \"immigration\", \"white\"], \"Freq\": [1407.0, 757.0, 643.0, 417.0, 350.0, 331.0, 385.0, 266.0, 382.0, 682.0, 1734.0, 230.0, 462.0, 211.0, 340.0, 390.0, 245.0, 150.0, 358.0, 287.0, 347.0, 140.0, 123.0, 333.0, 123.0, 474.0, 163.0, 110.0, 1060.0, 215.0, 457.94472483260137, 189.24465946830273, 152.8377383544206, 189.96104592416364, 161.6486201307964, 215.85350966804643, 86.2519454055726, 68.18041020606621, 138.6315410111573, 64.94980265054079, 62.387197627780054, 53.169277199741245, 180.7870220619699, 131.9756315465495, 53.19734527567642, 45.8852948265739, 43.28823436268791, 35.94920085510371, 60.19535436091793, 49.25795129604585, 33.21224678343447, 35.04409009647072, 64.3503035047839, 40.63630441889086, 40.06843034067576, 55.79897655969459, 29.092965747259438, 43.47096897635017, 134.94805895353494, 36.879009262152294, 238.6175096940514, 60.659383431586626, 108.494901393997, 108.06734560234219, 145.57937417615088, 816.145611709783, 96.67005715336593, 92.3630975552224, 126.25070633369666, 244.21863490641772, 274.34209720753637, 298.55901906666213, 283.24183258514967, 95.86291217874735, 139.45034133163387, 88.71851901932652, 106.18179147056696, 207.2707761317804, 269.8134209207043, 239.19275550849468, 203.93724902477183, 611.8381802596986, 151.07480592363484, 153.04905655004796, 145.72067192416807, 194.47110507894286, 169.03847271377066, 238.99812006991257, 172.69002285502387, 155.5389604938428, 142.17802611392656, 145.09597680749997, 152.5403683786506, 179.82010576206807, 101.52544141651502, 102.00490068276206, 78.39049565905631, 67.7592815963091, 141.81469678894663, 87.58140706959611, 369.8530804181924, 39.36767744488323, 44.564234617815906, 54.14751731751002, 40.804013967569304, 30.840149706202155, 40.35110681304939, 76.95415913637024, 32.431264239421495, 36.839009864570826, 169.09826835628493, 23.075195744566777, 21.075602857047915, 61.12751331904767, 126.2818123281584, 27.3154810585216, 41.96818940467593, 21.81901153561884, 135.1508696115131, 25.468688937904755, 22.502190928307726, 44.95553869990725, 292.67095809166216, 122.6936448602301, 60.215877880573366, 511.22993513559555, 66.6597245766781, 44.692737990458426, 121.41502989919465, 986.6841711936393, 116.69105917902337, 213.3312613055144, 367.01181042574274, 114.60274839817015, 111.53331341640681, 227.29015893625603, 87.90078527639507, 203.54744845830854, 127.69892360069888, 101.26829496412356, 181.302382638251, 161.4573296764981, 130.79405692853894, 166.41148337752034, 119.97977998733634, 150.51206956151387, 236.2755767162529, 191.2681096610372, 134.1546492816029, 129.88978715917574, 127.06858065951025, 115.06250946788145, 28.98924508600088, 23.79770114119445, 15.152760552251232, 23.49171311072065, 25.250172574668184, 85.80294109984654, 13.057083299320325, 30.397308634604503, 62.55704874456696, 30.550174900386825, 521.8290005508636, 614.4859372672386, 19.156233663457847, 25.786714847748744, 1086.9528095042226, 9.704042458987301, 11.448969540994575, 184.91149707976012, 54.61912528065488, 7.474029859383881, 45.83008602502118, 102.72400688429282, 6.206988571279105, 16.785412172125465, 16.490276503119283, 11.020716222244626, 6.999763180348842, 6.363806915932843, 9.271631393804315, 46.65138636247859, 89.3475191436945, 28.93766148708639, 61.235557649040196, 157.92785500891867, 126.49850292597911, 68.44976686240045, 106.75601886124235, 64.47319633668877, 91.92742753311752, 135.37787644841595, 94.18524783669193, 53.95916253805997, 111.36998124719118, 37.12978280897166, 115.81387921028816, 47.49171683854561, 36.5493291524473, 64.01155148497094, 66.41361813722939, 38.66343947384196, 42.44279745856725, 38.161172107617325, 343.4767829912068, 259.24690293528994, 82.48922268783105, 46.92458817452302, 37.13866105961277, 34.37946417614579, 306.5288320017649, 32.22806640419617, 22.320610907304385, 15.610913055999148, 177.68475438593063, 16.35561169404396, 13.274053440093953, 11.21072606717223, 19.33492544419999, 10.889904262912022, 10.28405070159097, 9.92844840175292, 9.47135443518722, 9.31651229191223, 8.470657302499772, 8.195429012792152, 8.192733509962704, 32.87274299423094, 8.72987266127354, 6.888023607513299, 6.871316249285503, 6.394767501864879, 9.290642531610873, 6.5954274243740905, 41.00760900524832, 60.30722754481067, 31.001135243101597, 47.628715817332285, 54.206760926108764, 127.93595420351497, 27.151740870158225, 54.019209310296645, 99.57003425145852, 49.01712908693822, 43.714955317434224, 67.90932432082178, 73.11480900488334, 54.617608054001096, 30.390114219694983, 123.03322539744659, 38.04139058183996, 79.29770118683226, 84.41831430828954, 42.737968946794695, 73.56085775560135, 48.99357480539164, 44.70113726112917, 38.78090156676679, 33.488379110764484, 47.8217814749763, 27.527827695831093, 12.556431216931855, 85.21197061883005, 8.923160779334097, 12.929878603809945, 105.81844305217635, 11.525888672301527, 17.63970660943908, 283.5018786517565, 5.695200707575242, 22.317808602152425, 5.024856590443827, 69.1535993576624, 15.38067217877321, 43.30223159868621, 6.214035324151069, 6.339228970569122, 69.37290538018489, 23.665443130633385, 4.165557513916397, 10.320645380476643, 216.4028412362676, 13.279978290965126, 21.415209046746266, 3.434160225445125, 6.34788622680491, 3.7229252927411096, 4.314491106312304, 27.284219665450898, 204.01387717768114, 23.082397607252958, 81.8404857215222, 27.294352925692156, 33.10580439913627, 30.98701540375451, 40.7311985393723, 16.75357415869751, 38.09725463713639, 23.352679496514376, 83.99795704594362, 25.464005512760213, 19.229021621764236, 39.93569974990068, 36.79969177678822, 22.89610819639568, 24.411972661602846, 20.102016467634776, 27.61470425599621, 26.36479889804425, 24.191383835146528, 22.962471029070194, 33.020922155434455, 13.102108863299987, 38.92070876965685, 5.495756076748191, 2.421751424232029, 2.145684928001064, 28.536250495034118, 1.5738758226334273, 3.113151222439733, 4.754797364234835, 2.655657708061745, 3.8826271737038254, 3.8245770696047257, 1.0725817588093782, 1.0583219119195282, 1.05952600920225, 1.181151732205211, 1.181151732205211, 1.1498731524149586, 29.114404528335395, 0.902504245139403, 0.8922531772754277, 28.568511841803556, 0.871373155935381, 0.844816729933469, 1.0205889665583496, 1.0289231289222827, 1.0358428169061051, 0.8256192532515794, 1.5725480296605892, 30.423012016364073, 37.807131804113894, 4.3983158277381795, 6.971129527646787, 8.270384488412367, 3.8039922182855217, 3.8422725406815137, 3.5053700490222903, 4.022456558779152, 3.1457424873322752, 3.6522627412758424, 7.1753796281347855, 2.386161813580739, 4.875496408228022, 7.923180695219594, 4.48523442857827, 4.377659591730634, 9.627403636826914, 4.758981488983264, 3.547702679996175, 3.16411988991595], \"Total\": [1407.0, 757.0, 643.0, 417.0, 350.0, 331.0, 385.0, 266.0, 382.0, 682.0, 1734.0, 230.0, 462.0, 211.0, 340.0, 390.0, 245.0, 150.0, 358.0, 287.0, 347.0, 140.0, 123.0, 333.0, 123.0, 474.0, 163.0, 110.0, 1060.0, 215.0, 462.856493255693, 192.3100982224684, 155.50758439752246, 193.63323615661662, 165.50240701644847, 223.07023858164308, 89.47002114335456, 71.13310031998468, 144.76521352556378, 68.19180556632632, 65.5117788511109, 55.92384234080873, 190.52635041955736, 139.30262719752642, 56.16793502519011, 48.78211012687285, 46.13899496682206, 38.391004673668526, 64.34564503283488, 52.752327604812386, 35.659326037062584, 37.72709471783729, 69.41378302974697, 43.93053699013854, 43.33053542445393, 60.40660584093377, 31.63557764280404, 47.30347790510086, 146.91291235814933, 40.17143871314825, 262.6168794567055, 66.37222099605549, 121.58703388404265, 122.05193260193114, 168.4626053391013, 1060.2700897527861, 109.67603581063122, 105.32597197558985, 147.4717332192479, 311.224042037365, 358.7911522130636, 413.08039779772537, 392.43089903580614, 112.96765399468076, 180.05811047160526, 105.10979835262101, 133.73240461096367, 330.1217697546874, 476.54486348760736, 412.90651975274324, 340.1937140299013, 1734.5187113652194, 223.0884659052892, 231.25442413470694, 223.64113353273592, 378.58175068212057, 300.25817729913683, 701.6671945276177, 474.97028968714045, 427.2648810129298, 234.19866414431553, 326.2764573696694, 155.4133278216144, 184.36782695767596, 104.33495754833777, 105.11933452709495, 81.2875910752066, 70.7920511169566, 148.54782191689097, 92.27474296365557, 390.27896602523475, 42.15584975058188, 47.82690306563245, 58.253114575614305, 44.229473077929335, 33.47968874496264, 43.85086152711733, 83.93787036726333, 35.92200834749593, 40.841181819903156, 189.53755405810975, 25.973917122383188, 23.751112737526892, 69.01582152679136, 143.61408574222347, 31.217197559823912, 48.155354898808994, 25.075392214863733, 156.69062692901585, 29.58660891628304, 26.193718052418212, 52.6114517464334, 347.1629895375233, 144.38294614066422, 71.18173727962278, 682.6606115232535, 79.8863647295376, 53.61192513912115, 161.9227342971269, 1734.5187113652194, 157.50868474060616, 333.5975437665997, 701.6671945276177, 169.11513863702604, 164.76513797582797, 427.2648810129298, 125.37122299122457, 397.2817577248193, 214.39460932477334, 154.30501939496784, 378.58175068212057, 320.57691203753456, 248.84262333666675, 412.90651975274324, 225.75947856866344, 385.6934534957517, 1407.6493029428098, 1060.2700897527861, 382.61320896115245, 417.6744213226197, 757.6984887319597, 123.22995707402926, 31.891841095003674, 26.59547498638189, 17.82102180746634, 27.886903793104572, 30.171466116911695, 102.78838208892076, 15.651818629459932, 36.53412479070776, 75.21082906121495, 37.23990550883967, 643.1594310725844, 757.6984887319597, 23.790525964409582, 32.77554009274023, 1407.6493029428098, 12.833897738819575, 15.172055942104096, 245.7094333520633, 72.71512602604652, 10.12337062234212, 64.00640624981705, 143.93556996383245, 8.936785931197635, 24.27214463125003, 23.915922246128883, 16.0308087968694, 10.267558192248712, 9.338983968726781, 13.636611654237786, 69.07885198059368, 150.47856340962565, 45.89383337538315, 103.30013617176282, 287.02957456483847, 230.19679951630934, 117.61937285176282, 215.063103899434, 120.37950130104757, 212.46209770122059, 372.29254172822266, 229.19051461083504, 107.81910179353355, 333.5975437665997, 71.45655367916443, 1734.5187113652194, 164.76513797582797, 83.54070286956905, 397.2817577248193, 701.6671945276177, 190.1980264471717, 392.43089903580614, 427.2648810129298, 350.3646114061849, 266.2371818917033, 85.9226035305264, 50.08260984655309, 39.93178025438755, 37.00608908508718, 331.45459991094157, 34.85597147189486, 25.521164071497033, 18.49539631139461, 211.80973561635054, 19.564756048884327, 15.900309287944484, 13.835165329673632, 23.912191946371085, 13.529080214308419, 12.90666309376882, 12.553698762257273, 12.096775414534713, 11.942524446616412, 11.096854984732158, 10.819850950156312, 10.817562606512851, 44.18551153077128, 11.911159806967955, 9.51124516895702, 9.51598264131928, 9.017638900053118, 13.126710271123164, 9.382419631276257, 58.69200258394489, 93.02040930636281, 49.020142756907894, 81.53704592615487, 108.33847682129225, 340.1937140299013, 50.913052227006254, 132.7935100845943, 326.2764573696694, 123.11891465932246, 109.99322341189675, 215.063103899434, 245.1465795393806, 159.06978765230176, 65.61892630308604, 682.6606115232535, 97.0257057355369, 358.7911522130636, 474.97028968714045, 133.34248753193623, 1407.6493029428098, 372.29254172822266, 476.54486348760736, 392.43089903580614, 108.79437195153231, 51.8978417290611, 30.786756123641243, 15.702750123662662, 110.87953200092224, 11.692518375692796, 17.012647044551976, 140.71333959483704, 15.491725215995864, 24.169609083482452, 417.6744213226197, 8.511009708721122, 34.01702968627816, 7.778451734391671, 108.13193850283032, 24.369780678831678, 69.43508320025092, 10.041019348629588, 10.270834365924795, 114.74040192079889, 39.99125430154824, 7.13350151234923, 18.063798135093222, 385.6934534957517, 23.872957951902144, 38.708305717176394, 6.242207756915472, 11.546601852905136, 6.877869897134262, 8.013465602752404, 50.7285465932052, 382.61320896115245, 43.74406056268815, 163.33596588694365, 53.413674358866245, 67.9780138483933, 67.65581730451208, 98.55981571833303, 33.423746492194745, 100.16751829506124, 54.32910630352878, 474.97028968714045, 101.70501532124923, 54.42937151878908, 347.1629895375233, 326.2764573696694, 84.33622458442797, 126.26697181743545, 65.44083956154732, 413.08039779772537, 372.29254172822266, 476.54486348760736, 682.6606115232535, 41.42254431457782, 19.807388644569542, 61.19538378817607, 14.196019998741821, 6.639060012365279, 5.903609108735106, 80.46841786027898, 4.472357408437441, 9.518967265388262, 14.853729916521814, 8.703006445250008, 13.734606483225472, 13.906235514019183, 4.017336697501237, 3.9805623970342077, 4.117379879151317, 4.63735615181481, 4.63735615181481, 4.730994939732337, 123.81789686478395, 3.8655723128912793, 3.8462417645824374, 123.20054610050414, 3.769656842580016, 3.7969628618253837, 4.674045668340522, 4.7131535494334384, 4.813956447422152, 3.979834966885053, 7.686345165984514, 150.81796936472506, 230.19679951630934, 23.47594034436169, 40.05163592693433, 49.50636856181606, 21.45031848384436, 22.932784921777543, 21.3704248091256, 26.013202356829098, 19.24208122585012, 24.56523254450866, 67.9695785998917, 13.705032066768716, 49.56395962645914, 133.73240461096367, 48.99038195453491, 57.0626657099203, 757.6984887319597, 86.65266748451572, 413.08039779772537, 101.70501532124923], \"Category\": [\"Default\", \"Default\", \"Default\", \"Default\", \"Default\", \"Default\", \"Default\", \"Default\", \"Default\", \"Default\", \"Default\", \"Default\", \"Default\", \"Default\", \"Default\", \"Default\", \"Default\", \"Default\", \"Default\", \"Default\", \"Default\", \"Default\", \"Default\", \"Default\", \"Default\", \"Default\", \"Default\", \"Default\", \"Default\", \"Default\", \"Topic1\", \"Topic1\", \"Topic1\", \"Topic1\", \"Topic1\", \"Topic1\", \"Topic1\", \"Topic1\", \"Topic1\", \"Topic1\", \"Topic1\", \"Topic1\", \"Topic1\", \"Topic1\", \"Topic1\", \"Topic1\", \"Topic1\", \"Topic1\", \"Topic1\", \"Topic1\", \"Topic1\", \"Topic1\", \"Topic1\", \"Topic1\", \"Topic1\", \"Topic1\", \"Topic1\", \"Topic1\", \"Topic1\", \"Topic1\", \"Topic1\", \"Topic1\", \"Topic1\", \"Topic1\", \"Topic1\", \"Topic1\", \"Topic1\", \"Topic1\", \"Topic1\", \"Topic1\", \"Topic1\", \"Topic1\", \"Topic1\", \"Topic1\", \"Topic1\", \"Topic1\", \"Topic1\", \"Topic1\", \"Topic1\", \"Topic1\", \"Topic1\", \"Topic1\", \"Topic1\", \"Topic1\", \"Topic1\", \"Topic1\", \"Topic1\", \"Topic1\", \"Topic1\", \"Topic1\", \"Topic1\", \"Topic1\", \"Topic2\", \"Topic2\", \"Topic2\", \"Topic2\", \"Topic2\", \"Topic2\", \"Topic2\", \"Topic2\", \"Topic2\", \"Topic2\", \"Topic2\", \"Topic2\", \"Topic2\", \"Topic2\", \"Topic2\", \"Topic2\", \"Topic2\", \"Topic2\", \"Topic2\", \"Topic2\", \"Topic2\", \"Topic2\", \"Topic2\", \"Topic2\", \"Topic2\", \"Topic2\", \"Topic2\", \"Topic2\", \"Topic2\", \"Topic2\", \"Topic2\", \"Topic2\", \"Topic2\", \"Topic2\", \"Topic2\", \"Topic2\", \"Topic2\", \"Topic2\", \"Topic2\", \"Topic2\", \"Topic2\", \"Topic2\", \"Topic2\", \"Topic2\", \"Topic2\", \"Topic2\", \"Topic2\", \"Topic2\", \"Topic2\", \"Topic2\", \"Topic2\", \"Topic2\", \"Topic2\", \"Topic2\", \"Topic2\", \"Topic2\", \"Topic2\", \"Topic2\", \"Topic2\", \"Topic3\", \"Topic3\", \"Topic3\", \"Topic3\", \"Topic3\", \"Topic3\", \"Topic3\", \"Topic3\", \"Topic3\", \"Topic3\", \"Topic3\", \"Topic3\", \"Topic3\", \"Topic3\", \"Topic3\", \"Topic3\", \"Topic3\", \"Topic3\", \"Topic3\", \"Topic3\", \"Topic3\", \"Topic3\", \"Topic3\", \"Topic3\", \"Topic3\", \"Topic3\", \"Topic3\", \"Topic3\", \"Topic3\", \"Topic3\", \"Topic3\", \"Topic3\", \"Topic3\", \"Topic3\", \"Topic3\", \"Topic3\", \"Topic3\", \"Topic3\", \"Topic3\", \"Topic3\", \"Topic3\", \"Topic3\", \"Topic3\", \"Topic3\", \"Topic3\", \"Topic3\", \"Topic3\", \"Topic3\", \"Topic3\", \"Topic3\", \"Topic3\", \"Topic3\", \"Topic3\", \"Topic4\", \"Topic4\", \"Topic4\", \"Topic4\", \"Topic4\", \"Topic4\", \"Topic4\", \"Topic4\", \"Topic4\", \"Topic4\", \"Topic4\", \"Topic4\", \"Topic4\", \"Topic4\", \"Topic4\", \"Topic4\", \"Topic4\", \"Topic4\", \"Topic4\", \"Topic4\", \"Topic4\", \"Topic4\", \"Topic4\", \"Topic4\", \"Topic4\", \"Topic4\", \"Topic4\", \"Topic4\", \"Topic4\", \"Topic4\", \"Topic4\", \"Topic4\", \"Topic4\", \"Topic4\", \"Topic4\", \"Topic4\", \"Topic4\", \"Topic4\", \"Topic4\", \"Topic4\", \"Topic4\", \"Topic4\", \"Topic4\", \"Topic4\", \"Topic4\", \"Topic4\", \"Topic4\", \"Topic4\", \"Topic4\", \"Topic4\", \"Topic4\", \"Topic4\", \"Topic4\", \"Topic4\", \"Topic4\", \"Topic5\", \"Topic5\", \"Topic5\", \"Topic5\", \"Topic5\", \"Topic5\", \"Topic5\", \"Topic5\", \"Topic5\", \"Topic5\", \"Topic5\", \"Topic5\", \"Topic5\", \"Topic5\", \"Topic5\", \"Topic5\", \"Topic5\", \"Topic5\", \"Topic5\", \"Topic5\", \"Topic5\", \"Topic5\", \"Topic5\", \"Topic5\", \"Topic5\", \"Topic5\", \"Topic5\", \"Topic5\", \"Topic5\", \"Topic5\", \"Topic5\", \"Topic5\", \"Topic5\", \"Topic5\", \"Topic5\", \"Topic5\", \"Topic5\", \"Topic5\", \"Topic5\", \"Topic5\", \"Topic5\", \"Topic5\", \"Topic5\", \"Topic5\", \"Topic5\", \"Topic5\", \"Topic5\", \"Topic5\", \"Topic5\", \"Topic5\", \"Topic5\", \"Topic5\", \"Topic6\", \"Topic6\", \"Topic6\", \"Topic6\", \"Topic6\", \"Topic6\", \"Topic6\", \"Topic6\", \"Topic6\", \"Topic6\", \"Topic6\", \"Topic6\", \"Topic6\", \"Topic6\", \"Topic6\", \"Topic6\", \"Topic6\", \"Topic6\", \"Topic6\", \"Topic6\", \"Topic6\", \"Topic6\", \"Topic6\", \"Topic6\", \"Topic6\", \"Topic6\", \"Topic6\", \"Topic6\", \"Topic6\", \"Topic6\", \"Topic6\", \"Topic6\", \"Topic6\", \"Topic6\", \"Topic6\", \"Topic6\", \"Topic6\", \"Topic6\", \"Topic6\", \"Topic6\", \"Topic6\", \"Topic6\", \"Topic6\", \"Topic6\", \"Topic6\", \"Topic6\", \"Topic6\", \"Topic6\", \"Topic6\", \"Topic6\", \"Topic6\"], \"logprob\": [30.0, 29.0, 28.0, 27.0, 26.0, 25.0, 24.0, 23.0, 22.0, 21.0, 20.0, 19.0, 18.0, 17.0, 16.0, 15.0, 14.0, 13.0, 12.0, 11.0, 10.0, 9.0, 8.0, 7.0, 6.0, 5.0, 4.0, 3.0, 2.0, 1.0, -4.5228, -5.4065, -5.6202, -5.4027, -5.5641, -5.2749, -6.1923, -6.4274, -5.7177, -6.4759, -6.5162, -6.6761, -5.4522, -5.7669, -6.6755, -6.8234, -6.8817, -7.0674, -6.5519, -6.7525, -7.1466, -7.0929, -6.4852, -6.9449, -6.9589, -6.6278, -7.279, -6.8774, -5.7446, -7.0419, -5.1747, -6.5443, -5.9628, -5.9668, -5.6688, -3.9449, -6.0782, -6.1238, -5.8113, -5.1515, -5.0352, -4.9506, -5.0032, -6.0866, -5.7118, -6.1641, -5.9844, -5.3155, -5.0518, -5.1723, -5.3317, -4.2331, -5.6318, -5.6188, -5.6678, -5.3793, -5.5194, -5.1731, -5.498, -5.6026, -5.6925, -5.6721, -5.3869, -5.2224, -5.7941, -5.7894, -6.0527, -6.1984, -5.4599, -5.9418, -4.5013, -6.7414, -6.6174, -6.4227, -6.7056, -6.9856, -6.7168, -6.0712, -6.9353, -6.8078, -5.2839, -7.2756, -7.3663, -6.3014, -5.5759, -7.1069, -6.6775, -7.3316, -5.508, -7.1769, -7.3008, -6.6087, -4.7353, -5.6047, -6.3164, -4.1776, -6.2148, -6.6146, -5.6152, -3.52, -5.6548, -5.0515, -4.509, -5.6729, -5.7001, -4.9881, -5.9382, -5.0985, -5.5647, -5.7966, -5.2142, -5.3301, -5.5408, -5.2999, -5.6271, -5.4003, -4.9494, -5.1607, -5.5154, -5.5477, -5.5696, -4.9073, -6.2859, -6.4832, -6.9346, -6.4962, -6.424, -5.2008, -7.0835, -6.2385, -5.5167, -6.2334, -3.3955, -3.232, -6.7002, -6.4029, -2.6617, -7.3803, -7.2149, -4.4329, -5.6524, -7.6414, -5.8279, -5.0208, -7.8271, -6.8323, -6.85, -7.253, -7.7069, -7.8022, -7.4258, -5.8101, -5.1603, -6.2877, -5.5381, -4.5907, -4.8126, -5.4267, -4.9823, -5.4866, -5.1318, -4.7447, -5.1075, -5.6646, -4.9399, -6.0384, -4.9008, -5.7922, -6.0541, -5.4937, -5.4569, -5.9979, -5.9046, -6.011, -3.5854, -3.8667, -5.0119, -5.576, -5.8099, -5.8871, -3.6992, -5.9517, -6.319, -6.6766, -4.2445, -6.63, -6.8387, -7.0077, -6.4626, -7.0367, -7.0939, -7.1291, -7.1763, -7.1927, -7.2879, -7.321, -7.3213, -5.9319, -7.2578, -7.4947, -7.4972, -7.569, -7.1955, -7.5382, -5.7108, -5.3251, -5.9905, -5.5611, -5.4317, -4.573, -6.1231, -5.4352, -4.8237, -5.5324, -5.6468, -5.2064, -5.1325, -5.4242, -6.0104, -4.6121, -5.7859, -5.0513, -4.9887, -5.6694, -5.1264, -5.5328, -5.6245, -5.7666, -5.9133, -5.2984, -5.8507, -6.6357, -4.7208, -6.9772, -6.6064, -4.5042, -6.7213, -6.2957, -3.5187, -7.4263, -6.0605, -7.5515, -4.9296, -6.4328, -5.3977, -7.3391, -7.3191, -4.9264, -6.0019, -7.739, -6.8317, -3.7888, -6.5796, -6.1018, -7.9321, -7.3178, -7.8514, -7.7039, -5.8596, -3.8477, -6.0268, -4.7611, -5.8592, -5.6662, -5.7323, -5.4589, -6.3473, -5.5258, -6.0152, -4.7351, -5.9286, -6.2095, -5.4786, -5.5604, -6.0349, -5.9708, -6.1651, -5.8475, -5.8939, -5.9799, -6.032, -4.5875, -5.5119, -4.4232, -6.3807, -7.2002, -7.3212, -4.7335, -7.6311, -6.949, -6.5255, -7.108, -6.7282, -6.7432, -8.0146, -8.028, -8.0269, -7.9182, -7.9182, -7.945, -4.7134, -8.1873, -8.1987, -4.7324, -8.2224, -8.2533, -8.0643, -8.0562, -8.0495, -8.2763, -7.632, -4.6695, -4.4522, -6.6035, -6.1429, -5.972, -6.7486, -6.7386, -6.8304, -6.6928, -6.9386, -6.7893, -6.114, -7.215, -6.5005, -6.0149, -6.5839, -6.6082, -5.8201, -6.5246, -6.8184, -6.9328], \"loglift\": [30.0, 29.0, 28.0, 27.0, 26.0, 25.0, 24.0, 23.0, 22.0, 21.0, 20.0, 19.0, 18.0, 17.0, 16.0, 15.0, 14.0, 13.0, 12.0, 11.0, 10.0, 9.0, 8.0, 7.0, 6.0, 5.0, 4.0, 3.0, 2.0, 1.0, 1.0035, 0.9981, 0.9968, 0.995, 0.9906, 0.9813, 0.9775, 0.9718, 0.9709, 0.9654, 0.9653, 0.9636, 0.9617, 0.9601, 0.9598, 0.9529, 0.9504, 0.9484, 0.9475, 0.9456, 0.9431, 0.9404, 0.9384, 0.9362, 0.9359, 0.9348, 0.9304, 0.9297, 0.9292, 0.9286, 0.9183, 0.9241, 0.9002, 0.8925, 0.8682, 0.7525, 0.8879, 0.8828, 0.8588, 0.7717, 0.7458, 0.6895, 0.6881, 0.85, 0.7586, 0.8446, 0.7835, 0.5487, 0.4453, 0.4682, 0.5024, -0.0279, 0.6244, 0.6014, 0.5858, 0.348, 0.4396, -0.0629, 0.0024, 0.0036, 0.5151, 0.2038, 1.2307, 1.2243, 1.222, 1.2192, 1.213, 1.2055, 1.2029, 1.1971, 1.1956, 1.1809, 1.1787, 1.1762, 1.1687, 1.1672, 1.1661, 1.1624, 1.1471, 1.1462, 1.1352, 1.131, 1.1298, 1.1279, 1.1207, 1.1158, 1.1118, 1.1102, 1.1014, 1.0994, 1.0974, 1.0921, 1.0786, 1.0865, 1.082, 0.9601, 1.0683, 1.0674, 0.9614, 0.6852, 0.9494, 0.8022, 0.6012, 0.8602, 0.8591, 0.6181, 0.8942, 0.5806, 0.7312, 0.8282, 0.513, 0.5634, 0.6061, 0.3406, 0.6172, 0.3083, -0.5354, -0.4633, 0.2013, 0.0813, -0.5362, 1.9423, 1.9155, 1.8997, 1.8487, 1.8394, 1.8328, 1.8303, 1.8296, 1.827, 1.8267, 1.8129, 1.8018, 1.8014, 1.7942, 1.7711, 1.7523, 1.7313, 1.7293, 1.7266, 1.7247, 1.7075, 1.6768, 1.6736, 1.6464, 1.6421, 1.6391, 1.6361, 1.6278, 1.6273, 1.6251, 1.6183, 1.4896, 1.5497, 1.488, 1.4134, 1.4122, 1.4695, 1.3105, 1.3865, 1.1731, 0.9993, 1.1216, 1.3187, 0.9138, 1.3562, -0.6956, 0.7669, 1.1842, 0.1853, -0.3467, 0.4177, -0.2133, -0.4047, 2.2193, 2.2126, 2.1984, 2.174, 2.1666, 2.1655, 2.161, 2.1608, 2.1052, 2.0696, 2.0635, 2.06, 2.0586, 2.0288, 2.0267, 2.0222, 2.012, 2.0045, 1.9945, 1.9908, 1.9691, 1.9614, 1.9612, 1.9434, 1.9284, 1.9165, 1.9135, 1.8955, 1.8935, 1.8867, 1.8806, 1.8058, 1.781, 1.7015, 1.5467, 1.2612, 1.6105, 1.3397, 1.0523, 1.3182, 1.3164, 1.0864, 1.0293, 1.1702, 1.4694, 0.5256, 1.3029, 0.7296, 0.5117, 1.1013, -0.7124, 0.2112, -0.1274, -0.0753, 1.0609, 2.416, 2.3859, 2.2742, 2.2345, 2.2275, 2.2234, 2.2128, 2.2021, 2.1828, 2.1103, 2.0961, 2.0763, 2.0608, 2.0508, 2.0376, 2.0256, 2.0179, 2.0152, 1.9946, 1.9731, 1.9598, 1.938, 1.9199, 1.9113, 1.9058, 1.9002, 1.8995, 1.884, 1.8786, 1.8776, 1.869, 1.8585, 1.8068, 1.8264, 1.7783, 1.7169, 1.6141, 1.8071, 1.5311, 1.6534, 0.7653, 1.113, 1.4573, 0.3353, 0.3155, 1.1939, 0.8545, 1.3175, -0.2075, -0.1499, -0.4828, -0.8943, 3.3523, 3.1657, 3.1265, 2.63, 2.5705, 2.5669, 2.5423, 2.5346, 2.4614, 2.4399, 2.392, 2.3156, 2.2881, 2.2585, 2.2543, 2.2216, 2.2114, 2.2114, 2.1645, 2.1314, 2.1243, 2.1179, 2.1175, 2.1143, 2.0762, 2.0574, 2.0572, 2.0427, 2.0061, 1.9923, 1.9781, 1.7726, 1.9043, 1.8306, 1.7896, 1.8493, 1.7925, 1.7713, 1.7123, 1.768, 1.673, 1.3306, 1.8309, 1.26, 0.753, 1.1882, 1.0114, -0.7867, 0.6771, -1.1783, 0.1088]}, \"token.table\": {\"Topic\": [1, 2, 3, 4, 5, 1, 2, 3, 4, 5, 1, 2, 3, 4, 5, 1, 2, 3, 5, 1, 2, 3, 4, 5, 1, 2, 3, 4, 5, 1, 2, 3, 4, 5, 1, 2, 3, 6, 1, 2, 3, 4, 5, 6, 1, 2, 3, 4, 5, 1, 2, 3, 4, 5, 1, 2, 3, 4, 6, 1, 2, 3, 4, 5, 1, 2, 3, 5, 1, 2, 3, 4, 5, 1, 2, 3, 4, 6, 1, 2, 3, 4, 5, 1, 2, 3, 1, 2, 3, 4, 5, 6, 1, 2, 3, 4, 5, 1, 2, 3, 4, 5, 1, 2, 3, 5, 1, 2, 3, 4, 5, 1, 2, 3, 4, 5, 1, 2, 3, 4, 5, 1, 2, 3, 4, 1, 2, 3, 4, 5, 1, 2, 3, 4, 5, 1, 2, 3, 4, 5, 6, 1, 2, 3, 4, 6, 1, 2, 3, 4, 1, 2, 3, 4, 5, 1, 2, 3, 1, 2, 3, 4, 1, 2, 3, 4, 5, 1, 2, 3, 4, 5, 6, 1, 2, 3, 4, 5, 1, 2, 3, 4, 6, 1, 2, 3, 4, 5, 1, 2, 3, 4, 5, 1, 2, 3, 4, 5, 1, 2, 3, 6, 1, 2, 3, 4, 5, 1, 2, 3, 4, 5, 1, 2, 3, 4, 5, 6, 1, 2, 3, 4, 5, 1, 2, 3, 4, 5, 6, 1, 2, 3, 4, 5, 6, 1, 2, 3, 4, 6, 1, 2, 3, 4, 1, 2, 3, 4, 5, 6, 1, 2, 3, 4, 1, 2, 3, 4, 5, 1, 2, 3, 4, 5, 1, 2, 3, 5, 1, 2, 3, 4, 5, 1, 2, 3, 4, 1, 2, 3, 4, 5, 6, 1, 2, 3, 6, 1, 2, 3, 4, 5, 1, 2, 3, 4, 5, 1, 2, 3, 4, 5, 6, 1, 2, 3, 4, 5, 1, 2, 3, 4, 1, 2, 3, 4, 1, 2, 3, 4, 5, 1, 2, 3, 4, 5, 6, 1, 2, 3, 5, 1, 2, 3, 4, 1, 2, 3, 4, 5, 1, 2, 3, 4, 5, 1, 2, 3, 4, 5, 1, 2, 3, 4, 1, 2, 3, 4, 6, 1, 2, 3, 4, 5, 6, 1, 2, 3, 4, 5, 1, 2, 3, 4, 1, 2, 3, 4, 5, 1, 2, 3, 4, 5, 1, 2, 3, 4, 5, 1, 2, 3, 4, 1, 2, 3, 4, 5, 1, 2, 3, 4, 5, 1, 2, 3, 4, 5, 6, 1, 2, 3, 4, 5, 6, 1, 2, 3, 4, 5, 1, 2, 3, 4, 5, 1, 2, 3, 4, 1, 2, 3, 4, 1, 2, 3, 4, 1, 2, 3, 4, 5, 1, 2, 3, 4, 1, 2, 3, 4, 1, 2, 3, 1, 2, 3, 5, 1, 2, 3, 4, 5, 1, 2, 3, 4, 5, 6, 1, 2, 3, 4, 6, 1, 2, 3, 4, 5, 1, 2, 3, 4, 5, 1, 2, 3, 6, 1, 2, 3, 4, 5, 1, 2, 3, 4, 5, 1, 2, 3, 4, 5, 1, 2, 3, 4, 1, 2, 3, 5, 1, 2, 3, 4, 5, 1, 2, 3, 4, 5, 1, 2, 3, 4, 5, 6, 1, 2, 3, 4, 5, 1, 2, 3, 6, 1, 2, 3, 4, 1, 2, 3, 4, 5, 1, 2, 3, 4, 5, 1, 2, 3, 4, 1, 2, 3, 4, 5, 1, 2, 3, 4, 5, 1, 2, 3, 4, 1, 2, 3, 4, 5, 1, 2, 3, 4, 5, 1, 2, 3, 4, 5, 1, 2, 3, 4, 5, 1, 2, 3, 4, 5, 1, 2, 3, 4, 5, 6, 1, 2, 3, 4, 6, 1, 2, 3, 4, 5, 1, 2, 3, 4, 5, 6, 1, 2, 3, 4, 5, 1, 2, 3, 4, 5, 1, 2, 3, 4, 5, 1, 2, 3, 4, 5, 1, 2, 3, 4, 5, 1, 2, 3, 4, 5, 1, 2, 3, 4, 5, 6, 1, 2, 3, 6, 1, 2, 3, 4, 5, 1, 2, 3, 4, 5, 1, 2, 3, 4, 5, 6, 1, 2, 3, 4, 5, 6, 1, 2, 3, 4, 5, 1, 2, 3, 4, 5, 6, 1, 2, 3, 4, 6, 1, 2, 3, 4, 5, 1, 2, 3, 4, 1, 2, 3, 4, 5, 1, 2, 3, 4, 1, 2, 3, 4, 5, 1, 2, 3, 4, 5, 1, 2, 3, 4, 5, 1, 2, 3, 4, 5, 6, 1, 2, 3, 4, 6, 1, 2, 3, 4, 5, 6, 1, 2, 3, 4, 5, 1, 2, 3, 1, 2, 3, 5, 1, 2, 3, 4, 1, 2, 3, 4, 5, 6, 1, 2, 3, 4, 5, 1, 2, 3, 4, 5, 1, 2, 3, 4, 5, 1, 2, 3, 4, 5, 1, 2, 3, 4, 1, 2, 3, 4, 1, 2, 3, 4, 6, 1, 2, 3, 4, 5, 1, 2, 3, 4, 5, 1, 2, 3, 4, 5, 1, 2, 3, 4, 1, 2, 3, 4, 1, 2, 3, 4, 5, 1, 2, 3, 4, 5, 6, 1, 2, 3, 4, 5, 6, 1, 2, 3, 6, 1, 2, 3, 6, 1, 2, 3, 4, 5, 1, 2, 3, 4, 5, 1, 2, 3, 4, 5, 6, 1, 2, 3, 4, 5, 6, 1, 2, 3, 4, 1, 2, 3, 5, 6, 1, 2, 3, 6, 1, 2, 3, 4, 5, 1, 2, 3, 4, 5, 1, 2, 3, 4, 1, 2, 3, 4, 5, 1, 2, 3, 4, 1, 2, 3, 4, 1, 2, 3, 4, 5, 1, 2, 3, 6, 1, 2, 3, 4, 1, 2, 3, 1, 2, 3, 4, 5, 1, 2, 3, 4, 1, 2, 3, 4, 5, 1, 2, 3, 4, 5, 1, 2, 3, 6, 1, 2, 3, 6, 1, 2, 3, 4, 5, 1, 2, 3, 4, 1, 2, 3, 6, 1, 2, 3, 4, 5, 6, 1, 2, 3, 4, 6, 1, 2, 3, 4, 5, 1, 2, 3, 4, 5, 6, 1, 2, 3, 4, 5, 1, 2, 3, 4, 1, 2, 3, 4, 5, 1, 2, 3, 4, 5, 6, 1, 2, 3, 5, 1, 2, 3, 4, 5, 6, 1, 2, 3, 4, 5, 1, 2, 3, 4, 1, 2, 3, 4, 5, 1, 2, 3, 4, 1, 2, 3, 4, 5, 6, 1, 2, 3, 4, 5, 1, 2, 3, 4, 5, 6, 1, 2, 3, 4, 5, 1, 2, 3, 4, 1, 2, 3, 4, 5, 1, 2, 3, 4, 6, 1, 2, 3, 1, 2, 3, 4, 1, 2, 3, 4, 5, 6, 1, 2, 3, 4, 5, 6, 1, 2, 3, 4, 6, 1, 2, 3, 4, 5, 6, 1, 2, 3, 4, 1, 2, 3, 4, 1, 2, 3, 4, 5, 6, 1, 2, 3, 4, 5, 1, 2, 3, 4, 1, 2, 3, 4, 5, 1, 2, 3, 4, 5, 6, 1, 2, 3, 4, 5, 6, 1, 2, 3, 4, 5, 6, 1, 2, 3, 1, 2, 3, 4, 6, 1, 2, 3, 4, 1, 2, 3, 4, 5, 1, 2, 3, 4, 1, 2, 3, 4, 1, 2, 3, 1, 2, 3, 1, 2, 3, 1, 2, 3, 1, 2, 3, 4, 1, 2, 3, 4, 5, 1, 2, 3, 4, 5, 6, 1, 2, 3, 4, 5, 1, 2, 3, 4, 5, 1, 2, 3, 4, 6, 1, 2, 3, 4, 5, 1, 2, 3, 4, 5, 1, 2, 3, 4, 5, 1, 2, 3, 4, 5, 1, 2, 3, 4, 5, 1, 2, 3, 1, 2, 3, 5, 1, 2, 3, 4, 5, 1, 2, 3, 4, 1, 2, 3, 4, 5, 6, 1, 2, 3, 4, 5, 6, 1, 2, 3, 4, 5, 1, 2, 3, 4, 5, 1, 2, 3, 4, 1, 2, 3, 4, 5, 1, 2, 3, 4, 1, 2, 3, 4, 1, 2, 3, 4, 5, 6, 1, 2, 3, 4, 1, 2, 3, 4, 5, 1, 2, 3, 4, 5, 1, 2, 3, 4, 5, 6, 1, 2, 3, 4, 5, 6, 1, 2, 3, 4, 5, 6, 1, 2, 3, 4, 1, 2, 3, 1, 2, 3, 4, 5, 1, 2, 3, 4, 5, 6, 1, 2, 3, 6, 1, 2, 3, 4, 6, 1, 2, 3, 4, 5, 1, 2, 3, 4, 1, 2, 3, 4, 5, 1, 2, 3, 4, 5, 6, 1, 2, 3, 4, 1, 2, 3, 4, 5, 6, 1, 2, 3, 4, 5, 1, 2, 3, 4, 5, 6, 1, 2, 3, 4, 1, 2, 3, 4, 5], \"Freq\": [0.28803882818603327, 0.014401941409301665, 0.014401941409301665, 0.05760776563720666, 0.6192834805999716, 0.08552477472080507, 0.08552477472080507, 0.08552477472080507, 0.08552477472080507, 0.7697229724872456, 0.06591064545345446, 0.06591064545345446, 0.725017099987999, 0.06591064545345446, 0.06591064545345446, 0.02280456905918715, 0.912182762367486, 0.02280456905918715, 0.02280456905918715, 0.08660556696586875, 0.08660556696586875, 0.08660556696586875, 0.1732111339317375, 0.5196334017952126, 0.009983276185942054, 0.5989965711565233, 0.009983276185942054, 0.009983276185942054, 0.37936449506579806, 0.927050927964112, 0.016554480856502, 0.033108961713004, 0.016554480856502, 0.016554480856502, 0.24892113240645103, 0.24892113240645103, 0.24892113240645103, 0.24892113240645103, 0.6535143104184974, 0.038442018259911614, 0.038442018259911614, 0.038442018259911614, 0.11532605477973484, 0.15376807303964646, 0.7719730015822862, 0.16661287803934235, 0.03332257560786847, 0.022215050405245646, 0.0055537626013114115, 0.39622714763586775, 0.12191604542642086, 0.015239505678302607, 0.4571851703490782, 0.015239505678302607, 0.1506237325973098, 0.1506237325973098, 0.1506237325973098, 0.3012474651946196, 0.3012474651946196, 0.3388839740312249, 0.21180248376951555, 0.4330184112621207, 0.00470672186154479, 0.00941344372308958, 0.14018361084929196, 0.14018361084929196, 0.14018361084929196, 0.5607344433971678, 0.3240335291492831, 0.6545477288815518, 0.0064806705829856615, 0.0064806705829856615, 0.0064806705829856615, 0.9601754220840788, 0.006907736849525747, 0.013815473699051494, 0.006907736849525747, 0.013815473699051494, 0.6528316043373522, 0.2548726126522539, 0.058128841482093005, 0.004471449344776385, 0.03130014541343469, 0.0675981490700442, 0.8449768633755526, 0.0337990745350221, 0.21217630853133942, 0.5702238291779747, 0.006630509641604357, 0.006630509641604357, 0.006630509641604357, 0.1989152892481307, 0.16019973043866462, 0.16019973043866462, 0.16019973043866462, 0.16019973043866462, 0.4805991913159939, 0.009247961461209033, 0.32367865114231614, 0.009247961461209033, 0.018495922922418067, 0.6381093408234233, 0.04137427281285246, 0.16549709125140985, 0.04137427281285246, 0.7447369106313444, 0.20767655397973014, 0.24921186477567617, 0.5316519781881092, 0.008307062159189206, 0.008307062159189206, 0.008114909911063745, 0.04057454955531873, 0.9332146397723308, 0.008114909911063745, 0.008114909911063745, 0.044076454619386606, 0.3915026263251399, 0.0025927326246698006, 0.0025927326246698006, 0.5600302469286769, 0.9377196639162596, 0.02604776844211832, 0.02604776844211832, 0.02604776844211832, 0.03318704885361551, 0.03922105773609105, 0.0030170044412377735, 0.9262203634599965, 0.0030170044412377735, 0.11081641168626727, 0.8519011648381797, 0.006926025730391704, 0.006926025730391704, 0.020778077191175113, 0.7926276380684318, 0.007477619227060678, 0.05234333458942474, 0.03738809613530339, 0.05234333458942474, 0.059820953816485424, 0.21564011200835936, 0.21564011200835936, 0.21564011200835936, 0.21564011200835936, 0.21564011200835936, 0.03400800312922303, 0.36558603363914755, 0.5781360531967915, 0.017004001564611515, 0.002854169534949634, 0.011416678139798535, 0.002854169534949634, 0.9789801504877245, 0.002854169534949634, 0.07171825222470657, 0.035859126112353285, 0.8247599005841255, 0.014125879731156329, 0.9605598217186304, 0.014125879731156329, 0.014125879731156329, 0.9319665508735231, 0.02167364071798891, 0.02167364071798891, 0.02167364071798891, 0.02167364071798891, 0.8467336194616598, 0.07611088714262111, 0.038055443571310556, 0.009513860892827639, 0.019027721785655278, 0.009513860892827639, 0.2900944496461095, 0.14504722482305474, 0.36261806205763686, 0.13161692622832744, 0.0698375526925819, 0.016341101862543037, 0.3104809353883177, 0.032682203725086074, 0.016341101862543037, 0.6373029726391785, 0.0069475529936851325, 0.18063637783581346, 0.7155979583495686, 0.09031818891790673, 0.0069475529936851325, 0.9190591950151139, 0.015066544180575637, 0.015066544180575637, 0.015066544180575637, 0.04519963254172692, 0.5497256601884862, 0.0075304884957326885, 0.030121953982930754, 0.40664637876956516, 0.0075304884957326885, 0.25122078245653645, 0.25122078245653645, 0.25122078245653645, 0.25122078245653645, 0.013926210577908426, 0.8773512664082308, 0.006963105288954213, 0.006963105288954213, 0.09748347404535898, 0.01528097754704838, 0.6570820345230803, 0.01528097754704838, 0.01528097754704838, 0.3056195509409676, 0.7696152215236587, 0.18014277856742503, 0.031124144988089138, 0.01414733863094961, 0.00471577954364987, 0.0009431559087299739, 0.350076541596696, 0.025005467256906857, 0.025005467256906857, 0.025005467256906857, 0.6001312141657645, 0.002131212649150784, 0.16765539506652835, 0.7722093832089674, 0.052569912012386005, 0.003552021081917973, 0.002131212649150784, 0.3530553283525693, 0.058842554725428216, 0.029421277362714108, 0.058842554725428216, 0.48545107648478275, 0.014710638681357054, 0.04259680274064821, 0.3407744219251857, 0.38337122466583395, 0.04259680274064821, 0.17038721096259285, 0.025042710182953187, 0.025042710182953187, 0.025042710182953187, 0.9265802767692679, 0.16329735921275995, 0.44906773783508985, 0.12247301940956996, 0.10206084950797496, 0.06123650970478498, 0.08164867960637998, 0.03314389814949962, 0.09943169444849886, 0.8285974537374905, 0.03314389814949962, 0.04897880241230743, 0.37346336839384414, 0.006122350301538429, 0.07346820361846114, 0.5020327247261511, 0.0587940810366157, 0.0587940810366157, 0.20577928362815495, 0.02939704051830785, 0.6467348914027727, 0.12910117963717269, 0.06455058981858634, 0.06455058981858634, 0.7746070778230362, 0.03248149938187534, 0.03248149938187534, 0.03248149938187534, 0.03248149938187534, 0.9094819826925096, 0.9288689660687109, 0.037913019023212695, 0.018956509511606347, 0.018956509511606347, 0.9788377276222914, 0.00604220819519933, 0.00604220819519933, 0.00604220819519933, 0.00604220819519933, 0.00604220819519933, 0.20772934091156864, 0.20772934091156864, 0.20772934091156864, 0.20772934091156864, 0.07618054937952376, 0.07618054937952376, 0.07618054937952376, 0.6856249444157139, 0.07618054937952376, 0.019641328819598076, 0.39282657639196156, 0.019641328819598076, 0.530315878129148, 0.03928265763919615, 0.652670961997339, 0.0932387088567627, 0.04661935442838135, 0.04661935442838135, 0.04661935442838135, 0.1864774177135254, 0.20944199751340872, 0.12566519850804525, 0.04188839950268174, 0.04188839950268174, 0.5445491935348626, 0.599958808934321, 0.06749536600511111, 0.007499485111679012, 0.3224778598021975, 0.9812365055259524, 0.005164402660662907, 0.005164402660662907, 0.005164402660662907, 0.5996583463681209, 0.017637010187297672, 0.002939501697882945, 0.376256217329017, 0.002939501697882945, 0.14561756847148596, 0.36404392117871487, 0.07280878423574298, 0.07280878423574298, 0.07280878423574298, 0.29123513694297193, 0.07791865108720877, 0.07791865108720877, 0.7791865108720877, 0.07791865108720877, 0.1070780294032707, 0.1070780294032707, 0.6424681764196242, 0.1070780294032707, 0.07885106648286622, 0.354829799172898, 0.019712766620716554, 0.019712766620716554, 0.532244698759347, 0.44093840017453023, 0.18372433340605426, 0.018372433340605426, 0.018372433340605426, 0.34907623347150313, 0.17278208544046256, 0.1594911557911962, 0.5914463693923525, 0.06645464824633175, 0.0066454648246331745, 0.07391485482822367, 0.07391485482822367, 0.07391485482822367, 0.8130634031104604, 0.004649798044706039, 0.17204252765412345, 0.4975283907835462, 0.3161862670400107, 0.004649798044706039, 0.002639572375744188, 0.16761284585975594, 0.8103487193534658, 0.003959358563616283, 0.001319786187872094, 0.013197861878720941, 0.00864147415021538, 0.8439839753377021, 0.002880491383405127, 0.028804913834051267, 0.11521965533620507, 0.028689488709454623, 0.028689488709454623, 0.028689488709454623, 0.9180636387025479, 0.9220070886004453, 0.028812721518763917, 0.014406360759381958, 0.014406360759381958, 0.014406360759381958, 0.580303247827833, 0.004363182314494986, 0.4101391375625286, 0.004363182314494986, 0.004363182314494986, 0.9277152206329865, 0.02650614916094247, 0.02650614916094247, 0.02650614916094247, 0.02650614916094247, 0.05111231632540722, 0.05111231632540722, 0.05111231632540722, 0.8177970612065155, 0.019268624025265246, 0.03853724805053049, 0.019268624025265246, 0.019268624025265246, 0.9248939532127318, 0.2073841139909745, 0.701915462738683, 0.07178680868918348, 0.007976312076575943, 0.007976312076575943, 0.030919641112192517, 0.5153273518698752, 0.010306547037397504, 0.3916487874211052, 0.04122618814959002, 0.010306547037397504, 0.020399777392714355, 0.18359799653442918, 0.020399777392714355, 0.632393099174145, 0.14279844174900047, 0.020399777392714355, 0.02382714728464235, 0.9173451704587304, 0.011913573642321176, 0.02382714728464235, 0.03574072092696352, 0.012264363868488238, 0.3801952799231354, 0.012264363868488238, 0.5886894656874355, 0.012264363868488238, 0.07965779798751445, 0.07965779798751445, 0.07965779798751445, 0.7965779798751444, 0.092422714934493, 0.092422714934493, 0.092422714934493, 0.739381719475944, 0.10658231450941548, 0.10658231450941548, 0.10658231450941548, 0.7460762015659084, 0.020766122523680798, 0.8721771459945936, 0.020766122523680798, 0.020766122523680798, 0.08306449009472319, 0.9324640380772102, 0.015541067301286838, 0.015541067301286838, 0.031082134602573676, 0.9210523990491228, 0.024893308082408725, 0.024893308082408725, 0.024893308082408725, 0.02809709451377131, 0.8429128354131393, 0.11238837805508524, 0.12478995350732242, 0.12478995350732242, 0.12478995350732242, 0.49915981402928966, 0.010837201685773018, 0.9536737483480255, 0.021674403371546035, 0.010837201685773018, 0.010837201685773018, 0.41194900096150683, 0.10298725024037671, 0.14712464320053814, 0.02942492864010763, 0.1912620361606996, 0.10298725024037671, 0.21137202908455793, 0.21137202908455793, 0.21137202908455793, 0.21137202908455793, 0.21137202908455793, 0.4822893080632091, 0.009274794385830943, 0.5008388968348709, 0.009274794385830943, 0.009274794385830943, 0.022860246331429006, 0.4114844339657221, 0.022860246331429006, 0.022860246331429006, 0.5257856656228671, 0.258693905858417, 0.258693905858417, 0.258693905858417, 0.258693905858417, 0.045263705923313295, 0.18105482369325318, 0.022631852961656648, 0.7468511477346694, 0.022631852961656648, 0.32218947261268494, 0.5134894719764667, 0.16109473630634247, 0.002517105254786601, 0.002517105254786601, 0.24039334659019002, 0.20555373114233638, 0.5504659240760873, 0.0034839615447853625, 0.0034839615447853625, 0.005423939829965903, 0.9763091693938626, 0.005423939829965903, 0.010847879659931807, 0.9559543966748144, 0.014058152892276682, 0.014058152892276682, 0.014058152892276682, 0.4048412143823536, 0.38381050194690663, 0.20504944624560767, 0.005257678108861735, 0.005257678108861735, 0.5665783448466891, 0.22033602299593466, 0.0671500260559039, 0.09442972414111486, 0.05036251954192792, 0.2817691155939845, 0.07044227889849612, 0.07044227889849612, 0.07044227889849612, 0.14088455779699224, 0.3522113944924806, 0.021500657919199195, 0.21500657919199195, 0.010750328959599598, 0.6450197375759759, 0.10750328959599598, 0.2599940568500805, 0.2599940568500805, 0.2599940568500805, 0.2599940568500805, 0.030510557481904003, 0.15255278740952002, 0.793274494529504, 0.030510557481904003, 0.015623436130705406, 0.2499749780912865, 0.7186780620124487, 0.015623436130705406, 0.015623436130705406, 0.6066490280343074, 0.06434156357939624, 0.00919165193991375, 0.3033245140171537, 0.00919165193991375, 0.1108937728693161, 0.1108937728693161, 0.1108937728693161, 0.6653626372158966, 0.0023942093385402236, 0.3112472140102291, 0.004788418677080447, 0.0023942093385402236, 0.6799554521454235, 0.002562269778933825, 0.9480398182055152, 0.002562269778933825, 0.04355858624187502, 0.002562269778933825, 0.07386399001280655, 0.8916438794403077, 0.026379996433145196, 0.005275999286629039, 0.015839454856743717, 0.617738739413005, 0.16631427599580903, 0.007919727428371858, 0.19007345828092462, 0.03433292819740891, 0.9269890613300404, 0.017166464098704454, 0.017166464098704454, 0.017166464098704454, 0.009512997818134453, 0.9703257774497143, 0.009512997818134453, 0.009512997818134453, 0.009512997818134453, 0.014780694991815705, 0.4877629347299182, 0.02956138998363141, 0.014780694991815705, 0.4582015447462868, 0.011857300998800488, 0.6995807589292288, 0.011857300998800488, 0.011857300998800488, 0.2727179229724112, 0.03817709261429878, 0.878073130128872, 0.03817709261429878, 0.03817709261429878, 0.03817709261429878, 0.03817709261429878, 0.16938790857958036, 0.16938790857958036, 0.16938790857958036, 0.16938790857958036, 0.3387758171591607, 0.9499998273279291, 0.041988942644328356, 0.0052486178305410445, 0.0052486178305410445, 0.0052486178305410445, 0.7238300379153126, 0.19366689977667229, 0.0024208362472084035, 0.004841672494416807, 0.0677834149218353, 0.009683344988833614, 0.006286548908871508, 0.4966373638008491, 0.11944442926855864, 0.3457601899879329, 0.03143274454435754, 0.004721218300424551, 0.11330923921018923, 0.037769746403396406, 0.8403768574755701, 0.004721218300424551, 0.909024069779089, 0.021140094646025325, 0.021140094646025325, 0.021140094646025325, 0.021140094646025325, 0.01163838104189571, 0.01163838104189571, 0.01163838104189571, 0.9543472454354484, 0.01163838104189571, 0.12856028862126853, 0.12856028862126853, 0.12856028862126853, 0.12856028862126853, 0.6428014431063427, 0.010146122866725196, 0.5681828805366109, 0.010146122866725196, 0.010146122866725196, 0.41599103753573297, 0.04360569391859491, 0.04360569391859491, 0.04360569391859491, 0.43605693918594907, 0.30523985743016435, 0.17442277567437964, 0.25126670033322573, 0.25126670033322573, 0.25126670033322573, 0.25126670033322573, 0.19472614675155636, 0.09736307337577818, 0.09736307337577818, 0.09736307337577818, 0.5841784402546691, 0.14539385230544427, 0.14539385230544427, 0.14539385230544427, 0.14539385230544427, 0.5815754092217771, 0.2956565592115064, 0.6800100861864647, 0.005913131184230128, 0.011826262368460256, 0.005913131184230128, 0.005913131184230128, 0.35081052389794765, 0.24883072043924193, 0.028554344968437596, 0.29778102609942064, 0.06934626635191989, 0.004079192138348228, 0.10498834566865167, 0.7472699897592266, 0.13586727086531394, 0.006175785039332452, 0.006175785039332452, 0.008992871968202917, 0.638493909742407, 0.33273626282350793, 0.002997623989400972, 0.014988119947004861, 0.002997623989400972, 0.9477174275152559, 0.017881460896514264, 0.017881460896514264, 0.017881460896514264, 0.017881460896514264, 0.1727379143063188, 0.3000184827425537, 0.00909146917401678, 0.4000246436567383, 0.11818909926221813, 0.019967010566419682, 0.019967010566419682, 0.019967010566419682, 0.938449496621725, 0.36423330839062346, 0.2358042227731204, 0.04421329176996008, 0.1768531670798403, 0.1768531670798403, 0.06289185838405004, 0.06289185838405004, 0.06289185838405004, 0.8175941589926505, 0.18939473878574212, 0.027056391255106015, 0.009018797085035338, 0.009018797085035338, 0.7665977522280037, 0.8498007757558663, 0.12392927979773051, 0.008852091414123608, 0.008852091414123608, 0.008852091414123608, 0.9531937079562759, 0.014664518583942706, 0.014664518583942706, 0.014664518583942706, 0.014664518583942706, 0.6768615283952245, 0.2913642340774145, 0.00896505335622814, 0.01344758003434221, 0.00448252667811407, 0.00448252667811407, 0.8762296569560285, 0.01752459313912057, 0.01752459313912057, 0.01752459313912057, 0.07009837255648228, 0.33113145222272905, 0.31497869845576665, 0.11306927636873676, 0.008076376883481196, 0.008076376883481196, 0.2342149296209547, 0.009584515329262543, 0.9776205635847793, 0.009584515329262543, 0.009584515329262543, 0.009584515329262543, 0.03850016134602369, 0.8855037109585447, 0.03850016134602369, 0.042033538959836, 0.042033538959836, 0.7986372402368839, 0.042033538959836, 0.9429686391253449, 0.020499318241855323, 0.020499318241855323, 0.020499318241855323, 0.44778733439911816, 0.040707939490828925, 0.040707939490828925, 0.040707939490828925, 0.2849555764358025, 0.1628317579633157, 0.039183165673733374, 0.039183165673733374, 0.039183165673733374, 0.8620296448221342, 0.039183165673733374, 0.3471361743900731, 0.10773191619002269, 0.44289787767009325, 0.04788085164001008, 0.0598510645500126, 0.01448943123297907, 0.8838553052117233, 0.01448943123297907, 0.01448943123297907, 0.07244715616489536, 0.36511308776458784, 0.5312863520677015, 0.0889378034298355, 0.0023404685113114602, 0.011702342556557301, 0.07747936029125822, 0.07747936029125822, 0.07747936029125822, 0.7747936029125823, 0.043578839528204974, 0.30505187669743483, 0.6318931731589721, 0.021789419764102487, 0.38524430856620956, 0.23611747944380584, 0.012427235760200307, 0.012427235760200307, 0.3603898370458089, 0.9895075615737119, 0.0021604968593312486, 0.0021604968593312486, 0.004320993718662497, 0.0021604968593312486, 0.06368311232903642, 0.06368311232903642, 0.06368311232903642, 0.06368311232903642, 0.8278804602774735, 0.18393005763717152, 0.20329111633582114, 0.5905122903088138, 0.009680529349324816, 0.009680529349324816, 0.0237215002405733, 0.9251385093823588, 0.0237215002405733, 0.0237215002405733, 0.02783808717837761, 0.8908187897080835, 0.02783808717837761, 0.02783808717837761, 0.3765068937034586, 0.5315391440519415, 0.035435942936796104, 0.004429492867099513, 0.05758340727229366, 0.6463814844355478, 0.060598264165832604, 0.020199421388610868, 0.08079768555444347, 0.040398842777221736, 0.16159537110888694, 0.5628489505937124, 0.3397076506541933, 0.053287474612422475, 0.03663513879604045, 0.006660934326552809, 0.0033304671632764047, 0.26527613566957553, 0.26527613566957553, 0.26527613566957553, 0.26527613566957553, 0.22980564389810088, 0.3447084658471513, 0.11490282194905044, 0.3447084658471513, 0.8666611780466892, 0.07716846105895178, 0.017808106398219642, 0.035616212796439284, 0.005936035466073214, 0.07106646767672134, 0.14213293535344268, 0.0071066467676721345, 0.028426587070688538, 0.7533045573732462, 0.3406173209521383, 0.5230399865666726, 0.09406168695749426, 0.007125885375567747, 0.029928718577384536, 0.002850354150227099, 0.524574715094397, 0.302639258708306, 0.02017595058055373, 0.02017595058055373, 0.04035190116110746, 0.10087975290276867, 0.9838748418140665, 0.006430554521660565, 0.006430554521660565, 0.006430554521660565, 0.15145863262608772, 0.10097242175072516, 0.05048621087536258, 0.05048621087536258, 0.6563207413797135, 0.2235957256263608, 0.2235957256263608, 0.2235957256263608, 0.4471914512527216, 0.055359343174748075, 0.2767967158737404, 0.055359343174748075, 0.055359343174748075, 0.5535934317474808, 0.7840011279421202, 0.202426520739154, 0.0032131193768119683, 0.0032131193768119683, 0.0032131193768119683, 0.9332915736769531, 0.02276320911407203, 0.02276320911407203, 0.02276320911407203, 0.024485089692303407, 0.905948318615226, 0.048970179384606814, 0.024485089692303407, 0.024485089692303407, 0.09244226600527713, 0.09244226600527713, 0.09244226600527713, 0.7395381280422171, 0.10508636235399456, 0.10508636235399456, 0.10508636235399456, 0.7356045364779619, 0.001554824436504522, 0.15392761921394768, 0.8116183558553605, 0.031096488730090438, 0.001554824436504522, 0.24287290202771433, 0.24287290202771433, 0.24287290202771433, 0.24287290202771433, 0.07227958439030736, 0.07227958439030736, 0.07227958439030736, 0.7950754282933811, 0.029868855938825305, 0.9259345341035845, 0.029868855938825305, 0.8544010248572474, 0.0067809605147400595, 0.0067809605147400595, 0.12883824978006111, 0.0067809605147400595, 0.9827877045820068, 0.005199934944878343, 0.005199934944878343, 0.005199934944878343, 0.026927355436001655, 0.9559211179780588, 0.006731838859000414, 0.006731838859000414, 0.006731838859000414, 0.05595769956432455, 0.8393654934648683, 0.018652566521441517, 0.018652566521441517, 0.07461026608576607, 0.2633683911038444, 0.2633683911038444, 0.2633683911038444, 0.2633683911038444, 0.315160239168827, 0.10505341305627568, 0.10505341305627568, 0.315160239168827, 0.3528356286905098, 0.5690339305842045, 0.0668773413857829, 0.010954047295947199, 0.0005765288050498525, 0.08373439003370202, 0.08373439003370202, 0.08373439003370202, 0.7536095103033181, 0.21394741749603852, 0.21394741749603852, 0.21394741749603852, 0.21394741749603852, 0.041817688530519384, 0.3502231414430998, 0.0026136055331574615, 0.06795374386209399, 0.5331755287641221, 0.005227211066314923, 0.7636754649883021, 0.008361410200601847, 0.0027871367335339492, 0.220183801949182, 0.0027871367335339492, 0.9475772471457301, 0.02153584652603932, 0.007178615508679774, 0.014357231017359548, 0.014357231017359548, 0.8848692331012806, 0.024579700919480016, 0.008193233639826672, 0.06554586911861338, 0.016386467279653344, 0.008193233639826672, 0.018207735185097943, 0.6797554469103232, 0.2852545178998678, 0.006069245061699314, 0.012138490123398628, 0.09011562297388505, 0.09011562297388505, 0.09011562297388505, 0.7209249837910804, 0.012697712531176986, 0.7428161830738537, 0.05713970639029643, 0.050790850124707944, 0.13967483784294685, 0.8882526084401353, 0.03289824475704205, 0.024673683567781535, 0.024673683567781535, 0.016449122378521024, 0.008224561189260512, 0.11749487243274001, 0.11749487243274001, 0.11749487243274001, 0.7049692345964401, 0.9100709767568504, 0.01142348506389352, 0.06854091038336112, 0.007615656709262347, 0.0038078283546311735, 0.0038078283546311735, 0.5788235074203189, 0.4020280428107654, 0.007265567038748772, 0.007265567038748772, 0.002421855679582924, 0.1051387049998268, 0.1051387049998268, 0.1051387049998268, 0.7359709349987876, 0.029918848272545515, 0.4188638758156372, 0.029918848272545515, 0.029918848272545515, 0.5086204206332737, 0.027022579924636858, 0.027022579924636858, 0.027022579924636858, 0.9187677174376531, 0.235388566998254, 0.24350541413612484, 0.008116847137870828, 0.2597391084118665, 0.024350541413612484, 0.235388566998254, 0.003756049372573241, 0.015024197490292964, 0.003756049372573241, 0.9728167874964694, 0.003756049372573241, 0.4039389455524027, 0.06732315759206711, 0.06732315759206711, 0.06732315759206711, 0.13464631518413422, 0.3366157879603356, 0.03515656183304269, 0.7485417956952007, 0.0014648567430434456, 0.1801773793943438, 0.03369170508999925, 0.08266665832271829, 0.08266665832271829, 0.08266665832271829, 0.7439999249044645, 0.026852914537138905, 0.05370582907427781, 0.8324403506513061, 0.026852914537138905, 0.08055874361141672, 0.0623798844257494, 0.0623798844257494, 0.6861787286832434, 0.1247597688514988, 0.0623798844257494, 0.11189705199372367, 0.11189705199372367, 0.671382311962342, 0.0313559821466897, 0.0313559821466897, 0.9093234822540012, 0.0313559821466897, 0.07362535981454553, 0.3497204591190912, 0.018406339953636382, 0.0920316997681819, 0.42334581893363676, 0.036812679907272765, 0.024141443181414386, 0.024141443181414386, 0.024141443181414386, 0.024141443181414386, 0.09656577272565754, 0.7966676249866748, 0.29186360020995517, 0.36482950026244393, 0.07296590005248879, 0.07296590005248879, 0.14593180010497758, 0.07191018726756626, 0.21573056180269878, 0.07191018726756626, 0.07191018726756626, 0.3595509363378313, 0.28764074907026504, 0.041199490823423765, 0.20599745411711884, 0.700391343998204, 0.041199490823423765, 0.9254241082880084, 0.028043154796606313, 0.028043154796606313, 0.028043154796606313, 0.5204033794503237, 0.13010084486258092, 0.13010084486258092, 0.13010084486258092, 0.13010084486258092, 0.26020168972516183, 0.01329595767633526, 0.03988787302900578, 0.8376453336091214, 0.09307170373434683, 0.01329595767633526, 0.04181314814911073, 0.20906574074555365, 0.6690103703857717, 0.04181314814911073, 0.6063228435517386, 0.3031614217758693, 0.07258794605901096, 0.012809637539825464, 0.004269879179941821, 0.2565363008576575, 0.5970299365414575, 0.004664296379230137, 0.06996444568845205, 0.06530014930922191, 0.004664296379230137, 0.5492909213529832, 0.024967769152408326, 0.024967769152408326, 0.024967769152408326, 0.1997421532192666, 0.17477438406685827, 0.5147300579304713, 0.04679364163004284, 0.04679364163004284, 0.09358728326008568, 0.14038092489012854, 0.18717456652017136, 0.09739413999668685, 0.09739413999668685, 0.6817589799768079, 0.21564011200835936, 0.21564011200835936, 0.21564011200835936, 0.21564011200835936, 0.21564011200835936, 0.08395488065024584, 0.08395488065024584, 0.08395488065024584, 0.7555939258522126, 0.18302184451554854, 0.13072988893967752, 0.008715325929311835, 0.06972260743449468, 0.6013574891225166, 0.022609358204156486, 0.926983686370416, 0.022609358204156486, 0.022609358204156486, 0.09878132860146557, 0.09878132860146557, 0.691469300210259, 0.09878132860146557, 0.05474333958887359, 0.08211500938331039, 0.8211500938331039, 0.06389033911482944, 0.06389033911482944, 0.8305744084927827, 0.05611350520771135, 0.05611350520771135, 0.8417025781156702, 0.037600381287119185, 0.037600381287119185, 0.9024091508908604, 0.048643629740903714, 0.10701598542998816, 0.8366704315435438, 0.009728725948180743, 0.44440840497331935, 0.10727099430390466, 0.0275839699638612, 0.30648855515401335, 0.11340076540698493, 0.968304877304126, 0.008965785900964128, 0.004482892950482064, 0.004482892950482064, 0.013448678851446193, 0.004482892950482064, 0.9612158229202308, 0.011176928173491056, 0.011176928173491056, 0.011176928173491056, 0.011176928173491056, 0.262105166290177, 0.20593977351371048, 0.0187217975921555, 0.0187217975921555, 0.5054885349881985, 0.2026669465197977, 0.05790484186279934, 0.6803818918878922, 0.02895242093139967, 0.014476210465699834, 0.09959148222699933, 0.19918296445399866, 0.09959148222699933, 0.09959148222699933, 0.597548893361996, 0.11755960108750199, 0.058779800543750996, 0.058779800543750996, 0.058779800543750996, 0.764137407068763, 0.3875137317969438, 0.02583424878646292, 0.02583424878646292, 0.02583424878646292, 0.5425192245157213, 0.39382320715777386, 0.5264371442619222, 0.012055812464013485, 0.012055812464013485, 0.056260458165396265, 0.006382002673669951, 0.8615703609454434, 0.006382002673669951, 0.12125805079972907, 0.006382002673669951, 0.039879735137591917, 0.8773541730270221, 0.039879735137591917, 0.9231365273512334, 0.023078413183780833, 0.023078413183780833, 0.023078413183780833, 0.04181967099639981, 0.04181967099639981, 0.04181967099639981, 0.7945737489315964, 0.04181967099639981, 0.054067508647215184, 0.054067508647215184, 0.054067508647215184, 0.865080138355443, 0.7501211663404947, 0.08078227945205328, 0.011540325636007612, 0.04616130254403045, 0.04616130254403045, 0.05770162818003806, 0.5716637338180666, 0.05196943034709696, 0.05196943034709696, 0.05196943034709696, 0.1559082910412909, 0.1559082910412909, 0.5124388580549774, 0.47810017169046853, 0.0026414374126545225, 0.0026414374126545225, 0.0026414374126545225, 0.9189117405207541, 0.06806753633487067, 0.006806753633487067, 0.006806753633487067, 0.006806753633487067, 0.06406724998831963, 0.8649078748423149, 0.032033624994159814, 0.032033624994159814, 0.04103442756333995, 0.2872409929433797, 0.04103442756333995, 0.04103442756333995, 0.6155164134500993, 0.02090873412036963, 0.9408930354166333, 0.02090873412036963, 0.02090873412036963, 0.9166894414711741, 0.03160998074038532, 0.03160998074038532, 0.03160998074038532, 0.721146068506136, 0.050964386466864735, 0.10702521158041595, 0.09938055361038624, 0.01783753526340266, 0.0025482193233432367, 0.9463946955387649, 0.015264430573205885, 0.015264430573205885, 0.015264430573205885, 0.004069847813157243, 0.22791147753680557, 0.7529218454340899, 0.004069847813157243, 0.012209543439471728, 0.8844229214072078, 0.10029538283999263, 0.009117762076362966, 0.009117762076362966, 0.009117762076362966, 0.8734787657247706, 0.02848300323015556, 0.009494334410051854, 0.06646034087036298, 0.009494334410051854, 0.009494334410051854, 0.2044571572223467, 0.01703809643519556, 0.01703809643519556, 0.6985619538430179, 0.051114289305586674, 0.01703809643519556, 0.6270413494808935, 0.2786850442137304, 0.07270044631662533, 0.012116741052770889, 0.006058370526385444, 0.003029185263192722, 0.01375229686931713, 0.22003674990907407, 0.756376327812442, 0.01375229686931713, 0.07333199957257965, 0.1466639991451593, 0.6599879961532169, 0.04210329053004722, 0.8841691011309917, 0.04210329053004722, 0.04210329053004722, 0.04210329053004722, 0.2584492677166478, 0.1292246338583239, 0.009230330989880279, 0.498437873453535, 0.09230330989880278, 0.009230330989880279, 0.21217216657840662, 0.21217216657840662, 0.21217216657840662, 0.21217216657840662, 0.00434410904974007, 0.2693347610838843, 0.5473577402672488, 0.00868821809948014, 0.16507614389012265, 0.943598869643875, 0.017803752257431603, 0.017803752257431603, 0.017803752257431603, 0.017803752257431603, 0.4478245640515781, 0.013994517626611816, 0.5177971521846372, 0.013994517626611816, 0.012517780767538853, 0.8386913114251031, 0.012517780767538853, 0.1376955884429274, 0.012517780767538853, 0.019007268699210364, 0.8553270914644663, 0.019007268699210364, 0.019007268699210364, 0.07602907479684146, 0.019007268699210364, 0.006434454586467733, 0.9844715517295631, 0.006434454586467733, 0.006434454586467733, 0.6616089641203001, 0.2637787373290086, 0.060539382337805245, 0.004324241595557518, 0.004324241595557518, 0.004324241595557518, 0.04061114422455157, 0.48733373069461877, 0.05685560191437219, 0.39798921340060534, 0.008122228844910312, 0.27530599067861267, 0.36379720196816673, 0.009832356809950453, 0.06882649766965317, 0.2458089202487613, 0.029497070429851356, 0.012302000671600765, 0.9595560523848596, 0.012302000671600765, 0.012302000671600765, 0.39304140525643144, 0.502219573383218, 0.09982003943020482, 0.0031193762321939005, 0.0031193762321939005], \"Term\": [\"abortion\", \"abortion\", \"abortion\", \"abortion\", \"abortion\", \"addiction\", \"addiction\", \"addiction\", \"addiction\", \"addiction\", \"affairs\", \"affairs\", \"affairs\", \"affairs\", \"affairs\", \"afford\", \"afford\", \"afford\", \"afford\", \"affordability\", \"affordability\", \"affordability\", \"affordability\", \"affordability\", \"affordable\", \"affordable\", \"affordable\", \"affordable\", \"affordable\", \"agenda\", \"agenda\", \"agenda\", \"agenda\", \"agenda\", \"agressiveness\", \"agressiveness\", \"agressiveness\", \"agressiveness\", \"allies\", \"allies\", \"allies\", \"allies\", \"allies\", \"allies\", \"america\", \"america\", \"america\", \"america\", \"america\", \"among\", \"among\", \"among\", \"among\", \"among\", \"answered\", \"answered\", \"answered\", \"answered\", \"answered\", \"back\", \"back\", \"back\", \"back\", \"back\", \"balances\", \"balances\", \"balances\", \"balances\", \"better\", \"better\", \"better\", \"better\", \"better\", \"biden\", \"biden\", \"biden\", \"biden\", \"biden\", \"big\", \"big\", \"big\", \"big\", \"big\", \"bills\", \"bills\", \"bills\", \"black\", \"black\", \"black\", \"black\", \"black\", \"black\", \"bridges\", \"bridges\", \"bridges\", \"bridges\", \"bridges\", \"brutality\", \"brutality\", \"brutality\", \"brutality\", \"brutality\", \"budget\", \"budget\", \"budget\", \"budget\", \"business\", \"business\", \"business\", \"business\", \"business\", \"businesses\", \"businesses\", \"businesses\", \"businesses\", \"businesses\", \"care\", \"care\", \"care\", \"care\", \"care\", \"censorship\", \"censorship\", \"censorship\", \"censorship\", \"change\", \"change\", \"change\", \"change\", \"change\", \"children\", \"children\", \"children\", \"children\", \"children\", \"china\", \"china\", \"china\", \"china\", \"china\", \"china\", \"chuck\", \"chuck\", \"chuck\", \"chuck\", \"chuck\", \"class\", \"class\", \"class\", \"class\", \"climate\", \"climate\", \"climate\", \"climate\", \"climate\", \"closing\", \"closing\", \"closing\", \"color\", \"color\", \"color\", \"color\", \"compromise\", \"compromise\", \"compromise\", \"compromise\", \"compromise\", \"congress\", \"congress\", \"congress\", \"congress\", \"congress\", \"congress\", \"control\", \"control\", \"control\", \"control\", \"control\", \"corona\", \"corona\", \"corona\", \"corona\", \"corona\", \"coronavirus\", \"coronavirus\", \"coronavirus\", \"coronavirus\", \"coronavirus\", \"corrupt\", \"corrupt\", \"corrupt\", \"corrupt\", \"corrupt\", \"corruption\", \"corruption\", \"corruption\", \"corruption\", \"corruption\", \"corvid\", \"corvid\", \"corvid\", \"corvid\", \"cost\", \"cost\", \"cost\", \"cost\", \"cost\", \"costs\", \"costs\", \"costs\", \"costs\", \"costs\", \"country\", \"country\", \"country\", \"country\", \"country\", \"country\", \"court\", \"court\", \"court\", \"court\", \"court\", \"covid\", \"covid\", \"covid\", \"covid\", \"covid\", \"covid\", \"crime\", \"crime\", \"crime\", \"crime\", \"crime\", \"crime\", \"cure\", \"cure\", \"cure\", \"cure\", \"cure\", \"de\", \"de\", \"de\", \"de\", \"deal\", \"deal\", \"deal\", \"deal\", \"deal\", \"deal\", \"deaths\", \"deaths\", \"deaths\", \"deaths\", \"debt\", \"debt\", \"debt\", \"debt\", \"debt\", \"deficit\", \"deficit\", \"deficit\", \"deficit\", \"deficit\", \"defund\", \"defund\", \"defund\", \"defund\", \"defunding\", \"defunding\", \"defunding\", \"defunding\", \"defunding\", \"democrat\", \"democrat\", \"democrat\", \"democrat\", \"democrats\", \"democrats\", \"democrats\", \"democrats\", \"democrats\", \"democrats\", \"devoting\", \"devoting\", \"devoting\", \"devoting\", \"discord\", \"discord\", \"discord\", \"discord\", \"discord\", \"discrimination\", \"discrimination\", \"discrimination\", \"discrimination\", \"discrimination\", \"disregard\", \"disregard\", \"disregard\", \"disregard\", \"disregard\", \"disregard\", \"disrespect\", \"disrespect\", \"disrespect\", \"disrespect\", \"disrespect\", \"divide\", \"divide\", \"divide\", \"divide\", \"divided\", \"divided\", \"divided\", \"divided\", \"division\", \"division\", \"division\", \"division\", \"division\", \"domestic\", \"domestic\", \"domestic\", \"domestic\", \"domestic\", \"domestic\", \"downs\", \"downs\", \"downs\", \"downs\", \"downturn\", \"downturn\", \"downturn\", \"downturn\", \"drug\", \"drug\", \"drug\", \"drug\", \"drug\", \"drugs\", \"drugs\", \"drugs\", \"drugs\", \"drugs\", \"due\", \"due\", \"due\", \"due\", \"due\", \"economia\", \"economia\", \"economia\", \"economia\", \"economic\", \"economic\", \"economic\", \"economic\", \"economic\", \"economy\", \"economy\", \"economy\", \"economy\", \"economy\", \"economy\", \"education\", \"education\", \"education\", \"education\", \"education\", \"el\", \"el\", \"el\", \"el\", \"elected\", \"elected\", \"elected\", \"elected\", \"elected\", \"election\", \"election\", \"election\", \"election\", \"election\", \"electoral\", \"electoral\", \"electoral\", \"electoral\", \"electoral\", \"en\", \"en\", \"en\", \"en\", \"enforcement\", \"enforcement\", \"enforcement\", \"enforcement\", \"enforcement\", \"enough\", \"enough\", \"enough\", \"enough\", \"enough\", \"environment\", \"environment\", \"environment\", \"environment\", \"environment\", \"environment\", \"environmental\", \"environmental\", \"environmental\", \"environmental\", \"environmental\", \"environmental\", \"equal\", \"equal\", \"equal\", \"equal\", \"equal\", \"equality\", \"equality\", \"equality\", \"equality\", \"equality\", \"es\", \"es\", \"es\", \"es\", \"este\", \"este\", \"este\", \"este\", \"existential\", \"existential\", \"existential\", \"existential\", \"expensive\", \"expensive\", \"expensive\", \"expensive\", \"expensive\", \"facts\", \"facts\", \"facts\", \"facts\", \"false\", \"false\", \"false\", \"false\", \"families\", \"families\", \"families\", \"finance\", \"finance\", \"finance\", \"finance\", \"food\", \"food\", \"food\", \"food\", \"food\", \"foreign\", \"foreign\", \"foreign\", \"foreign\", \"foreign\", \"foreign\", \"forest\", \"forest\", \"forest\", \"forest\", \"forest\", \"fraud\", \"fraud\", \"fraud\", \"fraud\", \"fraud\", \"funding\", \"funding\", \"funding\", \"funding\", \"funding\", \"gases\", \"gases\", \"gases\", \"gases\", \"gender\", \"gender\", \"gender\", \"gender\", \"gender\", \"get\", \"get\", \"get\", \"get\", \"get\", \"getting\", \"getting\", \"getting\", \"getting\", \"getting\", \"global\", \"global\", \"global\", \"global\", \"god\", \"god\", \"god\", \"god\", \"going\", \"going\", \"going\", \"going\", \"going\", \"government\", \"government\", \"government\", \"government\", \"government\", \"green\", \"green\", \"green\", \"green\", \"green\", \"green\", \"gun\", \"gun\", \"gun\", \"gun\", \"gun\", \"handeling\", \"handeling\", \"handeling\", \"handeling\", \"handled\", \"handled\", \"handled\", \"handled\", \"handling\", \"handling\", \"handling\", \"handling\", \"handling\", \"hate\", \"hate\", \"hate\", \"hate\", \"hate\", \"hay\", \"hay\", \"hay\", \"hay\", \"health\", \"health\", \"health\", \"health\", \"health\", \"healthcare\", \"healthcare\", \"healthcare\", \"healthcare\", \"healthcare\", \"help\", \"help\", \"help\", \"help\", \"high\", \"high\", \"high\", \"high\", \"high\", \"higher\", \"higher\", \"higher\", \"higher\", \"higher\", \"homeless\", \"homeless\", \"homeless\", \"homeless\", \"homeless\", \"homelessness\", \"homelessness\", \"homelessness\", \"homelessness\", \"homelessness\", \"housing\", \"housing\", \"housing\", \"housing\", \"housing\", \"ice\", \"ice\", \"ice\", \"ice\", \"ice\", \"ice\", \"idk\", \"idk\", \"idk\", \"idk\", \"idk\", \"illegal\", \"illegal\", \"illegal\", \"illegal\", \"illegal\", \"immigration\", \"immigration\", \"immigration\", \"immigration\", \"immigration\", \"immigration\", \"income\", \"income\", \"income\", \"income\", \"income\", \"inequality\", \"inequality\", \"inequality\", \"inequality\", \"inequality\", \"influence\", \"influence\", \"influence\", \"influence\", \"influence\", \"injustice\", \"injustice\", \"injustice\", \"injustice\", \"injustice\", \"inner\", \"inner\", \"inner\", \"inner\", \"inner\", \"insurance\", \"insurance\", \"insurance\", \"insurance\", \"insurance\", \"international\", \"international\", \"international\", \"international\", \"international\", \"international\", \"investigation\", \"investigation\", \"investigation\", \"investigation\", \"iran\", \"iran\", \"iran\", \"iran\", \"iran\", \"israel\", \"israel\", \"israel\", \"israel\", \"israel\", \"issue\", \"issue\", \"issue\", \"issue\", \"issue\", \"issue\", \"issues\", \"issues\", \"issues\", \"issues\", \"issues\", \"issues\", \"job\", \"job\", \"job\", \"job\", \"job\", \"jobs\", \"jobs\", \"jobs\", \"jobs\", \"jobs\", \"jobs\", \"joe\", \"joe\", \"joe\", \"joe\", \"joe\", \"justice\", \"justice\", \"justice\", \"justice\", \"justice\", \"la\", \"la\", \"la\", \"la\", \"lack\", \"lack\", \"lack\", \"lack\", \"lack\", \"las\", \"las\", \"las\", \"las\", \"law\", \"law\", \"law\", \"law\", \"law\", \"left\", \"left\", \"left\", \"left\", \"left\", \"liberal\", \"liberal\", \"liberal\", \"liberal\", \"liberal\", \"like\", \"like\", \"like\", \"like\", \"like\", \"like\", \"limits\", \"limits\", \"limits\", \"limits\", \"limits\", \"lives\", \"lives\", \"lives\", \"lives\", \"lives\", \"lives\", \"living\", \"living\", \"living\", \"living\", \"living\", \"loans\", \"loans\", \"loans\", \"lockdowns\", \"lockdowns\", \"lockdowns\", \"lockdowns\", \"longer\", \"longer\", \"longer\", \"longer\", \"looting\", \"looting\", \"looting\", \"looting\", \"looting\", \"looting\", \"los\", \"los\", \"los\", \"los\", \"los\", \"loss\", \"loss\", \"loss\", \"loss\", \"loss\", \"low\", \"low\", \"low\", \"low\", \"low\", \"many\", \"many\", \"many\", \"many\", \"many\", \"mas\", \"mas\", \"mas\", \"mas\", \"mask\", \"mask\", \"mask\", \"mask\", \"matter\", \"matter\", \"matter\", \"matter\", \"matter\", \"media\", \"media\", \"media\", \"media\", \"media\", \"medicare\", \"medicare\", \"medicare\", \"medicare\", \"medicare\", \"middle\", \"middle\", \"middle\", \"middle\", \"middle\", \"minimum\", \"minimum\", \"minimum\", \"minimum\", \"moment\", \"moment\", \"moment\", \"moment\", \"money\", \"money\", \"money\", \"money\", \"money\", \"movement\", \"movement\", \"movement\", \"movement\", \"movement\", \"movement\", \"much\", \"much\", \"much\", \"much\", \"much\", \"much\", \"nana\", \"nana\", \"nana\", \"nana\", \"nancy\", \"nancy\", \"nancy\", \"nancy\", \"nation\", \"nation\", \"nation\", \"nation\", \"nation\", \"national\", \"national\", \"national\", \"national\", \"national\", \"need\", \"need\", \"need\", \"need\", \"need\", \"need\", \"new\", \"new\", \"new\", \"new\", \"new\", \"new\", \"news\", \"news\", \"news\", \"news\", \"none\", \"none\", \"none\", \"none\", \"none\", \"nope\", \"nope\", \"nope\", \"nope\", \"officers\", \"officers\", \"officers\", \"officers\", \"officers\", \"one\", \"one\", \"one\", \"one\", \"one\", \"opinions\", \"opinions\", \"opinions\", \"opinions\", \"opportunities\", \"opportunities\", \"opportunities\", \"opportunities\", \"opportunities\", \"pais\", \"pais\", \"pais\", \"pais\", \"pandemia\", \"pandemia\", \"pandemia\", \"pandemia\", \"pandemic\", \"pandemic\", \"pandemic\", \"pandemic\", \"pandemic\", \"pandimic\", \"pandimic\", \"pandimic\", \"pandimic\", \"para\", \"para\", \"para\", \"para\", \"parents\", \"parents\", \"parents\", \"parties\", \"parties\", \"parties\", \"parties\", \"parties\", \"party\", \"party\", \"party\", \"party\", \"pay\", \"pay\", \"pay\", \"pay\", \"pay\", \"paying\", \"paying\", \"paying\", \"paying\", \"paying\", \"peaple\", \"peaple\", \"peaple\", \"peaple\", \"pelosi\", \"pelosi\", \"pelosi\", \"pelosi\", \"people\", \"people\", \"people\", \"people\", \"people\", \"personas\", \"personas\", \"personas\", \"personas\", \"platform\", \"platform\", \"platform\", \"platform\", \"police\", \"police\", \"police\", \"police\", \"police\", \"police\", \"political\", \"political\", \"political\", \"political\", \"political\", \"politicians\", \"politicians\", \"politicians\", \"politicians\", \"politicians\", \"politics\", \"politics\", \"politics\", \"politics\", \"politics\", \"politics\", \"poor\", \"poor\", \"poor\", \"poor\", \"poor\", \"por\", \"por\", \"por\", \"por\", \"poverty\", \"poverty\", \"poverty\", \"poverty\", \"poverty\", \"power\", \"power\", \"power\", \"power\", \"power\", \"power\", \"prescription\", \"prescription\", \"prescription\", \"prescription\", \"president\", \"president\", \"president\", \"president\", \"president\", \"president\", \"problem\", \"problem\", \"problem\", \"problem\", \"problem\", \"problema\", \"problema\", \"problema\", \"problema\", \"quality\", \"quality\", \"quality\", \"quality\", \"quality\", \"que\", \"que\", \"que\", \"que\", \"race\", \"race\", \"race\", \"race\", \"race\", \"race\", \"racial\", \"racial\", \"racial\", \"racial\", \"racial\", \"racisim\", \"racisim\", \"racisim\", \"racisim\", \"racisim\", \"racisim\", \"racism\", \"racism\", \"racism\", \"racism\", \"racism\", \"racismo\", \"racismo\", \"racismo\", \"racismo\", \"rate\", \"rate\", \"rate\", \"rate\", \"rate\", \"recession\", \"recession\", \"recession\", \"recession\", \"recession\", \"recovering\", \"recovering\", \"recovering\", \"recovery\", \"recovery\", \"recovery\", \"recovery\", \"reform\", \"reform\", \"reform\", \"reform\", \"reform\", \"reform\", \"relations\", \"relations\", \"relations\", \"relations\", \"relations\", \"relations\", \"relationship\", \"relationship\", \"relationship\", \"relationship\", \"relationship\", \"relationships\", \"relationships\", \"relationships\", \"relationships\", \"relationships\", \"relationships\", \"relief\", \"relief\", \"relief\", \"relief\", \"reporting\", \"reporting\", \"reporting\", \"reporting\", \"respected\", \"respected\", \"respected\", \"respected\", \"respected\", \"respected\", \"response\", \"response\", \"response\", \"response\", \"response\", \"richer\", \"richer\", \"richer\", \"richer\", \"right\", \"right\", \"right\", \"right\", \"right\", \"rights\", \"rights\", \"rights\", \"rights\", \"rights\", \"rights\", \"rioting\", \"rioting\", \"rioting\", \"rioting\", \"rioting\", \"rioting\", \"russia\", \"russia\", \"russia\", \"russia\", \"russia\", \"russia\", \"safely\", \"safely\", \"safely\", \"schumer\", \"schumer\", \"schumer\", \"schumer\", \"schumer\", \"se\", \"se\", \"se\", \"se\", \"security\", \"security\", \"security\", \"security\", \"security\", \"seriously\", \"seriously\", \"seriously\", \"seriously\", \"shrinking\", \"shrinking\", \"shrinking\", \"shrinking\", \"shut\", \"shut\", \"shut\", \"shutdown\", \"shutdown\", \"shutdown\", \"shutdowns\", \"shutdowns\", \"shutdowns\", \"shutting\", \"shutting\", \"shutting\", \"small\", \"small\", \"small\", \"small\", \"social\", \"social\", \"social\", \"social\", \"social\", \"socialism\", \"socialism\", \"socialism\", \"socialism\", \"socialism\", \"socialism\", \"socialist\", \"socialist\", \"socialist\", \"socialist\", \"socialist\", \"spending\", \"spending\", \"spending\", \"spending\", \"spending\", \"spread\", \"spread\", \"spread\", \"spread\", \"spread\", \"strategy\", \"strategy\", \"strategy\", \"strategy\", \"strategy\", \"supremacy\", \"supremacy\", \"supremacy\", \"supremacy\", \"supremacy\", \"supreme\", \"supreme\", \"supreme\", \"supreme\", \"supreme\", \"system\", \"system\", \"system\", \"system\", \"system\", \"systemic\", \"systemic\", \"systemic\", \"systemic\", \"systemic\", \"teachers\", \"teachers\", \"teachers\", \"tech\", \"tech\", \"tech\", \"tech\", \"tension\", \"tension\", \"tension\", \"tension\", \"tension\", \"tensions\", \"tensions\", \"tensions\", \"tensions\", \"term\", \"term\", \"term\", \"term\", \"term\", \"term\", \"terrorism\", \"terrorism\", \"terrorism\", \"terrorism\", \"terrorism\", \"terrorism\", \"think\", \"think\", \"think\", \"think\", \"think\", \"together\", \"together\", \"together\", \"together\", \"together\", \"trafficking\", \"trafficking\", \"trafficking\", \"trafficking\", \"training\", \"training\", \"training\", \"training\", \"training\", \"treated\", \"treated\", \"treated\", \"treated\", \"true\", \"true\", \"true\", \"true\", \"trump\", \"trump\", \"trump\", \"trump\", \"trump\", \"trump\", \"truth\", \"truth\", \"truth\", \"truth\", \"unemployment\", \"unemployment\", \"unemployment\", \"unemployment\", \"unemployment\", \"united\", \"united\", \"united\", \"united\", \"united\", \"unity\", \"unity\", \"unity\", \"unity\", \"unity\", \"unity\", \"unrest\", \"unrest\", \"unrest\", \"unrest\", \"unrest\", \"unrest\", \"us\", \"us\", \"us\", \"us\", \"us\", \"us\", \"vaccine\", \"vaccine\", \"vaccine\", \"vaccine\", \"vaccines\", \"vaccines\", \"vaccines\", \"veterans\", \"veterans\", \"veterans\", \"veterans\", \"veterans\", \"violence\", \"violence\", \"violence\", \"violence\", \"violence\", \"violence\", \"virius\", \"virius\", \"virius\", \"virius\", \"virus\", \"virus\", \"virus\", \"virus\", \"virus\", \"vote\", \"vote\", \"vote\", \"vote\", \"vote\", \"voter\", \"voter\", \"voter\", \"voter\", \"wage\", \"wage\", \"wage\", \"wage\", \"wage\", \"wages\", \"wages\", \"wages\", \"wages\", \"wages\", \"wages\", \"warming\", \"warming\", \"warming\", \"warming\", \"way\", \"way\", \"way\", \"way\", \"way\", \"way\", \"wealth\", \"wealth\", \"wealth\", \"wealth\", \"wealth\", \"white\", \"white\", \"white\", \"white\", \"white\", \"white\", \"women\", \"women\", \"women\", \"women\", \"work\", \"work\", \"work\", \"work\", \"work\"]}, \"R\": 30, \"lambda.step\": 0.01, \"plot.opts\": {\"xlab\": \"PC1\", \"ylab\": \"PC2\"}, \"topic.order\": [3, 4, 1, 2, 5, 6]};\n",
       "\n",
       "function LDAvis_load_lib(url, callback){\n",
       "  var s = document.createElement('script');\n",
       "  s.src = url;\n",
       "  s.async = true;\n",
       "  s.onreadystatechange = s.onload = callback;\n",
       "  s.onerror = function(){console.warn(\"failed to load library \" + url);};\n",
       "  document.getElementsByTagName(\"head\")[0].appendChild(s);\n",
       "}\n",
       "\n",
       "if(typeof(LDAvis) !== \"undefined\"){\n",
       "   // already loaded: just create the visualization\n",
       "   !function(LDAvis){\n",
       "       new LDAvis(\"#\" + \"ldavis_el23566851407164061628168112026517\", ldavis_el23566851407164061628168112026517_data);\n",
       "   }(LDAvis);\n",
       "}else if(typeof define === \"function\" && define.amd){\n",
       "   // require.js is available: use it to load d3/LDAvis\n",
       "   require.config({paths: {d3: \"https://d3js.org/d3.v5\"}});\n",
       "   require([\"d3\"], function(d3){\n",
       "      window.d3 = d3;\n",
       "      LDAvis_load_lib(\"https://cdn.jsdelivr.net/gh/bmabey/pyLDAvis@3.4.0/pyLDAvis/js/ldavis.v3.0.0.js\", function(){\n",
       "        new LDAvis(\"#\" + \"ldavis_el23566851407164061628168112026517\", ldavis_el23566851407164061628168112026517_data);\n",
       "      });\n",
       "    });\n",
       "}else{\n",
       "    // require.js not available: dynamically load d3 & LDAvis\n",
       "    LDAvis_load_lib(\"https://d3js.org/d3.v5.js\", function(){\n",
       "         LDAvis_load_lib(\"https://cdn.jsdelivr.net/gh/bmabey/pyLDAvis@3.4.0/pyLDAvis/js/ldavis.v3.0.0.js\", function(){\n",
       "                 new LDAvis(\"#\" + \"ldavis_el23566851407164061628168112026517\", ldavis_el23566851407164061628168112026517_data);\n",
       "            })\n",
       "         });\n",
       "}\n",
       "</script>"
      ],
      "text/plain": [
       "PreparedData(topic_coordinates=              x         y  topics  cluster       Freq\n",
       "topic                                                \n",
       "2      0.131539 -0.059269       1        1  36.270971\n",
       "3      0.102459  0.027870       2        1  28.670201\n",
       "0     -0.017981  0.143243       3        1  13.387043\n",
       "1     -0.070842 -0.050225       4        1  10.654798\n",
       "4     -0.060381 -0.051884       5        1   8.226641\n",
       "5     -0.084794 -0.009735       6        1   2.790346, topic_info=             Term         Freq        Total Category  logprob  loglift\n",
       "14          covid  1407.000000  1407.000000  Default  30.0000  30.0000\n",
       "46        economy   757.000000   757.000000  Default  29.0000  29.0000\n",
       "15       pandemic   643.000000   643.000000  Default  28.0000  28.0000\n",
       "98         health   417.000000   417.000000  Default  27.0000  27.0000\n",
       "102       climate   350.000000   350.000000  Default  26.0000  26.0000\n",
       "...           ...          ...          ...      ...      ...      ...\n",
       "1932       limits     4.377660    57.062666   Topic6  -6.6082   1.0114\n",
       "46        economy     9.627404   757.698489   Topic6  -5.8201  -0.7867\n",
       "776          term     4.758981    86.652667   Topic6  -6.5246   0.6771\n",
       "99    immigration     3.547703   413.080398   Topic6  -6.8184  -1.1783\n",
       "125         white     3.164120   101.705015   Topic6  -6.9328   0.1088\n",
       "\n",
       "[362 rows x 6 columns], token_table=      Topic      Freq      Term\n",
       "term                           \n",
       "449       1  0.288039  abortion\n",
       "449       2  0.014402  abortion\n",
       "449       3  0.014402  abortion\n",
       "449       4  0.057608  abortion\n",
       "449       5  0.619283  abortion\n",
       "...     ...       ...       ...\n",
       "88        1  0.393041      work\n",
       "88        2  0.502220      work\n",
       "88        3  0.099820      work\n",
       "88        4  0.003119      work\n",
       "88        5  0.003119      work\n",
       "\n",
       "[1407 rows x 3 columns], R=30, lambda_step=0.01, plot_opts={'xlab': 'PC1', 'ylab': 'PC2'}, topic_order=[3, 4, 1, 2, 5, 6])"
      ]
     },
     "execution_count": 42,
     "metadata": {},
     "output_type": "execute_result"
    }
   ],
   "source": [
    "# # this is a bit time consuming - make the if statement True\n",
    "# # if you want to execute visualization prep yourself\n",
    "if 1 == 1:\n",
    "    LDAvis_prepared = pyLDAvis.gensim.prepare(lda_model, corpus, id2word)\n",
    "    with open(LDAvis_data_filepath, 'wb') as f:\n",
    "        pickle.dump(LDAvis_prepared, f)\n",
    "# load the pre-prepared pyLDAvis data from disk\n",
    "with open(LDAvis_data_filepath, 'rb') as f:\n",
    "    LDAvis_prepared = pickle.load(f)\n",
    "pyLDAvis.save_html(LDAvis_prepared, '/mnt/home/kim/thesis/data/processed_data/ldavis_'+ str(num_topics) +'.html')\n",
    "\n",
    "LDAvis_prepared"
   ]
  },
  {
   "cell_type": "code",
   "execution_count": null,
   "id": "9e322f58",
   "metadata": {},
   "outputs": [],
   "source": [
    "\n",
    "\n",
    "\n",
    "\n"
   ]
  },
  {
   "cell_type": "markdown",
   "id": "46f17468",
   "metadata": {},
   "source": [
    "### 3. Dataset: responses stacked\n",
    "### * with tf-idf"
   ]
  },
  {
   "cell_type": "code",
   "execution_count": 43,
   "id": "a2607fc3",
   "metadata": {},
   "outputs": [],
   "source": [
    "data = pd.read_json('~/thesis/data/processed_uscensus/political_mentions_stack.jsonl', orient='records', lines = True)"
   ]
  },
  {
   "cell_type": "code",
   "execution_count": 44,
   "id": "24e92726",
   "metadata": {},
   "outputs": [
    {
     "data": {
      "text/html": [
       "<div>\n",
       "<style scoped>\n",
       "    .dataframe tbody tr th:only-of-type {\n",
       "        vertical-align: middle;\n",
       "    }\n",
       "\n",
       "    .dataframe tbody tr th {\n",
       "        vertical-align: top;\n",
       "    }\n",
       "\n",
       "    .dataframe thead th {\n",
       "        text-align: right;\n",
       "    }\n",
       "</style>\n",
       "<table border=\"1\" class=\"dataframe\">\n",
       "  <thead>\n",
       "    <tr style=\"text-align: right;\">\n",
       "      <th></th>\n",
       "      <th>stack</th>\n",
       "    </tr>\n",
       "  </thead>\n",
       "  <tbody>\n",
       "    <tr>\n",
       "      <th>0</th>\n",
       "      <td>racim blacks whites false information</td>\n",
       "    </tr>\n",
       "    <tr>\n",
       "      <th>1</th>\n",
       "      <td>coming together country</td>\n",
       "    </tr>\n",
       "    <tr>\n",
       "      <th>2</th>\n",
       "      <td>severe political polarization allow compromise...</td>\n",
       "    </tr>\n",
       "    <tr>\n",
       "      <th>3</th>\n",
       "      <td>pandemic covid 19</td>\n",
       "    </tr>\n",
       "    <tr>\n",
       "      <th>4</th>\n",
       "      <td>globalism fake covid law order blm public educ...</td>\n",
       "    </tr>\n",
       "  </tbody>\n",
       "</table>\n",
       "</div>"
      ],
      "text/plain": [
       "                                               stack\n",
       "0              racim blacks whites false information\n",
       "1                            coming together country\n",
       "2  severe political polarization allow compromise...\n",
       "3                                  pandemic covid 19\n",
       "4  globalism fake covid law order blm public educ..."
      ]
     },
     "execution_count": 44,
     "metadata": {},
     "output_type": "execute_result"
    }
   ],
   "source": [
    "data.head()"
   ]
  },
  {
   "cell_type": "code",
   "execution_count": 45,
   "id": "c7accb0a",
   "metadata": {},
   "outputs": [
    {
     "name": "stderr",
     "output_type": "stream",
     "text": [
      "[nltk_data] Downloading package stopwords to\n",
      "[nltk_data]     /mnt/home/kim/nltk_data...\n",
      "[nltk_data]   Package stopwords is already up-to-date!\n"
     ]
    }
   ],
   "source": [
    "# Tokenising and removing the stopwords\n",
    "import gensim\n",
    "from gensim.utils import simple_preprocess\n",
    "import nltk\n",
    "nltk.download('stopwords')\n",
    "from nltk.corpus import stopwords\n",
    "stop_words = stopwords.words('english')\n",
    "stop_words.extend(['from', 'subject', 're', 'edu', 'use'])\n",
    "\n",
    "def sent_to_words(sentences):\n",
    "    for sentence in sentences:\n",
    "        # deacc=True removes punctuations\n",
    "        yield(gensim.utils.simple_preprocess(str(sentence), deacc=True))\n",
    "def remove_stopwords(texts):\n",
    "    return [[word for word in simple_preprocess(str(doc)) \n",
    "             if word not in stop_words] for doc in texts]"
   ]
  },
  {
   "cell_type": "code",
   "execution_count": 46,
   "id": "a1a40f3a",
   "metadata": {
    "scrolled": true
   },
   "outputs": [
    {
     "name": "stdout",
     "output_type": "stream",
     "text": [
      "['racim', 'blacks', 'whites', 'false', 'information']\n"
     ]
    }
   ],
   "source": [
    "data = data['stack'].tolist()\n",
    "data_words = list(sent_to_words(data))\n",
    "\n",
    "# remove stop words\n",
    "data_words = remove_stopwords(data_words)\n",
    "print(data_words[:1][0][:30])"
   ]
  },
  {
   "cell_type": "code",
   "execution_count": 47,
   "id": "c64db920",
   "metadata": {
    "scrolled": true
   },
   "outputs": [
    {
     "data": {
      "text/plain": [
       "[['racim', 'blacks', 'whites', 'false', 'information']]"
      ]
     },
     "execution_count": 47,
     "metadata": {},
     "output_type": "execute_result"
    }
   ],
   "source": [
    "data_words[:1]"
   ]
  },
  {
   "cell_type": "code",
   "execution_count": 48,
   "id": "178c89de",
   "metadata": {},
   "outputs": [],
   "source": [
    "# Step 1: Flatten the tokenized words back into strings\n",
    "data_words_strings = [' '.join(words) for words in data_words]\n"
   ]
  },
  {
   "cell_type": "code",
   "execution_count": 49,
   "id": "7ed19594",
   "metadata": {},
   "outputs": [],
   "source": [
    "# Step 2: Initialize the TF-IDF Vectorizer\n",
    "vectorizer = TfidfVectorizer(max_features=1000)\n",
    "\n",
    "# Step 3: Fit the vectorizer and transform the documents\n",
    "X_tfidf = vectorizer.fit_transform(data_words_strings)"
   ]
  },
  {
   "cell_type": "code",
   "execution_count": 50,
   "id": "c09a92d9",
   "metadata": {},
   "outputs": [
    {
     "name": "stdout",
     "output_type": "stream",
     "text": [
      "[(94, 0.5983382896851441), (325, 0.581845018098146), (468, 0.5508608408763729)]\n"
     ]
    }
   ],
   "source": [
    "# Step 4: Get the feature names (i.e., words) and create a mapping for Gensim\n",
    "feature_names = vectorizer.get_feature_names_out()\n",
    "id2word = gensim.corpora.Dictionary([feature_names])\n",
    "\n",
    "# Step 5: Convert the TF-IDF matrix to a Gensim-compatible corpus format\n",
    "corpus = []\n",
    "for doc in X_tfidf:\n",
    "    doc_tuples = list(enumerate(doc.toarray()[0]))\n",
    "    doc_tuples = [(i, val) for i, val in doc_tuples if val > 0]\n",
    "    corpus.append(doc_tuples)\n",
    "\n",
    "# View the first document's first 30 tokens\n",
    "print(corpus[:1][0][:30])\n"
   ]
  },
  {
   "cell_type": "code",
   "execution_count": 51,
   "id": "3f8d01f4",
   "metadata": {},
   "outputs": [],
   "source": [
    "# Step 6: Build the LDA model using the TF-IDF-based corpus\n",
    "num_topics = 6  # number of topics based on the clustering result from the previous analysis\n",
    "\n",
    "lda_model = gensim.models.LdaMulticore(corpus=corpus,\n",
    "                                       id2word=id2word,\n",
    "                                       num_topics=num_topics,\n",
    "                                       random_state=0,\n",
    "                                       chunksize=100,\n",
    "                                       passes=10,\n",
    "                                       alpha=0.01,\n",
    "                                       eta=0.9)"
   ]
  },
  {
   "cell_type": "code",
   "execution_count": 52,
   "id": "19f2e523",
   "metadata": {
    "scrolled": false
   },
   "outputs": [
    {
     "name": "stdout",
     "output_type": "stream",
     "text": [
      "[(0,\n",
      "  '0.056*\"racism\" + 0.023*\"debt\" + 0.021*\"national\" + 0.019*\"systemic\" + '\n",
      "  '0.018*\"socialism\" + 0.017*\"people\" + 0.014*\"rights\" + 0.014*\"security\" + '\n",
      "  '0.014*\"abortion\" + 0.014*\"law\"'),\n",
      " (1,\n",
      "  '0.030*\"climate\" + 0.030*\"inequality\" + 0.030*\"racial\" + 0.027*\"change\" + '\n",
      "  '0.027*\"police\" + 0.019*\"education\" + 0.018*\"healthcare\" + 0.017*\"income\" + '\n",
      "  '0.016*\"economic\" + 0.014*\"brutality\"'),\n",
      " (2,\n",
      "  '0.022*\"media\" + 0.017*\"election\" + 0.017*\"political\" + 0.017*\"government\" + '\n",
      "  '0.014*\"corruption\" + 0.014*\"division\" + 0.012*\"trump\" + 0.010*\"democrats\" + '\n",
      "  '0.009*\"party\" + 0.009*\"president\"'),\n",
      " (3,\n",
      "  '0.036*\"immigration\" + 0.025*\"country\" + 0.021*\"global\" + 0.020*\"warming\" + '\n",
      "  '0.016*\"illegal\" + 0.015*\"divided\" + 0.013*\"problem\" + 0.012*\"environment\" + '\n",
      "  '0.010*\"divide\" + 0.009*\"covid\"'),\n",
      " (4,\n",
      "  '0.023*\"people\" + 0.015*\"need\" + 0.012*\"get\" + 0.012*\"think\" + 0.011*\"covid\" '\n",
      "  '+ 0.011*\"country\" + 0.011*\"work\" + 0.010*\"back\" + 0.009*\"getting\" + '\n",
      "  '0.009*\"many\"'),\n",
      " (5,\n",
      "  '0.082*\"covid\" + 0.056*\"economy\" + 0.047*\"pandemic\" + 0.034*\"health\" + '\n",
      "  '0.027*\"care\" + 0.026*\"virus\" + 0.025*\"unemployment\" + 0.021*\"jobs\" + '\n",
      "  '0.016*\"corona\" + 0.014*\"people\"')]\n"
     ]
    }
   ],
   "source": [
    "from pprint import pprint\n",
    "\n",
    "# Print the Keyword in the 10 topics\n",
    "pprint(lda_model.print_topics())\n",
    "doc_lda = lda_model[corpus]"
   ]
  },
  {
   "cell_type": "markdown",
   "id": "b9c5dadb",
   "metadata": {},
   "source": [
    "### Visualize the result of topic modelling"
   ]
  },
  {
   "cell_type": "code",
   "execution_count": 53,
   "id": "1304013d",
   "metadata": {
    "scrolled": false
   },
   "outputs": [],
   "source": [
    "import pyLDAvis.gensim\n",
    "import pickle \n",
    "import pyLDAvis\n",
    "\n",
    "# Visualize the topics\n",
    "pyLDAvis.enable_notebook()\n",
    "LDAvis_data_filepath = os.path.join('/mnt/home/kim/thesis/data/processed_data/ldavis_'+str(num_topics))"
   ]
  },
  {
   "cell_type": "code",
   "execution_count": 61,
   "id": "cd09c97c",
   "metadata": {
    "scrolled": true
   },
   "outputs": [
    {
     "data": {
      "text/html": [
       "\n",
       "<link rel=\"stylesheet\" type=\"text/css\" href=\"https://cdn.jsdelivr.net/gh/bmabey/pyLDAvis@3.4.0/pyLDAvis/js/ldavis.v1.0.0.css\">\n",
       "\n",
       "\n",
       "<div id=\"ldavis_el23566851407143659125603292053683\" style=\"background-color:white;\"></div>\n",
       "<script type=\"text/javascript\">\n",
       "\n",
       "var ldavis_el23566851407143659125603292053683_data = {\"mdsDat\": {\"x\": [-0.01211774758022514, 0.1742931761933637, -0.13627959198281916, 0.09562229875677913, -0.06266273466567764, -0.05885540072142089], \"y\": [-0.06537651715471844, -0.11386572473699304, -0.06223683967977853, 0.16042248547699234, -0.0007467651290979126, 0.08180336122359565], \"topics\": [1, 2, 3, 4, 5, 6], \"cluster\": [1, 1, 1, 1, 1, 1], \"Freq\": [25.514580176828833, 17.24503399426191, 16.85362106545889, 15.517848824551683, 13.748146801878972, 11.120769137019714]}, \"tinfo\": {\"Term\": [\"covid\", \"racism\", \"economy\", \"pandemic\", \"inequality\", \"health\", \"immigration\", \"racial\", \"climate\", \"virus\", \"unemployment\", \"change\", \"care\", \"police\", \"global\", \"warming\", \"debt\", \"media\", \"corona\", \"national\", \"systemic\", \"jobs\", \"election\", \"income\", \"socialism\", \"illegal\", \"healthcare\", \"divided\", \"country\", \"brutality\", \"none\", \"back\", \"god\", \"know\", \"moment\", \"kids\", \"get\", \"raise\", \"work\", \"dont\", \"trade\", \"want\", \"come\", \"together\", \"could\", \"cant\", \"rid\", \"else\", \"masks\", \"anything\", \"mask\", \"understand\", \"nothing\", \"would\", \"something\", \"wear\", \"bring\", \"really\", \"think\", \"seriously\", \"time\", \"better\", \"see\", \"things\", \"countries\", \"getting\", \"need\", \"people\", \"feel\", \"children\", \"many\", \"america\", \"working\", \"world\", \"make\", \"china\", \"way\", \"country\", \"help\", \"money\", \"one\", \"covid\", \"going\", \"like\", \"economy\", \"control\", \"us\", \"pandemic\", \"corona\", \"insurance\", \"unemployment\", \"health\", \"virus\", \"response\", \"affordable\", \"cure\", \"businesses\", \"care\", \"recession\", \"small\", \"closing\", \"expensive\", \"coverage\", \"economy\", \"unemployed\", \"pandemic\", \"shutdown\", \"coronavirus\", \"lockdowns\", \"jobs\", \"shutdowns\", \"deaths\", \"covid\", \"relief\", \"rates\", \"shutting\", \"business\", \"struggling\", \"due\", \"high\", \"medical\", \"infrastructure\", \"handling\", \"losing\", \"stimulus\", \"shut\", \"healthcare\", \"taxes\", \"people\", \"job\", \"control\", \"food\", \"lack\", \"cost\", \"economic\", \"need\", \"many\", \"fraud\", \"voter\", \"la\", \"el\", \"voting\", \"election\", \"democrat\", \"deficit\", \"corruption\", \"joe\", \"de\", \"tech\", \"que\", \"integrity\", \"socialist\", \"news\", \"media\", \"polarization\", \"presidential\", \"reporting\", \"censorship\", \"influence\", \"fake\", \"party\", \"en\", \"agenda\", \"las\", \"democrats\", \"democratic\", \"republican\", \"biden\", \"corrupt\", \"spending\", \"political\", \"donald\", \"politicians\", \"government\", \"federal\", \"president\", \"parties\", \"trump\", \"power\", \"division\", \"politics\", \"leadership\", \"people\", \"country\", \"lack\", \"social\", \"much\", \"covid\", \"inequality\", \"injustice\", \"brutality\", \"gap\", \"disparity\", \"wealth\", \"racial\", \"recovery\", \"tensions\", \"income\", \"class\", \"relations\", \"systematic\", \"climate\", \"gender\", \"supremacy\", \"sexism\", \"defunding\", \"wage\", \"change\", \"homelessness\", \"justice\", \"discrimination\", \"inequity\", \"women\", \"middle\", \"police\", \"tension\", \"disparities\", \"inequalities\", \"black\", \"poor\", \"economic\", \"education\", \"poverty\", \"race\", \"healthcare\", \"equality\", \"matter\", \"rich\", \"lives\", \"lack\", \"racism\", \"social\", \"covid\", \"warming\", \"global\", \"illegal\", \"divided\", \"environmental\", \"limits\", \"immigration\", \"gun\", \"already\", \"environment\", \"hatred\", \"theories\", \"rioting\", \"relationships\", \"conspiracy\", \"protection\", \"immigrants\", \"unrest\", \"biggest\", \"senate\", \"divisiveness\", \"aliens\", \"looting\", \"divide\", \"split\", \"term\", \"freedom\", \"fighting\", \"crimes\", \"pollution\", \"unity\", \"violence\", \"congress\", \"problem\", \"administration\", \"country\", \"united\", \"hate\", \"nation\", \"facing\", \"division\", \"control\", \"issues\", \"political\", \"covid\", \"climate\", \"people\", \"change\", \"lack\", \"need\", \"us\", \"trump\", \"enforcement\", \"abortion\", \"systemic\", \"trafficking\", \"law\", \"dividing\", \"debt\", \"treated\", \"national\", \"illegals\", \"border\", \"security\", \"drug\", \"racist\", \"human\", \"color\", \"socialism\", \"babies\", \"sex\", \"racism\", \"fairly\", \"blacks\", \"protecting\", \"supreme\", \"towards\", \"rights\", \"order\", \"peace\", \"skin\", \"respect\", \"homeless\", \"sure\", \"court\", \"among\", \"student\", \"equal\", \"people\", \"country\", \"lack\", \"police\", \"social\", \"division\", \"us\"], \"Freq\": [695.0, 328.0, 435.0, 376.0, 164.0, 230.0, 218.0, 179.0, 205.0, 181.0, 170.0, 187.0, 196.0, 197.0, 105.0, 95.0, 113.0, 152.0, 100.0, 108.0, 87.0, 176.0, 109.0, 105.0, 103.0, 88.0, 175.0, 88.0, 308.0, 79.0, 54.00413538697715, 82.47326790471878, 30.951591519977534, 47.398145591799924, 24.00641018563369, 27.54221090644239, 104.14756285937604, 18.588102835507655, 89.86513545979439, 44.710135273682546, 33.233197510847816, 42.924566446820776, 25.143190714140818, 43.875088109363126, 24.955440072361675, 31.96901419734815, 14.967741513031214, 13.702301240280555, 15.833969949068315, 25.359079878555963, 18.397193022989367, 14.638980565074547, 32.42605602584946, 36.23678155765283, 19.333205389813447, 13.616590234777131, 12.845281954674185, 25.540366158472864, 99.23160904148838, 18.05668927361567, 44.223034951821184, 46.663430217238584, 25.137036152282352, 26.629684142452373, 39.768647621088725, 79.33394015180045, 129.83523990626884, 192.42605661320493, 26.88629918124932, 36.52102010124511, 73.41039043373203, 42.73069478840651, 35.59937495625222, 48.255648323272055, 36.06827798107646, 44.35542808209749, 42.963889341567636, 90.65111977510809, 41.41193339653452, 45.333709403576954, 43.29989408451707, 93.26112758272048, 39.646140465455225, 38.15502766256507, 57.56414391954591, 45.97214604065891, 39.08198873883295, 41.4362043522444, 94.14981606199395, 47.79856705515693, 145.41297224819698, 195.0804498566115, 151.52962987737848, 46.08948149659012, 51.77475194510205, 22.40389368022792, 51.42641678610696, 155.15974155958688, 14.799873730007201, 37.58834847096851, 14.781750112289211, 18.743492390101867, 14.963445081469612, 321.7400536834165, 17.23906674099701, 271.10405549233496, 10.271040533000777, 70.5176855158777, 14.100455994804646, 119.85938879518288, 10.22787407402216, 13.917381982227353, 468.5826218052158, 11.821593449924777, 12.641286708936562, 11.65676442155398, 36.629851960033704, 16.593067598807817, 48.050939998974684, 46.31032582734928, 25.0518543895215, 21.934330737283002, 29.585973030417566, 28.187540336710583, 19.082591692691253, 18.76636663894146, 56.9653966039433, 32.64527010952103, 77.37610311407667, 28.114544395512485, 42.20913612163614, 21.447567095411827, 33.5880156509033, 23.902145642790973, 27.117616052348556, 29.492318112219568, 26.22719947297843, 52.345130777885174, 38.68090614218355, 34.59688753873711, 25.81897183316935, 42.61473351057898, 94.52905052988116, 32.14620057161026, 28.06944987463312, 78.44619539974026, 24.960962628119365, 21.137247431642866, 19.983155760694984, 16.38734339389039, 20.925436706215933, 34.657491659826874, 47.829628454606606, 121.08212262609952, 33.356176656093155, 17.914291961664198, 15.000893781306457, 16.132115529924654, 19.77960093906585, 16.419106595603154, 52.83088657260409, 13.005991618698545, 23.073084819922173, 11.855309711617894, 55.759081251211384, 30.588251306658222, 25.783987864439798, 41.98494126100059, 23.278410998239213, 29.211290639392885, 94.45115775896916, 27.64110480594483, 39.08074266526629, 94.24743740216758, 29.036222205117866, 52.59440328592225, 41.526468790925755, 69.88671834363036, 38.59866253343178, 77.13508905572724, 33.15875706325724, 32.36725650159005, 42.16644862245609, 39.265910048487534, 32.931926953639895, 30.818334768956227, 30.04666975259926, 30.859556937176826, 156.31516777266702, 64.21485748230886, 71.5117773738155, 58.90905752127747, 47.74164818979925, 61.812801889345586, 154.83989323877807, 29.672530650440933, 22.947448977819572, 86.79153403047344, 40.38180838043657, 54.686447924545504, 15.002114778340891, 157.0927786534047, 23.557232606843943, 13.372612758305605, 15.098310437449591, 21.96150917855307, 40.5778888690875, 138.49576890782708, 37.181466230668946, 47.83421108413817, 25.822810495935457, 11.678881488942908, 28.6199697616798, 34.69317717891212, 136.62400336185286, 13.573194898972218, 8.844556891387969, 8.352929926600238, 51.14452267605473, 52.44276503395414, 80.29151335646692, 96.0616968574072, 53.963063288722914, 58.601000988992595, 91.52121854313837, 35.724459931112875, 35.90934329544862, 33.4072240549878, 39.87317330784659, 63.86765781962053, 70.64717695836592, 46.70311190926398, 48.9362529413361, 90.02574663859372, 95.94813744114232, 72.453617758126, 70.6820858001424, 28.935298426741372, 25.931798229024846, 164.23205972622813, 43.24084375789677, 20.24730438976089, 54.19370313660596, 23.920461827993414, 10.667941019077375, 20.91636620738537, 10.960277709984382, 10.401911387423748, 12.35795320368143, 23.888087834777547, 27.00374444015246, 20.08595754522196, 14.940311853483706, 20.561421862690594, 8.513458043766883, 11.466332941759827, 44.04732279935221, 8.271685515411562, 29.290980670519563, 22.35185849747984, 13.190161956836512, 14.297934550695624, 10.109690591329555, 33.904110962485454, 37.20817638281871, 31.996248427447906, 59.13236600893605, 23.33577356060711, 113.8540518885527, 20.02152853533925, 28.728129537679614, 29.00622817869324, 18.426241753244444, 41.061740577649665, 37.53773444723163, 29.248678000587663, 30.02513709575905, 43.25030247583057, 32.07187351420145, 33.93577470125216, 27.369482951266292, 26.738173071474268, 26.331095199606597, 25.02671715673432, 25.142986235364823, 31.304211845221992, 50.33438979944777, 71.08414531898843, 15.385670014333915, 50.255450158773165, 21.487360902991302, 83.47477222672407, 22.026043277076166, 77.73037730255649, 18.93404401719923, 27.836695414247007, 51.60397081814012, 29.1243239076617, 17.691283073408794, 22.703822967537562, 21.02600985954812, 66.71823894444825, 10.147855768005876, 10.968818054339183, 207.69112347842747, 7.717593521026669, 9.977489292342252, 10.193942021008016, 15.591519937606185, 18.290379420730243, 53.486928601152094, 16.71116001805299, 8.78616846784001, 5.607747055370611, 29.48423789126391, 33.18073294786693, 20.332991646539526, 15.434939345107091, 20.55754956972413, 17.617725680962003, 19.169608973432666, 64.59784987751758, 37.63218421498162, 30.674965275165768, 29.186664412702427, 23.82996681294102, 22.70123591054343, 19.810375171607035], \"Total\": [695.0, 328.0, 435.0, 376.0, 164.0, 230.0, 218.0, 179.0, 205.0, 181.0, 170.0, 187.0, 196.0, 197.0, 105.0, 95.0, 113.0, 152.0, 100.0, 108.0, 87.0, 176.0, 109.0, 105.0, 103.0, 88.0, 175.0, 88.0, 308.0, 79.0, 58.30068669424845, 91.81748862712138, 36.10071141915403, 55.810083150674274, 28.494225422552834, 33.17922349690232, 126.38692353965284, 22.665447713880756, 109.7602715389734, 55.133900124324036, 40.98623163001761, 54.05990391267878, 31.751953530357337, 55.98095113241642, 31.987456820878162, 41.14332969423872, 19.284755334090033, 17.683888882695804, 20.570109376331448, 33.10226838184546, 24.020029213579562, 19.137134572534084, 42.49064370207381, 47.75454502794268, 25.506083171100514, 17.977384705038947, 17.076476279586853, 34.00424419786989, 133.77355278526164, 24.368519184327113, 59.791094600514185, 63.50717560857015, 34.13005663959165, 36.385857789029366, 57.80277902169392, 129.03177057894837, 229.22006484177246, 429.2010957012561, 38.161619870215986, 56.10893321848372, 146.67567524147, 70.79703483686376, 55.49196807525091, 90.66454384305395, 58.38157235723151, 82.45642756580297, 79.68621578666838, 308.74052216525797, 76.54372616600402, 93.78928235286816, 89.47480662785276, 695.9818557037286, 75.57162438674476, 69.48952620596225, 435.2718855855633, 174.63798235973331, 114.08158340574354, 376.5925306947127, 100.78408447725573, 55.46442563987663, 170.9808516956636, 230.219166702541, 181.1490071446361, 55.1868470890178, 63.40107638627797, 27.892922140828116, 64.03163329423239, 196.56840180951485, 19.031329333320173, 48.86362849851672, 19.359883362983453, 24.82064106302481, 20.04524350994678, 435.2718855855633, 23.531258048661968, 376.5925306947127, 14.419451626532616, 99.91177116007276, 20.430812513473466, 176.90263051227396, 15.133636396352008, 20.62962020157599, 695.9818557037286, 17.666308013396513, 19.011406334584436, 17.60801333449973, 55.499600035936055, 25.807664138364444, 80.43867320271869, 78.85416402957763, 41.29565467719766, 35.63878628625543, 50.360375358465596, 47.79664991569381, 30.954479283184433, 30.298693172923645, 175.58807082215742, 75.80868982136322, 429.2010957012561, 69.51564014891021, 174.63798235973331, 43.963573743962975, 208.99527191451716, 69.27148922223381, 125.63339157375955, 229.22006484177246, 146.67567524147, 57.01860385939082, 43.101723500071074, 38.56315427308851, 29.622305320542456, 48.89676370569303, 109.92831362887404, 37.79146962370508, 33.650393299753226, 94.7394912850958, 30.18378487133777, 25.891644355759535, 24.552788797137822, 20.192709885461934, 25.813895155455135, 43.07203908921345, 60.142836107432416, 152.27561925948606, 42.06785657447147, 22.753863716517976, 19.084766394663294, 20.537501264590503, 25.239133919521546, 21.183059902678412, 68.98930239557477, 17.00834362251507, 30.381519786284883, 15.651362216479143, 74.00345858229113, 40.67841425092699, 34.29599893570193, 56.63311322189791, 31.05041272644652, 39.44682968885606, 152.86201786643184, 39.18041061915375, 60.18218845778561, 187.6015046897185, 41.815369664333446, 92.97486210770694, 68.60483811970764, 143.1962348646508, 63.838822655484464, 177.06157704388596, 60.83579704268716, 60.191433810853866, 429.2010957012561, 308.74052216525797, 208.99527191451716, 139.9820531210458, 106.76037669600312, 695.9818557037286, 164.27843594264914, 71.22617800274324, 79.9102178827037, 66.00308161783255, 53.90985712284281, 70.93578473202373, 179.0486560419026, 35.156993505259166, 27.915852346522886, 105.5880588529, 51.0030866724484, 70.07222316260942, 19.391175914659183, 205.73777134895974, 30.872697343875892, 17.79173171824116, 20.20877543052668, 29.692381869031536, 54.86759583287538, 187.48841357688949, 50.57545929297666, 65.96613467578959, 35.770365721046076, 16.416669467518933, 40.552045509726, 49.77469024505458, 197.08236535317405, 19.742818424479605, 13.042442282474932, 12.770448739545486, 78.31115656675729, 80.3838795941307, 125.63339157375955, 153.61365684242986, 85.26290400267051, 95.85199911479326, 175.58807082215742, 56.23088862862846, 56.64576309545067, 52.10435971439807, 71.7528966271171, 208.99527191451716, 328.7968321675246, 139.9820531210458, 695.9818557037286, 95.29811102073677, 105.64960790810673, 88.57914483836363, 88.23363214014377, 37.88884881398498, 34.143167320670095, 218.26443025814757, 60.0213151046104, 28.49746082658455, 77.2926565668458, 34.955704837925246, 15.68912582655923, 31.141234379956018, 16.379241415955036, 15.601263122759633, 18.725545840343948, 36.33147115919731, 41.65438966613847, 31.332210884145393, 23.31916977752398, 32.169361390221226, 13.499004893462354, 18.308460514590205, 70.77345697887986, 13.359627089615463, 47.40723102021048, 36.214152498206616, 21.403781306229227, 23.316028940541415, 16.547255175794064, 55.64398461047979, 62.99957199645831, 54.379108388361544, 127.62686476043712, 42.31833907410283, 308.74052216525797, 35.653690741641924, 56.67539683237705, 66.30845517425001, 35.057750040060064, 177.06157704388596, 174.63798235973331, 104.94378844970274, 152.86201786643184, 695.9818557037286, 205.73777134895974, 429.2010957012561, 187.48841357688949, 208.99527191451716, 229.22006484177246, 114.08158340574354, 143.1962348646508, 38.00652800948366, 62.08824984401166, 87.72090171093619, 19.375255409447405, 63.57308689119608, 28.75138721491484, 113.41864177812968, 30.026143993033106, 108.80570129035287, 27.204372638382633, 40.10782548684608, 74.6534342605958, 43.16478958196208, 26.418990536227618, 34.05387198263651, 31.87281108961579, 103.29153878841012, 15.766827192405298, 17.34768005722482, 328.7968321675246, 12.548053367221517, 16.59298933681223, 17.204739039427572, 26.353423159087146, 31.244199308637086, 92.52170402117284, 29.385279382497934, 15.524632111009574, 10.015502740020437, 53.62134568553934, 61.762802764321776, 39.52819352928755, 29.367252198496846, 44.1146522629125, 36.98087133930675, 45.861783205676005, 429.2010957012561, 308.74052216525797, 208.99527191451716, 197.08236535317405, 139.9820531210458, 177.06157704388596, 114.08158340574354], \"Category\": [\"Default\", \"Default\", \"Default\", \"Default\", \"Default\", \"Default\", \"Default\", \"Default\", \"Default\", \"Default\", \"Default\", \"Default\", \"Default\", \"Default\", \"Default\", \"Default\", \"Default\", \"Default\", \"Default\", \"Default\", \"Default\", \"Default\", \"Default\", \"Default\", \"Default\", \"Default\", \"Default\", \"Default\", \"Default\", \"Default\", \"Topic1\", \"Topic1\", \"Topic1\", \"Topic1\", \"Topic1\", \"Topic1\", \"Topic1\", \"Topic1\", \"Topic1\", \"Topic1\", \"Topic1\", \"Topic1\", \"Topic1\", \"Topic1\", \"Topic1\", \"Topic1\", \"Topic1\", \"Topic1\", \"Topic1\", \"Topic1\", \"Topic1\", \"Topic1\", \"Topic1\", \"Topic1\", \"Topic1\", \"Topic1\", \"Topic1\", \"Topic1\", \"Topic1\", \"Topic1\", \"Topic1\", \"Topic1\", \"Topic1\", \"Topic1\", \"Topic1\", \"Topic1\", \"Topic1\", \"Topic1\", \"Topic1\", \"Topic1\", \"Topic1\", \"Topic1\", \"Topic1\", \"Topic1\", \"Topic1\", \"Topic1\", \"Topic1\", \"Topic1\", \"Topic1\", \"Topic1\", \"Topic1\", \"Topic1\", \"Topic1\", \"Topic1\", \"Topic1\", \"Topic1\", \"Topic1\", \"Topic1\", \"Topic2\", \"Topic2\", \"Topic2\", \"Topic2\", \"Topic2\", \"Topic2\", \"Topic2\", \"Topic2\", \"Topic2\", \"Topic2\", \"Topic2\", \"Topic2\", \"Topic2\", \"Topic2\", \"Topic2\", \"Topic2\", \"Topic2\", \"Topic2\", \"Topic2\", \"Topic2\", \"Topic2\", \"Topic2\", \"Topic2\", \"Topic2\", \"Topic2\", \"Topic2\", \"Topic2\", \"Topic2\", \"Topic2\", \"Topic2\", \"Topic2\", \"Topic2\", \"Topic2\", \"Topic2\", \"Topic2\", \"Topic2\", \"Topic2\", \"Topic2\", \"Topic2\", \"Topic2\", \"Topic2\", \"Topic2\", \"Topic2\", \"Topic2\", \"Topic2\", \"Topic2\", \"Topic2\", \"Topic2\", \"Topic2\", \"Topic3\", \"Topic3\", \"Topic3\", \"Topic3\", \"Topic3\", \"Topic3\", \"Topic3\", \"Topic3\", \"Topic3\", \"Topic3\", \"Topic3\", \"Topic3\", \"Topic3\", \"Topic3\", \"Topic3\", \"Topic3\", \"Topic3\", \"Topic3\", \"Topic3\", \"Topic3\", \"Topic3\", \"Topic3\", \"Topic3\", \"Topic3\", \"Topic3\", \"Topic3\", \"Topic3\", \"Topic3\", \"Topic3\", \"Topic3\", \"Topic3\", \"Topic3\", \"Topic3\", \"Topic3\", \"Topic3\", \"Topic3\", \"Topic3\", \"Topic3\", \"Topic3\", \"Topic3\", \"Topic3\", \"Topic3\", \"Topic3\", \"Topic3\", \"Topic3\", \"Topic3\", \"Topic3\", \"Topic3\", \"Topic3\", \"Topic3\", \"Topic3\", \"Topic4\", \"Topic4\", \"Topic4\", \"Topic4\", \"Topic4\", \"Topic4\", \"Topic4\", \"Topic4\", \"Topic4\", \"Topic4\", \"Topic4\", \"Topic4\", \"Topic4\", \"Topic4\", \"Topic4\", \"Topic4\", \"Topic4\", \"Topic4\", \"Topic4\", \"Topic4\", \"Topic4\", \"Topic4\", \"Topic4\", \"Topic4\", \"Topic4\", \"Topic4\", \"Topic4\", \"Topic4\", \"Topic4\", \"Topic4\", \"Topic4\", \"Topic4\", \"Topic4\", \"Topic4\", \"Topic4\", \"Topic4\", \"Topic4\", \"Topic4\", \"Topic4\", \"Topic4\", \"Topic4\", \"Topic4\", \"Topic4\", \"Topic4\", \"Topic4\", \"Topic5\", \"Topic5\", \"Topic5\", \"Topic5\", \"Topic5\", \"Topic5\", \"Topic5\", \"Topic5\", \"Topic5\", \"Topic5\", \"Topic5\", \"Topic5\", \"Topic5\", \"Topic5\", \"Topic5\", \"Topic5\", \"Topic5\", \"Topic5\", \"Topic5\", \"Topic5\", \"Topic5\", \"Topic5\", \"Topic5\", \"Topic5\", \"Topic5\", \"Topic5\", \"Topic5\", \"Topic5\", \"Topic5\", \"Topic5\", \"Topic5\", \"Topic5\", \"Topic5\", \"Topic5\", \"Topic5\", \"Topic5\", \"Topic5\", \"Topic5\", \"Topic5\", \"Topic5\", \"Topic5\", \"Topic5\", \"Topic5\", \"Topic5\", \"Topic5\", \"Topic5\", \"Topic5\", \"Topic5\", \"Topic5\", \"Topic5\", \"Topic5\", \"Topic5\", \"Topic6\", \"Topic6\", \"Topic6\", \"Topic6\", \"Topic6\", \"Topic6\", \"Topic6\", \"Topic6\", \"Topic6\", \"Topic6\", \"Topic6\", \"Topic6\", \"Topic6\", \"Topic6\", \"Topic6\", \"Topic6\", \"Topic6\", \"Topic6\", \"Topic6\", \"Topic6\", \"Topic6\", \"Topic6\", \"Topic6\", \"Topic6\", \"Topic6\", \"Topic6\", \"Topic6\", \"Topic6\", \"Topic6\", \"Topic6\", \"Topic6\", \"Topic6\", \"Topic6\", \"Topic6\", \"Topic6\", \"Topic6\", \"Topic6\", \"Topic6\", \"Topic6\", \"Topic6\", \"Topic6\", \"Topic6\", \"Topic6\"], \"logprob\": [30.0, 29.0, 28.0, 27.0, 26.0, 25.0, 24.0, 23.0, 22.0, 21.0, 20.0, 19.0, 18.0, 17.0, 16.0, 15.0, 14.0, 13.0, 12.0, 11.0, 10.0, 9.0, 8.0, 7.0, 6.0, 5.0, 4.0, 3.0, 2.0, 1.0, -5.0558, -4.6324, -5.6125, -5.1863, -5.8666, -5.7292, -4.3991, -6.1224, -4.5466, -5.2447, -5.5413, -5.2854, -5.8203, -5.2635, -5.8278, -5.5801, -6.339, -6.4273, -6.2827, -5.8117, -6.1327, -6.3612, -5.5659, -5.4548, -6.0831, -6.4336, -6.4919, -5.8046, -4.4474, -6.1514, -5.2556, -5.2019, -5.8205, -5.7629, -5.3618, -4.6712, -4.1786, -3.7852, -5.7533, -5.447, -4.7488, -5.29, -5.4726, -5.1684, -5.4595, -5.2526, -5.2845, -4.5379, -5.3213, -5.2308, -5.2767, -4.5095, -5.3649, -5.4032, -4.992, -5.2168, -5.3792, -5.3207, -4.1083, -4.7862, -3.6736, -3.3797, -3.6324, -4.8226, -4.7063, -5.5439, -4.713, -3.6087, -5.9585, -5.0265, -5.9598, -5.7223, -5.9475, -2.8794, -5.806, -3.0507, -6.3238, -4.3973, -6.0069, -3.8668, -6.328, -6.02, -2.5034, -6.1832, -6.1162, -6.1973, -5.0523, -5.8442, -4.7809, -4.8178, -5.4322, -5.5651, -5.2659, -5.3143, -5.7044, -5.7211, -4.6107, -5.1675, -4.3045, -5.3169, -4.9105, -5.5875, -5.139, -5.4792, -5.353, -5.269, -5.3864, -4.6723, -4.9748, -5.0864, -5.3791, -4.878, -4.0813, -5.1599, -5.2955, -4.2678, -5.4129, -5.5792, -5.6353, -5.8337, -5.5892, -5.0847, -4.7626, -3.8337, -5.123, -5.7446, -5.9221, -5.8494, -5.6455, -5.8318, -4.6631, -6.0648, -5.4915, -6.1574, -4.6092, -5.2096, -5.3804, -4.8929, -5.4827, -5.2556, -4.0821, -5.3109, -4.9646, -4.0843, -5.2617, -4.6676, -4.9039, -4.3833, -4.977, -4.2846, -5.1289, -5.153, -4.8886, -4.9598, -5.1358, -5.2021, -5.2274, -5.2007, -3.4957, -4.3854, -4.2778, -4.4716, -4.6818, -4.4235, -3.5052, -5.1574, -5.4144, -4.0841, -4.8492, -4.546, -5.8394, -3.4908, -5.3882, -5.9544, -5.833, -5.4583, -4.8444, -3.6168, -4.9318, -4.6799, -5.2964, -6.0898, -5.1935, -5.0011, -3.6304, -5.9395, -6.3678, -6.425, -4.613, -4.5879, -4.162, -3.9826, -4.5593, -4.4769, -4.0311, -4.9718, -4.9666, -5.0388, -4.8619, -4.3908, -4.2899, -4.7038, -4.6571, -3.9264, -3.8627, -4.1436, -4.1683, -5.0615, -5.1711, -3.3253, -4.6597, -5.4185, -4.434, -5.2518, -6.0593, -5.386, -6.0323, -6.0845, -5.9122, -5.2532, -5.1306, -5.4265, -5.7225, -5.4031, -6.2849, -5.9871, -4.6413, -6.3137, -5.0493, -5.3196, -5.8471, -5.7664, -6.113, -4.903, -4.81, -4.9609, -4.3468, -5.2765, -3.6916, -5.4297, -5.0687, -5.059, -5.5128, -4.7115, -4.8012, -5.0507, -5.0245, -4.6595, -4.9586, -4.9021, -5.1171, -5.1404, -5.1558, -5.2066, -5.202, -4.7707, -4.2958, -3.9506, -5.481, -4.2973, -5.147, -3.7899, -5.1222, -3.8612, -5.2735, -4.8881, -4.2708, -4.8429, -5.3414, -5.0919, -5.1687, -4.014, -5.8972, -5.8194, -2.8784, -6.1709, -5.9141, -5.8927, -5.4677, -5.3081, -4.235, -5.3984, -6.0413, -6.4903, -4.8306, -4.7125, -5.2022, -5.4778, -5.1912, -5.3455, -5.2611, -4.0463, -4.5866, -4.791, -4.8407, -5.0435, -5.092, -5.2282], \"loglift\": [30.0, 29.0, 28.0, 27.0, 26.0, 25.0, 24.0, 23.0, 22.0, 21.0, 20.0, 19.0, 18.0, 17.0, 16.0, 15.0, 14.0, 13.0, 12.0, 11.0, 10.0, 9.0, 8.0, 7.0, 6.0, 5.0, 4.0, 3.0, 2.0, 1.0, 1.2894, 1.2586, 1.212, 1.2025, 1.1945, 1.1797, 1.1724, 1.1676, 1.1659, 1.1564, 1.1562, 1.1353, 1.1326, 1.1223, 1.1177, 1.1136, 1.1125, 1.1108, 1.1042, 1.0995, 1.0992, 1.098, 1.0956, 1.0899, 1.0888, 1.0881, 1.0812, 1.0797, 1.0672, 1.0661, 1.0643, 1.0577, 1.0601, 1.0538, 0.992, 0.8795, 0.7975, 0.5637, 1.0157, 0.9365, 0.6738, 0.861, 0.922, 0.7353, 0.8843, 0.7459, 0.7482, 0.1404, 0.7516, 0.6389, 0.6401, -0.644, 0.7208, 0.7664, -0.6572, 0.0312, 0.2947, -0.8411, 1.6896, 1.6089, 1.5957, 1.592, 1.5791, 1.5775, 1.5551, 1.5385, 1.5384, 1.5211, 1.5062, 1.4953, 1.4878, 1.4768, 1.4653, 1.4554, 1.4465, 1.429, 1.4184, 1.4092, 1.3868, 1.3684, 1.3658, 1.3641, 1.362, 1.3559, 1.3496, 1.3452, 1.3421, 1.316, 1.2424, 1.2254, 1.2578, 1.2723, 1.2257, 1.2296, 1.2739, 1.2786, 0.6319, 0.9151, 0.0444, 0.8524, 0.3376, 1.0399, -0.0705, 0.6936, 0.2245, -0.2929, 0.0362, 1.6951, 1.6724, 1.6721, 1.6432, 1.6431, 1.6297, 1.6188, 1.5993, 1.5919, 1.5906, 1.5777, 1.5747, 1.5718, 1.5707, 1.5632, 1.5515, 1.5514, 1.5486, 1.5415, 1.5398, 1.5392, 1.5369, 1.5258, 1.5137, 1.5123, 1.5054, 1.5028, 1.4975, 1.4955, 1.4953, 1.4813, 1.4925, 1.4802, 1.2992, 1.4317, 1.3489, 1.0922, 1.4159, 1.2109, 1.2786, 1.0633, 1.2775, 0.9497, 1.1737, 1.1602, -0.5397, -0.2815, -0.0673, 0.2672, 0.5128, -1.3353, 1.8135, 1.7596, 1.7521, 1.7495, 1.7417, 1.7255, 1.7179, 1.6936, 1.6672, 1.6671, 1.6297, 1.6153, 1.6066, 1.5934, 1.5927, 1.5777, 1.5716, 1.5616, 1.5615, 1.5603, 1.5555, 1.5418, 1.5373, 1.5227, 1.5147, 1.5022, 1.4968, 1.4885, 1.4748, 1.4387, 1.4371, 1.4361, 1.4155, 1.3937, 1.4057, 1.3711, 1.2116, 1.4095, 1.4074, 1.4187, 1.2757, 0.6777, 0.3254, 0.7655, -0.7916, 1.9274, 1.8879, 1.7833, 1.7625, 1.7147, 1.7092, 1.6998, 1.6564, 1.6425, 1.6292, 1.6049, 1.5985, 1.5863, 1.5825, 1.5789, 1.5687, 1.565, 1.5508, 1.5396, 1.5391, 1.5367, 1.5233, 1.5163, 1.51, 1.5049, 1.5028, 1.5017, 1.5002, 1.4952, 1.4915, 1.4888, 1.4577, 1.4539, 1.2149, 1.389, 0.9867, 1.4072, 1.3048, 1.1575, 1.341, 0.5228, 0.4469, 0.7067, 0.3568, -0.7941, 0.1256, -0.5532, 0.06, -0.072, -0.1797, 0.4673, 0.2446, 2.0024, 1.9865, 1.9861, 1.9658, 1.9613, 1.9051, 1.8898, 1.8865, 1.86, 1.8339, 1.8311, 1.8271, 1.8029, 1.7953, 1.7909, 1.7804, 1.7593, 1.7557, 1.738, 1.737, 1.7103, 1.6877, 1.673, 1.6715, 1.6609, 1.6483, 1.6319, 1.6271, 1.6164, 1.5983, 1.575, 1.5316, 1.5531, 1.4328, 1.4549, 1.324, 0.3026, 0.0917, 0.2775, 0.2864, 0.4258, 0.1423, 0.4456]}, \"token.table\": {\"Topic\": [1, 2, 3, 4, 5, 6, 1, 2, 3, 4, 5, 6, 1, 2, 3, 4, 5, 6, 1, 2, 3, 4, 5, 6, 1, 2, 3, 4, 5, 6, 1, 2, 3, 4, 5, 6, 1, 2, 3, 4, 5, 6, 1, 2, 3, 4, 5, 6, 1, 2, 3, 4, 5, 6, 1, 2, 3, 4, 5, 6, 1, 2, 3, 4, 5, 6, 1, 2, 3, 4, 5, 6, 1, 2, 3, 4, 5, 6, 1, 2, 3, 4, 5, 6, 1, 2, 3, 4, 5, 6, 1, 2, 3, 4, 5, 6, 1, 2, 3, 4, 5, 6, 1, 2, 3, 4, 5, 6, 1, 2, 3, 4, 5, 6, 1, 2, 3, 4, 5, 6, 1, 2, 3, 4, 5, 6, 1, 2, 3, 4, 5, 6, 1, 2, 3, 4, 5, 6, 1, 2, 3, 4, 5, 6, 1, 2, 3, 4, 5, 6, 1, 2, 3, 4, 5, 6, 1, 2, 3, 4, 5, 6, 1, 2, 3, 4, 5, 6, 1, 2, 3, 4, 5, 6, 1, 2, 3, 4, 5, 6, 1, 2, 3, 4, 5, 6, 1, 2, 3, 4, 5, 6, 1, 2, 3, 4, 5, 6, 1, 2, 3, 4, 5, 6, 1, 2, 3, 4, 5, 6, 1, 2, 3, 4, 5, 6, 1, 2, 3, 4, 5, 6, 1, 2, 3, 4, 5, 6, 1, 2, 3, 4, 5, 6, 1, 2, 3, 4, 5, 6, 1, 2, 3, 4, 5, 6, 1, 2, 3, 4, 5, 6, 1, 2, 3, 4, 5, 6, 1, 2, 3, 4, 5, 6, 1, 2, 3, 4, 5, 6, 1, 2, 3, 4, 5, 6, 1, 2, 3, 4, 5, 6, 1, 2, 3, 4, 5, 6, 1, 2, 3, 4, 5, 6, 1, 2, 3, 4, 5, 6, 1, 2, 3, 4, 5, 6, 1, 2, 3, 4, 5, 6, 1, 2, 3, 4, 5, 6, 1, 2, 3, 4, 5, 6, 1, 2, 3, 4, 5, 6, 1, 2, 3, 4, 5, 6, 1, 2, 3, 4, 5, 6, 1, 2, 3, 4, 5, 6, 1, 2, 3, 4, 5, 6, 1, 2, 3, 4, 5, 6, 1, 2, 3, 4, 5, 6, 1, 2, 3, 4, 5, 6, 1, 2, 3, 4, 5, 6, 1, 2, 3, 4, 5, 6, 1, 2, 3, 4, 5, 6, 1, 2, 3, 4, 5, 6, 1, 2, 3, 4, 5, 6, 1, 2, 3, 4, 5, 6, 1, 2, 3, 4, 5, 6, 1, 2, 3, 4, 5, 6, 1, 2, 3, 4, 5, 6, 1, 2, 3, 4, 5, 6, 1, 2, 3, 4, 5, 6, 1, 2, 3, 4, 5, 6, 1, 2, 3, 4, 5, 6, 1, 2, 3, 4, 5, 6, 1, 2, 3, 4, 5, 6, 1, 2, 3, 4, 5, 6, 1, 2, 3, 4, 5, 6, 1, 2, 3, 4, 5, 6, 1, 2, 3, 4, 5, 6, 1, 2, 3, 4, 5, 6, 1, 2, 3, 4, 5, 6, 1, 2, 3, 4, 5, 6, 1, 2, 3, 4, 5, 6, 1, 2, 3, 4, 5, 6, 1, 2, 3, 4, 5, 6, 1, 2, 3, 4, 5, 6, 1, 2, 3, 4, 5, 6, 1, 2, 3, 4, 5, 6, 1, 2, 3, 4, 5, 6, 1, 2, 3, 4, 5, 6, 1, 2, 3, 4, 5, 6, 1, 2, 3, 4, 5, 6, 1, 2, 3, 4, 5, 6, 1, 2, 3, 4, 5, 6, 1, 2, 3, 4, 5, 6, 1, 2, 3, 4, 5, 6, 1, 2, 3, 4, 5, 6, 1, 2, 3, 4, 5, 6, 1, 2, 3, 4, 5, 6, 1, 2, 3, 4, 5, 6, 1, 2, 3, 4, 5, 6, 1, 2, 3, 4, 5, 6, 1, 2, 3, 4, 5, 6, 1, 2, 3, 4, 5, 6, 1, 2, 3, 4, 5, 6, 1, 2, 3, 4, 5, 6, 1, 2, 3, 4, 5, 6, 1, 2, 3, 4, 5, 6, 1, 2, 3, 4, 5, 6, 1, 2, 3, 4, 5, 6, 1, 2, 3, 4, 5, 6, 1, 2, 3, 4, 5, 6, 1, 2, 3, 4, 5, 6, 1, 2, 3, 4, 5, 6, 1, 2, 3, 4, 5, 6, 1, 2, 3, 4, 5, 6, 1, 2, 3, 4, 5, 6, 1, 2, 3, 4, 5, 6, 1, 2, 3, 4, 5, 6, 1, 2, 3, 4, 5, 6, 1, 2, 3, 4, 5, 6, 1, 2, 3, 4, 5, 6, 1, 2, 3, 4, 5, 6, 1, 2, 3, 4, 5, 6, 1, 2, 3, 4, 5, 6, 1, 2, 3, 4, 5, 6, 1, 2, 3, 4, 5, 6, 1, 2, 3, 4, 5, 6, 1, 2, 3, 4, 5, 6, 1, 2, 3, 4, 5, 6, 1, 2, 3, 4, 5, 6, 1, 2, 3, 4, 5, 6, 1, 2, 3, 4, 5, 6, 1, 2, 3, 4, 5, 6, 1, 2, 3, 4, 5, 6, 1, 2, 3, 4, 5, 6, 1, 2, 3, 4, 5, 6, 1, 2, 3, 4, 5, 6, 1, 2, 3, 4, 5, 6, 1, 2, 3, 4, 5, 6, 1, 2, 3, 4, 5, 6, 1, 2, 3, 4, 5, 6, 1, 2, 3, 4, 5, 6, 1, 2, 3, 4, 5, 6, 1, 2, 3, 4, 5, 6, 1, 2, 3, 4, 5, 6, 1, 2, 3, 4, 5, 6, 1, 2, 3, 4, 5, 6, 1, 2, 3, 4, 5, 6, 1, 2, 3, 4, 5, 6, 1, 2, 3, 4, 5, 6, 1, 2, 3, 4, 5, 6, 1, 2, 3, 4, 5, 6, 1, 2, 3, 4, 5, 6, 1, 2, 3, 4, 5, 6, 1, 2, 3, 4, 5, 6, 1, 2, 3, 4, 5, 6, 1, 2, 3, 4, 5, 6, 1, 2, 3, 4, 5, 6, 1, 2, 3, 4, 5, 6, 1, 2, 3, 4, 5, 6, 1, 2, 3, 4, 5, 6, 1, 2, 3, 4, 5, 6, 1, 2, 3, 4, 5, 6, 1, 2, 3, 4, 5, 6, 1, 2, 3, 4, 5, 6, 1, 2, 3, 4, 5, 6, 1, 2, 3, 4, 5, 6, 1, 2, 3, 4, 5, 6, 1, 2, 3, 4, 5, 6, 1, 2, 3, 4, 5, 6, 1, 2, 3, 4, 5, 6, 1, 2, 3, 4, 5, 6, 1, 2, 3, 4, 5, 6, 1, 2, 3, 4, 5, 6, 1, 2, 3, 4, 5, 6, 1, 2, 3, 4, 5, 6, 1, 2, 3, 4, 5, 6, 1, 2, 3, 4, 5, 6, 1, 2, 3, 4, 5, 6, 1, 2, 3, 4, 5, 6, 1, 2, 3, 4, 5, 6, 1, 2, 3, 4, 5, 6, 1, 2, 3, 4, 5, 6, 1, 2, 3, 4, 5, 6, 1, 2, 3, 4, 5, 6, 1, 2, 3, 4, 5, 6, 1, 2, 3, 4, 5, 6, 1, 2, 3, 4, 5, 6, 1, 2, 3, 4, 5, 6, 1, 2, 3, 4, 5, 6, 1, 2, 3, 4, 5, 6, 1, 2, 3, 4, 5, 6, 1, 2, 3, 4, 5, 6, 1, 2, 3, 4, 5, 6, 1, 2, 3, 4, 5, 6, 1, 2, 3, 4, 5, 6, 1, 2, 3, 4, 5, 6, 1, 2, 3, 4, 5, 6, 1, 2, 3, 4, 5, 6, 1, 2, 3, 4, 5, 6, 1, 2, 3, 4, 5, 6, 1, 2, 3, 4, 5, 6, 1, 2, 3, 4, 5, 6, 1, 2, 3, 4, 5, 6, 1, 2, 3, 4, 5, 6, 1, 2, 3, 4, 5, 6, 1, 2, 3, 4, 5, 6, 1, 2, 3, 4, 5, 6, 1, 2, 3, 4, 5, 6, 1, 2, 3, 4, 5, 6, 1, 2, 3, 4, 5, 6, 1, 2, 3, 4, 5, 6, 1, 2, 3, 4, 5, 6, 1, 2, 3, 4, 5, 6, 1, 2, 3, 4, 5, 6, 1, 2, 3, 4, 5, 6, 1, 2, 3, 4, 5, 6, 1, 2, 3, 4, 5, 6, 1, 2, 3, 4, 5, 6, 1, 2, 3, 4, 5, 6, 1, 2, 3, 4, 5, 6, 1, 2, 3, 4, 5, 6, 1, 2, 3, 4, 5, 6, 1, 2, 3, 4, 5, 6, 1, 2, 3, 4, 5, 6, 1, 2, 3, 4, 5, 6, 1, 2, 3, 4, 5, 6, 1, 2, 3, 4, 5, 6, 1, 2, 3, 4, 5, 6, 1, 2, 3, 4, 5, 6, 1, 2, 3, 4, 5, 6, 1, 2, 3, 4, 5, 6, 1, 2, 3, 4, 5, 6, 1, 2, 3, 4, 5, 6, 1, 2, 3, 4, 5, 6, 1, 2, 3, 4, 5, 6, 1, 2, 3, 4, 5, 6, 1, 2, 3, 4, 5, 6, 1, 2, 3, 4, 5, 6, 1, 2, 3, 4, 5, 6, 1, 2, 3, 4, 5, 6, 1, 2, 3, 4, 5, 6, 1, 2, 3, 4, 5, 6, 1, 2, 3, 4, 5, 6, 1, 2, 3, 4, 5, 6, 1, 2, 3, 4, 5, 6, 1, 2, 3, 4, 5, 6, 1, 2, 3, 4, 5, 6, 1, 2, 3, 4, 5, 6, 1, 2, 3, 4, 5, 6, 1, 2, 3, 4, 5, 6, 1, 2, 3, 4, 5, 6, 1, 2, 3, 4, 5, 6, 1, 2, 3, 4, 5, 6, 1, 2, 3, 4, 5, 6, 1, 2, 3, 4, 5, 6, 1, 2, 3, 4, 5, 6, 1, 2, 3, 4, 5, 6, 1, 2, 3, 4, 5, 6], \"Freq\": [0.06442442829439482, 0.016106107073598705, 0.03221221414719741, 0.03221221414719741, 0.048318321220796115, 0.8053053536799353, 0.09452166808805225, 0.14178250213207838, 0.11815208511006531, 0.07089125106603919, 0.5434995915063005, 0.023630417022013062, 0.03154520575983256, 0.8201753497556465, 0.01577260287991628, 0.11040822015941396, 0.01577260287991628, 0.01577260287991628, 0.09874423732265983, 0.03291474577421995, 0.7570391528070587, 0.03291474577421995, 0.03291474577421995, 0.03291474577421995, 0.07407953459475415, 0.07407953459475415, 0.07407953459475415, 0.07407953459475415, 0.6667158113527873, 0.07407953459475415, 0.1403633827006967, 0.07018169135034835, 0.035090845675174176, 0.035090845675174176, 0.7018169135034835, 0.035090845675174176, 0.607370069934201, 0.04237465604192099, 0.14124885347306998, 0.014124885347306998, 0.08474931208384198, 0.11299908277845598, 0.06800461629212753, 0.022668205430709177, 0.15867743801496423, 0.045336410861418354, 0.24935025973780095, 0.4760323140448927, 0.7552352519053028, 0.030209410076212116, 0.09062823022863635, 0.030209410076212116, 0.030209410076212116, 0.030209410076212116, 0.12684860280344656, 0.06342430140172328, 0.06342430140172328, 0.06342430140172328, 0.06342430140172328, 0.6342430140172327, 0.893076049302644, 0.010891171332959072, 0.010891171332959072, 0.010891171332959072, 0.05445585666479536, 0.010891171332959072, 0.7400738507044778, 0.06298500857059386, 0.015746252142648465, 0.12597001714118772, 0.015746252142648465, 0.03149250428529693, 0.15891762765604128, 0.03531502836800917, 0.7416155957281927, 0.017657514184004585, 0.05297254255201376, 0.017657514184004585, 0.19149622164186625, 0.03191603694031104, 0.06383207388062208, 0.03191603694031104, 0.6383207388062208, 0.06383207388062208, 0.11492615349548364, 0.012769572610609294, 0.03830871783182788, 0.651248203141074, 0.012769572610609294, 0.15323487132731153, 0.12053283223432908, 0.06026641611716454, 0.06026641611716454, 0.06026641611716454, 0.06026641611716454, 0.6026641611716455, 0.07479837073151452, 0.02493279024383817, 0.02493279024383817, 0.02493279024383817, 0.17452953170686722, 0.6981181268274689, 0.7612811792758524, 0.05856009071352711, 0.05856009071352711, 0.05856009071352711, 0.05856009071352711, 0.05856009071352711, 0.012514044217322133, 0.012514044217322133, 0.012514044217322133, 0.9010111836471936, 0.025028088434644265, 0.037542132651966396, 0.12612703506813547, 0.6666714710744304, 0.10810888720125898, 0.07207259146750598, 0.03603629573375299, 0.018018147866876496, 0.09370368505874808, 0.7964813229993587, 0.04685184252937404, 0.01561728084312468, 0.01561728084312468, 0.01561728084312468, 0.7777688446173802, 0.02430527639429313, 0.1458316583657588, 0.02430527639429313, 0.02430527639429313, 0.02430527639429313, 0.11192032797478386, 0.7885295834587045, 0.020349150540869793, 0.04578558871695704, 0.010174575270434897, 0.015261862905652344, 0.048691415139393734, 0.048691415139393734, 0.7790626422302998, 0.048691415139393734, 0.048691415139393734, 0.048691415139393734, 0.07467128092295988, 0.010667325846137126, 0.010667325846137126, 0.7360454833834617, 0.1440088989228512, 0.01600098876920569, 0.6594315357222164, 0.07128989575375312, 0.03564494787687656, 0.05346742181531484, 0.01782247393843828, 0.1782247393843828, 0.5336151625643318, 0.07276570398604525, 0.18191425996511312, 0.12127617331007541, 0.048510469324030164, 0.048510469324030164, 0.11763993890277956, 0.039213312967593186, 0.019606656483796593, 0.7842662593518638, 0.019606656483796593, 0.019606656483796593, 0.048605561994927104, 0.01458166859847813, 0.009721112398985422, 0.7631073233203556, 0.15553779838376675, 0.01458166859847813, 0.10330640750780795, 0.7747980563085596, 0.051653203753903976, 0.051653203753903976, 0.051653203753903976, 0.051653203753903976, 0.0627494071475736, 0.0313747035737868, 0.0313747035737868, 0.18824822144272077, 0.0313747035737868, 0.6588687750495227, 0.7873531301341209, 0.031494125205364834, 0.031494125205364834, 0.06298825041072967, 0.031494125205364834, 0.06298825041072967, 0.16550473640951088, 0.055168245469836966, 0.14711532125289856, 0.01838941515661232, 0.5884612850115942, 0.01838941515661232, 0.06409737417614393, 0.06409737417614393, 0.06409737417614393, 0.06409737417614393, 0.6409737417614394, 0.06409737417614393, 0.2634020353329868, 0.24049751052142274, 0.10307036165203831, 0.1259748864636024, 0.21759298570985866, 0.051535180826019156, 0.029766604673350183, 0.9326869464316391, 0.009922201557783394, 0.009922201557783394, 0.009922201557783394, 0.009922201557783394, 0.11009713742714507, 0.7106269779388454, 0.03002649202558502, 0.06005298405117004, 0.08007064540156004, 0.010008830675195006, 0.06441138214876425, 0.03220569107438213, 0.740730894710789, 0.06441138214876425, 0.06441138214876425, 0.03220569107438213, 0.03166578117853957, 0.010555260392846523, 0.8233103106420288, 0.021110520785693046, 0.09499734353561871, 0.010555260392846523, 0.1732314424698178, 0.3464628849396356, 0.014435953539151484, 0.44751455971369597, 0.014435953539151484, 0.014435953539151484, 0.7815563500403865, 0.03126225400161546, 0.09378676200484637, 0.03126225400161546, 0.03126225400161546, 0.03126225400161546, 0.6920082507622622, 0.05190061880716967, 0.10380123761433933, 0.05190061880716967, 0.06920082507622623, 0.034600412538113114, 0.2947458900496738, 0.03886758989666028, 0.12631966716414592, 0.04858448737082535, 0.3692421040182727, 0.12308070133942423, 0.23836074116455105, 0.03405153445207872, 0.1362061378083149, 0.03405153445207872, 0.03405153445207872, 0.5107730167811808, 0.0498871465195114, 0.7483071977926711, 0.0498871465195114, 0.0498871465195114, 0.0498871465195114, 0.0498871465195114, 0.13362417315601546, 0.6738681420448522, 0.04454139105200516, 0.07040413424349203, 0.061783219846329736, 0.015805009728130863, 0.08577790004894198, 0.04288895002447099, 0.04288895002447099, 0.04288895002447099, 0.6004453003425938, 0.12866685007341297, 0.07170277785533667, 0.7887305564087034, 0.035851388927668336, 0.035851388927668336, 0.035851388927668336, 0.035851388927668336, 0.03862249868180166, 0.03862249868180166, 0.8110724723178349, 0.03862249868180166, 0.03862249868180166, 0.03862249868180166, 0.09694797967474025, 0.6786358577231818, 0.04847398983737013, 0.04847398983737013, 0.09694797967474025, 0.04847398983737013, 0.12343649844958375, 0.03526757098559536, 0.0440844637319942, 0.0440844637319942, 0.02645067823919652, 0.7318020979511037, 0.05943466937174452, 0.02971733468587226, 0.8320853712044233, 0.02971733468587226, 0.02971733468587226, 0.02971733468587226, 0.03367867234130438, 0.03367867234130438, 0.06735734468260876, 0.7409307915086963, 0.06735734468260876, 0.10103601702391314, 0.05292199588728033, 0.026460997943640166, 0.8467519341964853, 0.026460997943640166, 0.026460997943640166, 0.026460997943640166, 0.04916612500337138, 0.02458306250168569, 0.7620749375522563, 0.02458306250168569, 0.07374918750505706, 0.07374918750505706, 0.14864170149247966, 0.027025763907723575, 0.7567213894162601, 0.013512881953861787, 0.013512881953861787, 0.027025763907723575, 0.0559122044095643, 0.02795610220478215, 0.0559122044095643, 0.7268586573243359, 0.0559122044095643, 0.1118244088191286, 0.07667275640113012, 0.07667275640113012, 0.07667275640113012, 0.6900548076101711, 0.07667275640113012, 0.07667275640113012, 0.018549483403773995, 0.018549483403773995, 0.018549483403773995, 0.8903752033811518, 0.018549483403773995, 0.03709896680754799, 0.08477754593491899, 0.014129590989153163, 0.14129590989153162, 0.1130367279132253, 0.6217020035227392, 0.028259181978306326, 0.11333546809131398, 0.011333546809131399, 0.045334187236525596, 0.011333546809131399, 0.8046818234483293, 0.011333546809131399, 0.0347809304825907, 0.0347809304825907, 0.10434279144777209, 0.0347809304825907, 0.0347809304825907, 0.7303995401344047, 0.08471629051559924, 0.04518202160831959, 0.4348769579800761, 0.07342078511351934, 0.23155786074263793, 0.12989831212391884, 0.12434191501283304, 0.03108547875320826, 0.09325643625962478, 0.06217095750641652, 0.6527950538173735, 0.06217095750641652, 0.10209183458747517, 0.025522958646868793, 0.7146428421123262, 0.025522958646868793, 0.07656887594060638, 0.051045917293737586, 0.8161947531106519, 0.03627532236047342, 0.03627532236047342, 0.01813766118023671, 0.09068830590118356, 0.01813766118023671, 0.06950109172439138, 0.13900218344878276, 0.023167030574797125, 0.0926681222991885, 0.023167030574797125, 0.6718438866691167, 0.12431831110389346, 0.5967278932986886, 0.11188647999350411, 0.049727324441557384, 0.09945464888311477, 0.024863662220778692, 0.03979833655182741, 0.21491101737986798, 0.03183866924146193, 0.6367733848292385, 0.05571767117255837, 0.015919334620730963, 0.13325004881023653, 0.7397675123602786, 0.022974146346592506, 0.04824570732784426, 0.041353463423866504, 0.016081902442614752, 0.17576562237363708, 0.08462789225397341, 0.032549189328451314, 0.6249444351062652, 0.013019675731380525, 0.06509837865690263, 0.03375834490864291, 0.03375834490864291, 0.8777169676247155, 0.03375834490864291, 0.03375834490864291, 0.03375834490864291, 0.03638734979146765, 0.009096837447866912, 0.8641995575473567, 0.009096837447866912, 0.0727746995829353, 0.018193674895733824, 0.7916810659051021, 0.056548647564650154, 0.056548647564650154, 0.056548647564650154, 0.056548647564650154, 0.056548647564650154, 0.05879467290843265, 0.05879467290843265, 0.7643307478096244, 0.05879467290843265, 0.05879467290843265, 0.05879467290843265, 0.026311269467983837, 0.026311269467983837, 0.026311269467983837, 0.07893380840395152, 0.026311269467983837, 0.815649353507499, 0.03881351907480989, 0.06468919845801649, 0.025875679383206597, 0.16819191599084288, 0.6986433433465781, 0.012937839691603299, 0.026392989792577034, 0.026392989792577034, 0.026392989792577034, 0.13196494896288516, 0.765396703984734, 0.026392989792577034, 0.10902323569880693, 0.043609294279522766, 0.021804647139761383, 0.37067900137594356, 0.043609294279522766, 0.4142882956554663, 0.05335145990334981, 0.01778381996778327, 0.01778381996778327, 0.6402175188401976, 0.01778381996778327, 0.24897347954896576, 0.08057809606615643, 0.765491912628486, 0.040289048033078215, 0.040289048033078215, 0.040289048033078215, 0.040289048033078215, 0.256719270053435, 0.057048726678541106, 0.11409745335708221, 0.028524363339270553, 0.51343854010687, 0.057048726678541106, 0.07969363619477715, 0.07969363619477715, 0.07969363619477715, 0.07969363619477715, 0.07969363619477715, 0.6375490895582172, 0.04720753302848182, 0.04720753302848182, 0.7553205284557091, 0.04720753302848182, 0.04720753302848182, 0.04720753302848182, 0.07174395501180657, 0.11957325835301096, 0.6935248984474636, 0.02391465167060219, 0.07174395501180657, 0.02391465167060219, 0.7075171361127859, 0.026204338374547626, 0.05240867674909525, 0.026204338374547626, 0.1048173534981905, 0.05240867674909525, 0.18688286629222212, 0.04672071657305553, 0.04672071657305553, 0.04672071657305553, 0.6073693154497218, 0.04672071657305553, 0.29569934591100305, 0.47766817416392804, 0.02274610353161562, 0.09098441412646248, 0.04549220706323124, 0.06823831059484686, 0.017538135491111335, 0.017538135491111335, 0.9119830455377895, 0.017538135491111335, 0.017538135491111335, 0.017538135491111335, 0.1104540552260083, 0.027613513806502076, 0.13806756903251038, 0.027613513806502076, 0.6074973037430457, 0.05522702761300415, 0.04545242322730379, 0.015150807742434597, 0.015150807742434597, 0.8938976568036412, 0.030301615484869194, 0.015150807742434597, 0.03239107969289138, 0.03239107969289138, 0.03239107969289138, 0.777385912629393, 0.03239107969289138, 0.09717323907867413, 0.8228699384977978, 0.047473265682565255, 0.03164884378837684, 0.023736632841282627, 0.055385476629659466, 0.023736632841282627, 0.6122523130972901, 0.1860007027131008, 0.0465001756782752, 0.0697502635174128, 0.062000234237700264, 0.015500058559425066, 0.018930500922820136, 0.009465250461410068, 0.009465250461410068, 0.03786100184564027, 0.9086640442953665, 0.009465250461410068, 0.8587088392821053, 0.027700285138132427, 0.027700285138132427, 0.027700285138132427, 0.027700285138132427, 0.027700285138132427, 0.5292991956252827, 0.25141711792200927, 0.06616239945316034, 0.013232479890632068, 0.05292991956252827, 0.09262735923442447, 0.19189611543650364, 0.11193940067129379, 0.5010620791953151, 0.04264358120811192, 0.058634924161153894, 0.09061761006723783, 0.04998224372077382, 0.016660747906924605, 0.016660747906924605, 0.16660747906924606, 0.7164121599977581, 0.03332149581384921, 0.1389981696953992, 0.5957064415517107, 0.03971376277011405, 0.03971376277011405, 0.17871193246551323, 0.019856881385057024, 0.12351038353914266, 0.01764434050559181, 0.08822170252795904, 0.08822170252795904, 0.5116858746621624, 0.1940877455615099, 0.08582290112328518, 0.028607633707761728, 0.08582290112328518, 0.028607633707761728, 0.6865832089862814, 0.057215267415523456, 0.034749495945906844, 0.8470189636814792, 0.008687373986476711, 0.06949899189181369, 0.026062121959430133, 0.013031060979715067, 0.074036920271007, 0.32462341964979996, 0.005695147713154385, 0.5239535896102034, 0.0398660339920807, 0.0398660339920807, 0.5356415483495192, 0.22209527614492258, 0.013064428008524859, 0.09145099605967401, 0.10451542406819887, 0.026128856017049718, 0.10145310775216966, 0.5833553695749755, 0.11413474622119087, 0.13949802315923326, 0.025363276938042415, 0.03804491540706362, 0.16190975073068822, 0.2266736510229635, 0.01619097507306882, 0.03238195014613764, 0.03238195014613764, 0.5343021774112712, 0.05931730609941501, 0.07908974146588668, 0.01977243536647167, 0.7315801085594518, 0.07908974146588668, 0.03954487073294334, 0.11746094547015189, 0.02936523636753797, 0.02936523636753797, 0.05873047273507594, 0.08809570910261391, 0.6754004364533733, 0.07902537344172124, 0.011289339063103034, 0.022578678126206068, 0.011289339063103034, 0.8128324125434184, 0.045157356252412136, 0.1470351863345822, 0.03675879658364555, 0.03675879658364555, 0.03675879658364555, 0.0735175931672911, 0.6984171350892654, 0.13762173235680414, 0.027524346471360827, 0.027524346471360827, 0.027524346471360827, 0.6605843153126598, 0.11009738588544331, 0.09163197125773279, 0.032071189940206475, 0.022907992814433197, 0.027489591377319836, 0.7513821643134089, 0.07788717556907286, 0.08523691123575204, 0.05682460749050136, 0.00947076791508356, 0.8239568086122697, 0.00947076791508356, 0.00947076791508356, 0.07830578395443222, 0.07830578395443222, 0.07830578395443222, 0.6264462716354577, 0.07830578395443222, 0.07830578395443222, 0.01217445240772937, 0.006087226203864685, 0.006087226203864685, 0.9496072878028909, 0.006087226203864685, 0.018261678611594057, 0.06091369519125312, 0.06091369519125312, 0.06091369519125312, 0.7309643422950375, 0.06091369519125312, 0.06091369519125312, 0.07924202178954616, 0.03962101089477308, 0.7924202178954617, 0.03962101089477308, 0.03962101089477308, 0.03962101089477308, 0.14029658473325496, 0.6173049728263218, 0.02805931694665099, 0.08417795083995297, 0.08417795083995297, 0.05611863389330198, 0.01403978183360457, 0.01403978183360457, 0.01403978183360457, 0.8985460373506925, 0.01403978183360457, 0.04211934550081371, 0.05408872381512816, 0.8654195810420505, 0.01802957460504272, 0.03605914921008544, 0.01802957460504272, 0.01802957460504272, 0.03873882627855465, 0.03873882627855465, 0.8135153518496476, 0.03873882627855465, 0.03873882627855465, 0.03873882627855465, 0.15246257292939686, 0.09528910808087304, 0.06670237565661113, 0.32398296747496835, 0.2763384134345318, 0.07623128646469843, 0.302090291551882, 0.40278705540250936, 0.0863115118719663, 0.12946726780794943, 0.04315575593598315, 0.04315575593598315, 0.2204602604668113, 0.6783392629748041, 0.0282641359572835, 0.039569790340196906, 0.0113056543829134, 0.0169584815743701, 0.06626074259822798, 0.03313037129911399, 0.8282592824778497, 0.03313037129911399, 0.03313037129911399, 0.03313037129911399, 0.07579646775688774, 0.015159293551377549, 0.04547788065413264, 0.7276460904661223, 0.015159293551377549, 0.12127434841102039, 0.8439016061546509, 0.03013934307695182, 0.06027868615390364, 0.03013934307695182, 0.03013934307695182, 0.03013934307695182, 0.8421417304308776, 0.03583581831620756, 0.05375372747431134, 0.01791790915810378, 0.01791790915810378, 0.01791790915810378, 0.02593148871895718, 0.02593148871895718, 0.9076021051635013, 0.02593148871895718, 0.02593148871895718, 0.02593148871895718, 0.10048074201692649, 0.1626831061226429, 0.15789830888374162, 0.3062270232896807, 0.12918952545033405, 0.1483287144059391, 0.06389220223573328, 0.06389220223573328, 0.7667064268287993, 0.06389220223573328, 0.06389220223573328, 0.06389220223573328, 0.06291970699560194, 0.015729926748900485, 0.07864963374450243, 0.03145985349780097, 0.015729926748900485, 0.7864963374450243, 0.13290927784075182, 0.033227319460187955, 0.5316371113630073, 0.033227319460187955, 0.2159775764912217, 0.04984097919028194, 0.5468450006029768, 0.04317197373181396, 0.17268789492725584, 0.04317197373181396, 0.028781315821209307, 0.1582972370166512, 0.08786531055611281, 0.029288436852037605, 0.08786531055611281, 0.029288436852037605, 0.7614993581529776, 0.029288436852037605, 0.2090507938369578, 0.09755703712391363, 0.08362031753478312, 0.5574687835652208, 0.013936719589130519, 0.04181015876739156, 0.09789135888164331, 0.6852395121715031, 0.09789135888164331, 0.048945679440821656, 0.048945679440821656, 0.048945679440821656, 0.054619556854771566, 0.054619556854771566, 0.10923911370954313, 0.054619556854771566, 0.6008151254024873, 0.10923911370954313, 0.146453778922727, 0.585815115690908, 0.08368787367012971, 0.10460984208766215, 0.041843936835064856, 0.041843936835064856, 0.6166329296463494, 0.034257384980352745, 0.15415823241158735, 0.034257384980352745, 0.034257384980352745, 0.13702953992141098, 0.4976967031501384, 0.17726183947813148, 0.06817763056851212, 0.03408881528425606, 0.11590197196647059, 0.10908420890961937, 0.7493746089960549, 0.0832638454440061, 0.04163192272200305, 0.04163192272200305, 0.04163192272200305, 0.04163192272200305, 0.7778276579515933, 0.04861422862197458, 0.04861422862197458, 0.04861422862197458, 0.04861422862197458, 0.04861422862197458, 0.19418928087286075, 0.017653570988441888, 0.07061428395376755, 0.635528555583908, 0.017653570988441888, 0.07061428395376755, 0.06567039456893915, 0.01313407891378783, 0.7946117742841637, 0.019701118370681746, 0.07223743402583307, 0.02626815782757566, 0.07264686862214872, 0.6053905718512393, 0.04843124574809915, 0.07264686862214872, 0.04843124574809915, 0.16950936011834702, 0.14063372299329363, 0.040181063712369604, 0.040181063712369604, 0.7031686149664681, 0.06027159556855441, 0.020090531856184802, 0.8422759223700214, 0.03509483009875089, 0.03509483009875089, 0.03509483009875089, 0.03509483009875089, 0.03509483009875089, 0.47979895859203003, 0.13860858803769757, 0.191919583436812, 0.06397319447893733, 0.042648796319291554, 0.08529759263858311, 0.29973667188454206, 0.08430093896752745, 0.2810031298917582, 0.05620062597835164, 0.20606896192062268, 0.07493416797113552, 0.30162065980036173, 0.015081032990018088, 0.1206482639201447, 0.030162065980036176, 0.4373499567105245, 0.09048619794010852, 0.07352555891029683, 0.07352555891029683, 0.08271625377408394, 0.018381389727574207, 0.036762779455148414, 0.7168741993753941, 0.5671405777227105, 0.1265159750304508, 0.06107667760090729, 0.09161501640136094, 0.1134281155445421, 0.039263578457726114, 0.08313542100124047, 0.016627084200248093, 0.7981000416119084, 0.016627084200248093, 0.08313542100124047, 0.016627084200248093, 0.9262326579993315, 0.01715245662961725, 0.01715245662961725, 0.01715245662961725, 0.01715245662961725, 0.01715245662961725, 0.7531069716046265, 0.09413837145057831, 0.023534592862644577, 0.023534592862644577, 0.07060377858793372, 0.023534592862644577, 0.4805822065516983, 0.03352899115476965, 0.10058697346430895, 0.022352660769846433, 0.18999761654369468, 0.16764495577384825, 0.17015322314675807, 0.03403064462935161, 0.13612257851740645, 0.03403064462935161, 0.03403064462935161, 0.5785209586989775, 0.10887098563629487, 0.7196106611569734, 0.029209288829249842, 0.08497247659418136, 0.045141628190658846, 0.01062155957427267, 0.16033854610670828, 0.014576231464246206, 0.6122017214983406, 0.014576231464246206, 0.16033854610670828, 0.029152462928492412, 0.15944500984989785, 0.014495000895445259, 0.7682350474585987, 0.014495000895445259, 0.028990001790890518, 0.014495000895445259, 0.19324129412847701, 0.06441376470949234, 0.06441376470949234, 0.06441376470949234, 0.06441376470949234, 0.579723882385431, 0.44734275360201065, 0.17940308347580636, 0.09785622735043982, 0.044268293325198965, 0.07921694595035605, 0.15144416137568067, 0.047542236825388516, 0.023771118412694258, 0.7844469076189106, 0.07131335523808277, 0.047542236825388516, 0.023771118412694258, 0.04059216554288812, 0.01014804138572203, 0.04059216554288812, 0.6951408349219591, 0.07103628970005421, 0.14714660009296945, 0.09158586413685155, 0.013083694876693077, 0.6149336592045747, 0.04579293206842577, 0.19625542315039615, 0.032709237191732694, 0.19939454359353048, 0.01661621196612754, 0.6480322666789741, 0.03323242393225508, 0.06646484786451017, 0.03323242393225508, 0.18081459493793658, 0.016437690448903326, 0.5424437848138097, 0.0657507617956133, 0.16437690448903328, 0.03287538089780665, 0.06043298355988593, 0.06043298355988593, 0.06043298355988593, 0.06043298355988593, 0.6043298355988593, 0.12086596711977186, 0.12440305258332117, 0.11196274732498906, 0.037320915774996355, 0.6468958734332702, 0.024880610516664237, 0.04976122103332847, 0.0703705799161154, 0.21111173974834618, 0.011728429986019232, 0.6333352192450385, 0.011728429986019232, 0.05864214993009616, 0.18797339143861963, 0.015664449286551637, 0.6109135221755138, 0.10965114500586146, 0.06265779714620655, 0.015664449286551637, 0.2796454806233565, 0.0322667862257719, 0.5700465566553036, 0.010755595408590633, 0.09680035867731569, 0.021511190817181267, 0.043948580006395066, 0.043948580006395066, 0.7910744401151111, 0.043948580006395066, 0.043948580006395066, 0.043948580006395066, 0.2742369333109999, 0.0705180685656857, 0.07835340951742856, 0.03134136380697142, 0.46228511615282847, 0.07835340951742856, 0.05812352036891293, 0.05812352036891293, 0.11624704073782587, 0.05812352036891293, 0.11624704073782587, 0.5812352036891293, 0.10680596534019456, 0.05340298267009728, 0.05340298267009728, 0.05340298267009728, 0.6408357920411674, 0.05340298267009728, 0.04952282312142592, 0.04952282312142592, 0.7923651699428147, 0.04952282312142592, 0.04952282312142592, 0.04952282312142592, 0.06259650352012318, 0.020865501173374393, 0.041731002346748786, 0.6155322846145446, 0.10432750586687196, 0.16692400938699514, 0.01675522210732435, 0.005585074035774783, 0.005585074035774783, 0.8656864755450914, 0.0670208884292974, 0.0335104442146487, 0.03953809382620936, 0.015206959163926677, 0.02737252649506802, 0.21593882012775883, 0.06995201215406271, 0.6326095012193498, 0.11355467938436878, 0.03785155979478959, 0.03785155979478959, 0.03785155979478959, 0.11355467938436878, 0.6813280763062126, 0.8382803745969701, 0.04412001971563, 0.04412001971563, 0.04412001971563, 0.04412001971563, 0.04412001971563, 0.052600001409725206, 0.6838000183264277, 0.052600001409725206, 0.10520000281945041, 0.052600001409725206, 0.052600001409725206, 0.7646104365298231, 0.029408093712685504, 0.029408093712685504, 0.05881618742537101, 0.05881618742537101, 0.05881618742537101, 0.052544936955570075, 0.7881740543335511, 0.052544936955570075, 0.052544936955570075, 0.052544936955570075, 0.052544936955570075, 0.02844384289715812, 0.05688768579431624, 0.02844384289715812, 0.8533152869147436, 0.02844384289715812, 0.02844384289715812, 0.057083960226545265, 0.014270990056636316, 0.014270990056636316, 0.7849044531149975, 0.0856259403398179, 0.057083960226545265, 0.06105288850715021, 0.06105288850715021, 0.06105288850715021, 0.06105288850715021, 0.6715817735786523, 0.06105288850715021, 0.11320984545743133, 0.679259072744588, 0.056604922728715666, 0.056604922728715666, 0.056604922728715666, 0.056604922728715666, 0.052397811915561705, 0.052397811915561705, 0.7859671787334256, 0.052397811915561705, 0.052397811915561705, 0.052397811915561705, 0.05831584039145779, 0.029157920195728895, 0.7581059250889512, 0.029157920195728895, 0.08747376058718669, 0.029157920195728895, 0.2237914742083053, 0.018649289517358777, 0.037298579034717554, 0.07459715806943511, 0.09324644758679387, 0.5408293960034045, 0.05436077903057087, 0.83353194513542, 0.018120259676856956, 0.05436077903057087, 0.018120259676856956, 0.018120259676856956, 0.24949927551662612, 0.05757675588845219, 0.019192251962817396, 0.633344314772974, 0.019192251962817396, 0.019192251962817396, 0.7778164534700739, 0.05185443023133826, 0.05185443023133826, 0.05185443023133826, 0.05185443023133826, 0.05185443023133826, 0.054041373890560754, 0.0216165495562243, 0.11889102255923367, 0.14050757211545797, 0.0864661982248972, 0.572838563239944, 0.09633529497889598, 0.03211176499296533, 0.12844705997186132, 0.03211176499296533, 0.6743470648522719, 0.03211176499296533, 0.08037138625204507, 0.13395231042007513, 0.040185693126022534, 0.026790462084015025, 0.040185693126022534, 0.6965520141843906, 0.7324921919701541, 0.029299687678806165, 0.08789906303641849, 0.029299687678806165, 0.08789906303641849, 0.029299687678806165, 0.12864952005673586, 0.08576634670449057, 0.08576634670449057, 0.042883173352245285, 0.6432476002836792, 0.042883173352245285, 0.7386579325499968, 0.041036551808333155, 0.08207310361666631, 0.08207310361666631, 0.041036551808333155, 0.041036551808333155, 0.1152891910274225, 0.05764459551371125, 0.05764459551371125, 0.1152891910274225, 0.05764459551371125, 0.6340905506508238, 0.049483453534222295, 0.049483453534222295, 0.049483453534222295, 0.7422518030133344, 0.049483453534222295, 0.049483453534222295, 0.26403779048626363, 0.6270897524048762, 0.033004723810782954, 0.033004723810782954, 0.033004723810782954, 0.033004723810782954, 0.06935076491812925, 0.6935076491812926, 0.06935076491812925, 0.06935076491812925, 0.06935076491812925, 0.06935076491812925, 0.1321559437282439, 0.6607797186412195, 0.06607797186412195, 0.06607797186412195, 0.06607797186412195, 0.06607797186412195, 0.17037697229147597, 0.6815078891659039, 0.056792324097158654, 0.056792324097158654, 0.056792324097158654, 0.056792324097158654, 0.09984521256273546, 0.09984521256273546, 0.09984521256273546, 0.09984521256273546, 0.09984521256273546, 0.5990712753764128, 0.10232559786573725, 0.7776745437796031, 0.0409302391462949, 0.0409302391462949, 0.02046511957314745, 0.02046511957314745, 0.11430036667746558, 0.05715018333873279, 0.22145696043758956, 0.3357573271150551, 0.10715659376012399, 0.17145055001619838, 0.1064946860994413, 0.019362670199898416, 0.17426403179908576, 0.009681335099949208, 0.04840667549974604, 0.6486494516965969, 0.09286767203463377, 0.02321691800865844, 0.8125921303030454, 0.02321691800865844, 0.02321691800865844, 0.02321691800865844, 0.7449203342019921, 0.039206333379052216, 0.039206333379052216, 0.039206333379052216, 0.07841266675810443, 0.039206333379052216, 0.15210347820917614, 0.05070115940305871, 0.7351668113443512, 0.025350579701529354, 0.025350579701529354, 0.025350579701529354, 0.07485238871504934, 0.07485238871504934, 0.07485238871504934, 0.07485238871504934, 0.5988191097203948, 0.07485238871504934, 0.25844401796627486, 0.6138045426699027, 0.06461100449156872, 0.03230550224578436, 0.03230550224578436, 0.03230550224578436, 0.15499271761111424, 0.6587190498472355, 0.03874817940277856, 0.07749635880555712, 0.03874817940277856, 0.03874817940277856, 0.1622460418779434, 0.13520503489828617, 0.027041006979657233, 0.1622460418779434, 0.027041006979657233, 0.4867381256338302, 0.0562058834877068, 0.0562058834877068, 0.0562058834877068, 0.7306764853401884, 0.0562058834877068, 0.0562058834877068, 0.18972867281098957, 0.03794573456219791, 0.15178293824879163, 0.03794573456219791, 0.03794573456219791, 0.6071317529951665, 0.35417758187272097, 0.025298398705194354, 0.05059679741038871, 0.025298398705194354, 0.025298398705194354, 0.505967974103887, 0.05156984828568484, 0.05156984828568484, 0.05156984828568484, 0.7735477242852726, 0.05156984828568484, 0.05156984828568484, 0.011399791617455862, 0.011399791617455862, 0.011399791617455862, 0.13679749940947036, 0.022799583234911724, 0.8093852048393663, 0.23743979802863605, 0.4353062963858328, 0.11871989901431802, 0.14510209879527758, 0.026382199780959563, 0.026382199780959563, 0.04072857092781951, 0.04072857092781951, 0.8145714185563901, 0.04072857092781951, 0.04072857092781951, 0.04072857092781951, 0.050651329435318894, 0.050651329435318894, 0.10130265887063779, 0.7091186120944645, 0.10130265887063779, 0.050651329435318894, 0.035821940436812666, 0.035821940436812666, 0.035821940436812666, 0.8239046300466913, 0.035821940436812666, 0.035821940436812666, 0.08437531393248288, 0.02109382848312072, 0.06328148544936216, 0.02109382848312072, 0.6117210260105008, 0.18984445634808647, 0.06373841417647098, 0.06373841417647098, 0.06373841417647098, 0.06373841417647098, 0.7011225559411809, 0.06373841417647098, 0.7420465433727035, 0.02748320531010013, 0.13741602655050064, 0.02748320531010013, 0.02748320531010013, 0.02748320531010013, 0.7400565951845395, 0.014950638286556354, 0.08222851057605994, 0.029901276573112708, 0.08222851057605994, 0.05232723400294723, 0.7358955425382296, 0.033449797388101346, 0.06689959477620269, 0.016724898694050673, 0.08362449347025337, 0.05017469608215202, 0.7859816439331858, 0.017863219180299678, 0.035726438360599355, 0.017863219180299678, 0.07145287672119871, 0.07145287672119871, 0.09601782303221597, 0.032005941010738656, 0.12802376404295462, 0.06401188202147731, 0.06401188202147731, 0.5761069381932957, 0.8051484288160653, 0.04879687447370093, 0.04879687447370093, 0.024398437236850465, 0.024398437236850465, 0.024398437236850465, 0.05161222285164811, 0.05161222285164811, 0.05161222285164811, 0.05161222285164811, 0.05161222285164811, 0.7741833427747217, 0.09991292923580473, 0.03330430974526825, 0.03330430974526825, 0.03330430974526825, 0.03330430974526825, 0.7326948143959013, 0.2444198343139541, 0.041900543025249266, 0.4888396686279082, 0.020950271512624633, 0.17458559593853862, 0.03491711918770773, 0.7838164038167049, 0.052254426921113664, 0.052254426921113664, 0.052254426921113664, 0.052254426921113664, 0.052254426921113664, 0.12748999623377916, 0.7224433119914153, 0.042496665411259724, 0.042496665411259724, 0.042496665411259724, 0.042496665411259724, 0.06433468947493248, 0.8480481794422917, 0.005848608134084771, 0.06433468947493248, 0.005848608134084771, 0.005848608134084771, 0.2524282847803019, 0.028047587197811318, 0.08414276159343397, 0.028047587197811318, 0.5609517439562264, 0.056095174395622636, 0.14377115614566013, 0.017971394518207517, 0.035942789036415033, 0.035942789036415033, 0.6110274136190557, 0.16174255066386767, 0.024007073636537188, 0.024007073636537188, 0.14404244181922313, 0.09602829454614875, 0.6481909881865041, 0.048014147273074376, 0.34186061269234197, 0.13148485103551613, 0.09642222409271184, 0.035062626942804306, 0.2191414183925269, 0.17531313471402152, 0.031746247420735424, 0.015873123710367712, 0.06349249484147085, 0.19047748452441252, 0.5873055772836053, 0.09523874226220626, 0.12144698084066441, 0.8390882312627722, 0.016560951932817872, 0.005520317310939291, 0.016560951932817872, 0.005520317310939291, 0.023200928380470703, 0.023200928380470703, 0.9048362068383574, 0.023200928380470703, 0.023200928380470703, 0.023200928380470703, 0.040902502505848676, 0.020451251252924338, 0.8794038038757466, 0.040902502505848676, 0.020451251252924338, 0.020451251252924338, 0.2004826315609961, 0.01822569377827237, 0.01822569377827237, 0.7472534449091673, 0.01822569377827237, 0.01822569377827237, 0.7954139184090396, 0.03699599620507161, 0.11098798861521483, 0.018497998102535804, 0.018497998102535804, 0.018497998102535804, 0.010493387426980595, 0.010493387426980595, 0.010493387426980595, 0.02098677485396119, 0.9444048684282534, 0.010493387426980595, 0.5396165393914208, 0.05019688738524845, 0.26353365877255436, 0.025098443692624223, 0.06274610923156056, 0.07529533107787267, 0.02819451434216821, 0.014097257171084105, 0.042291771513252314, 0.8740299446072145, 0.014097257171084105, 0.014097257171084105, 0.778756211189934, 0.055625443656423856, 0.055625443656423856, 0.055625443656423856, 0.055625443656423856, 0.055625443656423856, 0.07397900555424461, 0.02465966851808154, 0.02465966851808154, 0.7151303870243646, 0.02465966851808154, 0.12329834259040769, 0.819968816932482, 0.06377535242808194, 0.04555382316291567, 0.018221529265166268, 0.027332293897749403, 0.027332293897749403, 0.6487425342561564, 0.1261443816609193, 0.0720825038062396, 0.0901031297577995, 0.0360412519031198, 0.054061877854679696, 0.5294241603761999, 0.03308901002351249, 0.03308901002351249, 0.09926703007053748, 0.13235604009404997, 0.16544505011756247, 0.7538549467686326, 0.04188083037603514, 0.10470207594008786, 0.02094041518801757, 0.04188083037603514, 0.04188083037603514], \"Term\": [\"abortion\", \"abortion\", \"abortion\", \"abortion\", \"abortion\", \"abortion\", \"administration\", \"administration\", \"administration\", \"administration\", \"administration\", \"administration\", \"affordable\", \"affordable\", \"affordable\", \"affordable\", \"affordable\", \"affordable\", \"agenda\", \"agenda\", \"agenda\", \"agenda\", \"agenda\", \"agenda\", \"aliens\", \"aliens\", \"aliens\", \"aliens\", \"aliens\", \"aliens\", \"already\", \"already\", \"already\", \"already\", \"already\", \"already\", \"america\", \"america\", \"america\", \"america\", \"america\", \"america\", \"among\", \"among\", \"among\", \"among\", \"among\", \"among\", \"anything\", \"anything\", \"anything\", \"anything\", \"anything\", \"anything\", \"babies\", \"babies\", \"babies\", \"babies\", \"babies\", \"babies\", \"back\", \"back\", \"back\", \"back\", \"back\", \"back\", \"better\", \"better\", \"better\", \"better\", \"better\", \"better\", \"biden\", \"biden\", \"biden\", \"biden\", \"biden\", \"biden\", \"biggest\", \"biggest\", \"biggest\", \"biggest\", \"biggest\", \"biggest\", \"black\", \"black\", \"black\", \"black\", \"black\", \"black\", \"blacks\", \"blacks\", \"blacks\", \"blacks\", \"blacks\", \"blacks\", \"border\", \"border\", \"border\", \"border\", \"border\", \"border\", \"bring\", \"bring\", \"bring\", \"bring\", \"bring\", \"bring\", \"brutality\", \"brutality\", \"brutality\", \"brutality\", \"brutality\", \"brutality\", \"business\", \"business\", \"business\", \"business\", \"business\", \"business\", \"businesses\", \"businesses\", \"businesses\", \"businesses\", \"businesses\", \"businesses\", \"cant\", \"cant\", \"cant\", \"cant\", \"cant\", \"cant\", \"care\", \"care\", \"care\", \"care\", \"care\", \"care\", \"censorship\", \"censorship\", \"censorship\", \"censorship\", \"censorship\", \"censorship\", \"change\", \"change\", \"change\", \"change\", \"change\", \"change\", \"children\", \"children\", \"children\", \"children\", \"children\", \"children\", \"china\", \"china\", \"china\", \"china\", \"china\", \"china\", \"class\", \"class\", \"class\", \"class\", \"class\", \"class\", \"climate\", \"climate\", \"climate\", \"climate\", \"climate\", \"climate\", \"closing\", \"closing\", \"closing\", \"closing\", \"closing\", \"closing\", \"color\", \"color\", \"color\", \"color\", \"color\", \"color\", \"come\", \"come\", \"come\", \"come\", \"come\", \"come\", \"congress\", \"congress\", \"congress\", \"congress\", \"congress\", \"congress\", \"conspiracy\", \"conspiracy\", \"conspiracy\", \"conspiracy\", \"conspiracy\", \"conspiracy\", \"control\", \"control\", \"control\", \"control\", \"control\", \"control\", \"corona\", \"corona\", \"corona\", \"corona\", \"corona\", \"corona\", \"coronavirus\", \"coronavirus\", \"coronavirus\", \"coronavirus\", \"coronavirus\", \"coronavirus\", \"corrupt\", \"corrupt\", \"corrupt\", \"corrupt\", \"corrupt\", \"corrupt\", \"corruption\", \"corruption\", \"corruption\", \"corruption\", \"corruption\", \"corruption\", \"cost\", \"cost\", \"cost\", \"cost\", \"cost\", \"cost\", \"could\", \"could\", \"could\", \"could\", \"could\", \"could\", \"countries\", \"countries\", \"countries\", \"countries\", \"countries\", \"countries\", \"country\", \"country\", \"country\", \"country\", \"country\", \"country\", \"court\", \"court\", \"court\", \"court\", \"court\", \"court\", \"coverage\", \"coverage\", \"coverage\", \"coverage\", \"coverage\", \"coverage\", \"covid\", \"covid\", \"covid\", \"covid\", \"covid\", \"covid\", \"crimes\", \"crimes\", \"crimes\", \"crimes\", \"crimes\", \"crimes\", \"cure\", \"cure\", \"cure\", \"cure\", \"cure\", \"cure\", \"de\", \"de\", \"de\", \"de\", \"de\", \"de\", \"deaths\", \"deaths\", \"deaths\", \"deaths\", \"deaths\", \"deaths\", \"debt\", \"debt\", \"debt\", \"debt\", \"debt\", \"debt\", \"deficit\", \"deficit\", \"deficit\", \"deficit\", \"deficit\", \"deficit\", \"defunding\", \"defunding\", \"defunding\", \"defunding\", \"defunding\", \"defunding\", \"democrat\", \"democrat\", \"democrat\", \"democrat\", \"democrat\", \"democrat\", \"democratic\", \"democratic\", \"democratic\", \"democratic\", \"democratic\", \"democratic\", \"democrats\", \"democrats\", \"democrats\", \"democrats\", \"democrats\", \"democrats\", \"discrimination\", \"discrimination\", \"discrimination\", \"discrimination\", \"discrimination\", \"discrimination\", \"disparities\", \"disparities\", \"disparities\", \"disparities\", \"disparities\", \"disparities\", \"disparity\", \"disparity\", \"disparity\", \"disparity\", \"disparity\", \"disparity\", \"divide\", \"divide\", \"divide\", \"divide\", \"divide\", \"divide\", \"divided\", \"divided\", \"divided\", \"divided\", \"divided\", \"divided\", \"dividing\", \"dividing\", \"dividing\", \"dividing\", \"dividing\", \"dividing\", \"division\", \"division\", \"division\", \"division\", \"division\", \"division\", \"divisiveness\", \"divisiveness\", \"divisiveness\", \"divisiveness\", \"divisiveness\", \"divisiveness\", \"donald\", \"donald\", \"donald\", \"donald\", \"donald\", \"donald\", \"dont\", \"dont\", \"dont\", \"dont\", \"dont\", \"dont\", \"drug\", \"drug\", \"drug\", \"drug\", \"drug\", \"drug\", \"due\", \"due\", \"due\", \"due\", \"due\", \"due\", \"economic\", \"economic\", \"economic\", \"economic\", \"economic\", \"economic\", \"economy\", \"economy\", \"economy\", \"economy\", \"economy\", \"economy\", \"education\", \"education\", \"education\", \"education\", \"education\", \"education\", \"el\", \"el\", \"el\", \"el\", \"el\", \"el\", \"election\", \"election\", \"election\", \"election\", \"election\", \"election\", \"else\", \"else\", \"else\", \"else\", \"else\", \"else\", \"en\", \"en\", \"en\", \"en\", \"en\", \"en\", \"enforcement\", \"enforcement\", \"enforcement\", \"enforcement\", \"enforcement\", \"enforcement\", \"environment\", \"environment\", \"environment\", \"environment\", \"environment\", \"environment\", \"environmental\", \"environmental\", \"environmental\", \"environmental\", \"environmental\", \"environmental\", \"equal\", \"equal\", \"equal\", \"equal\", \"equal\", \"equal\", \"equality\", \"equality\", \"equality\", \"equality\", \"equality\", \"equality\", \"expensive\", \"expensive\", \"expensive\", \"expensive\", \"expensive\", \"expensive\", \"facing\", \"facing\", \"facing\", \"facing\", \"facing\", \"facing\", \"fairly\", \"fairly\", \"fairly\", \"fairly\", \"fairly\", \"fairly\", \"fake\", \"fake\", \"fake\", \"fake\", \"fake\", \"fake\", \"federal\", \"federal\", \"federal\", \"federal\", \"federal\", \"federal\", \"feel\", \"feel\", \"feel\", \"feel\", \"feel\", \"feel\", \"fighting\", \"fighting\", \"fighting\", \"fighting\", \"fighting\", \"fighting\", \"food\", \"food\", \"food\", \"food\", \"food\", \"food\", \"fraud\", \"fraud\", \"fraud\", \"fraud\", \"fraud\", \"fraud\", \"freedom\", \"freedom\", \"freedom\", \"freedom\", \"freedom\", \"freedom\", \"gap\", \"gap\", \"gap\", \"gap\", \"gap\", \"gap\", \"gender\", \"gender\", \"gender\", \"gender\", \"gender\", \"gender\", \"get\", \"get\", \"get\", \"get\", \"get\", \"get\", \"getting\", \"getting\", \"getting\", \"getting\", \"getting\", \"getting\", \"global\", \"global\", \"global\", \"global\", \"global\", \"global\", \"god\", \"god\", \"god\", \"god\", \"god\", \"god\", \"going\", \"going\", \"going\", \"going\", \"going\", \"going\", \"government\", \"government\", \"government\", \"government\", \"government\", \"government\", \"gun\", \"gun\", \"gun\", \"gun\", \"gun\", \"gun\", \"handling\", \"handling\", \"handling\", \"handling\", \"handling\", \"handling\", \"hate\", \"hate\", \"hate\", \"hate\", \"hate\", \"hate\", \"hatred\", \"hatred\", \"hatred\", \"hatred\", \"hatred\", \"hatred\", \"health\", \"health\", \"health\", \"health\", \"health\", \"health\", \"healthcare\", \"healthcare\", \"healthcare\", \"healthcare\", \"healthcare\", \"healthcare\", \"help\", \"help\", \"help\", \"help\", \"help\", \"help\", \"high\", \"high\", \"high\", \"high\", \"high\", \"high\", \"homeless\", \"homeless\", \"homeless\", \"homeless\", \"homeless\", \"homeless\", \"homelessness\", \"homelessness\", \"homelessness\", \"homelessness\", \"homelessness\", \"homelessness\", \"human\", \"human\", \"human\", \"human\", \"human\", \"human\", \"illegal\", \"illegal\", \"illegal\", \"illegal\", \"illegal\", \"illegal\", \"illegals\", \"illegals\", \"illegals\", \"illegals\", \"illegals\", \"illegals\", \"immigrants\", \"immigrants\", \"immigrants\", \"immigrants\", \"immigrants\", \"immigrants\", \"immigration\", \"immigration\", \"immigration\", \"immigration\", \"immigration\", \"immigration\", \"income\", \"income\", \"income\", \"income\", \"income\", \"income\", \"inequalities\", \"inequalities\", \"inequalities\", \"inequalities\", \"inequalities\", \"inequalities\", \"inequality\", \"inequality\", \"inequality\", \"inequality\", \"inequality\", \"inequality\", \"inequity\", \"inequity\", \"inequity\", \"inequity\", \"inequity\", \"inequity\", \"influence\", \"influence\", \"influence\", \"influence\", \"influence\", \"influence\", \"infrastructure\", \"infrastructure\", \"infrastructure\", \"infrastructure\", \"infrastructure\", \"infrastructure\", \"injustice\", \"injustice\", \"injustice\", \"injustice\", \"injustice\", \"injustice\", \"insurance\", \"insurance\", \"insurance\", \"insurance\", \"insurance\", \"insurance\", \"integrity\", \"integrity\", \"integrity\", \"integrity\", \"integrity\", \"integrity\", \"issues\", \"issues\", \"issues\", \"issues\", \"issues\", \"issues\", \"job\", \"job\", \"job\", \"job\", \"job\", \"job\", \"jobs\", \"jobs\", \"jobs\", \"jobs\", \"jobs\", \"jobs\", \"joe\", \"joe\", \"joe\", \"joe\", \"joe\", \"joe\", \"justice\", \"justice\", \"justice\", \"justice\", \"justice\", \"justice\", \"kids\", \"kids\", \"kids\", \"kids\", \"kids\", \"kids\", \"know\", \"know\", \"know\", \"know\", \"know\", \"know\", \"la\", \"la\", \"la\", \"la\", \"la\", \"la\", \"lack\", \"lack\", \"lack\", \"lack\", \"lack\", \"lack\", \"las\", \"las\", \"las\", \"las\", \"las\", \"las\", \"law\", \"law\", \"law\", \"law\", \"law\", \"law\", \"leadership\", \"leadership\", \"leadership\", \"leadership\", \"leadership\", \"leadership\", \"like\", \"like\", \"like\", \"like\", \"like\", \"like\", \"limits\", \"limits\", \"limits\", \"limits\", \"limits\", \"limits\", \"lives\", \"lives\", \"lives\", \"lives\", \"lives\", \"lives\", \"lockdowns\", \"lockdowns\", \"lockdowns\", \"lockdowns\", \"lockdowns\", \"lockdowns\", \"looting\", \"looting\", \"looting\", \"looting\", \"looting\", \"looting\", \"losing\", \"losing\", \"losing\", \"losing\", \"losing\", \"losing\", \"make\", \"make\", \"make\", \"make\", \"make\", \"make\", \"many\", \"many\", \"many\", \"many\", \"many\", \"many\", \"mask\", \"mask\", \"mask\", \"mask\", \"mask\", \"mask\", \"masks\", \"masks\", \"masks\", \"masks\", \"masks\", \"masks\", \"matter\", \"matter\", \"matter\", \"matter\", \"matter\", \"matter\", \"media\", \"media\", \"media\", \"media\", \"media\", \"media\", \"medical\", \"medical\", \"medical\", \"medical\", \"medical\", \"medical\", \"middle\", \"middle\", \"middle\", \"middle\", \"middle\", \"middle\", \"moment\", \"moment\", \"moment\", \"moment\", \"moment\", \"moment\", \"money\", \"money\", \"money\", \"money\", \"money\", \"money\", \"much\", \"much\", \"much\", \"much\", \"much\", \"much\", \"nation\", \"nation\", \"nation\", \"nation\", \"nation\", \"nation\", \"national\", \"national\", \"national\", \"national\", \"national\", \"national\", \"need\", \"need\", \"need\", \"need\", \"need\", \"need\", \"news\", \"news\", \"news\", \"news\", \"news\", \"news\", \"none\", \"none\", \"none\", \"none\", \"none\", \"none\", \"nothing\", \"nothing\", \"nothing\", \"nothing\", \"nothing\", \"nothing\", \"one\", \"one\", \"one\", \"one\", \"one\", \"one\", \"order\", \"order\", \"order\", \"order\", \"order\", \"order\", \"pandemic\", \"pandemic\", \"pandemic\", \"pandemic\", \"pandemic\", \"pandemic\", \"parties\", \"parties\", \"parties\", \"parties\", \"parties\", \"parties\", \"party\", \"party\", \"party\", \"party\", \"party\", \"party\", \"peace\", \"peace\", \"peace\", \"peace\", \"peace\", \"peace\", \"people\", \"people\", \"people\", \"people\", \"people\", \"people\", \"polarization\", \"polarization\", \"polarization\", \"polarization\", \"polarization\", \"polarization\", \"police\", \"police\", \"police\", \"police\", \"police\", \"police\", \"political\", \"political\", \"political\", \"political\", \"political\", \"political\", \"politicians\", \"politicians\", \"politicians\", \"politicians\", \"politicians\", \"politicians\", \"politics\", \"politics\", \"politics\", \"politics\", \"politics\", \"politics\", \"pollution\", \"pollution\", \"pollution\", \"pollution\", \"pollution\", \"pollution\", \"poor\", \"poor\", \"poor\", \"poor\", \"poor\", \"poor\", \"poverty\", \"poverty\", \"poverty\", \"poverty\", \"poverty\", \"poverty\", \"power\", \"power\", \"power\", \"power\", \"power\", \"power\", \"president\", \"president\", \"president\", \"president\", \"president\", \"president\", \"presidential\", \"presidential\", \"presidential\", \"presidential\", \"presidential\", \"presidential\", \"problem\", \"problem\", \"problem\", \"problem\", \"problem\", \"problem\", \"protecting\", \"protecting\", \"protecting\", \"protecting\", \"protecting\", \"protecting\", \"protection\", \"protection\", \"protection\", \"protection\", \"protection\", \"protection\", \"que\", \"que\", \"que\", \"que\", \"que\", \"que\", \"race\", \"race\", \"race\", \"race\", \"race\", \"race\", \"racial\", \"racial\", \"racial\", \"racial\", \"racial\", \"racial\", \"racism\", \"racism\", \"racism\", \"racism\", \"racism\", \"racism\", \"racist\", \"racist\", \"racist\", \"racist\", \"racist\", \"racist\", \"raise\", \"raise\", \"raise\", \"raise\", \"raise\", \"raise\", \"rates\", \"rates\", \"rates\", \"rates\", \"rates\", \"rates\", \"really\", \"really\", \"really\", \"really\", \"really\", \"really\", \"recession\", \"recession\", \"recession\", \"recession\", \"recession\", \"recession\", \"recovery\", \"recovery\", \"recovery\", \"recovery\", \"recovery\", \"recovery\", \"relations\", \"relations\", \"relations\", \"relations\", \"relations\", \"relations\", \"relationships\", \"relationships\", \"relationships\", \"relationships\", \"relationships\", \"relationships\", \"relief\", \"relief\", \"relief\", \"relief\", \"relief\", \"relief\", \"reporting\", \"reporting\", \"reporting\", \"reporting\", \"reporting\", \"reporting\", \"republican\", \"republican\", \"republican\", \"republican\", \"republican\", \"republican\", \"respect\", \"respect\", \"respect\", \"respect\", \"respect\", \"respect\", \"response\", \"response\", \"response\", \"response\", \"response\", \"response\", \"rich\", \"rich\", \"rich\", \"rich\", \"rich\", \"rich\", \"rid\", \"rid\", \"rid\", \"rid\", \"rid\", \"rid\", \"rights\", \"rights\", \"rights\", \"rights\", \"rights\", \"rights\", \"rioting\", \"rioting\", \"rioting\", \"rioting\", \"rioting\", \"rioting\", \"security\", \"security\", \"security\", \"security\", \"security\", \"security\", \"see\", \"see\", \"see\", \"see\", \"see\", \"see\", \"senate\", \"senate\", \"senate\", \"senate\", \"senate\", \"senate\", \"seriously\", \"seriously\", \"seriously\", \"seriously\", \"seriously\", \"seriously\", \"sex\", \"sex\", \"sex\", \"sex\", \"sex\", \"sex\", \"sexism\", \"sexism\", \"sexism\", \"sexism\", \"sexism\", \"sexism\", \"shut\", \"shut\", \"shut\", \"shut\", \"shut\", \"shut\", \"shutdown\", \"shutdown\", \"shutdown\", \"shutdown\", \"shutdown\", \"shutdown\", \"shutdowns\", \"shutdowns\", \"shutdowns\", \"shutdowns\", \"shutdowns\", \"shutdowns\", \"shutting\", \"shutting\", \"shutting\", \"shutting\", \"shutting\", \"shutting\", \"skin\", \"skin\", \"skin\", \"skin\", \"skin\", \"skin\", \"small\", \"small\", \"small\", \"small\", \"small\", \"small\", \"social\", \"social\", \"social\", \"social\", \"social\", \"social\", \"socialism\", \"socialism\", \"socialism\", \"socialism\", \"socialism\", \"socialism\", \"socialist\", \"socialist\", \"socialist\", \"socialist\", \"socialist\", \"socialist\", \"something\", \"something\", \"something\", \"something\", \"something\", \"something\", \"spending\", \"spending\", \"spending\", \"spending\", \"spending\", \"spending\", \"split\", \"split\", \"split\", \"split\", \"split\", \"split\", \"stimulus\", \"stimulus\", \"stimulus\", \"stimulus\", \"stimulus\", \"stimulus\", \"struggling\", \"struggling\", \"struggling\", \"struggling\", \"struggling\", \"struggling\", \"student\", \"student\", \"student\", \"student\", \"student\", \"student\", \"supremacy\", \"supremacy\", \"supremacy\", \"supremacy\", \"supremacy\", \"supremacy\", \"supreme\", \"supreme\", \"supreme\", \"supreme\", \"supreme\", \"supreme\", \"sure\", \"sure\", \"sure\", \"sure\", \"sure\", \"sure\", \"systematic\", \"systematic\", \"systematic\", \"systematic\", \"systematic\", \"systematic\", \"systemic\", \"systemic\", \"systemic\", \"systemic\", \"systemic\", \"systemic\", \"taxes\", \"taxes\", \"taxes\", \"taxes\", \"taxes\", \"taxes\", \"tech\", \"tech\", \"tech\", \"tech\", \"tech\", \"tech\", \"tension\", \"tension\", \"tension\", \"tension\", \"tension\", \"tension\", \"tensions\", \"tensions\", \"tensions\", \"tensions\", \"tensions\", \"tensions\", \"term\", \"term\", \"term\", \"term\", \"term\", \"term\", \"theories\", \"theories\", \"theories\", \"theories\", \"theories\", \"theories\", \"things\", \"things\", \"things\", \"things\", \"things\", \"things\", \"think\", \"think\", \"think\", \"think\", \"think\", \"think\", \"time\", \"time\", \"time\", \"time\", \"time\", \"time\", \"together\", \"together\", \"together\", \"together\", \"together\", \"together\", \"towards\", \"towards\", \"towards\", \"towards\", \"towards\", \"towards\", \"trade\", \"trade\", \"trade\", \"trade\", \"trade\", \"trade\", \"trafficking\", \"trafficking\", \"trafficking\", \"trafficking\", \"trafficking\", \"trafficking\", \"treated\", \"treated\", \"treated\", \"treated\", \"treated\", \"treated\", \"trump\", \"trump\", \"trump\", \"trump\", \"trump\", \"trump\", \"understand\", \"understand\", \"understand\", \"understand\", \"understand\", \"understand\", \"unemployed\", \"unemployed\", \"unemployed\", \"unemployed\", \"unemployed\", \"unemployed\", \"unemployment\", \"unemployment\", \"unemployment\", \"unemployment\", \"unemployment\", \"unemployment\", \"united\", \"united\", \"united\", \"united\", \"united\", \"united\", \"unity\", \"unity\", \"unity\", \"unity\", \"unity\", \"unity\", \"unrest\", \"unrest\", \"unrest\", \"unrest\", \"unrest\", \"unrest\", \"us\", \"us\", \"us\", \"us\", \"us\", \"us\", \"violence\", \"violence\", \"violence\", \"violence\", \"violence\", \"violence\", \"virus\", \"virus\", \"virus\", \"virus\", \"virus\", \"virus\", \"voter\", \"voter\", \"voter\", \"voter\", \"voter\", \"voter\", \"voting\", \"voting\", \"voting\", \"voting\", \"voting\", \"voting\", \"wage\", \"wage\", \"wage\", \"wage\", \"wage\", \"wage\", \"want\", \"want\", \"want\", \"want\", \"want\", \"want\", \"warming\", \"warming\", \"warming\", \"warming\", \"warming\", \"warming\", \"way\", \"way\", \"way\", \"way\", \"way\", \"way\", \"wealth\", \"wealth\", \"wealth\", \"wealth\", \"wealth\", \"wealth\", \"wear\", \"wear\", \"wear\", \"wear\", \"wear\", \"wear\", \"women\", \"women\", \"women\", \"women\", \"women\", \"women\", \"work\", \"work\", \"work\", \"work\", \"work\", \"work\", \"working\", \"working\", \"working\", \"working\", \"working\", \"working\", \"world\", \"world\", \"world\", \"world\", \"world\", \"world\", \"would\", \"would\", \"would\", \"would\", \"would\", \"would\"]}, \"R\": 30, \"lambda.step\": 0.01, \"plot.opts\": {\"xlab\": \"PC1\", \"ylab\": \"PC2\"}, \"topic.order\": [5, 6, 3, 2, 4, 1]};\n",
       "\n",
       "function LDAvis_load_lib(url, callback){\n",
       "  var s = document.createElement('script');\n",
       "  s.src = url;\n",
       "  s.async = true;\n",
       "  s.onreadystatechange = s.onload = callback;\n",
       "  s.onerror = function(){console.warn(\"failed to load library \" + url);};\n",
       "  document.getElementsByTagName(\"head\")[0].appendChild(s);\n",
       "}\n",
       "\n",
       "if(typeof(LDAvis) !== \"undefined\"){\n",
       "   // already loaded: just create the visualization\n",
       "   !function(LDAvis){\n",
       "       new LDAvis(\"#\" + \"ldavis_el23566851407143659125603292053683\", ldavis_el23566851407143659125603292053683_data);\n",
       "   }(LDAvis);\n",
       "}else if(typeof define === \"function\" && define.amd){\n",
       "   // require.js is available: use it to load d3/LDAvis\n",
       "   require.config({paths: {d3: \"https://d3js.org/d3.v5\"}});\n",
       "   require([\"d3\"], function(d3){\n",
       "      window.d3 = d3;\n",
       "      LDAvis_load_lib(\"https://cdn.jsdelivr.net/gh/bmabey/pyLDAvis@3.4.0/pyLDAvis/js/ldavis.v3.0.0.js\", function(){\n",
       "        new LDAvis(\"#\" + \"ldavis_el23566851407143659125603292053683\", ldavis_el23566851407143659125603292053683_data);\n",
       "      });\n",
       "    });\n",
       "}else{\n",
       "    // require.js not available: dynamically load d3 & LDAvis\n",
       "    LDAvis_load_lib(\"https://d3js.org/d3.v5.js\", function(){\n",
       "         LDAvis_load_lib(\"https://cdn.jsdelivr.net/gh/bmabey/pyLDAvis@3.4.0/pyLDAvis/js/ldavis.v3.0.0.js\", function(){\n",
       "                 new LDAvis(\"#\" + \"ldavis_el23566851407143659125603292053683\", ldavis_el23566851407143659125603292053683_data);\n",
       "            })\n",
       "         });\n",
       "}\n",
       "</script>"
      ],
      "text/plain": [
       "PreparedData(topic_coordinates=              x         y  topics  cluster       Freq\n",
       "topic                                                \n",
       "4     -0.012118 -0.065377       1        1  25.514580\n",
       "5      0.174293 -0.113866       2        1  17.245034\n",
       "2     -0.136280 -0.062237       3        1  16.853621\n",
       "1      0.095622  0.160422       4        1  15.517849\n",
       "3     -0.062663 -0.000747       5        1  13.748147\n",
       "0     -0.058855  0.081803       6        1  11.120769, topic_info=           Term        Freq       Total Category  logprob  loglift\n",
       "191       covid  695.000000  695.000000  Default  30.0000  30.0000\n",
       "717      racism  328.000000  328.000000  Default  29.0000  29.0000\n",
       "271     economy  435.000000  435.000000  Default  28.0000  28.0000\n",
       "638    pandemic  376.000000  376.000000  Default  27.0000  27.0000\n",
       "464  inequality  164.000000  164.000000  Default  26.0000  26.0000\n",
       "..          ...         ...         ...      ...      ...      ...\n",
       "495        lack   30.674965  208.995272   Topic6  -4.7910   0.2775\n",
       "661      police   29.186664  197.082365   Topic6  -4.8407   0.2864\n",
       "818      social   23.829967  139.982053   Topic6  -5.0435   0.4258\n",
       "253    division   22.701236  177.061577   Topic6  -5.0920   0.1423\n",
       "935          us   19.810375  114.081583   Topic6  -5.2282   0.4456\n",
       "\n",
       "[328 rows x 6 columns], token_table=      Topic      Freq      Term\n",
       "term                           \n",
       "2         1  0.064424  abortion\n",
       "2         2  0.016106  abortion\n",
       "2         3  0.032212  abortion\n",
       "2         4  0.032212  abortion\n",
       "2         5  0.048318  abortion\n",
       "...     ...       ...       ...\n",
       "992       2  0.041881     would\n",
       "992       3  0.104702     would\n",
       "992       4  0.020940     would\n",
       "992       5  0.041881     would\n",
       "992       6  0.041881     would\n",
       "\n",
       "[1572 rows x 3 columns], R=30, lambda_step=0.01, plot_opts={'xlab': 'PC1', 'ylab': 'PC2'}, topic_order=[5, 6, 3, 2, 4, 1])"
      ]
     },
     "execution_count": 61,
     "metadata": {},
     "output_type": "execute_result"
    }
   ],
   "source": [
    "# # this is a bit time consuming - make the if statement True\n",
    "# # if you want to execute visualization prep yourself\n",
    "if 1 == 1:\n",
    "    LDAvis_prepared = pyLDAvis.gensim.prepare(lda_model, corpus, id2word)\n",
    "    with open(LDAvis_data_filepath, 'wb') as f:\n",
    "        pickle.dump(LDAvis_prepared, f)\n",
    "# load the pre-prepared pyLDAvis data from disk\n",
    "with open(LDAvis_data_filepath, 'rb') as f:\n",
    "    LDAvis_prepared = pickle.load(f)\n",
    "pyLDAvis.save_html(LDAvis_prepared, '/mnt/home/kim/thesis/data/processed_data/ldavis_'+ str(num_topics) +'.html')\n",
    "LDAvis_prepared"
   ]
  },
  {
   "cell_type": "code",
   "execution_count": null,
   "id": "5cd40c6d",
   "metadata": {},
   "outputs": [],
   "source": []
  },
  {
   "cell_type": "markdown",
   "id": "19bf5c4a",
   "metadata": {},
   "source": [
    "### Top words"
   ]
  },
  {
   "cell_type": "code",
   "execution_count": 55,
   "id": "1534a8e0",
   "metadata": {},
   "outputs": [],
   "source": [
    "from gensim.utils import simple_preprocess\n",
    "from collections import Counter\n",
    "from itertools import combinations\n",
    "import pickle"
   ]
  },
  {
   "cell_type": "code",
   "execution_count": 56,
   "id": "9168f217",
   "metadata": {},
   "outputs": [],
   "source": [
    "# Extract top words for each topic\n",
    "top_words_per_topic = []\n",
    "for t in range(num_topics):\n",
    "    top_words = [word for word, _ in lda_model.show_topic(t, topn=10)]\n",
    "    top_words_per_topic.append(top_words)"
   ]
  },
  {
   "cell_type": "code",
   "execution_count": 57,
   "id": "77b8bd6b",
   "metadata": {},
   "outputs": [
    {
     "data": {
      "text/plain": [
       "[['racism',\n",
       "  'debt',\n",
       "  'national',\n",
       "  'systemic',\n",
       "  'socialism',\n",
       "  'people',\n",
       "  'rights',\n",
       "  'security',\n",
       "  'abortion',\n",
       "  'law'],\n",
       " ['climate',\n",
       "  'inequality',\n",
       "  'racial',\n",
       "  'change',\n",
       "  'police',\n",
       "  'education',\n",
       "  'healthcare',\n",
       "  'income',\n",
       "  'economic',\n",
       "  'brutality'],\n",
       " ['media',\n",
       "  'election',\n",
       "  'political',\n",
       "  'government',\n",
       "  'corruption',\n",
       "  'division',\n",
       "  'trump',\n",
       "  'democrats',\n",
       "  'party',\n",
       "  'president'],\n",
       " ['immigration',\n",
       "  'country',\n",
       "  'global',\n",
       "  'warming',\n",
       "  'illegal',\n",
       "  'divided',\n",
       "  'problem',\n",
       "  'environment',\n",
       "  'divide',\n",
       "  'covid'],\n",
       " ['people',\n",
       "  'need',\n",
       "  'get',\n",
       "  'think',\n",
       "  'covid',\n",
       "  'country',\n",
       "  'work',\n",
       "  'back',\n",
       "  'getting',\n",
       "  'many']]"
      ]
     },
     "execution_count": 57,
     "metadata": {},
     "output_type": "execute_result"
    }
   ],
   "source": [
    "top_words_per_topic[:5]"
   ]
  },
  {
   "cell_type": "code",
   "execution_count": 58,
   "id": "f2348af2",
   "metadata": {},
   "outputs": [],
   "source": [
    "# Compute co-occurrence matrix\n",
    "def compute_cooccurrence_matrix(texts):\n",
    "    word_counts = Counter(word for text in texts for word in text)\n",
    "    total_count = sum(word_counts.values())\n",
    "    word_pairs = Counter()\n",
    "    for text in texts:\n",
    "        for i, j in combinations(set(text), 2):\n",
    "            word_pairs[tuple(sorted([i, j]))] += 1\n",
    "    return word_pairs, word_counts, total_count\n",
    "\n",
    "word_pairs, word_counts, total_count = compute_cooccurrence_matrix(data_words)\n",
    "\n",
    "# Compute NPMI\n",
    "def compute_npmi(word_pairs, word_counts, total_count):\n",
    "    npmi_matrix = {}\n",
    "    for (w_i, w_j), cooccur_count in word_pairs.items():\n",
    "        p_i = word_counts[w_i] / total_count\n",
    "        p_j = word_counts[w_j] / total_count\n",
    "        p_ij = cooccur_count / total_count\n",
    "        if p_ij > 0:\n",
    "            pmi = np.log(p_ij / (p_i * p_j))\n",
    "            npmi = pmi / -np.log(p_ij)\n",
    "            npmi_matrix[(w_i, w_j)] = npmi\n",
    "    return npmi_matrix\n",
    "\n",
    "npmi_matrix = compute_npmi(word_pairs, word_counts, total_count)"
   ]
  },
  {
   "cell_type": "code",
   "execution_count": 59,
   "id": "95f55b07",
   "metadata": {},
   "outputs": [
    {
     "name": "stdout",
     "output_type": "stream",
     "text": [
      "Average NPMI for LDA topics: 0.2754209123365574\n"
     ]
    }
   ],
   "source": [
    "# Calculate average NPMI for each topic\n",
    "def average_npmi_for_topics(top_words_per_topic, npmi_matrix):\n",
    "    topic_npmis = []\n",
    "    for top_words in top_words_per_topic:\n",
    "        npmis = [npmi_matrix.get(tuple(sorted([w_i, w_j])), 0) for w_i, w_j in combinations(top_words, 2)]\n",
    "        if npmis:\n",
    "            topic_npmi = np.mean(npmis)\n",
    "            topic_npmis.append(topic_npmi)\n",
    "    return np.mean(topic_npmis) if topic_npmis else 0\n",
    "\n",
    "average_npmi = average_npmi_for_topics(top_words_per_topic, npmi_matrix)\n",
    "print(\"Average NPMI for LDA topics:\", average_npmi)"
   ]
  },
  {
   "cell_type": "markdown",
   "id": "d322a7ea",
   "metadata": {},
   "source": [
    "**Interpretation**\n",
    "\n",
    "High NPMI (close to 1): Indicates strong semantic coherence between words, meaning the words are likely to appear together in similar contexts. This is generally considered good for topics generated by models like LDA.\n",
    "\n",
    "NPMI around 0: Indicates that the words appear together about as frequently as expected by chance, suggesting neutral association.\n",
    "\n",
    "Low NPMI (negative values): Indicates that the words are unlikely to appear together, suggesting poor coherence for the topic."
   ]
  },
  {
   "cell_type": "code",
   "execution_count": null,
   "id": "f186015b",
   "metadata": {},
   "outputs": [],
   "source": []
  }
 ],
 "metadata": {
  "kernelspec": {
   "display_name": "Kim - 1st Custom Python environment",
   "language": "python",
   "name": "my-python-env"
  },
  "language_info": {
   "codemirror_mode": {
    "name": "ipython",
    "version": 3
   },
   "file_extension": ".py",
   "mimetype": "text/x-python",
   "name": "python",
   "nbconvert_exporter": "python",
   "pygments_lexer": "ipython3",
   "version": "3.9.12"
  }
 },
 "nbformat": 4,
 "nbformat_minor": 5
}
