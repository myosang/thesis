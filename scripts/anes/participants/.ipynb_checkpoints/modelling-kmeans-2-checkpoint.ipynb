{
 "cells": [
  {
   "cell_type": "markdown",
   "id": "b1f68921",
   "metadata": {},
   "source": [
    "# k-means modelling & Demographics"
   ]
  },
  {
   "cell_type": "code",
   "execution_count": 1,
   "id": "fd1be634",
   "metadata": {
    "scrolled": true
   },
   "outputs": [
    {
     "name": "stderr",
     "output_type": "stream",
     "text": [
      "/mnt/home/kim/venvs/my_environment/lib/python3.9/site-packages/umap/distances.py:1063: NumbaDeprecationWarning: \u001b[1mThe 'nopython' keyword argument was not supplied to the 'numba.jit' decorator. The implicit default value for this argument is currently False, but it will be changed to True in Numba 0.59.0. See https://numba.readthedocs.io/en/stable/reference/deprecation.html#deprecation-of-object-mode-fall-back-behaviour-when-using-jit for details.\u001b[0m\n",
      "  @numba.jit()\n",
      "/mnt/home/kim/venvs/my_environment/lib/python3.9/site-packages/umap/distances.py:1071: NumbaDeprecationWarning: \u001b[1mThe 'nopython' keyword argument was not supplied to the 'numba.jit' decorator. The implicit default value for this argument is currently False, but it will be changed to True in Numba 0.59.0. See https://numba.readthedocs.io/en/stable/reference/deprecation.html#deprecation-of-object-mode-fall-back-behaviour-when-using-jit for details.\u001b[0m\n",
      "  @numba.jit()\n",
      "/mnt/home/kim/venvs/my_environment/lib/python3.9/site-packages/umap/distances.py:1086: NumbaDeprecationWarning: \u001b[1mThe 'nopython' keyword argument was not supplied to the 'numba.jit' decorator. The implicit default value for this argument is currently False, but it will be changed to True in Numba 0.59.0. See https://numba.readthedocs.io/en/stable/reference/deprecation.html#deprecation-of-object-mode-fall-back-behaviour-when-using-jit for details.\u001b[0m\n",
      "  @numba.jit()\n",
      "/mnt/home/kim/venvs/my_environment/lib/python3.9/site-packages/umap/umap_.py:660: NumbaDeprecationWarning: \u001b[1mThe 'nopython' keyword argument was not supplied to the 'numba.jit' decorator. The implicit default value for this argument is currently False, but it will be changed to True in Numba 0.59.0. See https://numba.readthedocs.io/en/stable/reference/deprecation.html#deprecation-of-object-mode-fall-back-behaviour-when-using-jit for details.\u001b[0m\n",
      "  @numba.jit()\n",
      "2024-08-09 09:35:06.541186: I external/local_xla/xla/tsl/cuda/cudart_stub.cc:32] Could not find cuda drivers on your machine, GPU will not be used.\n",
      "2024-08-09 09:35:06.548949: I external/local_xla/xla/tsl/cuda/cudart_stub.cc:32] Could not find cuda drivers on your machine, GPU will not be used.\n",
      "2024-08-09 09:35:06.560374: E external/local_xla/xla/stream_executor/cuda/cuda_fft.cc:485] Unable to register cuFFT factory: Attempting to register factory for plugin cuFFT when one has already been registered\n",
      "2024-08-09 09:35:06.577474: E external/local_xla/xla/stream_executor/cuda/cuda_dnn.cc:8454] Unable to register cuDNN factory: Attempting to register factory for plugin cuDNN when one has already been registered\n",
      "2024-08-09 09:35:06.582626: E external/local_xla/xla/stream_executor/cuda/cuda_blas.cc:1452] Unable to register cuBLAS factory: Attempting to register factory for plugin cuBLAS when one has already been registered\n",
      "2024-08-09 09:35:06.595948: I tensorflow/core/platform/cpu_feature_guard.cc:210] This TensorFlow binary is optimized to use available CPU instructions in performance-critical operations.\n",
      "To enable the following instructions: AVX2 FMA, in other operations, rebuild TensorFlow with the appropriate compiler flags.\n",
      "2024-08-09 09:35:10.135042: W tensorflow/compiler/tf2tensorrt/utils/py_utils.cc:38] TF-TRT Warning: Could not find TensorRT\n"
     ]
    }
   ],
   "source": [
    "import pandas as pd\n",
    "import numpy as np\n",
    "from ast import literal_eval\n",
    "from sklearn.decomposition import PCA\n",
    "from sklearn.cluster import KMeans\n",
    "from sklearn import metrics\n",
    "from sklearn.metrics import silhouette_score, calinski_harabasz_score, davies_bouldin_score\n",
    "from scipy.spatial.distance import cdist\n",
    "import matplotlib.pyplot as plt\n",
    "from sklearn.preprocessing import StandardScaler\n",
    "from umap import UMAP"
   ]
  },
  {
   "cell_type": "markdown",
   "id": "88799871",
   "metadata": {},
   "source": [
    "## Demographics dataset"
   ]
  },
  {
   "cell_type": "code",
   "execution_count": 173,
   "id": "46fc622e",
   "metadata": {
    "scrolled": true
   },
   "outputs": [],
   "source": [
    "# get the demographcis dataset\n",
    "demos = pd.read_csv('~/thesis/data/processed_data/anes_demographics.csv')"
   ]
  },
  {
   "cell_type": "code",
   "execution_count": 174,
   "id": "532b6395",
   "metadata": {},
   "outputs": [],
   "source": [
    "demos.set_index('id_case', inplace=True)"
   ]
  },
  {
   "cell_type": "code",
   "execution_count": 175,
   "id": "c1b99a58",
   "metadata": {},
   "outputs": [
    {
     "data": {
      "text/html": [
       "<div>\n",
       "<style scoped>\n",
       "    .dataframe tbody tr th:only-of-type {\n",
       "        vertical-align: middle;\n",
       "    }\n",
       "\n",
       "    .dataframe tbody tr th {\n",
       "        vertical-align: top;\n",
       "    }\n",
       "\n",
       "    .dataframe thead th {\n",
       "        text-align: right;\n",
       "    }\n",
       "</style>\n",
       "<table border=\"1\" class=\"dataframe\">\n",
       "  <thead>\n",
       "    <tr style=\"text-align: right;\">\n",
       "      <th></th>\n",
       "      <th>POST_vote</th>\n",
       "      <th>POST_president</th>\n",
       "      <th>PRE_present_religion</th>\n",
       "      <th>PRE_age</th>\n",
       "      <th>PRE_education</th>\n",
       "      <th>PRE_race</th>\n",
       "      <th>PRE_sex</th>\n",
       "      <th>PRE_occupation</th>\n",
       "    </tr>\n",
       "    <tr>\n",
       "      <th>id_case</th>\n",
       "      <th></th>\n",
       "      <th></th>\n",
       "      <th></th>\n",
       "      <th></th>\n",
       "      <th></th>\n",
       "      <th></th>\n",
       "      <th></th>\n",
       "      <th></th>\n",
       "    </tr>\n",
       "  </thead>\n",
       "  <tbody>\n",
       "    <tr>\n",
       "      <th>200015</th>\n",
       "      <td>-1</td>\n",
       "      <td>-1</td>\n",
       "      <td>11</td>\n",
       "      <td>46</td>\n",
       "      <td>4</td>\n",
       "      <td>3</td>\n",
       "      <td>1</td>\n",
       "      <td>1</td>\n",
       "    </tr>\n",
       "    <tr>\n",
       "      <th>200022</th>\n",
       "      <td>1</td>\n",
       "      <td>3</td>\n",
       "      <td>12</td>\n",
       "      <td>37</td>\n",
       "      <td>3</td>\n",
       "      <td>4</td>\n",
       "      <td>2</td>\n",
       "      <td>1</td>\n",
       "    </tr>\n",
       "    <tr>\n",
       "      <th>200039</th>\n",
       "      <td>1</td>\n",
       "      <td>1</td>\n",
       "      <td>11</td>\n",
       "      <td>40</td>\n",
       "      <td>2</td>\n",
       "      <td>1</td>\n",
       "      <td>2</td>\n",
       "      <td>7</td>\n",
       "    </tr>\n",
       "    <tr>\n",
       "      <th>200046</th>\n",
       "      <td>1</td>\n",
       "      <td>1</td>\n",
       "      <td>2</td>\n",
       "      <td>41</td>\n",
       "      <td>3</td>\n",
       "      <td>4</td>\n",
       "      <td>1</td>\n",
       "      <td>1</td>\n",
       "    </tr>\n",
       "    <tr>\n",
       "      <th>200053</th>\n",
       "      <td>1</td>\n",
       "      <td>2</td>\n",
       "      <td>12</td>\n",
       "      <td>72</td>\n",
       "      <td>5</td>\n",
       "      <td>5</td>\n",
       "      <td>1</td>\n",
       "      <td>5</td>\n",
       "    </tr>\n",
       "    <tr>\n",
       "      <th>...</th>\n",
       "      <td>...</td>\n",
       "      <td>...</td>\n",
       "      <td>...</td>\n",
       "      <td>...</td>\n",
       "      <td>...</td>\n",
       "      <td>...</td>\n",
       "      <td>...</td>\n",
       "      <td>...</td>\n",
       "    </tr>\n",
       "    <tr>\n",
       "      <th>535315</th>\n",
       "      <td>-1</td>\n",
       "      <td>-1</td>\n",
       "      <td>11</td>\n",
       "      <td>26</td>\n",
       "      <td>3</td>\n",
       "      <td>1</td>\n",
       "      <td>2</td>\n",
       "      <td>1</td>\n",
       "    </tr>\n",
       "    <tr>\n",
       "      <th>535360</th>\n",
       "      <td>1</td>\n",
       "      <td>2</td>\n",
       "      <td>4</td>\n",
       "      <td>52</td>\n",
       "      <td>4</td>\n",
       "      <td>1</td>\n",
       "      <td>2</td>\n",
       "      <td>1</td>\n",
       "    </tr>\n",
       "    <tr>\n",
       "      <th>535414</th>\n",
       "      <td>1</td>\n",
       "      <td>1</td>\n",
       "      <td>2</td>\n",
       "      <td>45</td>\n",
       "      <td>2</td>\n",
       "      <td>3</td>\n",
       "      <td>1</td>\n",
       "      <td>1</td>\n",
       "    </tr>\n",
       "    <tr>\n",
       "      <th>535421</th>\n",
       "      <td>-1</td>\n",
       "      <td>-1</td>\n",
       "      <td>1</td>\n",
       "      <td>65</td>\n",
       "      <td>3</td>\n",
       "      <td>1</td>\n",
       "      <td>2</td>\n",
       "      <td>1</td>\n",
       "    </tr>\n",
       "    <tr>\n",
       "      <th>535469</th>\n",
       "      <td>1</td>\n",
       "      <td>1</td>\n",
       "      <td>7</td>\n",
       "      <td>38</td>\n",
       "      <td>5</td>\n",
       "      <td>4</td>\n",
       "      <td>2</td>\n",
       "      <td>1</td>\n",
       "    </tr>\n",
       "  </tbody>\n",
       "</table>\n",
       "<p>8280 rows × 8 columns</p>\n",
       "</div>"
      ],
      "text/plain": [
       "         POST_vote  POST_president  PRE_present_religion  PRE_age  \\\n",
       "id_case                                                             \n",
       "200015          -1              -1                    11       46   \n",
       "200022           1               3                    12       37   \n",
       "200039           1               1                    11       40   \n",
       "200046           1               1                     2       41   \n",
       "200053           1               2                    12       72   \n",
       "...            ...             ...                   ...      ...   \n",
       "535315          -1              -1                    11       26   \n",
       "535360           1               2                     4       52   \n",
       "535414           1               1                     2       45   \n",
       "535421          -1              -1                     1       65   \n",
       "535469           1               1                     7       38   \n",
       "\n",
       "         PRE_education  PRE_race  PRE_sex  PRE_occupation  \n",
       "id_case                                                    \n",
       "200015               4         3        1               1  \n",
       "200022               3         4        2               1  \n",
       "200039               2         1        2               7  \n",
       "200046               3         4        1               1  \n",
       "200053               5         5        1               5  \n",
       "...                ...       ...      ...             ...  \n",
       "535315               3         1        2               1  \n",
       "535360               4         1        2               1  \n",
       "535414               2         3        1               1  \n",
       "535421               3         1        2               1  \n",
       "535469               5         4        2               1  \n",
       "\n",
       "[8280 rows x 8 columns]"
      ]
     },
     "execution_count": 175,
     "metadata": {},
     "output_type": "execute_result"
    }
   ],
   "source": [
    "demos"
   ]
  },
  {
   "cell_type": "markdown",
   "id": "95c37051",
   "metadata": {},
   "source": [
    "### filter only the YES vote to the president"
   ]
  },
  {
   "cell_type": "code",
   "execution_count": 176,
   "id": "30b4bbfe",
   "metadata": {},
   "outputs": [],
   "source": [
    "demos = demos[demos['POST_vote'] == 1]"
   ]
  },
  {
   "cell_type": "code",
   "execution_count": 177,
   "id": "42e90e7a",
   "metadata": {},
   "outputs": [
    {
     "data": {
      "text/html": [
       "<div>\n",
       "<style scoped>\n",
       "    .dataframe tbody tr th:only-of-type {\n",
       "        vertical-align: middle;\n",
       "    }\n",
       "\n",
       "    .dataframe tbody tr th {\n",
       "        vertical-align: top;\n",
       "    }\n",
       "\n",
       "    .dataframe thead th {\n",
       "        text-align: right;\n",
       "    }\n",
       "</style>\n",
       "<table border=\"1\" class=\"dataframe\">\n",
       "  <thead>\n",
       "    <tr style=\"text-align: right;\">\n",
       "      <th></th>\n",
       "      <th>POST_vote</th>\n",
       "      <th>POST_president</th>\n",
       "      <th>PRE_present_religion</th>\n",
       "      <th>PRE_age</th>\n",
       "      <th>PRE_education</th>\n",
       "      <th>PRE_race</th>\n",
       "      <th>PRE_sex</th>\n",
       "      <th>PRE_occupation</th>\n",
       "    </tr>\n",
       "    <tr>\n",
       "      <th>id_case</th>\n",
       "      <th></th>\n",
       "      <th></th>\n",
       "      <th></th>\n",
       "      <th></th>\n",
       "      <th></th>\n",
       "      <th></th>\n",
       "      <th></th>\n",
       "      <th></th>\n",
       "    </tr>\n",
       "  </thead>\n",
       "  <tbody>\n",
       "    <tr>\n",
       "      <th>200022</th>\n",
       "      <td>1</td>\n",
       "      <td>3</td>\n",
       "      <td>12</td>\n",
       "      <td>37</td>\n",
       "      <td>3</td>\n",
       "      <td>4</td>\n",
       "      <td>2</td>\n",
       "      <td>1</td>\n",
       "    </tr>\n",
       "    <tr>\n",
       "      <th>200039</th>\n",
       "      <td>1</td>\n",
       "      <td>1</td>\n",
       "      <td>11</td>\n",
       "      <td>40</td>\n",
       "      <td>2</td>\n",
       "      <td>1</td>\n",
       "      <td>2</td>\n",
       "      <td>7</td>\n",
       "    </tr>\n",
       "    <tr>\n",
       "      <th>200046</th>\n",
       "      <td>1</td>\n",
       "      <td>1</td>\n",
       "      <td>2</td>\n",
       "      <td>41</td>\n",
       "      <td>3</td>\n",
       "      <td>4</td>\n",
       "      <td>1</td>\n",
       "      <td>1</td>\n",
       "    </tr>\n",
       "    <tr>\n",
       "      <th>200053</th>\n",
       "      <td>1</td>\n",
       "      <td>2</td>\n",
       "      <td>12</td>\n",
       "      <td>72</td>\n",
       "      <td>5</td>\n",
       "      <td>5</td>\n",
       "      <td>1</td>\n",
       "      <td>5</td>\n",
       "    </tr>\n",
       "    <tr>\n",
       "      <th>200060</th>\n",
       "      <td>1</td>\n",
       "      <td>1</td>\n",
       "      <td>10</td>\n",
       "      <td>71</td>\n",
       "      <td>3</td>\n",
       "      <td>1</td>\n",
       "      <td>2</td>\n",
       "      <td>5</td>\n",
       "    </tr>\n",
       "    <tr>\n",
       "      <th>...</th>\n",
       "      <td>...</td>\n",
       "      <td>...</td>\n",
       "      <td>...</td>\n",
       "      <td>...</td>\n",
       "      <td>...</td>\n",
       "      <td>...</td>\n",
       "      <td>...</td>\n",
       "      <td>...</td>\n",
       "    </tr>\n",
       "    <tr>\n",
       "      <th>535292</th>\n",
       "      <td>1</td>\n",
       "      <td>2</td>\n",
       "      <td>11</td>\n",
       "      <td>65</td>\n",
       "      <td>2</td>\n",
       "      <td>1</td>\n",
       "      <td>2</td>\n",
       "      <td>6</td>\n",
       "    </tr>\n",
       "    <tr>\n",
       "      <th>535308</th>\n",
       "      <td>1</td>\n",
       "      <td>2</td>\n",
       "      <td>11</td>\n",
       "      <td>54</td>\n",
       "      <td>4</td>\n",
       "      <td>1</td>\n",
       "      <td>2</td>\n",
       "      <td>1</td>\n",
       "    </tr>\n",
       "    <tr>\n",
       "      <th>535360</th>\n",
       "      <td>1</td>\n",
       "      <td>2</td>\n",
       "      <td>4</td>\n",
       "      <td>52</td>\n",
       "      <td>4</td>\n",
       "      <td>1</td>\n",
       "      <td>2</td>\n",
       "      <td>1</td>\n",
       "    </tr>\n",
       "    <tr>\n",
       "      <th>535414</th>\n",
       "      <td>1</td>\n",
       "      <td>1</td>\n",
       "      <td>2</td>\n",
       "      <td>45</td>\n",
       "      <td>2</td>\n",
       "      <td>3</td>\n",
       "      <td>1</td>\n",
       "      <td>1</td>\n",
       "    </tr>\n",
       "    <tr>\n",
       "      <th>535469</th>\n",
       "      <td>1</td>\n",
       "      <td>1</td>\n",
       "      <td>7</td>\n",
       "      <td>38</td>\n",
       "      <td>5</td>\n",
       "      <td>4</td>\n",
       "      <td>2</td>\n",
       "      <td>1</td>\n",
       "    </tr>\n",
       "  </tbody>\n",
       "</table>\n",
       "<p>5952 rows × 8 columns</p>\n",
       "</div>"
      ],
      "text/plain": [
       "         POST_vote  POST_president  PRE_present_religion  PRE_age  \\\n",
       "id_case                                                             \n",
       "200022           1               3                    12       37   \n",
       "200039           1               1                    11       40   \n",
       "200046           1               1                     2       41   \n",
       "200053           1               2                    12       72   \n",
       "200060           1               1                    10       71   \n",
       "...            ...             ...                   ...      ...   \n",
       "535292           1               2                    11       65   \n",
       "535308           1               2                    11       54   \n",
       "535360           1               2                     4       52   \n",
       "535414           1               1                     2       45   \n",
       "535469           1               1                     7       38   \n",
       "\n",
       "         PRE_education  PRE_race  PRE_sex  PRE_occupation  \n",
       "id_case                                                    \n",
       "200022               3         4        2               1  \n",
       "200039               2         1        2               7  \n",
       "200046               3         4        1               1  \n",
       "200053               5         5        1               5  \n",
       "200060               3         1        2               5  \n",
       "...                ...       ...      ...             ...  \n",
       "535292               2         1        2               6  \n",
       "535308               4         1        2               1  \n",
       "535360               4         1        2               1  \n",
       "535414               2         3        1               1  \n",
       "535469               5         4        2               1  \n",
       "\n",
       "[5952 rows x 8 columns]"
      ]
     },
     "execution_count": 177,
     "metadata": {},
     "output_type": "execute_result"
    }
   ],
   "source": [
    "demos"
   ]
  },
  {
   "cell_type": "code",
   "execution_count": 178,
   "id": "c6d14439",
   "metadata": {},
   "outputs": [],
   "source": [
    "# Check for duplicate indices \n",
    "duplicates = demos.index.duplicated() # no duplicates exist"
   ]
  },
  {
   "cell_type": "markdown",
   "id": "1bd2a79d",
   "metadata": {},
   "source": [
    "### 1. dataset: mean embeddings(distilBERT)"
   ]
  },
  {
   "cell_type": "code",
   "execution_count": 179,
   "id": "2d3a5e0e",
   "metadata": {
    "scrolled": true
   },
   "outputs": [],
   "source": [
    "# Read the embedding file. Check generating procedure from the 'generate_embedding.ipynb' file. \n",
    "emb = pd.read_json(\"~/thesis/embeddings/response_distilbert_mentions_mean.jsonl\", orient = 'index')"
   ]
  },
  {
   "cell_type": "markdown",
   "id": "454f0c53",
   "metadata": {},
   "source": [
    "### filter only the indices exist in demos for the clustering"
   ]
  },
  {
   "cell_type": "code",
   "execution_count": 180,
   "id": "5145ea39",
   "metadata": {},
   "outputs": [],
   "source": [
    "emb = emb.loc[emb.index.isin(demos.index)]"
   ]
  },
  {
   "cell_type": "code",
   "execution_count": 181,
   "id": "d12fe4b4",
   "metadata": {
    "scrolled": true
   },
   "outputs": [
    {
     "data": {
      "text/html": [
       "<div>\n",
       "<style scoped>\n",
       "    .dataframe tbody tr th:only-of-type {\n",
       "        vertical-align: middle;\n",
       "    }\n",
       "\n",
       "    .dataframe tbody tr th {\n",
       "        vertical-align: top;\n",
       "    }\n",
       "\n",
       "    .dataframe thead th {\n",
       "        text-align: right;\n",
       "    }\n",
       "</style>\n",
       "<table border=\"1\" class=\"dataframe\">\n",
       "  <thead>\n",
       "    <tr style=\"text-align: right;\">\n",
       "      <th></th>\n",
       "      <th>mentions_mean</th>\n",
       "    </tr>\n",
       "  </thead>\n",
       "  <tbody>\n",
       "    <tr>\n",
       "      <th>200022</th>\n",
       "      <td>[-0.0759805093, -0.0740594914, 0.0240943432, -...</td>\n",
       "    </tr>\n",
       "    <tr>\n",
       "      <th>200039</th>\n",
       "      <td>[-0.15026521680000002, -0.1103845884, -0.10263...</td>\n",
       "    </tr>\n",
       "    <tr>\n",
       "      <th>200046</th>\n",
       "      <td>[-0.1957150598, -0.0617878518, -0.134287744700...</td>\n",
       "    </tr>\n",
       "    <tr>\n",
       "      <th>200053</th>\n",
       "      <td>[-0.0684372634, -0.024012153300000002, -0.1661...</td>\n",
       "    </tr>\n",
       "    <tr>\n",
       "      <th>200060</th>\n",
       "      <td>[-0.1655854881, -0.10083105660000001, -0.22874...</td>\n",
       "    </tr>\n",
       "    <tr>\n",
       "      <th>...</th>\n",
       "      <td>...</td>\n",
       "    </tr>\n",
       "    <tr>\n",
       "      <th>535292</th>\n",
       "      <td>[-0.18686612200000002, -0.0749088479, 0.009342...</td>\n",
       "    </tr>\n",
       "    <tr>\n",
       "      <th>535308</th>\n",
       "      <td>[-0.0627275705, -0.0224203393, -0.1385944883, ...</td>\n",
       "    </tr>\n",
       "    <tr>\n",
       "      <th>535360</th>\n",
       "      <td>[-0.22463344540000002, -0.0432103785, -0.28807...</td>\n",
       "    </tr>\n",
       "    <tr>\n",
       "      <th>535414</th>\n",
       "      <td>[-0.0554608752, -0.0208102949, -0.138257429000...</td>\n",
       "    </tr>\n",
       "    <tr>\n",
       "      <th>535469</th>\n",
       "      <td>[-0.1816969812, -0.0508102812, -0.2504089872, ...</td>\n",
       "    </tr>\n",
       "  </tbody>\n",
       "</table>\n",
       "<p>5865 rows × 1 columns</p>\n",
       "</div>"
      ],
      "text/plain": [
       "                                            mentions_mean\n",
       "200022  [-0.0759805093, -0.0740594914, 0.0240943432, -...\n",
       "200039  [-0.15026521680000002, -0.1103845884, -0.10263...\n",
       "200046  [-0.1957150598, -0.0617878518, -0.134287744700...\n",
       "200053  [-0.0684372634, -0.024012153300000002, -0.1661...\n",
       "200060  [-0.1655854881, -0.10083105660000001, -0.22874...\n",
       "...                                                   ...\n",
       "535292  [-0.18686612200000002, -0.0749088479, 0.009342...\n",
       "535308  [-0.0627275705, -0.0224203393, -0.1385944883, ...\n",
       "535360  [-0.22463344540000002, -0.0432103785, -0.28807...\n",
       "535414  [-0.0554608752, -0.0208102949, -0.138257429000...\n",
       "535469  [-0.1816969812, -0.0508102812, -0.2504089872, ...\n",
       "\n",
       "[5865 rows x 1 columns]"
      ]
     },
     "execution_count": 181,
     "metadata": {},
     "output_type": "execute_result"
    }
   ],
   "source": [
    "emb"
   ]
  },
  {
   "cell_type": "markdown",
   "id": "8b98be54",
   "metadata": {},
   "source": [
    "## Dimensionality reduction"
   ]
  },
  {
   "cell_type": "markdown",
   "id": "4114f417",
   "metadata": {},
   "source": [
    "### UMAP"
   ]
  },
  {
   "cell_type": "code",
   "execution_count": 182,
   "id": "f0e38872",
   "metadata": {},
   "outputs": [
    {
     "data": {
      "text/html": [
       "<div>\n",
       "<style scoped>\n",
       "    .dataframe tbody tr th:only-of-type {\n",
       "        vertical-align: middle;\n",
       "    }\n",
       "\n",
       "    .dataframe tbody tr th {\n",
       "        vertical-align: top;\n",
       "    }\n",
       "\n",
       "    .dataframe thead th {\n",
       "        text-align: right;\n",
       "    }\n",
       "</style>\n",
       "<table border=\"1\" class=\"dataframe\">\n",
       "  <thead>\n",
       "    <tr style=\"text-align: right;\">\n",
       "      <th></th>\n",
       "      <th>mentions_mean</th>\n",
       "    </tr>\n",
       "  </thead>\n",
       "  <tbody>\n",
       "    <tr>\n",
       "      <th>200022</th>\n",
       "      <td>[-0.0759805093, -0.0740594914, 0.0240943432, -...</td>\n",
       "    </tr>\n",
       "    <tr>\n",
       "      <th>200039</th>\n",
       "      <td>[-0.15026521680000002, -0.1103845884, -0.10263...</td>\n",
       "    </tr>\n",
       "    <tr>\n",
       "      <th>200046</th>\n",
       "      <td>[-0.1957150598, -0.0617878518, -0.134287744700...</td>\n",
       "    </tr>\n",
       "  </tbody>\n",
       "</table>\n",
       "</div>"
      ],
      "text/plain": [
       "                                            mentions_mean\n",
       "200022  [-0.0759805093, -0.0740594914, 0.0240943432, -...\n",
       "200039  [-0.15026521680000002, -0.1103845884, -0.10263...\n",
       "200046  [-0.1957150598, -0.0617878518, -0.134287744700..."
      ]
     },
     "execution_count": 182,
     "metadata": {},
     "output_type": "execute_result"
    }
   ],
   "source": [
    "emb.head(3)"
   ]
  },
  {
   "cell_type": "code",
   "execution_count": 183,
   "id": "79dec70f",
   "metadata": {
    "scrolled": true
   },
   "outputs": [
    {
     "data": {
      "text/plain": [
       "(5865, 768)"
      ]
     },
     "execution_count": 183,
     "metadata": {},
     "output_type": "execute_result"
    }
   ],
   "source": [
    "# \"transform embedding\"\n",
    "from ast import literal_eval\n",
    "emb['mentions_mean'] = emb['mentions_mean'].apply(np.array)  # convert list to numpy array\n",
    "matrix = np.vstack(emb['mentions_mean'].values)\n",
    "matrix.shape"
   ]
  },
  {
   "cell_type": "code",
   "execution_count": 184,
   "id": "967cda12",
   "metadata": {
    "scrolled": false
   },
   "outputs": [],
   "source": [
    "X = matrix.copy()"
   ]
  },
  {
   "cell_type": "code",
   "execution_count": 185,
   "id": "0d09a6e6",
   "metadata": {},
   "outputs": [
    {
     "data": {
      "text/plain": [
       "(5865, 768)"
      ]
     },
     "execution_count": 185,
     "metadata": {},
     "output_type": "execute_result"
    }
   ],
   "source": [
    "X.shape"
   ]
  },
  {
   "cell_type": "code",
   "execution_count": 186,
   "id": "12a15d5e",
   "metadata": {
    "scrolled": true
   },
   "outputs": [],
   "source": [
    "# Step 1: Normalize the data\n",
    "normalized_embeddings = StandardScaler().fit_transform(X)"
   ]
  },
  {
   "cell_type": "code",
   "execution_count": 187,
   "id": "de87be6c",
   "metadata": {},
   "outputs": [],
   "source": [
    "# Step 2: Apply UMAP for dimensionality reduction\n",
    "umap_model = UMAP(n_neighbors=10, min_dist=0.1, n_components=2, random_state=0)\n",
    "umap_embeddings = umap_model.fit_transform(normalized_embeddings)\n",
    "X = umap_embeddings.copy()"
   ]
  },
  {
   "cell_type": "markdown",
   "id": "2bb8c98a",
   "metadata": {},
   "source": [
    "### silhouette score"
   ]
  },
  {
   "cell_type": "code",
   "execution_count": 188,
   "id": "57d4e637",
   "metadata": {
    "scrolled": true
   },
   "outputs": [],
   "source": [
    "# Step 3: Use silhouette score to find optimal number of clusters\n",
    "silhouette_scores = []\n",
    "for num_clusters in range(2, 11):\n",
    "    kmeans = KMeans(n_clusters=num_clusters, random_state=0)\n",
    "    cluster_labels = kmeans.fit_predict(X)\n",
    "    silhouette_scores.append(silhouette_score(X, cluster_labels))\n",
    "\n",
    "optimal_num_clusters = silhouette_scores.index(max(silhouette_scores)) + 2"
   ]
  },
  {
   "cell_type": "markdown",
   "id": "8e38662b",
   "metadata": {},
   "source": [
    "The last line derives from the fact that silhouette score is calculated from the num_cluster 2, so therefore if retrieving index of the lists, the first element's index is 0 but it indicates the value of num_cluster 2, therefore +2 would make it easier to retrieve the value. \n"
   ]
  },
  {
   "cell_type": "code",
   "execution_count": 189,
   "id": "605d0e44",
   "metadata": {
    "scrolled": true
   },
   "outputs": [
    {
     "data": {
      "text/plain": [
       "2"
      ]
     },
     "execution_count": 189,
     "metadata": {},
     "output_type": "execute_result"
    }
   ],
   "source": [
    "optimal_num_clusters"
   ]
  },
  {
   "cell_type": "markdown",
   "id": "af387ce0",
   "metadata": {},
   "source": [
    "### elbow method"
   ]
  },
  {
   "cell_type": "code",
   "execution_count": 190,
   "id": "56e04177",
   "metadata": {
    "scrolled": false
   },
   "outputs": [],
   "source": [
    "# Use Elbow-analysis as well to find optimal number of clusters\n",
    "# Elbow analysis\n",
    "distortions = []\n",
    "inertias = []\n",
    "mapping1 = {}\n",
    "mapping2 = {}\n",
    "K = range(1, 20)\n",
    "\n",
    "for k in K:\n",
    "    # Building and fitting the model\n",
    "    kmeanModel = KMeans(n_clusters=k).fit(X)\n",
    "    kmeanModel.fit(X)\n",
    "\n",
    "    distortions.append(sum(np.min(cdist(X, kmeanModel.cluster_centers_,\n",
    "                                        'euclidean'), axis=1)) / X.shape[0])\n",
    "    inertias.append(kmeanModel.inertia_)\n",
    "\n",
    "    mapping1[k] = sum(np.min(cdist(X, kmeanModel.cluster_centers_,\n",
    "                                   'euclidean'), axis=1)) / X.shape[0]\n",
    "    mapping2[k] = kmeanModel.inertia_"
   ]
  },
  {
   "cell_type": "code",
   "execution_count": 191,
   "id": "751f6969",
   "metadata": {},
   "outputs": [
    {
     "data": {
      "image/png": "[encoded data removed]",
      "text/plain": [
       "<Figure size 1200x400 with 2 Axes>"
      ]
     },
     "metadata": {},
     "output_type": "display_data"
    }
   ],
   "source": [
    "# Create a figure with subplots\n",
    "fig, (ax1, ax2) = plt.subplots(1, 2, figsize=(12, 4))  # Adjust figsize as needed\n",
    "\n",
    "# Plot the first plot on ax1\n",
    "ax1.plot(K, distortions, 'bx-')\n",
    "ax1.set_xlabel('Values of_K')\n",
    "ax1.set_ylabel('Distortion')\n",
    "ax1.set_title('The Elbow Method using Distortion')\n",
    "\n",
    "\n",
    "# Plot the second plot on ax2\n",
    "ax2.plot(K, inertias, 'bx-')\n",
    "ax2.set_xlabel('Values of_K')\n",
    "ax2.set_ylabel('Inertia')\n",
    "ax2.set_title('The Elbow Method using Inertia')\n",
    "\n",
    "# Adjust layout to prevent overlap\n",
    "plt.tight_layout()\n",
    "\n",
    "# Display the plots\n",
    "plt.show()"
   ]
  },
  {
   "cell_type": "markdown",
   "id": "e3d2e9ee",
   "metadata": {},
   "source": [
    "## KMeans clustering"
   ]
  },
  {
   "cell_type": "code",
   "execution_count": 192,
   "id": "17abdb1b",
   "metadata": {
    "scrolled": false
   },
   "outputs": [],
   "source": [
    "# Step 4: Perform final clustering\n",
    "final_kmeans = KMeans(n_clusters = 2, random_state=0)\n",
    "final_cluster_labels = final_kmeans.fit_predict(X)\n",
    "\n",
    "# Save the result of clustering with random state 0 as a dataframe column\n",
    "emb['label'] = final_cluster_labels  "
   ]
  },
  {
   "cell_type": "code",
   "execution_count": 193,
   "id": "a4f6f791",
   "metadata": {},
   "outputs": [
    {
     "data": {
      "image/png": "[encoded data removed]",
      "text/plain": [
       "<Figure size 400x400 with 2 Axes>"
      ]
     },
     "metadata": {},
     "output_type": "display_data"
    }
   ],
   "source": [
    "# Visualize clustering depending on different random states.\n",
    "figures = [] # list to hold different figures. \n",
    "\n",
    "fig1, ax1 = plt.subplots()\n",
    "scatter = ax1.scatter(X[:, 0], X[:, 1], c=final_cluster_labels, cmap='viridis')\n",
    "ax1.set_xlabel('UMAP Dimension 1')\n",
    "ax1.set_ylabel('UMAP Dimension 2')\n",
    "ax1.set_title('UMAP Visualization of Text Clusters')\n",
    "\n",
    "colorbar = plt.colorbar(scatter, ax=ax1)\n",
    "colorbar.set_label('Cluster Label')\n",
    "\n",
    "figures.append(fig1)"
   ]
  },
  {
   "cell_type": "code",
   "execution_count": 194,
   "id": "44e61e2f",
   "metadata": {
    "scrolled": false
   },
   "outputs": [
    {
     "name": "stdout",
     "output_type": "stream",
     "text": [
      "\n",
      "\"Question 1\"\n",
      "\n",
      "Silhouette Coefficient: 0.8501220345497131\n",
      "Calinski-Harabasz Index: 68443.62704023035\n",
      "Davies-Bouldin Index: 0.18686490472106018\n"
     ]
    }
   ],
   "source": [
    "# Cluster labels obtained from clustering algorithm\n",
    "\n",
    "final_cluster_labels # cluster_labels_from_bert\n",
    "X # contextualized tokens of the input texts.\n",
    "\n",
    "# Specify the question that is addressed. \n",
    "print(\"\\n\\\"Question 1\\\"\\n\")\n",
    "\n",
    "# Calculate Silhouette Coefficient\n",
    "silhouette = silhouette_score(X, final_cluster_labels)\n",
    "print(f\"Silhouette Coefficient: {silhouette}\")\n",
    "\n",
    "# Calculate Calinski-Harabasz Index\n",
    "calinski = calinski_harabasz_score(X, final_cluster_labels)\n",
    "print(f\"Calinski-Harabasz Index: {calinski}\")\n",
    "\n",
    "# Calculate Davies-Bouldin Index\n",
    "davies_bouldin = davies_bouldin_score(X, final_cluster_labels)\n",
    "print(f\"Davies-Bouldin Index: {davies_bouldin}\")"
   ]
  },
  {
   "cell_type": "markdown",
   "id": "4f5102e5",
   "metadata": {},
   "source": [
    "## Manually check clusters"
   ]
  },
  {
   "cell_type": "code",
   "execution_count": 195,
   "id": "6a0f3594",
   "metadata": {},
   "outputs": [],
   "source": [
    "# create the community of the case ids(respondents) that are the result of the clustering\n",
    "keys = ['one', 'zero']\n",
    "communities = {key: [] for key in keys}\n",
    "\n",
    "emb['id_case'] = emb.index"
   ]
  },
  {
   "cell_type": "code",
   "execution_count": 196,
   "id": "1e137fe4",
   "metadata": {},
   "outputs": [
    {
     "data": {
      "text/html": [
       "<div>\n",
       "<style scoped>\n",
       "    .dataframe tbody tr th:only-of-type {\n",
       "        vertical-align: middle;\n",
       "    }\n",
       "\n",
       "    .dataframe tbody tr th {\n",
       "        vertical-align: top;\n",
       "    }\n",
       "\n",
       "    .dataframe thead th {\n",
       "        text-align: right;\n",
       "    }\n",
       "</style>\n",
       "<table border=\"1\" class=\"dataframe\">\n",
       "  <thead>\n",
       "    <tr style=\"text-align: right;\">\n",
       "      <th></th>\n",
       "      <th>mentions_mean</th>\n",
       "      <th>label</th>\n",
       "      <th>id_case</th>\n",
       "    </tr>\n",
       "  </thead>\n",
       "  <tbody>\n",
       "    <tr>\n",
       "      <th>200022</th>\n",
       "      <td>[-0.0759805093, -0.0740594914, 0.0240943432, -...</td>\n",
       "      <td>1</td>\n",
       "      <td>200022</td>\n",
       "    </tr>\n",
       "    <tr>\n",
       "      <th>200039</th>\n",
       "      <td>[-0.15026521680000002, -0.1103845884, -0.10263...</td>\n",
       "      <td>0</td>\n",
       "      <td>200039</td>\n",
       "    </tr>\n",
       "    <tr>\n",
       "      <th>200046</th>\n",
       "      <td>[-0.1957150598, -0.0617878518, -0.134287744700...</td>\n",
       "      <td>0</td>\n",
       "      <td>200046</td>\n",
       "    </tr>\n",
       "    <tr>\n",
       "      <th>200053</th>\n",
       "      <td>[-0.0684372634, -0.024012153300000002, -0.1661...</td>\n",
       "      <td>0</td>\n",
       "      <td>200053</td>\n",
       "    </tr>\n",
       "    <tr>\n",
       "      <th>200060</th>\n",
       "      <td>[-0.1655854881, -0.10083105660000001, -0.22874...</td>\n",
       "      <td>0</td>\n",
       "      <td>200060</td>\n",
       "    </tr>\n",
       "    <tr>\n",
       "      <th>...</th>\n",
       "      <td>...</td>\n",
       "      <td>...</td>\n",
       "      <td>...</td>\n",
       "    </tr>\n",
       "    <tr>\n",
       "      <th>535292</th>\n",
       "      <td>[-0.18686612200000002, -0.0749088479, 0.009342...</td>\n",
       "      <td>0</td>\n",
       "      <td>535292</td>\n",
       "    </tr>\n",
       "    <tr>\n",
       "      <th>535308</th>\n",
       "      <td>[-0.0627275705, -0.0224203393, -0.1385944883, ...</td>\n",
       "      <td>0</td>\n",
       "      <td>535308</td>\n",
       "    </tr>\n",
       "    <tr>\n",
       "      <th>535360</th>\n",
       "      <td>[-0.22463344540000002, -0.0432103785, -0.28807...</td>\n",
       "      <td>0</td>\n",
       "      <td>535360</td>\n",
       "    </tr>\n",
       "    <tr>\n",
       "      <th>535414</th>\n",
       "      <td>[-0.0554608752, -0.0208102949, -0.138257429000...</td>\n",
       "      <td>0</td>\n",
       "      <td>535414</td>\n",
       "    </tr>\n",
       "    <tr>\n",
       "      <th>535469</th>\n",
       "      <td>[-0.1816969812, -0.0508102812, -0.2504089872, ...</td>\n",
       "      <td>0</td>\n",
       "      <td>535469</td>\n",
       "    </tr>\n",
       "  </tbody>\n",
       "</table>\n",
       "<p>5865 rows × 3 columns</p>\n",
       "</div>"
      ],
      "text/plain": [
       "                                            mentions_mean  label  id_case\n",
       "200022  [-0.0759805093, -0.0740594914, 0.0240943432, -...      1   200022\n",
       "200039  [-0.15026521680000002, -0.1103845884, -0.10263...      0   200039\n",
       "200046  [-0.1957150598, -0.0617878518, -0.134287744700...      0   200046\n",
       "200053  [-0.0684372634, -0.024012153300000002, -0.1661...      0   200053\n",
       "200060  [-0.1655854881, -0.10083105660000001, -0.22874...      0   200060\n",
       "...                                                   ...    ...      ...\n",
       "535292  [-0.18686612200000002, -0.0749088479, 0.009342...      0   535292\n",
       "535308  [-0.0627275705, -0.0224203393, -0.1385944883, ...      0   535308\n",
       "535360  [-0.22463344540000002, -0.0432103785, -0.28807...      0   535360\n",
       "535414  [-0.0554608752, -0.0208102949, -0.138257429000...      0   535414\n",
       "535469  [-0.1816969812, -0.0508102812, -0.2504089872, ...      0   535469\n",
       "\n",
       "[5865 rows x 3 columns]"
      ]
     },
     "execution_count": 196,
     "metadata": {},
     "output_type": "execute_result"
    }
   ],
   "source": [
    "emb"
   ]
  },
  {
   "cell_type": "code",
   "execution_count": 197,
   "id": "64e23f9e",
   "metadata": {},
   "outputs": [
    {
     "data": {
      "text/plain": [
       "{'one': [], 'zero': []}"
      ]
     },
     "execution_count": 197,
     "metadata": {},
     "output_type": "execute_result"
    }
   ],
   "source": [
    "communities"
   ]
  },
  {
   "cell_type": "code",
   "execution_count": 198,
   "id": "750af03e",
   "metadata": {},
   "outputs": [],
   "source": [
    "for i in range(len(emb)):\n",
    "    if emb['label'].iloc[i] == 1:\n",
    "        communities['one'].append(emb['id_case'].iloc[i])\n",
    "    elif emb['label'].iloc[i] == 0: \n",
    "        communities['zero'].append(emb['id_case'].iloc[i])"
   ]
  },
  {
   "cell_type": "code",
   "execution_count": 199,
   "id": "efe8da4e",
   "metadata": {
    "scrolled": true
   },
   "outputs": [
    {
     "data": {
      "text/html": [
       "<div>\n",
       "<style scoped>\n",
       "    .dataframe tbody tr th:only-of-type {\n",
       "        vertical-align: middle;\n",
       "    }\n",
       "\n",
       "    .dataframe tbody tr th {\n",
       "        vertical-align: top;\n",
       "    }\n",
       "\n",
       "    .dataframe thead th {\n",
       "        text-align: right;\n",
       "    }\n",
       "</style>\n",
       "<table border=\"1\" class=\"dataframe\">\n",
       "  <thead>\n",
       "    <tr style=\"text-align: right;\">\n",
       "      <th></th>\n",
       "      <th>POST_vote</th>\n",
       "      <th>POST_president</th>\n",
       "      <th>PRE_present_religion</th>\n",
       "      <th>PRE_age</th>\n",
       "      <th>PRE_education</th>\n",
       "      <th>PRE_race</th>\n",
       "      <th>PRE_sex</th>\n",
       "      <th>PRE_occupation</th>\n",
       "    </tr>\n",
       "    <tr>\n",
       "      <th>id_case</th>\n",
       "      <th></th>\n",
       "      <th></th>\n",
       "      <th></th>\n",
       "      <th></th>\n",
       "      <th></th>\n",
       "      <th></th>\n",
       "      <th></th>\n",
       "      <th></th>\n",
       "    </tr>\n",
       "  </thead>\n",
       "  <tbody>\n",
       "    <tr>\n",
       "      <th>200022</th>\n",
       "      <td>1</td>\n",
       "      <td>3</td>\n",
       "      <td>12</td>\n",
       "      <td>37</td>\n",
       "      <td>3</td>\n",
       "      <td>4</td>\n",
       "      <td>2</td>\n",
       "      <td>1</td>\n",
       "    </tr>\n",
       "    <tr>\n",
       "      <th>200039</th>\n",
       "      <td>1</td>\n",
       "      <td>1</td>\n",
       "      <td>11</td>\n",
       "      <td>40</td>\n",
       "      <td>2</td>\n",
       "      <td>1</td>\n",
       "      <td>2</td>\n",
       "      <td>7</td>\n",
       "    </tr>\n",
       "    <tr>\n",
       "      <th>200046</th>\n",
       "      <td>1</td>\n",
       "      <td>1</td>\n",
       "      <td>2</td>\n",
       "      <td>41</td>\n",
       "      <td>3</td>\n",
       "      <td>4</td>\n",
       "      <td>1</td>\n",
       "      <td>1</td>\n",
       "    </tr>\n",
       "    <tr>\n",
       "      <th>200053</th>\n",
       "      <td>1</td>\n",
       "      <td>2</td>\n",
       "      <td>12</td>\n",
       "      <td>72</td>\n",
       "      <td>5</td>\n",
       "      <td>5</td>\n",
       "      <td>1</td>\n",
       "      <td>5</td>\n",
       "    </tr>\n",
       "    <tr>\n",
       "      <th>200060</th>\n",
       "      <td>1</td>\n",
       "      <td>1</td>\n",
       "      <td>10</td>\n",
       "      <td>71</td>\n",
       "      <td>3</td>\n",
       "      <td>1</td>\n",
       "      <td>2</td>\n",
       "      <td>5</td>\n",
       "    </tr>\n",
       "    <tr>\n",
       "      <th>...</th>\n",
       "      <td>...</td>\n",
       "      <td>...</td>\n",
       "      <td>...</td>\n",
       "      <td>...</td>\n",
       "      <td>...</td>\n",
       "      <td>...</td>\n",
       "      <td>...</td>\n",
       "      <td>...</td>\n",
       "    </tr>\n",
       "    <tr>\n",
       "      <th>535292</th>\n",
       "      <td>1</td>\n",
       "      <td>2</td>\n",
       "      <td>11</td>\n",
       "      <td>65</td>\n",
       "      <td>2</td>\n",
       "      <td>1</td>\n",
       "      <td>2</td>\n",
       "      <td>6</td>\n",
       "    </tr>\n",
       "    <tr>\n",
       "      <th>535308</th>\n",
       "      <td>1</td>\n",
       "      <td>2</td>\n",
       "      <td>11</td>\n",
       "      <td>54</td>\n",
       "      <td>4</td>\n",
       "      <td>1</td>\n",
       "      <td>2</td>\n",
       "      <td>1</td>\n",
       "    </tr>\n",
       "    <tr>\n",
       "      <th>535360</th>\n",
       "      <td>1</td>\n",
       "      <td>2</td>\n",
       "      <td>4</td>\n",
       "      <td>52</td>\n",
       "      <td>4</td>\n",
       "      <td>1</td>\n",
       "      <td>2</td>\n",
       "      <td>1</td>\n",
       "    </tr>\n",
       "    <tr>\n",
       "      <th>535414</th>\n",
       "      <td>1</td>\n",
       "      <td>1</td>\n",
       "      <td>2</td>\n",
       "      <td>45</td>\n",
       "      <td>2</td>\n",
       "      <td>3</td>\n",
       "      <td>1</td>\n",
       "      <td>1</td>\n",
       "    </tr>\n",
       "    <tr>\n",
       "      <th>535469</th>\n",
       "      <td>1</td>\n",
       "      <td>1</td>\n",
       "      <td>7</td>\n",
       "      <td>38</td>\n",
       "      <td>5</td>\n",
       "      <td>4</td>\n",
       "      <td>2</td>\n",
       "      <td>1</td>\n",
       "    </tr>\n",
       "  </tbody>\n",
       "</table>\n",
       "<p>5952 rows × 8 columns</p>\n",
       "</div>"
      ],
      "text/plain": [
       "         POST_vote  POST_president  PRE_present_religion  PRE_age  \\\n",
       "id_case                                                             \n",
       "200022           1               3                    12       37   \n",
       "200039           1               1                    11       40   \n",
       "200046           1               1                     2       41   \n",
       "200053           1               2                    12       72   \n",
       "200060           1               1                    10       71   \n",
       "...            ...             ...                   ...      ...   \n",
       "535292           1               2                    11       65   \n",
       "535308           1               2                    11       54   \n",
       "535360           1               2                     4       52   \n",
       "535414           1               1                     2       45   \n",
       "535469           1               1                     7       38   \n",
       "\n",
       "         PRE_education  PRE_race  PRE_sex  PRE_occupation  \n",
       "id_case                                                    \n",
       "200022               3         4        2               1  \n",
       "200039               2         1        2               7  \n",
       "200046               3         4        1               1  \n",
       "200053               5         5        1               5  \n",
       "200060               3         1        2               5  \n",
       "...                ...       ...      ...             ...  \n",
       "535292               2         1        2               6  \n",
       "535308               4         1        2               1  \n",
       "535360               4         1        2               1  \n",
       "535414               2         3        1               1  \n",
       "535469               5         4        2               1  \n",
       "\n",
       "[5952 rows x 8 columns]"
      ]
     },
     "execution_count": 199,
     "metadata": {},
     "output_type": "execute_result"
    }
   ],
   "source": [
    "demos"
   ]
  },
  {
   "cell_type": "markdown",
   "id": "52ecb8dd",
   "metadata": {},
   "source": [
    "## AGE"
   ]
  },
  {
   "cell_type": "code",
   "execution_count": 200,
   "id": "8d88e41f",
   "metadata": {},
   "outputs": [],
   "source": [
    "age = demos['PRE_age']"
   ]
  },
  {
   "cell_type": "code",
   "execution_count": 201,
   "id": "c30e20d8",
   "metadata": {},
   "outputs": [],
   "source": [
    "# delete the null valued rows in the column 'age'\n",
    "age = age.dropna()"
   ]
  },
  {
   "cell_type": "code",
   "execution_count": 202,
   "id": "c62c9f43",
   "metadata": {
    "scrolled": true
   },
   "outputs": [
    {
     "name": "stdout",
     "output_type": "stream",
     "text": [
      "mean of age: 50.71404569892473\n",
      "variance of age: 415.80398282586856\n",
      "standard deviation of age: 20.391272221856795\n"
     ]
    }
   ],
   "source": [
    "# mean, var, std\n",
    "print(\"mean of age:\", np.mean(age))\n",
    "print(\"variance of age:\", np.var(age))\n",
    "print(\"standard deviation of age:\", np.std(age))"
   ]
  },
  {
   "cell_type": "code",
   "execution_count": 203,
   "id": "a3fcd5b4",
   "metadata": {
    "scrolled": true
   },
   "outputs": [
    {
     "name": "stdout",
     "output_type": "stream",
     "text": [
      "*community_0 in age\n",
      "how many: 4544\n",
      "mean: 52.47051056338028\n",
      "variance: 386.8032676970715\n",
      "std: 19.667314704785486\n",
      "\n",
      "*community_1 in age \n",
      "how many: 1321\n",
      "mean: 44.980317940953825\n",
      "variance: 458.92769740080604\n",
      "std: 21.422597821011486\n"
     ]
    }
   ],
   "source": [
    "# Dataframe age with each communities\n",
    "age_0 = age.loc[communities['zero']]\n",
    "age_1 = age.loc[communities['one']]\n",
    "\n",
    "# print cardinality, mean, var, std within the cluster.\n",
    "# community_0\n",
    "print(\"*community_0 in age\")\n",
    "print(\"how many:\", len(age_0))\n",
    "print(\"mean:\", np.mean(age_0))\n",
    "print(\"variance:\", np.var(age_0))\n",
    "print(\"std:\", np.std(age_0))\n",
    "\n",
    "# community_1\n",
    "print(\"\\n*community_1 in age \")\n",
    "print(\"how many:\", len(age_1))\n",
    "print(\"mean:\", np.mean(age_1))\n",
    "print(\"variance:\", np.var(age_1))\n",
    "print(\"std:\", np.std(age_1))"
   ]
  },
  {
   "cell_type": "code",
   "execution_count": 204,
   "id": "af4134d6",
   "metadata": {},
   "outputs": [
    {
     "data": {
      "text/plain": [
       "(array([143.,   0.,   0.,   0.,   0.,   0.,   0.,   0.,   0.,  50.,  61.,\n",
       "        114., 156., 165., 187., 217., 229., 172., 166., 219., 202., 242.,\n",
       "        259., 298., 309., 294., 288., 274., 176., 323.]),\n",
       " array([-9.        , -6.03333333, -3.06666667, -0.1       ,  2.86666667,\n",
       "         5.83333333,  8.8       , 11.76666667, 14.73333333, 17.7       ,\n",
       "        20.66666667, 23.63333333, 26.6       , 29.56666667, 32.53333333,\n",
       "        35.5       , 38.46666667, 41.43333333, 44.4       , 47.36666667,\n",
       "        50.33333333, 53.3       , 56.26666667, 59.23333333, 62.2       ,\n",
       "        65.16666667, 68.13333333, 71.1       , 74.06666667, 77.03333333,\n",
       "        80.        ]),\n",
       " <BarContainer object of 30 artists>)"
      ]
     },
     "execution_count": 204,
     "metadata": {},
     "output_type": "execute_result"
    },
    {
     "data": {
      "image/png": "[encoded data removed]",
      "text/plain": [
       "<Figure size 400x400 with 1 Axes>"
      ]
     },
     "metadata": {},
     "output_type": "display_data"
    }
   ],
   "source": [
    "# it is the example below, use to see another community as well.\n",
    "# Histogram of age in community 0\n",
    "plt.rcParams[\"figure.figsize\"] = (4,4) # set the figure size\n",
    "plt.hist(age_0, bins = 30)"
   ]
  },
  {
   "cell_type": "code",
   "execution_count": 205,
   "id": "712b0cf1",
   "metadata": {},
   "outputs": [
    {
     "data": {
      "text/plain": [
       "(array([78.,  0.,  0.,  0.,  0.,  0.,  0.,  0.,  0., 23., 39., 64., 75.,\n",
       "        73., 77., 88., 69., 70., 69., 54., 53., 53., 59., 56., 62., 63.,\n",
       "        52., 45., 31., 68.]),\n",
       " array([-9.        , -6.03333333, -3.06666667, -0.1       ,  2.86666667,\n",
       "         5.83333333,  8.8       , 11.76666667, 14.73333333, 17.7       ,\n",
       "        20.66666667, 23.63333333, 26.6       , 29.56666667, 32.53333333,\n",
       "        35.5       , 38.46666667, 41.43333333, 44.4       , 47.36666667,\n",
       "        50.33333333, 53.3       , 56.26666667, 59.23333333, 62.2       ,\n",
       "        65.16666667, 68.13333333, 71.1       , 74.06666667, 77.03333333,\n",
       "        80.        ]),\n",
       " <BarContainer object of 30 artists>)"
      ]
     },
     "execution_count": 205,
     "metadata": {},
     "output_type": "execute_result"
    },
    {
     "data": {
      "image/png": "[encoded data removed]",
      "text/plain": [
       "<Figure size 400x400 with 1 Axes>"
      ]
     },
     "metadata": {},
     "output_type": "display_data"
    }
   ],
   "source": [
    "# it is the example below, use to see another community as well.\n",
    "# Histogram of age in community 1\n",
    "plt.rcParams[\"figure.figsize\"] = (4,4) # set the figure size\n",
    "plt.hist(age_1, bins = 30)"
   ]
  },
  {
   "cell_type": "markdown",
   "id": "fe728979",
   "metadata": {},
   "source": [
    "## PRESIDENT"
   ]
  },
  {
   "cell_type": "code",
   "execution_count": 206,
   "id": "ba01eb64",
   "metadata": {
    "scrolled": true
   },
   "outputs": [],
   "source": [
    "politics = demos['POST_president']\n",
    "politics = politics.dropna()"
   ]
  },
  {
   "cell_type": "code",
   "execution_count": 207,
   "id": "11a46ef4",
   "metadata": {},
   "outputs": [
    {
     "data": {
      "text/plain": [
       "POST_president\n",
       " 1     3267\n",
       " 2     2462\n",
       " 3       69\n",
       " 5       56\n",
       "-9       53\n",
       " 4       23\n",
       " 12      16\n",
       " 8        3\n",
       " 11       2\n",
       " 7        1\n",
       "Name: count, dtype: int64"
      ]
     },
     "execution_count": 207,
     "metadata": {},
     "output_type": "execute_result"
    }
   ],
   "source": [
    "demos['POST_president'].value_counts()"
   ]
  },
  {
   "cell_type": "code",
   "execution_count": 208,
   "id": "8ef82708",
   "metadata": {
    "scrolled": true
   },
   "outputs": [
    {
     "name": "stdout",
     "output_type": "stream",
     "text": [
      "How many in politics belong to community 0: 4544\n",
      "How many in politics belong to community 1: 1321\n"
     ]
    }
   ],
   "source": [
    "# Dataframe political ideology with each communities\n",
    "politics_0 = politics.loc[communities['zero']]\n",
    "politics_1 = politics.loc[communities['one']]\n",
    "\n",
    "print(\"How many in politics belong to community 0:\", len(politics_0))\n",
    "print(\"How many in politics belong to community 1:\", len(politics_1))"
   ]
  },
  {
   "cell_type": "code",
   "execution_count": 209,
   "id": "811f2459",
   "metadata": {
    "scrolled": true
   },
   "outputs": [
    {
     "data": {
      "text/plain": [
       "POST_president\n",
       " 1     2592\n",
       " 2     1804\n",
       " 3       49\n",
       " 5       41\n",
       "-9       28\n",
       " 4       16\n",
       " 12      10\n",
       " 8        3\n",
       " 7        1\n",
       "Name: count, dtype: int64"
      ]
     },
     "execution_count": 209,
     "metadata": {},
     "output_type": "execute_result"
    }
   ],
   "source": [
    "politics_0.value_counts()"
   ]
  },
  {
   "cell_type": "code",
   "execution_count": 210,
   "id": "db672ec9",
   "metadata": {},
   "outputs": [
    {
     "data": {
      "text/plain": [
       "POST_president\n",
       " 1     640\n",
       " 2     617\n",
       "-9      20\n",
       " 3      18\n",
       " 5      13\n",
       " 4       6\n",
       " 12      5\n",
       " 11      2\n",
       "Name: count, dtype: int64"
      ]
     },
     "execution_count": 210,
     "metadata": {},
     "output_type": "execute_result"
    }
   ],
   "source": [
    "politics_1.value_counts()"
   ]
  },
  {
   "cell_type": "code",
   "execution_count": 211,
   "id": "ec71435c",
   "metadata": {},
   "outputs": [
    {
     "data": {
      "text/plain": [
       "(array([  28.,    0.,    0., 2592., 1869.,   41.,    4.,   10.]),\n",
       " array([-9.   , -6.375, -3.75 , -1.125,  1.5  ,  4.125,  6.75 ,  9.375,\n",
       "        12.   ]),\n",
       " <BarContainer object of 8 artists>)"
      ]
     },
     "execution_count": 211,
     "metadata": {},
     "output_type": "execute_result"
    },
    {
     "data": {
      "image/png": "[encoded data removed]",
      "text/plain": [
       "<Figure size 400x400 with 1 Axes>"
      ]
     },
     "metadata": {},
     "output_type": "display_data"
    }
   ],
   "source": [
    "# it is the example below, use to see another community as well.\n",
    "# Histogram of politics in community 0\n",
    "plt.rcParams[\"figure.figsize\"] = (4,4) # set the figure size\n",
    "plt.hist(politics_0, bins = 8)"
   ]
  },
  {
   "cell_type": "code",
   "execution_count": 212,
   "id": "9ff9c1bd",
   "metadata": {},
   "outputs": [
    {
     "data": {
      "text/plain": [
       "(array([ 20.,   0.,   0., 640., 641.,  13.,   0.,   7.]),\n",
       " array([-9.   , -6.375, -3.75 , -1.125,  1.5  ,  4.125,  6.75 ,  9.375,\n",
       "        12.   ]),\n",
       " <BarContainer object of 8 artists>)"
      ]
     },
     "execution_count": 212,
     "metadata": {},
     "output_type": "execute_result"
    },
    {
     "data": {
      "image/png": "[encoded data removed]",
      "text/plain": [
       "<Figure size 400x400 with 1 Axes>"
      ]
     },
     "metadata": {},
     "output_type": "display_data"
    }
   ],
   "source": [
    "# it is the example below, use to see another community as well.\n",
    "# Histogram of politics in community 1\n",
    "plt.rcParams[\"figure.figsize\"] = (4,4) # set the figure size\n",
    "plt.hist(politics_1, bins = 8)"
   ]
  },
  {
   "cell_type": "markdown",
   "id": "4b75a920",
   "metadata": {},
   "source": [
    "## EDUCATION"
   ]
  },
  {
   "cell_type": "code",
   "execution_count": 213,
   "id": "80a71236",
   "metadata": {
    "scrolled": false
   },
   "outputs": [
    {
     "data": {
      "text/plain": [
       "id_case\n",
       "200022    3\n",
       "200039    2\n",
       "200046    3\n",
       "200053    5\n",
       "200060    3\n",
       "         ..\n",
       "535292    2\n",
       "535308    4\n",
       "535360    4\n",
       "535414    2\n",
       "535469    5\n",
       "Name: PRE_education, Length: 5952, dtype: int64"
      ]
     },
     "execution_count": 213,
     "metadata": {},
     "output_type": "execute_result"
    }
   ],
   "source": [
    "education = demos['PRE_education']\n",
    "education = education.dropna()\n",
    "education"
   ]
  },
  {
   "cell_type": "code",
   "execution_count": 214,
   "id": "087d519e",
   "metadata": {
    "scrolled": true
   },
   "outputs": [
    {
     "data": {
      "text/plain": [
       "PRE_education\n",
       " 3    1995\n",
       " 4    1634\n",
       " 5    1291\n",
       " 2     784\n",
       " 1     160\n",
       "-2      72\n",
       "-9      15\n",
       "-8       1\n",
       "Name: count, dtype: int64"
      ]
     },
     "execution_count": 214,
     "metadata": {},
     "output_type": "execute_result"
    }
   ],
   "source": [
    "demos['PRE_education'].value_counts()"
   ]
  },
  {
   "cell_type": "code",
   "execution_count": 215,
   "id": "00696187",
   "metadata": {
    "scrolled": true
   },
   "outputs": [
    {
     "name": "stdout",
     "output_type": "stream",
     "text": [
      "How many in education belong to community 0: 4544\n",
      "How many in education belong to community 1: 1321\n"
     ]
    }
   ],
   "source": [
    "# Dataframe political ideology with each communities\n",
    "education_0 = education.loc[communities['zero']]\n",
    "education_1 = education.loc[communities['one']]\n",
    "\n",
    "print(\"How many in education belong to community 0:\", len(education_0))\n",
    "print(\"How many in education belong to community 1:\", len(education_1))"
   ]
  },
  {
   "cell_type": "code",
   "execution_count": 216,
   "id": "bec106d2",
   "metadata": {
    "scrolled": true
   },
   "outputs": [
    {
     "data": {
      "text/plain": [
       "PRE_education\n",
       " 3    1482\n",
       " 4    1303\n",
       " 5    1061\n",
       " 2     522\n",
       " 1     111\n",
       "-2      56\n",
       "-9       8\n",
       "-8       1\n",
       "Name: count, dtype: int64"
      ]
     },
     "execution_count": 216,
     "metadata": {},
     "output_type": "execute_result"
    }
   ],
   "source": [
    "education_0.value_counts()"
   ]
  },
  {
   "cell_type": "code",
   "execution_count": 217,
   "id": "820550b8",
   "metadata": {},
   "outputs": [
    {
     "data": {
      "text/plain": [
       "PRE_education\n",
       " 3    484\n",
       " 4    313\n",
       " 2    238\n",
       " 5    218\n",
       " 1     45\n",
       "-2     16\n",
       "-9      7\n",
       "Name: count, dtype: int64"
      ]
     },
     "execution_count": 217,
     "metadata": {},
     "output_type": "execute_result"
    }
   ],
   "source": [
    "education_1.value_counts()"
   ]
  },
  {
   "cell_type": "code",
   "execution_count": 218,
   "id": "e100334c",
   "metadata": {
    "scrolled": true
   },
   "outputs": [
    {
     "data": {
      "text/plain": [
       "(array([8.000e+00, 1.000e+00, 0.000e+00, 0.000e+00, 0.000e+00, 0.000e+00,\n",
       "        0.000e+00, 5.600e+01, 0.000e+00, 0.000e+00, 1.110e+02, 5.220e+02,\n",
       "        1.482e+03, 1.303e+03, 1.061e+03]),\n",
       " array([-9.        , -8.06666667, -7.13333333, -6.2       , -5.26666667,\n",
       "        -4.33333333, -3.4       , -2.46666667, -1.53333333, -0.6       ,\n",
       "         0.33333333,  1.26666667,  2.2       ,  3.13333333,  4.06666667,\n",
       "         5.        ]),\n",
       " <BarContainer object of 15 artists>)"
      ]
     },
     "execution_count": 218,
     "metadata": {},
     "output_type": "execute_result"
    },
    {
     "data": {
      "image/png": "[encoded data removed]",
      "text/plain": [
       "<Figure size 400x400 with 1 Axes>"
      ]
     },
     "metadata": {},
     "output_type": "display_data"
    }
   ],
   "source": [
    "# it is the example below, use to see another community as well.\n",
    "# Histogram of education in community 0\n",
    "plt.rcParams[\"figure.figsize\"] = (4,4) # set the figure size\n",
    "plt.hist(education_0, bins = 15)"
   ]
  },
  {
   "cell_type": "code",
   "execution_count": 219,
   "id": "89f31f40",
   "metadata": {
    "scrolled": false
   },
   "outputs": [
    {
     "data": {
      "text/plain": [
       "(array([  7.,   0.,   0.,   0.,   0.,   0.,   0.,  16.,   0.,   0.,  45.,\n",
       "        238., 484., 313., 218.]),\n",
       " array([-9.        , -8.06666667, -7.13333333, -6.2       , -5.26666667,\n",
       "        -4.33333333, -3.4       , -2.46666667, -1.53333333, -0.6       ,\n",
       "         0.33333333,  1.26666667,  2.2       ,  3.13333333,  4.06666667,\n",
       "         5.        ]),\n",
       " <BarContainer object of 15 artists>)"
      ]
     },
     "execution_count": 219,
     "metadata": {},
     "output_type": "execute_result"
    },
    {
     "data": {
      "image/png": "[encoded data removed]",
      "text/plain": [
       "<Figure size 400x400 with 1 Axes>"
      ]
     },
     "metadata": {},
     "output_type": "display_data"
    }
   ],
   "source": [
    "# it is the example below, use to see another community as well.\n",
    "# Histogram of education in community 1\n",
    "plt.rcParams[\"figure.figsize\"] = (4,4) # set the figure size\n",
    "plt.hist(education_1, bins = 15)"
   ]
  },
  {
   "cell_type": "markdown",
   "id": "465cb325",
   "metadata": {},
   "source": [
    "## RELIGION"
   ]
  },
  {
   "cell_type": "code",
   "execution_count": 220,
   "id": "2d02dd72",
   "metadata": {
    "scrolled": false
   },
   "outputs": [],
   "source": [
    "religion = demos['PRE_present_religion']\n",
    "religion = religion.dropna()"
   ]
  },
  {
   "cell_type": "code",
   "execution_count": 221,
   "id": "f1e84fd6",
   "metadata": {},
   "outputs": [
    {
     "data": {
      "text/plain": [
       "PRE_present_religion\n",
       " 1     1660\n",
       " 2     1214\n",
       " 11    1042\n",
       " 12     974\n",
       " 10     343\n",
       " 9      253\n",
       " 5      145\n",
       " 3       88\n",
       " 4       87\n",
       " 7       52\n",
       "-9       45\n",
       " 8       25\n",
       " 6       24\n",
       "Name: count, dtype: int64"
      ]
     },
     "execution_count": 221,
     "metadata": {},
     "output_type": "execute_result"
    }
   ],
   "source": [
    "religion.value_counts()"
   ]
  },
  {
   "cell_type": "code",
   "execution_count": 222,
   "id": "08f09cc1",
   "metadata": {
    "scrolled": true
   },
   "outputs": [
    {
     "name": "stdout",
     "output_type": "stream",
     "text": [
      "How many in religion belong to community 0: 4544\n",
      "How many in religion belong to community 1: 1321\n"
     ]
    }
   ],
   "source": [
    "# Dataframe political ideology with each communities\n",
    "religion_0 = religion.loc[communities['zero']]\n",
    "religion_1 = religion.loc[communities['one']]\n",
    "\n",
    "print(\"How many in religion belong to community 0:\", len(religion_0))\n",
    "print(\"How many in religion belong to community 1:\", len(religion_1))"
   ]
  },
  {
   "cell_type": "code",
   "execution_count": 223,
   "id": "3155583b",
   "metadata": {},
   "outputs": [
    {
     "data": {
      "text/plain": [
       "PRE_present_religion\n",
       " 1     1328\n",
       " 2      901\n",
       " 11     768\n",
       " 12     703\n",
       " 10     279\n",
       " 9      216\n",
       " 5      116\n",
       " 4       67\n",
       " 3       62\n",
       " 7       43\n",
       "-9       26\n",
       " 8       19\n",
       " 6       16\n",
       "Name: count, dtype: int64"
      ]
     },
     "execution_count": 223,
     "metadata": {},
     "output_type": "execute_result"
    }
   ],
   "source": [
    "religion_0.value_counts()"
   ]
  },
  {
   "cell_type": "code",
   "execution_count": 224,
   "id": "70fa690c",
   "metadata": {
    "scrolled": true
   },
   "outputs": [
    {
     "data": {
      "text/plain": [
       "PRE_present_religion\n",
       " 1     308\n",
       " 2     296\n",
       " 12    259\n",
       " 11    258\n",
       " 10     62\n",
       " 9      34\n",
       " 5      26\n",
       " 3      22\n",
       " 4      20\n",
       "-9      15\n",
       " 7       8\n",
       " 6       7\n",
       " 8       6\n",
       "Name: count, dtype: int64"
      ]
     },
     "execution_count": 224,
     "metadata": {},
     "output_type": "execute_result"
    }
   ],
   "source": [
    "religion_1.value_counts()"
   ]
  },
  {
   "cell_type": "markdown",
   "id": "ca4eadb8",
   "metadata": {},
   "source": [
    "## RACE"
   ]
  },
  {
   "cell_type": "code",
   "execution_count": 225,
   "id": "58bc772f",
   "metadata": {
    "scrolled": false
   },
   "outputs": [],
   "source": [
    "race = demos['PRE_race']\n",
    "race = race.dropna()"
   ]
  },
  {
   "cell_type": "code",
   "execution_count": 226,
   "id": "9adf6d25",
   "metadata": {},
   "outputs": [
    {
     "data": {
      "text/plain": [
       "PRE_race\n",
       " 1    4498\n",
       " 2     468\n",
       " 3     446\n",
       " 4     192\n",
       " 6     179\n",
       " 5     114\n",
       "-9      51\n",
       "-8       4\n",
       "Name: count, dtype: int64"
      ]
     },
     "execution_count": 226,
     "metadata": {},
     "output_type": "execute_result"
    }
   ],
   "source": [
    "race.value_counts()"
   ]
  },
  {
   "cell_type": "code",
   "execution_count": 227,
   "id": "14b08919",
   "metadata": {
    "scrolled": true
   },
   "outputs": [
    {
     "name": "stdout",
     "output_type": "stream",
     "text": [
      "How many in race belong to community 0: 4544\n",
      "How many in race belong to community 1: 1321\n"
     ]
    }
   ],
   "source": [
    "# Dataframe political ideology with each communities\n",
    "race_0 = race.loc[communities['zero']]\n",
    "race_1 = race.loc[communities['one']]\n",
    "\n",
    "print(\"How many in race belong to community 0:\", len(race_0))\n",
    "print(\"How many in race belong to community 1:\", len(race_1))"
   ]
  },
  {
   "cell_type": "code",
   "execution_count": 228,
   "id": "779d8423",
   "metadata": {},
   "outputs": [
    {
     "data": {
      "text/plain": [
       "PRE_race\n",
       " 1    3463\n",
       " 2     335\n",
       " 3     331\n",
       " 4     143\n",
       " 6     139\n",
       " 5      94\n",
       "-9      35\n",
       "-8       4\n",
       "Name: count, dtype: int64"
      ]
     },
     "execution_count": 228,
     "metadata": {},
     "output_type": "execute_result"
    }
   ],
   "source": [
    "race_0.value_counts()"
   ]
  },
  {
   "cell_type": "code",
   "execution_count": 229,
   "id": "6fbf4f34",
   "metadata": {
    "scrolled": true
   },
   "outputs": [
    {
     "data": {
      "text/plain": [
       "PRE_race\n",
       " 1    974\n",
       " 2    124\n",
       " 3    107\n",
       " 4     47\n",
       " 6     37\n",
       " 5     17\n",
       "-9     15\n",
       "Name: count, dtype: int64"
      ]
     },
     "execution_count": 229,
     "metadata": {},
     "output_type": "execute_result"
    }
   ],
   "source": [
    "race_1.value_counts()"
   ]
  },
  {
   "cell_type": "markdown",
   "id": "1142d607",
   "metadata": {},
   "source": [
    "## SEX"
   ]
  },
  {
   "cell_type": "code",
   "execution_count": 230,
   "id": "8f3f4af1",
   "metadata": {
    "scrolled": false
   },
   "outputs": [],
   "source": [
    "sex = demos['PRE_sex']\n",
    "sex = sex.dropna()"
   ]
  },
  {
   "cell_type": "code",
   "execution_count": 231,
   "id": "29304917",
   "metadata": {},
   "outputs": [
    {
     "data": {
      "text/plain": [
       "PRE_sex\n",
       " 2    3240\n",
       " 1    2676\n",
       "-9      36\n",
       "Name: count, dtype: int64"
      ]
     },
     "execution_count": 231,
     "metadata": {},
     "output_type": "execute_result"
    }
   ],
   "source": [
    "sex.value_counts()"
   ]
  },
  {
   "cell_type": "code",
   "execution_count": 232,
   "id": "331eecb8",
   "metadata": {
    "scrolled": true
   },
   "outputs": [
    {
     "name": "stdout",
     "output_type": "stream",
     "text": [
      "How many in sex belong to community 0: 4544\n",
      "How many in sex belong to community 1: 1321\n"
     ]
    }
   ],
   "source": [
    "# Dataframe political ideology with each communities\n",
    "sex_0 = sex.loc[communities['zero']]\n",
    "sex_1 = sex.loc[communities['one']]\n",
    "\n",
    "print(\"How many in sex belong to community 0:\", len(sex_0))\n",
    "print(\"How many in sex belong to community 1:\", len(sex_1))"
   ]
  },
  {
   "cell_type": "code",
   "execution_count": 233,
   "id": "72e32517",
   "metadata": {},
   "outputs": [
    {
     "data": {
      "text/plain": [
       "PRE_sex\n",
       " 2    2438\n",
       " 1    2081\n",
       "-9      25\n",
       "Name: count, dtype: int64"
      ]
     },
     "execution_count": 233,
     "metadata": {},
     "output_type": "execute_result"
    }
   ],
   "source": [
    "sex_0.value_counts()"
   ]
  },
  {
   "cell_type": "code",
   "execution_count": 280,
   "id": "62228e7d",
   "metadata": {},
   "outputs": [
    {
     "data": {
      "text/plain": [
       "0.4579665492957746"
      ]
     },
     "execution_count": 280,
     "metadata": {},
     "output_type": "execute_result"
    }
   ],
   "source": [
    "2081/4544"
   ]
  },
  {
   "cell_type": "code",
   "execution_count": 234,
   "id": "aa0ce55d",
   "metadata": {
    "scrolled": true
   },
   "outputs": [
    {
     "data": {
      "text/plain": [
       "PRE_sex\n",
       " 2    748\n",
       " 1    562\n",
       "-9     11\n",
       "Name: count, dtype: int64"
      ]
     },
     "execution_count": 234,
     "metadata": {},
     "output_type": "execute_result"
    }
   ],
   "source": [
    "sex_1.value_counts()"
   ]
  },
  {
   "cell_type": "code",
   "execution_count": 281,
   "id": "b4be21d9",
   "metadata": {},
   "outputs": [
    {
     "data": {
      "text/plain": [
       "0.4254352763058289"
      ]
     },
     "execution_count": 281,
     "metadata": {},
     "output_type": "execute_result"
    }
   ],
   "source": [
    "562/1321"
   ]
  },
  {
   "cell_type": "markdown",
   "id": "b2d7a559",
   "metadata": {},
   "source": [
    "## JOB"
   ]
  },
  {
   "cell_type": "code",
   "execution_count": 235,
   "id": "1a2539bc",
   "metadata": {
    "scrolled": false
   },
   "outputs": [],
   "source": [
    "job = demos['PRE_occupation']\n",
    "job = job.dropna()"
   ]
  },
  {
   "cell_type": "code",
   "execution_count": 236,
   "id": "93ee0ddb",
   "metadata": {},
   "outputs": [
    {
     "data": {
      "text/plain": [
       "PRE_occupation\n",
       " 1    3633\n",
       " 5    1448\n",
       " 7     311\n",
       " 6     204\n",
       " 2     172\n",
       " 4      86\n",
       " 8      67\n",
       "-2      31\n",
       "Name: count, dtype: int64"
      ]
     },
     "execution_count": 236,
     "metadata": {},
     "output_type": "execute_result"
    }
   ],
   "source": [
    "job.value_counts()"
   ]
  },
  {
   "cell_type": "code",
   "execution_count": 237,
   "id": "d3eca622",
   "metadata": {
    "scrolled": true
   },
   "outputs": [
    {
     "name": "stdout",
     "output_type": "stream",
     "text": [
      "How many in job belong to community 0: 4544\n",
      "How many in job belong to community 1: 1321\n"
     ]
    }
   ],
   "source": [
    "# Dataframe political ideology with each communities\n",
    "job_0 = job.loc[communities['zero']]\n",
    "job_1 = job.loc[communities['one']]\n",
    "\n",
    "print(\"How many in job belong to community 0:\", len(job_0))\n",
    "print(\"How many in job belong to community 1:\", len(job_1))"
   ]
  },
  {
   "cell_type": "code",
   "execution_count": 238,
   "id": "2164c07e",
   "metadata": {},
   "outputs": [
    {
     "data": {
      "text/plain": [
       "PRE_occupation\n",
       " 1    2712\n",
       " 5    1196\n",
       " 7     231\n",
       " 6     152\n",
       " 2     133\n",
       " 4      64\n",
       " 8      40\n",
       "-2      16\n",
       "Name: count, dtype: int64"
      ]
     },
     "execution_count": 238,
     "metadata": {},
     "output_type": "execute_result"
    }
   ],
   "source": [
    "job_0.value_counts()"
   ]
  },
  {
   "cell_type": "code",
   "execution_count": 239,
   "id": "f4c66e23",
   "metadata": {
    "scrolled": true
   },
   "outputs": [
    {
     "data": {
      "text/plain": [
       "PRE_occupation\n",
       " 1    867\n",
       " 5    229\n",
       " 7     78\n",
       " 6     50\n",
       " 2     37\n",
       " 8     26\n",
       " 4     19\n",
       "-2     15\n",
       "Name: count, dtype: int64"
      ]
     },
     "execution_count": 239,
     "metadata": {},
     "output_type": "execute_result"
    }
   ],
   "source": [
    "job_1.value_counts()"
   ]
  },
  {
   "cell_type": "markdown",
   "id": "f893f18e",
   "metadata": {},
   "source": [
    "## Compare the communities' demographics"
   ]
  },
  {
   "cell_type": "markdown",
   "id": "0bb30a9f",
   "metadata": {},
   "source": [
    "### Visualize multiple graph"
   ]
  },
  {
   "cell_type": "code",
   "execution_count": 240,
   "id": "4abb29c0",
   "metadata": {},
   "outputs": [],
   "source": [
    "# Display graphs grouped by the community label\n",
    "import matplotlib.pyplot as plt\n",
    "\n",
    "# List of data for each plot\n",
    "data_0 = [age_0, politics_0, education_0, religion_0, race_0, sex_0, job_0]\n",
    "data_1 = [age_1, politics_1, education_1, religion_1, race_1, sex_1, job_1]"
   ]
  },
  {
   "cell_type": "code",
   "execution_count": 241,
   "id": "cff1c5c1",
   "metadata": {},
   "outputs": [
    {
     "name": "stdout",
     "output_type": "stream",
     "text": [
      "\n",
      "\n",
      "*The number of the community members: 4544\n"
     ]
    },
    {
     "data": {
      "image/png": "[encoded data removed]",
      "text/plain": [
       "<Figure size 1200x800 with 9 Axes>"
      ]
     },
     "metadata": {},
     "output_type": "display_data"
    }
   ],
   "source": [
    "# Create subplots dynamically\n",
    "fig, axes = plt.subplots(3, 3,  figsize=(12, 8))\n",
    "\n",
    "\n",
    "# Create a histogram on one of the subplots\n",
    "axes[0, 0].hist(age_0, bins=20)\n",
    "axes[0, 0].set_title('Age 0')\n",
    "axes[0, 0].set_xlabel('Age')\n",
    "axes[0, 0].set_ylabel('Population')\n",
    "\n",
    "# Create a histogram on one of the subplots\n",
    "axes[0, 1].hist(politics_0, bins=20)\n",
    "axes[0, 1].set_title('politics 0')\n",
    "axes[0, 1].set_xlabel('politics')\n",
    "axes[0, 1].set_ylabel('Population')\n",
    "\n",
    "# Create a histogram on one of the subplots\n",
    "axes[0, 2].hist(education_0, bins=20)\n",
    "axes[0, 2].set_title('Education 0')\n",
    "axes[0, 2].set_xlabel('Education')\n",
    "axes[0, 2].set_ylabel('Population')\n",
    "\n",
    "# Create a histogram on one of the subplots\n",
    "axes[1, 0].hist(religion_0, bins=20)\n",
    "axes[1, 0].set_title('Religion 0')\n",
    "axes[1, 0].set_xlabel('Religion')\n",
    "axes[1, 0].set_ylabel('Population')\n",
    "\n",
    "# Create a histogram on one of the subplots\n",
    "axes[1, 1].hist(race_0, bins=20)\n",
    "axes[1, 1].set_title('Race 0')\n",
    "axes[1, 1].set_xlabel('Race')\n",
    "axes[1, 1].set_ylabel('Population')\n",
    "\n",
    "# Create a histogram on one of the subplots\n",
    "axes[1, 2].hist(sex_0, bins=20)\n",
    "axes[1, 2].set_title('Sex 0')\n",
    "axes[1, 2].set_xlabel('Sex')\n",
    "axes[1, 2].set_ylabel('Population')\n",
    "\n",
    "\n",
    "# Create a histogram on one of the subplots\n",
    "axes[2, 0].hist(job_0, bins=20)\n",
    "axes[2, 0].set_title('Employment 0')\n",
    "axes[2, 0].set_xlabel('Employment')\n",
    "axes[2, 0].set_ylabel('Population')\n",
    "\n",
    "# Adjust layout\n",
    "plt.tight_layout()\n",
    "\n",
    "# Print the number of the community members:\n",
    "print(\"\\n\\n*The number of the community members:\", len(communities[\"zero\"]))\n",
    "\n",
    "# Show the combined plots\n",
    "plt.show()\n"
   ]
  },
  {
   "cell_type": "code",
   "execution_count": 242,
   "id": "a980749a",
   "metadata": {},
   "outputs": [
    {
     "name": "stdout",
     "output_type": "stream",
     "text": [
      "\n",
      "\n",
      "*The number of the community members: 1321\n"
     ]
    },
    {
     "data": {
      "image/png": "[encoded data removed]",
      "text/plain": [
       "<Figure size 1200x800 with 9 Axes>"
      ]
     },
     "metadata": {},
     "output_type": "display_data"
    }
   ],
   "source": [
    "# Create subplots dynamically\n",
    "fig, axes = plt.subplots(3, 3,  figsize=(12, 8))\n",
    "\n",
    "\n",
    "# Create a histogram on one of the subplots\n",
    "axes[0, 0].hist(age_1, bins=20)\n",
    "axes[0, 0].set_title('Age 1')\n",
    "axes[0, 0].set_xlabel('Age')\n",
    "axes[0, 0].set_ylabel('Population')\n",
    "\n",
    "# Create a histogram on one of the subplots\n",
    "axes[0, 1].hist(politics_1, bins=20)\n",
    "axes[0, 1].set_title('politics 1')\n",
    "axes[0, 1].set_xlabel('politics')\n",
    "axes[0, 1].set_ylabel('Population')\n",
    "\n",
    "# Create a histogram on one of the subplots\n",
    "axes[0, 2].hist(education_1, bins=20)\n",
    "axes[0, 2].set_title('Education 1')\n",
    "axes[0, 2].set_xlabel('Education')\n",
    "axes[0, 2].set_ylabel('Population')\n",
    "\n",
    "# Create a histogram on one of the subplots\n",
    "axes[1, 0].hist(religion_1, bins=20)\n",
    "axes[1, 0].set_title('Religion 1')\n",
    "axes[1, 0].set_xlabel('Religion')\n",
    "axes[1, 0].set_ylabel('Population')\n",
    "\n",
    "# Create a histogram on one of the subplots\n",
    "axes[1, 1].hist(race_1, bins=20)\n",
    "axes[1, 1].set_title('Race 1')\n",
    "axes[1, 1].set_xlabel('Race')\n",
    "axes[1, 1].set_ylabel('Population')\n",
    "\n",
    "# Create a histogram on one of the subplots\n",
    "axes[1, 2].hist(sex_1, bins=20)\n",
    "axes[1, 2].set_title('Sex 1')\n",
    "axes[1, 2].set_xlabel('Sex')\n",
    "axes[1, 2].set_ylabel('Population')\n",
    "\n",
    "\n",
    "# Create a histogram on one of the subplots\n",
    "axes[2, 0].hist(job_1, bins=20)\n",
    "axes[2, 0].set_title('Employment 1')\n",
    "axes[2, 0].set_xlabel('Employment')\n",
    "axes[2, 0].set_ylabel('Population')\n",
    "\n",
    "# Adjust layout\n",
    "plt.tight_layout()\n",
    "\n",
    "# Print the number of the community members:\n",
    "print(\"\\n\\n*The number of the community members:\", len(communities[\"one\"]))\n",
    "\n",
    "# Show the combined plots\n",
    "plt.show()\n"
   ]
  },
  {
   "cell_type": "markdown",
   "id": "1ab90fba",
   "metadata": {},
   "source": [
    "**result**\n",
    "\n",
    "* Worthy variables: Age, Politics, Education, Religion"
   ]
  },
  {
   "cell_type": "markdown",
   "id": "87507a1a",
   "metadata": {},
   "source": [
    "### ANOVA for the continuous variable\n",
    "Assumptions: ANOVA assumes homogeneity of variances (similar variances in groups), normal distribution of residuals, and independence of observations.\n",
    "\n",
    "check if the data are approximately normally distributed within each cluster and if the variances across clusters are roughly equal."
   ]
  },
  {
   "cell_type": "markdown",
   "id": "44ddb3f9",
   "metadata": {},
   "source": [
    "**age**"
   ]
  },
  {
   "cell_type": "code",
   "execution_count": 243,
   "id": "c79eb96f",
   "metadata": {
    "scrolled": false
   },
   "outputs": [
    {
     "name": "stdout",
     "output_type": "stream",
     "text": [
      "*community_0 in age\n",
      "how many: 4544\n",
      "mean: 52.47051056338028\n",
      "variance: 386.8032676970715\n",
      "std: 19.667314704785486\n",
      "\n",
      "*community_1 in age \n",
      "how many: 1321\n",
      "mean: 44.980317940953825\n",
      "variance: 458.92769740080604\n",
      "std: 21.422597821011486\n"
     ]
    }
   ],
   "source": [
    "# print cardinality, mean, var, std within the cluster.\n",
    "# community_0\n",
    "print(\"*community_0 in age\")\n",
    "print(\"how many:\", len(age_0))\n",
    "print(\"mean:\", np.mean(age_0))\n",
    "print(\"variance:\", np.var(age_0))\n",
    "print(\"std:\", np.std(age_0))\n",
    "\n",
    "# community_1\n",
    "print(\"\\n*community_1 in age \")\n",
    "print(\"how many:\", len(age_1))\n",
    "print(\"mean:\", np.mean(age_1))\n",
    "print(\"variance:\", np.var(age_1))\n",
    "print(\"std:\", np.std(age_1))\n",
    "\n"
   ]
  },
  {
   "cell_type": "markdown",
   "id": "7ef18c11",
   "metadata": {},
   "source": [
    "* ANOVA requires homogeneous variance -> Levene's test for the verification."
   ]
  },
  {
   "cell_type": "markdown",
   "id": "e109ab5e",
   "metadata": {},
   "source": [
    "### Levene's test"
   ]
  },
  {
   "cell_type": "code",
   "execution_count": 244,
   "id": "4d4fc532",
   "metadata": {},
   "outputs": [],
   "source": [
    "import scipy.stats as stats"
   ]
  },
  {
   "cell_type": "code",
   "execution_count": 245,
   "id": "ebdf4fb4",
   "metadata": {},
   "outputs": [
    {
     "name": "stdout",
     "output_type": "stream",
     "text": [
      "Levene's Test Statistic: 13.899167374625128\n",
      "P-value: 0.0001947020202953266\n",
      "Reject the null hypothesis. There is evidence of unequal variances.\n"
     ]
    }
   ],
   "source": [
    "# Age\n",
    "\n",
    "# Assuming you have your data in separate groups\n",
    "age_0\n",
    "age_1\n",
    "\n",
    "\n",
    "# Perform Levene's test\n",
    "statistic, p_value = stats.levene(age_0, age_1)\n",
    "\n",
    "# Print the results\n",
    "print(\"Levene's Test Statistic:\", statistic)\n",
    "print(\"P-value:\", p_value)\n",
    "\n",
    "# Check the p-value against the significance level (commonly 0.05)\n",
    "if p_value < 0.05:\n",
    "    print(\"Reject the null hypothesis. There is evidence of unequal variances.\")\n",
    "else:\n",
    "    print(\"Fail to reject the null hypothesis. Variances are likely homogeneous.\")\n"
   ]
  },
  {
   "cell_type": "markdown",
   "id": "bd0117cd",
   "metadata": {},
   "source": [
    "**NOT suitable for the ANOVA because the variances are not homogeneous\", -> Welch's ANOVA**"
   ]
  },
  {
   "cell_type": "code",
   "execution_count": 278,
   "id": "eda18a69",
   "metadata": {},
   "outputs": [
    {
     "name": "stdout",
     "output_type": "stream",
     "text": [
      "3.789357281923796e-29\n"
     ]
    }
   ],
   "source": [
    "import statsmodels.api as sm\n",
    "from statsmodels.formula.api import ols\n",
    "from statsmodels.stats.anova import anova_lm\n",
    "\n",
    "# Age\n",
    "# Group the data by cluster label and extract the continuous feature\n",
    "grouped_data = [age_0, age_1]\n",
    "\n",
    "# Perform Welch's ANOVA which doesn't require the homogeneous variances. \n",
    "t_stat, p_value = stats.ttest_ind(age_0, age_1, equal_var=False)\n",
    "# Print the result\n",
    "print(p_value)\n"
   ]
  },
  {
   "cell_type": "markdown",
   "id": "12ee036b",
   "metadata": {},
   "source": [
    "\n",
    "**Result**:This extremely small p-value indicates a highly significant difference between the means of the two groups."
   ]
  },
  {
   "cell_type": "markdown",
   "id": "c46075c9",
   "metadata": {},
   "source": [
    "### Chi-square test for categorical variable\n",
    "- one variable: feature, the other one: label"
   ]
  },
  {
   "cell_type": "code",
   "execution_count": 249,
   "id": "dfa2f468",
   "metadata": {},
   "outputs": [],
   "source": [
    "# Create a dataframe with participants id and their community label\n",
    "label_0 = pd.DataFrame(data= [0 for i in range(len(communities['zero']))], index = list(communities['zero']))\n",
    "label_1 = pd.DataFrame(data= [1 for i in range(len(communities['one']))], index = list(communities['one']))"
   ]
  },
  {
   "cell_type": "code",
   "execution_count": 250,
   "id": "17c0a849",
   "metadata": {},
   "outputs": [
    {
     "name": "stdout",
     "output_type": "stream",
     "text": [
      "4544 1321\n"
     ]
    }
   ],
   "source": [
    "print(len(label_0), len(label_1))"
   ]
  },
  {
   "cell_type": "code",
   "execution_count": 251,
   "id": "3d904aa5",
   "metadata": {
    "scrolled": true
   },
   "outputs": [],
   "source": [
    "label_0 = label_0.reset_index()\n",
    "label_1 = label_1.reset_index()"
   ]
  },
  {
   "cell_type": "code",
   "execution_count": 252,
   "id": "efd3ba79",
   "metadata": {},
   "outputs": [],
   "source": [
    "labels = pd.concat([label_0, label_1], axis = 0, ignore_index = True)\n",
    "labels = labels.rename(columns = { 0 : 'label'})"
   ]
  },
  {
   "cell_type": "code",
   "execution_count": 253,
   "id": "c890d998",
   "metadata": {},
   "outputs": [
    {
     "data": {
      "text/html": [
       "<div>\n",
       "<style scoped>\n",
       "    .dataframe tbody tr th:only-of-type {\n",
       "        vertical-align: middle;\n",
       "    }\n",
       "\n",
       "    .dataframe tbody tr th {\n",
       "        vertical-align: top;\n",
       "    }\n",
       "\n",
       "    .dataframe thead th {\n",
       "        text-align: right;\n",
       "    }\n",
       "</style>\n",
       "<table border=\"1\" class=\"dataframe\">\n",
       "  <thead>\n",
       "    <tr style=\"text-align: right;\">\n",
       "      <th></th>\n",
       "      <th>index</th>\n",
       "      <th>label</th>\n",
       "    </tr>\n",
       "  </thead>\n",
       "  <tbody>\n",
       "    <tr>\n",
       "      <th>0</th>\n",
       "      <td>200039</td>\n",
       "      <td>0</td>\n",
       "    </tr>\n",
       "    <tr>\n",
       "      <th>1</th>\n",
       "      <td>200046</td>\n",
       "      <td>0</td>\n",
       "    </tr>\n",
       "    <tr>\n",
       "      <th>2</th>\n",
       "      <td>200053</td>\n",
       "      <td>0</td>\n",
       "    </tr>\n",
       "    <tr>\n",
       "      <th>3</th>\n",
       "      <td>200060</td>\n",
       "      <td>0</td>\n",
       "    </tr>\n",
       "    <tr>\n",
       "      <th>4</th>\n",
       "      <td>200114</td>\n",
       "      <td>0</td>\n",
       "    </tr>\n",
       "    <tr>\n",
       "      <th>...</th>\n",
       "      <td>...</td>\n",
       "      <td>...</td>\n",
       "    </tr>\n",
       "    <tr>\n",
       "      <th>5860</th>\n",
       "      <td>534008</td>\n",
       "      <td>1</td>\n",
       "    </tr>\n",
       "    <tr>\n",
       "      <th>5861</th>\n",
       "      <td>534367</td>\n",
       "      <td>1</td>\n",
       "    </tr>\n",
       "    <tr>\n",
       "      <th>5862</th>\n",
       "      <td>534633</td>\n",
       "      <td>1</td>\n",
       "    </tr>\n",
       "    <tr>\n",
       "      <th>5863</th>\n",
       "      <td>534992</td>\n",
       "      <td>1</td>\n",
       "    </tr>\n",
       "    <tr>\n",
       "      <th>5864</th>\n",
       "      <td>535254</td>\n",
       "      <td>1</td>\n",
       "    </tr>\n",
       "  </tbody>\n",
       "</table>\n",
       "<p>5865 rows × 2 columns</p>\n",
       "</div>"
      ],
      "text/plain": [
       "       index  label\n",
       "0     200039      0\n",
       "1     200046      0\n",
       "2     200053      0\n",
       "3     200060      0\n",
       "4     200114      0\n",
       "...      ...    ...\n",
       "5860  534008      1\n",
       "5861  534367      1\n",
       "5862  534633      1\n",
       "5863  534992      1\n",
       "5864  535254      1\n",
       "\n",
       "[5865 rows x 2 columns]"
      ]
     },
     "execution_count": 253,
     "metadata": {},
     "output_type": "execute_result"
    }
   ],
   "source": [
    "labels"
   ]
  },
  {
   "cell_type": "markdown",
   "id": "e5baeb87",
   "metadata": {},
   "source": [
    "**calculate expected frequencies**"
   ]
  },
  {
   "cell_type": "code",
   "execution_count": 254,
   "id": "d1cd70f3",
   "metadata": {
    "scrolled": false
   },
   "outputs": [],
   "source": [
    "# Sort the column 'index' into alphabetical order\n",
    "labels = labels.sort_values(by='index')\n",
    "labels = labels.reset_index()\n",
    "labels = labels[['index', 'label']]"
   ]
  },
  {
   "cell_type": "code",
   "execution_count": 255,
   "id": "b5062758",
   "metadata": {},
   "outputs": [
    {
     "data": {
      "text/plain": [
       "id_case\n",
       "200022    2\n",
       "200039    2\n",
       "200046    1\n",
       "200053    1\n",
       "200060    2\n",
       "         ..\n",
       "535292    2\n",
       "535308    2\n",
       "535360    2\n",
       "535414    1\n",
       "535469    2\n",
       "Name: PRE_sex, Length: 5952, dtype: int64"
      ]
     },
     "execution_count": 255,
     "metadata": {},
     "output_type": "execute_result"
    }
   ],
   "source": [
    "sex"
   ]
  },
  {
   "cell_type": "code",
   "execution_count": 256,
   "id": "626746e6",
   "metadata": {},
   "outputs": [],
   "source": [
    "# Sort the dataframe into alphabetical order\n",
    "sex = sex.reset_index()\n",
    "sex = sex.sort_values(by = 'id_case')\n",
    "\n",
    "politics = politics.reset_index()\n",
    "politics = politics.sort_values(by = 'id_case')\n",
    "\n",
    "education = education.reset_index()\n",
    "education = education.sort_values(by = 'id_case')\n",
    "\n",
    "job = job.reset_index()\n",
    "job = job.sort_values(by = 'id_case')\n",
    "\n",
    "religion = religion.reset_index()\n",
    "religion = religion.sort_values(by = 'id_case')"
   ]
  },
  {
   "cell_type": "code",
   "execution_count": 258,
   "id": "8c70b5f1",
   "metadata": {},
   "outputs": [
    {
     "data": {
      "text/html": [
       "<div>\n",
       "<style scoped>\n",
       "    .dataframe tbody tr th:only-of-type {\n",
       "        vertical-align: middle;\n",
       "    }\n",
       "\n",
       "    .dataframe tbody tr th {\n",
       "        vertical-align: top;\n",
       "    }\n",
       "\n",
       "    .dataframe thead th {\n",
       "        text-align: right;\n",
       "    }\n",
       "</style>\n",
       "<table border=\"1\" class=\"dataframe\">\n",
       "  <thead>\n",
       "    <tr style=\"text-align: right;\">\n",
       "      <th></th>\n",
       "      <th>index</th>\n",
       "      <th>id_case</th>\n",
       "      <th>PRE_sex</th>\n",
       "    </tr>\n",
       "  </thead>\n",
       "  <tbody>\n",
       "    <tr>\n",
       "      <th>0</th>\n",
       "      <td>0</td>\n",
       "      <td>200022</td>\n",
       "      <td>2</td>\n",
       "    </tr>\n",
       "    <tr>\n",
       "      <th>1</th>\n",
       "      <td>1</td>\n",
       "      <td>200039</td>\n",
       "      <td>2</td>\n",
       "    </tr>\n",
       "    <tr>\n",
       "      <th>2</th>\n",
       "      <td>2</td>\n",
       "      <td>200046</td>\n",
       "      <td>1</td>\n",
       "    </tr>\n",
       "    <tr>\n",
       "      <th>3</th>\n",
       "      <td>3</td>\n",
       "      <td>200053</td>\n",
       "      <td>1</td>\n",
       "    </tr>\n",
       "    <tr>\n",
       "      <th>4</th>\n",
       "      <td>4</td>\n",
       "      <td>200060</td>\n",
       "      <td>2</td>\n",
       "    </tr>\n",
       "    <tr>\n",
       "      <th>...</th>\n",
       "      <td>...</td>\n",
       "      <td>...</td>\n",
       "      <td>...</td>\n",
       "    </tr>\n",
       "    <tr>\n",
       "      <th>5860</th>\n",
       "      <td>5947</td>\n",
       "      <td>535292</td>\n",
       "      <td>2</td>\n",
       "    </tr>\n",
       "    <tr>\n",
       "      <th>5861</th>\n",
       "      <td>5948</td>\n",
       "      <td>535308</td>\n",
       "      <td>2</td>\n",
       "    </tr>\n",
       "    <tr>\n",
       "      <th>5862</th>\n",
       "      <td>5949</td>\n",
       "      <td>535360</td>\n",
       "      <td>2</td>\n",
       "    </tr>\n",
       "    <tr>\n",
       "      <th>5863</th>\n",
       "      <td>5950</td>\n",
       "      <td>535414</td>\n",
       "      <td>1</td>\n",
       "    </tr>\n",
       "    <tr>\n",
       "      <th>5864</th>\n",
       "      <td>5951</td>\n",
       "      <td>535469</td>\n",
       "      <td>2</td>\n",
       "    </tr>\n",
       "  </tbody>\n",
       "</table>\n",
       "<p>5865 rows × 3 columns</p>\n",
       "</div>"
      ],
      "text/plain": [
       "      index  id_case  PRE_sex\n",
       "0         0   200022        2\n",
       "1         1   200039        2\n",
       "2         2   200046        1\n",
       "3         3   200053        1\n",
       "4         4   200060        2\n",
       "...     ...      ...      ...\n",
       "5860   5947   535292        2\n",
       "5861   5948   535308        2\n",
       "5862   5949   535360        2\n",
       "5863   5950   535414        1\n",
       "5864   5951   535469        2\n",
       "\n",
       "[5865 rows x 3 columns]"
      ]
     },
     "execution_count": 258,
     "metadata": {},
     "output_type": "execute_result"
    }
   ],
   "source": [
    "sex"
   ]
  },
  {
   "cell_type": "code",
   "execution_count": 259,
   "id": "56c679b0",
   "metadata": {},
   "outputs": [],
   "source": [
    "# Only selects the participants that also remains in the labels' id_case info.\n",
    "sex = sex[sex['id_case'].isin(labels['index'])].reset_index()\n",
    "sex = sex[['id_case', 'PRE_sex']]\n",
    "\n",
    "politics = politics[politics['id_case'].isin(labels['index'])].reset_index()\n",
    "politics = politics[['id_case', 'POST_president']]\n",
    "\n",
    "education = education[education['id_case'].isin(labels['index'])].reset_index()\n",
    "education = education[['id_case', 'PRE_education']]\n",
    "\n",
    "job = job[job['id_case'].isin(labels['index'])].reset_index()\n",
    "job = job[['id_case', 'PRE_occupation']]\n",
    "\n",
    "religion = religion[religion['id_case'].isin(labels['index'])].reset_index()\n",
    "religion = religion[['id_case', 'PRE_present_religion']]"
   ]
  },
  {
   "cell_type": "code",
   "execution_count": 261,
   "id": "aee26baa",
   "metadata": {},
   "outputs": [
    {
     "name": "stdout",
     "output_type": "stream",
     "text": [
      "sex - not identical: 0\n"
     ]
    }
   ],
   "source": [
    "# check if the order of the particpant column is identical to the label column - sex\n",
    "cnt = 0\n",
    "for i in range(len(labels)): \n",
    "    if sex['id_case'].loc[i] == labels['index'].loc[i]: \n",
    "        pass\n",
    "    else:\n",
    "        cnt += 1\n",
    "print(\"sex - not identical:\", cnt)"
   ]
  },
  {
   "cell_type": "code",
   "execution_count": 262,
   "id": "0f96c45d",
   "metadata": {},
   "outputs": [
    {
     "name": "stdout",
     "output_type": "stream",
     "text": [
      "politics - not identical: 0\n"
     ]
    }
   ],
   "source": [
    "# check if the order of the particpant column is identical to the label column - politics\n",
    "cnt = 0\n",
    "for i in range(len(labels)): \n",
    "    if politics['id_case'].loc[i] == labels['index'].loc[i]: \n",
    "        pass\n",
    "    else:\n",
    "        cnt += 1\n",
    "print(\"politics - not identical:\", cnt)"
   ]
  },
  {
   "cell_type": "code",
   "execution_count": 264,
   "id": "4a2673b2",
   "metadata": {},
   "outputs": [
    {
     "name": "stdout",
     "output_type": "stream",
     "text": [
      "education - not identical: 0\n"
     ]
    }
   ],
   "source": [
    "# check if the order of the particpant column is identical to the label column - education\n",
    "cnt = 0\n",
    "for i in range(len(labels)): \n",
    "    if education['id_case'].loc[i] == labels['index'].loc[i]: \n",
    "        pass\n",
    "    else:\n",
    "        cnt += 1\n",
    "print(\"education - not identical:\", cnt)"
   ]
  },
  {
   "cell_type": "code",
   "execution_count": 265,
   "id": "495b7cc9",
   "metadata": {},
   "outputs": [
    {
     "name": "stdout",
     "output_type": "stream",
     "text": [
      "employment - not identical: 0\n"
     ]
    }
   ],
   "source": [
    "# check if the order of the particpant column is identical to the label column - employment\n",
    "cnt = 0\n",
    "for i in range(len(labels)): \n",
    "    if job['id_case'].loc[i] == labels['index'].loc[i]: \n",
    "        pass\n",
    "    else:\n",
    "        cnt += 1\n",
    "print(\"employment - not identical:\", cnt)"
   ]
  },
  {
   "cell_type": "code",
   "execution_count": 266,
   "id": "c1373c73",
   "metadata": {},
   "outputs": [
    {
     "name": "stdout",
     "output_type": "stream",
     "text": [
      "religion - not identical: 0\n"
     ]
    }
   ],
   "source": [
    "# check if the order of the particpant column is identical to the label column - income\n",
    "cnt = 0\n",
    "for i in range(len(labels)): \n",
    "    if religion['id_case'].loc[i] == labels['index'].loc[i]: \n",
    "        pass\n",
    "    else:\n",
    "        cnt += 1\n",
    "print(\"religion - not identical:\", cnt)"
   ]
  },
  {
   "cell_type": "code",
   "execution_count": 267,
   "id": "ba6a3d32",
   "metadata": {},
   "outputs": [],
   "source": [
    "from scipy.stats import chi2_contingency"
   ]
  },
  {
   "cell_type": "code",
   "execution_count": 269,
   "id": "5bce081e",
   "metadata": {},
   "outputs": [
    {
     "name": "stdout",
     "output_type": "stream",
     "text": [
      "sex, Chi-squared test p-value: 0.49305439199569523\n"
     ]
    }
   ],
   "source": [
    "# Create a contingency table\n",
    "contingency_table = pd.crosstab(sex['PRE_sex'], labels['index'])\n",
    "\n",
    "# Perform the Chi-squared test\n",
    "chi2, p, dof, expected = chi2_contingency(contingency_table)\n",
    "\n",
    "# Print the p-value\n",
    "print(\"sex, Chi-squared test p-value:\", p)\n"
   ]
  },
  {
   "cell_type": "markdown",
   "id": "acc1e926",
   "metadata": {},
   "source": [
    "p is not below 0.05 -> fail to reject the null-hypothesis\n",
    "\n",
    "**Result:**\n",
    "The distribution of the feature(gender) is **not** significantly different across different clusters."
   ]
  },
  {
   "cell_type": "code",
   "execution_count": 270,
   "id": "de45b105",
   "metadata": {},
   "outputs": [
    {
     "name": "stdout",
     "output_type": "stream",
     "text": [
      "politics, Chi-squared test p-value: 0.4881323118552109\n"
     ]
    }
   ],
   "source": [
    "# Create a contingency table\n",
    "contingency_table = pd.crosstab(politics['POST_president'], labels['index'])\n",
    "\n",
    "# Perform the Chi-squared test\n",
    "chi2, p, dof, expected = chi2_contingency(contingency_table)\n",
    "\n",
    "# Print the p-value\n",
    "print(\"politics, Chi-squared test p-value:\", p)"
   ]
  },
  {
   "cell_type": "markdown",
   "id": "2b8b0f09",
   "metadata": {},
   "source": [
    "p is not below 0.05 -> fail to reject the null-hypothesis\n",
    "\n",
    "**Result:**\n",
    "The distribution of the feature(politics) is **not** significantly different across different clusters."
   ]
  },
  {
   "cell_type": "code",
   "execution_count": 271,
   "id": "14d78ec0",
   "metadata": {},
   "outputs": [
    {
     "name": "stdout",
     "output_type": "stream",
     "text": [
      "education, Chi-squared test p-value: 0.48932714025767676\n"
     ]
    }
   ],
   "source": [
    "# Create a contingency table\n",
    "contingency_table = pd.crosstab(education['PRE_education'], labels['index'])\n",
    "\n",
    "# Perform the Chi-squared test\n",
    "chi2, p, dof, expected = chi2_contingency(contingency_table)\n",
    "\n",
    "# Print the p-value\n",
    "print(\"education, Chi-squared test p-value:\", p)"
   ]
  },
  {
   "cell_type": "markdown",
   "id": "752bada0",
   "metadata": {},
   "source": [
    "p is not below 0.05 -> fail to reject the null-hypothesis\n",
    "\n",
    "**Result:**\n",
    "The distribution of the feature(education) is **not** significantly different across different clusters."
   ]
  },
  {
   "cell_type": "code",
   "execution_count": 272,
   "id": "ff1aca76",
   "metadata": {},
   "outputs": [
    {
     "name": "stdout",
     "output_type": "stream",
     "text": [
      "employment, Chi-squared test p-value: 0.4893271402576666\n"
     ]
    }
   ],
   "source": [
    "# Create a contingency table\n",
    "contingency_table = pd.crosstab(job['PRE_occupation'], labels['index'])\n",
    "\n",
    "# Perform the Chi-squared test\n",
    "chi2, p, dof, expected = chi2_contingency(contingency_table)\n",
    "\n",
    "# Print the p-value\n",
    "print(\"employment, Chi-squared test p-value:\", p)"
   ]
  },
  {
   "cell_type": "markdown",
   "id": "aff529ef",
   "metadata": {},
   "source": [
    "p is not below 0.05 -> fail to reject the null-hypothesis\n",
    "\n",
    "**Result:**\n",
    "The distribution of the feature(employment) is **not** significantly different across different clusters.."
   ]
  },
  {
   "cell_type": "code",
   "execution_count": 273,
   "id": "122118a0",
   "metadata": {},
   "outputs": [
    {
     "name": "stdout",
     "output_type": "stream",
     "text": [
      "religion, Chi-squared test p-value: 0.48653322489803313\n"
     ]
    }
   ],
   "source": [
    "# Create a contingency table\n",
    "contingency_table = pd.crosstab(religion['PRE_present_religion'], labels['index'])\n",
    "\n",
    "# Perform the Chi-squared test\n",
    "chi2, p, dof, expected = chi2_contingency(contingency_table)\n",
    "\n",
    "# Print the p-value\n",
    "print(\"religion, Chi-squared test p-value:\", p)"
   ]
  },
  {
   "cell_type": "markdown",
   "id": "ac2254ca",
   "metadata": {},
   "source": [
    "p is not below 0.05 -> fail to reject the null-hypothesis\n",
    "\n",
    "**Result:**\n",
    "The distribution of the feature(employment) is **not** significantly different across different clusters.."
   ]
  },
  {
   "cell_type": "markdown",
   "id": "4881b2ef",
   "metadata": {},
   "source": [
    "### Analysis of the ANOVA and Chi-Square test results\n",
    "\n",
    "1. ANOVA\n",
    "\n",
    "     1) Table of metrics - mean, var, std, cardinality, p-value:\n",
    "        https://docs.google.com/spreadsheets/d/1E4k_kSAiAspQuXAbEuYquVKFuzHa5Ihz7mNryUj1jOU/edit#gid=446196028 -> update\n",
    "\n",
    "     2) AGE: There is a significant difference between the clusters with the distribution of 'age' feature. \n",
    "\n",
    "2. Chi-Square\n",
    "\n",
    ": There was no significant difference across the clusters with the distribution of the categorical features."
   ]
  },
  {
   "cell_type": "markdown",
   "id": "d654486d",
   "metadata": {},
   "source": [
    "### 2. dataset: concatenated responses(distilBERT)"
   ]
  },
  {
   "cell_type": "markdown",
   "id": "1a0564da",
   "metadata": {},
   "source": [
    "## Dimensionality reduction"
   ]
  },
  {
   "cell_type": "markdown",
   "id": "24eca881",
   "metadata": {},
   "source": [
    "### UMAP"
   ]
  },
  {
   "cell_type": "code",
   "execution_count": 80,
   "id": "501ed8a6",
   "metadata": {
    "scrolled": true
   },
   "outputs": [],
   "source": [
    "# Read the embedding file. Check generating procedure from the 'generate_embedding.ipynb' file. \n",
    "emb = pd.read_json(\"~/thesis/embeddings/response_distilbert_mentions.jsonl\", orient = 'index')"
   ]
  },
  {
   "cell_type": "code",
   "execution_count": 81,
   "id": "e678640e",
   "metadata": {},
   "outputs": [],
   "source": [
    "emb = emb.loc[emb.index.isin(demos.index)]"
   ]
  },
  {
   "cell_type": "code",
   "execution_count": 82,
   "id": "e32267a2",
   "metadata": {
    "scrolled": true
   },
   "outputs": [
    {
     "data": {
      "text/html": [
       "<div>\n",
       "<style scoped>\n",
       "    .dataframe tbody tr th:only-of-type {\n",
       "        vertical-align: middle;\n",
       "    }\n",
       "\n",
       "    .dataframe tbody tr th {\n",
       "        vertical-align: top;\n",
       "    }\n",
       "\n",
       "    .dataframe thead th {\n",
       "        text-align: right;\n",
       "    }\n",
       "</style>\n",
       "<table border=\"1\" class=\"dataframe\">\n",
       "  <thead>\n",
       "    <tr style=\"text-align: right;\">\n",
       "      <th></th>\n",
       "      <th>mentions</th>\n",
       "      <th>embeddings</th>\n",
       "    </tr>\n",
       "  </thead>\n",
       "  <tbody>\n",
       "    <tr>\n",
       "      <th>200022</th>\n",
       "      <td>coming together country</td>\n",
       "      <td>[-0.227941528, -0.2221784741, 0.0722830296, -0...</td>\n",
       "    </tr>\n",
       "    <tr>\n",
       "      <th>200039</th>\n",
       "      <td>severe political polarization allow compromise...</td>\n",
       "      <td>[-0.2165557146, -0.1016257405, -0.106548383800...</td>\n",
       "    </tr>\n",
       "    <tr>\n",
       "      <th>200046</th>\n",
       "      <td>pandemic covid 19 unemployment lot people loss...</td>\n",
       "      <td>[-0.22202694420000002, -0.0646716952, -0.09666...</td>\n",
       "    </tr>\n",
       "    <tr>\n",
       "      <th>200053</th>\n",
       "      <td>globalism fake covid law order blm public educ...</td>\n",
       "      <td>[0.002051929, 0.0412162021, -0.201424107000000...</td>\n",
       "    </tr>\n",
       "    <tr>\n",
       "      <th>200060</th>\n",
       "      <td>pandemic need control biden ideas trump garbag...</td>\n",
       "      <td>[-0.272498548, -0.1634785682, -0.3625736237, -...</td>\n",
       "    </tr>\n",
       "    <tr>\n",
       "      <th>...</th>\n",
       "      <td>...</td>\n",
       "      <td>...</td>\n",
       "    </tr>\n",
       "    <tr>\n",
       "      <th>535292</th>\n",
       "      <td>election think rigged much happened believe do...</td>\n",
       "      <td>[-0.1366230249, -0.17391806840000001, 0.045420...</td>\n",
       "    </tr>\n",
       "    <tr>\n",
       "      <th>535308</th>\n",
       "      <td>finance drug</td>\n",
       "      <td>[-0.10063606500000001, -0.0892686099, -0.23937...</td>\n",
       "    </tr>\n",
       "    <tr>\n",
       "      <th>535360</th>\n",
       "      <td>divisiveness divided unified race inequality</td>\n",
       "      <td>[-0.41937309500000003, -0.0796228424, -0.60254...</td>\n",
       "    </tr>\n",
       "    <tr>\n",
       "      <th>535414</th>\n",
       "      <td>health immigration way separate families</td>\n",
       "      <td>[-0.1339714974, -0.1170585454, -0.3581072688, ...</td>\n",
       "    </tr>\n",
       "    <tr>\n",
       "      <th>535469</th>\n",
       "      <td>pandemic totally control equapilty issue racia...</td>\n",
       "      <td>[-0.0988171548, -0.1091972142, -0.3178270459, ...</td>\n",
       "    </tr>\n",
       "  </tbody>\n",
       "</table>\n",
       "<p>5865 rows × 2 columns</p>\n",
       "</div>"
      ],
      "text/plain": [
       "                                                 mentions  \\\n",
       "200022                          coming together country     \n",
       "200039  severe political polarization allow compromise...   \n",
       "200046  pandemic covid 19 unemployment lot people loss...   \n",
       "200053  globalism fake covid law order blm public educ...   \n",
       "200060  pandemic need control biden ideas trump garbag...   \n",
       "...                                                   ...   \n",
       "535292  election think rigged much happened believe do...   \n",
       "535308                                      finance drug    \n",
       "535360      divisiveness divided unified race inequality    \n",
       "535414          health immigration way separate families    \n",
       "535469  pandemic totally control equapilty issue racia...   \n",
       "\n",
       "                                               embeddings  \n",
       "200022  [-0.227941528, -0.2221784741, 0.0722830296, -0...  \n",
       "200039  [-0.2165557146, -0.1016257405, -0.106548383800...  \n",
       "200046  [-0.22202694420000002, -0.0646716952, -0.09666...  \n",
       "200053  [0.002051929, 0.0412162021, -0.201424107000000...  \n",
       "200060  [-0.272498548, -0.1634785682, -0.3625736237, -...  \n",
       "...                                                   ...  \n",
       "535292  [-0.1366230249, -0.17391806840000001, 0.045420...  \n",
       "535308  [-0.10063606500000001, -0.0892686099, -0.23937...  \n",
       "535360  [-0.41937309500000003, -0.0796228424, -0.60254...  \n",
       "535414  [-0.1339714974, -0.1170585454, -0.3581072688, ...  \n",
       "535469  [-0.0988171548, -0.1091972142, -0.3178270459, ...  \n",
       "\n",
       "[5865 rows x 2 columns]"
      ]
     },
     "execution_count": 82,
     "metadata": {},
     "output_type": "execute_result"
    }
   ],
   "source": [
    "emb"
   ]
  },
  {
   "cell_type": "code",
   "execution_count": 83,
   "id": "8e4bc132",
   "metadata": {
    "scrolled": true
   },
   "outputs": [
    {
     "data": {
      "text/plain": [
       "(5865, 768)"
      ]
     },
     "execution_count": 83,
     "metadata": {},
     "output_type": "execute_result"
    }
   ],
   "source": [
    "# \"transform embedding\"\n",
    "from ast import literal_eval\n",
    "emb['embeddings'] = emb['embeddings'].apply(np.array)  # convert list to numpy array\n",
    "matrix = np.vstack(emb['embeddings'].values)\n",
    "matrix.shape"
   ]
  },
  {
   "cell_type": "code",
   "execution_count": 84,
   "id": "09f88462",
   "metadata": {
    "scrolled": false
   },
   "outputs": [],
   "source": [
    "X = matrix.copy()"
   ]
  },
  {
   "cell_type": "code",
   "execution_count": 85,
   "id": "386d6d82",
   "metadata": {},
   "outputs": [
    {
     "data": {
      "text/plain": [
       "(5865, 768)"
      ]
     },
     "execution_count": 85,
     "metadata": {},
     "output_type": "execute_result"
    }
   ],
   "source": [
    "X.shape"
   ]
  },
  {
   "cell_type": "code",
   "execution_count": 86,
   "id": "6d035873",
   "metadata": {
    "scrolled": true
   },
   "outputs": [],
   "source": [
    "# Step 1: Normalize the data\n",
    "normalized_embeddings = StandardScaler().fit_transform(X)"
   ]
  },
  {
   "cell_type": "code",
   "execution_count": 87,
   "id": "5cb17770",
   "metadata": {},
   "outputs": [],
   "source": [
    "# Step 2: Apply UMAP for dimensionality reduction\n",
    "umap_model = UMAP(n_neighbors=10, min_dist=0.1, n_components=2, random_state=0)\n",
    "umap_embeddings = umap_model.fit_transform(normalized_embeddings)\n",
    "X = umap_embeddings.copy()"
   ]
  },
  {
   "cell_type": "markdown",
   "id": "95ae4e75",
   "metadata": {},
   "source": [
    "### silhouette score"
   ]
  },
  {
   "cell_type": "code",
   "execution_count": 88,
   "id": "13f80673",
   "metadata": {
    "scrolled": true
   },
   "outputs": [],
   "source": [
    "# Step 3: Use silhouette score to find optimal number of clusters\n",
    "silhouette_scores = []\n",
    "for num_clusters in range(2, 11):\n",
    "    kmeans = KMeans(n_clusters=num_clusters, random_state=0)\n",
    "    cluster_labels = kmeans.fit_predict(X)\n",
    "    silhouette_scores.append(silhouette_score(X, cluster_labels))\n",
    "\n",
    "optimal_num_clusters = silhouette_scores.index(max(silhouette_scores)) + 2"
   ]
  },
  {
   "cell_type": "markdown",
   "id": "afb69960",
   "metadata": {},
   "source": [
    "The last line derives from the fact that silhouette score is calculated from the num_cluster 2, so therefore if retrieving index of the lists, the first element's index is 0 but it indicates the value of num_cluster 2, therefore +2 would make it easier to retrieve the value. \n"
   ]
  },
  {
   "cell_type": "code",
   "execution_count": 89,
   "id": "510bcac3",
   "metadata": {
    "scrolled": true
   },
   "outputs": [
    {
     "data": {
      "text/plain": [
       "2"
      ]
     },
     "execution_count": 89,
     "metadata": {},
     "output_type": "execute_result"
    }
   ],
   "source": [
    "optimal_num_clusters"
   ]
  },
  {
   "cell_type": "markdown",
   "id": "cd2475cc",
   "metadata": {},
   "source": [
    "### elbow method"
   ]
  },
  {
   "cell_type": "code",
   "execution_count": 90,
   "id": "fb7b8b5c",
   "metadata": {
    "scrolled": false
   },
   "outputs": [],
   "source": [
    "# Use Elbow-analysis as well to find optimal number of clusters\n",
    "# Elbow analysis\n",
    "distortions = []\n",
    "inertias = []\n",
    "mapping1 = {}\n",
    "mapping2 = {}\n",
    "K = range(1, 20)\n",
    "\n",
    "for k in K:\n",
    "    # Building and fitting the model\n",
    "    kmeanModel = KMeans(n_clusters=k).fit(X)\n",
    "    kmeanModel.fit(X)\n",
    "\n",
    "    distortions.append(sum(np.min(cdist(X, kmeanModel.cluster_centers_,\n",
    "                                        'euclidean'), axis=1)) / X.shape[0])\n",
    "    inertias.append(kmeanModel.inertia_)\n",
    "\n",
    "    mapping1[k] = sum(np.min(cdist(X, kmeanModel.cluster_centers_,\n",
    "                                   'euclidean'), axis=1)) / X.shape[0]\n",
    "    mapping2[k] = kmeanModel.inertia_"
   ]
  },
  {
   "cell_type": "code",
   "execution_count": 91,
   "id": "b757df0a",
   "metadata": {},
   "outputs": [
    {
     "data": {
      "image/png": "[encoded data removed]",
      "text/plain": [
       "<Figure size 1200x400 with 2 Axes>"
      ]
     },
     "metadata": {},
     "output_type": "display_data"
    }
   ],
   "source": [
    "# Create a figure with subplots\n",
    "fig, (ax1, ax2) = plt.subplots(1, 2, figsize=(12, 4))  # Adjust figsize as needed\n",
    "\n",
    "# Plot the first plot on ax1\n",
    "ax1.plot(K, distortions, 'bx-')\n",
    "ax1.set_xlabel('Values of_K')\n",
    "ax1.set_ylabel('Distortion')\n",
    "ax1.set_title('The Elbow Method using Distortion')\n",
    "\n",
    "\n",
    "# Plot the second plot on ax2\n",
    "ax2.plot(K, inertias, 'bx-')\n",
    "ax2.set_xlabel('Values of_K')\n",
    "ax2.set_ylabel('Inertia')\n",
    "ax2.set_title('The Elbow Method using Inertia')\n",
    "\n",
    "# Adjust layout to prevent overlap\n",
    "plt.tight_layout()\n",
    "\n",
    "# Display the plots\n",
    "plt.show()"
   ]
  },
  {
   "cell_type": "markdown",
   "id": "da30b366",
   "metadata": {},
   "source": [
    "## KMeans clustering"
   ]
  },
  {
   "cell_type": "code",
   "execution_count": 92,
   "id": "5922d84b",
   "metadata": {
    "scrolled": false
   },
   "outputs": [],
   "source": [
    "# Step 4: Perform final clustering\n",
    "final_kmeans = KMeans(n_clusters = 2, random_state=0)\n",
    "final_cluster_labels = final_kmeans.fit_predict(X)\n",
    "\n",
    "# Save the result of clustering with random state 0 as a dataframe column\n",
    "emb['label'] = final_cluster_labels  "
   ]
  },
  {
   "cell_type": "markdown",
   "id": "bd5e7251",
   "metadata": {},
   "source": [
    "### Clustering evaluation: Visualization 1"
   ]
  },
  {
   "cell_type": "code",
   "execution_count": 93,
   "id": "27d47f9c",
   "metadata": {
    "scrolled": true
   },
   "outputs": [
    {
     "data": {
      "image/png": "[encoded data removed]",
      "text/plain": [
       "<Figure size 400x400 with 2 Axes>"
      ]
     },
     "metadata": {},
     "output_type": "display_data"
    }
   ],
   "source": [
    "# Visualize clustering depending on different random states.\n",
    "figures = [] # list to hold different figures. \n",
    "\n",
    "fig1, ax1 = plt.subplots()\n",
    "scatter = ax1.scatter(X[:, 0], X[:, 1], c=final_cluster_labels, cmap='viridis')\n",
    "ax1.set_xlabel('UMAP Dimension 1')\n",
    "ax1.set_ylabel('UMAP Dimension 2')\n",
    "ax1.set_title('UMAP Visualization of Text Clusters')\n",
    "\n",
    "colorbar = plt.colorbar(scatter, ax=ax1)\n",
    "colorbar.set_label('Cluster Label')\n",
    "\n",
    "figures.append(fig1)"
   ]
  },
  {
   "cell_type": "markdown",
   "id": "2e9f233e",
   "metadata": {},
   "source": [
    "### Clustering evaluation: metrics 1"
   ]
  },
  {
   "cell_type": "code",
   "execution_count": 94,
   "id": "4b9aa128",
   "metadata": {
    "scrolled": true
   },
   "outputs": [
    {
     "name": "stdout",
     "output_type": "stream",
     "text": [
      "\n",
      "\"Question 1\"\n",
      "\n",
      "Silhouette Coefficient: 0.4177808463573456\n",
      "Calinski-Harabasz Index: 4808.581728248868\n",
      "Davies-Bouldin Index: 0.9456736429841993\n"
     ]
    }
   ],
   "source": [
    "# Cluster labels obtained from clustering algorithm\n",
    "\n",
    "final_cluster_labels # cluster_labels_from_bert\n",
    "X # contextualized tokens of the input texts.\n",
    "\n",
    "# Specify the question that is addressed. \n",
    "print(\"\\n\\\"Question 1\\\"\\n\")\n",
    "\n",
    "# Calculate Silhouette Coefficient\n",
    "silhouette = silhouette_score(X, final_cluster_labels)\n",
    "print(f\"Silhouette Coefficient: {silhouette}\")\n",
    "\n",
    "# Calculate Calinski-Harabasz Index\n",
    "calinski = calinski_harabasz_score(X, final_cluster_labels)\n",
    "print(f\"Calinski-Harabasz Index: {calinski}\")\n",
    "\n",
    "# Calculate Davies-Bouldin Index\n",
    "davies_bouldin = davies_bouldin_score(X, final_cluster_labels)\n",
    "print(f\"Davies-Bouldin Index: {davies_bouldin}\")"
   ]
  },
  {
   "cell_type": "markdown",
   "id": "b6ed7c2f",
   "metadata": {},
   "source": [
    "### Clustering evaluation: metrics 2"
   ]
  },
  {
   "cell_type": "code",
   "execution_count": 95,
   "id": "e58f1698",
   "metadata": {},
   "outputs": [
    {
     "name": "stderr",
     "output_type": "stream",
     "text": [
      "[nltk_data] Downloading package stopwords to\n",
      "[nltk_data]     /mnt/home/kim/nltk_data...\n",
      "[nltk_data]   Package stopwords is already up-to-date!\n"
     ]
    }
   ],
   "source": [
    "import gensim\n",
    "from gensim.utils import simple_preprocess\n",
    "import nltk\n",
    "nltk.download('stopwords')\n",
    "from nltk.corpus import stopwords\n",
    "from collections import Counter\n",
    "from itertools import combinations"
   ]
  },
  {
   "cell_type": "code",
   "execution_count": 96,
   "id": "cfbdc081",
   "metadata": {},
   "outputs": [],
   "source": [
    "# Retrieve documents corresponding to each cluster\n",
    "data = pd.read_json('~/thesis/data/processed_uscensus/political_mentions.jsonl', orient='index')\n",
    "documents = data['mentions'].tolist()"
   ]
  },
  {
   "cell_type": "code",
   "execution_count": 97,
   "id": "ecfff299",
   "metadata": {},
   "outputs": [],
   "source": [
    "# Tokenize and remove stopwords\n",
    "stop_words = stopwords.words('english')\n",
    "stop_words.extend(['from', 'subject', 're', 'edu', 'use'])"
   ]
  },
  {
   "cell_type": "code",
   "execution_count": 98,
   "id": "e48a231e",
   "metadata": {},
   "outputs": [],
   "source": [
    "def sent_to_words(sentences):\n",
    "    for sentence in sentences:\n",
    "        yield(gensim.utils.simple_preprocess(str(sentence), deacc=True))\n",
    "\n",
    "def remove_stopwords(texts):\n",
    "    return [[word for word in simple_preprocess(str(doc)) if word not in stop_words] for doc in texts]\n",
    "\n",
    "data_words = list(sent_to_words(documents))\n",
    "data_words = remove_stopwords(data_words)"
   ]
  },
  {
   "cell_type": "code",
   "execution_count": 99,
   "id": "ae690c7e",
   "metadata": {},
   "outputs": [],
   "source": [
    "# Group documents by cluster\n",
    "clustered_docs = [[] for _ in range(optimal_num_clusters)]\n",
    "for doc, label in zip(data_words, final_cluster_labels):\n",
    "    clustered_docs[label].append(doc)"
   ]
  },
  {
   "cell_type": "code",
   "execution_count": 100,
   "id": "cb480b4e",
   "metadata": {},
   "outputs": [],
   "source": [
    "# Compute co-occurrence matrix\n",
    "def compute_cooccurrence_matrix(texts):\n",
    "    word_counts = Counter(word for text in texts for word in text)\n",
    "    total_count = sum(word_counts.values())\n",
    "    word_pairs = Counter()\n",
    "    for text in texts:\n",
    "        for i, j in combinations(set(text), 2):\n",
    "            word_pairs[tuple(sorted([i, j]))] += 1\n",
    "    return word_pairs, word_counts, total_count\n",
    "\n",
    "# Compute NPMI\n",
    "def compute_npmi(word_pairs, word_counts, total_count):\n",
    "    npmi_matrix = {}\n",
    "    for (w_i, w_j), cooccur_count in word_pairs.items():\n",
    "        p_i = word_counts[w_i] / total_count\n",
    "        p_j = word_counts[w_j] / total_count\n",
    "        p_ij = cooccur_count / total_count\n",
    "        if p_ij > 0:\n",
    "            pmi = np.log(p_ij / (p_i * p_j))\n",
    "            npmi = pmi / -np.log(p_ij)\n",
    "            npmi_matrix[(w_i, w_j)] = npmi\n",
    "    return npmi_matrix\n",
    "\n",
    "# Calculate average NPMI for each cluster\n",
    "def average_npmi_for_clusters(clustered_docs):\n",
    "    cluster_npmis = []\n",
    "    for docs in clustered_docs:\n",
    "        if not docs:\n",
    "            continue\n",
    "        word_pairs, word_counts, total_count = compute_cooccurrence_matrix(docs)\n",
    "        npmi_matrix = compute_npmi(word_pairs, word_counts, total_count)\n",
    "        top_words = list(word_counts.keys())\n",
    "        npmis = [npmi_matrix.get(tuple(sorted([w_i, w_j])), 0) for w_i, w_j in combinations(top_words, 2)]\n",
    "        if npmis:\n",
    "            cluster_npmi = np.mean(npmis)\n",
    "            cluster_npmis.append(cluster_npmi)\n",
    "    return np.mean(cluster_npmis) if cluster_npmis else 0"
   ]
  },
  {
   "cell_type": "code",
   "execution_count": 101,
   "id": "961f2840",
   "metadata": {},
   "outputs": [
    {
     "name": "stdout",
     "output_type": "stream",
     "text": [
      "Average NPMI for KMeans clusters: 0.00908543179523169\n"
     ]
    }
   ],
   "source": [
    "average_npmi = average_npmi_for_clusters(clustered_docs)\n",
    "print(\"Average NPMI for KMeans clusters:\", average_npmi)"
   ]
  },
  {
   "cell_type": "code",
   "execution_count": null,
   "id": "07eac5f8",
   "metadata": {},
   "outputs": [],
   "source": []
  },
  {
   "cell_type": "markdown",
   "id": "cdcc2df2",
   "metadata": {},
   "source": [
    "## Manually check clusters"
   ]
  },
  {
   "cell_type": "code",
   "execution_count": 102,
   "id": "6973e583",
   "metadata": {},
   "outputs": [],
   "source": [
    "# create the community of the case ids(respondents) that are the result of the clustering\n",
    "keys = ['one', 'zero']\n",
    "communities = {key: [] for key in keys}\n",
    "\n",
    "emb['id_case'] = emb.index"
   ]
  },
  {
   "cell_type": "code",
   "execution_count": 103,
   "id": "014f626e",
   "metadata": {},
   "outputs": [
    {
     "data": {
      "text/plain": [
       "{'one': [], 'zero': []}"
      ]
     },
     "execution_count": 103,
     "metadata": {},
     "output_type": "execute_result"
    }
   ],
   "source": [
    "communities"
   ]
  },
  {
   "cell_type": "code",
   "execution_count": 104,
   "id": "b9fabd48",
   "metadata": {},
   "outputs": [],
   "source": [
    "for i in range(len(emb)):\n",
    "    if emb['label'].iloc[i] == 1:\n",
    "        communities['one'].append(emb['id_case'].iloc[i])\n",
    "    elif emb['label'].iloc[i] == 0: \n",
    "        communities['zero'].append(emb['id_case'].iloc[i])"
   ]
  },
  {
   "cell_type": "markdown",
   "id": "b47e91d7",
   "metadata": {},
   "source": [
    "## AGE"
   ]
  },
  {
   "cell_type": "code",
   "execution_count": 105,
   "id": "a00d2a5e",
   "metadata": {},
   "outputs": [],
   "source": [
    "age = demos['PRE_age']"
   ]
  },
  {
   "cell_type": "code",
   "execution_count": 106,
   "id": "44ab03dd",
   "metadata": {},
   "outputs": [],
   "source": [
    "# delete the null valued rows in the column 'age'\n",
    "age = age.dropna()"
   ]
  },
  {
   "cell_type": "code",
   "execution_count": 107,
   "id": "13fb5224",
   "metadata": {
    "scrolled": true
   },
   "outputs": [
    {
     "name": "stdout",
     "output_type": "stream",
     "text": [
      "mean of age: 50.71404569892473\n",
      "variance of age: 415.80398282586856\n",
      "standard deviation of age: 20.391272221856795\n"
     ]
    }
   ],
   "source": [
    "# mean, var, std\n",
    "print(\"mean of age:\", np.mean(age))\n",
    "print(\"variance of age:\", np.var(age))\n",
    "print(\"standard deviation of age:\", np.std(age))"
   ]
  },
  {
   "cell_type": "code",
   "execution_count": 108,
   "id": "e21d3bf9",
   "metadata": {
    "scrolled": true
   },
   "outputs": [
    {
     "name": "stdout",
     "output_type": "stream",
     "text": [
      "*community_0 in age\n",
      "how many: 3087\n",
      "mean: 49.66601878846777\n",
      "variance: 420.1693117495661\n",
      "std: 20.498031899418198\n",
      "\n",
      "*community_1 in age \n",
      "how many: 2778\n",
      "mean: 52.02519798416127\n",
      "variance: 401.76250401047827\n",
      "std: 20.04401416908495\n"
     ]
    }
   ],
   "source": [
    "# Dataframe age with each communities\n",
    "age_0 = age.loc[communities['zero']]\n",
    "age_1 = age.loc[communities['one']]\n",
    "\n",
    "# print cardinality, mean, var, std within the cluster.\n",
    "# community_0\n",
    "print(\"*community_0 in age\")\n",
    "print(\"how many:\", len(age_0))\n",
    "print(\"mean:\", np.mean(age_0))\n",
    "print(\"variance:\", np.var(age_0))\n",
    "print(\"std:\", np.std(age_0))\n",
    "\n",
    "# community_1\n",
    "print(\"\\n*community_1 in age \")\n",
    "print(\"how many:\", len(age_1))\n",
    "print(\"mean:\", np.mean(age_1))\n",
    "print(\"variance:\", np.var(age_1))\n",
    "print(\"std:\", np.std(age_1))"
   ]
  },
  {
   "cell_type": "code",
   "execution_count": 109,
   "id": "79b67de3",
   "metadata": {},
   "outputs": [
    {
     "data": {
      "text/plain": [
       "(array([121.,   0.,   0.,   0.,   0.,   0.,   0.,   0.,   0.,  47.,  54.,\n",
       "        108., 137., 139., 139., 181., 163., 136., 131., 141., 118., 152.,\n",
       "        168., 168., 190., 154., 166., 176., 118., 180.]),\n",
       " array([-9.        , -6.03333333, -3.06666667, -0.1       ,  2.86666667,\n",
       "         5.83333333,  8.8       , 11.76666667, 14.73333333, 17.7       ,\n",
       "        20.66666667, 23.63333333, 26.6       , 29.56666667, 32.53333333,\n",
       "        35.5       , 38.46666667, 41.43333333, 44.4       , 47.36666667,\n",
       "        50.33333333, 53.3       , 56.26666667, 59.23333333, 62.2       ,\n",
       "        65.16666667, 68.13333333, 71.1       , 74.06666667, 77.03333333,\n",
       "        80.        ]),\n",
       " <BarContainer object of 30 artists>)"
      ]
     },
     "execution_count": 109,
     "metadata": {},
     "output_type": "execute_result"
    },
    {
     "data": {
      "image/png": "[encoded data removed]",
      "text/plain": [
       "<Figure size 400x400 with 1 Axes>"
      ]
     },
     "metadata": {},
     "output_type": "display_data"
    }
   ],
   "source": [
    "# it is the example below, use to see another community as well.\n",
    "# Histogram of age in community 0\n",
    "plt.rcParams[\"figure.figsize\"] = (4,4) # set the figure size\n",
    "plt.hist(age_0, bins = 30)"
   ]
  },
  {
   "cell_type": "code",
   "execution_count": 110,
   "id": "431ae25e",
   "metadata": {},
   "outputs": [
    {
     "data": {
      "text/plain": [
       "(array([100.,   0.,   0.,   0.,   0.,   0.,   0.,   0.,   0.,  26.,  46.,\n",
       "         70.,  94.,  99., 125., 124., 135., 106., 104., 132., 137., 143.,\n",
       "        150., 186., 181., 203., 174., 143.,  89., 211.]),\n",
       " array([-9.        , -6.03333333, -3.06666667, -0.1       ,  2.86666667,\n",
       "         5.83333333,  8.8       , 11.76666667, 14.73333333, 17.7       ,\n",
       "        20.66666667, 23.63333333, 26.6       , 29.56666667, 32.53333333,\n",
       "        35.5       , 38.46666667, 41.43333333, 44.4       , 47.36666667,\n",
       "        50.33333333, 53.3       , 56.26666667, 59.23333333, 62.2       ,\n",
       "        65.16666667, 68.13333333, 71.1       , 74.06666667, 77.03333333,\n",
       "        80.        ]),\n",
       " <BarContainer object of 30 artists>)"
      ]
     },
     "execution_count": 110,
     "metadata": {},
     "output_type": "execute_result"
    },
    {
     "data": {
      "image/png": "[encoded data removed]",
      "text/plain": [
       "<Figure size 400x400 with 1 Axes>"
      ]
     },
     "metadata": {},
     "output_type": "display_data"
    }
   ],
   "source": [
    "# it is the example below, use to see another community as well.\n",
    "# Histogram of age in community 1\n",
    "plt.rcParams[\"figure.figsize\"] = (4,4) # set the figure size\n",
    "plt.hist(age_1, bins = 30)"
   ]
  },
  {
   "cell_type": "markdown",
   "id": "8c73629f",
   "metadata": {},
   "source": [
    "## PRESIDENT"
   ]
  },
  {
   "cell_type": "code",
   "execution_count": 111,
   "id": "67434292",
   "metadata": {
    "scrolled": true
   },
   "outputs": [
    {
     "data": {
      "text/plain": [
       "id_case\n",
       "200022    3\n",
       "200039    1\n",
       "200046    1\n",
       "200053    2\n",
       "200060    1\n",
       "         ..\n",
       "535292    2\n",
       "535308    2\n",
       "535360    2\n",
       "535414    1\n",
       "535469    1\n",
       "Name: POST_president, Length: 5952, dtype: int64"
      ]
     },
     "execution_count": 111,
     "metadata": {},
     "output_type": "execute_result"
    }
   ],
   "source": [
    "politics = demos['POST_president']\n",
    "politics = politics.dropna()\n",
    "politics"
   ]
  },
  {
   "cell_type": "code",
   "execution_count": 112,
   "id": "b6837290",
   "metadata": {},
   "outputs": [
    {
     "data": {
      "text/plain": [
       "POST_president\n",
       " 1     3267\n",
       " 2     2462\n",
       " 3       69\n",
       " 5       56\n",
       "-9       53\n",
       " 4       23\n",
       " 12      16\n",
       " 8        3\n",
       " 11       2\n",
       " 7        1\n",
       "Name: count, dtype: int64"
      ]
     },
     "execution_count": 112,
     "metadata": {},
     "output_type": "execute_result"
    }
   ],
   "source": [
    "demos['POST_president'].value_counts()"
   ]
  },
  {
   "cell_type": "code",
   "execution_count": 113,
   "id": "d3a7df2a",
   "metadata": {
    "scrolled": true
   },
   "outputs": [
    {
     "name": "stdout",
     "output_type": "stream",
     "text": [
      "How many in politics belong to community 0: 3087\n",
      "How many in politics belong to community 1: 2778\n"
     ]
    }
   ],
   "source": [
    "# Dataframe political ideology with each communities\n",
    "politics_0 = politics.loc[communities['zero']]\n",
    "politics_1 = politics.loc[communities['one']]\n",
    "\n",
    "print(\"How many in politics belong to community 0:\", len(politics_0))\n",
    "print(\"How many in politics belong to community 1:\", len(politics_1))"
   ]
  },
  {
   "cell_type": "code",
   "execution_count": 114,
   "id": "1631adc8",
   "metadata": {
    "scrolled": true
   },
   "outputs": [
    {
     "data": {
      "text/plain": [
       "POST_president\n",
       " 1     1906\n",
       " 2     1063\n",
       " 3       36\n",
       "-9       31\n",
       " 5       31\n",
       " 4        9\n",
       " 12       8\n",
       " 11       2\n",
       " 8        1\n",
       "Name: count, dtype: int64"
      ]
     },
     "execution_count": 114,
     "metadata": {},
     "output_type": "execute_result"
    }
   ],
   "source": [
    "politics_0.value_counts()"
   ]
  },
  {
   "cell_type": "code",
   "execution_count": 115,
   "id": "b4f89e2f",
   "metadata": {},
   "outputs": [
    {
     "data": {
      "text/plain": [
       "POST_president\n",
       " 2     1358\n",
       " 1     1326\n",
       " 3       31\n",
       " 5       23\n",
       "-9       17\n",
       " 4       13\n",
       " 12       7\n",
       " 8        2\n",
       " 7        1\n",
       "Name: count, dtype: int64"
      ]
     },
     "execution_count": 115,
     "metadata": {},
     "output_type": "execute_result"
    }
   ],
   "source": [
    "politics_1.value_counts()"
   ]
  },
  {
   "cell_type": "code",
   "execution_count": 116,
   "id": "9e1c472a",
   "metadata": {},
   "outputs": [
    {
     "data": {
      "text/plain": [
       "(array([3.100e+01, 0.000e+00, 0.000e+00, 1.906e+03, 1.108e+03, 3.100e+01,\n",
       "        1.000e+00, 1.000e+01]),\n",
       " array([-9.   , -6.375, -3.75 , -1.125,  1.5  ,  4.125,  6.75 ,  9.375,\n",
       "        12.   ]),\n",
       " <BarContainer object of 8 artists>)"
      ]
     },
     "execution_count": 116,
     "metadata": {},
     "output_type": "execute_result"
    },
    {
     "data": {
      "image/png": "[encoded data removed]",
      "text/plain": [
       "<Figure size 400x400 with 1 Axes>"
      ]
     },
     "metadata": {},
     "output_type": "display_data"
    }
   ],
   "source": [
    "# it is the example below, use to see another community as well.\n",
    "# Histogram of politics in community 0\n",
    "plt.rcParams[\"figure.figsize\"] = (4,4) # set the figure size\n",
    "plt.hist(politics_0, bins = 8)"
   ]
  },
  {
   "cell_type": "code",
   "execution_count": 117,
   "id": "c6c42e3b",
   "metadata": {},
   "outputs": [
    {
     "data": {
      "text/plain": [
       "(array([  17.,    0.,    0., 1326., 1402.,   23.,    3.,    7.]),\n",
       " array([-9.   , -6.375, -3.75 , -1.125,  1.5  ,  4.125,  6.75 ,  9.375,\n",
       "        12.   ]),\n",
       " <BarContainer object of 8 artists>)"
      ]
     },
     "execution_count": 117,
     "metadata": {},
     "output_type": "execute_result"
    },
    {
     "data": {
      "image/png": "[encoded data removed]",
      "text/plain": [
       "<Figure size 400x400 with 1 Axes>"
      ]
     },
     "metadata": {},
     "output_type": "display_data"
    }
   ],
   "source": [
    "# it is the example below, use to see another community as well.\n",
    "# Histogram of politics in community 1\n",
    "plt.rcParams[\"figure.figsize\"] = (4,4) # set the figure size\n",
    "plt.hist(politics_1, bins = 8)"
   ]
  },
  {
   "cell_type": "markdown",
   "id": "b4a31a6e",
   "metadata": {},
   "source": [
    "## EDUCATION"
   ]
  },
  {
   "cell_type": "code",
   "execution_count": 118,
   "id": "cca6e339",
   "metadata": {
    "scrolled": false
   },
   "outputs": [
    {
     "data": {
      "text/plain": [
       "id_case\n",
       "200022    3\n",
       "200039    2\n",
       "200046    3\n",
       "200053    5\n",
       "200060    3\n",
       "         ..\n",
       "535292    2\n",
       "535308    4\n",
       "535360    4\n",
       "535414    2\n",
       "535469    5\n",
       "Name: PRE_education, Length: 5952, dtype: int64"
      ]
     },
     "execution_count": 118,
     "metadata": {},
     "output_type": "execute_result"
    }
   ],
   "source": [
    "education = demos['PRE_education']\n",
    "education = education.dropna()\n",
    "education"
   ]
  },
  {
   "cell_type": "code",
   "execution_count": 119,
   "id": "9753ed52",
   "metadata": {
    "scrolled": true
   },
   "outputs": [
    {
     "data": {
      "text/plain": [
       "PRE_education\n",
       " 3    1995\n",
       " 4    1634\n",
       " 5    1291\n",
       " 2     784\n",
       " 1     160\n",
       "-2      72\n",
       "-9      15\n",
       "-8       1\n",
       "Name: count, dtype: int64"
      ]
     },
     "execution_count": 119,
     "metadata": {},
     "output_type": "execute_result"
    }
   ],
   "source": [
    "demos['PRE_education'].value_counts()"
   ]
  },
  {
   "cell_type": "code",
   "execution_count": 120,
   "id": "67ca819b",
   "metadata": {
    "scrolled": true
   },
   "outputs": [
    {
     "name": "stdout",
     "output_type": "stream",
     "text": [
      "How many in education belong to community 0: 3087\n",
      "How many in education belong to community 1: 2778\n"
     ]
    }
   ],
   "source": [
    "# Dataframe political ideology with each communities\n",
    "education_0 = education.loc[communities['zero']]\n",
    "education_1 = education.loc[communities['one']]\n",
    "\n",
    "print(\"How many in education belong to community 0:\", len(education_0))\n",
    "print(\"How many in education belong to community 1:\", len(education_1))"
   ]
  },
  {
   "cell_type": "code",
   "execution_count": 121,
   "id": "29bdcdaa",
   "metadata": {
    "scrolled": true
   },
   "outputs": [
    {
     "data": {
      "text/plain": [
       "PRE_education\n",
       " 3    1034\n",
       " 4     823\n",
       " 5     654\n",
       " 2     433\n",
       " 1      90\n",
       "-2      47\n",
       "-9       6\n",
       "Name: count, dtype: int64"
      ]
     },
     "execution_count": 121,
     "metadata": {},
     "output_type": "execute_result"
    }
   ],
   "source": [
    "education_0.value_counts()"
   ]
  },
  {
   "cell_type": "code",
   "execution_count": 122,
   "id": "df2de91d",
   "metadata": {},
   "outputs": [
    {
     "data": {
      "text/plain": [
       "PRE_education\n",
       " 3    932\n",
       " 4    793\n",
       " 5    625\n",
       " 2    327\n",
       " 1     66\n",
       "-2     25\n",
       "-9      9\n",
       "-8      1\n",
       "Name: count, dtype: int64"
      ]
     },
     "execution_count": 122,
     "metadata": {},
     "output_type": "execute_result"
    }
   ],
   "source": [
    "education_1.value_counts()"
   ]
  },
  {
   "cell_type": "code",
   "execution_count": 123,
   "id": "cf8ac4bf",
   "metadata": {
    "scrolled": true
   },
   "outputs": [
    {
     "data": {
      "text/plain": [
       "(array([   6.,    0.,    0.,    0.,    0.,    0.,    0.,   47.,    0.,\n",
       "           0.,   90.,  433., 1034.,  823.,  654.]),\n",
       " array([-9.        , -8.06666667, -7.13333333, -6.2       , -5.26666667,\n",
       "        -4.33333333, -3.4       , -2.46666667, -1.53333333, -0.6       ,\n",
       "         0.33333333,  1.26666667,  2.2       ,  3.13333333,  4.06666667,\n",
       "         5.        ]),\n",
       " <BarContainer object of 15 artists>)"
      ]
     },
     "execution_count": 123,
     "metadata": {},
     "output_type": "execute_result"
    },
    {
     "data": {
      "image/png": "[encoded data removed]",
      "text/plain": [
       "<Figure size 400x400 with 1 Axes>"
      ]
     },
     "metadata": {},
     "output_type": "display_data"
    }
   ],
   "source": [
    "# it is the example below, use to see another community as well.\n",
    "# Histogram of education in community 0\n",
    "plt.rcParams[\"figure.figsize\"] = (4,4) # set the figure size\n",
    "plt.hist(education_0, bins = 15)"
   ]
  },
  {
   "cell_type": "code",
   "execution_count": 124,
   "id": "21cde1f6",
   "metadata": {
    "scrolled": true
   },
   "outputs": [
    {
     "data": {
      "text/plain": [
       "(array([  9.,   1.,   0.,   0.,   0.,   0.,   0.,  25.,   0.,   0.,  66.,\n",
       "        327., 932., 793., 625.]),\n",
       " array([-9.        , -8.06666667, -7.13333333, -6.2       , -5.26666667,\n",
       "        -4.33333333, -3.4       , -2.46666667, -1.53333333, -0.6       ,\n",
       "         0.33333333,  1.26666667,  2.2       ,  3.13333333,  4.06666667,\n",
       "         5.        ]),\n",
       " <BarContainer object of 15 artists>)"
      ]
     },
     "execution_count": 124,
     "metadata": {},
     "output_type": "execute_result"
    },
    {
     "data": {
      "image/png": "[encoded data removed]",
      "text/plain": [
       "<Figure size 400x400 with 1 Axes>"
      ]
     },
     "metadata": {},
     "output_type": "display_data"
    }
   ],
   "source": [
    "# it is the example below, use to see another community as well.\n",
    "# Histogram of education in community 1\n",
    "plt.rcParams[\"figure.figsize\"] = (4,4) # set the figure size\n",
    "plt.hist(education_1, bins = 15)"
   ]
  },
  {
   "cell_type": "code",
   "execution_count": null,
   "id": "7f6af883",
   "metadata": {},
   "outputs": [],
   "source": []
  }
 ],
 "metadata": {
  "kernelspec": {
   "display_name": "Kim - 1st Custom Python environment",
   "language": "python",
   "name": "my-python-env"
  },
  "language_info": {
   "codemirror_mode": {
    "name": "ipython",
    "version": 3
   },
   "file_extension": ".py",
   "mimetype": "text/x-python",
   "name": "python",
   "nbconvert_exporter": "python",
   "pygments_lexer": "ipython3",
   "version": "3.9.12"
  }
 },
 "nbformat": 4,
 "nbformat_minor": 5
}
