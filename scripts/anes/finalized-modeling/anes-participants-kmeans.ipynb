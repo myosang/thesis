{
 "cells": [
  {
   "cell_type": "markdown",
   "id": "b1f68921",
   "metadata": {},
   "source": [
    "# k-means modelling & Demographics"
   ]
  },
  {
   "cell_type": "code",
   "execution_count": 2,
   "id": "fd1be634",
   "metadata": {},
   "outputs": [],
   "source": [
    "import pandas as pd\n",
    "import numpy as np\n",
    "from ast import literal_eval\n",
    "from sklearn.decomposition import PCA\n",
    "from sklearn.cluster import KMeans\n",
    "from sklearn import metrics\n",
    "from sklearn.metrics import silhouette_score, calinski_harabasz_score, davies_bouldin_score\n",
    "from scipy.spatial.distance import cdist\n",
    "import matplotlib.pyplot as plt\n",
    "from sklearn.preprocessing import StandardScaler\n",
    "from umap import UMAP"
   ]
  },
  {
   "cell_type": "code",
   "execution_count": 3,
   "id": "7d7393a6-c52e-4d6d-b837-ac7a0d494d8c",
   "metadata": {},
   "outputs": [
    {
     "data": {
      "text/plain": [
       "'/Users/gytkd/Desktop/Backup-Thesis/scripts/anes/finalized-modeling'"
      ]
     },
     "execution_count": 3,
     "metadata": {},
     "output_type": "execute_result"
    }
   ],
   "source": [
    "pwd"
   ]
  },
  {
   "cell_type": "markdown",
   "id": "88799871",
   "metadata": {},
   "source": [
    "## Demographics dataset"
   ]
  },
  {
   "cell_type": "code",
   "execution_count": 4,
   "id": "27d0f737-90e8-4be1-9c2f-fdd8fb809293",
   "metadata": {},
   "outputs": [
    {
     "data": {
      "text/plain": [
       "'/Users/gytkd/Desktop/Backup-Thesis/scripts/anes/finalized-modeling'"
      ]
     },
     "execution_count": 4,
     "metadata": {},
     "output_type": "execute_result"
    }
   ],
   "source": [
    "pwd"
   ]
  },
  {
   "cell_type": "code",
   "execution_count": 5,
   "id": "46fc622e",
   "metadata": {
    "scrolled": true
   },
   "outputs": [],
   "source": [
    "# get the demographcis dataset\n",
    "demos = pd.read_csv('/Users/gytkd/Desktop/Backup-Thesis/data/processed_data/anes_demographics.csv')"
   ]
  },
  {
   "cell_type": "code",
   "execution_count": 6,
   "id": "532b6395",
   "metadata": {},
   "outputs": [],
   "source": [
    "demos.set_index('id_case', inplace=True)"
   ]
  },
  {
   "cell_type": "code",
   "execution_count": 7,
   "id": "c1b99a58",
   "metadata": {},
   "outputs": [
    {
     "data": {
      "text/html": [
       "<div>\n",
       "<style scoped>\n",
       "    .dataframe tbody tr th:only-of-type {\n",
       "        vertical-align: middle;\n",
       "    }\n",
       "\n",
       "    .dataframe tbody tr th {\n",
       "        vertical-align: top;\n",
       "    }\n",
       "\n",
       "    .dataframe thead th {\n",
       "        text-align: right;\n",
       "    }\n",
       "</style>\n",
       "<table border=\"1\" class=\"dataframe\">\n",
       "  <thead>\n",
       "    <tr style=\"text-align: right;\">\n",
       "      <th></th>\n",
       "      <th>POST_vote</th>\n",
       "      <th>POST_president</th>\n",
       "      <th>PRE_present_religion</th>\n",
       "      <th>PRE_age</th>\n",
       "      <th>PRE_education</th>\n",
       "      <th>PRE_race</th>\n",
       "      <th>PRE_sex</th>\n",
       "      <th>PRE_occupation</th>\n",
       "    </tr>\n",
       "    <tr>\n",
       "      <th>id_case</th>\n",
       "      <th></th>\n",
       "      <th></th>\n",
       "      <th></th>\n",
       "      <th></th>\n",
       "      <th></th>\n",
       "      <th></th>\n",
       "      <th></th>\n",
       "      <th></th>\n",
       "    </tr>\n",
       "  </thead>\n",
       "  <tbody>\n",
       "    <tr>\n",
       "      <th>200015</th>\n",
       "      <td>-1</td>\n",
       "      <td>-1</td>\n",
       "      <td>11</td>\n",
       "      <td>46</td>\n",
       "      <td>4</td>\n",
       "      <td>3</td>\n",
       "      <td>1</td>\n",
       "      <td>1</td>\n",
       "    </tr>\n",
       "    <tr>\n",
       "      <th>200022</th>\n",
       "      <td>1</td>\n",
       "      <td>3</td>\n",
       "      <td>12</td>\n",
       "      <td>37</td>\n",
       "      <td>3</td>\n",
       "      <td>4</td>\n",
       "      <td>2</td>\n",
       "      <td>1</td>\n",
       "    </tr>\n",
       "    <tr>\n",
       "      <th>200039</th>\n",
       "      <td>1</td>\n",
       "      <td>1</td>\n",
       "      <td>11</td>\n",
       "      <td>40</td>\n",
       "      <td>2</td>\n",
       "      <td>1</td>\n",
       "      <td>2</td>\n",
       "      <td>7</td>\n",
       "    </tr>\n",
       "    <tr>\n",
       "      <th>200046</th>\n",
       "      <td>1</td>\n",
       "      <td>1</td>\n",
       "      <td>2</td>\n",
       "      <td>41</td>\n",
       "      <td>3</td>\n",
       "      <td>4</td>\n",
       "      <td>1</td>\n",
       "      <td>1</td>\n",
       "    </tr>\n",
       "    <tr>\n",
       "      <th>200053</th>\n",
       "      <td>1</td>\n",
       "      <td>2</td>\n",
       "      <td>12</td>\n",
       "      <td>72</td>\n",
       "      <td>5</td>\n",
       "      <td>5</td>\n",
       "      <td>1</td>\n",
       "      <td>5</td>\n",
       "    </tr>\n",
       "    <tr>\n",
       "      <th>...</th>\n",
       "      <td>...</td>\n",
       "      <td>...</td>\n",
       "      <td>...</td>\n",
       "      <td>...</td>\n",
       "      <td>...</td>\n",
       "      <td>...</td>\n",
       "      <td>...</td>\n",
       "      <td>...</td>\n",
       "    </tr>\n",
       "    <tr>\n",
       "      <th>535315</th>\n",
       "      <td>-1</td>\n",
       "      <td>-1</td>\n",
       "      <td>11</td>\n",
       "      <td>26</td>\n",
       "      <td>3</td>\n",
       "      <td>1</td>\n",
       "      <td>2</td>\n",
       "      <td>1</td>\n",
       "    </tr>\n",
       "    <tr>\n",
       "      <th>535360</th>\n",
       "      <td>1</td>\n",
       "      <td>2</td>\n",
       "      <td>4</td>\n",
       "      <td>52</td>\n",
       "      <td>4</td>\n",
       "      <td>1</td>\n",
       "      <td>2</td>\n",
       "      <td>1</td>\n",
       "    </tr>\n",
       "    <tr>\n",
       "      <th>535414</th>\n",
       "      <td>1</td>\n",
       "      <td>1</td>\n",
       "      <td>2</td>\n",
       "      <td>45</td>\n",
       "      <td>2</td>\n",
       "      <td>3</td>\n",
       "      <td>1</td>\n",
       "      <td>1</td>\n",
       "    </tr>\n",
       "    <tr>\n",
       "      <th>535421</th>\n",
       "      <td>-1</td>\n",
       "      <td>-1</td>\n",
       "      <td>1</td>\n",
       "      <td>65</td>\n",
       "      <td>3</td>\n",
       "      <td>1</td>\n",
       "      <td>2</td>\n",
       "      <td>1</td>\n",
       "    </tr>\n",
       "    <tr>\n",
       "      <th>535469</th>\n",
       "      <td>1</td>\n",
       "      <td>1</td>\n",
       "      <td>7</td>\n",
       "      <td>38</td>\n",
       "      <td>5</td>\n",
       "      <td>4</td>\n",
       "      <td>2</td>\n",
       "      <td>1</td>\n",
       "    </tr>\n",
       "  </tbody>\n",
       "</table>\n",
       "<p>8280 rows × 8 columns</p>\n",
       "</div>"
      ],
      "text/plain": [
       "         POST_vote  POST_president  PRE_present_religion  PRE_age  \\\n",
       "id_case                                                             \n",
       "200015          -1              -1                    11       46   \n",
       "200022           1               3                    12       37   \n",
       "200039           1               1                    11       40   \n",
       "200046           1               1                     2       41   \n",
       "200053           1               2                    12       72   \n",
       "...            ...             ...                   ...      ...   \n",
       "535315          -1              -1                    11       26   \n",
       "535360           1               2                     4       52   \n",
       "535414           1               1                     2       45   \n",
       "535421          -1              -1                     1       65   \n",
       "535469           1               1                     7       38   \n",
       "\n",
       "         PRE_education  PRE_race  PRE_sex  PRE_occupation  \n",
       "id_case                                                    \n",
       "200015               4         3        1               1  \n",
       "200022               3         4        2               1  \n",
       "200039               2         1        2               7  \n",
       "200046               3         4        1               1  \n",
       "200053               5         5        1               5  \n",
       "...                ...       ...      ...             ...  \n",
       "535315               3         1        2               1  \n",
       "535360               4         1        2               1  \n",
       "535414               2         3        1               1  \n",
       "535421               3         1        2               1  \n",
       "535469               5         4        2               1  \n",
       "\n",
       "[8280 rows x 8 columns]"
      ]
     },
     "execution_count": 7,
     "metadata": {},
     "output_type": "execute_result"
    }
   ],
   "source": [
    "demos"
   ]
  },
  {
   "cell_type": "markdown",
   "id": "95c37051",
   "metadata": {},
   "source": [
    "### filter only the YES vote to the president"
   ]
  },
  {
   "cell_type": "code",
   "execution_count": 8,
   "id": "30b4bbfe",
   "metadata": {},
   "outputs": [],
   "source": [
    "demos = demos[demos['POST_vote'] == 1]"
   ]
  },
  {
   "cell_type": "code",
   "execution_count": 9,
   "id": "42e90e7a",
   "metadata": {},
   "outputs": [
    {
     "data": {
      "text/html": [
       "<div>\n",
       "<style scoped>\n",
       "    .dataframe tbody tr th:only-of-type {\n",
       "        vertical-align: middle;\n",
       "    }\n",
       "\n",
       "    .dataframe tbody tr th {\n",
       "        vertical-align: top;\n",
       "    }\n",
       "\n",
       "    .dataframe thead th {\n",
       "        text-align: right;\n",
       "    }\n",
       "</style>\n",
       "<table border=\"1\" class=\"dataframe\">\n",
       "  <thead>\n",
       "    <tr style=\"text-align: right;\">\n",
       "      <th></th>\n",
       "      <th>POST_vote</th>\n",
       "      <th>POST_president</th>\n",
       "      <th>PRE_present_religion</th>\n",
       "      <th>PRE_age</th>\n",
       "      <th>PRE_education</th>\n",
       "      <th>PRE_race</th>\n",
       "      <th>PRE_sex</th>\n",
       "      <th>PRE_occupation</th>\n",
       "    </tr>\n",
       "    <tr>\n",
       "      <th>id_case</th>\n",
       "      <th></th>\n",
       "      <th></th>\n",
       "      <th></th>\n",
       "      <th></th>\n",
       "      <th></th>\n",
       "      <th></th>\n",
       "      <th></th>\n",
       "      <th></th>\n",
       "    </tr>\n",
       "  </thead>\n",
       "  <tbody>\n",
       "    <tr>\n",
       "      <th>200022</th>\n",
       "      <td>1</td>\n",
       "      <td>3</td>\n",
       "      <td>12</td>\n",
       "      <td>37</td>\n",
       "      <td>3</td>\n",
       "      <td>4</td>\n",
       "      <td>2</td>\n",
       "      <td>1</td>\n",
       "    </tr>\n",
       "    <tr>\n",
       "      <th>200039</th>\n",
       "      <td>1</td>\n",
       "      <td>1</td>\n",
       "      <td>11</td>\n",
       "      <td>40</td>\n",
       "      <td>2</td>\n",
       "      <td>1</td>\n",
       "      <td>2</td>\n",
       "      <td>7</td>\n",
       "    </tr>\n",
       "    <tr>\n",
       "      <th>200046</th>\n",
       "      <td>1</td>\n",
       "      <td>1</td>\n",
       "      <td>2</td>\n",
       "      <td>41</td>\n",
       "      <td>3</td>\n",
       "      <td>4</td>\n",
       "      <td>1</td>\n",
       "      <td>1</td>\n",
       "    </tr>\n",
       "    <tr>\n",
       "      <th>200053</th>\n",
       "      <td>1</td>\n",
       "      <td>2</td>\n",
       "      <td>12</td>\n",
       "      <td>72</td>\n",
       "      <td>5</td>\n",
       "      <td>5</td>\n",
       "      <td>1</td>\n",
       "      <td>5</td>\n",
       "    </tr>\n",
       "    <tr>\n",
       "      <th>200060</th>\n",
       "      <td>1</td>\n",
       "      <td>1</td>\n",
       "      <td>10</td>\n",
       "      <td>71</td>\n",
       "      <td>3</td>\n",
       "      <td>1</td>\n",
       "      <td>2</td>\n",
       "      <td>5</td>\n",
       "    </tr>\n",
       "    <tr>\n",
       "      <th>...</th>\n",
       "      <td>...</td>\n",
       "      <td>...</td>\n",
       "      <td>...</td>\n",
       "      <td>...</td>\n",
       "      <td>...</td>\n",
       "      <td>...</td>\n",
       "      <td>...</td>\n",
       "      <td>...</td>\n",
       "    </tr>\n",
       "    <tr>\n",
       "      <th>535292</th>\n",
       "      <td>1</td>\n",
       "      <td>2</td>\n",
       "      <td>11</td>\n",
       "      <td>65</td>\n",
       "      <td>2</td>\n",
       "      <td>1</td>\n",
       "      <td>2</td>\n",
       "      <td>6</td>\n",
       "    </tr>\n",
       "    <tr>\n",
       "      <th>535308</th>\n",
       "      <td>1</td>\n",
       "      <td>2</td>\n",
       "      <td>11</td>\n",
       "      <td>54</td>\n",
       "      <td>4</td>\n",
       "      <td>1</td>\n",
       "      <td>2</td>\n",
       "      <td>1</td>\n",
       "    </tr>\n",
       "    <tr>\n",
       "      <th>535360</th>\n",
       "      <td>1</td>\n",
       "      <td>2</td>\n",
       "      <td>4</td>\n",
       "      <td>52</td>\n",
       "      <td>4</td>\n",
       "      <td>1</td>\n",
       "      <td>2</td>\n",
       "      <td>1</td>\n",
       "    </tr>\n",
       "    <tr>\n",
       "      <th>535414</th>\n",
       "      <td>1</td>\n",
       "      <td>1</td>\n",
       "      <td>2</td>\n",
       "      <td>45</td>\n",
       "      <td>2</td>\n",
       "      <td>3</td>\n",
       "      <td>1</td>\n",
       "      <td>1</td>\n",
       "    </tr>\n",
       "    <tr>\n",
       "      <th>535469</th>\n",
       "      <td>1</td>\n",
       "      <td>1</td>\n",
       "      <td>7</td>\n",
       "      <td>38</td>\n",
       "      <td>5</td>\n",
       "      <td>4</td>\n",
       "      <td>2</td>\n",
       "      <td>1</td>\n",
       "    </tr>\n",
       "  </tbody>\n",
       "</table>\n",
       "<p>5952 rows × 8 columns</p>\n",
       "</div>"
      ],
      "text/plain": [
       "         POST_vote  POST_president  PRE_present_religion  PRE_age  \\\n",
       "id_case                                                             \n",
       "200022           1               3                    12       37   \n",
       "200039           1               1                    11       40   \n",
       "200046           1               1                     2       41   \n",
       "200053           1               2                    12       72   \n",
       "200060           1               1                    10       71   \n",
       "...            ...             ...                   ...      ...   \n",
       "535292           1               2                    11       65   \n",
       "535308           1               2                    11       54   \n",
       "535360           1               2                     4       52   \n",
       "535414           1               1                     2       45   \n",
       "535469           1               1                     7       38   \n",
       "\n",
       "         PRE_education  PRE_race  PRE_sex  PRE_occupation  \n",
       "id_case                                                    \n",
       "200022               3         4        2               1  \n",
       "200039               2         1        2               7  \n",
       "200046               3         4        1               1  \n",
       "200053               5         5        1               5  \n",
       "200060               3         1        2               5  \n",
       "...                ...       ...      ...             ...  \n",
       "535292               2         1        2               6  \n",
       "535308               4         1        2               1  \n",
       "535360               4         1        2               1  \n",
       "535414               2         3        1               1  \n",
       "535469               5         4        2               1  \n",
       "\n",
       "[5952 rows x 8 columns]"
      ]
     },
     "execution_count": 9,
     "metadata": {},
     "output_type": "execute_result"
    }
   ],
   "source": [
    "demos"
   ]
  },
  {
   "cell_type": "code",
   "execution_count": 10,
   "id": "c6d14439",
   "metadata": {},
   "outputs": [],
   "source": [
    "# Check for duplicate indices \n",
    "duplicates = demos.index.duplicated() # no duplicates exist"
   ]
  },
  {
   "cell_type": "markdown",
   "id": "1bd2a79d",
   "metadata": {},
   "source": [
    "### Dataset: sum embeddings(distilBERT)"
   ]
  },
  {
   "cell_type": "code",
   "execution_count": 11,
   "id": "2d3a5e0e",
   "metadata": {
    "scrolled": true
   },
   "outputs": [],
   "source": [
    "# Read the embedding file. Check generating procedure from the 'generate_embedding.ipynb' file. \n",
    "emb = pd.read_json(\"/Users/gytkd/Desktop/Backup-Thesis/embeddings/response_distilbert_mentions_sum.jsonl\", orient = 'index')"
   ]
  },
  {
   "cell_type": "markdown",
   "id": "454f0c53",
   "metadata": {},
   "source": [
    "### filter only the indices exist in demos for the clustering"
   ]
  },
  {
   "cell_type": "code",
   "execution_count": 12,
   "id": "5145ea39",
   "metadata": {},
   "outputs": [],
   "source": [
    "emb = emb.loc[emb.index.isin(demos.index)]"
   ]
  },
  {
   "cell_type": "code",
   "execution_count": 13,
   "id": "d12fe4b4",
   "metadata": {
    "scrolled": true
   },
   "outputs": [
    {
     "data": {
      "text/html": [
       "<div>\n",
       "<style scoped>\n",
       "    .dataframe tbody tr th:only-of-type {\n",
       "        vertical-align: middle;\n",
       "    }\n",
       "\n",
       "    .dataframe tbody tr th {\n",
       "        vertical-align: top;\n",
       "    }\n",
       "\n",
       "    .dataframe thead th {\n",
       "        text-align: right;\n",
       "    }\n",
       "</style>\n",
       "<table border=\"1\" class=\"dataframe\">\n",
       "  <thead>\n",
       "    <tr style=\"text-align: right;\">\n",
       "      <th></th>\n",
       "      <th>mentions_sum</th>\n",
       "    </tr>\n",
       "  </thead>\n",
       "  <tbody>\n",
       "    <tr>\n",
       "      <th>200022</th>\n",
       "      <td>[-0.227941528, -0.2221784741, 0.0722830296, -0...</td>\n",
       "    </tr>\n",
       "    <tr>\n",
       "      <th>200039</th>\n",
       "      <td>[-0.6598028392, -0.27716164660000003, -0.86524...</td>\n",
       "    </tr>\n",
       "    <tr>\n",
       "      <th>200046</th>\n",
       "      <td>[-0.5794350793, -0.2345397193, -0.55884777, -0...</td>\n",
       "    </tr>\n",
       "    <tr>\n",
       "      <th>200053</th>\n",
       "      <td>[-0.45105479660000003, -0.1378739029, -0.64340...</td>\n",
       "    </tr>\n",
       "    <tr>\n",
       "      <th>200060</th>\n",
       "      <td>[-0.7058136911, -0.5433786213, -0.7993942722, ...</td>\n",
       "    </tr>\n",
       "    <tr>\n",
       "      <th>...</th>\n",
       "      <td>...</td>\n",
       "    </tr>\n",
       "    <tr>\n",
       "      <th>535292</th>\n",
       "      <td>[-0.4805671274, -0.3407045835, -0.06159354, -0...</td>\n",
       "    </tr>\n",
       "    <tr>\n",
       "      <th>535308</th>\n",
       "      <td>[-0.2708855718, -0.042634843000000006, -0.6450...</td>\n",
       "    </tr>\n",
       "    <tr>\n",
       "      <th>535360</th>\n",
       "      <td>[-0.5909655169, -0.2776065506, -1.153657049, -...</td>\n",
       "    </tr>\n",
       "    <tr>\n",
       "      <th>535414</th>\n",
       "      <td>[-0.4220190793, -0.1548515521, -0.3687623702, ...</td>\n",
       "    </tr>\n",
       "    <tr>\n",
       "      <th>535469</th>\n",
       "      <td>[-0.4379805178, -0.18894393, -0.83770206580000...</td>\n",
       "    </tr>\n",
       "  </tbody>\n",
       "</table>\n",
       "<p>5865 rows × 1 columns</p>\n",
       "</div>"
      ],
      "text/plain": [
       "                                             mentions_sum\n",
       "200022  [-0.227941528, -0.2221784741, 0.0722830296, -0...\n",
       "200039  [-0.6598028392, -0.27716164660000003, -0.86524...\n",
       "200046  [-0.5794350793, -0.2345397193, -0.55884777, -0...\n",
       "200053  [-0.45105479660000003, -0.1378739029, -0.64340...\n",
       "200060  [-0.7058136911, -0.5433786213, -0.7993942722, ...\n",
       "...                                                   ...\n",
       "535292  [-0.4805671274, -0.3407045835, -0.06159354, -0...\n",
       "535308  [-0.2708855718, -0.042634843000000006, -0.6450...\n",
       "535360  [-0.5909655169, -0.2776065506, -1.153657049, -...\n",
       "535414  [-0.4220190793, -0.1548515521, -0.3687623702, ...\n",
       "535469  [-0.4379805178, -0.18894393, -0.83770206580000...\n",
       "\n",
       "[5865 rows x 1 columns]"
      ]
     },
     "execution_count": 13,
     "metadata": {},
     "output_type": "execute_result"
    }
   ],
   "source": [
    "emb"
   ]
  },
  {
   "cell_type": "markdown",
   "id": "8b98be54",
   "metadata": {},
   "source": [
    "## Dimensionality reduction"
   ]
  },
  {
   "cell_type": "markdown",
   "id": "4114f417",
   "metadata": {},
   "source": [
    "### UMAP"
   ]
  },
  {
   "cell_type": "code",
   "execution_count": 14,
   "id": "f0e38872",
   "metadata": {},
   "outputs": [
    {
     "data": {
      "text/html": [
       "<div>\n",
       "<style scoped>\n",
       "    .dataframe tbody tr th:only-of-type {\n",
       "        vertical-align: middle;\n",
       "    }\n",
       "\n",
       "    .dataframe tbody tr th {\n",
       "        vertical-align: top;\n",
       "    }\n",
       "\n",
       "    .dataframe thead th {\n",
       "        text-align: right;\n",
       "    }\n",
       "</style>\n",
       "<table border=\"1\" class=\"dataframe\">\n",
       "  <thead>\n",
       "    <tr style=\"text-align: right;\">\n",
       "      <th></th>\n",
       "      <th>mentions_sum</th>\n",
       "    </tr>\n",
       "  </thead>\n",
       "  <tbody>\n",
       "    <tr>\n",
       "      <th>200022</th>\n",
       "      <td>[-0.227941528, -0.2221784741, 0.0722830296, -0...</td>\n",
       "    </tr>\n",
       "    <tr>\n",
       "      <th>200039</th>\n",
       "      <td>[-0.6598028392, -0.27716164660000003, -0.86524...</td>\n",
       "    </tr>\n",
       "    <tr>\n",
       "      <th>200046</th>\n",
       "      <td>[-0.5794350793, -0.2345397193, -0.55884777, -0...</td>\n",
       "    </tr>\n",
       "  </tbody>\n",
       "</table>\n",
       "</div>"
      ],
      "text/plain": [
       "                                             mentions_sum\n",
       "200022  [-0.227941528, -0.2221784741, 0.0722830296, -0...\n",
       "200039  [-0.6598028392, -0.27716164660000003, -0.86524...\n",
       "200046  [-0.5794350793, -0.2345397193, -0.55884777, -0..."
      ]
     },
     "execution_count": 14,
     "metadata": {},
     "output_type": "execute_result"
    }
   ],
   "source": [
    "emb.head(3)"
   ]
  },
  {
   "cell_type": "code",
   "execution_count": 15,
   "id": "79dec70f",
   "metadata": {
    "scrolled": true
   },
   "outputs": [
    {
     "data": {
      "text/plain": [
       "(5865, 768)"
      ]
     },
     "execution_count": 15,
     "metadata": {},
     "output_type": "execute_result"
    }
   ],
   "source": [
    "# \"transform embedding\"\n",
    "from ast import literal_eval\n",
    "emb['mentions_sum'] = emb['mentions_sum'].apply(np.array)  # convert list to numpy array\n",
    "matrix = np.vstack(emb['mentions_sum'].values)\n",
    "matrix.shape"
   ]
  },
  {
   "cell_type": "code",
   "execution_count": 16,
   "id": "967cda12",
   "metadata": {},
   "outputs": [],
   "source": [
    "X = matrix.copy()"
   ]
  },
  {
   "cell_type": "code",
   "execution_count": 17,
   "id": "0d09a6e6",
   "metadata": {},
   "outputs": [
    {
     "data": {
      "text/plain": [
       "(5865, 768)"
      ]
     },
     "execution_count": 17,
     "metadata": {},
     "output_type": "execute_result"
    }
   ],
   "source": [
    "X.shape"
   ]
  },
  {
   "cell_type": "code",
   "execution_count": 18,
   "id": "12a15d5e",
   "metadata": {
    "scrolled": true
   },
   "outputs": [],
   "source": [
    "# Step 1: Normalize the data\n",
    "normalized_embeddings = StandardScaler().fit_transform(X)"
   ]
  },
  {
   "cell_type": "code",
   "execution_count": 19,
   "id": "de87be6c",
   "metadata": {},
   "outputs": [
    {
     "name": "stderr",
     "output_type": "stream",
     "text": [
      "/Users/gytkd/Desktop/Backup-Thesis/myenv/lib/python3.9/site-packages/umap/umap_.py:1945: UserWarning: n_jobs value 1 overridden to 1 by setting random_state. Use no seed for parallelism.\n",
      "  warn(f\"n_jobs value {self.n_jobs} overridden to 1 by setting random_state. Use no seed for parallelism.\")\n"
     ]
    }
   ],
   "source": [
    "# Step 2: Apply UMAP for dimensionality reduction\n",
    "umap_model = UMAP(n_neighbors=10, min_dist=0.1, n_components=2, random_state=42)\n",
    "umap_embeddings = umap_model.fit_transform(normalized_embeddings)\n",
    "X = umap_embeddings.copy()"
   ]
  },
  {
   "cell_type": "markdown",
   "id": "2bb8c98a",
   "metadata": {},
   "source": [
    "### silhouette score"
   ]
  },
  {
   "cell_type": "code",
   "execution_count": 20,
   "id": "57d4e637",
   "metadata": {
    "scrolled": true
   },
   "outputs": [],
   "source": [
    "# Step 3: Use silhouette score to find optimal number of clusters\n",
    "silhouette_scores = []\n",
    "for num_clusters in range(2, 11):\n",
    "    kmeans = KMeans(n_clusters=num_clusters, random_state=0)\n",
    "    cluster_labels = kmeans.fit_predict(X)\n",
    "    silhouette_scores.append(silhouette_score(X, cluster_labels))\n",
    "\n",
    "optimal_num_clusters = silhouette_scores.index(max(silhouette_scores)) + 2"
   ]
  },
  {
   "cell_type": "markdown",
   "id": "8e38662b",
   "metadata": {},
   "source": [
    "The last line derives from the fact that silhouette score is calculated from the num_cluster 2, so therefore if retrieving index of the lists, the first element's index is 0 but it indicates the value of num_cluster 2, therefore +2 would make it easier to retrieve the value. \n"
   ]
  },
  {
   "cell_type": "code",
   "execution_count": 21,
   "id": "605d0e44",
   "metadata": {
    "scrolled": true
   },
   "outputs": [
    {
     "data": {
      "text/plain": [
       "3"
      ]
     },
     "execution_count": 21,
     "metadata": {},
     "output_type": "execute_result"
    }
   ],
   "source": [
    "optimal_num_clusters"
   ]
  },
  {
   "cell_type": "markdown",
   "id": "af387ce0",
   "metadata": {},
   "source": [
    "### elbow method"
   ]
  },
  {
   "cell_type": "code",
   "execution_count": 22,
   "id": "56e04177",
   "metadata": {},
   "outputs": [],
   "source": [
    "# Use Elbow-analysis as well to find optimal number of clusters\n",
    "# Elbow analysis\n",
    "distortions = []\n",
    "inertias = []\n",
    "mapping1 = {}\n",
    "mapping2 = {}\n",
    "K = range(1, 20)\n",
    "\n",
    "for k in K:\n",
    "    # Building and fitting the model\n",
    "    kmeanModel = KMeans(n_clusters=k).fit(X)\n",
    "    kmeanModel.fit(X)\n",
    "\n",
    "    distortions.append(sum(np.min(cdist(X, kmeanModel.cluster_centers_,\n",
    "                                        'euclidean'), axis=1)) / X.shape[0])\n",
    "    inertias.append(kmeanModel.inertia_)\n",
    "\n",
    "    mapping1[k] = sum(np.min(cdist(X, kmeanModel.cluster_centers_,\n",
    "                                   'euclidean'), axis=1)) / X.shape[0]\n",
    "    mapping2[k] = kmeanModel.inertia_"
   ]
  },
  {
   "cell_type": "code",
   "execution_count": 23,
   "id": "751f6969",
   "metadata": {},
   "outputs": [
    {
     "data": {
      "image/png": "[encoded data removed]",
      "text/plain": [
       "<Figure size 1200x400 with 2 Axes>"
      ]
     },
     "metadata": {},
     "output_type": "display_data"
    }
   ],
   "source": [
    "# Create a figure with subplots\n",
    "fig, (ax1, ax2) = plt.subplots(1, 2, figsize=(12, 4))  # Adjust figsize as needed\n",
    "\n",
    "# Plot the first plot on ax1\n",
    "ax1.plot(K, distortions, 'bx-')\n",
    "ax1.set_xlabel('Values of_K')\n",
    "ax1.set_ylabel('Distortion')\n",
    "ax1.set_title('The Elbow Method using Distortion')\n",
    "\n",
    "\n",
    "# Plot the second plot on ax2\n",
    "ax2.plot(K, inertias, 'bx-')\n",
    "ax2.set_xlabel('Values of_K')\n",
    "ax2.set_ylabel('Inertia')\n",
    "ax2.set_title('The Elbow Method using Inertia')\n",
    "\n",
    "# Adjust layout to prevent overlap\n",
    "plt.tight_layout()\n",
    "\n",
    "# Display the plots\n",
    "plt.show()"
   ]
  },
  {
   "cell_type": "markdown",
   "id": "e3d2e9ee",
   "metadata": {},
   "source": [
    "## KMeans clustering"
   ]
  },
  {
   "cell_type": "code",
   "execution_count": 24,
   "id": "17abdb1b",
   "metadata": {},
   "outputs": [],
   "source": [
    "# Step 4: Perform final clustering\n",
    "final_kmeans = KMeans(n_clusters = 3, random_state=42)\n",
    "final_cluster_labels = final_kmeans.fit_predict(X)\n",
    "\n",
    "# Save the result of clustering with random state 0 as a dataframe column\n",
    "emb['label'] = final_cluster_labels  "
   ]
  },
  {
   "cell_type": "code",
   "execution_count": 25,
   "id": "a4f6f791",
   "metadata": {},
   "outputs": [
    {
     "data": {
      "image/png": "[encoded data removed]",
      "text/plain": [
       "<Figure size 640x480 with 2 Axes>"
      ]
     },
     "metadata": {},
     "output_type": "display_data"
    }
   ],
   "source": [
    "# Visualize clustering depending on different random states.\n",
    "figures = [] # list to hold different figures. \n",
    "\n",
    "fig1, ax1 = plt.subplots()\n",
    "scatter = ax1.scatter(X[:, 0], X[:, 1], c=final_cluster_labels, cmap='viridis')\n",
    "ax1.set_xlabel('UMAP Dimension 1')\n",
    "ax1.set_ylabel('UMAP Dimension 2')\n",
    "ax1.set_title('UMAP Visualization of Text Clusters')\n",
    "\n",
    "colorbar = plt.colorbar(scatter, ax=ax1)\n",
    "colorbar.set_label('Cluster Label')\n",
    "\n",
    "figures.append(fig1)"
   ]
  },
  {
   "cell_type": "code",
   "execution_count": 26,
   "id": "44e61e2f",
   "metadata": {},
   "outputs": [
    {
     "name": "stdout",
     "output_type": "stream",
     "text": [
      "\n",
      "\"Sum of distilbert embeddingsworkPr\"\n",
      "\n",
      "Silhouette Coefficient: 0.87810218334198\n",
      "Calinski-Harabasz Index: 92789.12573920784\n",
      "Davies-Bouldin Index: 0.1682807772095061\n"
     ]
    }
   ],
   "source": [
    "# Cluster labels obtained from clustering algorithm\n",
    "\n",
    "final_cluster_labels # cluster_labels_from_bert\n",
    "X # contextualized tokens of the input texts.\n",
    "\n",
    "# Specify the question that is addressed. \n",
    "print(\"\\n\\\"Sum of distilbert embeddingsworkPr\\\"\\n\")\n",
    "\n",
    "# Calculate Silhouette Coefficient\n",
    "silhouette = silhouette_score(X, final_cluster_labels)\n",
    "print(f\"Silhouette Coefficient: {silhouette}\")\n",
    "\n",
    "# Calculate Calinski-Harabasz Index\n",
    "calinski = calinski_harabasz_score(X, final_cluster_labels)\n",
    "print(f\"Calinski-Harabasz Index: {calinski}\")\n",
    "\n",
    "# Calculate Davies-Bouldin Index\n",
    "davies_bouldin = davies_bouldin_score(X, final_cluster_labels)\n",
    "print(f\"Davies-Bouldin Index: {davies_bouldin}\")"
   ]
  },
  {
   "cell_type": "markdown",
   "id": "4f5102e5",
   "metadata": {},
   "source": [
    "## Manually check clusters"
   ]
  },
  {
   "cell_type": "code",
   "execution_count": 27,
   "id": "6a0f3594",
   "metadata": {},
   "outputs": [],
   "source": [
    "# create the community of the case ids(respondents) that are the result of the clustering\n",
    "keys = ['zero', 'one', 'two']\n",
    "communities = {key: [] for key in keys}\n",
    "\n",
    "emb['id_case'] = emb.index"
   ]
  },
  {
   "cell_type": "code",
   "execution_count": 28,
   "id": "1e137fe4",
   "metadata": {},
   "outputs": [
    {
     "data": {
      "text/html": [
       "<div>\n",
       "<style scoped>\n",
       "    .dataframe tbody tr th:only-of-type {\n",
       "        vertical-align: middle;\n",
       "    }\n",
       "\n",
       "    .dataframe tbody tr th {\n",
       "        vertical-align: top;\n",
       "    }\n",
       "\n",
       "    .dataframe thead th {\n",
       "        text-align: right;\n",
       "    }\n",
       "</style>\n",
       "<table border=\"1\" class=\"dataframe\">\n",
       "  <thead>\n",
       "    <tr style=\"text-align: right;\">\n",
       "      <th></th>\n",
       "      <th>mentions_sum</th>\n",
       "      <th>label</th>\n",
       "      <th>id_case</th>\n",
       "    </tr>\n",
       "  </thead>\n",
       "  <tbody>\n",
       "    <tr>\n",
       "      <th>200022</th>\n",
       "      <td>[-0.227941528, -0.2221784741, 0.0722830296, -0...</td>\n",
       "      <td>0</td>\n",
       "      <td>200022</td>\n",
       "    </tr>\n",
       "    <tr>\n",
       "      <th>200039</th>\n",
       "      <td>[-0.6598028392, -0.27716164660000003, -0.86524...</td>\n",
       "      <td>1</td>\n",
       "      <td>200039</td>\n",
       "    </tr>\n",
       "    <tr>\n",
       "      <th>200046</th>\n",
       "      <td>[-0.5794350793, -0.2345397193, -0.55884777, -0...</td>\n",
       "      <td>1</td>\n",
       "      <td>200046</td>\n",
       "    </tr>\n",
       "    <tr>\n",
       "      <th>200053</th>\n",
       "      <td>[-0.45105479660000003, -0.1378739029, -0.64340...</td>\n",
       "      <td>1</td>\n",
       "      <td>200053</td>\n",
       "    </tr>\n",
       "    <tr>\n",
       "      <th>200060</th>\n",
       "      <td>[-0.7058136911, -0.5433786213, -0.7993942722, ...</td>\n",
       "      <td>1</td>\n",
       "      <td>200060</td>\n",
       "    </tr>\n",
       "    <tr>\n",
       "      <th>...</th>\n",
       "      <td>...</td>\n",
       "      <td>...</td>\n",
       "      <td>...</td>\n",
       "    </tr>\n",
       "    <tr>\n",
       "      <th>535292</th>\n",
       "      <td>[-0.4805671274, -0.3407045835, -0.06159354, -0...</td>\n",
       "      <td>1</td>\n",
       "      <td>535292</td>\n",
       "    </tr>\n",
       "    <tr>\n",
       "      <th>535308</th>\n",
       "      <td>[-0.2708855718, -0.042634843000000006, -0.6450...</td>\n",
       "      <td>1</td>\n",
       "      <td>535308</td>\n",
       "    </tr>\n",
       "    <tr>\n",
       "      <th>535360</th>\n",
       "      <td>[-0.5909655169, -0.2776065506, -1.153657049, -...</td>\n",
       "      <td>1</td>\n",
       "      <td>535360</td>\n",
       "    </tr>\n",
       "    <tr>\n",
       "      <th>535414</th>\n",
       "      <td>[-0.4220190793, -0.1548515521, -0.3687623702, ...</td>\n",
       "      <td>1</td>\n",
       "      <td>535414</td>\n",
       "    </tr>\n",
       "    <tr>\n",
       "      <th>535469</th>\n",
       "      <td>[-0.4379805178, -0.18894393, -0.83770206580000...</td>\n",
       "      <td>1</td>\n",
       "      <td>535469</td>\n",
       "    </tr>\n",
       "  </tbody>\n",
       "</table>\n",
       "<p>5865 rows × 3 columns</p>\n",
       "</div>"
      ],
      "text/plain": [
       "                                             mentions_sum  label  id_case\n",
       "200022  [-0.227941528, -0.2221784741, 0.0722830296, -0...      0   200022\n",
       "200039  [-0.6598028392, -0.27716164660000003, -0.86524...      1   200039\n",
       "200046  [-0.5794350793, -0.2345397193, -0.55884777, -0...      1   200046\n",
       "200053  [-0.45105479660000003, -0.1378739029, -0.64340...      1   200053\n",
       "200060  [-0.7058136911, -0.5433786213, -0.7993942722, ...      1   200060\n",
       "...                                                   ...    ...      ...\n",
       "535292  [-0.4805671274, -0.3407045835, -0.06159354, -0...      1   535292\n",
       "535308  [-0.2708855718, -0.042634843000000006, -0.6450...      1   535308\n",
       "535360  [-0.5909655169, -0.2776065506, -1.153657049, -...      1   535360\n",
       "535414  [-0.4220190793, -0.1548515521, -0.3687623702, ...      1   535414\n",
       "535469  [-0.4379805178, -0.18894393, -0.83770206580000...      1   535469\n",
       "\n",
       "[5865 rows x 3 columns]"
      ]
     },
     "execution_count": 28,
     "metadata": {},
     "output_type": "execute_result"
    }
   ],
   "source": [
    "emb"
   ]
  },
  {
   "cell_type": "code",
   "execution_count": 29,
   "id": "750af03e",
   "metadata": {},
   "outputs": [],
   "source": [
    "for i in range(len(emb)):\n",
    "    if emb['label'].iloc[i] == 1:\n",
    "        communities['one'].append(emb['id_case'].iloc[i])\n",
    "    elif emb['label'].iloc[i] == 0: \n",
    "        communities['zero'].append(emb['id_case'].iloc[i])\n",
    "    elif emb['label'].iloc[i] == 2: \n",
    "        communities['two'].append(emb['id_case'].iloc[i])"
   ]
  },
  {
   "cell_type": "code",
   "execution_count": 30,
   "id": "efe8da4e",
   "metadata": {
    "scrolled": true
   },
   "outputs": [
    {
     "data": {
      "text/html": [
       "<div>\n",
       "<style scoped>\n",
       "    .dataframe tbody tr th:only-of-type {\n",
       "        vertical-align: middle;\n",
       "    }\n",
       "\n",
       "    .dataframe tbody tr th {\n",
       "        vertical-align: top;\n",
       "    }\n",
       "\n",
       "    .dataframe thead th {\n",
       "        text-align: right;\n",
       "    }\n",
       "</style>\n",
       "<table border=\"1\" class=\"dataframe\">\n",
       "  <thead>\n",
       "    <tr style=\"text-align: right;\">\n",
       "      <th></th>\n",
       "      <th>POST_vote</th>\n",
       "      <th>POST_president</th>\n",
       "      <th>PRE_present_religion</th>\n",
       "      <th>PRE_age</th>\n",
       "      <th>PRE_education</th>\n",
       "      <th>PRE_race</th>\n",
       "      <th>PRE_sex</th>\n",
       "      <th>PRE_occupation</th>\n",
       "    </tr>\n",
       "    <tr>\n",
       "      <th>id_case</th>\n",
       "      <th></th>\n",
       "      <th></th>\n",
       "      <th></th>\n",
       "      <th></th>\n",
       "      <th></th>\n",
       "      <th></th>\n",
       "      <th></th>\n",
       "      <th></th>\n",
       "    </tr>\n",
       "  </thead>\n",
       "  <tbody>\n",
       "    <tr>\n",
       "      <th>200022</th>\n",
       "      <td>1</td>\n",
       "      <td>3</td>\n",
       "      <td>12</td>\n",
       "      <td>37</td>\n",
       "      <td>3</td>\n",
       "      <td>4</td>\n",
       "      <td>2</td>\n",
       "      <td>1</td>\n",
       "    </tr>\n",
       "    <tr>\n",
       "      <th>200039</th>\n",
       "      <td>1</td>\n",
       "      <td>1</td>\n",
       "      <td>11</td>\n",
       "      <td>40</td>\n",
       "      <td>2</td>\n",
       "      <td>1</td>\n",
       "      <td>2</td>\n",
       "      <td>7</td>\n",
       "    </tr>\n",
       "    <tr>\n",
       "      <th>200046</th>\n",
       "      <td>1</td>\n",
       "      <td>1</td>\n",
       "      <td>2</td>\n",
       "      <td>41</td>\n",
       "      <td>3</td>\n",
       "      <td>4</td>\n",
       "      <td>1</td>\n",
       "      <td>1</td>\n",
       "    </tr>\n",
       "    <tr>\n",
       "      <th>200053</th>\n",
       "      <td>1</td>\n",
       "      <td>2</td>\n",
       "      <td>12</td>\n",
       "      <td>72</td>\n",
       "      <td>5</td>\n",
       "      <td>5</td>\n",
       "      <td>1</td>\n",
       "      <td>5</td>\n",
       "    </tr>\n",
       "    <tr>\n",
       "      <th>200060</th>\n",
       "      <td>1</td>\n",
       "      <td>1</td>\n",
       "      <td>10</td>\n",
       "      <td>71</td>\n",
       "      <td>3</td>\n",
       "      <td>1</td>\n",
       "      <td>2</td>\n",
       "      <td>5</td>\n",
       "    </tr>\n",
       "    <tr>\n",
       "      <th>...</th>\n",
       "      <td>...</td>\n",
       "      <td>...</td>\n",
       "      <td>...</td>\n",
       "      <td>...</td>\n",
       "      <td>...</td>\n",
       "      <td>...</td>\n",
       "      <td>...</td>\n",
       "      <td>...</td>\n",
       "    </tr>\n",
       "    <tr>\n",
       "      <th>535292</th>\n",
       "      <td>1</td>\n",
       "      <td>2</td>\n",
       "      <td>11</td>\n",
       "      <td>65</td>\n",
       "      <td>2</td>\n",
       "      <td>1</td>\n",
       "      <td>2</td>\n",
       "      <td>6</td>\n",
       "    </tr>\n",
       "    <tr>\n",
       "      <th>535308</th>\n",
       "      <td>1</td>\n",
       "      <td>2</td>\n",
       "      <td>11</td>\n",
       "      <td>54</td>\n",
       "      <td>4</td>\n",
       "      <td>1</td>\n",
       "      <td>2</td>\n",
       "      <td>1</td>\n",
       "    </tr>\n",
       "    <tr>\n",
       "      <th>535360</th>\n",
       "      <td>1</td>\n",
       "      <td>2</td>\n",
       "      <td>4</td>\n",
       "      <td>52</td>\n",
       "      <td>4</td>\n",
       "      <td>1</td>\n",
       "      <td>2</td>\n",
       "      <td>1</td>\n",
       "    </tr>\n",
       "    <tr>\n",
       "      <th>535414</th>\n",
       "      <td>1</td>\n",
       "      <td>1</td>\n",
       "      <td>2</td>\n",
       "      <td>45</td>\n",
       "      <td>2</td>\n",
       "      <td>3</td>\n",
       "      <td>1</td>\n",
       "      <td>1</td>\n",
       "    </tr>\n",
       "    <tr>\n",
       "      <th>535469</th>\n",
       "      <td>1</td>\n",
       "      <td>1</td>\n",
       "      <td>7</td>\n",
       "      <td>38</td>\n",
       "      <td>5</td>\n",
       "      <td>4</td>\n",
       "      <td>2</td>\n",
       "      <td>1</td>\n",
       "    </tr>\n",
       "  </tbody>\n",
       "</table>\n",
       "<p>5952 rows × 8 columns</p>\n",
       "</div>"
      ],
      "text/plain": [
       "         POST_vote  POST_president  PRE_present_religion  PRE_age  \\\n",
       "id_case                                                             \n",
       "200022           1               3                    12       37   \n",
       "200039           1               1                    11       40   \n",
       "200046           1               1                     2       41   \n",
       "200053           1               2                    12       72   \n",
       "200060           1               1                    10       71   \n",
       "...            ...             ...                   ...      ...   \n",
       "535292           1               2                    11       65   \n",
       "535308           1               2                    11       54   \n",
       "535360           1               2                     4       52   \n",
       "535414           1               1                     2       45   \n",
       "535469           1               1                     7       38   \n",
       "\n",
       "         PRE_education  PRE_race  PRE_sex  PRE_occupation  \n",
       "id_case                                                    \n",
       "200022               3         4        2               1  \n",
       "200039               2         1        2               7  \n",
       "200046               3         4        1               1  \n",
       "200053               5         5        1               5  \n",
       "200060               3         1        2               5  \n",
       "...                ...       ...      ...             ...  \n",
       "535292               2         1        2               6  \n",
       "535308               4         1        2               1  \n",
       "535360               4         1        2               1  \n",
       "535414               2         3        1               1  \n",
       "535469               5         4        2               1  \n",
       "\n",
       "[5952 rows x 8 columns]"
      ]
     },
     "execution_count": 30,
     "metadata": {},
     "output_type": "execute_result"
    }
   ],
   "source": [
    "demos"
   ]
  },
  {
   "cell_type": "markdown",
   "id": "52ecb8dd",
   "metadata": {},
   "source": [
    "## AGE"
   ]
  },
  {
   "cell_type": "code",
   "execution_count": 31,
   "id": "8d88e41f",
   "metadata": {},
   "outputs": [],
   "source": [
    "age = demos['PRE_age']"
   ]
  },
  {
   "cell_type": "code",
   "execution_count": 32,
   "id": "c30e20d8",
   "metadata": {},
   "outputs": [],
   "source": [
    "# delete the null valued rows in the column 'age'\n",
    "age = age.dropna()"
   ]
  },
  {
   "cell_type": "code",
   "execution_count": 33,
   "id": "c62c9f43",
   "metadata": {
    "scrolled": true
   },
   "outputs": [
    {
     "name": "stdout",
     "output_type": "stream",
     "text": [
      "mean of age: 50.71404569892473\n",
      "variance of age: 415.80398282586856\n",
      "standard deviation of age: 20.391272221856795\n"
     ]
    }
   ],
   "source": [
    "# mean, var, std\n",
    "print(\"mean of age:\", np.mean(age))\n",
    "print(\"variance of age:\", np.var(age))\n",
    "print(\"standard deviation of age:\", np.std(age))"
   ]
  },
  {
   "cell_type": "code",
   "execution_count": 34,
   "id": "a3fcd5b4",
   "metadata": {
    "scrolled": true
   },
   "outputs": [
    {
     "name": "stdout",
     "output_type": "stream",
     "text": [
      "*community_0 in age\n",
      "how many: 1337\n",
      "mean: 45.00448765893792\n",
      "variance: 459.52877567243553\n",
      "std: 21.436622300923144\n",
      "\n",
      "*community_1 in age \n",
      "how many: 2978\n",
      "mean: 54.301208865010075\n",
      "variance: 379.22660028478373\n",
      "std: 19.473741301680676\n",
      "\n",
      "*community_2 in age\n",
      "how many: 1550\n",
      "mean: 49.00967741935484\n",
      "variance: 381.41345473465134\n",
      "std: 19.52980938807779\n"
     ]
    }
   ],
   "source": [
    "# Dataframe age with each communities\n",
    "age_0 = age.loc[communities['zero']]\n",
    "age_1 = age.loc[communities['one']]\n",
    "age_2 = age.loc[communities['two']]\n",
    "\n",
    "# print cardinality, mean, var, std within the cluster.\n",
    "# community_0\n",
    "print(\"*community_0 in age\")\n",
    "print(\"how many:\", len(age_0))\n",
    "print(\"mean:\", np.mean(age_0))\n",
    "print(\"variance:\", np.var(age_0))\n",
    "print(\"std:\", np.std(age_0))\n",
    "\n",
    "# community_1\n",
    "print(\"\\n*community_1 in age \")\n",
    "print(\"how many:\", len(age_1))\n",
    "print(\"mean:\", np.mean(age_1))\n",
    "print(\"variance:\", np.var(age_1))\n",
    "print(\"std:\", np.std(age_1))\n",
    "\n",
    "# community_2\n",
    "print(\"\\n*community_2 in age\")\n",
    "print(\"how many:\", len(age_2))\n",
    "print(\"mean:\", np.mean(age_2))\n",
    "print(\"variance:\", np.var(age_2))\n",
    "print(\"std:\", np.std(age_2))\n"
   ]
  },
  {
   "cell_type": "code",
   "execution_count": 35,
   "id": "af4134d6",
   "metadata": {},
   "outputs": [
    {
     "data": {
      "text/plain": [
       "(array([79.,  0.,  0.,  0.,  0.,  0.,  0.,  0.,  0., 24., 39., 64., 75.,\n",
       "        74., 78., 89., 73., 70., 69., 53., 53., 54., 60., 58., 62., 64.,\n",
       "        51., 46., 35., 67.]),\n",
       " array([-9.        , -6.03333333, -3.06666667, -0.1       ,  2.86666667,\n",
       "         5.83333333,  8.8       , 11.76666667, 14.73333333, 17.7       ,\n",
       "        20.66666667, 23.63333333, 26.6       , 29.56666667, 32.53333333,\n",
       "        35.5       , 38.46666667, 41.43333333, 44.4       , 47.36666667,\n",
       "        50.33333333, 53.3       , 56.26666667, 59.23333333, 62.2       ,\n",
       "        65.16666667, 68.13333333, 71.1       , 74.06666667, 77.03333333,\n",
       "        80.        ]),\n",
       " <BarContainer object of 30 artists>)"
      ]
     },
     "execution_count": 35,
     "metadata": {},
     "output_type": "execute_result"
    },
    {
     "data": {
      "image/png": "[encoded data removed]",
      "text/plain": [
       "<Figure size 400x400 with 1 Axes>"
      ]
     },
     "metadata": {},
     "output_type": "display_data"
    }
   ],
   "source": [
    "# it is the example below, use to see another community as well.\n",
    "# Histogram of age in community 0\n",
    "plt.rcParams[\"figure.figsize\"] = (4,4) # set the figure size\n",
    "plt.hist(age_0, bins = 30)"
   ]
  },
  {
   "cell_type": "code",
   "execution_count": 36,
   "id": "712b0cf1",
   "metadata": {},
   "outputs": [
    {
     "data": {
      "text/plain": [
       "(array([ 52.,   0.,   0.,   0.,   0.,   0.,   0.,   0.,   0.,  23.,  22.,\n",
       "         56.,  66.,  69.,  85.,  97., 106.,  65.,  57.,  82.,  67.,  91.,\n",
       "         84.,  93.,  96.,  80.,  68.,  58.,  40.,  93.]),\n",
       " array([-9.        , -6.03333333, -3.06666667, -0.1       ,  2.86666667,\n",
       "         5.83333333,  8.8       , 11.76666667, 14.73333333, 17.7       ,\n",
       "        20.66666667, 23.63333333, 26.6       , 29.56666667, 32.53333333,\n",
       "        35.5       , 38.46666667, 41.43333333, 44.4       , 47.36666667,\n",
       "        50.33333333, 53.3       , 56.26666667, 59.23333333, 62.2       ,\n",
       "        65.16666667, 68.13333333, 71.1       , 74.06666667, 77.03333333,\n",
       "        80.        ]),\n",
       " <BarContainer object of 30 artists>)"
      ]
     },
     "execution_count": 36,
     "metadata": {},
     "output_type": "execute_result"
    },
    {
     "data": {
      "image/png": "[encoded data removed]",
      "text/plain": [
       "<Figure size 400x400 with 1 Axes>"
      ]
     },
     "metadata": {},
     "output_type": "display_data"
    }
   ],
   "source": [
    "# it is the example below, use to see another community as well.\n",
    "# Histogram of age in community 1\n",
    "plt.rcParams[\"figure.figsize\"] = (4,4) # set the figure size\n",
    "plt.hist(age_2, bins = 30)"
   ]
  },
  {
   "cell_type": "markdown",
   "id": "fe728979",
   "metadata": {},
   "source": [
    "## PRESIDENT"
   ]
  },
  {
   "cell_type": "code",
   "execution_count": 37,
   "id": "ba01eb64",
   "metadata": {
    "scrolled": true
   },
   "outputs": [],
   "source": [
    "politics = demos['POST_president']\n",
    "politics = politics.dropna()"
   ]
  },
  {
   "cell_type": "code",
   "execution_count": 38,
   "id": "11a46ef4",
   "metadata": {
    "scrolled": true
   },
   "outputs": [
    {
     "data": {
      "text/plain": [
       "POST_president\n",
       " 1     3267\n",
       " 2     2462\n",
       " 3       69\n",
       " 5       56\n",
       "-9       53\n",
       " 4       23\n",
       " 12      16\n",
       " 8        3\n",
       " 11       2\n",
       " 7        1\n",
       "Name: count, dtype: int64"
      ]
     },
     "execution_count": 38,
     "metadata": {},
     "output_type": "execute_result"
    }
   ],
   "source": [
    "demos['POST_president'].value_counts()"
   ]
  },
  {
   "cell_type": "code",
   "execution_count": 39,
   "id": "8ef82708",
   "metadata": {
    "scrolled": true
   },
   "outputs": [
    {
     "name": "stdout",
     "output_type": "stream",
     "text": [
      "How many in politics belong to community 0: 1337\n",
      "How many in politics belong to community 1: 2978\n",
      "How many in politics belong to community 2: 1550\n"
     ]
    }
   ],
   "source": [
    "# Dataframe political ideology with each communities\n",
    "politics_0 = politics.loc[communities['zero']]\n",
    "politics_1 = politics.loc[communities['one']]\n",
    "politics_2 = politics.loc[communities['two']]\n",
    "\n",
    "print(\"How many in politics belong to community 0:\", len(politics_0))\n",
    "print(\"How many in politics belong to community 1:\", len(politics_1))\n",
    "print(\"How many in politics belong to community 2:\", len(politics_2))"
   ]
  },
  {
   "cell_type": "code",
   "execution_count": 40,
   "id": "811f2459",
   "metadata": {
    "scrolled": true
   },
   "outputs": [
    {
     "data": {
      "text/plain": [
       "POST_president\n",
       " 1     657\n",
       " 2     615\n",
       "-9      20\n",
       " 3      18\n",
       " 5      14\n",
       " 4       6\n",
       " 12      5\n",
       " 11      2\n",
       "Name: count, dtype: int64"
      ]
     },
     "execution_count": 40,
     "metadata": {},
     "output_type": "execute_result"
    }
   ],
   "source": [
    "politics_0.value_counts()"
   ]
  },
  {
   "cell_type": "code",
   "execution_count": 41,
   "id": "db672ec9",
   "metadata": {
    "scrolled": true
   },
   "outputs": [
    {
     "data": {
      "text/plain": [
       "POST_president\n",
       " 1     1757\n",
       " 2     1129\n",
       " 3       34\n",
       " 5       23\n",
       "-9       17\n",
       " 4       10\n",
       " 12       6\n",
       " 8        1\n",
       " 7        1\n",
       "Name: count, dtype: int64"
      ]
     },
     "execution_count": 41,
     "metadata": {},
     "output_type": "execute_result"
    }
   ],
   "source": [
    "politics_1.value_counts()"
   ]
  },
  {
   "cell_type": "code",
   "execution_count": 42,
   "id": "53d5b194",
   "metadata": {},
   "outputs": [
    {
     "data": {
      "text/plain": [
       "POST_president\n",
       " 1     818\n",
       " 2     677\n",
       " 5      17\n",
       " 3      15\n",
       "-9      11\n",
       " 4       6\n",
       " 12      4\n",
       " 8       2\n",
       "Name: count, dtype: int64"
      ]
     },
     "execution_count": 42,
     "metadata": {},
     "output_type": "execute_result"
    }
   ],
   "source": [
    "politics_2.value_counts()"
   ]
  },
  {
   "cell_type": "code",
   "execution_count": 43,
   "id": "ec71435c",
   "metadata": {},
   "outputs": [
    {
     "data": {
      "text/plain": [
       "(array([ 20.,   0.,   0., 657., 639.,  14.,   0.,   7.]),\n",
       " array([-9.   , -6.375, -3.75 , -1.125,  1.5  ,  4.125,  6.75 ,  9.375,\n",
       "        12.   ]),\n",
       " <BarContainer object of 8 artists>)"
      ]
     },
     "execution_count": 43,
     "metadata": {},
     "output_type": "execute_result"
    },
    {
     "data": {
      "image/png": "[encoded data removed]",
      "text/plain": [
       "<Figure size 400x400 with 1 Axes>"
      ]
     },
     "metadata": {},
     "output_type": "display_data"
    }
   ],
   "source": [
    "# it is the example below, use to see another community as well.\n",
    "# Histogram of politics in community 0\n",
    "plt.rcParams[\"figure.figsize\"] = (4,4) # set the figure size\n",
    "plt.hist(politics_0, bins = 8)"
   ]
  },
  {
   "cell_type": "code",
   "execution_count": 44,
   "id": "9ff9c1bd",
   "metadata": {},
   "outputs": [
    {
     "data": {
      "text/plain": [
       "(array([ 11.,   0.,   0., 818., 698.,  17.,   2.,   4.]),\n",
       " array([-9.   , -6.375, -3.75 , -1.125,  1.5  ,  4.125,  6.75 ,  9.375,\n",
       "        12.   ]),\n",
       " <BarContainer object of 8 artists>)"
      ]
     },
     "execution_count": 44,
     "metadata": {},
     "output_type": "execute_result"
    },
    {
     "data": {
      "image/png": "[encoded data removed]",
      "text/plain": [
       "<Figure size 400x400 with 1 Axes>"
      ]
     },
     "metadata": {},
     "output_type": "display_data"
    }
   ],
   "source": [
    "# it is the example below, use to see another community as well.\n",
    "# Histogram of politics in community 1\n",
    "plt.rcParams[\"figure.figsize\"] = (4,4) # set the figure size\n",
    "plt.hist(politics_2, bins = 8)"
   ]
  },
  {
   "cell_type": "markdown",
   "id": "4b75a920",
   "metadata": {},
   "source": [
    "## EDUCATION"
   ]
  },
  {
   "cell_type": "code",
   "execution_count": 45,
   "id": "80a71236",
   "metadata": {},
   "outputs": [
    {
     "data": {
      "text/plain": [
       "id_case\n",
       "200022    3\n",
       "200039    2\n",
       "200046    3\n",
       "200053    5\n",
       "200060    3\n",
       "         ..\n",
       "535292    2\n",
       "535308    4\n",
       "535360    4\n",
       "535414    2\n",
       "535469    5\n",
       "Name: PRE_education, Length: 5952, dtype: int64"
      ]
     },
     "execution_count": 45,
     "metadata": {},
     "output_type": "execute_result"
    }
   ],
   "source": [
    "education = demos['PRE_education']\n",
    "education = education.dropna()\n",
    "education"
   ]
  },
  {
   "cell_type": "code",
   "execution_count": 46,
   "id": "00696187",
   "metadata": {
    "scrolled": true
   },
   "outputs": [
    {
     "name": "stdout",
     "output_type": "stream",
     "text": [
      "How many in education belong to community 0: 1337\n",
      "How many in education belong to community 1: 2978\n",
      "How many in education belong to community 2: 1550\n"
     ]
    }
   ],
   "source": [
    "# Dataframe political ideology with each communities\n",
    "education_0 = education.loc[communities['zero']]\n",
    "education_1 = education.loc[communities['one']]\n",
    "education_2 = education.loc[communities['two']]\n",
    "\n",
    "print(\"How many in education belong to community 0:\", len(education_0))\n",
    "print(\"How many in education belong to community 1:\", len(education_1))\n",
    "print(\"How many in education belong to community 2:\", len(education_2))"
   ]
  },
  {
   "cell_type": "code",
   "execution_count": 47,
   "id": "bec106d2",
   "metadata": {
    "scrolled": true
   },
   "outputs": [
    {
     "data": {
      "text/plain": [
       "PRE_education\n",
       " 3    490\n",
       " 4    313\n",
       " 2    241\n",
       " 5    219\n",
       " 1     49\n",
       "-2     17\n",
       "-9      8\n",
       "Name: count, dtype: int64"
      ]
     },
     "execution_count": 47,
     "metadata": {},
     "output_type": "execute_result"
    }
   ],
   "source": [
    "education_0.value_counts()"
   ]
  },
  {
   "cell_type": "code",
   "execution_count": 48,
   "id": "820550b8",
   "metadata": {
    "scrolled": true
   },
   "outputs": [
    {
     "data": {
      "text/plain": [
       "PRE_education\n",
       " 3    911\n",
       " 4    863\n",
       " 5    762\n",
       " 2    335\n",
       " 1     61\n",
       "-2     40\n",
       "-9      5\n",
       "-8      1\n",
       "Name: count, dtype: int64"
      ]
     },
     "execution_count": 48,
     "metadata": {},
     "output_type": "execute_result"
    }
   ],
   "source": [
    "education_1.value_counts()"
   ]
  },
  {
   "cell_type": "code",
   "execution_count": 49,
   "id": "55e491ee",
   "metadata": {},
   "outputs": [
    {
     "data": {
      "text/plain": [
       "PRE_education\n",
       " 3    565\n",
       " 4    440\n",
       " 5    298\n",
       " 2    184\n",
       " 1     46\n",
       "-2     15\n",
       "-9      2\n",
       "Name: count, dtype: int64"
      ]
     },
     "execution_count": 49,
     "metadata": {},
     "output_type": "execute_result"
    }
   ],
   "source": [
    "education_2.value_counts()"
   ]
  },
  {
   "cell_type": "code",
   "execution_count": 50,
   "id": "e100334c",
   "metadata": {
    "scrolled": true
   },
   "outputs": [
    {
     "data": {
      "text/plain": [
       "(array([  8.,   0.,   0.,   0.,   0.,   0.,   0.,  17.,   0.,   0.,  49.,\n",
       "        241., 490., 313., 219.]),\n",
       " array([-9.        , -8.06666667, -7.13333333, -6.2       , -5.26666667,\n",
       "        -4.33333333, -3.4       , -2.46666667, -1.53333333, -0.6       ,\n",
       "         0.33333333,  1.26666667,  2.2       ,  3.13333333,  4.06666667,\n",
       "         5.        ]),\n",
       " <BarContainer object of 15 artists>)"
      ]
     },
     "execution_count": 50,
     "metadata": {},
     "output_type": "execute_result"
    },
    {
     "data": {
      "image/png": "[encoded data removed]",
      "text/plain": [
       "<Figure size 400x400 with 1 Axes>"
      ]
     },
     "metadata": {},
     "output_type": "display_data"
    }
   ],
   "source": [
    "# it is the example below, use to see another community as well.\n",
    "# Histogram of education in community 0\n",
    "plt.rcParams[\"figure.figsize\"] = (4,4) # set the figure size\n",
    "plt.hist(education_0, bins = 15)"
   ]
  },
  {
   "cell_type": "code",
   "execution_count": 51,
   "id": "89f31f40",
   "metadata": {},
   "outputs": [
    {
     "data": {
      "text/plain": [
       "(array([  2.,   0.,   0.,   0.,   0.,   0.,   0.,  15.,   0.,   0.,  46.,\n",
       "        184., 565., 440., 298.]),\n",
       " array([-9.        , -8.06666667, -7.13333333, -6.2       , -5.26666667,\n",
       "        -4.33333333, -3.4       , -2.46666667, -1.53333333, -0.6       ,\n",
       "         0.33333333,  1.26666667,  2.2       ,  3.13333333,  4.06666667,\n",
       "         5.        ]),\n",
       " <BarContainer object of 15 artists>)"
      ]
     },
     "execution_count": 51,
     "metadata": {},
     "output_type": "execute_result"
    },
    {
     "data": {
      "image/png": "[encoded data removed]",
      "text/plain": [
       "<Figure size 400x400 with 1 Axes>"
      ]
     },
     "metadata": {},
     "output_type": "display_data"
    }
   ],
   "source": [
    "# it is the example below, use to see another community as well.\n",
    "# Histogram of education in community 1\n",
    "plt.rcParams[\"figure.figsize\"] = (4,4) # set the figure size\n",
    "plt.hist(education_2, bins = 15)"
   ]
  },
  {
   "cell_type": "markdown",
   "id": "465cb325",
   "metadata": {},
   "source": [
    "## RELIGION"
   ]
  },
  {
   "cell_type": "code",
   "execution_count": 52,
   "id": "2d02dd72",
   "metadata": {},
   "outputs": [],
   "source": [
    "religion = demos['PRE_present_religion']\n",
    "religion = religion.dropna()"
   ]
  },
  {
   "cell_type": "code",
   "execution_count": 53,
   "id": "f1e84fd6",
   "metadata": {
    "scrolled": true
   },
   "outputs": [
    {
     "data": {
      "text/plain": [
       "PRE_present_religion\n",
       " 1     1660\n",
       " 2     1214\n",
       " 11    1042\n",
       " 12     974\n",
       " 10     343\n",
       " 9      253\n",
       " 5      145\n",
       " 3       88\n",
       " 4       87\n",
       " 7       52\n",
       "-9       45\n",
       " 8       25\n",
       " 6       24\n",
       "Name: count, dtype: int64"
      ]
     },
     "execution_count": 53,
     "metadata": {},
     "output_type": "execute_result"
    }
   ],
   "source": [
    "religion.value_counts()"
   ]
  },
  {
   "cell_type": "code",
   "execution_count": 54,
   "id": "08f09cc1",
   "metadata": {
    "scrolled": true
   },
   "outputs": [
    {
     "name": "stdout",
     "output_type": "stream",
     "text": [
      "How many in religion belong to community 0: 1337\n",
      "How many in religion belong to community 1: 2978\n",
      "How many in religion belong to community 2: 1550\n"
     ]
    }
   ],
   "source": [
    "# Dataframe political ideology with each communities\n",
    "religion_0 = religion.loc[communities['zero']]\n",
    "religion_1 = religion.loc[communities['one']]\n",
    "religion_2 = religion.loc[communities['two']]\n",
    "\n",
    "print(\"How many in religion belong to community 0:\", len(religion_0))\n",
    "print(\"How many in religion belong to community 1:\", len(religion_1))\n",
    "print(\"How many in religion belong to community 2:\", len(religion_2))"
   ]
  },
  {
   "cell_type": "code",
   "execution_count": 55,
   "id": "3155583b",
   "metadata": {},
   "outputs": [
    {
     "data": {
      "text/plain": [
       "PRE_present_religion\n",
       " 1     310\n",
       " 2     306\n",
       " 12    264\n",
       " 11    256\n",
       " 10     63\n",
       " 9      34\n",
       " 5      25\n",
       " 3      22\n",
       " 4      20\n",
       "-9      16\n",
       " 7       8\n",
       " 6       7\n",
       " 8       6\n",
       "Name: count, dtype: int64"
      ]
     },
     "execution_count": 55,
     "metadata": {},
     "output_type": "execute_result"
    }
   ],
   "source": [
    "religion_0.value_counts()"
   ]
  },
  {
   "cell_type": "code",
   "execution_count": 56,
   "id": "70fa690c",
   "metadata": {},
   "outputs": [
    {
     "data": {
      "text/plain": [
       "PRE_present_religion\n",
       " 1     901\n",
       " 2     586\n",
       " 11    507\n",
       " 12    425\n",
       " 10    184\n",
       " 9     144\n",
       " 5      85\n",
       " 4      44\n",
       " 3      37\n",
       " 7      31\n",
       "-9      13\n",
       " 8      13\n",
       " 6       8\n",
       "Name: count, dtype: int64"
      ]
     },
     "execution_count": 56,
     "metadata": {},
     "output_type": "execute_result"
    }
   ],
   "source": [
    "religion_1.value_counts()"
   ]
  },
  {
   "cell_type": "code",
   "execution_count": 57,
   "id": "e1415b3d",
   "metadata": {},
   "outputs": [
    {
     "data": {
      "text/plain": [
       "PRE_present_religion\n",
       " 1     425\n",
       " 2     305\n",
       " 12    273\n",
       " 11    263\n",
       " 10     94\n",
       " 9      72\n",
       " 5      32\n",
       " 3      25\n",
       " 4      23\n",
       "-9      12\n",
       " 7      12\n",
       " 6       8\n",
       " 8       6\n",
       "Name: count, dtype: int64"
      ]
     },
     "execution_count": 57,
     "metadata": {},
     "output_type": "execute_result"
    }
   ],
   "source": [
    "religion_2.value_counts()"
   ]
  },
  {
   "cell_type": "markdown",
   "id": "ca4eadb8",
   "metadata": {},
   "source": [
    "## RACE"
   ]
  },
  {
   "cell_type": "code",
   "execution_count": 58,
   "id": "58bc772f",
   "metadata": {},
   "outputs": [],
   "source": [
    "race = demos['PRE_race']\n",
    "race = race.dropna()"
   ]
  },
  {
   "cell_type": "code",
   "execution_count": 59,
   "id": "9adf6d25",
   "metadata": {},
   "outputs": [
    {
     "data": {
      "text/plain": [
       "PRE_race\n",
       " 1    4498\n",
       " 2     468\n",
       " 3     446\n",
       " 4     192\n",
       " 6     179\n",
       " 5     114\n",
       "-9      51\n",
       "-8       4\n",
       "Name: count, dtype: int64"
      ]
     },
     "execution_count": 59,
     "metadata": {},
     "output_type": "execute_result"
    }
   ],
   "source": [
    "race.value_counts()"
   ]
  },
  {
   "cell_type": "code",
   "execution_count": 60,
   "id": "14b08919",
   "metadata": {
    "scrolled": true
   },
   "outputs": [
    {
     "name": "stdout",
     "output_type": "stream",
     "text": [
      "How many in race belong to community 0: 1337\n",
      "How many in race belong to community 1: 2978\n",
      "How many in race belong to community 2: 1550\n"
     ]
    }
   ],
   "source": [
    "# Dataframe political ideology with each communities\n",
    "race_0 = race.loc[communities['zero']]\n",
    "race_1 = race.loc[communities['one']]\n",
    "race_2 = race.loc[communities['two']]\n",
    "\n",
    "print(\"How many in race belong to community 0:\", len(race_0))\n",
    "print(\"How many in race belong to community 1:\", len(race_1))\n",
    "print(\"How many in race belong to community 2:\", len(race_2))"
   ]
  },
  {
   "cell_type": "code",
   "execution_count": 61,
   "id": "779d8423",
   "metadata": {},
   "outputs": [
    {
     "data": {
      "text/plain": [
       "PRE_race\n",
       " 1    969\n",
       " 3    130\n",
       " 2    122\n",
       " 4     47\n",
       " 6     37\n",
       " 5     17\n",
       "-9     15\n",
       "Name: count, dtype: int64"
      ]
     },
     "execution_count": 61,
     "metadata": {},
     "output_type": "execute_result"
    }
   ],
   "source": [
    "race_0.value_counts()"
   ]
  },
  {
   "cell_type": "code",
   "execution_count": 62,
   "id": "6fbf4f34",
   "metadata": {},
   "outputs": [
    {
     "data": {
      "text/plain": [
       "PRE_race\n",
       " 1    2291\n",
       " 2     237\n",
       " 3     181\n",
       " 4      96\n",
       " 6      87\n",
       " 5      64\n",
       "-9      19\n",
       "-8       3\n",
       "Name: count, dtype: int64"
      ]
     },
     "execution_count": 62,
     "metadata": {},
     "output_type": "execute_result"
    }
   ],
   "source": [
    "race_1.value_counts()"
   ]
  },
  {
   "cell_type": "code",
   "execution_count": 63,
   "id": "d7947dd8",
   "metadata": {},
   "outputs": [
    {
     "data": {
      "text/plain": [
       "PRE_race\n",
       " 1    1177\n",
       " 3     127\n",
       " 2     100\n",
       " 6      52\n",
       " 4      47\n",
       " 5      30\n",
       "-9      16\n",
       "-8       1\n",
       "Name: count, dtype: int64"
      ]
     },
     "execution_count": 63,
     "metadata": {},
     "output_type": "execute_result"
    }
   ],
   "source": [
    "race_2.value_counts()"
   ]
  },
  {
   "cell_type": "markdown",
   "id": "1142d607",
   "metadata": {},
   "source": [
    "## SEX"
   ]
  },
  {
   "cell_type": "code",
   "execution_count": 64,
   "id": "8f3f4af1",
   "metadata": {},
   "outputs": [],
   "source": [
    "sex = demos['PRE_sex']\n",
    "sex = sex.dropna()"
   ]
  },
  {
   "cell_type": "code",
   "execution_count": 65,
   "id": "29304917",
   "metadata": {},
   "outputs": [
    {
     "data": {
      "text/plain": [
       "PRE_sex\n",
       " 2    3240\n",
       " 1    2676\n",
       "-9      36\n",
       "Name: count, dtype: int64"
      ]
     },
     "execution_count": 65,
     "metadata": {},
     "output_type": "execute_result"
    }
   ],
   "source": [
    "sex.value_counts()"
   ]
  },
  {
   "cell_type": "code",
   "execution_count": 66,
   "id": "331eecb8",
   "metadata": {
    "scrolled": true
   },
   "outputs": [
    {
     "name": "stdout",
     "output_type": "stream",
     "text": [
      "How many in sex belong to community 0: 1337\n",
      "How many in sex belong to community 1: 2978\n",
      "How many in sex belong to community 2: 1550\n"
     ]
    }
   ],
   "source": [
    "# Dataframe political ideology with each communities\n",
    "sex_0 = sex.loc[communities['zero']]\n",
    "sex_1 = sex.loc[communities['one']]\n",
    "sex_2 = sex.loc[communities['two']]\n",
    "\n",
    "print(\"How many in sex belong to community 0:\", len(sex_0))\n",
    "print(\"How many in sex belong to community 1:\", len(sex_1))\n",
    "print(\"How many in sex belong to community 2:\", len(sex_2))"
   ]
  },
  {
   "cell_type": "code",
   "execution_count": 67,
   "id": "72e32517",
   "metadata": {
    "scrolled": true
   },
   "outputs": [
    {
     "data": {
      "text/plain": [
       "PRE_sex\n",
       " 2    757\n",
       " 1    569\n",
       "-9     11\n",
       "Name: count, dtype: int64"
      ]
     },
     "execution_count": 67,
     "metadata": {},
     "output_type": "execute_result"
    }
   ],
   "source": [
    "sex_0.value_counts()"
   ]
  },
  {
   "cell_type": "code",
   "execution_count": 68,
   "id": "aa0ce55d",
   "metadata": {},
   "outputs": [
    {
     "data": {
      "text/plain": [
       "PRE_sex\n",
       " 2    1639\n",
       " 1    1325\n",
       "-9      14\n",
       "Name: count, dtype: int64"
      ]
     },
     "execution_count": 68,
     "metadata": {},
     "output_type": "execute_result"
    }
   ],
   "source": [
    "sex_1.value_counts()"
   ]
  },
  {
   "cell_type": "code",
   "execution_count": 69,
   "id": "574b709a",
   "metadata": {},
   "outputs": [
    {
     "data": {
      "text/plain": [
       "PRE_sex\n",
       " 2    790\n",
       " 1    749\n",
       "-9     11\n",
       "Name: count, dtype: int64"
      ]
     },
     "execution_count": 69,
     "metadata": {},
     "output_type": "execute_result"
    }
   ],
   "source": [
    "sex_2.value_counts()"
   ]
  },
  {
   "cell_type": "markdown",
   "id": "b2d7a559",
   "metadata": {},
   "source": [
    "## JOB"
   ]
  },
  {
   "cell_type": "code",
   "execution_count": 70,
   "id": "1a2539bc",
   "metadata": {},
   "outputs": [],
   "source": [
    "job = demos['PRE_occupation']\n",
    "job = job.dropna()"
   ]
  },
  {
   "cell_type": "code",
   "execution_count": 71,
   "id": "93ee0ddb",
   "metadata": {},
   "outputs": [
    {
     "data": {
      "text/plain": [
       "PRE_occupation\n",
       " 1    3633\n",
       " 5    1448\n",
       " 7     311\n",
       " 6     204\n",
       " 2     172\n",
       " 4      86\n",
       " 8      67\n",
       "-2      31\n",
       "Name: count, dtype: int64"
      ]
     },
     "execution_count": 71,
     "metadata": {},
     "output_type": "execute_result"
    }
   ],
   "source": [
    "job.value_counts()"
   ]
  },
  {
   "cell_type": "code",
   "execution_count": 72,
   "id": "d3eca622",
   "metadata": {
    "scrolled": true
   },
   "outputs": [
    {
     "name": "stdout",
     "output_type": "stream",
     "text": [
      "How many in job belong to community 0: 1337\n",
      "How many in job belong to community 1: 2978\n",
      "How many in job belong to community 2: 1550\n"
     ]
    }
   ],
   "source": [
    "# Dataframe political ideology with each communities\n",
    "job_0 = job.loc[communities['zero']]\n",
    "job_1 = job.loc[communities['one']]\n",
    "job_2 = job.loc[communities['two']]\n",
    "\n",
    "print(\"How many in job belong to community 0:\", len(job_0))\n",
    "print(\"How many in job belong to community 1:\", len(job_1))\n",
    "print(\"How many in job belong to community 2:\", len(job_2))"
   ]
  },
  {
   "cell_type": "code",
   "execution_count": 73,
   "id": "2164c07e",
   "metadata": {},
   "outputs": [
    {
     "data": {
      "text/plain": [
       "PRE_occupation\n",
       " 1    874\n",
       " 5    233\n",
       " 7     79\n",
       " 6     53\n",
       " 2     37\n",
       " 8     26\n",
       " 4     19\n",
       "-2     16\n",
       "Name: count, dtype: int64"
      ]
     },
     "execution_count": 73,
     "metadata": {},
     "output_type": "execute_result"
    }
   ],
   "source": [
    "job_0.value_counts()"
   ]
  },
  {
   "cell_type": "code",
   "execution_count": 74,
   "id": "f4c66e23",
   "metadata": {},
   "outputs": [
    {
     "data": {
      "text/plain": [
       "PRE_occupation\n",
       " 1    1691\n",
       " 5     877\n",
       " 7     146\n",
       " 6     100\n",
       " 2      89\n",
       " 4      43\n",
       " 8      25\n",
       "-2       7\n",
       "Name: count, dtype: int64"
      ]
     },
     "execution_count": 74,
     "metadata": {},
     "output_type": "execute_result"
    }
   ],
   "source": [
    "job_1.value_counts()"
   ]
  },
  {
   "cell_type": "code",
   "execution_count": 75,
   "id": "248c2ec6",
   "metadata": {},
   "outputs": [
    {
     "data": {
      "text/plain": [
       "PRE_occupation\n",
       " 1    1014\n",
       " 5     315\n",
       " 7      84\n",
       " 6      49\n",
       " 2      44\n",
       " 4      21\n",
       " 8      15\n",
       "-2       8\n",
       "Name: count, dtype: int64"
      ]
     },
     "execution_count": 75,
     "metadata": {},
     "output_type": "execute_result"
    }
   ],
   "source": [
    "job_2.value_counts()"
   ]
  },
  {
   "cell_type": "markdown",
   "id": "f893f18e",
   "metadata": {},
   "source": [
    "## Compare the communities' demographics"
   ]
  },
  {
   "cell_type": "markdown",
   "id": "0bb30a9f",
   "metadata": {},
   "source": [
    "### Visualize multiple graph"
   ]
  },
  {
   "cell_type": "code",
   "execution_count": 76,
   "id": "4abb29c0",
   "metadata": {},
   "outputs": [],
   "source": [
    "# Display graphs grouped by the community label\n",
    "import matplotlib.pyplot as plt\n",
    "\n",
    "# List of data for each plot\n",
    "data_0 = [age_0, politics_0, education_0, religion_0, race_0, sex_0, job_0]\n",
    "data_1 = [age_1, politics_1, education_1, religion_1, race_1, sex_1, job_1]\n",
    "data_2 = [age_2, politics_2, education_2, religion_2, race_2, sex_2, job_2]"
   ]
  },
  {
   "cell_type": "code",
   "execution_count": 77,
   "id": "cff1c5c1",
   "metadata": {},
   "outputs": [
    {
     "name": "stdout",
     "output_type": "stream",
     "text": [
      "\n",
      "\n",
      "*The number of the community members: 1337\n"
     ]
    },
    {
     "data": {
      "image/png": "[encoded data removed]",
      "text/plain": [
       "<Figure size 1200x800 with 9 Axes>"
      ]
     },
     "metadata": {},
     "output_type": "display_data"
    }
   ],
   "source": [
    "# Create subplots dynamically\n",
    "fig, axes = plt.subplots(3, 3,  figsize=(12, 8))\n",
    "\n",
    "\n",
    "# Create a histogram on one of the subplots\n",
    "axes[0, 0].hist(age_0, bins=20)\n",
    "axes[0, 0].set_title('Age 0')\n",
    "axes[0, 0].set_xlabel('Age')\n",
    "axes[0, 0].set_ylabel('Population')\n",
    "\n",
    "# Create a histogram on one of the subplots\n",
    "axes[0, 1].hist(politics_0, bins=20)\n",
    "axes[0, 1].set_title('politics 0')\n",
    "axes[0, 1].set_xlabel('politics')\n",
    "axes[0, 1].set_ylabel('Population')\n",
    "\n",
    "# Create a histogram on one of the subplots\n",
    "axes[0, 2].hist(education_0, bins=20)\n",
    "axes[0, 2].set_title('Education 0')\n",
    "axes[0, 2].set_xlabel('Education')\n",
    "axes[0, 2].set_ylabel('Population')\n",
    "\n",
    "# Create a histogram on one of the subplots\n",
    "axes[1, 0].hist(religion_0, bins=20)\n",
    "axes[1, 0].set_title('Religion 0')\n",
    "axes[1, 0].set_xlabel('Religion')\n",
    "axes[1, 0].set_ylabel('Population')\n",
    "\n",
    "# Create a histogram on one of the subplots\n",
    "axes[1, 1].hist(race_0, bins=20)\n",
    "axes[1, 1].set_title('Race 0')\n",
    "axes[1, 1].set_xlabel('Race')\n",
    "axes[1, 1].set_ylabel('Population')\n",
    "\n",
    "# Create a histogram on one of the subplots\n",
    "axes[1, 2].hist(sex_0, bins=20)\n",
    "axes[1, 2].set_title('Sex 0')\n",
    "axes[1, 2].set_xlabel('Sex')\n",
    "axes[1, 2].set_ylabel('Population')\n",
    "\n",
    "\n",
    "# Create a histogram on one of the subplots\n",
    "axes[2, 0].hist(job_0, bins=20)\n",
    "axes[2, 0].set_title('Employment 0')\n",
    "axes[2, 0].set_xlabel('Employment')\n",
    "axes[2, 0].set_ylabel('Population')\n",
    "\n",
    "# Adjust layout\n",
    "plt.tight_layout()\n",
    "\n",
    "# Print the number of the community members:\n",
    "print(\"\\n\\n*The number of the community members:\", len(communities[\"zero\"]))\n",
    "\n",
    "# Show the combined plots\n",
    "plt.show()\n"
   ]
  },
  {
   "cell_type": "code",
   "execution_count": 78,
   "id": "a980749a",
   "metadata": {
    "scrolled": true
   },
   "outputs": [
    {
     "name": "stdout",
     "output_type": "stream",
     "text": [
      "\n",
      "\n",
      "*The number of the community members: 2978\n"
     ]
    },
    {
     "data": {
      "image/png": "[encoded data removed]",
      "text/plain": [
       "<Figure size 1200x800 with 9 Axes>"
      ]
     },
     "metadata": {},
     "output_type": "display_data"
    }
   ],
   "source": [
    "# Create subplots dynamically\n",
    "fig, axes = plt.subplots(3, 3,  figsize=(12, 8))\n",
    "\n",
    "\n",
    "# Create a histogram on one of the subplots\n",
    "axes[0, 0].hist(age_1, bins=20)\n",
    "axes[0, 0].set_title('Age 1')\n",
    "axes[0, 0].set_xlabel('Age')\n",
    "axes[0, 0].set_ylabel('Population')\n",
    "\n",
    "# Create a histogram on one of the subplots\n",
    "axes[0, 1].hist(politics_1, bins=20)\n",
    "axes[0, 1].set_title('politics 1')\n",
    "axes[0, 1].set_xlabel('politics')\n",
    "axes[0, 1].set_ylabel('Population')\n",
    "\n",
    "# Create a histogram on one of the subplots\n",
    "axes[0, 2].hist(education_1, bins=20)\n",
    "axes[0, 2].set_title('Education 1')\n",
    "axes[0, 2].set_xlabel('Education')\n",
    "axes[0, 2].set_ylabel('Population')\n",
    "\n",
    "# Create a histogram on one of the subplots\n",
    "axes[1, 0].hist(religion_1, bins=20)\n",
    "axes[1, 0].set_title('Religion 1')\n",
    "axes[1, 0].set_xlabel('Religion')\n",
    "axes[1, 0].set_ylabel('Population')\n",
    "\n",
    "# Create a histogram on one of the subplots\n",
    "axes[1, 1].hist(race_1, bins=20)\n",
    "axes[1, 1].set_title('Race 1')\n",
    "axes[1, 1].set_xlabel('Race')\n",
    "axes[1, 1].set_ylabel('Population')\n",
    "\n",
    "# Create a histogram on one of the subplots\n",
    "axes[1, 2].hist(sex_1, bins=20)\n",
    "axes[1, 2].set_title('Sex 1')\n",
    "axes[1, 2].set_xlabel('Sex')\n",
    "axes[1, 2].set_ylabel('Population')\n",
    "\n",
    "\n",
    "# Create a histogram on one of the subplots\n",
    "axes[2, 0].hist(job_1, bins=20)\n",
    "axes[2, 0].set_title('Employment 1')\n",
    "axes[2, 0].set_xlabel('Employment')\n",
    "axes[2, 0].set_ylabel('Population')\n",
    "\n",
    "# Adjust layout\n",
    "plt.tight_layout()\n",
    "\n",
    "# Print the number of the community members:\n",
    "print(\"\\n\\n*The number of the community members:\", len(communities[\"one\"]))\n",
    "\n",
    "# Show the combined plots\n",
    "plt.show()\n"
   ]
  },
  {
   "cell_type": "code",
   "execution_count": 79,
   "id": "409f1790",
   "metadata": {},
   "outputs": [
    {
     "name": "stdout",
     "output_type": "stream",
     "text": [
      "\n",
      "\n",
      "*The number of the community members: 1550\n"
     ]
    },
    {
     "data": {
      "image/png": "[encoded data removed]",
      "text/plain": [
       "<Figure size 1200x800 with 9 Axes>"
      ]
     },
     "metadata": {},
     "output_type": "display_data"
    }
   ],
   "source": [
    "# Create subplots dynamically\n",
    "fig, axes = plt.subplots(3, 3,  figsize=(12, 8))\n",
    "\n",
    "\n",
    "# Create a histogram on one of the subplots\n",
    "axes[0, 0].hist(age_2, bins=20)\n",
    "axes[0, 0].set_title('Age 2')\n",
    "axes[0, 0].set_xlabel('Age')\n",
    "axes[0, 0].set_ylabel('Population')\n",
    "\n",
    "# Create a histogram on one of the subplots\n",
    "axes[0, 1].hist(politics_2, bins=20)\n",
    "axes[0, 1].set_title('politics 2')\n",
    "axes[0, 1].set_xlabel('politics')\n",
    "axes[0, 1].set_ylabel('Population')\n",
    "\n",
    "# Create a histogram on one of the subplots\n",
    "axes[0, 2].hist(education_2, bins=20)\n",
    "axes[0, 2].set_title('Education 2')\n",
    "axes[0, 2].set_xlabel('Education')\n",
    "axes[0, 2].set_ylabel('Population')\n",
    "\n",
    "# Create a histogram on one of the subplots\n",
    "axes[1, 0].hist(religion_2, bins=20)\n",
    "axes[1, 0].set_title('Religion 2')\n",
    "axes[1, 0].set_xlabel('Religion')\n",
    "axes[1, 0].set_ylabel('Population')\n",
    "\n",
    "# Create a histogram on one of the subplots\n",
    "axes[1, 1].hist(race_2, bins=20)\n",
    "axes[1, 1].set_title('Race 2')\n",
    "axes[1, 1].set_xlabel('Race')\n",
    "axes[1, 1].set_ylabel('Population')\n",
    "\n",
    "# Create a histogram on one of the subplots\n",
    "axes[1, 2].hist(sex_2, bins=20)\n",
    "axes[1, 2].set_title('Sex 2')\n",
    "axes[1, 2].set_xlabel('Sex')\n",
    "axes[1, 2].set_ylabel('Population')\n",
    "\n",
    "\n",
    "# Create a histogram on one of the subplots\n",
    "axes[2, 0].hist(job_2, bins=20)\n",
    "axes[2, 0].set_title('Employment 2')\n",
    "axes[2, 0].set_xlabel('Employment')\n",
    "axes[2, 0].set_ylabel('Population')\n",
    "\n",
    "# Adjust layout\n",
    "plt.tight_layout()\n",
    "\n",
    "# Print the number of the community members:\n",
    "print(\"\\n\\n*The number of the community members:\", len(communities[\"two\"]))\n",
    "\n",
    "# Show the combined plots\n",
    "plt.show()\n"
   ]
  },
  {
   "cell_type": "markdown",
   "id": "1ab90fba",
   "metadata": {},
   "source": [
    "**result**\n",
    "\n",
    "* Worthy variables: Age, Politics, Education, Religion, Sex"
   ]
  },
  {
   "cell_type": "markdown",
   "id": "87507a1a",
   "metadata": {},
   "source": [
    "## ANOVA for the continuous variable\n",
    "Assumptions: ANOVA assumes homogeneity of variances (similar variances in groups), normal distribution of residuals, and independence of observations.\n",
    "\n",
    "check if the data are approximately normally distributed within each cluster and if the variances across clusters are roughly equal."
   ]
  },
  {
   "cell_type": "markdown",
   "id": "44ddb3f9",
   "metadata": {},
   "source": [
    "### AGE"
   ]
  },
  {
   "cell_type": "code",
   "execution_count": 80,
   "id": "c79eb96f",
   "metadata": {},
   "outputs": [
    {
     "name": "stdout",
     "output_type": "stream",
     "text": [
      "*community_0 in age\n",
      "how many: 1337\n",
      "mean: 45.00448765893792\n",
      "variance: 459.52877567243553\n",
      "std: 21.436622300923144\n",
      "\n",
      "*community_1 in age \n",
      "how many: 2978\n",
      "mean: 54.301208865010075\n",
      "variance: 379.22660028478373\n",
      "std: 19.473741301680676\n",
      "\n",
      "*community_2 in age \n",
      "how many: 1550\n",
      "mean: 49.00967741935484\n",
      "variance: 381.41345473465134\n",
      "std: 19.52980938807779\n"
     ]
    }
   ],
   "source": [
    "# print cardinality, mean, var, std within the cluster.\n",
    "# community_0\n",
    "print(\"*community_0 in age\")\n",
    "print(\"how many:\", len(age_0))\n",
    "print(\"mean:\", np.mean(age_0))\n",
    "print(\"variance:\", np.var(age_0))\n",
    "print(\"std:\", np.std(age_0))\n",
    "\n",
    "# community_1\n",
    "print(\"\\n*community_1 in age \")\n",
    "print(\"how many:\", len(age_1))\n",
    "print(\"mean:\", np.mean(age_1))\n",
    "print(\"variance:\", np.var(age_1))\n",
    "print(\"std:\", np.std(age_1))\n",
    "\n",
    "# community_2\n",
    "print(\"\\n*community_2 in age \")\n",
    "print(\"how many:\", len(age_2))\n",
    "print(\"mean:\", np.mean(age_2))\n",
    "print(\"variance:\", np.var(age_2))\n",
    "print(\"std:\", np.std(age_2))\n"
   ]
  },
  {
   "cell_type": "markdown",
   "id": "7ef18c11",
   "metadata": {},
   "source": [
    "* ANOVA requires homogeneous variance -> Levene's test for the verification."
   ]
  },
  {
   "cell_type": "markdown",
   "id": "e109ab5e",
   "metadata": {},
   "source": [
    "### Levene's test"
   ]
  },
  {
   "cell_type": "code",
   "execution_count": 81,
   "id": "4d4fc532",
   "metadata": {},
   "outputs": [],
   "source": [
    "import scipy.stats as stats"
   ]
  },
  {
   "cell_type": "code",
   "execution_count": 82,
   "id": "ebdf4fb4",
   "metadata": {},
   "outputs": [
    {
     "name": "stdout",
     "output_type": "stream",
     "text": [
      "Levene's Test Statistic: 11.03682369513849\n",
      "P-value: 1.6435024438632498e-05\n",
      "Reject the null hypothesis. There is evidence of unequal variances.\n"
     ]
    }
   ],
   "source": [
    "# Age\n",
    "\n",
    "# Assuming you have your data in separate groups\n",
    "age_0\n",
    "age_1\n",
    "age_2\n",
    "\n",
    "\n",
    "# Perform Levene's test\n",
    "statistic, p_value = stats.levene(age_0, age_1, age_2)\n",
    "\n",
    "# Print the results\n",
    "print(\"Levene's Test Statistic:\", statistic)\n",
    "print(\"P-value:\", p_value)\n",
    "\n",
    "# Check the p-value against the significance level (commonly 0.05)\n",
    "if p_value < 0.05:\n",
    "    print(\"Reject the null hypothesis. There is evidence of unequal variances.\")\n",
    "else:\n",
    "    print(\"Fail to reject the null hypothesis. Variances are likely homogeneous.\")\n"
   ]
  },
  {
   "cell_type": "code",
   "execution_count": 83,
   "id": "e4ad40aa",
   "metadata": {},
   "outputs": [
    {
     "data": {
      "text/plain": [
       "id_case\n",
       "200022    37\n",
       "200084    37\n",
       "200121    37\n",
       "200138    55\n",
       "200152    30\n",
       "Name: PRE_age, dtype: int64"
      ]
     },
     "execution_count": 83,
     "metadata": {},
     "output_type": "execute_result"
    }
   ],
   "source": [
    "age_0[:5]"
   ]
  },
  {
   "cell_type": "markdown",
   "id": "bd0117cd",
   "metadata": {},
   "source": [
    "**NOT suitable for the ANOVA because the variances are not homogeneous\", -> Welch's ANOVA**"
   ]
  },
  {
   "cell_type": "markdown",
   "id": "1e685861",
   "metadata": {},
   "source": [
    "###  Welch's ANOVA"
   ]
  },
  {
   "cell_type": "code",
   "execution_count": 84,
   "id": "5fa53e91",
   "metadata": {},
   "outputs": [],
   "source": [
    "# prepare each df with the community label information\n",
    "df_com0 = pd.DataFrame({'age': age_0, 'community': 0})\n",
    "df_com1 = pd.DataFrame({'age': age_1, 'community': 1})\n",
    "df_com2 = pd.DataFrame({'age': age_2, 'community': 2})"
   ]
  },
  {
   "cell_type": "code",
   "execution_count": 85,
   "id": "273efcf2",
   "metadata": {},
   "outputs": [],
   "source": [
    "df = pd.concat([df_com0, df_com1, df_com2]).reset_index(drop = True)"
   ]
  },
  {
   "cell_type": "code",
   "execution_count": 87,
   "id": "c12223a7-31b5-438f-8a8c-7aa2c79f3287",
   "metadata": {},
   "outputs": [
    {
     "name": "stdout",
     "output_type": "stream",
     "text": [
      "Collecting pingouin\n",
      "  Downloading pingouin-0.5.5-py3-none-any.whl.metadata (19 kB)\n",
      "Requirement already satisfied: matplotlib in /Users/gytkd/Desktop/Backup-Thesis/myenv/lib/python3.9/site-packages (from pingouin) (3.9.2)\n",
      "Requirement already satisfied: numpy in /Users/gytkd/Desktop/Backup-Thesis/myenv/lib/python3.9/site-packages (from pingouin) (1.26.4)\n",
      "Requirement already satisfied: pandas>=1.5 in /Users/gytkd/Desktop/Backup-Thesis/myenv/lib/python3.9/site-packages (from pingouin) (2.2.2)\n",
      "Collecting pandas-flavor (from pingouin)\n",
      "  Downloading pandas_flavor-0.6.0-py3-none-any.whl.metadata (6.3 kB)\n",
      "Requirement already satisfied: scikit-learn>=1.2 in /Users/gytkd/Desktop/Backup-Thesis/myenv/lib/python3.9/site-packages (from pingouin) (1.5.2)\n",
      "Requirement already satisfied: scipy in /Users/gytkd/Desktop/Backup-Thesis/myenv/lib/python3.9/site-packages (from pingouin) (1.13.1)\n",
      "Requirement already satisfied: seaborn in /Users/gytkd/Desktop/Backup-Thesis/myenv/lib/python3.9/site-packages (from pingouin) (0.13.2)\n",
      "Requirement already satisfied: statsmodels in /Users/gytkd/Desktop/Backup-Thesis/myenv/lib/python3.9/site-packages (from pingouin) (0.14.2)\n",
      "Collecting tabulate (from pingouin)\n",
      "  Downloading tabulate-0.9.0-py3-none-any.whl.metadata (34 kB)\n",
      "Requirement already satisfied: python-dateutil>=2.8.2 in /Users/gytkd/Desktop/Backup-Thesis/myenv/lib/python3.9/site-packages (from pandas>=1.5->pingouin) (2.9.0.post0)\n",
      "Requirement already satisfied: pytz>=2020.1 in /Users/gytkd/Desktop/Backup-Thesis/myenv/lib/python3.9/site-packages (from pandas>=1.5->pingouin) (2024.2)\n",
      "Requirement already satisfied: tzdata>=2022.7 in /Users/gytkd/Desktop/Backup-Thesis/myenv/lib/python3.9/site-packages (from pandas>=1.5->pingouin) (2024.1)\n",
      "Requirement already satisfied: joblib>=1.2.0 in /Users/gytkd/Desktop/Backup-Thesis/myenv/lib/python3.9/site-packages (from scikit-learn>=1.2->pingouin) (1.4.2)\n",
      "Requirement already satisfied: threadpoolctl>=3.1.0 in /Users/gytkd/Desktop/Backup-Thesis/myenv/lib/python3.9/site-packages (from scikit-learn>=1.2->pingouin) (3.5.0)\n",
      "Requirement already satisfied: contourpy>=1.0.1 in /Users/gytkd/Desktop/Backup-Thesis/myenv/lib/python3.9/site-packages (from matplotlib->pingouin) (1.3.0)\n",
      "Requirement already satisfied: cycler>=0.10 in /Users/gytkd/Desktop/Backup-Thesis/myenv/lib/python3.9/site-packages (from matplotlib->pingouin) (0.12.1)\n",
      "Requirement already satisfied: fonttools>=4.22.0 in /Users/gytkd/Desktop/Backup-Thesis/myenv/lib/python3.9/site-packages (from matplotlib->pingouin) (4.53.1)\n",
      "Requirement already satisfied: kiwisolver>=1.3.1 in /Users/gytkd/Desktop/Backup-Thesis/myenv/lib/python3.9/site-packages (from matplotlib->pingouin) (1.4.7)\n",
      "Requirement already satisfied: packaging>=20.0 in /Users/gytkd/Desktop/Backup-Thesis/myenv/lib/python3.9/site-packages (from matplotlib->pingouin) (24.1)\n",
      "Requirement already satisfied: pillow>=8 in /Users/gytkd/Desktop/Backup-Thesis/myenv/lib/python3.9/site-packages (from matplotlib->pingouin) (10.4.0)\n",
      "Requirement already satisfied: pyparsing>=2.3.1 in /Users/gytkd/Desktop/Backup-Thesis/myenv/lib/python3.9/site-packages (from matplotlib->pingouin) (3.1.4)\n",
      "Requirement already satisfied: importlib-resources>=3.2.0 in /Users/gytkd/Desktop/Backup-Thesis/myenv/lib/python3.9/site-packages (from matplotlib->pingouin) (6.4.5)\n",
      "Collecting xarray (from pandas-flavor->pingouin)\n",
      "  Downloading xarray-2024.7.0-py3-none-any.whl.metadata (11 kB)\n",
      "Requirement already satisfied: patsy>=0.5.6 in /Users/gytkd/Desktop/Backup-Thesis/myenv/lib/python3.9/site-packages (from statsmodels->pingouin) (0.5.6)\n",
      "Requirement already satisfied: zipp>=3.1.0 in /Users/gytkd/Desktop/Backup-Thesis/myenv/lib/python3.9/site-packages (from importlib-resources>=3.2.0->matplotlib->pingouin) (3.20.1)\n",
      "Requirement already satisfied: six in /Users/gytkd/Desktop/Backup-Thesis/myenv/lib/python3.9/site-packages (from patsy>=0.5.6->statsmodels->pingouin) (1.16.0)\n",
      "Downloading pingouin-0.5.5-py3-none-any.whl (204 kB)\n",
      "Downloading pandas_flavor-0.6.0-py3-none-any.whl (7.2 kB)\n",
      "Downloading tabulate-0.9.0-py3-none-any.whl (35 kB)\n",
      "Downloading xarray-2024.7.0-py3-none-any.whl (1.2 MB)\n",
      "\u001b[2K   \u001b[38;2;114;156;31m━━━━━━━━━━━━━━━━━━━━━━━━━━━━━━━━━━━━━━━━\u001b[0m \u001b[32m1.2/1.2 MB\u001b[0m \u001b[31m12.2 MB/s\u001b[0m eta \u001b[36m0:00:00\u001b[0m\n",
      "\u001b[?25hInstalling collected packages: tabulate, xarray, pandas-flavor, pingouin\n",
      "Successfully installed pandas-flavor-0.6.0 pingouin-0.5.5 tabulate-0.9.0 xarray-2024.7.0\n",
      "Note: you may need to restart the kernel to use updated packages.\n"
     ]
    }
   ],
   "source": [
    "%pip install pingouin"
   ]
  },
  {
   "cell_type": "code",
   "execution_count": 88,
   "id": "a3ee157e",
   "metadata": {
    "scrolled": true
   },
   "outputs": [
    {
     "data": {
      "text/html": [
       "<div>\n",
       "<style scoped>\n",
       "    .dataframe tbody tr th:only-of-type {\n",
       "        vertical-align: middle;\n",
       "    }\n",
       "\n",
       "    .dataframe tbody tr th {\n",
       "        vertical-align: top;\n",
       "    }\n",
       "\n",
       "    .dataframe thead th {\n",
       "        text-align: right;\n",
       "    }\n",
       "</style>\n",
       "<table border=\"1\" class=\"dataframe\">\n",
       "  <thead>\n",
       "    <tr style=\"text-align: right;\">\n",
       "      <th></th>\n",
       "      <th>Source</th>\n",
       "      <th>ddof1</th>\n",
       "      <th>ddof2</th>\n",
       "      <th>F</th>\n",
       "      <th>p-unc</th>\n",
       "      <th>np2</th>\n",
       "    </tr>\n",
       "  </thead>\n",
       "  <tbody>\n",
       "    <tr>\n",
       "      <th>0</th>\n",
       "      <td>community</td>\n",
       "      <td>2</td>\n",
       "      <td>2969.207802</td>\n",
       "      <td>103.044652</td>\n",
       "      <td>5.408025e-44</td>\n",
       "      <td>0.035675</td>\n",
       "    </tr>\n",
       "  </tbody>\n",
       "</table>\n",
       "</div>"
      ],
      "text/plain": [
       "      Source  ddof1        ddof2           F         p-unc       np2\n",
       "0  community      2  2969.207802  103.044652  5.408025e-44  0.035675"
      ]
     },
     "execution_count": 88,
     "metadata": {},
     "output_type": "execute_result"
    }
   ],
   "source": [
    "import pingouin as pg \n",
    "  \n",
    "# perform Welch's ANOVA \n",
    "pg.welch_anova(dv='age', between='community', data=df) "
   ]
  },
  {
   "cell_type": "markdown",
   "id": "12ee036b",
   "metadata": {},
   "source": [
    "\n",
    "**Result**:This extremely small **p-value(group PR(>F))** indicates a **highly significant difference** between the means of the two groups."
   ]
  },
  {
   "cell_type": "markdown",
   "id": "7fcb564f",
   "metadata": {},
   "source": [
    "### Post-hoc ANOVA: Games-Howell test"
   ]
  },
  {
   "cell_type": "code",
   "execution_count": 89,
   "id": "04c6d2da",
   "metadata": {},
   "outputs": [],
   "source": [
    "posthoc_results = pg.pairwise_gameshowell(dv = 'age', between = 'community', data = df)"
   ]
  },
  {
   "cell_type": "code",
   "execution_count": 90,
   "id": "ff80c0cb",
   "metadata": {},
   "outputs": [
    {
     "name": "stdout",
     "output_type": "stream",
     "text": [
      "\n",
      "Games-Howell Post-Hoc Test Results:\n",
      "Comparison: Group 0.0 vs Group 1.0\n",
      "  Mean of Group 0.0: 45.004\n",
      "  Mean of Group 1.0: 54.301\n",
      "  Mean Difference (Group 0.0 - Group 1.0): -9.297\n",
      "  Standard Error: 0.687\n",
      "  T-Statistic: -13.541\n",
      "  Degrees of Freedom: 2363.351\n",
      "  p-value: 1.3156e-13\n",
      "  Hedges' g: -0.462\n",
      "--------------------------------------------------\n",
      "Comparison: Group 0.0 vs Group 2.0\n",
      "  Mean of Group 0.0: 45.004\n",
      "  Mean of Group 2.0: 49.010\n",
      "  Mean Difference (Group 0.0 - Group 2.0): -4.005\n",
      "  Standard Error: 0.768\n",
      "  T-Statistic: -5.213\n",
      "  Degrees of Freedom: 2727.788\n",
      "  p-value: 5.9639e-07\n",
      "  Hedges' g: -0.196\n",
      "--------------------------------------------------\n",
      "Comparison: Group 1.0 vs Group 2.0\n",
      "  Mean of Group 1.0: 54.301\n",
      "  Mean of Group 2.0: 49.010\n",
      "  Mean Difference (Group 1.0 - Group 2.0): 5.292\n",
      "  Standard Error: 0.611\n",
      "  T-Statistic: 8.657\n",
      "  Degrees of Freedom: 3130.360\n",
      "  p-value: 0.0000e+00\n",
      "  Hedges' g: 0.271\n",
      "--------------------------------------------------\n"
     ]
    }
   ],
   "source": [
    "# Better formatted print for Games-Howell results\n",
    "print(\"\\nGames-Howell Post-Hoc Test Results:\")\n",
    "for index, row in posthoc_results.iterrows():\n",
    "    print(f\"Comparison: Group {row['A']} vs Group {row['B']}\")\n",
    "    print(f\"  Mean of Group {row['A']}: {row['mean(A)']:.3f}\")\n",
    "    print(f\"  Mean of Group {row['B']}: {row['mean(B)']:.3f}\")\n",
    "    print(f\"  Mean Difference (Group {row['A']} - Group {row['B']}): {row['diff']:.3f}\")\n",
    "    print(f\"  Standard Error: {row['se']:.3f}\")\n",
    "    print(f\"  T-Statistic: {row['T']:.3f}\")\n",
    "    print(f\"  Degrees of Freedom: {row['df']:.3f}\")\n",
    "    print(f\"  p-value: {row['pval']:.4e}\")\n",
    "    print(f\"  Hedges' g: {row['hedges']:.3f}\")\n",
    "    print(\"-\" * 50)"
   ]
  },
  {
   "cell_type": "markdown",
   "id": "5eefe15c",
   "metadata": {},
   "source": [
    "### Post-hoc analysis: standardized residuals"
   ]
  },
  {
   "cell_type": "code",
   "execution_count": 91,
   "id": "2386a71c",
   "metadata": {},
   "outputs": [
    {
     "name": "stdout",
     "output_type": "stream",
     "text": [
      "\n",
      "Standardized Residuals by Group:\n",
      "\n",
      "Group 0:\n",
      "   age   residual  standardized_residual\n",
      "0   37  -8.004488              -0.401139\n",
      "1   37  -8.004488              -0.401139\n",
      "2   37  -8.004488              -0.401139\n",
      "3   55   9.995512               0.500918\n",
      "4   30 -15.004488              -0.751939\n",
      "\n",
      "Group 1:\n",
      "      age   residual  standardized_residual\n",
      "1337   40 -14.301209              -0.716694\n",
      "1338   41 -13.301209              -0.666580\n",
      "1339   72  17.698791               0.886962\n",
      "1340   71  16.698791               0.836847\n",
      "1341   43 -11.301209              -0.566352\n",
      "\n",
      "Group 2:\n",
      "      age   residual  standardized_residual\n",
      "4315   54   4.990323               0.250086\n",
      "4316   80  30.990323               1.553057\n",
      "4317   24 -25.009677              -1.253341\n",
      "4318   73  23.990323               1.202257\n",
      "4319   50   0.990323               0.049629\n",
      "\n",
      "Summary of Standardized Residuals by Group:\n",
      "            count          mean       std       min       25%       50%  \\\n",
      "community                                                                 \n",
      "0          1337.0  1.275469e-16  1.074682 -2.706394 -0.651710 -0.000225   \n",
      "1          2978.0 -6.680724e-17  0.976076 -3.172292 -0.616466  0.235476   \n",
      "2          1550.0  7.334635e-17  0.979038 -2.907111 -0.651970  0.049629   \n",
      "\n",
      "                75%       max  \n",
      "community                      \n",
      "0          0.851717  1.753774  \n",
      "1          0.736619  1.287876  \n",
      "2          0.751229  1.553057  \n"
     ]
    }
   ],
   "source": [
    "# Calculate the group means\n",
    "group_means = df.groupby('community')['age'].mean()\n",
    "\n",
    "# Calculate residuals for each observation\n",
    "df['residual'] = df.apply(lambda row: row['age'] - group_means[row['community']], axis=1)\n",
    "\n",
    "# Calculate the standard deviation of the residuals\n",
    "residual_std = np.std(df['residual'], ddof=1)\n",
    "\n",
    "# Calculate standardized residuals\n",
    "df['standardized_residual'] = df['residual'] / residual_std\n",
    "\n",
    "# Display standardized residuals by group\n",
    "print(\"\\nStandardized Residuals by Group:\")\n",
    "for group, data in df.groupby('community'):\n",
    "    print(f\"\\nGroup {group}:\")\n",
    "    print(data[['age', 'residual', 'standardized_residual']].head())  # Show top few rows for each group\n",
    "\n",
    "# Summary statistics of standardized residuals by group\n",
    "print(\"\\nSummary of Standardized Residuals by Group:\")\n",
    "print(df.groupby('community')['standardized_residual'].describe())"
   ]
  },
  {
   "cell_type": "markdown",
   "id": "91787b78",
   "metadata": {},
   "source": [
    "**Interpretation**\n",
    "* The lack of extreme standardized_residuals |value| > 2 means that while there are some extreme values but outliers are not found. \n",
    "* The residuals' spread is slightly different, but the distributions are not drastically different. "
   ]
  },
  {
   "cell_type": "markdown",
   "id": "c46075c9",
   "metadata": {},
   "source": [
    "## Chi-square test for categorical variable\n",
    "- one variable: feature, the other one: label"
   ]
  },
  {
   "cell_type": "code",
   "execution_count": 92,
   "id": "dfa2f468",
   "metadata": {},
   "outputs": [],
   "source": [
    "# Create a dataframe with participants id and their community label\n",
    "label_0 = pd.DataFrame(data= [0 for i in range(len(communities['zero']))], index = list(communities['zero']))\n",
    "label_1 = pd.DataFrame(data= [1 for i in range(len(communities['one']))], index = list(communities['one']))\n",
    "label_2 = pd.DataFrame(data = [2 for i in range(len(communities['two']))], index = list(communities['two']) )"
   ]
  },
  {
   "cell_type": "code",
   "execution_count": 93,
   "id": "17c0a849",
   "metadata": {},
   "outputs": [
    {
     "name": "stdout",
     "output_type": "stream",
     "text": [
      "1337 2978 1550\n"
     ]
    }
   ],
   "source": [
    "print(len(label_0), len(label_1), len(label_2))"
   ]
  },
  {
   "cell_type": "code",
   "execution_count": 94,
   "id": "c5d379d7",
   "metadata": {},
   "outputs": [
    {
     "data": {
      "text/html": [
       "<div>\n",
       "<style scoped>\n",
       "    .dataframe tbody tr th:only-of-type {\n",
       "        vertical-align: middle;\n",
       "    }\n",
       "\n",
       "    .dataframe tbody tr th {\n",
       "        vertical-align: top;\n",
       "    }\n",
       "\n",
       "    .dataframe thead th {\n",
       "        text-align: right;\n",
       "    }\n",
       "</style>\n",
       "<table border=\"1\" class=\"dataframe\">\n",
       "  <thead>\n",
       "    <tr style=\"text-align: right;\">\n",
       "      <th></th>\n",
       "      <th>0</th>\n",
       "    </tr>\n",
       "  </thead>\n",
       "  <tbody>\n",
       "    <tr>\n",
       "      <th>200022</th>\n",
       "      <td>0</td>\n",
       "    </tr>\n",
       "    <tr>\n",
       "      <th>200084</th>\n",
       "      <td>0</td>\n",
       "    </tr>\n",
       "    <tr>\n",
       "      <th>200121</th>\n",
       "      <td>0</td>\n",
       "    </tr>\n",
       "    <tr>\n",
       "      <th>200138</th>\n",
       "      <td>0</td>\n",
       "    </tr>\n",
       "    <tr>\n",
       "      <th>200152</th>\n",
       "      <td>0</td>\n",
       "    </tr>\n",
       "    <tr>\n",
       "      <th>...</th>\n",
       "      <td>...</td>\n",
       "    </tr>\n",
       "    <tr>\n",
       "      <th>534008</th>\n",
       "      <td>0</td>\n",
       "    </tr>\n",
       "    <tr>\n",
       "      <th>534367</th>\n",
       "      <td>0</td>\n",
       "    </tr>\n",
       "    <tr>\n",
       "      <th>534633</th>\n",
       "      <td>0</td>\n",
       "    </tr>\n",
       "    <tr>\n",
       "      <th>534992</th>\n",
       "      <td>0</td>\n",
       "    </tr>\n",
       "    <tr>\n",
       "      <th>535254</th>\n",
       "      <td>0</td>\n",
       "    </tr>\n",
       "  </tbody>\n",
       "</table>\n",
       "<p>1337 rows × 1 columns</p>\n",
       "</div>"
      ],
      "text/plain": [
       "        0\n",
       "200022  0\n",
       "200084  0\n",
       "200121  0\n",
       "200138  0\n",
       "200152  0\n",
       "...    ..\n",
       "534008  0\n",
       "534367  0\n",
       "534633  0\n",
       "534992  0\n",
       "535254  0\n",
       "\n",
       "[1337 rows x 1 columns]"
      ]
     },
     "execution_count": 94,
     "metadata": {},
     "output_type": "execute_result"
    }
   ],
   "source": [
    "label_0"
   ]
  },
  {
   "cell_type": "code",
   "execution_count": 95,
   "id": "3d904aa5",
   "metadata": {
    "scrolled": true
   },
   "outputs": [],
   "source": [
    "# it will give the index into a new column, and setting the index numerically aligned. \n",
    "label_0 = label_0.reset_index()\n",
    "label_1 = label_1.reset_index()\n",
    "label_2 = label_2.reset_index()"
   ]
  },
  {
   "cell_type": "code",
   "execution_count": 96,
   "id": "efd3ba79",
   "metadata": {},
   "outputs": [],
   "source": [
    "labels = pd.concat([label_0, label_1, label_2], axis = 0, ignore_index = True)\n",
    "labels = labels.rename(columns = { 0 : 'label'})"
   ]
  },
  {
   "cell_type": "code",
   "execution_count": 97,
   "id": "c890d998",
   "metadata": {},
   "outputs": [
    {
     "data": {
      "text/html": [
       "<div>\n",
       "<style scoped>\n",
       "    .dataframe tbody tr th:only-of-type {\n",
       "        vertical-align: middle;\n",
       "    }\n",
       "\n",
       "    .dataframe tbody tr th {\n",
       "        vertical-align: top;\n",
       "    }\n",
       "\n",
       "    .dataframe thead th {\n",
       "        text-align: right;\n",
       "    }\n",
       "</style>\n",
       "<table border=\"1\" class=\"dataframe\">\n",
       "  <thead>\n",
       "    <tr style=\"text-align: right;\">\n",
       "      <th></th>\n",
       "      <th>index</th>\n",
       "      <th>label</th>\n",
       "    </tr>\n",
       "  </thead>\n",
       "  <tbody>\n",
       "    <tr>\n",
       "      <th>0</th>\n",
       "      <td>200022</td>\n",
       "      <td>0</td>\n",
       "    </tr>\n",
       "    <tr>\n",
       "      <th>1</th>\n",
       "      <td>200084</td>\n",
       "      <td>0</td>\n",
       "    </tr>\n",
       "    <tr>\n",
       "      <th>2</th>\n",
       "      <td>200121</td>\n",
       "      <td>0</td>\n",
       "    </tr>\n",
       "    <tr>\n",
       "      <th>3</th>\n",
       "      <td>200138</td>\n",
       "      <td>0</td>\n",
       "    </tr>\n",
       "    <tr>\n",
       "      <th>4</th>\n",
       "      <td>200152</td>\n",
       "      <td>0</td>\n",
       "    </tr>\n",
       "    <tr>\n",
       "      <th>...</th>\n",
       "      <td>...</td>\n",
       "      <td>...</td>\n",
       "    </tr>\n",
       "    <tr>\n",
       "      <th>5860</th>\n",
       "      <td>533265</td>\n",
       "      <td>2</td>\n",
       "    </tr>\n",
       "    <tr>\n",
       "      <th>5861</th>\n",
       "      <td>533289</td>\n",
       "      <td>2</td>\n",
       "    </tr>\n",
       "    <tr>\n",
       "      <th>5862</th>\n",
       "      <td>534589</td>\n",
       "      <td>2</td>\n",
       "    </tr>\n",
       "    <tr>\n",
       "      <th>5863</th>\n",
       "      <td>534640</td>\n",
       "      <td>2</td>\n",
       "    </tr>\n",
       "    <tr>\n",
       "      <th>5864</th>\n",
       "      <td>534725</td>\n",
       "      <td>2</td>\n",
       "    </tr>\n",
       "  </tbody>\n",
       "</table>\n",
       "<p>5865 rows × 2 columns</p>\n",
       "</div>"
      ],
      "text/plain": [
       "       index  label\n",
       "0     200022      0\n",
       "1     200084      0\n",
       "2     200121      0\n",
       "3     200138      0\n",
       "4     200152      0\n",
       "...      ...    ...\n",
       "5860  533265      2\n",
       "5861  533289      2\n",
       "5862  534589      2\n",
       "5863  534640      2\n",
       "5864  534725      2\n",
       "\n",
       "[5865 rows x 2 columns]"
      ]
     },
     "execution_count": 97,
     "metadata": {},
     "output_type": "execute_result"
    }
   ],
   "source": [
    "labels"
   ]
  },
  {
   "cell_type": "markdown",
   "id": "e5baeb87",
   "metadata": {},
   "source": [
    "**calculate expected frequencies**"
   ]
  },
  {
   "cell_type": "code",
   "execution_count": 98,
   "id": "d1cd70f3",
   "metadata": {},
   "outputs": [],
   "source": [
    "# Sort the column 'index' into alphabetical order\n",
    "labels = labels.sort_values(by='index')\n",
    "labels = labels.reset_index()\n",
    "labels = labels[['index', 'label']]"
   ]
  },
  {
   "cell_type": "code",
   "execution_count": 99,
   "id": "b5062758",
   "metadata": {},
   "outputs": [
    {
     "data": {
      "text/plain": [
       "id_case\n",
       "200022    2\n",
       "200039    2\n",
       "200046    1\n",
       "200053    1\n",
       "200060    2\n",
       "         ..\n",
       "535292    2\n",
       "535308    2\n",
       "535360    2\n",
       "535414    1\n",
       "535469    2\n",
       "Name: PRE_sex, Length: 5952, dtype: int64"
      ]
     },
     "execution_count": 99,
     "metadata": {},
     "output_type": "execute_result"
    }
   ],
   "source": [
    "sex"
   ]
  },
  {
   "cell_type": "code",
   "execution_count": 100,
   "id": "626746e6",
   "metadata": {},
   "outputs": [],
   "source": [
    "# Sort the dataframe into alphabetical order\n",
    "sex = sex.reset_index()\n",
    "sex = sex.sort_values(by = 'id_case')\n",
    "\n",
    "politics = politics.reset_index()\n",
    "politics = politics.sort_values(by = 'id_case')\n",
    "\n",
    "education = education.reset_index()\n",
    "education = education.sort_values(by = 'id_case')\n",
    "\n",
    "job = job.reset_index()\n",
    "job = job.sort_values(by = 'id_case')\n",
    "\n",
    "religion = religion.reset_index()\n",
    "religion = religion.sort_values(by = 'id_case')"
   ]
  },
  {
   "cell_type": "code",
   "execution_count": 101,
   "id": "8c70b5f1",
   "metadata": {},
   "outputs": [
    {
     "data": {
      "text/html": [
       "<div>\n",
       "<style scoped>\n",
       "    .dataframe tbody tr th:only-of-type {\n",
       "        vertical-align: middle;\n",
       "    }\n",
       "\n",
       "    .dataframe tbody tr th {\n",
       "        vertical-align: top;\n",
       "    }\n",
       "\n",
       "    .dataframe thead th {\n",
       "        text-align: right;\n",
       "    }\n",
       "</style>\n",
       "<table border=\"1\" class=\"dataframe\">\n",
       "  <thead>\n",
       "    <tr style=\"text-align: right;\">\n",
       "      <th></th>\n",
       "      <th>id_case</th>\n",
       "      <th>PRE_sex</th>\n",
       "    </tr>\n",
       "  </thead>\n",
       "  <tbody>\n",
       "    <tr>\n",
       "      <th>0</th>\n",
       "      <td>200022</td>\n",
       "      <td>2</td>\n",
       "    </tr>\n",
       "    <tr>\n",
       "      <th>1</th>\n",
       "      <td>200039</td>\n",
       "      <td>2</td>\n",
       "    </tr>\n",
       "    <tr>\n",
       "      <th>2</th>\n",
       "      <td>200046</td>\n",
       "      <td>1</td>\n",
       "    </tr>\n",
       "    <tr>\n",
       "      <th>3</th>\n",
       "      <td>200053</td>\n",
       "      <td>1</td>\n",
       "    </tr>\n",
       "    <tr>\n",
       "      <th>4</th>\n",
       "      <td>200060</td>\n",
       "      <td>2</td>\n",
       "    </tr>\n",
       "    <tr>\n",
       "      <th>...</th>\n",
       "      <td>...</td>\n",
       "      <td>...</td>\n",
       "    </tr>\n",
       "    <tr>\n",
       "      <th>5947</th>\n",
       "      <td>535292</td>\n",
       "      <td>2</td>\n",
       "    </tr>\n",
       "    <tr>\n",
       "      <th>5948</th>\n",
       "      <td>535308</td>\n",
       "      <td>2</td>\n",
       "    </tr>\n",
       "    <tr>\n",
       "      <th>5949</th>\n",
       "      <td>535360</td>\n",
       "      <td>2</td>\n",
       "    </tr>\n",
       "    <tr>\n",
       "      <th>5950</th>\n",
       "      <td>535414</td>\n",
       "      <td>1</td>\n",
       "    </tr>\n",
       "    <tr>\n",
       "      <th>5951</th>\n",
       "      <td>535469</td>\n",
       "      <td>2</td>\n",
       "    </tr>\n",
       "  </tbody>\n",
       "</table>\n",
       "<p>5952 rows × 2 columns</p>\n",
       "</div>"
      ],
      "text/plain": [
       "      id_case  PRE_sex\n",
       "0      200022        2\n",
       "1      200039        2\n",
       "2      200046        1\n",
       "3      200053        1\n",
       "4      200060        2\n",
       "...       ...      ...\n",
       "5947   535292        2\n",
       "5948   535308        2\n",
       "5949   535360        2\n",
       "5950   535414        1\n",
       "5951   535469        2\n",
       "\n",
       "[5952 rows x 2 columns]"
      ]
     },
     "execution_count": 101,
     "metadata": {},
     "output_type": "execute_result"
    }
   ],
   "source": [
    "sex"
   ]
  },
  {
   "cell_type": "code",
   "execution_count": 102,
   "id": "56c679b0",
   "metadata": {},
   "outputs": [],
   "source": [
    "# Only selects the participants that also remains in the labels' id_case info.\n",
    "sex = sex[sex['id_case'].isin(labels['index'])].reset_index()\n",
    "sex = sex[['id_case', 'PRE_sex']]\n",
    "\n",
    "politics = politics[politics['id_case'].isin(labels['index'])].reset_index()\n",
    "politics = politics[['id_case', 'POST_president']]\n",
    "\n",
    "education = education[education['id_case'].isin(labels['index'])].reset_index()\n",
    "education = education[['id_case', 'PRE_education']]\n",
    "\n",
    "job = job[job['id_case'].isin(labels['index'])].reset_index()\n",
    "job = job[['id_case', 'PRE_occupation']]\n",
    "\n",
    "religion = religion[religion['id_case'].isin(labels['index'])].reset_index()\n",
    "religion = religion[['id_case', 'PRE_present_religion']]"
   ]
  },
  {
   "cell_type": "code",
   "execution_count": 103,
   "id": "d0469552",
   "metadata": {},
   "outputs": [
    {
     "data": {
      "text/plain": [
       "label\n",
       "1    2978\n",
       "2    1550\n",
       "0    1337\n",
       "Name: count, dtype: int64"
      ]
     },
     "execution_count": 103,
     "metadata": {},
     "output_type": "execute_result"
    }
   ],
   "source": [
    "labels['label'].value_counts()"
   ]
  },
  {
   "cell_type": "code",
   "execution_count": 104,
   "id": "aee26baa",
   "metadata": {},
   "outputs": [
    {
     "name": "stdout",
     "output_type": "stream",
     "text": [
      "sex - not identical: 0\n"
     ]
    }
   ],
   "source": [
    "# check if the order of the particpant column is identical to the label column - sex\n",
    "cnt = 0\n",
    "for i in range(len(labels)): \n",
    "    if sex['id_case'].loc[i] == labels['index'].loc[i]: \n",
    "        pass\n",
    "    else:\n",
    "        cnt += 1\n",
    "print(\"sex - not identical:\", cnt)"
   ]
  },
  {
   "cell_type": "code",
   "execution_count": 105,
   "id": "0f96c45d",
   "metadata": {},
   "outputs": [
    {
     "name": "stdout",
     "output_type": "stream",
     "text": [
      "politics - not identical: 0\n"
     ]
    }
   ],
   "source": [
    "# check if the order of the particpant column is identical to the label column - politics\n",
    "cnt = 0\n",
    "for i in range(len(labels)): \n",
    "    if politics['id_case'].loc[i] == labels['index'].loc[i]: \n",
    "        pass\n",
    "    else:\n",
    "        cnt += 1\n",
    "print(\"politics - not identical:\", cnt)"
   ]
  },
  {
   "cell_type": "code",
   "execution_count": 106,
   "id": "4a2673b2",
   "metadata": {},
   "outputs": [
    {
     "name": "stdout",
     "output_type": "stream",
     "text": [
      "education - not identical: 0\n"
     ]
    }
   ],
   "source": [
    "# check if the order of the particpant column is identical to the label column - education\n",
    "cnt = 0\n",
    "for i in range(len(labels)): \n",
    "    if education['id_case'].loc[i] == labels['index'].loc[i]: \n",
    "        pass\n",
    "    else:\n",
    "        cnt += 1\n",
    "print(\"education - not identical:\", cnt)"
   ]
  },
  {
   "cell_type": "code",
   "execution_count": 107,
   "id": "495b7cc9",
   "metadata": {},
   "outputs": [
    {
     "name": "stdout",
     "output_type": "stream",
     "text": [
      "employment - not identical: 0\n"
     ]
    }
   ],
   "source": [
    "# check if the order of the particpant column is identical to the label column - employment\n",
    "cnt = 0\n",
    "for i in range(len(labels)): \n",
    "    if job['id_case'].loc[i] == labels['index'].loc[i]: \n",
    "        pass\n",
    "    else:\n",
    "        cnt += 1\n",
    "print(\"employment - not identical:\", cnt)"
   ]
  },
  {
   "cell_type": "code",
   "execution_count": 108,
   "id": "c1373c73",
   "metadata": {},
   "outputs": [
    {
     "name": "stdout",
     "output_type": "stream",
     "text": [
      "religion - not identical: 0\n"
     ]
    }
   ],
   "source": [
    "# check if the order of the particpant column is identical to the label column - income\n",
    "cnt = 0\n",
    "for i in range(len(labels)): \n",
    "    if religion['id_case'].loc[i] == labels['index'].loc[i]: \n",
    "        pass\n",
    "    else:\n",
    "        cnt += 1\n",
    "print(\"religion - not identical:\", cnt)"
   ]
  },
  {
   "cell_type": "code",
   "execution_count": 109,
   "id": "ba6a3d32",
   "metadata": {},
   "outputs": [],
   "source": [
    "from scipy.stats import chi2_contingency"
   ]
  },
  {
   "cell_type": "markdown",
   "id": "f767d42e",
   "metadata": {},
   "source": [
    "### SEX"
   ]
  },
  {
   "cell_type": "code",
   "execution_count": 110,
   "id": "cb5200a1",
   "metadata": {},
   "outputs": [
    {
     "data": {
      "text/plain": [
       "PRE_sex\n",
       " 2    3186\n",
       " 1    2643\n",
       "-9      36\n",
       "Name: count, dtype: int64"
      ]
     },
     "execution_count": 110,
     "metadata": {},
     "output_type": "execute_result"
    }
   ],
   "source": [
    "sex['PRE_sex'].value_counts()"
   ]
  },
  {
   "cell_type": "markdown",
   "id": "90c0c672",
   "metadata": {},
   "source": [
    "### Check the expected frequency\n",
    "* It is supposed to be, Every cell > 0, 80% of the cells >= 5"
   ]
  },
  {
   "cell_type": "code",
   "execution_count": 111,
   "id": "7445a6a0",
   "metadata": {},
   "outputs": [],
   "source": [
    "# Create a contingency table\n",
    "contingency_table = pd.crosstab(sex['PRE_sex'], labels['label'])"
   ]
  },
  {
   "cell_type": "code",
   "execution_count": 112,
   "id": "1d0b34c4",
   "metadata": {},
   "outputs": [
    {
     "data": {
      "text/html": [
       "<div>\n",
       "<style scoped>\n",
       "    .dataframe tbody tr th:only-of-type {\n",
       "        vertical-align: middle;\n",
       "    }\n",
       "\n",
       "    .dataframe tbody tr th {\n",
       "        vertical-align: top;\n",
       "    }\n",
       "\n",
       "    .dataframe thead th {\n",
       "        text-align: right;\n",
       "    }\n",
       "</style>\n",
       "<table border=\"1\" class=\"dataframe\">\n",
       "  <thead>\n",
       "    <tr style=\"text-align: right;\">\n",
       "      <th>label</th>\n",
       "      <th>0</th>\n",
       "      <th>1</th>\n",
       "      <th>2</th>\n",
       "    </tr>\n",
       "    <tr>\n",
       "      <th>PRE_sex</th>\n",
       "      <th></th>\n",
       "      <th></th>\n",
       "      <th></th>\n",
       "    </tr>\n",
       "  </thead>\n",
       "  <tbody>\n",
       "    <tr>\n",
       "      <th>-9</th>\n",
       "      <td>11</td>\n",
       "      <td>14</td>\n",
       "      <td>11</td>\n",
       "    </tr>\n",
       "    <tr>\n",
       "      <th>1</th>\n",
       "      <td>569</td>\n",
       "      <td>1325</td>\n",
       "      <td>749</td>\n",
       "    </tr>\n",
       "    <tr>\n",
       "      <th>2</th>\n",
       "      <td>757</td>\n",
       "      <td>1639</td>\n",
       "      <td>790</td>\n",
       "    </tr>\n",
       "  </tbody>\n",
       "</table>\n",
       "</div>"
      ],
      "text/plain": [
       "label      0     1    2\n",
       "PRE_sex                \n",
       "-9        11    14   11\n",
       " 1       569  1325  749\n",
       " 2       757  1639  790"
      ]
     },
     "execution_count": 112,
     "metadata": {},
     "output_type": "execute_result"
    }
   ],
   "source": [
    "contingency_table.head()"
   ]
  },
  {
   "cell_type": "code",
   "execution_count": 113,
   "id": "6985358f",
   "metadata": {},
   "outputs": [],
   "source": [
    "contingency_table_filtered = contingency_table.loc[[1,2]]"
   ]
  },
  {
   "cell_type": "code",
   "execution_count": 114,
   "id": "5bce081e",
   "metadata": {
    "scrolled": true
   },
   "outputs": [
    {
     "name": "stdout",
     "output_type": "stream",
     "text": [
      "        Chi-Squared Test Results        \n",
      "========================================\n",
      "Test Statistic (Chi2):    10.5195\n",
      "Degrees of Freedom:       2\n",
      "p-value:                  5.1965e-03\n",
      "\n",
      "Expected Frequencies (rounded):\n",
      "label         0        1       2\n",
      "PRE_sex                         \n",
      "1        601.24  1343.94  697.82\n",
      "2        724.76  1620.06  841.18\n"
     ]
    }
   ],
   "source": [
    "# Perform the Chi-squared test\n",
    "chi2, p, dof, expected = chi2_contingency(contingency_table_filtered)\n",
    "\n",
    "# Print the results in a readable format\n",
    "print(f\"{'Chi-Squared Test Results':^40}\")\n",
    "print(\"=\"*40)\n",
    "print(f\"{'Test Statistic (Chi2):':<25} {chi2:.4f}\")\n",
    "print(f\"{'Degrees of Freedom:':<25} {dof}\")\n",
    "print(f\"{'p-value:':<25} {p:.4e}\")\n",
    "print(\"\\nExpected Frequencies (rounded):\")\n",
    "print(pd.DataFrame(expected, \n",
    "                   index=contingency_table_filtered.index, \n",
    "                   columns=contingency_table_filtered.columns).round(2))"
   ]
  },
  {
   "cell_type": "markdown",
   "id": "e8af68a7",
   "metadata": {},
   "source": [
    "### Influence of a label on the chi-square test: residuals calculations"
   ]
  },
  {
   "cell_type": "code",
   "execution_count": 115,
   "id": "32f8d337",
   "metadata": {},
   "outputs": [
    {
     "name": "stdout",
     "output_type": "stream",
     "text": [
      "        Chi-Squared Test Results        \n",
      "========================================\n",
      "Test Statistic (Chi2):    10.5195\n",
      "Degrees of Freedom:       2\n",
      "p-value:                  5.1965e-03\n",
      "\n",
      "Expected Frequencies (rounded):\n",
      "label         0        1       2\n",
      "PRE_sex                         \n",
      "1        601.24  1343.94  697.82\n",
      "2        724.76  1620.06  841.18\n",
      "\n",
      "Standardized Residuals:\n",
      "label       0     1     2\n",
      "PRE_sex                  \n",
      "1       -1.31 -0.52  1.94\n",
      "2        1.20  0.47 -1.76\n",
      "\n",
      "Extreme Standardized Residuals (|value| > 2):\n",
      "Empty DataFrame\n",
      "Columns: [0, 1, 2]\n",
      "Index: []\n"
     ]
    }
   ],
   "source": [
    "# Calculate the residuals\n",
    "residuals = contingency_table_filtered - expected\n",
    "\n",
    "# Standardize the residuals\n",
    "standardized_residuals = residuals / np.sqrt(expected)\n",
    "\n",
    "# Convert to DataFrame for better readability\n",
    "standardized_residuals_df = pd.DataFrame(standardized_residuals,\n",
    "                                         index=contingency_table_filtered.index,\n",
    "                                         columns=contingency_table_filtered.columns)\n",
    "\n",
    "# Print results\n",
    "print(f\"{'Chi-Squared Test Results':^40}\")\n",
    "print(\"=\"*40)\n",
    "print(f\"{'Test Statistic (Chi2):':<25} {chi2:.4f}\")\n",
    "print(f\"{'Degrees of Freedom:':<25} {dof}\")\n",
    "print(f\"{'p-value:':<25} {p:.4e}\")\n",
    "print(\"\\nExpected Frequencies (rounded):\")\n",
    "print(pd.DataFrame(expected, \n",
    "                   index=contingency_table_filtered.index, \n",
    "                   columns=contingency_table_filtered.columns).round(2))\n",
    "print(\"\\nStandardized Residuals:\")\n",
    "print(standardized_residuals_df.round(2))\n",
    "\n",
    "# Optional: if you want to see which residuals are extreme\n",
    "print(\"\\nExtreme Standardized Residuals (|value| > 2):\")\n",
    "print(standardized_residuals_df[standardized_residuals_df.abs() > 2].dropna(how='all'))\n"
   ]
  },
  {
   "cell_type": "markdown",
   "id": "acc1e926",
   "metadata": {},
   "source": [
    "**Result:**\n",
    "* Assumption: expected frequency is met\n",
    "* p is below 0.05 -> reject the null-hypothesis\n",
    "* The distribution of the feature(**sex**) **is significantly different** across different clusters. \n",
    "* The lack of extreme residuals(Empty DataFrame for the extreme standardized residuals |value| > 2) indicates that while there are significant differences overall, these differences are not driven by extreme deviations in specific cells."
   ]
  },
  {
   "cell_type": "markdown",
   "id": "5a17e143",
   "metadata": {},
   "source": [
    "### Pairwise Comparison with residuals interpretation"
   ]
  },
  {
   "cell_type": "code",
   "execution_count": 116,
   "id": "8e86d9e2",
   "metadata": {},
   "outputs": [],
   "source": [
    "import itertools\n",
    "from statsmodels.stats.multitest import multipletests"
   ]
  },
  {
   "cell_type": "code",
   "execution_count": 117,
   "id": "3fc7a91c",
   "metadata": {},
   "outputs": [],
   "source": [
    "# Get all unique pairs of columns (communities)\n",
    "pairs = list(itertools.combinations(contingency_table_filtered.columns, 2))\n",
    "\n",
    "# Store results for pairwise comparisons\n",
    "pairwise_results = []\n",
    "pairwise_residuals = {}"
   ]
  },
  {
   "cell_type": "code",
   "execution_count": 118,
   "id": "d166ad96",
   "metadata": {},
   "outputs": [],
   "source": [
    "# Perform pairwise chi-squared tests\n",
    "for pair in pairs:\n",
    "    # Create a contingency table for each pair of communities\n",
    "    pair_table = contingency_table_filtered.loc[:, pair]\n",
    "    \n",
    "    # Perform chi-squared test\n",
    "    chi2_pair, p_pair, dof_pair, expected = chi2_contingency(pair_table)\n",
    "    \n",
    "    # Calculate residuals and standardized residuals\n",
    "    residuals = pair_table - expected\n",
    "    standardized_residuals = residuals / np.sqrt(expected)\n",
    "    \n",
    "    # Append results\n",
    "    pairwise_results.append((pair, chi2_pair, p_pair))\n",
    "    pairwise_residuals[pair] = standardized_residuals"
   ]
  },
  {
   "cell_type": "code",
   "execution_count": 119,
   "id": "6cd9dc81",
   "metadata": {},
   "outputs": [],
   "source": [
    "# Extract p-values for correction\n",
    "p_values = [result[2] for result in pairwise_results]"
   ]
  },
  {
   "cell_type": "code",
   "execution_count": 120,
   "id": "ba8ecd55",
   "metadata": {},
   "outputs": [],
   "source": [
    "# Apply Bonferroni correction\n",
    "adjusted_p_values = multipletests(p_values, method='bonferroni')[1]"
   ]
  },
  {
   "cell_type": "code",
   "execution_count": 121,
   "id": "46d90617",
   "metadata": {
    "scrolled": true
   },
   "outputs": [
    {
     "name": "stdout",
     "output_type": "stream",
     "text": [
      "\n",
      "Pairwise Chi-Squared Test Results (with Bonferroni correction):\n",
      "=================================================================\n",
      "Community Pair           Chi2      p-value        Adj. p-value   \n",
      "-----------------------------------------------------------------\n",
      "(0, 1)                   1.1217    2.8956e-01     8.6867e-01     \n",
      "(0, 2)                   9.2732    2.3253e-03     6.9758e-03     \n",
      "(1, 2)                   6.2511    1.2411e-02     3.7234e-02     \n"
     ]
    }
   ],
   "source": [
    "# Print pairwise results with adjusted p-values\n",
    "print(\"\\nPairwise Chi-Squared Test Results (with Bonferroni correction):\")\n",
    "print(\"=\"*65)\n",
    "print(f\"{'Community Pair':<25}{'Chi2':<10}{'p-value':<15}{'Adj. p-value':<15}\")\n",
    "print(\"-\"*65)\n",
    "\n",
    "for i, (pair, chi2_pair, p_pair) in enumerate(pairwise_results):\n",
    "    print(f\"{str(pair):<25}{chi2_pair:<10.4f}{p_pair:<15.4e}{adjusted_p_values[i]:<15.4e}\")"
   ]
  },
  {
   "cell_type": "markdown",
   "id": "af9eab0d",
   "metadata": {},
   "source": [
    "* Result: Comparing pairwise, \n",
    "    * (0, 1) community: adjusted p-value is 0.868 >> 0.05 --- no difference significantly\n",
    "    * (0, 2) community: adjusted p-value is 0.006976 << 0.05 --- significant difference\n",
    "    * (1, 2) community: adjusted p-value is 0.037 < 0.05 --- significant difference"
   ]
  },
  {
   "cell_type": "code",
   "execution_count": 122,
   "id": "ec015b9f",
   "metadata": {},
   "outputs": [
    {
     "name": "stdout",
     "output_type": "stream",
     "text": [
      "\n",
      "Standardized Residuals for Each Pairwise Comparison:\n",
      "\n",
      "Pair: (0, 1)\n",
      "            0     1\n",
      "PRE_sex            \n",
      "1       -0.68  0.45\n",
      "2        0.60 -0.40\n",
      "\n",
      "Pair: (0, 2)\n",
      "            0     2\n",
      "PRE_sex            \n",
      "1       -1.66  1.54\n",
      "2        1.53 -1.42\n",
      "\n",
      "Pair: (1, 2)\n",
      "            1     2\n",
      "PRE_sex            \n",
      "1       -1.09  1.51\n",
      "2        1.00 -1.39\n"
     ]
    }
   ],
   "source": [
    "# Print standardized residuals for each pairwise comparison\n",
    "print(\"\\nStandardized Residuals for Each Pairwise Comparison:\")\n",
    "for pair, residuals_df in pairwise_residuals.items():\n",
    "    print(f\"\\nPair: {pair}\")\n",
    "    print(pd.DataFrame(residuals_df, index=contingency_table_filtered.index, columns=pair).round(2))"
   ]
  },
  {
   "cell_type": "markdown",
   "id": "645535d0",
   "metadata": {},
   "source": [
    "**Interpretation: Residuals**\n",
    "* Pair (0, 1): Derivatives are relatively modest with no extreme value, so the distribution of 'sex' variable across communities 0 and 1 is reasonably close to what was expected.\n",
    "* Pair (0, 2): There are notable deviations, meaning Community 0 and Community 2 show significant differences compared to other pair of communities.\n",
    "* Pair (1, 2): Less close to each other compared to (0, 1) pair but more closer between communities compared to the (0, 2) pair. "
   ]
  },
  {
   "cell_type": "markdown",
   "id": "2ebe5874",
   "metadata": {},
   "source": [
    "### Politics"
   ]
  },
  {
   "cell_type": "markdown",
   "id": "136d5897",
   "metadata": {},
   "source": [
    "### Check the expected frequency\n",
    "* It is supposed to be, Every cell > 0, 80% of the cells >= 5"
   ]
  },
  {
   "cell_type": "code",
   "execution_count": 123,
   "id": "de45b105",
   "metadata": {},
   "outputs": [
    {
     "name": "stdout",
     "output_type": "stream",
     "text": [
      "        Chi-Squared Test Results        \n",
      "========================================\n",
      "Test Statistic (Chi2):    60.0719\n",
      "Degrees of Freedom:       18\n",
      "p-value:                  1.9920e-06\n",
      "\n",
      "Expected Frequencies (rounded):\n",
      "label                0        1       2\n",
      "POST_president                         \n",
      "-9               10.94    24.37   12.69\n",
      " 1              736.77  1641.07  854.15\n",
      " 2              551.90  1229.28  639.82\n",
      " 3               15.27    34.02   17.71\n",
      " 4                5.02    11.17    5.81\n",
      " 5               12.31    27.42   14.27\n",
      " 7                0.23     0.51    0.26\n",
      " 8                0.68     1.52    0.79\n",
      " 11               0.46     1.02    0.53\n",
      " 12               3.42     7.62    3.96\n"
     ]
    }
   ],
   "source": [
    "# Create a contingency table\n",
    "contingency_table = pd.crosstab(politics['POST_president'], labels['label'])\n",
    "\n",
    "# Perform the Chi-squared test\n",
    "chi2, p, dof, expected = chi2_contingency(contingency_table)\n",
    "\n",
    "# Print the results in a readable format\n",
    "print(f\"{'Chi-Squared Test Results':^40}\")\n",
    "print(\"=\"*40)\n",
    "print(f\"{'Test Statistic (Chi2):':<25} {chi2:.4f}\")\n",
    "print(f\"{'Degrees of Freedom:':<25} {dof}\")\n",
    "print(f\"{'p-value:':<25} {p:.4e}\")\n",
    "print(\"\\nExpected Frequencies (rounded):\")\n",
    "print(pd.DataFrame(expected, \n",
    "                   index=contingency_table.index, \n",
    "                   columns=contingency_table.columns).round(2))"
   ]
  },
  {
   "cell_type": "markdown",
   "id": "b76c2f22",
   "metadata": {},
   "source": [
    "### Cut off the dataset"
   ]
  },
  {
   "cell_type": "code",
   "execution_count": 124,
   "id": "f4d5fc00",
   "metadata": {},
   "outputs": [],
   "source": [
    "# filter only the 1,2 voted participants\n",
    "\n",
    "contingency_table_filtered = contingency_table.loc[[1, 2]]"
   ]
  },
  {
   "cell_type": "code",
   "execution_count": 125,
   "id": "1db3a032",
   "metadata": {
    "scrolled": true
   },
   "outputs": [
    {
     "data": {
      "text/html": [
       "<div>\n",
       "<style scoped>\n",
       "    .dataframe tbody tr th:only-of-type {\n",
       "        vertical-align: middle;\n",
       "    }\n",
       "\n",
       "    .dataframe tbody tr th {\n",
       "        vertical-align: top;\n",
       "    }\n",
       "\n",
       "    .dataframe thead th {\n",
       "        text-align: right;\n",
       "    }\n",
       "</style>\n",
       "<table border=\"1\" class=\"dataframe\">\n",
       "  <thead>\n",
       "    <tr style=\"text-align: right;\">\n",
       "      <th>label</th>\n",
       "      <th>0</th>\n",
       "      <th>1</th>\n",
       "      <th>2</th>\n",
       "    </tr>\n",
       "    <tr>\n",
       "      <th>POST_president</th>\n",
       "      <th></th>\n",
       "      <th></th>\n",
       "      <th></th>\n",
       "    </tr>\n",
       "  </thead>\n",
       "  <tbody>\n",
       "    <tr>\n",
       "      <th>1</th>\n",
       "      <td>657</td>\n",
       "      <td>1757</td>\n",
       "      <td>818</td>\n",
       "    </tr>\n",
       "    <tr>\n",
       "      <th>2</th>\n",
       "      <td>615</td>\n",
       "      <td>1129</td>\n",
       "      <td>677</td>\n",
       "    </tr>\n",
       "  </tbody>\n",
       "</table>\n",
       "</div>"
      ],
      "text/plain": [
       "label             0     1    2\n",
       "POST_president                \n",
       "1               657  1757  818\n",
       "2               615  1129  677"
      ]
     },
     "execution_count": 125,
     "metadata": {},
     "output_type": "execute_result"
    }
   ],
   "source": [
    "contingency_table_filtered"
   ]
  },
  {
   "cell_type": "code",
   "execution_count": 126,
   "id": "c7ed7846",
   "metadata": {},
   "outputs": [
    {
     "name": "stdout",
     "output_type": "stream",
     "text": [
      "Expected Frequencies:\n",
      "[[ 727.24287989 1650.01804352  854.7390766 ]\n",
      " [ 544.75712011 1235.98195648  640.2609234 ]]\n",
      "All expected frequencies are >= 5. The Chi-Square test can be used.\n"
     ]
    }
   ],
   "source": [
    "# Perform Chi-Square test\n",
    "chi2_statistic, p_value, dof, expected = stats.chi2_contingency(contingency_table_filtered)\n",
    "\n",
    "# Print the results\n",
    "print(\"Expected Frequencies:\")\n",
    "print(expected)\n",
    "\n",
    "# Check if all expected frequencies are >= 5\n",
    "if np.all(expected >= 5):\n",
    "    print(\"All expected frequencies are >= 5. The Chi-Square test can be used.\")\n",
    "else:\n",
    "    print(\"Some expected frequencies are < 5. Consider using Fisher's Exact Test or combining categories.\")"
   ]
  },
  {
   "cell_type": "markdown",
   "id": "ab6155bd",
   "metadata": {},
   "source": [
    "* Assumption is met regarding the expected frequency"
   ]
  },
  {
   "cell_type": "code",
   "execution_count": 127,
   "id": "7f92d640",
   "metadata": {},
   "outputs": [
    {
     "data": {
      "image/png": "[encoded data removed]",
      "text/plain": [
       "<Figure size 400x400 with 2 Axes>"
      ]
     },
     "metadata": {},
     "output_type": "display_data"
    }
   ],
   "source": [
    "import seaborn as sns\n",
    "import matplotlib.pyplot as plt\n",
    "\n",
    "# Create a heatmap for the contingency table\n",
    "sns.heatmap(contingency_table_filtered, annot=True, fmt='d')\n",
    "plt.title(\"Contingency Table Heatmap\")\n",
    "plt.show()"
   ]
  },
  {
   "cell_type": "markdown",
   "id": "0b250207",
   "metadata": {},
   "source": [
    "### Chi-Square test"
   ]
  },
  {
   "cell_type": "code",
   "execution_count": 128,
   "id": "a92c9273",
   "metadata": {
    "scrolled": true
   },
   "outputs": [
    {
     "name": "stdout",
     "output_type": "stream",
     "text": [
      "        Chi-Squared Test Results        \n",
      "========================================\n",
      "Test Statistic (Chi2):    35.7256\n",
      "Degrees of Freedom:       2\n",
      "p-value:                  1.7470e-08\n",
      "\n",
      "Expected Frequencies (rounded):\n",
      "label                0        1       2\n",
      "POST_president                         \n",
      "1               727.24  1650.02  854.74\n",
      "2               544.76  1235.98  640.26\n"
     ]
    }
   ],
   "source": [
    "# Perform the Chi-squared test\n",
    "chi2, p, dof, expected = stats.chi2_contingency(contingency_table_filtered)\n",
    "\n",
    "# Print the results in a readable format\n",
    "print(f\"{'Chi-Squared Test Results':^40}\")\n",
    "print(\"=\"*40)\n",
    "print(f\"{'Test Statistic (Chi2):':<25} {chi2:.4f}\")\n",
    "print(f\"{'Degrees of Freedom:':<25} {dof}\")\n",
    "print(f\"{'p-value:':<25} {p:.4e}\")\n",
    "print(\"\\nExpected Frequencies (rounded):\")\n",
    "print(pd.DataFrame(expected, \n",
    "                   index=contingency_table_filtered.index, \n",
    "                   columns=contingency_table_filtered.columns).round(2))"
   ]
  },
  {
   "cell_type": "markdown",
   "id": "7e1e6cf8",
   "metadata": {},
   "source": [
    "### Influence of a label on the overall chi-square test: residuals calculations"
   ]
  },
  {
   "cell_type": "code",
   "execution_count": 129,
   "id": "a8e49c0e",
   "metadata": {},
   "outputs": [
    {
     "name": "stdout",
     "output_type": "stream",
     "text": [
      "        Chi-Squared Test Results        \n",
      "========================================\n",
      "Test Statistic (Chi2):    35.7256\n",
      "Degrees of Freedom:       2\n",
      "p-value:                  1.7470e-08\n",
      "\n",
      "Expected Frequencies (rounded):\n",
      "label                0        1       2\n",
      "POST_president                         \n",
      "1               727.24  1650.02  854.74\n",
      "2               544.76  1235.98  640.26\n",
      "\n",
      "Standardized Residuals:\n",
      "label              0     1     2\n",
      "POST_president                  \n",
      "1              -2.60  2.63 -1.26\n",
      "2               3.01 -3.04  1.45\n",
      "\n",
      "Extreme Standardized Residuals (|value| > 2):\n",
      "label                  0         1   2\n",
      "POST_president                        \n",
      "1              -2.604729  2.633699 NaN\n",
      "2               3.009545 -3.043018 NaN\n"
     ]
    }
   ],
   "source": [
    "# Calculate the residuals\n",
    "residuals = contingency_table_filtered - expected\n",
    "\n",
    "# Standardize the residuals\n",
    "standardized_residuals = residuals / np.sqrt(expected)\n",
    "\n",
    "# Convert to DataFrame for better readability\n",
    "standardized_residuals_df = pd.DataFrame(standardized_residuals,\n",
    "                                         index=contingency_table_filtered.index,\n",
    "                                         columns=contingency_table_filtered.columns)\n",
    "\n",
    "# Print results\n",
    "print(f\"{'Chi-Squared Test Results':^40}\")\n",
    "print(\"=\"*40)\n",
    "print(f\"{'Test Statistic (Chi2):':<25} {chi2:.4f}\")\n",
    "print(f\"{'Degrees of Freedom:':<25} {dof}\")\n",
    "print(f\"{'p-value:':<25} {p:.4e}\")\n",
    "print(\"\\nExpected Frequencies (rounded):\")\n",
    "print(pd.DataFrame(expected, \n",
    "                   index=contingency_table_filtered.index, \n",
    "                   columns=contingency_table_filtered.columns).round(2))\n",
    "print(\"\\nStandardized Residuals:\")\n",
    "print(standardized_residuals_df.round(2))\n",
    "\n",
    "# Optional: if you want to see which residuals are extreme\n",
    "print(\"\\nExtreme Standardized Residuals (|value| > 2):\")\n",
    "print(standardized_residuals_df[standardized_residuals_df.abs() > 2].dropna(how='all'))\n"
   ]
  },
  {
   "cell_type": "markdown",
   "id": "c9da01c9",
   "metadata": {},
   "source": [
    "**Result:**\n",
    "* Assumption: expected frequency is met\n",
    "* p is below 0.05 -> reject the null-hypothesis\n",
    "* The distribution of the feature(**politics**) **is significantly different** across different clusters. \n",
    "* Looking at the Residuals, Community 0 is overrerpesented for label 2(Trump) and underrepresented for label 1(Biden). Community 1 is the opposite. So, Trump is more frequent than expected in Community 0 and Biden is more frequent than expected in Community 1."
   ]
  },
  {
   "cell_type": "markdown",
   "id": "d7b37ac8",
   "metadata": {},
   "source": [
    "### Pairwise Comparison with residuals interpretation"
   ]
  },
  {
   "cell_type": "code",
   "execution_count": 130,
   "id": "76552a16",
   "metadata": {},
   "outputs": [],
   "source": [
    "import itertools\n",
    "from statsmodels.stats.multitest import multipletests"
   ]
  },
  {
   "cell_type": "code",
   "execution_count": 131,
   "id": "7a2e2835",
   "metadata": {},
   "outputs": [],
   "source": [
    "# Get all unique pairs of columns (communities)\n",
    "pairs = list(itertools.combinations(contingency_table_filtered.columns, 2))\n",
    "\n",
    "# Store results for pairwise comparisons\n",
    "pairwise_results = []\n",
    "pairwise_residuals = {}"
   ]
  },
  {
   "cell_type": "code",
   "execution_count": 132,
   "id": "994fa78a",
   "metadata": {},
   "outputs": [],
   "source": [
    "# Perform pairwise chi-squared tests\n",
    "for pair in pairs:\n",
    "    # Create a contingency table for each pair of communities\n",
    "    pair_table = contingency_table_filtered.loc[:, pair]\n",
    "    \n",
    "    # Perform chi-squared test\n",
    "    chi2_pair, p_pair, dof_pair, expected = chi2_contingency(pair_table)\n",
    "    \n",
    "    # Calculate residuals and standardized residuals\n",
    "    residuals = pair_table - expected\n",
    "    standardized_residuals = residuals / np.sqrt(expected)\n",
    "    \n",
    "    # Append results\n",
    "    pairwise_results.append((pair, chi2_pair, p_pair))\n",
    "    pairwise_residuals[pair] = standardized_residuals"
   ]
  },
  {
   "cell_type": "code",
   "execution_count": 133,
   "id": "5e899de9",
   "metadata": {},
   "outputs": [],
   "source": [
    "# Extract p-values for correction\n",
    "p_values = [result[2] for result in pairwise_results]"
   ]
  },
  {
   "cell_type": "code",
   "execution_count": 134,
   "id": "d7bbed18",
   "metadata": {},
   "outputs": [],
   "source": [
    "# Apply Bonferroni correction\n",
    "adjusted_p_values = multipletests(p_values, method='bonferroni')[1]"
   ]
  },
  {
   "cell_type": "code",
   "execution_count": 135,
   "id": "b930242d",
   "metadata": {
    "scrolled": true
   },
   "outputs": [
    {
     "name": "stdout",
     "output_type": "stream",
     "text": [
      "\n",
      "Pairwise Chi-Squared Test Results (with Bonferroni correction):\n",
      "=================================================================\n",
      "Community Pair           Chi2      p-value        Adj. p-value   \n",
      "-----------------------------------------------------------------\n",
      "(0, 1)                   30.5044   3.3311e-08     9.9932e-08     \n",
      "(0, 2)                   2.4718    1.1591e-01     3.4772e-01     \n",
      "(1, 2)                   15.1919   9.7118e-05     2.9135e-04     \n"
     ]
    }
   ],
   "source": [
    "# Print pairwise results with adjusted p-values\n",
    "print(\"\\nPairwise Chi-Squared Test Results (with Bonferroni correction):\")\n",
    "print(\"=\"*65)\n",
    "print(f\"{'Community Pair':<25}{'Chi2':<10}{'p-value':<15}{'Adj. p-value':<15}\")\n",
    "print(\"-\"*65)\n",
    "\n",
    "for i, (pair, chi2_pair, p_pair) in enumerate(pairwise_results):\n",
    "    print(f\"{str(pair):<25}{chi2_pair:<10.4f}{p_pair:<15.4e}{adjusted_p_values[i]:<15.4e}\")"
   ]
  },
  {
   "cell_type": "markdown",
   "id": "2776d172",
   "metadata": {},
   "source": [
    "* Result: Comparing pairwise, \n",
    "    * (0, 1) community: adjusted p-value << 0.05 --- significant difference\n",
    "    * (0, 2) community: adjusted p-value > 0.05 --- no significant difference\n",
    "    * (1, 2) community: adjusted p-value << 0.05 --- significant difference"
   ]
  },
  {
   "cell_type": "code",
   "execution_count": 136,
   "id": "13d9b7d4",
   "metadata": {},
   "outputs": [
    {
     "name": "stdout",
     "output_type": "stream",
     "text": [
      "\n",
      "Standardized Residuals for Each Pairwise Comparison:\n",
      "\n",
      "Pair: (0, 1)\n",
      "                   0     1\n",
      "POST_president            \n",
      "1              -3.00  1.99\n",
      "2               3.53 -2.34\n",
      "\n",
      "Pair: (0, 2)\n",
      "                   0     2\n",
      "POST_president            \n",
      "1              -0.81  0.75\n",
      "2               0.86 -0.80\n",
      "\n",
      "Pair: (1, 2)\n",
      "                   1     2\n",
      "POST_president            \n",
      "1               1.47 -2.05\n",
      "2              -1.76  2.45\n"
     ]
    }
   ],
   "source": [
    "# Print standardized residuals for each pairwise comparison\n",
    "print(\"\\nStandardized Residuals for Each Pairwise Comparison:\")\n",
    "for pair, residuals_df in pairwise_residuals.items():\n",
    "    print(f\"\\nPair: {pair}\")\n",
    "    print(pd.DataFrame(residuals_df, index=contingency_table_filtered.index, columns=pair).round(2))"
   ]
  },
  {
   "cell_type": "markdown",
   "id": "66fb31e2",
   "metadata": {},
   "source": [
    "**Interpretation: Residuals**\n",
    "* Pair (0, 1): Community 0 is very underrepresented for Biden and overrepresented for Trump compared to Community 1. Community 1 is the opposite.  \n",
    "* Pair (0, 2): The residuals are closer to the 0, meaning the community 0 and 2 distributions are quite similar with minor deviations. \n",
    "* Pair (1, 2): Community 1 is overrepresented for Biden and underrepresented for Trump compared to community 2. Community 2 is the opposite. "
   ]
  },
  {
   "cell_type": "markdown",
   "id": "9461afb9",
   "metadata": {},
   "source": [
    "### Education"
   ]
  },
  {
   "cell_type": "code",
   "execution_count": 137,
   "id": "14d78ec0",
   "metadata": {},
   "outputs": [
    {
     "name": "stdout",
     "output_type": "stream",
     "text": [
      "        Chi-Squared Test Results        \n",
      "========================================\n",
      "Test Statistic (Chi2):    123.3401\n",
      "Degrees of Freedom:       14\n",
      "p-value:                  1.3925e-19\n",
      "\n",
      "Expected Frequencies (rounded):\n",
      "label               0       1       2\n",
      "PRE_education                        \n",
      "-9               3.42    7.62    3.96\n",
      "-8               0.23    0.51    0.26\n",
      "-2              16.41   36.56   19.03\n",
      " 1              35.56   79.21   41.23\n",
      " 2             173.25  385.90  200.85\n",
      " 3             448.17  998.25  519.57\n",
      " 4             368.39  820.54  427.08\n",
      " 5             291.56  649.42  338.01\n"
     ]
    }
   ],
   "source": [
    "# Create a contingency table\n",
    "contingency_table = pd.crosstab(education['PRE_education'], labels['label'])\n",
    "\n",
    "# Perform the Chi-squared test\n",
    "chi2, p, dof, expected = chi2_contingency(contingency_table)\n",
    "\n",
    "# Print the results in a readable format\n",
    "print(f\"{'Chi-Squared Test Results':^40}\")\n",
    "print(\"=\"*40)\n",
    "print(f\"{'Test Statistic (Chi2):':<25} {chi2:.4f}\")\n",
    "print(f\"{'Degrees of Freedom:':<25} {dof}\")\n",
    "print(f\"{'p-value:':<25} {p:.4e}\")\n",
    "print(\"\\nExpected Frequencies (rounded):\")\n",
    "print(pd.DataFrame(expected, \n",
    "                   index=contingency_table.index, \n",
    "                   columns=contingency_table.columns).round(2))"
   ]
  },
  {
   "cell_type": "markdown",
   "id": "b77e433a",
   "metadata": {},
   "source": [
    "* Assumption is met regarding the expected frequency that 80% of the cells >= 5"
   ]
  },
  {
   "cell_type": "markdown",
   "id": "b85ab1a9",
   "metadata": {},
   "source": [
    "### Chi-Square test"
   ]
  },
  {
   "cell_type": "code",
   "execution_count": 138,
   "id": "80e5c110",
   "metadata": {},
   "outputs": [],
   "source": [
    "contingency_table_filtered = contingency_table.loc[[-9, -2, 1,2,3,4,5]]"
   ]
  },
  {
   "cell_type": "code",
   "execution_count": 139,
   "id": "9ca685ab",
   "metadata": {},
   "outputs": [
    {
     "name": "stdout",
     "output_type": "stream",
     "text": [
      "        Chi-Squared Test Results        \n",
      "========================================\n",
      "Test Statistic (Chi2):    122.3635\n",
      "Degrees of Freedom:       12\n",
      "p-value:                  2.0864e-20\n",
      "\n",
      "Expected Frequencies (rounded):\n",
      "label               0       1       2\n",
      "PRE_education                        \n",
      "-9               3.42    7.62    3.96\n",
      "-2              16.42   36.55   19.03\n",
      " 1              35.57   79.20   41.23\n",
      " 2             173.28  385.83  200.89\n",
      " 3             448.25  998.09  519.66\n",
      " 4             368.45  820.40  427.15\n",
      " 5             291.61  649.31  338.07\n"
     ]
    }
   ],
   "source": [
    "# Perform the Chi-squared test\n",
    "chi2, p, dof, expected = stats.chi2_contingency(contingency_table_filtered)\n",
    "\n",
    "# Print the results in a readable format\n",
    "print(f\"{'Chi-Squared Test Results':^40}\")\n",
    "print(\"=\"*40)\n",
    "print(f\"{'Test Statistic (Chi2):':<25} {chi2:.4f}\")\n",
    "print(f\"{'Degrees of Freedom:':<25} {dof}\")\n",
    "print(f\"{'p-value:':<25} {p:.4e}\")\n",
    "print(\"\\nExpected Frequencies (rounded):\")\n",
    "print(pd.DataFrame(expected, \n",
    "                   index=contingency_table_filtered.index, \n",
    "                   columns=contingency_table_filtered.columns).round(2))"
   ]
  },
  {
   "cell_type": "markdown",
   "id": "752bada0",
   "metadata": {},
   "source": [
    "p is below 0.05 -> reject the null-hypothesis\n",
    "\n",
    "**Result:**\n",
    "The distribution of the feature(education) **is significantly different** across different clusters."
   ]
  },
  {
   "cell_type": "markdown",
   "id": "eefde934",
   "metadata": {},
   "source": [
    "### Influence of a label on the overall chi-square test: residuals calculations"
   ]
  },
  {
   "cell_type": "code",
   "execution_count": 140,
   "id": "5f2a340b",
   "metadata": {},
   "outputs": [
    {
     "name": "stdout",
     "output_type": "stream",
     "text": [
      "        Chi-Squared Test Results        \n",
      "========================================\n",
      "Test Statistic (Chi2):    122.3635\n",
      "Degrees of Freedom:       12\n",
      "p-value:                  2.0864e-20\n",
      "\n",
      "Expected Frequencies (rounded):\n",
      "label               0       1       2\n",
      "PRE_education                        \n",
      "-9               3.42    7.62    3.96\n",
      "-2              16.42   36.55   19.03\n",
      " 1              35.57   79.20   41.23\n",
      " 2             173.28  385.83  200.89\n",
      " 3             448.25  998.09  519.66\n",
      " 4             368.45  820.40  427.15\n",
      " 5             291.61  649.31  338.07\n",
      "\n",
      "Standardized Residuals:\n",
      "label             0     1     2\n",
      "PRE_education                  \n",
      "-9             2.48 -0.95 -0.99\n",
      "-2             0.14  0.57 -0.92\n",
      " 1             2.25 -2.04  0.74\n",
      " 2             5.14 -2.59 -1.19\n",
      " 3             1.97 -2.76  1.99\n",
      " 4            -2.89  1.49  0.62\n",
      " 5            -4.25  4.42 -2.18\n",
      "\n",
      "Extreme Standardized Residuals (|value| > 2):\n",
      "label                 0         1         2\n",
      "PRE_education                              \n",
      "-9             2.476562       NaN       NaN\n",
      " 1             2.252178 -2.044788       NaN\n",
      " 2             5.144401 -2.587853       NaN\n",
      " 3                  NaN -2.756570       NaN\n",
      " 4            -2.888775       NaN       NaN\n",
      " 5            -4.252211  4.422201 -2.179361\n"
     ]
    }
   ],
   "source": [
    "# Calculate the residuals\n",
    "residuals = contingency_table_filtered - expected\n",
    "\n",
    "# Standardize the residuals\n",
    "standardized_residuals = residuals / np.sqrt(expected)\n",
    "\n",
    "# Convert to DataFrame for better readability\n",
    "standardized_residuals_df = pd.DataFrame(standardized_residuals,\n",
    "                                         index=contingency_table_filtered.index,\n",
    "                                         columns=contingency_table_filtered.columns)\n",
    "\n",
    "# Print results\n",
    "print(f\"{'Chi-Squared Test Results':^40}\")\n",
    "print(\"=\"*40)\n",
    "print(f\"{'Test Statistic (Chi2):':<25} {chi2:.4f}\")\n",
    "print(f\"{'Degrees of Freedom:':<25} {dof}\")\n",
    "print(f\"{'p-value:':<25} {p:.4e}\")\n",
    "print(\"\\nExpected Frequencies (rounded):\")\n",
    "print(pd.DataFrame(expected, \n",
    "                   index=contingency_table_filtered.index, \n",
    "                   columns=contingency_table_filtered.columns).round(2))\n",
    "print(\"\\nStandardized Residuals:\")\n",
    "print(standardized_residuals_df.round(2))\n",
    "\n",
    "# Optional: if you want to see which residuals are extreme\n",
    "print(\"\\nExtreme Standardized Residuals (|value| > 2):\")\n",
    "print(standardized_residuals_df[standardized_residuals_df.abs() > 2].dropna(how='all'))\n"
   ]
  },
  {
   "cell_type": "markdown",
   "id": "57b9e414",
   "metadata": {},
   "source": [
    "**Result:**\n",
    "* The distribution of the feature(**education**) **is significantly different** across different clusters. \n",
    "* Looking at the Residuals, Community 0 is overrerpesented for label 1 and especially 2 but underrepresented for the 4, and extraordinarily 5. Community 1 is especially overrepresented by label 5 but underrepresented by label 1,2,3. Community 2 is underrepresented for 5. "
   ]
  },
  {
   "cell_type": "markdown",
   "id": "03ab3d6d",
   "metadata": {},
   "source": [
    "### Pairwise Comparison with residuals interpretation"
   ]
  },
  {
   "cell_type": "code",
   "execution_count": 141,
   "id": "d33493f3",
   "metadata": {},
   "outputs": [],
   "source": [
    "import itertools\n",
    "from statsmodels.stats.multitest import multipletests"
   ]
  },
  {
   "cell_type": "code",
   "execution_count": 142,
   "id": "cd951eed",
   "metadata": {},
   "outputs": [],
   "source": [
    "# Get all unique pairs of columns (communities)\n",
    "pairs = list(itertools.combinations(contingency_table_filtered.columns, 2))\n",
    "\n",
    "# Store results for pairwise comparisons\n",
    "pairwise_results = []\n",
    "pairwise_residuals = {}"
   ]
  },
  {
   "cell_type": "code",
   "execution_count": 143,
   "id": "f156ea29",
   "metadata": {},
   "outputs": [],
   "source": [
    "# Perform pairwise chi-squared tests\n",
    "for pair in pairs:\n",
    "    # Create a contingency table for each pair of communities\n",
    "    pair_table = contingency_table_filtered.loc[:, pair]\n",
    "    \n",
    "    # Perform chi-squared test\n",
    "    chi2_pair, p_pair, dof_pair, expected = chi2_contingency(pair_table)\n",
    "    \n",
    "    # Calculate residuals and standardized residuals\n",
    "    residuals = pair_table - expected\n",
    "    standardized_residuals = residuals / np.sqrt(expected)\n",
    "    \n",
    "    # Append results\n",
    "    pairwise_results.append((pair, chi2_pair, p_pair))\n",
    "    pairwise_residuals[pair] = standardized_residuals"
   ]
  },
  {
   "cell_type": "code",
   "execution_count": 144,
   "id": "42e3023f",
   "metadata": {},
   "outputs": [],
   "source": [
    "# Extract p-values for correction\n",
    "p_values = [result[2] for result in pairwise_results]"
   ]
  },
  {
   "cell_type": "code",
   "execution_count": 145,
   "id": "06313634",
   "metadata": {},
   "outputs": [],
   "source": [
    "# Apply Bonferroni correction\n",
    "adjusted_p_values = multipletests(p_values, method='bonferroni')[1]"
   ]
  },
  {
   "cell_type": "code",
   "execution_count": 146,
   "id": "3eea8517",
   "metadata": {
    "scrolled": true
   },
   "outputs": [
    {
     "name": "stdout",
     "output_type": "stream",
     "text": [
      "\n",
      "Pairwise Chi-Squared Test Results (with Bonferroni correction):\n",
      "=================================================================\n",
      "Community Pair           Chi2      p-value        Adj. p-value   \n",
      "-----------------------------------------------------------------\n",
      "(0, 1)                   102.2370  8.5630e-20     2.5689e-19     \n",
      "(0, 2)                   34.7617   4.7927e-06     1.4378e-05     \n",
      "(1, 2)                   33.7591   7.4875e-06     2.2463e-05     \n"
     ]
    }
   ],
   "source": [
    "# Print pairwise results with adjusted p-values\n",
    "print(\"\\nPairwise Chi-Squared Test Results (with Bonferroni correction):\")\n",
    "print(\"=\"*65)\n",
    "print(f\"{'Community Pair':<25}{'Chi2':<10}{'p-value':<15}{'Adj. p-value':<15}\")\n",
    "print(\"-\"*65)\n",
    "\n",
    "for i, (pair, chi2_pair, p_pair) in enumerate(pairwise_results):\n",
    "    print(f\"{str(pair):<25}{chi2_pair:<10.4f}{p_pair:<15.4e}{adjusted_p_values[i]:<15.4e}\")"
   ]
  },
  {
   "cell_type": "markdown",
   "id": "3f74eee2",
   "metadata": {},
   "source": [
    "* Result: Comparing pairwise, \n",
    "    * (0, 1) community: adjusted p-value <<< 0.05 --- significant difference\n",
    "    * (0, 2) community: adjusted p-value << 0.05 --- significant difference\n",
    "    * (1, 2) community: adjusted p-value << 0.05 --- significant difference"
   ]
  },
  {
   "cell_type": "code",
   "execution_count": 147,
   "id": "94837e16",
   "metadata": {},
   "outputs": [
    {
     "name": "stdout",
     "output_type": "stream",
     "text": [
      "\n",
      "Standardized Residuals for Each Pairwise Comparison:\n",
      "\n",
      "Pair: (0, 1)\n",
      "                  0     1\n",
      "PRE_education            \n",
      "-9             1.98 -1.33\n",
      "-2            -0.16  0.11\n",
      " 1             2.55 -1.71\n",
      " 2             4.68 -3.13\n",
      " 3             2.68 -1.79\n",
      " 4            -2.70  1.81\n",
      " 5            -4.88  3.27\n",
      "\n",
      "Pair: (0, 2)\n",
      "                  0     2\n",
      "PRE_education            \n",
      "-9             1.57 -1.45\n",
      "-2             0.57 -0.53\n",
      " 1             0.75 -0.70\n",
      " 2             3.15 -2.92\n",
      " 3             0.06 -0.06\n",
      " 4            -1.91  1.78\n",
      " 5            -1.32  1.23\n",
      "\n",
      "Pair: (1, 2)\n",
      "                  1     2\n",
      "PRE_education            \n",
      "-9             0.18 -0.26\n",
      "-2             0.64 -0.88\n",
      " 1            -1.12  1.55\n",
      " 2            -0.34  0.47\n",
      " 3            -1.91  2.65\n",
      " 4             0.21 -0.29\n",
      " 5             2.46 -3.41\n"
     ]
    }
   ],
   "source": [
    "# Print standardized residuals for each pairwise comparison\n",
    "print(\"\\nStandardized Residuals for Each Pairwise Comparison:\")\n",
    "for pair, residuals_df in pairwise_residuals.items():\n",
    "    print(f\"\\nPair: {pair}\")\n",
    "    print(pd.DataFrame(residuals_df, index=contingency_table_filtered.index, columns=pair).round(2))"
   ]
  },
  {
   "cell_type": "markdown",
   "id": "55a76d16",
   "metadata": {},
   "source": [
    "**Interpretation: Residuals**\n",
    "* Pair (0, 1): Community 0 is overrepresented for label 2 but underrepresented for label 5 compared to Community 1. Community 1 os overrepresented for label 5 but under- for label 2. \n",
    "* Pair (0, 2): Community 0 is overrepresented for label 2 compared to Community 2. Community 2 is underrepresented for label 2 comparably. \n",
    "* Pair (1, 2): Communoity 1 is overrepresented for label 5 compared to Community 2. Community 2 is overrepresented for label 3 but under for label 5. "
   ]
  },
  {
   "cell_type": "code",
   "execution_count": null,
   "id": "0c0790f7",
   "metadata": {},
   "outputs": [],
   "source": []
  },
  {
   "cell_type": "markdown",
   "id": "3dc3058e",
   "metadata": {},
   "source": [
    "### Job"
   ]
  },
  {
   "cell_type": "code",
   "execution_count": 148,
   "id": "ff1aca76",
   "metadata": {},
   "outputs": [
    {
     "name": "stdout",
     "output_type": "stream",
     "text": [
      "        Chi-Squared Test Results        \n",
      "========================================\n",
      "Test Statistic (Chi2):    116.6154\n",
      "Degrees of Freedom:       14\n",
      "p-value:                  2.8877e-18\n",
      "\n",
      "Expected Frequencies (rounded):\n",
      "label                0        1       2\n",
      "PRE_occupation                         \n",
      "-2                7.07    15.74    8.19\n",
      " 1              815.88  1817.27  945.86\n",
      " 2               38.75    86.32   44.93\n",
      " 4               18.92    42.14   21.94\n",
      " 5              324.85   723.55  376.60\n",
      " 6               46.05   102.57   53.38\n",
      " 7               70.44   156.90   81.66\n",
      " 8               15.05    33.51   17.44\n"
     ]
    }
   ],
   "source": [
    "# Create a contingency table\n",
    "contingency_table = pd.crosstab(job['PRE_occupation'], labels['label'])\n",
    "\n",
    "# Perform the Chi-squared test\n",
    "chi2, p, dof, expected = chi2_contingency(contingency_table)\n",
    "\n",
    "# Print the results in a readable format\n",
    "print(f\"{'Chi-Squared Test Results':^40}\")\n",
    "print(\"=\"*40)\n",
    "print(f\"{'Test Statistic (Chi2):':<25} {chi2:.4f}\")\n",
    "print(f\"{'Degrees of Freedom:':<25} {dof}\")\n",
    "print(f\"{'p-value:':<25} {p:.4e}\")\n",
    "print(\"\\nExpected Frequencies (rounded):\")\n",
    "print(pd.DataFrame(expected, \n",
    "                   index=contingency_table.index, \n",
    "                   columns=contingency_table.columns).round(2))"
   ]
  },
  {
   "cell_type": "markdown",
   "id": "5873f529",
   "metadata": {},
   "source": [
    "* Assumption is met about the expected frequency."
   ]
  },
  {
   "cell_type": "markdown",
   "id": "aff529ef",
   "metadata": {},
   "source": [
    "**Result:**\n",
    "The distribution of the feature(employment) **is significantly different** across different clusters.."
   ]
  },
  {
   "cell_type": "markdown",
   "id": "59ecc8c4",
   "metadata": {},
   "source": [
    "### Influence of a label on the overall chi-square test: residuals calculations"
   ]
  },
  {
   "cell_type": "code",
   "execution_count": 149,
   "id": "6a2ca7fd",
   "metadata": {},
   "outputs": [
    {
     "name": "stdout",
     "output_type": "stream",
     "text": [
      "        Chi-Squared Test Results        \n",
      "========================================\n",
      "Test Statistic (Chi2):    116.6154\n",
      "Degrees of Freedom:       14\n",
      "p-value:                  2.8877e-18\n",
      "\n",
      "Expected Frequencies (rounded):\n",
      "label                0        1       2\n",
      "PRE_occupation                         \n",
      "-2                7.07    15.74    8.19\n",
      " 1              815.88  1817.27  945.86\n",
      " 2               38.75    86.32   44.93\n",
      " 4               18.92    42.14   21.94\n",
      " 5              324.85   723.55  376.60\n",
      " 6               46.05   102.57   53.38\n",
      " 7               70.44   156.90   81.66\n",
      " 8               15.05    33.51   17.44\n",
      "\n",
      "Standardized Residuals:\n",
      "label              0     1     2\n",
      "PRE_occupation                  \n",
      "-2              3.36 -2.20 -0.07\n",
      " 1              2.03 -2.96  2.22\n",
      " 2             -0.28  0.29 -0.14\n",
      " 4              0.02  0.13 -0.20\n",
      " 5             -5.10  5.70 -3.17\n",
      " 6              1.02 -0.25 -0.60\n",
      " 7              1.02 -0.87  0.26\n",
      " 8              2.82 -1.47 -0.58\n",
      "\n",
      "Extreme Standardized Residuals (|value| > 2):\n",
      "label                  0         1         2\n",
      "PRE_occupation                              \n",
      "-2              3.360413 -2.203062       NaN\n",
      " 1              2.034838 -2.961934  2.215695\n",
      " 5             -5.095933  5.704492 -3.174173\n",
      " 8              2.824151       NaN       NaN\n"
     ]
    }
   ],
   "source": [
    "# Calculate the residuals\n",
    "residuals = contingency_table - expected\n",
    "\n",
    "# Standardize the residuals\n",
    "standardized_residuals = residuals / np.sqrt(expected)\n",
    "\n",
    "# Convert to DataFrame for better readability\n",
    "standardized_residuals_df = pd.DataFrame(standardized_residuals,\n",
    "                                         index=contingency_table.index,\n",
    "                                         columns=contingency_table.columns)\n",
    "\n",
    "# Print results\n",
    "print(f\"{'Chi-Squared Test Results':^40}\")\n",
    "print(\"=\"*40)\n",
    "print(f\"{'Test Statistic (Chi2):':<25} {chi2:.4f}\")\n",
    "print(f\"{'Degrees of Freedom:':<25} {dof}\")\n",
    "print(f\"{'p-value:':<25} {p:.4e}\")\n",
    "print(\"\\nExpected Frequencies (rounded):\")\n",
    "print(pd.DataFrame(expected, \n",
    "                   index=contingency_table.index, \n",
    "                   columns=contingency_table.columns).round(2))\n",
    "print(\"\\nStandardized Residuals:\")\n",
    "print(standardized_residuals_df.round(2))\n",
    "\n",
    "# Optional: if you want to see which residuals are extreme\n",
    "print(\"\\nExtreme Standardized Residuals (|value| > 2):\")\n",
    "print(standardized_residuals_df[standardized_residuals_df.abs() > 2].dropna(how='all'))\n"
   ]
  },
  {
   "cell_type": "markdown",
   "id": "eefbae3b",
   "metadata": {},
   "source": [
    "**Result:**\n",
    "* Assumption: expected frequency is met\n",
    "* p is below 0.05 -> reject the null-hypothesis\n",
    "* The distribution of the feature(**occupation**) **is significantly different** across different clusters. \n",
    "* Looking at the Residuals: (needs to be filled)"
   ]
  },
  {
   "cell_type": "markdown",
   "id": "9e907fcd",
   "metadata": {},
   "source": [
    "### Pairwise Comparison with residuals interpretation"
   ]
  },
  {
   "cell_type": "code",
   "execution_count": 150,
   "id": "e65d78e8",
   "metadata": {},
   "outputs": [],
   "source": [
    "import itertools\n",
    "from statsmodels.stats.multitest import multipletests"
   ]
  },
  {
   "cell_type": "code",
   "execution_count": 151,
   "id": "43124c28",
   "metadata": {},
   "outputs": [],
   "source": [
    "# Get all unique pairs of columns (communities)\n",
    "pairs = list(itertools.combinations(contingency_table.columns, 2))\n",
    "\n",
    "# Store results for pairwise comparisons\n",
    "pairwise_results = []\n",
    "pairwise_residuals = {}"
   ]
  },
  {
   "cell_type": "code",
   "execution_count": 152,
   "id": "69149117",
   "metadata": {},
   "outputs": [],
   "source": [
    "# Perform pairwise chi-squared tests\n",
    "for pair in pairs:\n",
    "    # Create a contingency table for each pair of communities\n",
    "    pair_table = contingency_table.loc[:, pair]\n",
    "    \n",
    "    # Perform chi-squared test\n",
    "    chi2_pair, p_pair, dof_pair, expected = chi2_contingency(pair_table)\n",
    "    \n",
    "    # Calculate residuals and standardized residuals\n",
    "    residuals = pair_table - expected\n",
    "    standardized_residuals = residuals / np.sqrt(expected)\n",
    "    \n",
    "    # Append results\n",
    "    pairwise_results.append((pair, chi2_pair, p_pair))\n",
    "    pairwise_residuals[pair] = standardized_residuals"
   ]
  },
  {
   "cell_type": "code",
   "execution_count": 153,
   "id": "5f1c7bed",
   "metadata": {},
   "outputs": [],
   "source": [
    "# Extract p-values for correction\n",
    "p_values = [result[2] for result in pairwise_results]"
   ]
  },
  {
   "cell_type": "code",
   "execution_count": 154,
   "id": "3a894422",
   "metadata": {},
   "outputs": [],
   "source": [
    "# Apply Bonferroni correction\n",
    "adjusted_p_values = multipletests(p_values, method='bonferroni')[1]"
   ]
  },
  {
   "cell_type": "code",
   "execution_count": 155,
   "id": "a42ff5d6",
   "metadata": {
    "scrolled": true
   },
   "outputs": [
    {
     "name": "stdout",
     "output_type": "stream",
     "text": [
      "\n",
      "Pairwise Chi-Squared Test Results (with Bonferroni correction):\n",
      "=================================================================\n",
      "Community Pair           Chi2      p-value        Adj. p-value   \n",
      "-----------------------------------------------------------------\n",
      "(0, 1)                   91.7406   5.4302e-17     1.6291e-16     \n",
      "(0, 2)                   13.6438   5.7891e-02     1.7367e-01     \n",
      "(1, 2)                   48.3952   2.9802e-08     8.9405e-08     \n"
     ]
    }
   ],
   "source": [
    "# Print pairwise results with adjusted p-values\n",
    "print(\"\\nPairwise Chi-Squared Test Results (with Bonferroni correction):\")\n",
    "print(\"=\"*65)\n",
    "print(f\"{'Community Pair':<25}{'Chi2':<10}{'p-value':<15}{'Adj. p-value':<15}\")\n",
    "print(\"-\"*65)\n",
    "\n",
    "for i, (pair, chi2_pair, p_pair) in enumerate(pairwise_results):\n",
    "    print(f\"{str(pair):<25}{chi2_pair:<10.4f}{p_pair:<15.4e}{adjusted_p_values[i]:<15.4e}\")"
   ]
  },
  {
   "cell_type": "markdown",
   "id": "5aec6cc8",
   "metadata": {},
   "source": [
    "* Result: Comparing pairwise, \n",
    "    * (0, 1) community: adjusted p-value <<< 0.05 --- significant difference\n",
    "    * (0, 2) community: adjusted p-value > 0.05 --- no significant difference\n",
    "    * (1, 2) community: adjusted p-value << 0.05 --- significant difference"
   ]
  },
  {
   "cell_type": "code",
   "execution_count": 156,
   "id": "b2e8a86b",
   "metadata": {},
   "outputs": [
    {
     "name": "stdout",
     "output_type": "stream",
     "text": [
      "\n",
      "Standardized Residuals for Each Pairwise Comparison:\n",
      "\n",
      "Pair: (0, 1)\n",
      "                   0     1\n",
      "PRE_occupation            \n",
      "-2              3.32 -2.23\n",
      " 1              2.81 -1.88\n",
      " 2             -0.33  0.22\n",
      " 4             -0.05  0.03\n",
      " 5             -5.98  4.01\n",
      " 6              0.81 -0.54\n",
      " 7              1.11 -0.75\n",
      " 8              2.57 -1.72\n",
      "\n",
      "Pair: (0, 2)\n",
      "                   0     2\n",
      "PRE_occupation            \n",
      "-2              1.47 -1.36\n",
      " 1             -0.01  0.01\n",
      " 2             -0.08  0.08\n",
      " 4              0.11 -0.10\n",
      " 5             -1.30  1.21\n",
      " 6              0.84 -0.78\n",
      " 7              0.40 -0.38\n",
      " 8              1.61 -1.49\n",
      "\n",
      "Pair: (1, 2)\n",
      "                   1     2\n",
      "PRE_occupation            \n",
      "-2             -0.91  1.26\n",
      " 1             -2.09  2.89\n",
      " 2              0.16 -0.23\n",
      " 4              0.14 -0.19\n",
      " 5              3.32 -4.61\n",
      " 6              0.20 -0.28\n",
      " 7             -0.43  0.59\n",
      " 8             -0.25  0.35\n"
     ]
    }
   ],
   "source": [
    "# Print standardized residuals for each pairwise comparison\n",
    "print(\"\\nStandardized Residuals for Each Pairwise Comparison:\")\n",
    "for pair, residuals_df in pairwise_residuals.items():\n",
    "    print(f\"\\nPair: {pair}\")\n",
    "    print(pd.DataFrame(residuals_df, index=contingency_table.index, columns=pair).round(2))"
   ]
  },
  {
   "cell_type": "markdown",
   "id": "bf255a4f",
   "metadata": {},
   "source": [
    "**Interpretation: Residuals**\n",
    "* Pair (0, 1): (needs to be filled)\n",
    "* Pair (0, 2): (needs to be filled)\n",
    "* Pair (1, 2): (needs to be filled)"
   ]
  },
  {
   "cell_type": "markdown",
   "id": "da372822",
   "metadata": {},
   "source": [
    "### Religion"
   ]
  },
  {
   "cell_type": "code",
   "execution_count": 157,
   "id": "122118a0",
   "metadata": {},
   "outputs": [
    {
     "name": "stdout",
     "output_type": "stream",
     "text": [
      "        Chi-Squared Test Results        \n",
      "========================================\n",
      "Test Statistic (Chi2):    77.9607\n",
      "Degrees of Freedom:       24\n",
      "p-value:                  1.2813e-07\n",
      "\n",
      "Expected Frequencies (rounded):\n",
      "label                      0       1       2\n",
      "PRE_present_religion                        \n",
      "-9                      9.35   20.82   10.84\n",
      " 1                    372.95  830.69  432.36\n",
      " 2                    272.87  607.79  316.34\n",
      " 3                     19.15   42.65   22.20\n",
      " 4                     19.83   44.17   22.99\n",
      " 5                     32.37   72.10   37.53\n",
      " 6                      5.24   11.68    6.08\n",
      " 7                     11.63   25.90   13.48\n",
      " 8                      5.70   12.69    6.61\n",
      " 9                     56.99  126.94   66.07\n",
      " 10                    77.74  173.15   90.12\n",
      " 11                   233.89  520.96  271.15\n",
      " 12                   219.30  488.46  254.24\n"
     ]
    }
   ],
   "source": [
    "# Create a contingency table\n",
    "contingency_table = pd.crosstab(religion['PRE_present_religion'], labels['label'])\n",
    "\n",
    "# Perform the Chi-squared test\n",
    "chi2, p, dof, expected = chi2_contingency(contingency_table)\n",
    "\n",
    "# Print the results in a readable format\n",
    "print(f\"{'Chi-Squared Test Results':^40}\")\n",
    "print(\"=\"*40)\n",
    "print(f\"{'Test Statistic (Chi2):':<25} {chi2:.4f}\")\n",
    "print(f\"{'Degrees of Freedom:':<25} {dof}\")\n",
    "print(f\"{'p-value:':<25} {p:.4e}\")\n",
    "print(\"\\nExpected Frequencies (rounded):\")\n",
    "print(pd.DataFrame(expected, \n",
    "                   index=contingency_table.index, \n",
    "                   columns=contingency_table.columns).round(2))"
   ]
  },
  {
   "cell_type": "markdown",
   "id": "8813a552",
   "metadata": {},
   "source": [
    "* Assumption is met about the expected frequency"
   ]
  },
  {
   "cell_type": "markdown",
   "id": "1142da3b",
   "metadata": {},
   "source": [
    "### Influence of a label on the overall chi-square test: residuals calculations"
   ]
  },
  {
   "cell_type": "code",
   "execution_count": 158,
   "id": "1a5521cf",
   "metadata": {},
   "outputs": [
    {
     "name": "stdout",
     "output_type": "stream",
     "text": [
      "        Chi-Squared Test Results        \n",
      "========================================\n",
      "Test Statistic (Chi2):    77.9607\n",
      "Degrees of Freedom:       24\n",
      "p-value:                  1.2813e-07\n",
      "\n",
      "Expected Frequencies (rounded):\n",
      "label                      0       1       2\n",
      "PRE_present_religion                        \n",
      "-9                      9.35   20.82   10.84\n",
      " 1                    372.95  830.69  432.36\n",
      " 2                    272.87  607.79  316.34\n",
      " 3                     19.15   42.65   22.20\n",
      " 4                     19.83   44.17   22.99\n",
      " 5                     32.37   72.10   37.53\n",
      " 6                      5.24   11.68    6.08\n",
      " 7                     11.63   25.90   13.48\n",
      " 8                      5.70   12.69    6.61\n",
      " 9                     56.99  126.94   66.07\n",
      " 10                    77.74  173.15   90.12\n",
      " 11                   233.89  520.96  271.15\n",
      " 12                   219.30  488.46  254.24\n",
      "\n",
      "Standardized Residuals:\n",
      "label                    0     1     2\n",
      "PRE_present_religion                  \n",
      "-9                    2.18 -1.71  0.35\n",
      " 1                   -3.26  2.44 -0.35\n",
      " 2                    2.01 -0.88 -0.64\n",
      " 3                    0.65 -0.87  0.59\n",
      " 4                    0.04 -0.03  0.00\n",
      " 5                   -1.30  1.52 -0.90\n",
      " 6                    0.77 -1.08  0.78\n",
      " 7                   -1.06  1.00 -0.40\n",
      " 8                    0.13  0.09 -0.24\n",
      " 9                   -3.05  1.51  0.73\n",
      " 10                  -1.67  0.82  0.41\n",
      " 11                   1.45 -0.61 -0.49\n",
      " 12                   3.02 -2.87  1.18\n",
      "\n",
      "Extreme Standardized Residuals (|value| > 2):\n",
      "label                        0         1   2\n",
      "PRE_present_religion                        \n",
      "-9                    2.176351       NaN NaN\n",
      " 1                   -3.259486  2.439413 NaN\n",
      " 2                    2.005526       NaN NaN\n",
      " 9                   -3.045433       NaN NaN\n",
      " 12                   3.018486 -2.871477 NaN\n"
     ]
    }
   ],
   "source": [
    "# Calculate the residuals\n",
    "residuals = contingency_table - expected\n",
    "\n",
    "# Standardize the residuals\n",
    "standardized_residuals = residuals / np.sqrt(expected)\n",
    "\n",
    "# Convert to DataFrame for better readability\n",
    "standardized_residuals_df = pd.DataFrame(standardized_residuals,\n",
    "                                         index=contingency_table.index,\n",
    "                                         columns=contingency_table.columns)\n",
    "\n",
    "# Print results\n",
    "print(f\"{'Chi-Squared Test Results':^40}\")\n",
    "print(\"=\"*40)\n",
    "print(f\"{'Test Statistic (Chi2):':<25} {chi2:.4f}\")\n",
    "print(f\"{'Degrees of Freedom:':<25} {dof}\")\n",
    "print(f\"{'p-value:':<25} {p:.4e}\")\n",
    "print(\"\\nExpected Frequencies (rounded):\")\n",
    "print(pd.DataFrame(expected, \n",
    "                   index=contingency_table.index, \n",
    "                   columns=contingency_table.columns).round(2))\n",
    "print(\"\\nStandardized Residuals:\")\n",
    "print(standardized_residuals_df.round(2))\n",
    "\n",
    "# Optional: if you want to see which residuals are extreme\n",
    "print(\"\\nExtreme Standardized Residuals (|value| > 2):\")\n",
    "print(standardized_residuals_df[standardized_residuals_df.abs() > 2].dropna(how='all'))\n"
   ]
  },
  {
   "cell_type": "markdown",
   "id": "af7a2b19",
   "metadata": {},
   "source": [
    "**Result:**\n",
    "* Assumption: expected frequency is met\n",
    "* p is below 0.05 -> reject the null-hypothesis\n",
    "* The distribution of the feature(**religion**) **is significantly different** across different clusters. \n",
    "* Looking at the Residuals: (needs to be filled)"
   ]
  },
  {
   "cell_type": "markdown",
   "id": "a84ec58e",
   "metadata": {},
   "source": [
    "### Pairwise Comparison with residuals interpretation"
   ]
  },
  {
   "cell_type": "code",
   "execution_count": 159,
   "id": "8c3e896b",
   "metadata": {},
   "outputs": [],
   "source": [
    "import itertools\n",
    "from statsmodels.stats.multitest import multipletests"
   ]
  },
  {
   "cell_type": "code",
   "execution_count": 160,
   "id": "e6891611",
   "metadata": {},
   "outputs": [],
   "source": [
    "# Get all unique pairs of columns (communities)\n",
    "pairs = list(itertools.combinations(contingency_table.columns, 2))\n",
    "\n",
    "# Store results for pairwise comparisons\n",
    "pairwise_results = []\n",
    "pairwise_residuals = {}"
   ]
  },
  {
   "cell_type": "code",
   "execution_count": 161,
   "id": "804c5061",
   "metadata": {},
   "outputs": [],
   "source": [
    "# Perform pairwise chi-squared tests\n",
    "for pair in pairs:\n",
    "    # Create a contingency table for each pair of communities\n",
    "    pair_table = contingency_table.loc[:, pair]\n",
    "    \n",
    "    # Perform chi-squared test\n",
    "    chi2_pair, p_pair, dof_pair, expected = chi2_contingency(pair_table)\n",
    "    \n",
    "    # Calculate residuals and standardized residuals\n",
    "    residuals = pair_table - expected\n",
    "    standardized_residuals = residuals / np.sqrt(expected)\n",
    "    \n",
    "    # Append results\n",
    "    pairwise_results.append((pair, chi2_pair, p_pair))\n",
    "    pairwise_residuals[pair] = standardized_residuals"
   ]
  },
  {
   "cell_type": "code",
   "execution_count": 162,
   "id": "ef08daa3",
   "metadata": {},
   "outputs": [],
   "source": [
    "# Extract p-values for correction\n",
    "p_values = [result[2] for result in pairwise_results]"
   ]
  },
  {
   "cell_type": "code",
   "execution_count": 163,
   "id": "2dd3ea47",
   "metadata": {},
   "outputs": [],
   "source": [
    "# Apply Bonferroni correction\n",
    "adjusted_p_values = multipletests(p_values, method='bonferroni')[1]"
   ]
  },
  {
   "cell_type": "code",
   "execution_count": 164,
   "id": "a2fe7bef",
   "metadata": {
    "scrolled": true
   },
   "outputs": [
    {
     "name": "stdout",
     "output_type": "stream",
     "text": [
      "\n",
      "Pairwise Chi-Squared Test Results (with Bonferroni correction):\n",
      "=================================================================\n",
      "Community Pair           Chi2      p-value        Adj. p-value   \n",
      "-----------------------------------------------------------------\n",
      "(0, 1)                   72.1870   1.2457e-10     3.7372e-10     \n",
      "(0, 2)                   25.1040   1.4338e-02     4.3013e-02     \n",
      "(1, 2)                   18.4629   1.0234e-01     3.0702e-01     \n"
     ]
    }
   ],
   "source": [
    "# Print pairwise results with adjusted p-values\n",
    "print(\"\\nPairwise Chi-Squared Test Results (with Bonferroni correction):\")\n",
    "print(\"=\"*65)\n",
    "print(f\"{'Community Pair':<25}{'Chi2':<10}{'p-value':<15}{'Adj. p-value':<15}\")\n",
    "print(\"-\"*65)\n",
    "\n",
    "for i, (pair, chi2_pair, p_pair) in enumerate(pairwise_results):\n",
    "    print(f\"{str(pair):<25}{chi2_pair:<10.4f}{p_pair:<15.4e}{adjusted_p_values[i]:<15.4e}\")"
   ]
  },
  {
   "cell_type": "markdown",
   "id": "8c54c3c1",
   "metadata": {},
   "source": [
    "* Result: Comparing pairwise, \n",
    "    * (0, 1) community: adjusted p-value << 0.05 --- significant difference\n",
    "    * (0, 2) community: adjusted p-value < 0.05 --- significant difference\n",
    "    * (1, 2) community: adjusted p-value > 0.05 --- no significant difference"
   ]
  },
  {
   "cell_type": "code",
   "execution_count": 165,
   "id": "8ecbd00b",
   "metadata": {},
   "outputs": [
    {
     "name": "stdout",
     "output_type": "stream",
     "text": [
      "\n",
      "Standardized Residuals for Each Pairwise Comparison:\n",
      "\n",
      "Pair: (0, 1)\n",
      "                         0     1\n",
      "PRE_present_religion            \n",
      "-9                    2.34 -1.57\n",
      " 1                   -3.37  2.26\n",
      " 2                    1.78 -1.19\n",
      " 3                    0.87 -0.58\n",
      " 4                    0.04 -0.03\n",
      " 5                   -1.56  1.04\n",
      " 6                    1.09 -0.73\n",
      " 7                   -1.17  0.79\n",
      " 8                    0.05 -0.03\n",
      " 9                   -2.85  1.91\n",
      " 10                  -1.55  1.04\n",
      " 11                   1.27 -0.85\n",
      " 12                   3.46 -2.32\n",
      "\n",
      "Pair: (0, 2)\n",
      "                         0     2\n",
      "PRE_present_religion            \n",
      "-9                    0.84 -0.78\n",
      " 1                   -1.65  1.53\n",
      " 2                    1.37 -1.27\n",
      " 3                    0.05 -0.05\n",
      " 4                    0.02 -0.02\n",
      " 5                   -0.27  0.25\n",
      " 6                    0.02 -0.02\n",
      " 7                   -0.41  0.39\n",
      " 8                    0.19 -0.17\n",
      " 9                   -2.15  2.00\n",
      " 10                  -1.14  1.06\n",
      " 11                   1.01 -0.94\n",
      " 12                   0.97 -0.90\n",
      "\n",
      "Pair: (1, 2)\n",
      "                         1     2\n",
      "PRE_present_religion            \n",
      "-9                   -0.85  1.18\n",
      " 1                    0.98 -1.36\n",
      " 2                    0.00 -0.00\n",
      " 3                   -0.59  0.82\n",
      " 4                   -0.01  0.01\n",
      " 5                    0.92 -1.27\n",
      " 6                   -0.78  1.08\n",
      " 7                    0.51 -0.71\n",
      " 8                    0.14 -0.20\n",
      " 9                    0.16 -0.23\n",
      " 10                   0.09 -0.12\n",
      " 11                   0.03 -0.04\n",
      " 12                  -1.59  2.20\n"
     ]
    }
   ],
   "source": [
    "# Print standardized residuals for each pairwise comparison\n",
    "print(\"\\nStandardized Residuals for Each Pairwise Comparison:\")\n",
    "for pair, residuals_df in pairwise_residuals.items():\n",
    "    print(f\"\\nPair: {pair}\")\n",
    "    print(pd.DataFrame(residuals_df, index=contingency_table.index, columns=pair).round(2))"
   ]
  },
  {
   "cell_type": "markdown",
   "id": "7e234762",
   "metadata": {},
   "source": [
    "**Interpretation: Residuals**\n",
    "* Pair (0, 1): (needs to be filled)\n",
    "* Pair (0, 2): (needs to be filled)\n",
    "* Pair (1, 2): (needs to be filled)"
   ]
  },
  {
   "cell_type": "markdown",
   "id": "4881b2ef",
   "metadata": {},
   "source": [
    "### Analysis of the ANOVA and Chi-Square test results\n",
    "\n",
    "1. ANOVA\n",
    "\n",
    "     1) Table of metrics - mean, var, std, cardinality, p-value:\n",
    "        https://docs.google.com/spreadsheets/d/1E4k_kSAiAspQuXAbEuYquVKFuzHa5Ihz7mNryUj1jOU/edit#gid=446196028 -> update\n",
    "\n",
    "     2) Age: There is a **significant difference between the clusters with the distribution of 'age' feature.**\n",
    "\n",
    "2. Chi-Square\n",
    "\n",
    "    - Sex, Political leaning, Education level, Present Religion, Employment status shows there is a **significant difference between the clusters**. \n",
    "   "
   ]
  },
  {
   "cell_type": "code",
   "execution_count": null,
   "id": "d1c60463",
   "metadata": {},
   "outputs": [],
   "source": []
  }
 ],
 "metadata": {
  "kernelspec": {
   "display_name": "thesis-myenv",
   "language": "python",
   "name": "myenv"
  },
  "language_info": {
   "codemirror_mode": {
    "name": "ipython",
    "version": 3
   },
   "file_extension": ".py",
   "mimetype": "text/x-python",
   "name": "python",
   "nbconvert_exporter": "python",
   "pygments_lexer": "ipython3",
   "version": "3.9.13"
  }
 },
 "nbformat": 4,
 "nbformat_minor": 5
}
