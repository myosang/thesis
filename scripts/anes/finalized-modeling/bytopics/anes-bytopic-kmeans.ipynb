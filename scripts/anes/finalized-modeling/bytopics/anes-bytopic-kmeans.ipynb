{
 "cells": [
  {
   "cell_type": "markdown",
   "id": "0b54c3d7",
   "metadata": {},
   "source": [
    "# Stack the responses up"
   ]
  },
  {
   "cell_type": "code",
   "execution_count": 1,
   "id": "ea37fc11",
   "metadata": {
    "scrolled": false
   },
   "outputs": [
    {
     "name": "stderr",
     "output_type": "stream",
     "text": [
      "/mnt/home/kim/venvs/my_environment/lib/python3.9/site-packages/umap/distances.py:1063: NumbaDeprecationWarning: \u001b[1mThe 'nopython' keyword argument was not supplied to the 'numba.jit' decorator. The implicit default value for this argument is currently False, but it will be changed to True in Numba 0.59.0. See https://numba.readthedocs.io/en/stable/reference/deprecation.html#deprecation-of-object-mode-fall-back-behaviour-when-using-jit for details.\u001b[0m\n",
      "  @numba.jit()\n",
      "/mnt/home/kim/venvs/my_environment/lib/python3.9/site-packages/umap/distances.py:1071: NumbaDeprecationWarning: \u001b[1mThe 'nopython' keyword argument was not supplied to the 'numba.jit' decorator. The implicit default value for this argument is currently False, but it will be changed to True in Numba 0.59.0. See https://numba.readthedocs.io/en/stable/reference/deprecation.html#deprecation-of-object-mode-fall-back-behaviour-when-using-jit for details.\u001b[0m\n",
      "  @numba.jit()\n",
      "/mnt/home/kim/venvs/my_environment/lib/python3.9/site-packages/umap/distances.py:1086: NumbaDeprecationWarning: \u001b[1mThe 'nopython' keyword argument was not supplied to the 'numba.jit' decorator. The implicit default value for this argument is currently False, but it will be changed to True in Numba 0.59.0. See https://numba.readthedocs.io/en/stable/reference/deprecation.html#deprecation-of-object-mode-fall-back-behaviour-when-using-jit for details.\u001b[0m\n",
      "  @numba.jit()\n",
      "/mnt/home/kim/venvs/my_environment/lib/python3.9/site-packages/umap/umap_.py:660: NumbaDeprecationWarning: \u001b[1mThe 'nopython' keyword argument was not supplied to the 'numba.jit' decorator. The implicit default value for this argument is currently False, but it will be changed to True in Numba 0.59.0. See https://numba.readthedocs.io/en/stable/reference/deprecation.html#deprecation-of-object-mode-fall-back-behaviour-when-using-jit for details.\u001b[0m\n",
      "  @numba.jit()\n",
      "2024-08-14 14:52:28.988439: I external/local_xla/xla/tsl/cuda/cudart_stub.cc:32] Could not find cuda drivers on your machine, GPU will not be used.\n",
      "2024-08-14 14:52:28.991908: I external/local_xla/xla/tsl/cuda/cudart_stub.cc:32] Could not find cuda drivers on your machine, GPU will not be used.\n",
      "2024-08-14 14:52:29.002836: E external/local_xla/xla/stream_executor/cuda/cuda_fft.cc:485] Unable to register cuFFT factory: Attempting to register factory for plugin cuFFT when one has already been registered\n",
      "2024-08-14 14:52:29.021142: E external/local_xla/xla/stream_executor/cuda/cuda_dnn.cc:8454] Unable to register cuDNN factory: Attempting to register factory for plugin cuDNN when one has already been registered\n",
      "2024-08-14 14:52:29.026708: E external/local_xla/xla/stream_executor/cuda/cuda_blas.cc:1452] Unable to register cuBLAS factory: Attempting to register factory for plugin cuBLAS when one has already been registered\n",
      "2024-08-14 14:52:29.041058: I tensorflow/core/platform/cpu_feature_guard.cc:210] This TensorFlow binary is optimized to use available CPU instructions in performance-critical operations.\n",
      "To enable the following instructions: AVX2 FMA, in other operations, rebuild TensorFlow with the appropriate compiler flags.\n",
      "2024-08-14 14:52:31.617985: W tensorflow/compiler/tf2tensorrt/utils/py_utils.cc:38] TF-TRT Warning: Could not find TensorRT\n"
     ]
    }
   ],
   "source": [
    "import pandas as pd\n",
    "import numpy as np\n",
    "from ast import literal_eval\n",
    "from sklearn.decomposition import PCA\n",
    "from sklearn.cluster import KMeans\n",
    "from sklearn import metrics\n",
    "from sklearn.metrics import silhouette_score, calinski_harabasz_score, davies_bouldin_score\n",
    "from scipy.spatial.distance import cdist\n",
    "import matplotlib.pyplot as plt\n",
    "from sklearn.preprocessing import StandardScaler\n",
    "from umap import UMAP"
   ]
  },
  {
   "cell_type": "markdown",
   "id": "588ab0f7",
   "metadata": {},
   "source": [
    "## Demographics dataset"
   ]
  },
  {
   "cell_type": "code",
   "execution_count": 2,
   "id": "46fc622e",
   "metadata": {
    "scrolled": true
   },
   "outputs": [],
   "source": [
    "# get the demographcis dataset\n",
    "demos = pd.read_csv('~/thesis/data/processed_data/anes_demographics.csv')"
   ]
  },
  {
   "cell_type": "code",
   "execution_count": 3,
   "id": "532b6395",
   "metadata": {},
   "outputs": [],
   "source": [
    "demos.set_index('id_case', inplace=True)"
   ]
  },
  {
   "cell_type": "code",
   "execution_count": 4,
   "id": "5b72935d",
   "metadata": {},
   "outputs": [
    {
     "data": {
      "text/plain": [
       "Index([200015, 200022, 200039, 200046, 200053, 200060, 200084, 200091, 200107,\n",
       "       200114,\n",
       "       ...\n",
       "       535216, 535230, 535254, 535292, 535308, 535315, 535360, 535414, 535421,\n",
       "       535469],\n",
       "      dtype='int64', name='id_case', length=8280)"
      ]
     },
     "execution_count": 4,
     "metadata": {},
     "output_type": "execute_result"
    }
   ],
   "source": [
    "demos.index"
   ]
  },
  {
   "cell_type": "markdown",
   "id": "cfdd7105",
   "metadata": {},
   "source": [
    "### filter only the YES vote to the president"
   ]
  },
  {
   "cell_type": "code",
   "execution_count": 5,
   "id": "4450a077",
   "metadata": {},
   "outputs": [],
   "source": [
    "demos = demos[demos['POST_vote'] == 1]"
   ]
  },
  {
   "cell_type": "markdown",
   "id": "158b5bcc",
   "metadata": {},
   "source": [
    "## 1. dataset and embedding\n",
    "* data: stacked embeddings\n",
    "* word-embedding: distilbert\n",
    "* difference: stack all the responses"
   ]
  },
  {
   "cell_type": "code",
   "execution_count": 6,
   "id": "2d3a5e0e",
   "metadata": {
    "scrolled": true
   },
   "outputs": [],
   "source": [
    "# Read the embedding file. Check generating procedure from the 'generate_embedding.ipynb' file. \n",
    "emb = pd.read_json(\"~/thesis/embeddings/response_distilbert_stack.jsonl\", orient = 'records', lines = True)"
   ]
  },
  {
   "cell_type": "code",
   "execution_count": 7,
   "id": "b043a22d",
   "metadata": {},
   "outputs": [
    {
     "data": {
      "text/html": [
       "<div>\n",
       "<style scoped>\n",
       "    .dataframe tbody tr th:only-of-type {\n",
       "        vertical-align: middle;\n",
       "    }\n",
       "\n",
       "    .dataframe tbody tr th {\n",
       "        vertical-align: top;\n",
       "    }\n",
       "\n",
       "    .dataframe thead th {\n",
       "        text-align: right;\n",
       "    }\n",
       "</style>\n",
       "<table border=\"1\" class=\"dataframe\">\n",
       "  <thead>\n",
       "    <tr style=\"text-align: right;\">\n",
       "      <th></th>\n",
       "      <th>id_case</th>\n",
       "      <th>stack</th>\n",
       "    </tr>\n",
       "  </thead>\n",
       "  <tbody>\n",
       "    <tr>\n",
       "      <th>0</th>\n",
       "      <td>200015</td>\n",
       "      <td>[-0.0944291651, 0.11583015320000001, -0.522738...</td>\n",
       "    </tr>\n",
       "    <tr>\n",
       "      <th>1</th>\n",
       "      <td>200022</td>\n",
       "      <td>[-0.227941528, -0.2221784741, 0.0722830296, -0...</td>\n",
       "    </tr>\n",
       "    <tr>\n",
       "      <th>2</th>\n",
       "      <td>200039</td>\n",
       "      <td>[-0.31465277080000004, -0.1669896692, -0.14315...</td>\n",
       "    </tr>\n",
       "    <tr>\n",
       "      <th>3</th>\n",
       "      <td>200046</td>\n",
       "      <td>[-0.44672465320000004, -0.21085768940000002, -...</td>\n",
       "    </tr>\n",
       "    <tr>\n",
       "      <th>4</th>\n",
       "      <td>200053</td>\n",
       "      <td>[-0.1235457361, -0.0382902212, -0.2772190571, ...</td>\n",
       "    </tr>\n",
       "    <tr>\n",
       "      <th>...</th>\n",
       "      <td>...</td>\n",
       "      <td>...</td>\n",
       "    </tr>\n",
       "    <tr>\n",
       "      <th>16511</th>\n",
       "      <td>535360</td>\n",
       "      <td>[0.08293481920000001, -0.147975415, -0.2894186...</td>\n",
       "    </tr>\n",
       "    <tr>\n",
       "      <th>16512</th>\n",
       "      <td>535414</td>\n",
       "      <td>[-0.25563645360000004, -0.0924206674, 0.046009...</td>\n",
       "    </tr>\n",
       "    <tr>\n",
       "      <th>16513</th>\n",
       "      <td>535421</td>\n",
       "      <td>[-0.282428503, -0.0667776763, -0.0506431349000...</td>\n",
       "    </tr>\n",
       "    <tr>\n",
       "      <th>16514</th>\n",
       "      <td>535469</td>\n",
       "      <td>[0.1071104258, -0.0365130864, -0.0864751041, 0...</td>\n",
       "    </tr>\n",
       "    <tr>\n",
       "      <th>16515</th>\n",
       "      <td>id_case</td>\n",
       "      <td>[200015, 200022, 200039, 200046, 200053, 20006...</td>\n",
       "    </tr>\n",
       "  </tbody>\n",
       "</table>\n",
       "<p>16516 rows × 2 columns</p>\n",
       "</div>"
      ],
      "text/plain": [
       "       id_case                                              stack\n",
       "0       200015  [-0.0944291651, 0.11583015320000001, -0.522738...\n",
       "1       200022  [-0.227941528, -0.2221784741, 0.0722830296, -0...\n",
       "2       200039  [-0.31465277080000004, -0.1669896692, -0.14315...\n",
       "3       200046  [-0.44672465320000004, -0.21085768940000002, -...\n",
       "4       200053  [-0.1235457361, -0.0382902212, -0.2772190571, ...\n",
       "...        ...                                                ...\n",
       "16511   535360  [0.08293481920000001, -0.147975415, -0.2894186...\n",
       "16512   535414  [-0.25563645360000004, -0.0924206674, 0.046009...\n",
       "16513   535421  [-0.282428503, -0.0667776763, -0.0506431349000...\n",
       "16514   535469  [0.1071104258, -0.0365130864, -0.0864751041, 0...\n",
       "16515  id_case  [200015, 200022, 200039, 200046, 200053, 20006...\n",
       "\n",
       "[16516 rows x 2 columns]"
      ]
     },
     "execution_count": 7,
     "metadata": {},
     "output_type": "execute_result"
    }
   ],
   "source": [
    "emb"
   ]
  },
  {
   "cell_type": "code",
   "execution_count": 8,
   "id": "cc1b4798",
   "metadata": {},
   "outputs": [],
   "source": [
    "emb = emb[emb['id_case'].isin(demos.index)]"
   ]
  },
  {
   "cell_type": "code",
   "execution_count": 9,
   "id": "48a4f4a8",
   "metadata": {},
   "outputs": [
    {
     "data": {
      "text/html": [
       "<div>\n",
       "<style scoped>\n",
       "    .dataframe tbody tr th:only-of-type {\n",
       "        vertical-align: middle;\n",
       "    }\n",
       "\n",
       "    .dataframe tbody tr th {\n",
       "        vertical-align: top;\n",
       "    }\n",
       "\n",
       "    .dataframe thead th {\n",
       "        text-align: right;\n",
       "    }\n",
       "</style>\n",
       "<table border=\"1\" class=\"dataframe\">\n",
       "  <thead>\n",
       "    <tr style=\"text-align: right;\">\n",
       "      <th></th>\n",
       "      <th>id_case</th>\n",
       "      <th>stack</th>\n",
       "    </tr>\n",
       "  </thead>\n",
       "  <tbody>\n",
       "    <tr>\n",
       "      <th>1</th>\n",
       "      <td>200022</td>\n",
       "      <td>[-0.227941528, -0.2221784741, 0.0722830296, -0...</td>\n",
       "    </tr>\n",
       "    <tr>\n",
       "      <th>2</th>\n",
       "      <td>200039</td>\n",
       "      <td>[-0.31465277080000004, -0.1669896692, -0.14315...</td>\n",
       "    </tr>\n",
       "    <tr>\n",
       "      <th>3</th>\n",
       "      <td>200046</td>\n",
       "      <td>[-0.44672465320000004, -0.21085768940000002, -...</td>\n",
       "    </tr>\n",
       "    <tr>\n",
       "      <th>4</th>\n",
       "      <td>200053</td>\n",
       "      <td>[-0.1235457361, -0.0382902212, -0.2772190571, ...</td>\n",
       "    </tr>\n",
       "    <tr>\n",
       "      <th>5</th>\n",
       "      <td>200060</td>\n",
       "      <td>[-0.1952392161, -0.198322773, -0.2377441674, 0...</td>\n",
       "    </tr>\n",
       "    <tr>\n",
       "      <th>...</th>\n",
       "      <td>...</td>\n",
       "      <td>...</td>\n",
       "    </tr>\n",
       "    <tr>\n",
       "      <th>16509</th>\n",
       "      <td>535292</td>\n",
       "      <td>[0.0800312385, -0.1159780398, -0.0896203369, 0...</td>\n",
       "    </tr>\n",
       "    <tr>\n",
       "      <th>16510</th>\n",
       "      <td>535308</td>\n",
       "      <td>[-0.0827028602, 0.024626174900000002, -0.22921...</td>\n",
       "    </tr>\n",
       "    <tr>\n",
       "      <th>16511</th>\n",
       "      <td>535360</td>\n",
       "      <td>[0.08293481920000001, -0.147975415, -0.2894186...</td>\n",
       "    </tr>\n",
       "    <tr>\n",
       "      <th>16512</th>\n",
       "      <td>535414</td>\n",
       "      <td>[-0.25563645360000004, -0.0924206674, 0.046009...</td>\n",
       "    </tr>\n",
       "    <tr>\n",
       "      <th>16514</th>\n",
       "      <td>535469</td>\n",
       "      <td>[0.1071104258, -0.0365130864, -0.0864751041, 0...</td>\n",
       "    </tr>\n",
       "  </tbody>\n",
       "</table>\n",
       "<p>13426 rows × 2 columns</p>\n",
       "</div>"
      ],
      "text/plain": [
       "      id_case                                              stack\n",
       "1      200022  [-0.227941528, -0.2221784741, 0.0722830296, -0...\n",
       "2      200039  [-0.31465277080000004, -0.1669896692, -0.14315...\n",
       "3      200046  [-0.44672465320000004, -0.21085768940000002, -...\n",
       "4      200053  [-0.1235457361, -0.0382902212, -0.2772190571, ...\n",
       "5      200060  [-0.1952392161, -0.198322773, -0.2377441674, 0...\n",
       "...       ...                                                ...\n",
       "16509  535292  [0.0800312385, -0.1159780398, -0.0896203369, 0...\n",
       "16510  535308  [-0.0827028602, 0.024626174900000002, -0.22921...\n",
       "16511  535360  [0.08293481920000001, -0.147975415, -0.2894186...\n",
       "16512  535414  [-0.25563645360000004, -0.0924206674, 0.046009...\n",
       "16514  535469  [0.1071104258, -0.0365130864, -0.0864751041, 0...\n",
       "\n",
       "[13426 rows x 2 columns]"
      ]
     },
     "execution_count": 9,
     "metadata": {},
     "output_type": "execute_result"
    }
   ],
   "source": [
    "emb"
   ]
  },
  {
   "cell_type": "code",
   "execution_count": 10,
   "id": "79dec70f",
   "metadata": {
    "scrolled": true
   },
   "outputs": [
    {
     "name": "stderr",
     "output_type": "stream",
     "text": [
      "/tmp/ipykernel_1226422/1083339926.py:3: SettingWithCopyWarning: \n",
      "A value is trying to be set on a copy of a slice from a DataFrame.\n",
      "Try using .loc[row_indexer,col_indexer] = value instead\n",
      "\n",
      "See the caveats in the documentation: https://pandas.pydata.org/pandas-docs/stable/user_guide/indexing.html#returning-a-view-versus-a-copy\n",
      "  emb['stack'] = emb['stack'].apply(np.array)  # convert list to numpy array\n"
     ]
    },
    {
     "data": {
      "text/plain": [
       "(13426, 768)"
      ]
     },
     "execution_count": 10,
     "metadata": {},
     "output_type": "execute_result"
    }
   ],
   "source": [
    "# \"transform embedding\"\n",
    "from ast import literal_eval\n",
    "emb['stack'] = emb['stack'].apply(np.array)  # convert list to numpy array\n",
    "matrix = np.vstack(emb['stack'].values)\n",
    "matrix.shape"
   ]
  },
  {
   "cell_type": "code",
   "execution_count": 11,
   "id": "967cda12",
   "metadata": {
    "scrolled": false
   },
   "outputs": [],
   "source": [
    "X = matrix.copy()"
   ]
  },
  {
   "cell_type": "code",
   "execution_count": 12,
   "id": "0d09a6e6",
   "metadata": {},
   "outputs": [
    {
     "data": {
      "text/plain": [
       "(13426, 768)"
      ]
     },
     "execution_count": 12,
     "metadata": {},
     "output_type": "execute_result"
    }
   ],
   "source": [
    "X.shape"
   ]
  },
  {
   "cell_type": "markdown",
   "id": "8b98be54",
   "metadata": {},
   "source": [
    "## Dimensionality reduction"
   ]
  },
  {
   "cell_type": "markdown",
   "id": "4114f417",
   "metadata": {},
   "source": [
    "### UMAP"
   ]
  },
  {
   "cell_type": "code",
   "execution_count": 13,
   "id": "12a15d5e",
   "metadata": {
    "scrolled": true
   },
   "outputs": [],
   "source": [
    "# Step 1: Normalize the data\n",
    "normalized_embeddings = StandardScaler().fit_transform(X)"
   ]
  },
  {
   "cell_type": "code",
   "execution_count": 14,
   "id": "de87be6c",
   "metadata": {},
   "outputs": [],
   "source": [
    "# Step 2: Apply UMAP for dimensionality reduction\n",
    "umap_model = UMAP(n_neighbors=10, min_dist=0.1, n_components=2, random_state=0)\n",
    "umap_embeddings = umap_model.fit_transform(normalized_embeddings)\n",
    "X = umap_embeddings.copy()"
   ]
  },
  {
   "cell_type": "markdown",
   "id": "2bb8c98a",
   "metadata": {},
   "source": [
    "### silhouette score"
   ]
  },
  {
   "cell_type": "code",
   "execution_count": 15,
   "id": "57d4e637",
   "metadata": {
    "scrolled": true
   },
   "outputs": [],
   "source": [
    "# Step 3: Use silhouette score to find optimal number of clusters\n",
    "silhouette_scores = []\n",
    "for num_clusters in range(2, 11):\n",
    "    kmeans = KMeans(n_clusters=num_clusters, random_state=0)\n",
    "    cluster_labels = kmeans.fit_predict(X)\n",
    "    silhouette_scores.append(silhouette_score(X, cluster_labels))\n",
    "\n",
    "optimal_num_clusters = silhouette_scores.index(max(silhouette_scores)) + 2"
   ]
  },
  {
   "cell_type": "markdown",
   "id": "8e38662b",
   "metadata": {},
   "source": [
    "The last line derives from the fact that silhouette score is calculated from the num_cluster 2, so therefore if retrieving index of the lists, the first element's index is 0 but it indicates the value of num_cluster 2, therefore +2 would make it easier to retrieve the value. \n"
   ]
  },
  {
   "cell_type": "code",
   "execution_count": 16,
   "id": "605d0e44",
   "metadata": {
    "scrolled": true
   },
   "outputs": [
    {
     "data": {
      "text/plain": [
       "4"
      ]
     },
     "execution_count": 16,
     "metadata": {},
     "output_type": "execute_result"
    }
   ],
   "source": [
    "optimal_num_clusters"
   ]
  },
  {
   "cell_type": "markdown",
   "id": "af387ce0",
   "metadata": {},
   "source": [
    "### elbow method"
   ]
  },
  {
   "cell_type": "code",
   "execution_count": 17,
   "id": "56e04177",
   "metadata": {
    "scrolled": false
   },
   "outputs": [],
   "source": [
    "# Use Elbow-analysis as well to find optimal number of clusters\n",
    "# Elbow analysis\n",
    "distortions = []\n",
    "inertias = []\n",
    "mapping1 = {}\n",
    "mapping2 = {}\n",
    "K = range(1, 20)\n",
    "\n",
    "for k in K:\n",
    "    # Building and fitting the model\n",
    "    kmeanModel = KMeans(n_clusters=k).fit(X)\n",
    "    kmeanModel.fit(X)\n",
    "\n",
    "    distortions.append(sum(np.min(cdist(X, kmeanModel.cluster_centers_,\n",
    "                                        'euclidean'), axis=1)) / X.shape[0])\n",
    "    inertias.append(kmeanModel.inertia_)\n",
    "\n",
    "    mapping1[k] = sum(np.min(cdist(X, kmeanModel.cluster_centers_,\n",
    "                                   'euclidean'), axis=1)) / X.shape[0]\n",
    "    mapping2[k] = kmeanModel.inertia_"
   ]
  },
  {
   "cell_type": "code",
   "execution_count": 18,
   "id": "751f6969",
   "metadata": {},
   "outputs": [
    {
     "data": {
      "image/png": "[encoded data removed]",
      "text/plain": [
       "<Figure size 1200x400 with 2 Axes>"
      ]
     },
     "metadata": {},
     "output_type": "display_data"
    }
   ],
   "source": [
    "# Create a figure with subplots\n",
    "fig, (ax1, ax2) = plt.subplots(1, 2, figsize=(12, 4))  # Adjust figsize as needed\n",
    "\n",
    "# Plot the first plot on ax1\n",
    "ax1.plot(K, distortions, 'bx-')\n",
    "ax1.set_xlabel('Values of_K')\n",
    "ax1.set_ylabel('Distortion')\n",
    "ax1.set_title('The Elbow Method using Distortion')\n",
    "\n",
    "\n",
    "# Plot the second plot on ax2\n",
    "ax2.plot(K, inertias, 'bx-')\n",
    "ax2.set_xlabel('Values of_K')\n",
    "ax2.set_ylabel('Inertia')\n",
    "ax2.set_title('The Elbow Method using Inertia')\n",
    "\n",
    "# Adjust layout to prevent overlap\n",
    "plt.tight_layout()\n",
    "\n",
    "# Display the plots\n",
    "plt.show()"
   ]
  },
  {
   "cell_type": "markdown",
   "id": "e3d2e9ee",
   "metadata": {},
   "source": [
    "## KMeans clustering"
   ]
  },
  {
   "cell_type": "code",
   "execution_count": 31,
   "id": "17abdb1b",
   "metadata": {
    "scrolled": false
   },
   "outputs": [
    {
     "name": "stderr",
     "output_type": "stream",
     "text": [
      "/tmp/ipykernel_1226422/257776505.py:6: SettingWithCopyWarning: \n",
      "A value is trying to be set on a copy of a slice from a DataFrame.\n",
      "Try using .loc[row_indexer,col_indexer] = value instead\n",
      "\n",
      "See the caveats in the documentation: https://pandas.pydata.org/pandas-docs/stable/user_guide/indexing.html#returning-a-view-versus-a-copy\n",
      "  emb['random_0'] = final_cluster_labels\n"
     ]
    }
   ],
   "source": [
    "# Step 4: Perform final clustering\n",
    "final_kmeans = KMeans(n_clusters = 4, random_state=0)\n",
    "final_cluster_labels = final_kmeans.fit_predict(X)\n",
    "\n",
    "# Save the result of clustering with random state 0 as a dataframe column\n",
    "emb['random_0'] = final_cluster_labels  "
   ]
  },
  {
   "cell_type": "code",
   "execution_count": 32,
   "id": "a4f6f791",
   "metadata": {},
   "outputs": [
    {
     "data": {
      "image/png": "[encoded data removed]",
      "text/plain": [
       "<Figure size 640x480 with 2 Axes>"
      ]
     },
     "metadata": {},
     "output_type": "display_data"
    }
   ],
   "source": [
    "# Visualize clustering depending on different random states.\n",
    "figures = [] # list to hold different figures. \n",
    "\n",
    "fig1, ax1 = plt.subplots()\n",
    "scatter = ax1.scatter(X[:, 0], X[:, 1], c=final_cluster_labels, cmap='viridis')\n",
    "ax1.set_xlabel('UMAP Dimension 1')\n",
    "ax1.set_ylabel('UMAP Dimension 2')\n",
    "ax1.set_title('UMAP Visualization of Text Clusters')\n",
    "\n",
    "colorbar = plt.colorbar(scatter, ax=ax1)\n",
    "colorbar.set_label('Cluster Label')\n",
    "\n",
    "figures.append(fig1)"
   ]
  },
  {
   "cell_type": "code",
   "execution_count": 33,
   "id": "44e61e2f",
   "metadata": {},
   "outputs": [
    {
     "name": "stdout",
     "output_type": "stream",
     "text": [
      "\n",
      "\"Question 1\"\n",
      "\n",
      "Silhouette Coefficient: 0.3847624957561493\n",
      "Calinski-Harabasz Index: 7672.59965465458\n",
      "Davies-Bouldin Index: 0.8051940457391522\n"
     ]
    }
   ],
   "source": [
    "# Cluster labels obtained from clustering algorithm\n",
    "\n",
    "final_cluster_labels # cluster_labels_from_bert\n",
    "X # contextualized tokens of the input texts.\n",
    "\n",
    "# Specify the question that is addressed. \n",
    "print(\"\\n\\\"Question 1\\\"\\n\")\n",
    "\n",
    "# Calculate Silhouette Coefficient\n",
    "silhouette = silhouette_score(X, final_cluster_labels)\n",
    "print(f\"Silhouette Coefficient: {silhouette}\")\n",
    "\n",
    "# Calculate Calinski-Harabasz Index\n",
    "calinski = calinski_harabasz_score(X, final_cluster_labels)\n",
    "print(f\"Calinski-Harabasz Index: {calinski}\")\n",
    "\n",
    "# Calculate Davies-Bouldin Index\n",
    "davies_bouldin = davies_bouldin_score(X, final_cluster_labels)\n",
    "print(f\"Davies-Bouldin Index: {davies_bouldin}\")"
   ]
  },
  {
   "cell_type": "markdown",
   "id": "f53ec2cf",
   "metadata": {},
   "source": [
    "## evaluation metrics: NPMI"
   ]
  },
  {
   "cell_type": "code",
   "execution_count": 34,
   "id": "fc003d9c",
   "metadata": {},
   "outputs": [
    {
     "name": "stderr",
     "output_type": "stream",
     "text": [
      "[nltk_data] Downloading package stopwords to\n",
      "[nltk_data]     /mnt/home/kim/nltk_data...\n",
      "[nltk_data]   Package stopwords is already up-to-date!\n"
     ]
    }
   ],
   "source": [
    "import nltk\n",
    "nltk.download('stopwords')\n",
    "from nltk.corpus import stopwords\n",
    "from collections import Counter\n",
    "from itertools import combinations\n",
    "import gensim\n",
    "from gensim.utils import simple_preprocess"
   ]
  },
  {
   "cell_type": "code",
   "execution_count": 35,
   "id": "9a0804bc",
   "metadata": {},
   "outputs": [],
   "source": [
    "# retrieve text documents to check the clustering results with NPMI\n",
    "data = pd.read_json('~/thesis/data/processed_uscensus/political_mentions_stack.jsonl', orient='records', lines=True)\n",
    "documents = data['stack'].tolist()"
   ]
  },
  {
   "cell_type": "code",
   "execution_count": 36,
   "id": "4bda2918",
   "metadata": {},
   "outputs": [],
   "source": [
    "# again remove the stopwords while considering extended version. \n",
    "\n",
    "stop_words = stopwords.words('english')\n",
    "stop_words.extend(['from', 'subject', 're', 'edu', 'use'])\n",
    "\n",
    "def sent_to_words(sentences):\n",
    "    for sentence in sentences:\n",
    "        yield(gensim.utils.simple_preprocess(str(sentence), deacc=True))\n",
    "\n",
    "def remove_stopwords(texts):\n",
    "    return [[word for word in simple_preprocess(str(doc)) if word not in stop_words] for doc in texts]\n",
    "\n",
    "data_words = list(sent_to_words(documents))\n",
    "data_words = remove_stopwords(data_words)"
   ]
  },
  {
   "cell_type": "code",
   "execution_count": 37,
   "id": "bcce9e60",
   "metadata": {},
   "outputs": [],
   "source": [
    "# Group documents by cluster\n",
    "clustered_docs = [[] for _ in range(optimal_num_clusters)]\n",
    "for doc, label in zip(data_words, final_cluster_labels):\n",
    "    clustered_docs[label].append(doc)"
   ]
  },
  {
   "cell_type": "code",
   "execution_count": 38,
   "id": "2d8cbb27",
   "metadata": {},
   "outputs": [
    {
     "name": "stdout",
     "output_type": "stream",
     "text": [
      "Average NPMI for KMeans clusters: 0.010365692634924544\n"
     ]
    }
   ],
   "source": [
    "# Compute co-occurrence matrix\n",
    "def compute_cooccurrence_matrix(texts):\n",
    "    word_counts = Counter(word for text in texts for word in text)\n",
    "    total_count = sum(word_counts.values())\n",
    "    word_pairs = Counter()\n",
    "    for text in texts:\n",
    "        for i, j in combinations(set(text), 2):\n",
    "            word_pairs[tuple(sorted([i, j]))] += 1\n",
    "    return word_pairs, word_counts, total_count\n",
    "\n",
    "# Compute NPMI\n",
    "def compute_npmi(word_pairs, word_counts, total_count):\n",
    "    npmi_matrix = {}\n",
    "    for (w_i, w_j), cooccur_count in word_pairs.items():\n",
    "        p_i = word_counts[w_i] / total_count\n",
    "        p_j = word_counts[w_j] / total_count\n",
    "        p_ij = cooccur_count / total_count\n",
    "        if p_ij > 0:\n",
    "            pmi = np.log(p_ij / (p_i * p_j))\n",
    "            npmi = pmi / -np.log(p_ij)\n",
    "            npmi_matrix[(w_i, w_j)] = npmi\n",
    "    return npmi_matrix\n",
    "\n",
    "# Calculate average NPMI for each cluster\n",
    "def average_npmi_for_clusters(clustered_docs):\n",
    "    cluster_npmis = []\n",
    "    for docs in clustered_docs:\n",
    "        if not docs:\n",
    "            continue\n",
    "        word_pairs, word_counts, total_count = compute_cooccurrence_matrix(docs)\n",
    "        npmi_matrix = compute_npmi(word_pairs, word_counts, total_count)\n",
    "        top_words = list(word_counts.keys())\n",
    "        npmis = [npmi_matrix.get(tuple(sorted([w_i, w_j])), 0) for w_i, w_j in combinations(top_words, 2)]\n",
    "        if npmis:\n",
    "            cluster_npmi = np.mean(npmis)\n",
    "            cluster_npmis.append(cluster_npmi)\n",
    "    return np.mean(cluster_npmis) if cluster_npmis else 0\n",
    "\n",
    "average_npmi = average_npmi_for_clusters(clustered_docs)\n",
    "print(\"Average NPMI for KMeans clusters:\", average_npmi)"
   ]
  },
  {
   "cell_type": "code",
   "execution_count": null,
   "id": "4a71c91f",
   "metadata": {},
   "outputs": [],
   "source": []
  }
 ],
 "metadata": {
  "kernelspec": {
   "display_name": "Kim - 1st Custom Python environment",
   "language": "python",
   "name": "my-python-env"
  },
  "language_info": {
   "codemirror_mode": {
    "name": "ipython",
    "version": 3
   },
   "file_extension": ".py",
   "mimetype": "text/x-python",
   "name": "python",
   "nbconvert_exporter": "python",
   "pygments_lexer": "ipython3",
   "version": "3.9.12"
  }
 },
 "nbformat": 4,
 "nbformat_minor": 5
}
