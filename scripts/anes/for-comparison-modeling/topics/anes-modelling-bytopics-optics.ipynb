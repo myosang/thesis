{
 "cells": [
  {
   "cell_type": "markdown",
   "id": "b8b5597a",
   "metadata": {},
   "source": [
    "# OPTICS - responses stacked"
   ]
  },
  {
   "cell_type": "code",
   "execution_count": 1,
   "id": "cd47c685",
   "metadata": {},
   "outputs": [],
   "source": [
    "import matplotlib.gridspec as gridspec\n",
    "import matplotlib.pyplot as plt\n",
    "import numpy as np\n",
    "from sklearn.cluster import OPTICS, cluster_optics_dbscan\n",
    "import pandas as pd"
   ]
  },
  {
   "cell_type": "markdown",
   "id": "f872292e",
   "metadata": {},
   "source": [
    "## Embedding: Distilbert"
   ]
  },
  {
   "cell_type": "markdown",
   "id": "36a40ae5",
   "metadata": {},
   "source": [
    "### Data: stacked responses"
   ]
  },
  {
   "cell_type": "code",
   "execution_count": 22,
   "id": "67a8a63b",
   "metadata": {
    "scrolled": true
   },
   "outputs": [],
   "source": [
    "# Read the embedding file. Check generating procedure from the 'generate_embedding.ipynb' file. \n",
    "emb = pd.read_json(\"~/thesis/embeddings/response_distilbert_stack.jsonl\", orient = 'records', lines = True)"
   ]
  },
  {
   "cell_type": "code",
   "execution_count": 23,
   "id": "7fb56534",
   "metadata": {},
   "outputs": [
    {
     "data": {
      "text/html": [
       "<div>\n",
       "<style scoped>\n",
       "    .dataframe tbody tr th:only-of-type {\n",
       "        vertical-align: middle;\n",
       "    }\n",
       "\n",
       "    .dataframe tbody tr th {\n",
       "        vertical-align: top;\n",
       "    }\n",
       "\n",
       "    .dataframe thead th {\n",
       "        text-align: right;\n",
       "    }\n",
       "</style>\n",
       "<table border=\"1\" class=\"dataframe\">\n",
       "  <thead>\n",
       "    <tr style=\"text-align: right;\">\n",
       "      <th></th>\n",
       "      <th>mentions_stack</th>\n",
       "    </tr>\n",
       "  </thead>\n",
       "  <tbody>\n",
       "    <tr>\n",
       "      <th>0</th>\n",
       "      <td>[-0.0944291651, 0.11583015320000001, -0.522738...</td>\n",
       "    </tr>\n",
       "    <tr>\n",
       "      <th>1</th>\n",
       "      <td>[-0.227941528, -0.2221784741, 0.0722830296, -0...</td>\n",
       "    </tr>\n",
       "    <tr>\n",
       "      <th>2</th>\n",
       "      <td>[-0.31465277080000004, -0.1669896692, -0.14315...</td>\n",
       "    </tr>\n",
       "    <tr>\n",
       "      <th>3</th>\n",
       "      <td>[-0.44672465320000004, -0.21085768940000002, -...</td>\n",
       "    </tr>\n",
       "    <tr>\n",
       "      <th>4</th>\n",
       "      <td>[-0.1235457361, -0.0382902212, -0.2772190571, ...</td>\n",
       "    </tr>\n",
       "  </tbody>\n",
       "</table>\n",
       "</div>"
      ],
      "text/plain": [
       "                                      mentions_stack\n",
       "0  [-0.0944291651, 0.11583015320000001, -0.522738...\n",
       "1  [-0.227941528, -0.2221784741, 0.0722830296, -0...\n",
       "2  [-0.31465277080000004, -0.1669896692, -0.14315...\n",
       "3  [-0.44672465320000004, -0.21085768940000002, -...\n",
       "4  [-0.1235457361, -0.0382902212, -0.2772190571, ..."
      ]
     },
     "execution_count": 23,
     "metadata": {},
     "output_type": "execute_result"
    }
   ],
   "source": [
    "emb.head(5)"
   ]
  },
  {
   "cell_type": "code",
   "execution_count": 24,
   "id": "0f4ce473",
   "metadata": {
    "scrolled": true
   },
   "outputs": [
    {
     "data": {
      "text/plain": [
       "(16515, 768)"
      ]
     },
     "execution_count": 24,
     "metadata": {},
     "output_type": "execute_result"
    }
   ],
   "source": [
    "# \"transform embedding\"\n",
    "from ast import literal_eval\n",
    "emb['mentions_stack'] = emb['mentions_stack'].apply(np.array)  # convert list to numpy array\n",
    "matrix = np.vstack(emb['mentions_stack'].values)\n",
    "matrix.shape"
   ]
  },
  {
   "cell_type": "code",
   "execution_count": 25,
   "id": "85a4af3f",
   "metadata": {
    "scrolled": false
   },
   "outputs": [],
   "source": [
    "X = matrix.copy()"
   ]
  },
  {
   "cell_type": "code",
   "execution_count": 26,
   "id": "94b05d7d",
   "metadata": {},
   "outputs": [
    {
     "data": {
      "text/plain": [
       "(16515, 768)"
      ]
     },
     "execution_count": 26,
     "metadata": {},
     "output_type": "execute_result"
    }
   ],
   "source": [
    "X.shape"
   ]
  },
  {
   "cell_type": "markdown",
   "id": "0f90eb0e",
   "metadata": {},
   "source": [
    "## Dimensionality reduction: UMAP"
   ]
  },
  {
   "cell_type": "code",
   "execution_count": 7,
   "id": "ea177671",
   "metadata": {
    "scrolled": true
   },
   "outputs": [
    {
     "name": "stderr",
     "output_type": "stream",
     "text": [
      "/mnt/home/kim/venvs/my_environment/lib/python3.9/site-packages/umap/distances.py:1063: NumbaDeprecationWarning: \u001b[1mThe 'nopython' keyword argument was not supplied to the 'numba.jit' decorator. The implicit default value for this argument is currently False, but it will be changed to True in Numba 0.59.0. See https://numba.readthedocs.io/en/stable/reference/deprecation.html#deprecation-of-object-mode-fall-back-behaviour-when-using-jit for details.\u001b[0m\n",
      "  @numba.jit()\n",
      "/mnt/home/kim/venvs/my_environment/lib/python3.9/site-packages/umap/distances.py:1071: NumbaDeprecationWarning: \u001b[1mThe 'nopython' keyword argument was not supplied to the 'numba.jit' decorator. The implicit default value for this argument is currently False, but it will be changed to True in Numba 0.59.0. See https://numba.readthedocs.io/en/stable/reference/deprecation.html#deprecation-of-object-mode-fall-back-behaviour-when-using-jit for details.\u001b[0m\n",
      "  @numba.jit()\n",
      "/mnt/home/kim/venvs/my_environment/lib/python3.9/site-packages/umap/distances.py:1086: NumbaDeprecationWarning: \u001b[1mThe 'nopython' keyword argument was not supplied to the 'numba.jit' decorator. The implicit default value for this argument is currently False, but it will be changed to True in Numba 0.59.0. See https://numba.readthedocs.io/en/stable/reference/deprecation.html#deprecation-of-object-mode-fall-back-behaviour-when-using-jit for details.\u001b[0m\n",
      "  @numba.jit()\n",
      "/mnt/home/kim/venvs/my_environment/lib/python3.9/site-packages/umap/umap_.py:660: NumbaDeprecationWarning: \u001b[1mThe 'nopython' keyword argument was not supplied to the 'numba.jit' decorator. The implicit default value for this argument is currently False, but it will be changed to True in Numba 0.59.0. See https://numba.readthedocs.io/en/stable/reference/deprecation.html#deprecation-of-object-mode-fall-back-behaviour-when-using-jit for details.\u001b[0m\n",
      "  @numba.jit()\n",
      "2024-08-07 10:58:43.644907: I external/local_xla/xla/tsl/cuda/cudart_stub.cc:32] Could not find cuda drivers on your machine, GPU will not be used.\n",
      "2024-08-07 10:58:43.651911: I external/local_xla/xla/tsl/cuda/cudart_stub.cc:32] Could not find cuda drivers on your machine, GPU will not be used.\n",
      "2024-08-07 10:58:43.665090: E external/local_xla/xla/stream_executor/cuda/cuda_fft.cc:485] Unable to register cuFFT factory: Attempting to register factory for plugin cuFFT when one has already been registered\n",
      "2024-08-07 10:58:43.680823: E external/local_xla/xla/stream_executor/cuda/cuda_dnn.cc:8454] Unable to register cuDNN factory: Attempting to register factory for plugin cuDNN when one has already been registered\n",
      "2024-08-07 10:58:43.685472: E external/local_xla/xla/stream_executor/cuda/cuda_blas.cc:1452] Unable to register cuBLAS factory: Attempting to register factory for plugin cuBLAS when one has already been registered\n",
      "2024-08-07 10:58:43.698534: I tensorflow/core/platform/cpu_feature_guard.cc:210] This TensorFlow binary is optimized to use available CPU instructions in performance-critical operations.\n",
      "To enable the following instructions: AVX2 FMA, in other operations, rebuild TensorFlow with the appropriate compiler flags.\n",
      "2024-08-07 10:58:47.344906: W tensorflow/compiler/tf2tensorrt/utils/py_utils.cc:38] TF-TRT Warning: Could not find TensorRT\n"
     ]
    }
   ],
   "source": [
    "from umap import UMAP\n",
    "from sklearn import metrics\n",
    "from sklearn.metrics import silhouette_score, calinski_harabasz_score, davies_bouldin_score\n",
    "from scipy.spatial.distance import cdist"
   ]
  },
  {
   "cell_type": "code",
   "execution_count": 8,
   "id": "ae03928c",
   "metadata": {
    "scrolled": true
   },
   "outputs": [],
   "source": [
    "# Step 1: Normalize the data\n",
    "from sklearn.preprocessing import StandardScaler\n",
    "normalized_embeddings = StandardScaler().fit_transform(X)"
   ]
  },
  {
   "cell_type": "code",
   "execution_count": 9,
   "id": "c853ec8b",
   "metadata": {},
   "outputs": [],
   "source": [
    "# Step 2: Apply UMAP for dimensionality reduction\n",
    "umap_model = UMAP(n_neighbors=10, min_dist=0.1, n_components=2, random_state=0)\n",
    "umap_embeddings = umap_model.fit_transform(normalized_embeddings)\n",
    "X = umap_embeddings.copy()"
   ]
  },
  {
   "cell_type": "code",
   "execution_count": null,
   "id": "31d343c3",
   "metadata": {},
   "outputs": [],
   "source": [
    "# Set the randomness\n",
    "np.random.seed(0)\n",
    "\n",
    "# Compute OPTICS clustering\n",
    "clustering = OPTICS(min_samples=5, xi=0.05, min_cluster_size=0.05)\n",
    "clustering.fit(X)"
   ]
  },
  {
   "cell_type": "code",
   "execution_count": null,
   "id": "a91fa2c4",
   "metadata": {},
   "outputs": [],
   "source": [
    "labels_050 = cluster_optics_dbscan(\n",
    "    reachability=clustering.reachability_,\n",
    "    core_distances=clustering.core_distances_,\n",
    "    ordering=clustering.ordering_,\n",
    "    eps=0.5,\n",
    ")\n",
    "labels_200 = cluster_optics_dbscan(\n",
    "    reachability=clustering.reachability_,\n",
    "    core_distances=clustering.core_distances_,\n",
    "    ordering=clustering.ordering_,\n",
    "    eps=2,\n",
    ")\n",
    "\n",
    "space = np.arange(len(X))\n",
    "reachability = clustering.reachability_[clustering.ordering_]\n",
    "labels = clustering.labels_[clustering.ordering_]\n",
    "\n",
    "\n",
    "# Create subplots\n",
    "plt.figure(figsize=(14, 10))\n",
    "G = gridspec.GridSpec(2, 3)\n",
    "\n",
    "# Reachability plot\n",
    "ax1 = plt.subplot(G[0, :])\n",
    "colors = [\"g.\", \"r.\", \"b.\", \"y.\", \"c.\"]\n",
    "for klass, color in enumerate(colors):\n",
    "    Xk = space[labels == klass]\n",
    "    Rk = reachability[labels == klass]\n",
    "    ax1.plot(Xk, Rk, color, alpha=0.3)\n",
    "ax1.plot(space[labels == -1], reachability[labels == -1], \"k.\", alpha=0.3)\n",
    "ax1.plot(space, np.full_like(space, 2.0, dtype=float), \"k-\", alpha=0.5)\n",
    "ax1.plot(space, np.full_like(space, 0.5, dtype=float), \"k-.\", alpha=0.5)\n",
    "ax1.set_ylabel(\"Reachability (epsilon distance)\")\n",
    "ax1.set_title(\"Reachability Plot\")\n",
    "\n",
    "# convert list X to array X for the visualization\n",
    "X = np.array(X) \n",
    "\n",
    "# Automatic Clustering with OPTICS\n",
    "ax2 = plt.subplot(G[1, 0])\n",
    "colors = [\"g.\", \"r.\", \"b.\", \"y.\", \"c.\"]\n",
    "for klass, color in enumerate(colors):\n",
    "    Xk = X[ clustering.labels_ == klass]\n",
    "    ax2.plot(Xk[:, 0], Xk[:, 1], color, alpha=0.3)\n",
    "ax2.plot(X[clustering.labels_ == -1, 0], X[clustering.labels_ == -1, 1], \"k+\", alpha=0.1)\n",
    "ax2.set_title(\"Automatic Clustering\\nOPTICS\")\n",
    "\n",
    "# DBSCAN at eps = 0.5\n",
    "ax3 = plt.subplot(G[1, 1])\n",
    "colors = [\"g.\", \"r.\", \"b.\", \"c.\"]\n",
    "for klass, color in enumerate(colors):\n",
    "    Xk = X[labels_050 == klass]\n",
    "    ax3.plot(Xk[:, 0], Xk[:, 1], color, alpha=0.3)\n",
    "ax3.plot(X[labels_050 == -1, 0], X[labels_050 == -1, 1], \"k+\", alpha=0.1)\n",
    "ax3.set_title(\"Clustering at 0.5 epsilon cut\\nDBSCAN\")\n",
    "\n",
    "# DBSCAN at eps = 2\n",
    "ax4 = plt.subplot(G[1, 2])\n",
    "colors = [\"g.\", \"m.\", \"y.\", \"c.\"]\n",
    "for klass, color in enumerate(colors):\n",
    "    Xk = X[labels_200 == klass]\n",
    "    ax4.plot(Xk[:, 0], Xk[:, 1], color, alpha=0.3)\n",
    "ax4.plot(X[labels_200 == -1, 0], X[labels_200 == -1, 1], \"k+\", alpha=0.1)\n",
    "ax4.set_title(\"Clustering at 2.0 epsilon cut\\nDBSCAN\")\n",
    "\n",
    "plt.tight_layout()\n",
    "plt.show()"
   ]
  },
  {
   "cell_type": "code",
   "execution_count": null,
   "id": "cebfd40c",
   "metadata": {},
   "outputs": [],
   "source": []
  }
 ],
 "metadata": {
  "kernelspec": {
   "display_name": "Kim - 1st Custom Python environment",
   "language": "python",
   "name": "my-python-env"
  },
  "language_info": {
   "codemirror_mode": {
    "name": "ipython",
    "version": 3
   },
   "file_extension": ".py",
   "mimetype": "text/x-python",
   "name": "python",
   "nbconvert_exporter": "python",
   "pygments_lexer": "ipython3",
   "version": "3.9.12"
  }
 },
 "nbformat": 4,
 "nbformat_minor": 5
}
