{
 "cells": [
  {
   "cell_type": "markdown",
   "id": "026fc63d",
   "metadata": {},
   "source": [
    "# Knowledge-exploration\n",
    "## Participants based analysis"
   ]
  },
  {
   "cell_type": "code",
   "execution_count": 4,
   "id": "85f9bd22",
   "metadata": {
    "scrolled": true
   },
   "outputs": [],
   "source": [
    "import pandas as pd\n",
    "import numpy as np\n",
    "from ast import literal_eval\n",
    "from sklearn.decomposition import PCA\n",
    "from sklearn.cluster import KMeans\n",
    "from sklearn import metrics\n",
    "from sklearn.metrics import silhouette_score, calinski_harabasz_score, davies_bouldin_score\n",
    "from scipy.spatial.distance import cdist\n",
    "import matplotlib.pyplot as plt\n",
    "from sklearn.preprocessing import StandardScaler\n",
    "from umap import UMAP"
   ]
  },
  {
   "cell_type": "markdown",
   "id": "9a4323dc",
   "metadata": {},
   "source": [
    "## Call the embeddings"
   ]
  },
  {
   "cell_type": "code",
   "execution_count": 5,
   "id": "eae97fe1-5c28-457d-8bb6-4ba1ecb4008a",
   "metadata": {},
   "outputs": [
    {
     "data": {
      "text/plain": [
       "'/Users/gytkd/Desktop/Backup-Thesis/scripts/mpib/finalized-modeling'"
      ]
     },
     "execution_count": 5,
     "metadata": {},
     "output_type": "execute_result"
    }
   ],
   "source": [
    "pwd"
   ]
  },
  {
   "cell_type": "code",
   "execution_count": 6,
   "id": "a4fc5d27",
   "metadata": {},
   "outputs": [],
   "source": [
    "# question 1 embedding from distilbert model\n",
    "emb_1 = pd.read_json('/Users/gytkd/Desktop/Backup-Thesis/embeddings/knowledge_distilbert_answer1.jsonl', orient='index')\n",
    "emb_1 = emb_1[['participant_id', 'embedding1']].rename(columns = {'participant_id': 'index', 'embedding1': 'q1'})"
   ]
  },
  {
   "cell_type": "code",
   "execution_count": 7,
   "id": "2fb388de",
   "metadata": {},
   "outputs": [],
   "source": [
    "# question 2 embedding from distilbert model\n",
    "emb_2 = pd.read_json('/Users/gytkd/Desktop/Backup-Thesis/embeddings/knowledge_distilbert_answer2.jsonl', orient='index')\n",
    "emb_2 = emb_2[['participant_id', 'embedding2']].rename(columns = {'participant_id': 'index', 'embedding2': 'q2'})"
   ]
  },
  {
   "cell_type": "code",
   "execution_count": 8,
   "id": "4c7767be",
   "metadata": {},
   "outputs": [],
   "source": [
    "# question 3 embedding from distilbert model\n",
    "emb_3 = pd.read_json('/Users/gytkd/Desktop/Backup-Thesis/embeddings/knowledge_distilbert_answer3.jsonl', orient='index')\n",
    "emb_3 = emb_3[['participant_id', 'embedding3']].rename(columns = {'participant_id': 'index', 'embedding3': 'q3'})"
   ]
  },
  {
   "cell_type": "code",
   "execution_count": 9,
   "id": "c6478a13",
   "metadata": {},
   "outputs": [],
   "source": [
    "# question 4 embedding from distilbert model\n",
    "emb_4 = pd.read_json('/Users/gytkd/Desktop/Backup-Thesis/embeddings/knowledge_distilbert_answer4.jsonl', orient='index')\n",
    "emb_4 = emb_4[['participant_id', 'embedding4']].rename(columns = {'participant_id': 'index', 'embedding4': 'q4'})"
   ]
  },
  {
   "cell_type": "code",
   "execution_count": 10,
   "id": "218be181",
   "metadata": {},
   "outputs": [],
   "source": [
    "# question 5 embedding from distilbert model\n",
    "emb_5 = pd.read_json('/Users/gytkd/Desktop/Backup-Thesis/embeddings/knowledge_distilbert_answer5.jsonl', orient='index')\n",
    "emb_5 = emb_5[['participant_id', 'embedding5']].rename(columns = {'participant_id': 'index', 'embedding5': 'q5'})"
   ]
  },
  {
   "cell_type": "markdown",
   "id": "9241c3ef",
   "metadata": {},
   "source": [
    "## Aggregate within the dataframe first and then join together"
   ]
  },
  {
   "cell_type": "code",
   "execution_count": 11,
   "id": "6301faa8",
   "metadata": {},
   "outputs": [
    {
     "data": {
      "text/html": [
       "<div>\n",
       "<style scoped>\n",
       "    .dataframe tbody tr th:only-of-type {\n",
       "        vertical-align: middle;\n",
       "    }\n",
       "\n",
       "    .dataframe tbody tr th {\n",
       "        vertical-align: top;\n",
       "    }\n",
       "\n",
       "    .dataframe thead th {\n",
       "        text-align: right;\n",
       "    }\n",
       "</style>\n",
       "<table border=\"1\" class=\"dataframe\">\n",
       "  <thead>\n",
       "    <tr style=\"text-align: right;\">\n",
       "      <th></th>\n",
       "      <th>index</th>\n",
       "      <th>q1</th>\n",
       "    </tr>\n",
       "  </thead>\n",
       "  <tbody>\n",
       "    <tr>\n",
       "      <th>0</th>\n",
       "      <td>00278</td>\n",
       "      <td>[-0.1912737638, -0.1773329824, -0.2605425715, ...</td>\n",
       "    </tr>\n",
       "    <tr>\n",
       "      <th>1</th>\n",
       "      <td>00278</td>\n",
       "      <td>[-0.0679296777, -0.13514108960000001, -0.13267...</td>\n",
       "    </tr>\n",
       "    <tr>\n",
       "      <th>2</th>\n",
       "      <td>00278</td>\n",
       "      <td>[-0.1031195149, -0.2114465237, -0.3880674839, ...</td>\n",
       "    </tr>\n",
       "    <tr>\n",
       "      <th>3</th>\n",
       "      <td>00278</td>\n",
       "      <td>[-0.2258333266, -0.0020551765, -0.049876611700...</td>\n",
       "    </tr>\n",
       "    <tr>\n",
       "      <th>4</th>\n",
       "      <td>00278</td>\n",
       "      <td>[-0.12228399520000001, 0.0300362222, -0.148336...</td>\n",
       "    </tr>\n",
       "  </tbody>\n",
       "</table>\n",
       "</div>"
      ],
      "text/plain": [
       "   index                                                 q1\n",
       "0  00278  [-0.1912737638, -0.1773329824, -0.2605425715, ...\n",
       "1  00278  [-0.0679296777, -0.13514108960000001, -0.13267...\n",
       "2  00278  [-0.1031195149, -0.2114465237, -0.3880674839, ...\n",
       "3  00278  [-0.2258333266, -0.0020551765, -0.049876611700...\n",
       "4  00278  [-0.12228399520000001, 0.0300362222, -0.148336..."
      ]
     },
     "execution_count": 11,
     "metadata": {},
     "output_type": "execute_result"
    }
   ],
   "source": [
    "emb_1.head(5)"
   ]
  },
  {
   "cell_type": "code",
   "execution_count": 12,
   "id": "91993f74",
   "metadata": {
    "scrolled": true
   },
   "outputs": [],
   "source": [
    "# Group by 'index' and calculate the sum of 'q1_emb'\n",
    "emb_1 = emb_1.groupby('index')['q1'].apply(lambda x: np.sum(np.stack(x), axis=0))\n",
    "emb_1 = pd.DataFrame(emb_1, columns= ['q1'])\n",
    "emb_1['index'] = emb_1.index\n",
    "emb_1 = emb_1.reset_index(drop = True)"
   ]
  },
  {
   "cell_type": "code",
   "execution_count": 13,
   "id": "68067b5f",
   "metadata": {},
   "outputs": [
    {
     "data": {
      "text/html": [
       "<div>\n",
       "<style scoped>\n",
       "    .dataframe tbody tr th:only-of-type {\n",
       "        vertical-align: middle;\n",
       "    }\n",
       "\n",
       "    .dataframe tbody tr th {\n",
       "        vertical-align: top;\n",
       "    }\n",
       "\n",
       "    .dataframe thead th {\n",
       "        text-align: right;\n",
       "    }\n",
       "</style>\n",
       "<table border=\"1\" class=\"dataframe\">\n",
       "  <thead>\n",
       "    <tr style=\"text-align: right;\">\n",
       "      <th></th>\n",
       "      <th>q1</th>\n",
       "      <th>index</th>\n",
       "    </tr>\n",
       "  </thead>\n",
       "  <tbody>\n",
       "    <tr>\n",
       "      <th>0</th>\n",
       "      <td>[-0.7104402782, -0.4959395499999999, -0.979493...</td>\n",
       "      <td>00278</td>\n",
       "    </tr>\n",
       "    <tr>\n",
       "      <th>1</th>\n",
       "      <td>[-0.3586821751, -0.15381824970000002, -0.82275...</td>\n",
       "      <td>0068d</td>\n",
       "    </tr>\n",
       "    <tr>\n",
       "      <th>2</th>\n",
       "      <td>[-0.8142896731, -0.8274497016000002, -0.467351...</td>\n",
       "      <td>00f13</td>\n",
       "    </tr>\n",
       "    <tr>\n",
       "      <th>3</th>\n",
       "      <td>[-1.1899076254, -0.35361887050000007, -0.62465...</td>\n",
       "      <td>01cb6</td>\n",
       "    </tr>\n",
       "    <tr>\n",
       "      <th>4</th>\n",
       "      <td>[-0.5799569711, -0.7829514518999999, -0.642515...</td>\n",
       "      <td>02670</td>\n",
       "    </tr>\n",
       "    <tr>\n",
       "      <th>...</th>\n",
       "      <td>...</td>\n",
       "      <td>...</td>\n",
       "    </tr>\n",
       "    <tr>\n",
       "      <th>293</th>\n",
       "      <td>[-0.8872908205, -0.5147986337, -0.3124759718, ...</td>\n",
       "      <td>f92a4</td>\n",
       "    </tr>\n",
       "    <tr>\n",
       "      <th>294</th>\n",
       "      <td>[-1.0343732499, 0.08551241459999999, -0.777054...</td>\n",
       "      <td>f9fd8</td>\n",
       "    </tr>\n",
       "    <tr>\n",
       "      <th>295</th>\n",
       "      <td>[-0.9605374336, -0.5323074348, -0.226703439899...</td>\n",
       "      <td>fb2a2</td>\n",
       "    </tr>\n",
       "    <tr>\n",
       "      <th>296</th>\n",
       "      <td>[-0.7214982268000001, -0.3550048601, -0.726685...</td>\n",
       "      <td>fb9c4</td>\n",
       "    </tr>\n",
       "    <tr>\n",
       "      <th>297</th>\n",
       "      <td>[-0.5830129758, -0.46125377710000004, -0.51497...</td>\n",
       "      <td>ff2bf</td>\n",
       "    </tr>\n",
       "  </tbody>\n",
       "</table>\n",
       "<p>298 rows × 2 columns</p>\n",
       "</div>"
      ],
      "text/plain": [
       "                                                    q1  index\n",
       "0    [-0.7104402782, -0.4959395499999999, -0.979493...  00278\n",
       "1    [-0.3586821751, -0.15381824970000002, -0.82275...  0068d\n",
       "2    [-0.8142896731, -0.8274497016000002, -0.467351...  00f13\n",
       "3    [-1.1899076254, -0.35361887050000007, -0.62465...  01cb6\n",
       "4    [-0.5799569711, -0.7829514518999999, -0.642515...  02670\n",
       "..                                                 ...    ...\n",
       "293  [-0.8872908205, -0.5147986337, -0.3124759718, ...  f92a4\n",
       "294  [-1.0343732499, 0.08551241459999999, -0.777054...  f9fd8\n",
       "295  [-0.9605374336, -0.5323074348, -0.226703439899...  fb2a2\n",
       "296  [-0.7214982268000001, -0.3550048601, -0.726685...  fb9c4\n",
       "297  [-0.5830129758, -0.46125377710000004, -0.51497...  ff2bf\n",
       "\n",
       "[298 rows x 2 columns]"
      ]
     },
     "execution_count": 13,
     "metadata": {},
     "output_type": "execute_result"
    }
   ],
   "source": [
    "emb_1"
   ]
  },
  {
   "cell_type": "code",
   "execution_count": 14,
   "id": "6a9156d9",
   "metadata": {},
   "outputs": [],
   "source": [
    "# Group by 'index' and calculate the sum of 'q2_emb'\n",
    "emb_2 = emb_2.groupby('index')['q2'].apply(lambda x: np.sum(np.stack(x), axis=0))\n",
    "emb_2 = pd.DataFrame(emb_2, columns= ['q2'])\n",
    "emb_2['index'] = emb_2.index\n",
    "emb_2 = emb_2.reset_index(drop = True)"
   ]
  },
  {
   "cell_type": "code",
   "execution_count": 15,
   "id": "a33b2dc2",
   "metadata": {},
   "outputs": [],
   "source": [
    "# Group by 'index' and calculate the sum of 'q3_emb'\n",
    "emb_3 = emb_3.groupby('index')['q3'].apply(lambda x: np.sum(np.stack(x), axis=0))\n",
    "emb_3 = pd.DataFrame(emb_3, columns= ['q3'])\n",
    "emb_3['index'] = emb_3.index\n",
    "emb_3 = emb_3.reset_index(drop = True)"
   ]
  },
  {
   "cell_type": "code",
   "execution_count": 16,
   "id": "24ae8bbc",
   "metadata": {},
   "outputs": [],
   "source": [
    "# Group by 'index' and calculate the sum of 'q4_emb'\n",
    "emb_4 = emb_4.groupby('index')['q4'].apply(lambda x: np.sum(np.stack(x), axis=0))\n",
    "emb_4 = pd.DataFrame(emb_4, columns= ['q4'])\n",
    "emb_4['index'] = emb_4.index\n",
    "emb_4 = emb_4.reset_index(drop = True)"
   ]
  },
  {
   "cell_type": "code",
   "execution_count": 17,
   "id": "f6f2a806",
   "metadata": {},
   "outputs": [],
   "source": [
    "# Group by 'index' and calculate the sum of 'q5_emb'\n",
    "emb_5 = emb_5.groupby('index')['q5'].apply(lambda x: np.sum(np.stack(x), axis=0))\n",
    "emb_5 = pd.DataFrame(emb_5, columns= ['q5'])\n",
    "emb_5['index'] = emb_5.index\n",
    "emb_5 = emb_5.reset_index(drop = True)"
   ]
  },
  {
   "cell_type": "code",
   "execution_count": 18,
   "id": "aae9b56e",
   "metadata": {},
   "outputs": [],
   "source": [
    "# # check manually if the above code works.\n",
    "\n",
    "# temp = df_1_whole[['PARTICIPANT_ID', 'emb_ideas']]\n",
    "# print(temp[temp['PARTICIPANT_ID']== '00278']['emb_ideas'].to_list())\n",
    "# instance = temp[temp['PARTICIPANT_ID']== '00278']['emb_ideas']\n",
    "\n",
    "# sum = 0 \n",
    "# for i in range(5): \n",
    "#     sum += instance[0][i][0]\n",
    "# sum/5 # This should match with the first element of the emb_1['q1'][0]"
   ]
  },
  {
   "cell_type": "markdown",
   "id": "18b87b7c",
   "metadata": {},
   "source": [
    "## Demographic data calling"
   ]
  },
  {
   "cell_type": "code",
   "execution_count": 19,
   "id": "b6032d6e",
   "metadata": {
    "scrolled": true
   },
   "outputs": [],
   "source": [
    "# call the original data again\n",
    "df = pd.read_csv('/Users/gytkd/Desktop/Backup-Thesis/data/processed_data/reference_dataset_v1.csv')"
   ]
  },
  {
   "cell_type": "code",
   "execution_count": 20,
   "id": "bfe27d2d",
   "metadata": {},
   "outputs": [
    {
     "data": {
      "text/html": [
       "<div>\n",
       "<style scoped>\n",
       "    .dataframe tbody tr th:only-of-type {\n",
       "        vertical-align: middle;\n",
       "    }\n",
       "\n",
       "    .dataframe tbody tr th {\n",
       "        vertical-align: top;\n",
       "    }\n",
       "\n",
       "    .dataframe thead th {\n",
       "        text-align: right;\n",
       "    }\n",
       "</style>\n",
       "<table border=\"1\" class=\"dataframe\">\n",
       "  <thead>\n",
       "    <tr style=\"text-align: right;\">\n",
       "      <th></th>\n",
       "      <th>Unnamed: 0</th>\n",
       "      <th>problem_id</th>\n",
       "      <th>participant_id</th>\n",
       "      <th>DAT</th>\n",
       "      <th>CRT2</th>\n",
       "      <th>CURIOSITY_SCORE</th>\n",
       "      <th>AGE</th>\n",
       "      <th>GENDER</th>\n",
       "      <th>EDUCATION</th>\n",
       "      <th>EMPLOYMENT</th>\n",
       "      <th>...</th>\n",
       "      <th>POLITICAL</th>\n",
       "      <th>CLIMATE</th>\n",
       "      <th>COVID</th>\n",
       "      <th>NEWS</th>\n",
       "      <th>MEDIA</th>\n",
       "      <th>RELATION_KNOWLEDGE</th>\n",
       "      <th>RELATION_INTEREST</th>\n",
       "      <th>RELATION_CONCERN</th>\n",
       "      <th>ideas</th>\n",
       "      <th>emb_ideas</th>\n",
       "    </tr>\n",
       "  </thead>\n",
       "  <tbody>\n",
       "    <tr>\n",
       "      <th>0</th>\n",
       "      <td>0</td>\n",
       "      <td>Q1</td>\n",
       "      <td>00278</td>\n",
       "      <td>74.104969</td>\n",
       "      <td>3</td>\n",
       "      <td>4.229167</td>\n",
       "      <td>24</td>\n",
       "      <td>1</td>\n",
       "      <td>5</td>\n",
       "      <td>1</td>\n",
       "      <td>...</td>\n",
       "      <td>2</td>\n",
       "      <td>1</td>\n",
       "      <td>1</td>\n",
       "      <td>4</td>\n",
       "      <td>5</td>\n",
       "      <td>2</td>\n",
       "      <td>4</td>\n",
       "      <td>4</td>\n",
       "      <td>['vaccination schemes in these areas', 'increa...</td>\n",
       "      <td>[[-0.011656875722110271, -0.019422005861997604...</td>\n",
       "    </tr>\n",
       "    <tr>\n",
       "      <th>1</th>\n",
       "      <td>1</td>\n",
       "      <td>Q2</td>\n",
       "      <td>00278</td>\n",
       "      <td>74.104969</td>\n",
       "      <td>3</td>\n",
       "      <td>4.229167</td>\n",
       "      <td>24</td>\n",
       "      <td>1</td>\n",
       "      <td>5</td>\n",
       "      <td>1</td>\n",
       "      <td>...</td>\n",
       "      <td>2</td>\n",
       "      <td>1</td>\n",
       "      <td>1</td>\n",
       "      <td>4</td>\n",
       "      <td>5</td>\n",
       "      <td>3</td>\n",
       "      <td>5</td>\n",
       "      <td>5</td>\n",
       "      <td>['equal pay for women and men in the same role...</td>\n",
       "      <td>[[-0.0034376916009932756, 0.006209875456988811...</td>\n",
       "    </tr>\n",
       "    <tr>\n",
       "      <th>2</th>\n",
       "      <td>2</td>\n",
       "      <td>Q3</td>\n",
       "      <td>00278</td>\n",
       "      <td>74.104969</td>\n",
       "      <td>3</td>\n",
       "      <td>4.229167</td>\n",
       "      <td>24</td>\n",
       "      <td>1</td>\n",
       "      <td>5</td>\n",
       "      <td>1</td>\n",
       "      <td>...</td>\n",
       "      <td>2</td>\n",
       "      <td>1</td>\n",
       "      <td>1</td>\n",
       "      <td>4</td>\n",
       "      <td>5</td>\n",
       "      <td>3</td>\n",
       "      <td>5</td>\n",
       "      <td>5</td>\n",
       "      <td>['look into conservation plans ', 'ensure poac...</td>\n",
       "      <td>[[0.03516001999378204, -0.004544570576399565, ...</td>\n",
       "    </tr>\n",
       "  </tbody>\n",
       "</table>\n",
       "<p>3 rows × 24 columns</p>\n",
       "</div>"
      ],
      "text/plain": [
       "   Unnamed: 0 problem_id participant_id        DAT  CRT2  CURIOSITY_SCORE  \\\n",
       "0           0         Q1          00278  74.104969     3         4.229167   \n",
       "1           1         Q2          00278  74.104969     3         4.229167   \n",
       "2           2         Q3          00278  74.104969     3         4.229167   \n",
       "\n",
       "   AGE  GENDER  EDUCATION  EMPLOYMENT  ...  POLITICAL  CLIMATE  COVID  NEWS  \\\n",
       "0   24       1          5           1  ...          2        1      1     4   \n",
       "1   24       1          5           1  ...          2        1      1     4   \n",
       "2   24       1          5           1  ...          2        1      1     4   \n",
       "\n",
       "   MEDIA  RELATION_KNOWLEDGE  RELATION_INTEREST  RELATION_CONCERN  \\\n",
       "0      5                   2                  4                 4   \n",
       "1      5                   3                  5                 5   \n",
       "2      5                   3                  5                 5   \n",
       "\n",
       "                                               ideas  \\\n",
       "0  ['vaccination schemes in these areas', 'increa...   \n",
       "1  ['equal pay for women and men in the same role...   \n",
       "2  ['look into conservation plans ', 'ensure poac...   \n",
       "\n",
       "                                           emb_ideas  \n",
       "0  [[-0.011656875722110271, -0.019422005861997604...  \n",
       "1  [[-0.0034376916009932756, 0.006209875456988811...  \n",
       "2  [[0.03516001999378204, -0.004544570576399565, ...  \n",
       "\n",
       "[3 rows x 24 columns]"
      ]
     },
     "execution_count": 20,
     "metadata": {},
     "output_type": "execute_result"
    }
   ],
   "source": [
    "df.head(3)"
   ]
  },
  {
   "cell_type": "code",
   "execution_count": 21,
   "id": "c82a1a4c",
   "metadata": {},
   "outputs": [],
   "source": [
    "df = df.rename(columns = {'participant_id': 'PARTICIPANT_ID'})\n",
    "df = df.set_index('PARTICIPANT_ID')"
   ]
  },
  {
   "cell_type": "code",
   "execution_count": 22,
   "id": "1f50769f",
   "metadata": {},
   "outputs": [],
   "source": [
    "demos = df[['AGE', 'GENDER', 'EDUCATION', 'EMPLOYMENT', 'INCOME', 'POLITICAL', 'DAT', 'CRT2']]"
   ]
  },
  {
   "cell_type": "code",
   "execution_count": 23,
   "id": "520426a7",
   "metadata": {
    "scrolled": true
   },
   "outputs": [
    {
     "name": "stdout",
     "output_type": "stream",
     "text": [
      "\n",
      "DataFrame with unique participant_id:\n",
      "                AGE  GENDER  EDUCATION  EMPLOYMENT  INCOME  POLITICAL  \\\n",
      "PARTICIPANT_ID                                                          \n",
      "00278            24       1          5           1       3          2   \n",
      "0068d            74       1          2           7       2          4   \n",
      "00f13            43       1          4           1       3          3   \n",
      "01cb6            56       3          2           8       1          1   \n",
      "02670            25       1          5           1       2          2   \n",
      "...             ...     ...        ...         ...     ...        ...   \n",
      "f92a4            35       1          5           1       3          3   \n",
      "f9fd8            50       1          4           8       2          2   \n",
      "fb2a2            38       1          2           8       1          3   \n",
      "fb9c4            21       1          4           8       3          2   \n",
      "ff2bf            67       1          2           7       2          4   \n",
      "\n",
      "                      DAT  CRT2  \n",
      "PARTICIPANT_ID                   \n",
      "00278           74.104969     3  \n",
      "0068d           79.882640     2  \n",
      "00f13           77.948290     3  \n",
      "01cb6           78.969095     2  \n",
      "02670           83.311323     1  \n",
      "...                   ...   ...  \n",
      "f92a4           65.242337     2  \n",
      "f9fd8           80.076401     1  \n",
      "fb2a2           78.420482     0  \n",
      "fb9c4           83.133171     1  \n",
      "ff2bf           76.948229     4  \n",
      "\n",
      "[300 rows x 8 columns]\n"
     ]
    },
    {
     "name": "stderr",
     "output_type": "stream",
     "text": [
      "/var/folders/j0/9xtsbl9502ng_j6cfbbp6fq00000gn/T/ipykernel_14628/256376826.py:5: SettingWithCopyWarning: \n",
      "A value is trying to be set on a copy of a slice from a DataFrame\n",
      "\n",
      "See the caveats in the documentation: https://pandas.pydata.org/pandas-docs/stable/user_guide/indexing.html#returning-a-view-versus-a-copy\n",
      "  demos.drop_duplicates(keep='first', inplace=True)\n"
     ]
    }
   ],
   "source": [
    "# Check for duplicate indices\n",
    "duplicates = demos.index.duplicated()\n",
    "\n",
    "# keep only the first occurrence of each participant_id (remove duplicates)\n",
    "demos.drop_duplicates(keep='first', inplace=True)\n",
    "\n",
    "# Display the modified DataFrame\n",
    "print(\"\\nDataFrame with unique participant_id:\")\n",
    "print(demos)"
   ]
  },
  {
   "cell_type": "code",
   "execution_count": 24,
   "id": "e2ee4eb0",
   "metadata": {},
   "outputs": [
    {
     "name": "stderr",
     "output_type": "stream",
     "text": [
      "/var/folders/j0/9xtsbl9502ng_j6cfbbp6fq00000gn/T/ipykernel_14628/2801886630.py:1: SettingWithCopyWarning: \n",
      "A value is trying to be set on a copy of a slice from a DataFrame.\n",
      "Try using .loc[row_indexer,col_indexer] = value instead\n",
      "\n",
      "See the caveats in the documentation: https://pandas.pydata.org/pandas-docs/stable/user_guide/indexing.html#returning-a-view-versus-a-copy\n",
      "  demos['index'] = demos.index\n"
     ]
    }
   ],
   "source": [
    "demos['index'] = demos.index"
   ]
  },
  {
   "cell_type": "markdown",
   "id": "9c072581",
   "metadata": {},
   "source": [
    "## Analysis within question"
   ]
  },
  {
   "cell_type": "markdown",
   "id": "97407187",
   "metadata": {},
   "source": [
    "### Question 2\n",
    "\"How could we improve gender equality at work?\""
   ]
  },
  {
   "cell_type": "code",
   "execution_count": 25,
   "id": "8443e3c9",
   "metadata": {},
   "outputs": [
    {
     "data": {
      "text/plain": [
       "(298, 768)"
      ]
     },
     "execution_count": 25,
     "metadata": {},
     "output_type": "execute_result"
    }
   ],
   "source": [
    "# convert list to numpy array to make an input to embeddings\n",
    "emb_2['q2'] = emb_2['q2'].apply(np.array)  \n",
    "matrix = np.vstack(emb_2['q2'].values)\n",
    "matrix.shape"
   ]
  },
  {
   "cell_type": "code",
   "execution_count": 26,
   "id": "eba241f1",
   "metadata": {},
   "outputs": [],
   "source": [
    "X = matrix.copy()"
   ]
  },
  {
   "cell_type": "markdown",
   "id": "e98069e6",
   "metadata": {},
   "source": [
    "## Dimensionality reduction (umap)"
   ]
  },
  {
   "cell_type": "code",
   "execution_count": 27,
   "id": "335372d8",
   "metadata": {
    "scrolled": true
   },
   "outputs": [],
   "source": [
    "# Step 1: Normalize the data\n",
    "from sklearn.preprocessing import StandardScaler\n",
    "normalized_embeddings = StandardScaler().fit_transform(X)"
   ]
  },
  {
   "cell_type": "code",
   "execution_count": 28,
   "id": "d9d7e1b2",
   "metadata": {},
   "outputs": [
    {
     "name": "stderr",
     "output_type": "stream",
     "text": [
      "/Users/gytkd/Desktop/Backup-Thesis/myenv/lib/python3.9/site-packages/umap/umap_.py:1945: UserWarning: n_jobs value 1 overridden to 1 by setting random_state. Use no seed for parallelism.\n",
      "  warn(f\"n_jobs value {self.n_jobs} overridden to 1 by setting random_state. Use no seed for parallelism.\")\n"
     ]
    }
   ],
   "source": [
    "# Step 2: Apply UMAP for dimensionality reduction\n",
    "umap_model = UMAP(n_neighbors=10, min_dist=0.1, n_components=2, random_state = 42)\n",
    "umap_embeddings = umap_model.fit_transform(normalized_embeddings)\n",
    "X = umap_embeddings.copy()"
   ]
  },
  {
   "cell_type": "code",
   "execution_count": 29,
   "id": "7d5acbb1",
   "metadata": {
    "scrolled": true
   },
   "outputs": [],
   "source": [
    "# Step 3: Use silhouette score to find optimal number of clusters\n",
    "silhouette_scores = []\n",
    "for num_clusters in range(2, 11):\n",
    "    kmeans = KMeans(n_clusters=num_clusters, random_state=0)\n",
    "    cluster_labels = kmeans.fit_predict(X)\n",
    "    silhouette_scores.append(silhouette_score(X, cluster_labels))\n",
    "\n",
    "optimal_num_clusters = silhouette_scores.index(max(silhouette_scores)) + 2"
   ]
  },
  {
   "cell_type": "markdown",
   "id": "31631b99",
   "metadata": {},
   "source": [
    "The last line derives from the fact that silhouette score is calculated from the num_cluster 2, so therefore if retrieving index of the lists, the first element's index is 0 but it indicates the value of num_cluster 2, therefore +2 would make it easier to retrieve the value. \n"
   ]
  },
  {
   "cell_type": "code",
   "execution_count": 30,
   "id": "87359d98",
   "metadata": {
    "scrolled": true
   },
   "outputs": [
    {
     "data": {
      "text/plain": [
       "2"
      ]
     },
     "execution_count": 30,
     "metadata": {},
     "output_type": "execute_result"
    }
   ],
   "source": [
    "optimal_num_clusters"
   ]
  },
  {
   "cell_type": "code",
   "execution_count": 31,
   "id": "3a36b2be",
   "metadata": {},
   "outputs": [],
   "source": [
    "# Use Elbow-analysis as well to find optimal number of clusters\n",
    "# Elbow analysis\n",
    "distortions = []\n",
    "inertias = []\n",
    "mapping1 = {}\n",
    "mapping2 = {}\n",
    "K = range(1, 20)\n",
    "\n",
    "for k in K:\n",
    "    # Building and fitting the model\n",
    "    kmeanModel = KMeans(n_clusters=k).fit(X)\n",
    "    kmeanModel.fit(X)\n",
    "    distortions.append(np.sum(np.min(cdist(X, kmeanModel.cluster_centers_, 'euclidean'), axis=1)) / X.shape[0])\n",
    "    inertias.append(kmeanModel.inertia_)\n",
    "\n",
    "    mapping1[k] = np.sum(np.min(cdist(X, kmeanModel.cluster_centers_,\n",
    "                                   'euclidean'), axis=1)) / X.shape[0]\n",
    "    mapping2[k] = kmeanModel.inertia_"
   ]
  },
  {
   "cell_type": "code",
   "execution_count": 32,
   "id": "8b9a15bc",
   "metadata": {
    "scrolled": true
   },
   "outputs": [
    {
     "data": {
      "image/png": "[encoded data removed]",
      "text/plain": [
       "<Figure size 1200x400 with 2 Axes>"
      ]
     },
     "metadata": {},
     "output_type": "display_data"
    }
   ],
   "source": [
    "# Create a figure with subplots\n",
    "fig, (ax1, ax2) = plt.subplots(1, 2, figsize=(12, 4))  # Adjust figsize as needed\n",
    "\n",
    "# Plot the first plot on ax1\n",
    "ax1.plot(K, distortions, 'bx-')\n",
    "ax1.set_xlabel('Values of_K')\n",
    "ax1.set_ylabel('Distortion')\n",
    "ax1.set_title('The Elbow Method using Distortion')\n",
    "\n",
    "\n",
    "# Plot the second plot on ax2\n",
    "ax2.plot(K, inertias, 'bx-')\n",
    "ax2.set_xlabel('Values of_K')\n",
    "ax2.set_ylabel('Inertia')\n",
    "ax2.set_title('The Elbow Method using Inertia')\n",
    "\n",
    "# Adjust layout to prevent overlap\n",
    "plt.tight_layout()\n",
    "\n",
    "# Display the plots\n",
    "plt.show()"
   ]
  },
  {
   "cell_type": "markdown",
   "id": "e140b16c",
   "metadata": {},
   "source": [
    "Define the number of clusters for the clustering method combining the result of the graphs and the value of variable optimal_num_clusters"
   ]
  },
  {
   "cell_type": "markdown",
   "id": "e4198e10",
   "metadata": {},
   "source": [
    "## KMeans clustering"
   ]
  },
  {
   "cell_type": "code",
   "execution_count": 33,
   "id": "0cdab632",
   "metadata": {},
   "outputs": [],
   "source": [
    "# Step 4: Perform final clustering\n",
    "final_kmeans = KMeans(n_clusters=3, random_state=0) # random_state fixed to 0, n_cluster changed\n",
    "final_cluster_labels = final_kmeans.fit_predict(X)\n",
    "\n",
    "# Save the result of clustering with random state 0 as a dataframe column\n",
    "emb_2['label'] = final_cluster_labels  "
   ]
  },
  {
   "cell_type": "code",
   "execution_count": 34,
   "id": "42ac32df",
   "metadata": {},
   "outputs": [
    {
     "data": {
      "image/png": "[encoded data removed]",
      "text/plain": [
       "<Figure size 640x480 with 2 Axes>"
      ]
     },
     "metadata": {},
     "output_type": "display_data"
    }
   ],
   "source": [
    "# Visualize clustering depending on different random states.\n",
    "figures = [] # list to hold different figures. \n",
    "\n",
    "fig1, ax1 = plt.subplots()\n",
    "scatter = ax1.scatter(X[:, 0], X[:, 1], c=final_cluster_labels, cmap='viridis')\n",
    "ax1.set_xlabel('UMAP Dimension 1')\n",
    "ax1.set_ylabel('UMAP Dimension 2')\n",
    "ax1.set_title('UMAP Visualization of Text Clusters')\n",
    "\n",
    "colorbar = plt.colorbar(scatter, ax=ax1)\n",
    "colorbar.set_label('Cluster Label')\n",
    "\n",
    "figures.append(fig1)"
   ]
  },
  {
   "cell_type": "code",
   "execution_count": 35,
   "id": "6e042e92",
   "metadata": {},
   "outputs": [
    {
     "name": "stdout",
     "output_type": "stream",
     "text": [
      "\n",
      "\"Question 2\"\n",
      "\n",
      "Silhouette Coefficient: 0.4218498468399048\n",
      "Calinski-Harabasz Index: 417.70125055651965\n",
      "Davies-Bouldin Index: 0.8589427991881108\n"
     ]
    }
   ],
   "source": [
    "# Cluster labels obtained from clustering algorithm\n",
    "\n",
    "final_cluster_labels # cluster_labels_from_bert\n",
    "X # contextualized tokens of the input texts.\n",
    "\n",
    "# Specify the question that is addressed. \n",
    "print(\"\\n\\\"Question 2\\\"\\n\")\n",
    "\n",
    "# Calculate Silhouette Coefficient\n",
    "silhouette = silhouette_score(X, final_cluster_labels)\n",
    "print(f\"Silhouette Coefficient: {silhouette}\")\n",
    "\n",
    "# Calculate Calinski-Harabasz Index\n",
    "calinski = calinski_harabasz_score(X, final_cluster_labels)\n",
    "print(f\"Calinski-Harabasz Index: {calinski}\")\n",
    "\n",
    "# Calculate Davies-Bouldin Index\n",
    "davies_bouldin = davies_bouldin_score(X, final_cluster_labels)\n",
    "print(f\"Davies-Bouldin Index: {davies_bouldin}\")"
   ]
  },
  {
   "cell_type": "markdown",
   "id": "b416cf44",
   "metadata": {},
   "source": [
    "### connect it with the demographics"
   ]
  },
  {
   "cell_type": "code",
   "execution_count": 36,
   "id": "240a19ca",
   "metadata": {},
   "outputs": [],
   "source": [
    "result_2 = pd.merge(emb_2, demos, on = 'index')"
   ]
  },
  {
   "cell_type": "code",
   "execution_count": 37,
   "id": "32f65cc8",
   "metadata": {},
   "outputs": [
    {
     "data": {
      "text/html": [
       "<div>\n",
       "<style scoped>\n",
       "    .dataframe tbody tr th:only-of-type {\n",
       "        vertical-align: middle;\n",
       "    }\n",
       "\n",
       "    .dataframe tbody tr th {\n",
       "        vertical-align: top;\n",
       "    }\n",
       "\n",
       "    .dataframe thead th {\n",
       "        text-align: right;\n",
       "    }\n",
       "</style>\n",
       "<table border=\"1\" class=\"dataframe\">\n",
       "  <thead>\n",
       "    <tr style=\"text-align: right;\">\n",
       "      <th></th>\n",
       "      <th>q2</th>\n",
       "      <th>index</th>\n",
       "      <th>label</th>\n",
       "      <th>AGE</th>\n",
       "      <th>GENDER</th>\n",
       "      <th>EDUCATION</th>\n",
       "      <th>EMPLOYMENT</th>\n",
       "      <th>INCOME</th>\n",
       "      <th>POLITICAL</th>\n",
       "      <th>DAT</th>\n",
       "      <th>CRT2</th>\n",
       "    </tr>\n",
       "  </thead>\n",
       "  <tbody>\n",
       "    <tr>\n",
       "      <th>0</th>\n",
       "      <td>[-1.2141312807, -0.3966640457, -1.041425444200...</td>\n",
       "      <td>00278</td>\n",
       "      <td>0</td>\n",
       "      <td>24</td>\n",
       "      <td>1</td>\n",
       "      <td>5</td>\n",
       "      <td>1</td>\n",
       "      <td>3</td>\n",
       "      <td>2</td>\n",
       "      <td>74.104969</td>\n",
       "      <td>3</td>\n",
       "    </tr>\n",
       "    <tr>\n",
       "      <th>1</th>\n",
       "      <td>[-0.5131815745, 0.03307634779999999, -1.231779...</td>\n",
       "      <td>0068d</td>\n",
       "      <td>1</td>\n",
       "      <td>74</td>\n",
       "      <td>1</td>\n",
       "      <td>2</td>\n",
       "      <td>7</td>\n",
       "      <td>2</td>\n",
       "      <td>4</td>\n",
       "      <td>79.882640</td>\n",
       "      <td>2</td>\n",
       "    </tr>\n",
       "    <tr>\n",
       "      <th>2</th>\n",
       "      <td>[-1.3075574189, -0.6642389744000001, -0.764599...</td>\n",
       "      <td>00f13</td>\n",
       "      <td>1</td>\n",
       "      <td>43</td>\n",
       "      <td>1</td>\n",
       "      <td>4</td>\n",
       "      <td>1</td>\n",
       "      <td>3</td>\n",
       "      <td>3</td>\n",
       "      <td>77.948290</td>\n",
       "      <td>3</td>\n",
       "    </tr>\n",
       "    <tr>\n",
       "      <th>3</th>\n",
       "      <td>[-0.8068943293999999, -0.212616943, -0.5477841...</td>\n",
       "      <td>01cb6</td>\n",
       "      <td>0</td>\n",
       "      <td>56</td>\n",
       "      <td>3</td>\n",
       "      <td>2</td>\n",
       "      <td>8</td>\n",
       "      <td>1</td>\n",
       "      <td>1</td>\n",
       "      <td>78.969095</td>\n",
       "      <td>2</td>\n",
       "    </tr>\n",
       "    <tr>\n",
       "      <th>4</th>\n",
       "      <td>[-0.6015553623000001, -0.6008553245, -1.315350...</td>\n",
       "      <td>02670</td>\n",
       "      <td>1</td>\n",
       "      <td>25</td>\n",
       "      <td>1</td>\n",
       "      <td>5</td>\n",
       "      <td>1</td>\n",
       "      <td>2</td>\n",
       "      <td>2</td>\n",
       "      <td>83.311323</td>\n",
       "      <td>1</td>\n",
       "    </tr>\n",
       "    <tr>\n",
       "      <th>...</th>\n",
       "      <td>...</td>\n",
       "      <td>...</td>\n",
       "      <td>...</td>\n",
       "      <td>...</td>\n",
       "      <td>...</td>\n",
       "      <td>...</td>\n",
       "      <td>...</td>\n",
       "      <td>...</td>\n",
       "      <td>...</td>\n",
       "      <td>...</td>\n",
       "      <td>...</td>\n",
       "    </tr>\n",
       "    <tr>\n",
       "      <th>293</th>\n",
       "      <td>[-1.1544252187000001, -0.18673033649999998, -0...</td>\n",
       "      <td>f92a4</td>\n",
       "      <td>0</td>\n",
       "      <td>35</td>\n",
       "      <td>1</td>\n",
       "      <td>5</td>\n",
       "      <td>1</td>\n",
       "      <td>3</td>\n",
       "      <td>3</td>\n",
       "      <td>65.242337</td>\n",
       "      <td>2</td>\n",
       "    </tr>\n",
       "    <tr>\n",
       "      <th>294</th>\n",
       "      <td>[-0.521263361, -0.26593752940000004, -0.844210...</td>\n",
       "      <td>f9fd8</td>\n",
       "      <td>2</td>\n",
       "      <td>50</td>\n",
       "      <td>1</td>\n",
       "      <td>4</td>\n",
       "      <td>8</td>\n",
       "      <td>2</td>\n",
       "      <td>2</td>\n",
       "      <td>80.076401</td>\n",
       "      <td>1</td>\n",
       "    </tr>\n",
       "    <tr>\n",
       "      <th>295</th>\n",
       "      <td>[-0.23314341900000002, -0.2036617603, -0.34013...</td>\n",
       "      <td>fb2a2</td>\n",
       "      <td>2</td>\n",
       "      <td>38</td>\n",
       "      <td>1</td>\n",
       "      <td>2</td>\n",
       "      <td>8</td>\n",
       "      <td>1</td>\n",
       "      <td>3</td>\n",
       "      <td>78.420482</td>\n",
       "      <td>0</td>\n",
       "    </tr>\n",
       "    <tr>\n",
       "      <th>296</th>\n",
       "      <td>[-1.1611104236, -0.3523380244, -1.2341921628, ...</td>\n",
       "      <td>fb9c4</td>\n",
       "      <td>1</td>\n",
       "      <td>21</td>\n",
       "      <td>1</td>\n",
       "      <td>4</td>\n",
       "      <td>8</td>\n",
       "      <td>3</td>\n",
       "      <td>2</td>\n",
       "      <td>83.133171</td>\n",
       "      <td>1</td>\n",
       "    </tr>\n",
       "    <tr>\n",
       "      <th>297</th>\n",
       "      <td>[-0.8525882215, -0.407741311, -0.6851876732000...</td>\n",
       "      <td>ff2bf</td>\n",
       "      <td>2</td>\n",
       "      <td>67</td>\n",
       "      <td>1</td>\n",
       "      <td>2</td>\n",
       "      <td>7</td>\n",
       "      <td>2</td>\n",
       "      <td>4</td>\n",
       "      <td>76.948229</td>\n",
       "      <td>4</td>\n",
       "    </tr>\n",
       "  </tbody>\n",
       "</table>\n",
       "<p>298 rows × 11 columns</p>\n",
       "</div>"
      ],
      "text/plain": [
       "                                                    q2  index  label  AGE  \\\n",
       "0    [-1.2141312807, -0.3966640457, -1.041425444200...  00278      0   24   \n",
       "1    [-0.5131815745, 0.03307634779999999, -1.231779...  0068d      1   74   \n",
       "2    [-1.3075574189, -0.6642389744000001, -0.764599...  00f13      1   43   \n",
       "3    [-0.8068943293999999, -0.212616943, -0.5477841...  01cb6      0   56   \n",
       "4    [-0.6015553623000001, -0.6008553245, -1.315350...  02670      1   25   \n",
       "..                                                 ...    ...    ...  ...   \n",
       "293  [-1.1544252187000001, -0.18673033649999998, -0...  f92a4      0   35   \n",
       "294  [-0.521263361, -0.26593752940000004, -0.844210...  f9fd8      2   50   \n",
       "295  [-0.23314341900000002, -0.2036617603, -0.34013...  fb2a2      2   38   \n",
       "296  [-1.1611104236, -0.3523380244, -1.2341921628, ...  fb9c4      1   21   \n",
       "297  [-0.8525882215, -0.407741311, -0.6851876732000...  ff2bf      2   67   \n",
       "\n",
       "     GENDER  EDUCATION  EMPLOYMENT  INCOME  POLITICAL        DAT  CRT2  \n",
       "0         1          5           1       3          2  74.104969     3  \n",
       "1         1          2           7       2          4  79.882640     2  \n",
       "2         1          4           1       3          3  77.948290     3  \n",
       "3         3          2           8       1          1  78.969095     2  \n",
       "4         1          5           1       2          2  83.311323     1  \n",
       "..      ...        ...         ...     ...        ...        ...   ...  \n",
       "293       1          5           1       3          3  65.242337     2  \n",
       "294       1          4           8       2          2  80.076401     1  \n",
       "295       1          2           8       1          3  78.420482     0  \n",
       "296       1          4           8       3          2  83.133171     1  \n",
       "297       1          2           7       2          4  76.948229     4  \n",
       "\n",
       "[298 rows x 11 columns]"
      ]
     },
     "execution_count": 37,
     "metadata": {},
     "output_type": "execute_result"
    }
   ],
   "source": [
    "result_2"
   ]
  },
  {
   "cell_type": "markdown",
   "id": "32b556f4-22cc-436d-88fd-541f51c022e8",
   "metadata": {},
   "source": [
    "### community assignment"
   ]
  },
  {
   "cell_type": "code",
   "execution_count": 116,
   "id": "f599b190-df8a-4aff-99bc-e347fd38e3e7",
   "metadata": {},
   "outputs": [
    {
     "data": {
      "text/plain": [
       "60"
      ]
     },
     "execution_count": 116,
     "metadata": {},
     "output_type": "execute_result"
    }
   ],
   "source": [
    "# community 0\n",
    "com_0 = result_2[result_2['label'] == 0]\n",
    "len(com_0)\n",
    "\n",
    "# community 1\n",
    "com_1 = result_2[result_2['label'] == 1]\n",
    "len(com_1)\n",
    "\n",
    "# community 2\n",
    "com_2 = result_2[result_2['label'] == 2]\n",
    "len(com_2)"
   ]
  },
  {
   "cell_type": "code",
   "execution_count": 117,
   "id": "ab1af622-c857-4f80-88cf-a2a7d7e5a6b4",
   "metadata": {},
   "outputs": [],
   "source": [
    "communities = [com_0, com_1, com_2]"
   ]
  },
  {
   "cell_type": "markdown",
   "id": "85bb73a6-4fd7-4b42-920b-50433f7fd623",
   "metadata": {},
   "source": [
    "### feature exploration"
   ]
  },
  {
   "cell_type": "code",
   "execution_count": 118,
   "id": "8d88e41f",
   "metadata": {},
   "outputs": [],
   "source": [
    "age = result_2['AGE']"
   ]
  },
  {
   "cell_type": "code",
   "execution_count": 119,
   "id": "c30e20d8",
   "metadata": {},
   "outputs": [],
   "source": [
    "# delete the null valued rows in the column 'age'\n",
    "age = age.dropna()"
   ]
  },
  {
   "cell_type": "code",
   "execution_count": 120,
   "id": "c62c9f43",
   "metadata": {
    "scrolled": true
   },
   "outputs": [
    {
     "name": "stdout",
     "output_type": "stream",
     "text": [
      "mean of age: 45.82214765100671\n",
      "variance of age: 245.35427458222605\n",
      "standard deviation of age: 15.663788640754383\n"
     ]
    }
   ],
   "source": [
    "# mean, var, std\n",
    "print(\"mean of age:\", np.mean(age))\n",
    "print(\"variance of age:\", np.var(age))\n",
    "print(\"standard deviation of age:\", np.std(age))"
   ]
  },
  {
   "cell_type": "code",
   "execution_count": 121,
   "id": "a3fcd5b4",
   "metadata": {
    "scrolled": true
   },
   "outputs": [
    {
     "name": "stdout",
     "output_type": "stream",
     "text": [
      "*community_0 in age\n",
      "how many: 119\n",
      "mean: 45.924369747899156\n",
      "variance: 237.51528846832852\n",
      "std: 15.411531022851964\n",
      "\n",
      "*community_1 in age \n",
      "how many: 119\n",
      "mean: 45.52100840336134\n",
      "variance: 236.92182755455121\n",
      "std: 15.392265185948142\n",
      "\n",
      "*community_2 in age \n",
      "how many: 60\n",
      "mean: 46.21666666666667\n",
      "variance: 277.26972222222224\n",
      "std: 16.651418024367242\n"
     ]
    }
   ],
   "source": [
    "# Dataframe age with each communities\n",
    "\n",
    "age_0 = communities[0]['AGE']\n",
    "age_1 = communities[1]['AGE']\n",
    "age_2 = communities[2]['AGE']\n",
    "\n",
    "# print cardinality, mean, var, std within the cluster.\n",
    "# community_0\n",
    "print(\"*community_0 in age\")\n",
    "print(\"how many:\", len(age_0))\n",
    "print(\"mean:\", np.mean(age_0))\n",
    "print(\"variance:\", np.var(age_0))\n",
    "print(\"std:\", np.std(age_0))\n",
    "\n",
    "# community_1\n",
    "print(\"\\n*community_1 in age \")\n",
    "print(\"how many:\", len(age_1))\n",
    "print(\"mean:\", np.mean(age_1))\n",
    "print(\"variance:\", np.var(age_1))\n",
    "print(\"std:\", np.std(age_1))\n",
    "\n",
    "# community_2\n",
    "print(\"\\n*community_2 in age \")\n",
    "print(\"how many:\", len(age_2))\n",
    "print(\"mean:\", np.mean(age_2))\n",
    "print(\"variance:\", np.var(age_2))\n",
    "print(\"std:\", np.std(age_2))"
   ]
  },
  {
   "cell_type": "markdown",
   "id": "2a9420e6",
   "metadata": {},
   "source": [
    "## Hypothesis testing"
   ]
  },
  {
   "cell_type": "code",
   "execution_count": 122,
   "id": "e455e1fb",
   "metadata": {},
   "outputs": [],
   "source": [
    "data = result_2"
   ]
  },
  {
   "cell_type": "code",
   "execution_count": 123,
   "id": "a6ab2d1a",
   "metadata": {},
   "outputs": [],
   "source": [
    "from scipy.stats import chi2_contingency\n",
    "import statsmodels.api as sm"
   ]
  },
  {
   "cell_type": "markdown",
   "id": "00b6d6b1",
   "metadata": {},
   "source": [
    "## ANOVA"
   ]
  },
  {
   "cell_type": "markdown",
   "id": "822dcf31",
   "metadata": {},
   "source": [
    "### Age"
   ]
  },
  {
   "cell_type": "code",
   "execution_count": 124,
   "id": "a477701d",
   "metadata": {},
   "outputs": [],
   "source": [
    "from scipy.stats import levene, f_oneway\n",
    "import statsmodels.api as sm\n",
    "from statsmodels.stats.anova import AnovaRM\n",
    "from statsmodels.stats.oneway import anova_oneway"
   ]
  },
  {
   "cell_type": "code",
   "execution_count": 125,
   "id": "75a1a9e4",
   "metadata": {},
   "outputs": [],
   "source": [
    "# split the dataset for the analysis\n",
    "\n",
    "grouped_data = [data['AGE'][data['label'] == cluster] for cluster in data['label'].unique()]"
   ]
  },
  {
   "cell_type": "markdown",
   "id": "d38422e1",
   "metadata": {},
   "source": [
    "### Levene's Test + ANOVA"
   ]
  },
  {
   "cell_type": "code",
   "execution_count": 126,
   "id": "eb7130a1",
   "metadata": {},
   "outputs": [
    {
     "name": "stdout",
     "output_type": "stream",
     "text": [
      "Levene's Test Statistic: 0.3894119260597699\n",
      "P-Value: 0.6778028672933347\n",
      "Variances are equal across groups (p > 0.05), you can proceed with ANOVA.\n",
      "\n",
      "ANOVA Test Statistic: 0.04313089954388875\n",
      "P-Value: 0.9577920467644305\n",
      "There is no significant difference in age across clusters (p > 0.05).\n"
     ]
    }
   ],
   "source": [
    "# Perform Levene's test\n",
    "levene_stat, levene_p = levene(*grouped_data)\n",
    "\n",
    "print(f\"Levene's Test Statistic: {levene_stat}\")\n",
    "print(f\"P-Value: {levene_p}\")\n",
    "\n",
    "# Check the result of Levene's test\n",
    "if levene_p > 0.05:\n",
    "    print(\"Variances are equal across groups (p > 0.05), you can proceed with ANOVA.\\n\")\n",
    "    \n",
    "    # Perform ANOVA\n",
    "    anova_stat, anova_p = f_oneway(*grouped_data)\n",
    "    \n",
    "    print(f\"ANOVA Test Statistic: {anova_stat}\")\n",
    "    print(f\"P-Value: {anova_p}\")\n",
    "    \n",
    "    if anova_p < 0.05:\n",
    "        print(\"There is a significant difference in age across clusters (p < 0.05).\")\n",
    "    else:\n",
    "        print(\"There is no significant difference in age across clusters (p > 0.05).\")\n",
    "else:\n",
    "    print(\"Variances are not equal across groups (p <= 0.05), consider using a different test like Welch's ANOVA.\")"
   ]
  },
  {
   "cell_type": "markdown",
   "id": "91b23aef",
   "metadata": {},
   "source": [
    "### DAT"
   ]
  },
  {
   "cell_type": "code",
   "execution_count": 127,
   "id": "2b66abe8",
   "metadata": {},
   "outputs": [],
   "source": [
    "# split the dataset for the analysis\n",
    "\n",
    "grouped_data = [data['DAT'][data['label'] == cluster] for cluster in data['label'].unique()]"
   ]
  },
  {
   "cell_type": "markdown",
   "id": "9937db35",
   "metadata": {},
   "source": [
    "### Levene's Test"
   ]
  },
  {
   "cell_type": "code",
   "execution_count": 73,
   "id": "d14ecd09",
   "metadata": {},
   "outputs": [
    {
     "name": "stdout",
     "output_type": "stream",
     "text": [
      "Levene's Test Statistic: 1.8295197645476562\n",
      "P-Value: 0.16230686995462987\n",
      "Variances are equal across groups (p > 0.05), you can proceed with ANOVA.\n",
      "\n",
      "ANOVA Test Statistic: 4.6647662295199535\n",
      "P-Value: 0.010127279218871873\n",
      "There is a significant difference in dat across clusters (p < 0.05).\n"
     ]
    }
   ],
   "source": [
    "# Perform Levene's test\n",
    "levene_stat, levene_p = levene(*grouped_data)\n",
    "\n",
    "print(f\"Levene's Test Statistic: {levene_stat}\")\n",
    "print(f\"P-Value: {levene_p}\")\n",
    "\n",
    "# Check the result of Levene's test\n",
    "if levene_p > 0.05:\n",
    "    print(\"Variances are equal across groups (p > 0.05), you can proceed with ANOVA.\\n\")\n",
    "    \n",
    "    # Perform ANOVA\n",
    "    anova_stat, anova_p = f_oneway(*grouped_data)\n",
    "    \n",
    "    print(f\"ANOVA Test Statistic: {anova_stat}\")\n",
    "    print(f\"P-Value: {anova_p}\")\n",
    "    \n",
    "    if anova_p < 0.05:\n",
    "        print(\"There is a significant difference in dat across clusters (p < 0.05).\")\n",
    "    else:\n",
    "        print(\"There is no significant difference in dat across clusters (p > 0.05).\")\n",
    "else:\n",
    "    print(\"Variances are not equal across groups (p <= 0.05), consider using a different test like Welch's ANOVA.\")"
   ]
  },
  {
   "cell_type": "markdown",
   "id": "f166014b",
   "metadata": {},
   "source": [
    "### CRT"
   ]
  },
  {
   "cell_type": "code",
   "execution_count": 74,
   "id": "3d779171",
   "metadata": {},
   "outputs": [],
   "source": [
    "# split the dataset for the analysis\n",
    "\n",
    "grouped_data = [data['CRT2'][data['label'] == cluster] for cluster in data['label'].unique()]"
   ]
  },
  {
   "cell_type": "markdown",
   "id": "184e983a",
   "metadata": {},
   "source": [
    "### Levene's Test"
   ]
  },
  {
   "cell_type": "code",
   "execution_count": 75,
   "id": "bdcee120",
   "metadata": {
    "scrolled": true
   },
   "outputs": [
    {
     "name": "stdout",
     "output_type": "stream",
     "text": [
      "Levene's Test Statistic: 2.5424393789010287\n",
      "P-Value: 0.08039718586487628\n",
      "Variances are equal across groups (p > 0.05), you can proceed with ANOVA.\n",
      "\n",
      "ANOVA Test Statistic: 3.8351433722341532\n",
      "P-Value: 0.0226831621697218\n",
      "There is a significant difference in crt across clusters (p < 0.05).\n"
     ]
    }
   ],
   "source": [
    "# Perform Levene's test\n",
    "levene_stat, levene_p = levene(*grouped_data)\n",
    "\n",
    "print(f\"Levene's Test Statistic: {levene_stat}\")\n",
    "print(f\"P-Value: {levene_p}\")\n",
    "\n",
    "# Check the result of Levene's test\n",
    "if levene_p > 0.05:\n",
    "    print(\"Variances are equal across groups (p > 0.05), you can proceed with ANOVA.\\n\")\n",
    "    \n",
    "    # Perform ANOVA\n",
    "    anova_stat, anova_p = f_oneway(*grouped_data)\n",
    "    \n",
    "    print(f\"ANOVA Test Statistic: {anova_stat}\")\n",
    "    print(f\"P-Value: {anova_p}\")\n",
    "    \n",
    "    if anova_p < 0.05:\n",
    "        print(\"There is a significant difference in crt across clusters (p < 0.05).\")\n",
    "    else:\n",
    "        print(\"There is no significant difference in crt across clusters (p > 0.05).\")\n",
    "else:\n",
    "    print(\"Variances are not equal across groups (p <= 0.05), consider using a different test like Welch's ANOVA.\")"
   ]
  },
  {
   "cell_type": "markdown",
   "id": "38b7fb94",
   "metadata": {},
   "source": [
    "## Chi-Square Test\n",
    "### Check the expected frequency\n",
    "* It is supposed to be, Every cell > 0, 80% of the cells >= 5"
   ]
  },
  {
   "cell_type": "code",
   "execution_count": 76,
   "id": "fe2c99c3",
   "metadata": {},
   "outputs": [],
   "source": [
    "from scipy.stats import chi2_contingency\n",
    "import statsmodels.api as sm"
   ]
  },
  {
   "cell_type": "markdown",
   "id": "bde7e41c",
   "metadata": {},
   "source": [
    "### Gender"
   ]
  },
  {
   "cell_type": "code",
   "execution_count": 77,
   "id": "5f1d48eb",
   "metadata": {},
   "outputs": [
    {
     "name": "stdout",
     "output_type": "stream",
     "text": [
      "        Chi-Squared Test Results        \n",
      "========================================\n",
      "Test Statistic (Chi2):    3.5979\n",
      "Degrees of Freedom:       6\n",
      "p-value:                  7.3091e-01\n",
      "\n",
      "Expected Frequencies (rounded):\n",
      "label      0     1      2\n",
      "GENDER                   \n",
      "1       60.3  60.3  30.40\n",
      "2        0.4   0.4   0.20\n",
      "3       57.9  57.9  29.19\n",
      "5        0.4   0.4   0.20\n"
     ]
    }
   ],
   "source": [
    "# Create a contingency table\n",
    "contingency_table = pd.crosstab(data['GENDER'], data['label'])\n",
    "\n",
    "# Perform the Chi-squared test\n",
    "chi2, p, dof, expected = chi2_contingency(contingency_table)\n",
    "\n",
    "# Print the results in a readable format\n",
    "print(f\"{'Chi-Squared Test Results':^40}\")\n",
    "print(\"=\"*40)\n",
    "print(f\"{'Test Statistic (Chi2):':<25} {chi2:.4f}\")\n",
    "print(f\"{'Degrees of Freedom:':<25} {dof}\")\n",
    "print(f\"{'p-value:':<25} {p:.4e}\")\n",
    "print(\"\\nExpected Frequencies (rounded):\")\n",
    "print(pd.DataFrame(expected, \n",
    "                   index=contingency_table.index, \n",
    "                   columns=contingency_table.columns).round(2))"
   ]
  },
  {
   "cell_type": "markdown",
   "id": "02ea13f9",
   "metadata": {},
   "source": [
    "### Cut off the dataset"
   ]
  },
  {
   "cell_type": "code",
   "execution_count": 78,
   "id": "c8ce0d11",
   "metadata": {},
   "outputs": [],
   "source": [
    "contingency_table_filtered = contingency_table.loc[[1, 3]]"
   ]
  },
  {
   "cell_type": "code",
   "execution_count": 79,
   "id": "b82fcdeb",
   "metadata": {},
   "outputs": [
    {
     "name": "stdout",
     "output_type": "stream",
     "text": [
      "Expected Frequencies:\n",
      "[[60.19594595 60.19594595 30.60810811]\n",
      " [57.80405405 57.80405405 29.39189189]]\n",
      "All expected frequencies are >= 5. The Chi-Square test can be used.\n"
     ]
    }
   ],
   "source": [
    "# Perform Chi-Square test\n",
    "chi2_statistic, p_value, dof, expected = chi2_contingency(contingency_table_filtered)\n",
    "\n",
    "# Print the results\n",
    "print(\"Expected Frequencies:\")\n",
    "print(expected)\n",
    "\n",
    "# Check if all expected frequencies are >= 5\n",
    "if np.all(expected >= 5):\n",
    "    print(\"All expected frequencies are >= 5. The Chi-Square test can be used.\")\n",
    "else:\n",
    "    print(\"Some expected frequencies are < 5. Check if the cells <5 are more than 20% of the entire cells. Then consider using Fisher's Exact Test or combining categories.\")"
   ]
  },
  {
   "cell_type": "code",
   "execution_count": 80,
   "id": "c61c70fb",
   "metadata": {},
   "outputs": [
    {
     "name": "stdout",
     "output_type": "stream",
     "text": [
      "        Chi-Squared Test Results        \n",
      "========================================\n",
      "Test Statistic (Chi2):    0.5860\n",
      "Degrees of Freedom:       2\n",
      "p-value:                  7.4604e-01\n",
      "\n",
      "Expected Frequencies (rounded):\n",
      "label      0     1      2\n",
      "GENDER                   \n",
      "1       60.2  60.2  30.61\n",
      "3       57.8  57.8  29.39\n"
     ]
    }
   ],
   "source": [
    "# Perform the Chi-squared test\n",
    "chi2, p, dof, expected = chi2_contingency(contingency_table_filtered)\n",
    "\n",
    "# Print the results in a readable format\n",
    "print(f\"{'Chi-Squared Test Results':^40}\")\n",
    "print(\"=\"*40)\n",
    "print(f\"{'Test Statistic (Chi2):':<25} {chi2:.4f}\")\n",
    "print(f\"{'Degrees of Freedom:':<25} {dof}\")\n",
    "print(f\"{'p-value:':<25} {p:.4e}\")\n",
    "print(\"\\nExpected Frequencies (rounded):\")\n",
    "print(pd.DataFrame(expected, \n",
    "                   index=contingency_table_filtered.index, \n",
    "                   columns=contingency_table_filtered.columns).round(2))"
   ]
  },
  {
   "cell_type": "markdown",
   "id": "7d8d97d9",
   "metadata": {},
   "source": [
    "**Result:** p value is not below 0.05, therefore there is no significant difference in age by clusters."
   ]
  },
  {
   "cell_type": "markdown",
   "id": "092291e1",
   "metadata": {},
   "source": [
    "### Income"
   ]
  },
  {
   "cell_type": "code",
   "execution_count": 81,
   "id": "f97e66b8",
   "metadata": {},
   "outputs": [
    {
     "name": "stdout",
     "output_type": "stream",
     "text": [
      "        Chi-Squared Test Results        \n",
      "========================================\n",
      "Test Statistic (Chi2):    8.8773\n",
      "Degrees of Freedom:       8\n",
      "p-value:                  3.5275e-01\n",
      "\n",
      "Expected Frequencies (rounded):\n",
      "label       0      1      2\n",
      "INCOME                     \n",
      "1       29.55  29.55  14.90\n",
      "2       45.52  45.52  22.95\n",
      "3       23.56  23.56  11.88\n",
      "4       15.97  15.97   8.05\n",
      "5        4.39   4.39   2.21\n"
     ]
    }
   ],
   "source": [
    "# Create a contingency table\n",
    "contingency_table = pd.crosstab(data['INCOME'], data['label'])\n",
    "\n",
    "# Perform the Chi-squared test\n",
    "chi2, p, dof, expected = chi2_contingency(contingency_table)\n",
    "\n",
    "# Print the results in a readable format\n",
    "print(f\"{'Chi-Squared Test Results':^40}\")\n",
    "print(\"=\"*40)\n",
    "print(f\"{'Test Statistic (Chi2):':<25} {chi2:.4f}\")\n",
    "print(f\"{'Degrees of Freedom:':<25} {dof}\")\n",
    "print(f\"{'p-value:':<25} {p:.4e}\")\n",
    "print(\"\\nExpected Frequencies (rounded):\")\n",
    "print(pd.DataFrame(expected, \n",
    "                   index=contingency_table.index, \n",
    "                   columns=contingency_table.columns).round(2))"
   ]
  },
  {
   "cell_type": "markdown",
   "id": "66c04405",
   "metadata": {},
   "source": [
    "**RESULT:** Expected frequency meets the assumptions, so it is valid analysis"
   ]
  },
  {
   "cell_type": "markdown",
   "id": "37295abc",
   "metadata": {},
   "source": [
    "* Income shows NO significant difference between the clusters"
   ]
  },
  {
   "cell_type": "markdown",
   "id": "af162316",
   "metadata": {},
   "source": [
    "### Employment -> expected frequency was not good, could not finish."
   ]
  },
  {
   "cell_type": "code",
   "execution_count": 82,
   "id": "5e1caafe",
   "metadata": {},
   "outputs": [
    {
     "name": "stdout",
     "output_type": "stream",
     "text": [
      "        Chi-Squared Test Results        \n",
      "========================================\n",
      "Test Statistic (Chi2):    17.5059\n",
      "Degrees of Freedom:       14\n",
      "p-value:                  2.3022e-01\n",
      "\n",
      "Expected Frequencies (rounded):\n",
      "label           0      1      2\n",
      "EMPLOYMENT                     \n",
      "1           43.93  43.93  22.15\n",
      "2           16.37  16.37   8.26\n",
      "3            5.19   5.19   2.62\n",
      "4           17.17  17.17   8.66\n",
      "5            6.39   6.39   3.22\n",
      "6            7.19   7.19   3.62\n",
      "7           16.77  16.77   8.46\n",
      "8            5.99   5.99   3.02\n"
     ]
    }
   ],
   "source": [
    "# Create a contingency table\n",
    "contingency_table = pd.crosstab(data['EMPLOYMENT'], data['label'])\n",
    "\n",
    "# Perform the Chi-squared test\n",
    "chi2, p, dof, expected = chi2_contingency(contingency_table)\n",
    "\n",
    "# Print the results in a readable format\n",
    "print(f\"{'Chi-Squared Test Results':^40}\")\n",
    "print(\"=\"*40)\n",
    "print(f\"{'Test Statistic (Chi2):':<25} {chi2:.4f}\")\n",
    "print(f\"{'Degrees of Freedom:':<25} {dof}\")\n",
    "print(f\"{'p-value:':<25} {p:.4e}\")\n",
    "print(\"\\nExpected Frequencies (rounded):\")\n",
    "print(pd.DataFrame(expected, \n",
    "                   index=contingency_table.index, \n",
    "                   columns=contingency_table.columns).round(2))"
   ]
  },
  {
   "cell_type": "markdown",
   "id": "eca1866c",
   "metadata": {},
   "source": [
    "* Assumption is bit met, but not so valid for the Chi-Square."
   ]
  },
  {
   "cell_type": "markdown",
   "id": "946ebcec",
   "metadata": {},
   "source": [
    "### Education"
   ]
  },
  {
   "cell_type": "code",
   "execution_count": 83,
   "id": "1955eeb2",
   "metadata": {
    "scrolled": true
   },
   "outputs": [
    {
     "name": "stdout",
     "output_type": "stream",
     "text": [
      "        Chi-Squared Test Results        \n",
      "========================================\n",
      "Test Statistic (Chi2):    21.4855\n",
      "Degrees of Freedom:       8\n",
      "p-value:                  5.9636e-03\n",
      "\n",
      "Expected Frequencies (rounded):\n",
      "label          0      1      2\n",
      "EDUCATION                     \n",
      "2          31.15  31.15  15.70\n",
      "3          21.56  21.56  10.87\n",
      "4          43.13  43.13  21.74\n",
      "5          22.36  22.36  11.28\n",
      "6           0.80   0.80   0.40\n"
     ]
    }
   ],
   "source": [
    "# Create a contingency table\n",
    "contingency_table = pd.crosstab(data['EDUCATION'], data['label'])\n",
    "\n",
    "# Perform the Chi-squared test\n",
    "chi2, p, dof, expected = chi2_contingency(contingency_table)\n",
    "\n",
    "# Print the results in a readable format\n",
    "print(f\"{'Chi-Squared Test Results':^40}\")\n",
    "print(\"=\"*40)\n",
    "print(f\"{'Test Statistic (Chi2):':<25} {chi2:.4f}\")\n",
    "print(f\"{'Degrees of Freedom:':<25} {dof}\")\n",
    "print(f\"{'p-value:':<25} {p:.4e}\")\n",
    "print(\"\\nExpected Frequencies (rounded):\")\n",
    "print(pd.DataFrame(expected, \n",
    "                   index=contingency_table.index, \n",
    "                   columns=contingency_table.columns).round(2))"
   ]
  },
  {
   "cell_type": "code",
   "execution_count": 84,
   "id": "37a61781",
   "metadata": {},
   "outputs": [],
   "source": [
    "# filter only the 1,2 voted participants\n",
    "contingency_table_filtered = contingency_table.loc[[2, 3, 4, 5]]"
   ]
  },
  {
   "cell_type": "code",
   "execution_count": 85,
   "id": "b7128147",
   "metadata": {
    "scrolled": true
   },
   "outputs": [
    {
     "data": {
      "text/html": [
       "<div>\n",
       "<style scoped>\n",
       "    .dataframe tbody tr th:only-of-type {\n",
       "        vertical-align: middle;\n",
       "    }\n",
       "\n",
       "    .dataframe tbody tr th {\n",
       "        vertical-align: top;\n",
       "    }\n",
       "\n",
       "    .dataframe thead th {\n",
       "        text-align: right;\n",
       "    }\n",
       "</style>\n",
       "<table border=\"1\" class=\"dataframe\">\n",
       "  <thead>\n",
       "    <tr style=\"text-align: right;\">\n",
       "      <th>label</th>\n",
       "      <th>0</th>\n",
       "      <th>1</th>\n",
       "      <th>2</th>\n",
       "    </tr>\n",
       "    <tr>\n",
       "      <th>EDUCATION</th>\n",
       "      <th></th>\n",
       "      <th></th>\n",
       "      <th></th>\n",
       "    </tr>\n",
       "  </thead>\n",
       "  <tbody>\n",
       "    <tr>\n",
       "      <th>2</th>\n",
       "      <td>42</td>\n",
       "      <td>16</td>\n",
       "      <td>20</td>\n",
       "    </tr>\n",
       "    <tr>\n",
       "      <th>3</th>\n",
       "      <td>24</td>\n",
       "      <td>21</td>\n",
       "      <td>9</td>\n",
       "    </tr>\n",
       "    <tr>\n",
       "      <th>4</th>\n",
       "      <td>33</td>\n",
       "      <td>54</td>\n",
       "      <td>21</td>\n",
       "    </tr>\n",
       "    <tr>\n",
       "      <th>5</th>\n",
       "      <td>20</td>\n",
       "      <td>27</td>\n",
       "      <td>9</td>\n",
       "    </tr>\n",
       "  </tbody>\n",
       "</table>\n",
       "</div>"
      ],
      "text/plain": [
       "label       0   1   2\n",
       "EDUCATION            \n",
       "2          42  16  20\n",
       "3          24  21   9\n",
       "4          33  54  21\n",
       "5          20  27   9"
      ]
     },
     "execution_count": 85,
     "metadata": {},
     "output_type": "execute_result"
    }
   ],
   "source": [
    "contingency_table_filtered"
   ]
  },
  {
   "cell_type": "code",
   "execution_count": 86,
   "id": "8263bb1e",
   "metadata": {},
   "outputs": [
    {
     "name": "stdout",
     "output_type": "stream",
     "text": [
      "Expected Frequencies:\n",
      "[[31.35810811 31.09459459 15.5472973 ]\n",
      " [21.70945946 21.52702703 10.76351351]\n",
      " [43.41891892 43.05405405 21.52702703]\n",
      " [22.51351351 22.32432432 11.16216216]]\n",
      "All expected frequencies are >= 5. The Chi-Square test can be used.\n"
     ]
    }
   ],
   "source": [
    "# Perform Chi-Square test\n",
    "chi2_statistic, p_value, dof, expected = chi2_contingency(contingency_table_filtered)\n",
    "\n",
    "# Print the results\n",
    "print(\"Expected Frequencies:\")\n",
    "print(expected)\n",
    "\n",
    "# Check if all expected frequencies are >= 5\n",
    "if np.all(expected >= 5):\n",
    "    print(\"All expected frequencies are >= 5. The Chi-Square test can be used.\")\n",
    "else:\n",
    "    print(\"Some expected frequencies are < 5. Check if the cells <5 are more than 20% of the entire cells. Then consider using Fisher's Exact Test or combining categories.\")"
   ]
  },
  {
   "cell_type": "markdown",
   "id": "1e1e4a0c",
   "metadata": {},
   "source": [
    "* Assumption is met regarding the expected frequency"
   ]
  },
  {
   "cell_type": "code",
   "execution_count": 87,
   "id": "1f493c20",
   "metadata": {},
   "outputs": [
    {
     "data": {
      "image/png": "[encoded data removed]",
      "text/plain": [
       "<Figure size 640x480 with 2 Axes>"
      ]
     },
     "metadata": {},
     "output_type": "display_data"
    }
   ],
   "source": [
    "import seaborn as sns\n",
    "import matplotlib.pyplot as plt\n",
    "\n",
    "# Create a heatmap for the contingency table\n",
    "sns.heatmap(contingency_table_filtered, annot=True, fmt='d')\n",
    "plt.title(\"Contingency Table Heatmap\")\n",
    "plt.show()"
   ]
  },
  {
   "cell_type": "markdown",
   "id": "f58a08a3",
   "metadata": {},
   "source": [
    "### Chi-Square test"
   ]
  },
  {
   "cell_type": "code",
   "execution_count": 88,
   "id": "ffc6511a",
   "metadata": {},
   "outputs": [
    {
     "name": "stdout",
     "output_type": "stream",
     "text": [
      "        Chi-Squared Test Results        \n",
      "========================================\n",
      "Test Statistic (Chi2):    19.7324\n",
      "Degrees of Freedom:       6\n",
      "p-value:                  3.0899e-03\n",
      "\n",
      "Expected Frequencies (rounded):\n",
      "label          0      1      2\n",
      "EDUCATION                     \n",
      "2          31.36  31.09  15.55\n",
      "3          21.71  21.53  10.76\n",
      "4          43.42  43.05  21.53\n",
      "5          22.51  22.32  11.16\n"
     ]
    }
   ],
   "source": [
    "# Perform the Chi-squared test\n",
    "chi2, p, dof, expected = chi2_contingency(contingency_table_filtered)\n",
    "\n",
    "# Print the results in a readable format\n",
    "print(f\"{'Chi-Squared Test Results':^40}\")\n",
    "print(\"=\"*40)\n",
    "print(f\"{'Test Statistic (Chi2):':<25} {chi2:.4f}\")\n",
    "print(f\"{'Degrees of Freedom:':<25} {dof}\")\n",
    "print(f\"{'p-value:':<25} {p:.4e}\")\n",
    "print(\"\\nExpected Frequencies (rounded):\")\n",
    "print(pd.DataFrame(expected, \n",
    "                   index=contingency_table_filtered.index, \n",
    "                   columns=contingency_table_filtered.columns).round(2))"
   ]
  },
  {
   "cell_type": "markdown",
   "id": "7e1e6cf8",
   "metadata": {},
   "source": [
    "### Influence of a label on the overall chi-square test: residuals calculations"
   ]
  },
  {
   "cell_type": "code",
   "execution_count": 89,
   "id": "a8e49c0e",
   "metadata": {},
   "outputs": [
    {
     "name": "stdout",
     "output_type": "stream",
     "text": [
      "        Chi-Squared Test Results        \n",
      "========================================\n",
      "Test Statistic (Chi2):    19.7324\n",
      "Degrees of Freedom:       6\n",
      "p-value:                  3.0899e-03\n",
      "\n",
      "Expected Frequencies (rounded):\n",
      "label          0      1      2\n",
      "EDUCATION                     \n",
      "2          31.36  31.09  15.55\n",
      "3          21.71  21.53  10.76\n",
      "4          43.42  43.05  21.53\n",
      "5          22.51  22.32  11.16\n",
      "\n",
      "Standardized Residuals:\n",
      "label         0     1     2\n",
      "EDUCATION                  \n",
      "2          1.90 -2.71  1.13\n",
      "3          0.49 -0.11 -0.54\n",
      "4         -1.58  1.67 -0.11\n",
      "5         -0.53  0.99 -0.65\n",
      "\n",
      "Extreme Standardized Residuals (|value| > 2):\n",
      "label       0         1   2\n",
      "EDUCATION                  \n",
      "2         NaN -2.706942 NaN\n"
     ]
    }
   ],
   "source": [
    "# Calculate the residuals\n",
    "residuals = contingency_table_filtered - expected\n",
    "\n",
    "# Standardize the residuals\n",
    "standardized_residuals = residuals / np.sqrt(expected)\n",
    "\n",
    "# Convert to DataFrame for better readability\n",
    "standardized_residuals_df = pd.DataFrame(standardized_residuals,\n",
    "                                         index=contingency_table_filtered.index,\n",
    "                                         columns=contingency_table_filtered.columns)\n",
    "\n",
    "# Print results\n",
    "print(f\"{'Chi-Squared Test Results':^40}\")\n",
    "print(\"=\"*40)\n",
    "print(f\"{'Test Statistic (Chi2):':<25} {chi2:.4f}\")\n",
    "print(f\"{'Degrees of Freedom:':<25} {dof}\")\n",
    "print(f\"{'p-value:':<25} {p:.4e}\")\n",
    "print(\"\\nExpected Frequencies (rounded):\")\n",
    "print(pd.DataFrame(expected, \n",
    "                   index=contingency_table_filtered.index, \n",
    "                   columns=contingency_table_filtered.columns).round(2))\n",
    "print(\"\\nStandardized Residuals:\")\n",
    "print(standardized_residuals_df.round(2))\n",
    "\n",
    "# Optional: if you want to see which residuals are extreme\n",
    "print(\"\\nExtreme Standardized Residuals (|value| > 2):\")\n",
    "print(standardized_residuals_df[standardized_residuals_df.abs() > 2].dropna(how='all'))\n"
   ]
  },
  {
   "cell_type": "markdown",
   "id": "c9da01c9",
   "metadata": {},
   "source": [
    "**Result:**\n",
    "* Assumption: expected frequency is met\n",
    "* p is below 0.05 -> reject the null-hypothesis\n",
    "* The distribution of the feature(**education**) **is significantly different** across different clusters. \n",
    "* Looking at the Residuals, Community 0 is overrerpesented for label 2. And Community 1 is underrepresented for the label 2. Two Communities show the opposite distributions in terms of the education. "
   ]
  },
  {
   "cell_type": "markdown",
   "id": "d7b37ac8",
   "metadata": {},
   "source": [
    "### Pairwise Comparison with residuals interpretation"
   ]
  },
  {
   "cell_type": "code",
   "execution_count": 90,
   "id": "76552a16",
   "metadata": {},
   "outputs": [],
   "source": [
    "import itertools\n",
    "from statsmodels.stats.multitest import multipletests"
   ]
  },
  {
   "cell_type": "code",
   "execution_count": 91,
   "id": "7a2e2835",
   "metadata": {},
   "outputs": [],
   "source": [
    "# Get all unique pairs of columns (communities)\n",
    "pairs = list(itertools.combinations(contingency_table_filtered.columns, 2))\n",
    "\n",
    "# Store results for pairwise comparisons\n",
    "pairwise_results = []\n",
    "pairwise_residuals = {}"
   ]
  },
  {
   "cell_type": "code",
   "execution_count": 92,
   "id": "994fa78a",
   "metadata": {},
   "outputs": [],
   "source": [
    "# Perform pairwise chi-squared tests\n",
    "for pair in pairs:\n",
    "    # Create a contingency table for each pair of communities\n",
    "    pair_table = contingency_table_filtered.loc[:, pair]\n",
    "    \n",
    "    # Perform chi-squared test\n",
    "    chi2_pair, p_pair, dof_pair, expected = chi2_contingency(pair_table)\n",
    "    \n",
    "    # Calculate residuals and standardized residuals\n",
    "    residuals = pair_table - expected\n",
    "    standardized_residuals = residuals / np.sqrt(expected)\n",
    "    \n",
    "    # Append results\n",
    "    pairwise_results.append((pair, chi2_pair, p_pair))\n",
    "    pairwise_residuals[pair] = standardized_residuals"
   ]
  },
  {
   "cell_type": "code",
   "execution_count": 93,
   "id": "5e899de9",
   "metadata": {},
   "outputs": [],
   "source": [
    "# Extract p-values for correction\n",
    "p_values = [result[2] for result in pairwise_results]"
   ]
  },
  {
   "cell_type": "code",
   "execution_count": 94,
   "id": "d7bbed18",
   "metadata": {},
   "outputs": [],
   "source": [
    "# Apply Bonferroni correction\n",
    "adjusted_p_values = multipletests(p_values, method='bonferroni')[1]"
   ]
  },
  {
   "cell_type": "code",
   "execution_count": 95,
   "id": "b930242d",
   "metadata": {
    "scrolled": true
   },
   "outputs": [
    {
     "name": "stdout",
     "output_type": "stream",
     "text": [
      "\n",
      "Pairwise Chi-Squared Test Results (with Bonferroni correction):\n",
      "=================================================================\n",
      "Community Pair           Chi2      p-value        Adj. p-value   \n",
      "-----------------------------------------------------------------\n",
      "(0, 1)                   17.9628   4.4769e-04     1.3431e-03     \n",
      "(0, 2)                   1.3978    7.0605e-01     1.0000e+00     \n",
      "(1, 2)                   10.2350   1.6671e-02     5.0012e-02     \n"
     ]
    }
   ],
   "source": [
    "# Print pairwise results with adjusted p-values\n",
    "print(\"\\nPairwise Chi-Squared Test Results (with Bonferroni correction):\")\n",
    "print(\"=\"*65)\n",
    "print(f\"{'Community Pair':<25}{'Chi2':<10}{'p-value':<15}{'Adj. p-value':<15}\")\n",
    "print(\"-\"*65)\n",
    "\n",
    "for i, (pair, chi2_pair, p_pair) in enumerate(pairwise_results):\n",
    "    print(f\"{str(pair):<25}{chi2_pair:<10.4f}{p_pair:<15.4e}{adjusted_p_values[i]:<15.4e}\")"
   ]
  },
  {
   "cell_type": "markdown",
   "id": "2776d172",
   "metadata": {},
   "source": [
    "* Result: Comparing pairwise, \n",
    "    * (0, 1) community: adjusted p-value < 0.05 --- significant difference\n",
    "    * (0, 2) community: adjusted p-value > 0.05 --- no significant difference\n",
    "    * (1, 2) community: adjusted p-value > 0.05 --- no significant difference"
   ]
  },
  {
   "cell_type": "code",
   "execution_count": 96,
   "id": "13d9b7d4",
   "metadata": {},
   "outputs": [
    {
     "name": "stdout",
     "output_type": "stream",
     "text": [
      "\n",
      "Standardized Residuals for Each Pairwise Comparison:\n",
      "\n",
      "Pair: (0, 1)\n",
      "              0     1\n",
      "EDUCATION            \n",
      "2          2.39 -2.40\n",
      "3          0.30 -0.30\n",
      "4         -1.62  1.62\n",
      "5         -0.74  0.74\n",
      "\n",
      "Pair: (0, 2)\n",
      "              0     2\n",
      "EDUCATION            \n",
      "2          0.09 -0.12\n",
      "3          0.41 -0.59\n",
      "4         -0.52  0.73\n",
      "5          0.14 -0.20\n",
      "\n",
      "Pair: (1, 2)\n",
      "              1     2\n",
      "EDUCATION            \n",
      "2         -1.63  2.31\n",
      "3          0.22 -0.32\n",
      "4          0.57 -0.80\n",
      "5          0.61 -0.87\n"
     ]
    }
   ],
   "source": [
    "# Print standardized residuals for each pairwise comparison\n",
    "print(\"\\nStandardized Residuals for Each Pairwise Comparison:\")\n",
    "for pair, residuals_df in pairwise_residuals.items():\n",
    "    print(f\"\\nPair: {pair}\")\n",
    "    print(pd.DataFrame(residuals_df, index=contingency_table_filtered.index, columns=pair).round(2))"
   ]
  },
  {
   "cell_type": "markdown",
   "id": "66fb31e2",
   "metadata": {},
   "source": [
    "**Interpretation: Residuals**\n",
    "* Pair (0, 1): Community 0 is overrepresented with label 2, and Community 1 is underrepresented for label 2. \n",
    "* Pair (0, 2): The residuals are closer to the 0, meaning the community 0 and 2 distributions are quite similar with minor deviations. \n",
    "* Pair (1, 2): Community 2 shows bigger deviations compared to the Community 1, but their distributions are not very different with each other.  "
   ]
  },
  {
   "cell_type": "markdown",
   "id": "453aa1ea",
   "metadata": {},
   "source": [
    "### Political leaning"
   ]
  },
  {
   "cell_type": "code",
   "execution_count": 97,
   "id": "d2648974",
   "metadata": {},
   "outputs": [
    {
     "name": "stdout",
     "output_type": "stream",
     "text": [
      "        Chi-Squared Test Results        \n",
      "========================================\n",
      "Test Statistic (Chi2):    7.5668\n",
      "Degrees of Freedom:       8\n",
      "p-value:                  4.7688e-01\n",
      "\n",
      "Expected Frequencies (rounded):\n",
      "label          0      1      2\n",
      "POLITICAL                     \n",
      "1          13.18  13.18   6.64\n",
      "2          39.93  39.93  20.13\n",
      "3          47.12  47.12  23.76\n",
      "4          15.17  15.17   7.65\n",
      "5           3.59   3.59   1.81\n"
     ]
    }
   ],
   "source": [
    "# Create a contingency table\n",
    "contingency_table = pd.crosstab(data['POLITICAL'], data['label'])\n",
    "\n",
    "# Perform the Chi-squared test\n",
    "chi2, p, dof, expected = chi2_contingency(contingency_table)\n",
    "\n",
    "# Print the results in a readable format\n",
    "print(f\"{'Chi-Squared Test Results':^40}\")\n",
    "print(\"=\"*40)\n",
    "print(f\"{'Test Statistic (Chi2):':<25} {chi2:.4f}\")\n",
    "print(f\"{'Degrees of Freedom:':<25} {dof}\")\n",
    "print(f\"{'p-value:':<25} {p:.4e}\")\n",
    "print(\"\\nExpected Frequencies (rounded):\")\n",
    "print(pd.DataFrame(expected, \n",
    "                   index=contingency_table.index, \n",
    "                   columns=contingency_table.columns).round(2))"
   ]
  },
  {
   "cell_type": "markdown",
   "id": "7f462460",
   "metadata": {},
   "source": [
    "* The assumptions about the expected frequency is met. "
   ]
  },
  {
   "cell_type": "code",
   "execution_count": 98,
   "id": "cf5c3fe2",
   "metadata": {
    "scrolled": true
   },
   "outputs": [
    {
     "name": "stdout",
     "output_type": "stream",
     "text": [
      "        Chi-Squared Test Results        \n",
      "========================================\n",
      "Test Statistic (Chi2):    7.5668\n",
      "Degrees of Freedom:       8\n",
      "p-value:                  4.7688e-01\n",
      "\n",
      "Expected Frequencies (rounded):\n",
      "label          0      1      2\n",
      "POLITICAL                     \n",
      "1          13.18  13.18   6.64\n",
      "2          39.93  39.93  20.13\n",
      "3          47.12  47.12  23.76\n",
      "4          15.17  15.17   7.65\n",
      "5           3.59   3.59   1.81\n"
     ]
    }
   ],
   "source": [
    "# Perform the Chi-squared test\n",
    "chi2, p, dof, expected = chi2_contingency(contingency_table)\n",
    "\n",
    "# Print the results in a readable format\n",
    "print(f\"{'Chi-Squared Test Results':^40}\")\n",
    "print(\"=\"*40)\n",
    "print(f\"{'Test Statistic (Chi2):':<25} {chi2:.4f}\")\n",
    "print(f\"{'Degrees of Freedom:':<25} {dof}\")\n",
    "print(f\"{'p-value:':<25} {p:.4e}\")\n",
    "print(\"\\nExpected Frequencies (rounded):\")\n",
    "print(pd.DataFrame(expected, \n",
    "                   index=contingency_table.index, \n",
    "                   columns=contingency_table.columns).round(2))"
   ]
  },
  {
   "cell_type": "markdown",
   "id": "6ab0276b",
   "metadata": {},
   "source": [
    "**Result**: The political leaning shows no significant difference between clusters."
   ]
  },
  {
   "cell_type": "markdown",
   "id": "0362ced8",
   "metadata": {},
   "source": [
    "### Influence of a label on the overall chi-square test: residuals calculations"
   ]
  },
  {
   "cell_type": "code",
   "execution_count": 99,
   "id": "8b44a6ed",
   "metadata": {},
   "outputs": [
    {
     "name": "stdout",
     "output_type": "stream",
     "text": [
      "        Chi-Squared Test Results        \n",
      "========================================\n",
      "Test Statistic (Chi2):    7.5668\n",
      "Degrees of Freedom:       8\n",
      "p-value:                  4.7688e-01\n",
      "\n",
      "Expected Frequencies (rounded):\n",
      "label          0      1      2\n",
      "POLITICAL                     \n",
      "1          13.18  13.18   6.64\n",
      "2          39.93  39.93  20.13\n",
      "3          47.12  47.12  23.76\n",
      "4          15.17  15.17   7.65\n",
      "5           3.59   3.59   1.81\n",
      "\n",
      "Standardized Residuals:\n",
      "label         0     1     2\n",
      "POLITICAL                  \n",
      "1         -0.32  1.05 -1.03\n",
      "2         -0.78  0.96 -0.25\n",
      "3          0.42 -0.89  0.67\n",
      "4          0.98 -1.07  0.13\n",
      "5         -0.31  0.21  0.14\n",
      "\n",
      "Extreme Standardized Residuals (|value| > 2):\n",
      "Empty DataFrame\n",
      "Columns: [0, 1, 2]\n",
      "Index: []\n"
     ]
    }
   ],
   "source": [
    "# Calculate the residuals\n",
    "residuals = contingency_table - expected\n",
    "\n",
    "# Standardize the residuals\n",
    "standardized_residuals = residuals / np.sqrt(expected)\n",
    "\n",
    "# Convert to DataFrame for better readability\n",
    "standardized_residuals_df = pd.DataFrame(standardized_residuals,\n",
    "                                         index=contingency_table.index,\n",
    "                                         columns=contingency_table.columns)\n",
    "\n",
    "# Print results\n",
    "print(f\"{'Chi-Squared Test Results':^40}\")\n",
    "print(\"=\"*40)\n",
    "print(f\"{'Test Statistic (Chi2):':<25} {chi2:.4f}\")\n",
    "print(f\"{'Degrees of Freedom:':<25} {dof}\")\n",
    "print(f\"{'p-value:':<25} {p:.4e}\")\n",
    "print(\"\\nExpected Frequencies (rounded):\")\n",
    "print(pd.DataFrame(expected, \n",
    "                   index=contingency_table.index, \n",
    "                   columns=contingency_table.columns).round(2))\n",
    "print(\"\\nStandardized Residuals:\")\n",
    "print(standardized_residuals_df.round(2))\n",
    "\n",
    "# Optional: if you want to see which residuals are extreme\n",
    "print(\"\\nExtreme Standardized Residuals (|value| > 2):\")\n",
    "print(standardized_residuals_df[standardized_residuals_df.abs() > 2].dropna(how='all'))\n"
   ]
  },
  {
   "cell_type": "markdown",
   "id": "42d2b161",
   "metadata": {},
   "source": [
    "**Result**:\n",
    "* There is no extreme values of residuals found. "
   ]
  },
  {
   "cell_type": "markdown",
   "id": "ca95f294",
   "metadata": {},
   "source": [
    "# Demographic visualization"
   ]
  },
  {
   "cell_type": "markdown",
   "id": "2c10b999",
   "metadata": {},
   "source": [
    "### Age"
   ]
  },
  {
   "cell_type": "code",
   "execution_count": 128,
   "id": "58b61ecb",
   "metadata": {},
   "outputs": [],
   "source": [
    "age = demos['AGE']"
   ]
  },
  {
   "cell_type": "code",
   "execution_count": 129,
   "id": "77aa8c85",
   "metadata": {},
   "outputs": [],
   "source": [
    "# delete the null valued rows in the column 'age'\n",
    "age = age.dropna()"
   ]
  },
  {
   "cell_type": "code",
   "execution_count": 130,
   "id": "1e646bf8",
   "metadata": {},
   "outputs": [
    {
     "name": "stdout",
     "output_type": "stream",
     "text": [
      "mean of age: 45.86666666666667\n",
      "variance of age: 244.02888888888884\n",
      "standard deviation of age: 15.621424035243678\n"
     ]
    }
   ],
   "source": [
    "# mean, var, std\n",
    "print(\"mean of age:\", np.mean(age))\n",
    "print(\"variance of age:\", np.var(age))\n",
    "print(\"standard deviation of age:\", np.std(age))"
   ]
  },
  {
   "cell_type": "code",
   "execution_count": 131,
   "id": "812cd914",
   "metadata": {},
   "outputs": [
    {
     "name": "stdout",
     "output_type": "stream",
     "text": [
      "*community_0 in age\n",
      "how many: 119\n",
      "mean: 45.924369747899156\n",
      "variance: 237.51528846832852\n",
      "std: 15.411531022851964\n",
      "\n",
      "*community_1 in age \n",
      "how many: 119\n",
      "mean: 45.52100840336134\n",
      "variance: 236.92182755455121\n",
      "std: 15.392265185948142\n",
      "\n",
      "*community_2 in age \n",
      "how many: 60\n",
      "mean: 46.21666666666667\n",
      "variance: 277.26972222222224\n",
      "std: 16.651418024367242\n"
     ]
    }
   ],
   "source": [
    "# Dataframe age with each communities\n",
    "age_0 = communities[0]['AGE']\n",
    "age_1 = communities[1]['AGE']\n",
    "age_2 = communities[2]['AGE']\n",
    "\n",
    "# print cardinality, mean, var, std within the cluster.\n",
    "# community_0\n",
    "print(\"*community_0 in age\")\n",
    "print(\"how many:\", len(age_0))\n",
    "print(\"mean:\", np.mean(age_0))\n",
    "print(\"variance:\", np.var(age_0))\n",
    "print(\"std:\", np.std(age_0))\n",
    "\n",
    "# community_1\n",
    "print(\"\\n*community_1 in age \")\n",
    "print(\"how many:\", len(age_1))\n",
    "print(\"mean:\", np.mean(age_1))\n",
    "print(\"variance:\", np.var(age_1))\n",
    "print(\"std:\", np.std(age_1))\n",
    "\n",
    "# community_2\n",
    "print(\"\\n*community_2 in age \")\n",
    "print(\"how many:\", len(age_2))\n",
    "print(\"mean:\", np.mean(age_2))\n",
    "print(\"variance:\", np.var(age_2))\n",
    "print(\"std:\", np.std(age_2))\n"
   ]
  },
  {
   "cell_type": "code",
   "execution_count": 132,
   "id": "23ce575b",
   "metadata": {
    "scrolled": true
   },
   "outputs": [
    {
     "data": {
      "text/plain": [
       "(array([4., 2., 5., 4., 2., 6., 9., 3., 3., 7., 7., 4., 3., 1., 5., 3., 3.,\n",
       "        6., 5., 4., 4., 4., 9., 5., 6., 1., 1., 2., 0., 1.]),\n",
       " array([19.        , 20.96666667, 22.93333333, 24.9       , 26.86666667,\n",
       "        28.83333333, 30.8       , 32.76666667, 34.73333333, 36.7       ,\n",
       "        38.66666667, 40.63333333, 42.6       , 44.56666667, 46.53333333,\n",
       "        48.5       , 50.46666667, 52.43333333, 54.4       , 56.36666667,\n",
       "        58.33333333, 60.3       , 62.26666667, 64.23333333, 66.2       ,\n",
       "        68.16666667, 70.13333333, 72.1       , 74.06666667, 76.03333333,\n",
       "        78.        ]),\n",
       " <BarContainer object of 30 artists>)"
      ]
     },
     "execution_count": 132,
     "metadata": {},
     "output_type": "execute_result"
    },
    {
     "data": {
      "image/png": "[encoded data removed]",
      "text/plain": [
       "<Figure size 400x400 with 1 Axes>"
      ]
     },
     "metadata": {},
     "output_type": "display_data"
    }
   ],
   "source": [
    "# it is the example below, use to see another community as well.\n",
    "# Histogram of age in community 0\n",
    "plt.rcParams[\"figure.figsize\"] = (4,4) # set the figure size\n",
    "plt.hist(age_0, bins = 30)"
   ]
  },
  {
   "cell_type": "markdown",
   "id": "cb8ccca9",
   "metadata": {},
   "source": [
    "### Gender"
   ]
  },
  {
   "cell_type": "code",
   "execution_count": 133,
   "id": "8c67feff",
   "metadata": {},
   "outputs": [
    {
     "data": {
      "text/plain": [
       "PARTICIPANT_ID\n",
       "00278    1\n",
       "0068d    1\n",
       "00f13    1\n",
       "01cb6    3\n",
       "02670    1\n",
       "        ..\n",
       "f92a4    1\n",
       "f9fd8    1\n",
       "fb2a2    1\n",
       "fb9c4    1\n",
       "ff2bf    1\n",
       "Name: GENDER, Length: 300, dtype: int64"
      ]
     },
     "execution_count": 133,
     "metadata": {},
     "output_type": "execute_result"
    }
   ],
   "source": [
    "gender = demos['GENDER']\n",
    "gender = gender.dropna()\n",
    "gender"
   ]
  },
  {
   "cell_type": "code",
   "execution_count": 134,
   "id": "fb9d58d2",
   "metadata": {
    "scrolled": true
   },
   "outputs": [
    {
     "name": "stdout",
     "output_type": "stream",
     "text": [
      "How many in gender belong to community 0: 119\n",
      "How many in gender belong to community 1: 119\n",
      "How many in gender belong to community 2: 60\n"
     ]
    }
   ],
   "source": [
    "# Dataframe gender with each communities\n",
    "gender_0 = communities[0]['GENDER']\n",
    "gender_1 = communities[1]['GENDER']\n",
    "gender_2 = communities[2]['GENDER']\n",
    "\n",
    "print(\"How many in gender belong to community 0:\", len(gender_0))\n",
    "print(\"How many in gender belong to community 1:\", len(gender_1))\n",
    "print(\"How many in gender belong to community 2:\", len(gender_2))"
   ]
  },
  {
   "cell_type": "code",
   "execution_count": 135,
   "id": "05119c35",
   "metadata": {},
   "outputs": [
    {
     "data": {
      "text/plain": [
       "(array([57.,  0.,  0.,  0.,  1.,  0.,  0., 61.]),\n",
       " array([1.  , 1.25, 1.5 , 1.75, 2.  , 2.25, 2.5 , 2.75, 3.  ]),\n",
       " <BarContainer object of 8 artists>)"
      ]
     },
     "execution_count": 135,
     "metadata": {},
     "output_type": "execute_result"
    },
    {
     "data": {
      "image/png": "[encoded data removed]",
      "text/plain": [
       "<Figure size 400x400 with 1 Axes>"
      ]
     },
     "metadata": {},
     "output_type": "display_data"
    }
   ],
   "source": [
    "# it is the example below, use to see another community as well.\n",
    "# Histogram of gender in community 0\n",
    "plt.rcParams[\"figure.figsize\"] = (4,4) # set the figure size\n",
    "plt.hist(gender_0, bins = 8)"
   ]
  },
  {
   "cell_type": "code",
   "execution_count": 136,
   "id": "6ca099b6",
   "metadata": {},
   "outputs": [
    {
     "data": {
      "text/plain": [
       "(array([62.,  0.,  0.,  0., 56.,  0.,  0.,  1.]),\n",
       " array([1. , 1.5, 2. , 2.5, 3. , 3.5, 4. , 4.5, 5. ]),\n",
       " <BarContainer object of 8 artists>)"
      ]
     },
     "execution_count": 136,
     "metadata": {},
     "output_type": "execute_result"
    },
    {
     "data": {
      "image/png": "[encoded data removed]",
      "text/plain": [
       "<Figure size 400x400 with 1 Axes>"
      ]
     },
     "metadata": {},
     "output_type": "display_data"
    }
   ],
   "source": [
    "# it is the example below, use to see another community as well.\n",
    "# Histogram of gender in community 1\n",
    "plt.rcParams[\"figure.figsize\"] = (4,4) # set the figure size\n",
    "plt.hist(gender_1, bins = 8)"
   ]
  },
  {
   "cell_type": "code",
   "execution_count": 137,
   "id": "d0f22c3a",
   "metadata": {
    "scrolled": true
   },
   "outputs": [
    {
     "data": {
      "text/plain": [
       "(array([32.,  0.,  0.,  0.,  0.,  0.,  0., 28.]),\n",
       " array([1.  , 1.25, 1.5 , 1.75, 2.  , 2.25, 2.5 , 2.75, 3.  ]),\n",
       " <BarContainer object of 8 artists>)"
      ]
     },
     "execution_count": 137,
     "metadata": {},
     "output_type": "execute_result"
    },
    {
     "data": {
      "image/png": "[encoded data removed]",
      "text/plain": [
       "<Figure size 400x400 with 1 Axes>"
      ]
     },
     "metadata": {},
     "output_type": "display_data"
    }
   ],
   "source": [
    "# it is the example below, use to see another community as well.\n",
    "# Histogram of gender in community 2\n",
    "plt.rcParams[\"figure.figsize\"] = (4,4) # set the figure size\n",
    "plt.hist(gender_2, bins = 8)"
   ]
  },
  {
   "cell_type": "markdown",
   "id": "48fdd214",
   "metadata": {},
   "source": [
    "### Ideology political"
   ]
  },
  {
   "cell_type": "code",
   "execution_count": 138,
   "id": "ba01eb64",
   "metadata": {},
   "outputs": [
    {
     "data": {
      "text/plain": [
       "PARTICIPANT_ID\n",
       "00278    2\n",
       "0068d    4\n",
       "00f13    3\n",
       "01cb6    1\n",
       "02670    2\n",
       "        ..\n",
       "f92a4    3\n",
       "f9fd8    2\n",
       "fb2a2    3\n",
       "fb9c4    2\n",
       "ff2bf    4\n",
       "Name: POLITICAL, Length: 300, dtype: int64"
      ]
     },
     "execution_count": 138,
     "metadata": {},
     "output_type": "execute_result"
    }
   ],
   "source": [
    "politics = demos['POLITICAL']\n",
    "politics = politics.dropna()\n",
    "politics"
   ]
  },
  {
   "cell_type": "code",
   "execution_count": 141,
   "id": "8ef82708",
   "metadata": {},
   "outputs": [
    {
     "name": "stdout",
     "output_type": "stream",
     "text": [
      "How many in politics belong to community 0: 119\n",
      "How many in politics belong to community 1: 119\n",
      "How many in politics belong to community 2: 60\n"
     ]
    }
   ],
   "source": [
    "# Dataframe political ideology with each communities\n",
    "politics_0 = communities[0]['POLITICAL']\n",
    "politics_1 = communities[1]['POLITICAL']\n",
    "politics_2 = communities[2]['POLITICAL']\n",
    "\n",
    "print(\"How many in politics belong to community 0:\", len(politics_0))\n",
    "print(\"How many in politics belong to community 1:\", len(politics_1))\n",
    "print(\"How many in politics belong to community 2:\", len(politics_2))"
   ]
  },
  {
   "cell_type": "code",
   "execution_count": 142,
   "id": "ec71435c",
   "metadata": {
    "scrolled": true
   },
   "outputs": [
    {
     "data": {
      "text/plain": [
       "(array([12.,  0., 35.,  0., 50.,  0., 19.,  3.]),\n",
       " array([1. , 1.5, 2. , 2.5, 3. , 3.5, 4. , 4.5, 5. ]),\n",
       " <BarContainer object of 8 artists>)"
      ]
     },
     "execution_count": 142,
     "metadata": {},
     "output_type": "execute_result"
    },
    {
     "data": {
      "image/png": "[encoded data removed]",
      "text/plain": [
       "<Figure size 400x400 with 1 Axes>"
      ]
     },
     "metadata": {},
     "output_type": "display_data"
    }
   ],
   "source": [
    "# it is the example below, use to see another community as well.\n",
    "# Histogram of politics in community 0\n",
    "plt.rcParams[\"figure.figsize\"] = (4,4) # set the figure size\n",
    "plt.hist(politics_0, bins = 8)"
   ]
  },
  {
   "cell_type": "code",
   "execution_count": 143,
   "id": "7ef314be",
   "metadata": {},
   "outputs": [
    {
     "data": {
      "text/plain": [
       "(array([17.,  0., 46.,  0., 41.,  0., 11.,  4.]),\n",
       " array([1. , 1.5, 2. , 2.5, 3. , 3.5, 4. , 4.5, 5. ]),\n",
       " <BarContainer object of 8 artists>)"
      ]
     },
     "execution_count": 143,
     "metadata": {},
     "output_type": "execute_result"
    },
    {
     "data": {
      "image/png": "[encoded data removed]",
      "text/plain": [
       "<Figure size 400x400 with 1 Axes>"
      ]
     },
     "metadata": {},
     "output_type": "display_data"
    }
   ],
   "source": [
    "# it is the example below, use to see another community as well.\n",
    "# Histogram of politics in community 1\n",
    "plt.rcParams[\"figure.figsize\"] = (4,4) # set the figure size\n",
    "plt.hist(politics_1, bins = 8)"
   ]
  },
  {
   "cell_type": "code",
   "execution_count": 144,
   "id": "e3fc5ee8",
   "metadata": {},
   "outputs": [
    {
     "data": {
      "text/plain": [
       "(array([ 4.,  0., 19.,  0., 27.,  0.,  8.,  2.]),\n",
       " array([1. , 1.5, 2. , 2.5, 3. , 3.5, 4. , 4.5, 5. ]),\n",
       " <BarContainer object of 8 artists>)"
      ]
     },
     "execution_count": 144,
     "metadata": {},
     "output_type": "execute_result"
    },
    {
     "data": {
      "image/png": "[encoded data removed]",
      "text/plain": [
       "<Figure size 400x400 with 1 Axes>"
      ]
     },
     "metadata": {},
     "output_type": "display_data"
    }
   ],
   "source": [
    "# it is the example below, use to see another community as well.\n",
    "# Histogram of politics in community 2\n",
    "plt.rcParams[\"figure.figsize\"] = (4,4) # set the figure size\n",
    "plt.hist(politics_2, bins = 8)"
   ]
  },
  {
   "cell_type": "markdown",
   "id": "cb9d934e",
   "metadata": {},
   "source": [
    "### Education "
   ]
  },
  {
   "cell_type": "code",
   "execution_count": 145,
   "id": "1a068ab5",
   "metadata": {},
   "outputs": [
    {
     "data": {
      "text/plain": [
       "['AGE',\n",
       " 'GENDER',\n",
       " 'EDUCATION',\n",
       " 'EMPLOYMENT',\n",
       " 'INCOME',\n",
       " 'POLITICAL',\n",
       " 'DAT',\n",
       " 'CRT2',\n",
       " 'index']"
      ]
     },
     "execution_count": 145,
     "metadata": {},
     "output_type": "execute_result"
    }
   ],
   "source": [
    "demos.columns.tolist()"
   ]
  },
  {
   "cell_type": "code",
   "execution_count": 146,
   "id": "4e4ceec9",
   "metadata": {},
   "outputs": [],
   "source": [
    "education = demos['EDUCATION']"
   ]
  },
  {
   "cell_type": "code",
   "execution_count": 147,
   "id": "ec19d5d7",
   "metadata": {},
   "outputs": [
    {
     "data": {
      "text/plain": [
       "PARTICIPANT_ID\n",
       "00278    5\n",
       "0068d    2\n",
       "00f13    4\n",
       "01cb6    2\n",
       "02670    5\n",
       "        ..\n",
       "f92a4    5\n",
       "f9fd8    4\n",
       "fb2a2    2\n",
       "fb9c4    4\n",
       "ff2bf    2\n",
       "Name: EDUCATION, Length: 300, dtype: int64"
      ]
     },
     "execution_count": 147,
     "metadata": {},
     "output_type": "execute_result"
    }
   ],
   "source": [
    "education = education.dropna()\n",
    "education"
   ]
  },
  {
   "cell_type": "code",
   "execution_count": 148,
   "id": "dda9171e",
   "metadata": {},
   "outputs": [
    {
     "name": "stdout",
     "output_type": "stream",
     "text": [
      "How many in education belong to community 0: 119\n",
      "How many in education belong to community 1: 119\n",
      "How many in education belong to community 2: 60\n"
     ]
    }
   ],
   "source": [
    "# Dataframe political ideology with each communities\n",
    "education_0 = communities[0]['EDUCATION']\n",
    "education_1 = communities[1]['EDUCATION']\n",
    "education_2 = communities[2]['EDUCATION']\n",
    "\n",
    "print(\"How many in education belong to community 0:\", len(education_0))\n",
    "print(\"How many in education belong to community 1:\", len(education_1))\n",
    "print(\"How many in education belong to community 2:\", len(education_2))\n"
   ]
  },
  {
   "cell_type": "code",
   "execution_count": 149,
   "id": "bcd17939",
   "metadata": {},
   "outputs": [
    {
     "data": {
      "text/plain": [
       "(array([42.,  0., 24.,  0.,  0., 33.,  0., 20.]),\n",
       " array([2.   , 2.375, 2.75 , 3.125, 3.5  , 3.875, 4.25 , 4.625, 5.   ]),\n",
       " <BarContainer object of 8 artists>)"
      ]
     },
     "execution_count": 149,
     "metadata": {},
     "output_type": "execute_result"
    },
    {
     "data": {
      "image/png": "[encoded data removed]",
      "text/plain": [
       "<Figure size 400x400 with 1 Axes>"
      ]
     },
     "metadata": {},
     "output_type": "display_data"
    }
   ],
   "source": [
    "# it is the example below, use to see another community as well.\n",
    "# Histogram of education in community 0\n",
    "plt.rcParams[\"figure.figsize\"] = (4,4) # set the figure size\n",
    "plt.hist(education_0, bins = 8)"
   ]
  },
  {
   "cell_type": "markdown",
   "id": "ef71680d",
   "metadata": {},
   "source": [
    "### Employment"
   ]
  },
  {
   "cell_type": "code",
   "execution_count": 152,
   "id": "3f6856ed",
   "metadata": {},
   "outputs": [
    {
     "data": {
      "text/plain": [
       "PARTICIPANT_ID\n",
       "00278    1\n",
       "0068d    7\n",
       "00f13    1\n",
       "01cb6    8\n",
       "02670    1\n",
       "        ..\n",
       "f92a4    1\n",
       "f9fd8    8\n",
       "fb2a2    8\n",
       "fb9c4    8\n",
       "ff2bf    7\n",
       "Name: EMPLOYMENT, Length: 300, dtype: int64"
      ]
     },
     "execution_count": 152,
     "metadata": {},
     "output_type": "execute_result"
    }
   ],
   "source": [
    "demos['EMPLOYMENT']"
   ]
  },
  {
   "cell_type": "code",
   "execution_count": 153,
   "id": "566dad5d",
   "metadata": {},
   "outputs": [
    {
     "data": {
      "text/plain": [
       "PARTICIPANT_ID\n",
       "00278    1\n",
       "0068d    7\n",
       "00f13    1\n",
       "01cb6    8\n",
       "02670    1\n",
       "        ..\n",
       "f92a4    1\n",
       "f9fd8    8\n",
       "fb2a2    8\n",
       "fb9c4    8\n",
       "ff2bf    7\n",
       "Name: EMPLOYMENT, Length: 300, dtype: int64"
      ]
     },
     "execution_count": 153,
     "metadata": {},
     "output_type": "execute_result"
    }
   ],
   "source": [
    "employment = demos['EMPLOYMENT'].dropna()\n",
    "employment"
   ]
  },
  {
   "cell_type": "code",
   "execution_count": 154,
   "id": "139bc488",
   "metadata": {},
   "outputs": [
    {
     "name": "stdout",
     "output_type": "stream",
     "text": [
      "How many in employment belong to community 0: 119\n",
      "How many in employment belong to community 1: 119\n",
      "How many in employment belong to community 2: 60\n"
     ]
    }
   ],
   "source": [
    "# Dataframe political ideology with each communities\n",
    "employment_0 = communities[0]['EMPLOYMENT']\n",
    "employment_1 = communities[1]['EMPLOYMENT']\n",
    "employment_2 = communities[2]['EMPLOYMENT']\n",
    "\n",
    "print(\"How many in employment belong to community 0:\", len(employment_0))\n",
    "print(\"How many in employment belong to community 1:\", len(employment_1))\n",
    "print(\"How many in employment belong to community 2:\", len(employment_2))\n"
   ]
  },
  {
   "cell_type": "code",
   "execution_count": 155,
   "id": "66b05189",
   "metadata": {},
   "outputs": [
    {
     "data": {
      "text/plain": [
       "(array([40., 15.,  6.,  0., 23.,  6.,  0.,  8., 18.,  3.]),\n",
       " array([1. , 1.7, 2.4, 3.1, 3.8, 4.5, 5.2, 5.9, 6.6, 7.3, 8. ]),\n",
       " <BarContainer object of 10 artists>)"
      ]
     },
     "execution_count": 155,
     "metadata": {},
     "output_type": "execute_result"
    },
    {
     "data": {
      "image/png": "[encoded data removed]",
      "text/plain": [
       "<Figure size 400x400 with 1 Axes>"
      ]
     },
     "metadata": {},
     "output_type": "display_data"
    }
   ],
   "source": [
    "# it is the example below, use to see another community as well.\n",
    "# Histogram of employment in community 0\n",
    "plt.rcParams[\"figure.figsize\"] = (4,4) # set the figure size\n",
    "plt.hist(employment_0, bins = 10)"
   ]
  },
  {
   "cell_type": "markdown",
   "id": "3a3cd710",
   "metadata": {},
   "source": [
    "### Income"
   ]
  },
  {
   "cell_type": "code",
   "execution_count": 156,
   "id": "99bbde83",
   "metadata": {},
   "outputs": [],
   "source": [
    "income = demos['INCOME'].dropna()"
   ]
  },
  {
   "cell_type": "code",
   "execution_count": 157,
   "id": "508eeb47",
   "metadata": {},
   "outputs": [
    {
     "name": "stdout",
     "output_type": "stream",
     "text": [
      "How many in income belong to community 0: 119\n",
      "How many in income belong to community 1: 119\n",
      "How many in income belong to community 2: 60\n"
     ]
    }
   ],
   "source": [
    "# Dataframe political ideology with each communities\n",
    "income_0 = communities[0]['INCOME']\n",
    "income_1 = communities[1]['INCOME']\n",
    "income_2 = communities[2]['INCOME']\n",
    "\n",
    "print(\"How many in income belong to community 0:\", len(income_0))\n",
    "print(\"How many in income belong to community 1:\", len(income_1))\n",
    "print(\"How many in income belong to community 2:\", len(income_2))\n"
   ]
  },
  {
   "cell_type": "code",
   "execution_count": 158,
   "id": "2adba2de",
   "metadata": {
    "scrolled": true
   },
   "outputs": [
    {
     "data": {
      "text/plain": [
       "(array([35.,  0., 45.,  0., 25.,  0., 11.,  3.]),\n",
       " array([1. , 1.5, 2. , 2.5, 3. , 3.5, 4. , 4.5, 5. ]),\n",
       " <BarContainer object of 8 artists>)"
      ]
     },
     "execution_count": 158,
     "metadata": {},
     "output_type": "execute_result"
    },
    {
     "data": {
      "image/png": "[encoded data removed]",
      "text/plain": [
       "<Figure size 400x400 with 1 Axes>"
      ]
     },
     "metadata": {},
     "output_type": "display_data"
    }
   ],
   "source": [
    "# it is the example below, use to see another community as well.\n",
    "# Histogram of income in community 0\n",
    "plt.rcParams[\"figure.figsize\"] = (4,4) # set the figure size\n",
    "plt.hist(income_0, bins = 8)"
   ]
  },
  {
   "cell_type": "markdown",
   "id": "69968bb0",
   "metadata": {},
   "source": [
    "### DAT - how divergent the participant can think"
   ]
  },
  {
   "cell_type": "code",
   "execution_count": 159,
   "id": "4d44e135",
   "metadata": {},
   "outputs": [],
   "source": [
    "dat = demos['DAT'].dropna()"
   ]
  },
  {
   "cell_type": "code",
   "execution_count": 160,
   "id": "1e55e11c",
   "metadata": {},
   "outputs": [
    {
     "name": "stdout",
     "output_type": "stream",
     "text": [
      "How many in DAT belong to community 0: 119\n",
      "How many in DAT belong to community 1: 119\n",
      "How many in DAT belong to community 2: 60\n"
     ]
    }
   ],
   "source": [
    "dat_0 = communities[0]['DAT']\n",
    "dat_1 = communities[1]['DAT']\n",
    "dat_2 = communities[2]['DAT']\n",
    "\n",
    "print(\"How many in DAT belong to community 0:\", len(dat_0))\n",
    "print(\"How many in DAT belong to community 1:\", len(dat_1))\n",
    "print(\"How many in DAT belong to community 2:\", len(dat_2))\n"
   ]
  },
  {
   "cell_type": "code",
   "execution_count": 161,
   "id": "4e259d96",
   "metadata": {},
   "outputs": [
    {
     "data": {
      "text/plain": [
       "(array([ 6.,  7.,  7., 23., 22., 28., 18.,  8.]),\n",
       " array([59.17252998, 63.07935933, 66.98618869, 70.89301805, 74.79984741,\n",
       "        78.70667677, 82.61350613, 86.52033549, 90.42716485]),\n",
       " <BarContainer object of 8 artists>)"
      ]
     },
     "execution_count": 161,
     "metadata": {},
     "output_type": "execute_result"
    },
    {
     "data": {
      "image/png": "[encoded data removed]",
      "text/plain": [
       "<Figure size 400x400 with 1 Axes>"
      ]
     },
     "metadata": {},
     "output_type": "display_data"
    }
   ],
   "source": [
    "# it is the example below, use to see another community as well.\n",
    "# Histogram of DAT in community 0\n",
    "plt.rcParams[\"figure.figsize\"] = (4,4) # set the figure size\n",
    "plt.hist(dat_0, bins = 8)"
   ]
  },
  {
   "cell_type": "markdown",
   "id": "32a97b30",
   "metadata": {},
   "source": [
    "### CRT - how creative the participant can think"
   ]
  },
  {
   "cell_type": "code",
   "execution_count": 162,
   "id": "cb618426",
   "metadata": {},
   "outputs": [],
   "source": [
    "crt = demos['CRT2'].dropna()"
   ]
  },
  {
   "cell_type": "code",
   "execution_count": 164,
   "id": "b0b77303",
   "metadata": {},
   "outputs": [
    {
     "name": "stdout",
     "output_type": "stream",
     "text": [
      "How many in CRT belong to community 0: 119\n",
      "How many in CRT belong to community 1: 119\n",
      "How many in CRT belong to community 2: 60\n"
     ]
    }
   ],
   "source": [
    "crt_0 = communities[0]['CRT2']\n",
    "crt_1 = communities[1]['CRT2']\n",
    "crt_2 = communities[2]['CRT2']\n",
    "\n",
    "\n",
    "print(\"How many in CRT belong to community 0:\", len(crt_0))\n",
    "print(\"How many in CRT belong to community 1:\", len(crt_1))\n",
    "print(\"How many in CRT belong to community 2:\", len(crt_2))\n"
   ]
  },
  {
   "cell_type": "code",
   "execution_count": 165,
   "id": "c3691dea",
   "metadata": {},
   "outputs": [
    {
     "data": {
      "text/plain": [
       "(array([ 3.,  0., 18.,  0., 32.,  0., 46., 20.]),\n",
       " array([0. , 0.5, 1. , 1.5, 2. , 2.5, 3. , 3.5, 4. ]),\n",
       " <BarContainer object of 8 artists>)"
      ]
     },
     "execution_count": 165,
     "metadata": {},
     "output_type": "execute_result"
    },
    {
     "data": {
      "image/png": "[encoded data removed]",
      "text/plain": [
       "<Figure size 400x400 with 1 Axes>"
      ]
     },
     "metadata": {},
     "output_type": "display_data"
    }
   ],
   "source": [
    "# it is the example below, use to see another community as well.\n",
    "# Histogram of CRT in community 0\n",
    "plt.rcParams[\"figure.figsize\"] = (4,4) # set the figure size\n",
    "plt.hist(crt_0, bins = 8)"
   ]
  },
  {
   "cell_type": "markdown",
   "id": "0bb30a9f",
   "metadata": {},
   "source": [
    "## Visualize multiple graph"
   ]
  },
  {
   "cell_type": "code",
   "execution_count": 166,
   "id": "4abb29c0",
   "metadata": {},
   "outputs": [],
   "source": [
    "# Display graphs grouped by the community label\n",
    "import matplotlib.pyplot as plt\n",
    "\n",
    "# List of data for each plot\n",
    "data_0 = [age_0, gender_0, education_0, employment_0, income_0, politics_0, dat_0, crt_0]\n",
    "data_1 = [age_1, gender_1, education_1, employment_1, income_1, politics_1, dat_1, crt_1]\n",
    "data_2 = [age_2, gender_2, education_2, employment_2, income_2, politics_2, dat_2, crt_2]"
   ]
  },
  {
   "cell_type": "markdown",
   "id": "3705f423",
   "metadata": {},
   "source": [
    "### Community 0"
   ]
  },
  {
   "cell_type": "code",
   "execution_count": 167,
   "id": "3f64588c",
   "metadata": {},
   "outputs": [
    {
     "name": "stdout",
     "output_type": "stream",
     "text": [
      "\n",
      "\n",
      "*The number of the community members: 119\n"
     ]
    },
    {
     "data": {
      "image/png": "[encoded data removed]",
      "text/plain": [
       "<Figure size 1200x800 with 9 Axes>"
      ]
     },
     "metadata": {},
     "output_type": "display_data"
    }
   ],
   "source": [
    "# Create subplots dynamically\n",
    "fig, axes = plt.subplots(3, 3,  figsize=(12, 8))\n",
    "\n",
    "\n",
    "# Create a histogram on one of the subplots\n",
    "axes[0, 0].hist(age_0, bins=20)\n",
    "axes[0, 0].set_title('Age 0')\n",
    "axes[0, 0].set_xlabel('Age')\n",
    "axes[0, 0].set_ylabel('Population')\n",
    "\n",
    "# Create a histogram on one of the subplots\n",
    "axes[0, 1].hist(gender_0, bins=20)\n",
    "axes[0, 1].set_title('Gender 0')\n",
    "axes[0, 1].set_xlabel('Gender')\n",
    "axes[0, 1].set_ylabel('Population')\n",
    "\n",
    "# Create a histogram on one of the subplots\n",
    "axes[0, 2].hist(education_0, bins=20)\n",
    "axes[0, 2].set_title('Education 0')\n",
    "axes[0, 2].set_xlabel('Education')\n",
    "axes[0, 2].set_ylabel('Population')\n",
    "\n",
    "# Create a histogram on one of the subplots\n",
    "axes[1, 0].hist(employment_0, bins=20)\n",
    "axes[1, 0].set_title('Employment 0')\n",
    "axes[1, 0].set_xlabel('Employment')\n",
    "axes[1, 0].set_ylabel('Population')\n",
    "\n",
    "# Create a histogram on one of the subplots\n",
    "axes[1, 1].hist(politics_0, bins=20)\n",
    "axes[1, 1].set_title('Politics 0')\n",
    "axes[1, 1].set_xlabel('Politics')\n",
    "axes[1, 1].set_ylabel('Population')\n",
    "\n",
    "# Create a histogram on one of the subplots\n",
    "axes[1, 2].hist(income_0, bins=20)\n",
    "axes[1, 2].set_title('Income 0')\n",
    "axes[1, 2].set_xlabel('Income')\n",
    "axes[1, 2].set_ylabel('Population')\n",
    "\n",
    "\n",
    "# Create a histogram on one of the subplots\n",
    "axes[2, 0].hist(dat_0, bins=20)\n",
    "axes[2, 0].set_title('dat 0')\n",
    "axes[2, 0].set_xlabel('dat')\n",
    "axes[2, 0].set_ylabel('Population')\n",
    "\n",
    "\n",
    "# Create a histogram on one of the subplots\n",
    "axes[2, 1].hist(crt_0, bins=20)\n",
    "axes[2, 1].set_title('crt 0')\n",
    "axes[2, 1].set_xlabel('crt')\n",
    "axes[2, 1].set_ylabel('Population')\n",
    "\n",
    "# Adjust layout\n",
    "plt.tight_layout()\n",
    "\n",
    "# Print the number of the community members:\n",
    "print(\"\\n\\n*The number of the community members:\", len(communities[0]))\n",
    "\n",
    "# Show the combined plots\n",
    "plt.show()\n"
   ]
  },
  {
   "cell_type": "markdown",
   "id": "41ec46ae",
   "metadata": {},
   "source": [
    "### community 1"
   ]
  },
  {
   "cell_type": "code",
   "execution_count": 168,
   "id": "50422bd0",
   "metadata": {},
   "outputs": [
    {
     "name": "stdout",
     "output_type": "stream",
     "text": [
      "\n",
      "\n",
      "*The number of the community members: 119\n"
     ]
    },
    {
     "data": {
      "image/png": "[encoded data removed]",
      "text/plain": [
       "<Figure size 1200x800 with 9 Axes>"
      ]
     },
     "metadata": {},
     "output_type": "display_data"
    }
   ],
   "source": [
    "# Create subplots dynamically\n",
    "fig, axes = plt.subplots(3, 3,  figsize=(12, 8))\n",
    "\n",
    "\n",
    "# Create a histogram on one of the subplots\n",
    "axes[0, 0].hist(age_1, bins=20)\n",
    "axes[0, 0].set_title('Age 1')\n",
    "axes[0, 0].set_xlabel('Age')\n",
    "axes[0, 0].set_ylabel('Population')\n",
    "\n",
    "# Create a histogram on one of the subplots\n",
    "axes[0, 1].hist(gender_1, bins=20)\n",
    "axes[0, 1].set_title('Gender 1')\n",
    "axes[0, 1].set_xlabel('Gender')\n",
    "axes[0, 1].set_ylabel('Population')\n",
    "\n",
    "# Create a histogram on one of the subplots\n",
    "axes[0, 2].hist(education_1, bins=20)\n",
    "axes[0, 2].set_title('Education 1')\n",
    "axes[0, 2].set_xlabel('Education')\n",
    "axes[0, 2].set_ylabel('Population')\n",
    "\n",
    "# Create a histogram on one of the subplots\n",
    "axes[1, 0].hist(employment_1, bins=20)\n",
    "axes[1, 0].set_title('Employment 1')\n",
    "axes[1, 0].set_xlabel('Employment')\n",
    "axes[1, 0].set_ylabel('Population')\n",
    "\n",
    "# Create a histogram on one of the subplots\n",
    "axes[1, 1].hist(politics_1, bins=20)\n",
    "axes[1, 1].set_title('Politics 1')\n",
    "axes[1, 1].set_xlabel('Politics')\n",
    "axes[1, 1].set_ylabel('Population')\n",
    "\n",
    "# Create a histogram on one of the subplots\n",
    "axes[1, 2].hist(income_1, bins=20)\n",
    "axes[1, 2].set_title('Income 1')\n",
    "axes[1, 2].set_xlabel('Income')\n",
    "axes[1, 2].set_ylabel('Population')\n",
    "\n",
    "# Create a histogram on one of the subplots\n",
    "axes[2, 0].hist(dat_1, bins=20)\n",
    "axes[2, 0].set_title('dat 1')\n",
    "axes[2, 0].set_xlabel('dat')\n",
    "axes[2, 0].set_ylabel('Population')\n",
    "\n",
    "\n",
    "# Create a histogram on one of the subplots\n",
    "axes[2, 1].hist(crt_1, bins=20)\n",
    "axes[2, 1].set_title('crt 1')\n",
    "axes[2, 1].set_xlabel('crt')\n",
    "axes[2, 1].set_ylabel('Population')\n",
    "\n",
    "# Adjust layout\n",
    "plt.tight_layout()\n",
    "\n",
    "# Print the number of the community members:\n",
    "print(\"\\n\\n*The number of the community members:\", len(communities[1]))\n",
    "\n",
    "# Show the combined plots\n",
    "plt.show()\n"
   ]
  },
  {
   "cell_type": "markdown",
   "id": "be0486ee",
   "metadata": {},
   "source": [
    "* dat1: compared to the community 0, it is more evenly distributed. "
   ]
  },
  {
   "cell_type": "markdown",
   "id": "1310704d",
   "metadata": {},
   "source": [
    "### community 2"
   ]
  },
  {
   "cell_type": "code",
   "execution_count": 169,
   "id": "b3a27063",
   "metadata": {
    "scrolled": true
   },
   "outputs": [
    {
     "name": "stdout",
     "output_type": "stream",
     "text": [
      "\n",
      "\n",
      "*The number of the community members: 60\n"
     ]
    },
    {
     "data": {
      "image/png": "[encoded data removed]",
      "text/plain": [
       "<Figure size 1200x800 with 9 Axes>"
      ]
     },
     "metadata": {},
     "output_type": "display_data"
    }
   ],
   "source": [
    "# Create subplots dynamically\n",
    "fig, axes = plt.subplots(3, 3,  figsize=(12, 8))\n",
    "\n",
    "\n",
    "# Create a histogram on one of the subplots\n",
    "axes[0, 0].hist(age_2, bins=20)\n",
    "axes[0, 0].set_title('Age 2')\n",
    "axes[0, 0].set_xlabel('Age')\n",
    "axes[0, 0].set_ylabel('Population')\n",
    "\n",
    "# Create a histogram on one of the subplots\n",
    "axes[0, 1].hist(gender_2, bins=20)\n",
    "axes[0, 1].set_title('Gender 2')\n",
    "axes[0, 1].set_xlabel('Gender')\n",
    "axes[0, 1].set_ylabel('Population')\n",
    "\n",
    "# Create a histogram on one of the subplots\n",
    "axes[0, 2].hist(education_2, bins=20)\n",
    "axes[0, 2].set_title('Education 2')\n",
    "axes[0, 2].set_xlabel('Education')\n",
    "axes[0, 2].set_ylabel('Population')\n",
    "\n",
    "# Create a histogram on one of the subplots\n",
    "axes[1, 0].hist(employment_2, bins=20)\n",
    "axes[1, 0].set_title('Employment 2')\n",
    "axes[1, 0].set_xlabel('Employment')\n",
    "axes[1, 0].set_ylabel('Population')\n",
    "\n",
    "# Create a histogram on one of the subplots\n",
    "axes[1, 1].hist(politics_2, bins=20)\n",
    "axes[1, 1].set_title('Politics 2')\n",
    "axes[1, 1].set_xlabel('Politics')\n",
    "axes[1, 1].set_ylabel('Population')\n",
    "\n",
    "# Create a histogram on one of the subplots\n",
    "axes[1, 2].hist(income_2, bins=20)\n",
    "axes[1, 2].set_title('Income 2')\n",
    "axes[1, 2].set_xlabel('Income')\n",
    "axes[1, 2].set_ylabel('Population')\n",
    "\n",
    "# Create a histogram on one of the subplots\n",
    "axes[2, 0].hist(dat_2, bins=20)\n",
    "axes[2, 0].set_title('dat 2')\n",
    "axes[2, 0].set_xlabel('dat')\n",
    "axes[2, 0].set_ylabel('Population')\n",
    "\n",
    "\n",
    "# Create a histogram on one of the subplots\n",
    "axes[2, 1].hist(crt_2, bins=20)\n",
    "axes[2, 1].set_title('crt 2')\n",
    "axes[2, 1].set_xlabel('crt')\n",
    "axes[2, 1].set_ylabel('Population')\n",
    "\n",
    "# Adjust layout\n",
    "plt.tight_layout()\n",
    "\n",
    "# Print the number of the community members:\n",
    "print(\"\\n\\n*The number of the community members:\", len(communities[2]))\n",
    "\n",
    "# Show the combined plots\n",
    "plt.show()\n"
   ]
  },
  {
   "cell_type": "markdown",
   "id": "bd7383a1",
   "metadata": {},
   "source": [
    "* **REFsource** : interpreting the clustering results.\n",
    "\n",
    "https://developers.google.com/machine-learning/clustering/interpret\n"
   ]
  },
  {
   "cell_type": "markdown",
   "id": "4881b2ef",
   "metadata": {},
   "source": [
    "### Analysis of the ANOVA and Chi-Square test results\n",
    "\n",
    "1. ANOVA\n",
    "\n",
    "     1) Table of metrics - mean, var, std, cardinality, p-value:\n",
    "        https://docs.google.com/spreadsheets/d/1E4k_kSAiAspQuXAbEuYquVKFuzHa5Ihz7mNryUj1jOU/edit#gid=446196028 -> update\n",
    "\n",
    "     2) **DAT, CRT** shows the difference in means across the clusters\n",
    "\n",
    "2. Chi-Square\n",
    "\n",
    ": Except for the **EDUCATION**, There was no significant difference across the clusters with the distribution of the categorical features."
   ]
  },
  {
   "cell_type": "code",
   "execution_count": null,
   "id": "d5e2e8ff",
   "metadata": {},
   "outputs": [],
   "source": []
  }
 ],
 "metadata": {
  "kernelspec": {
   "display_name": "thesis-myenv",
   "language": "python",
   "name": "myenv"
  },
  "language_info": {
   "codemirror_mode": {
    "name": "ipython",
    "version": 3
   },
   "file_extension": ".py",
   "mimetype": "text/x-python",
   "name": "python",
   "nbconvert_exporter": "python",
   "pygments_lexer": "ipython3",
   "version": "3.9.13"
  }
 },
 "nbformat": 4,
 "nbformat_minor": 5
}
