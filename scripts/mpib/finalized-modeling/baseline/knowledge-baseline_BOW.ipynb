{
 "cells": [
  {
   "cell_type": "code",
   "execution_count": 10,
   "id": "d828909b",
   "metadata": {},
   "outputs": [],
   "source": [
    "import pandas as pd \n",
    "import numpy as np \n",
    "import matplotlib.pyplot as plt\n",
    "from sklearn.feature_extraction.text import CountVectorizer"
   ]
  },
  {
   "cell_type": "code",
   "execution_count": 11,
   "id": "47a38034",
   "metadata": {},
   "outputs": [],
   "source": [
    "q1 = pd.read_json('~/thesis/data/processed_data/knowledge_q1_lemmatized.jsonl', orient = 'records', lines = True)\n",
    "q1 = q1.rename(columns = {'answer': 'q1'})\n",
    "\n",
    "q2 = pd.read_json('~/thesis/data/processed_data/knowledge_q2_lemmatized.jsonl', orient = 'records', lines = True)\n",
    "q2 = q2.rename(columns = {'answer': 'q2'})\n",
    "\n",
    "q3 = pd.read_json('~/thesis/data/processed_data/knowledge_q3_lemmatized.jsonl', orient = 'records', lines = True)\n",
    "q3 = q3.rename(columns = {'answer': 'q3'})\n",
    "\n",
    "q4 = pd.read_json('~/thesis/data/processed_data/knowledge_q4_lemmatized.jsonl', orient = 'records', lines = True)\n",
    "q4 = q4.rename(columns = {'answer': 'q4'})\n",
    "\n",
    "q5 = pd.read_json('~/thesis/data/processed_data/knowledge_q5_lemmatized.jsonl', orient = 'records', lines = True)\n",
    "q5 = q5.rename(columns = {'answer': 'q5'})"
   ]
  },
  {
   "cell_type": "markdown",
   "id": "81a55898",
   "metadata": {},
   "source": [
    "## 1. Participant-dataset: concatenated answers for questions 1,2,3,4,5"
   ]
  },
  {
   "cell_type": "markdown",
   "id": "bd9c79b7",
   "metadata": {},
   "source": [
    "**Why not the sum of BOW?**: The Bag of Words (BoW) vector representation of the concatenation of multiple sentences is indeed the same as the sum of the Bag of Words vectors of each individual sentence before concatenation."
   ]
  },
  {
   "cell_type": "code",
   "execution_count": 12,
   "id": "0b2a6dcb",
   "metadata": {},
   "outputs": [],
   "source": [
    "def concatenate_responses(df, question_col):\n",
    "    return df.groupby('participant_id')[question_col].apply(lambda x: ' '.join(x)).reset_index()"
   ]
  },
  {
   "cell_type": "code",
   "execution_count": 13,
   "id": "4c159d22",
   "metadata": {},
   "outputs": [],
   "source": [
    "# first, concatenate each response for each questions\n",
    "q1_grouped = concatenate_responses(q1, 'q1')\n",
    "q2_grouped = concatenate_responses(q2, 'q2')\n",
    "q3_grouped = concatenate_responses(q3, 'q3')\n",
    "q4_grouped = concatenate_responses(q4, 'q4')\n",
    "q5_grouped = concatenate_responses(q5, 'q5')"
   ]
  },
  {
   "cell_type": "code",
   "execution_count": 14,
   "id": "4d76bbc6",
   "metadata": {},
   "outputs": [],
   "source": [
    "# Merge the grouped DataFrames\n",
    "q_merged = q1_grouped.merge(q2_grouped, on='participant_id', how='outer')\n",
    "q_merged = q_merged.merge(q3_grouped, on='participant_id', how='outer')\n",
    "q_merged = q_merged.merge(q4_grouped, on='participant_id', how='outer')\n",
    "q_merged = q_merged.merge(q5_grouped, on='participant_id', how='outer')"
   ]
  },
  {
   "cell_type": "code",
   "execution_count": 15,
   "id": "7c3d1c23",
   "metadata": {},
   "outputs": [
    {
     "data": {
      "text/html": [
       "<div>\n",
       "<style scoped>\n",
       "    .dataframe tbody tr th:only-of-type {\n",
       "        vertical-align: middle;\n",
       "    }\n",
       "\n",
       "    .dataframe tbody tr th {\n",
       "        vertical-align: top;\n",
       "    }\n",
       "\n",
       "    .dataframe thead th {\n",
       "        text-align: right;\n",
       "    }\n",
       "</style>\n",
       "<table border=\"1\" class=\"dataframe\">\n",
       "  <thead>\n",
       "    <tr style=\"text-align: right;\">\n",
       "      <th></th>\n",
       "      <th>participant_id</th>\n",
       "      <th>q1</th>\n",
       "      <th>q2</th>\n",
       "      <th>q3</th>\n",
       "      <th>q4</th>\n",
       "      <th>q5</th>\n",
       "    </tr>\n",
       "  </thead>\n",
       "  <tbody>\n",
       "    <tr>\n",
       "      <th>0</th>\n",
       "      <td>00278</td>\n",
       "      <td>vaccination scheme area increase awareness edu...</td>\n",
       "      <td>equal pay woman men role ensure woman voice he...</td>\n",
       "      <td>look conservation plan ensure poacher prosecut...</td>\n",
       "      <td>make affordable make reliable make accessible ...</td>\n",
       "      <td>better worklife balance flexible working affor...</td>\n",
       "    </tr>\n",
       "    <tr>\n",
       "      <th>1</th>\n",
       "      <td>0068d</td>\n",
       "      <td>mobile vaccination van used ask various cleric...</td>\n",
       "      <td>ensure equal salary paid people regardless sex...</td>\n",
       "      <td>hefty fine long prison sentence educating scho...</td>\n",
       "      <td>lower price ask local people decrease gap serv...</td>\n",
       "      <td>provide local event ensure fairness people pos...</td>\n",
       "    </tr>\n",
       "    <tr>\n",
       "      <th>2</th>\n",
       "      <td>00f13</td>\n",
       "      <td>get people vaccination travel rural area get r...</td>\n",
       "      <td>ensuring equal pay ensuring fair 5050 split me...</td>\n",
       "      <td>punishing poacher armed guard around habitat i...</td>\n",
       "      <td>better network frequent transport reducing cos...</td>\n",
       "      <td>4 day week getting rid social medium automatin...</td>\n",
       "    </tr>\n",
       "    <tr>\n",
       "      <th>3</th>\n",
       "      <td>01cb6</td>\n",
       "      <td>visiting nurse dropin rural clinic evening vis...</td>\n",
       "      <td>employ equal number target desired gender impr...</td>\n",
       "      <td>safe living area tourist based funding preserv...</td>\n",
       "      <td>lower price increase reliability increase freq...</td>\n",
       "      <td>slow reduce working hour garden allotment read...</td>\n",
       "    </tr>\n",
       "    <tr>\n",
       "      <th>4</th>\n",
       "      <td>02670</td>\n",
       "      <td>organise targeted campaign rural area engage s...</td>\n",
       "      <td>hire woman nonbinary people organise programme...</td>\n",
       "      <td>ban hunting elephant create sanctuary elephant...</td>\n",
       "      <td>dropping price offer free public transport bui...</td>\n",
       "      <td>promote benefit meditation focus benefit exerc...</td>\n",
       "    </tr>\n",
       "    <tr>\n",
       "      <th>...</th>\n",
       "      <td>...</td>\n",
       "      <td>...</td>\n",
       "      <td>...</td>\n",
       "      <td>...</td>\n",
       "      <td>...</td>\n",
       "      <td>...</td>\n",
       "    </tr>\n",
       "    <tr>\n",
       "      <th>295</th>\n",
       "      <td>fb2a2</td>\n",
       "      <td>lot clear evidence making easy travel receive ...</td>\n",
       "      <td>equal pay regardless gender listening worker m...</td>\n",
       "      <td>funding security animal harsh punishment hunte...</td>\n",
       "      <td>ventilation available time avoid crowding good...</td>\n",
       "      <td>police available cctv coverage smaller area so...</td>\n",
       "    </tr>\n",
       "    <tr>\n",
       "      <th>296</th>\n",
       "      <td>fb9c4</td>\n",
       "      <td>referral scheme patient referred family friend...</td>\n",
       "      <td>offer regular seminar advocate gender equality...</td>\n",
       "      <td>increase sexual reproduction animal zoo harshe...</td>\n",
       "      <td>lower price public transportation ticket bette...</td>\n",
       "      <td>four day working week green space available ed...</td>\n",
       "    </tr>\n",
       "    <tr>\n",
       "      <th>297</th>\n",
       "      <td>ff2bf</td>\n",
       "      <td>education benefit vaccination reward incentive...</td>\n",
       "      <td>gender identity workshop staff look current pr...</td>\n",
       "      <td>ban ivory importsexports try breed captivity p...</td>\n",
       "      <td>free travel need le parking private vehicle sa...</td>\n",
       "      <td>kinder educate people mental health issue give...</td>\n",
       "    </tr>\n",
       "    <tr>\n",
       "      <th>298</th>\n",
       "      <td>b9593</td>\n",
       "      <td>NaN</td>\n",
       "      <td>firstly pay difference opportunity advancement...</td>\n",
       "      <td>keep trophy hunter away breed confined area ma...</td>\n",
       "      <td>firstly reduce fare increase discount student ...</td>\n",
       "      <td>newspaper headline le depressing full doom glo...</td>\n",
       "    </tr>\n",
       "    <tr>\n",
       "      <th>299</th>\n",
       "      <td>f3885</td>\n",
       "      <td>NaN</td>\n",
       "      <td>teach school provide benefit opportunity every...</td>\n",
       "      <td>create sanctuary favor breeding control huntin...</td>\n",
       "      <td>decreasing cost ticket encourage bigger better...</td>\n",
       "      <td>reduce working hour regular meeting everybodys...</td>\n",
       "    </tr>\n",
       "  </tbody>\n",
       "</table>\n",
       "<p>300 rows × 6 columns</p>\n",
       "</div>"
      ],
      "text/plain": [
       "    participant_id                                                 q1  \\\n",
       "0            00278  vaccination scheme area increase awareness edu...   \n",
       "1            0068d  mobile vaccination van used ask various cleric...   \n",
       "2            00f13  get people vaccination travel rural area get r...   \n",
       "3            01cb6  visiting nurse dropin rural clinic evening vis...   \n",
       "4            02670  organise targeted campaign rural area engage s...   \n",
       "..             ...                                                ...   \n",
       "295          fb2a2  lot clear evidence making easy travel receive ...   \n",
       "296          fb9c4  referral scheme patient referred family friend...   \n",
       "297          ff2bf  education benefit vaccination reward incentive...   \n",
       "298          b9593                                                NaN   \n",
       "299          f3885                                                NaN   \n",
       "\n",
       "                                                    q2  \\\n",
       "0    equal pay woman men role ensure woman voice he...   \n",
       "1    ensure equal salary paid people regardless sex...   \n",
       "2    ensuring equal pay ensuring fair 5050 split me...   \n",
       "3    employ equal number target desired gender impr...   \n",
       "4    hire woman nonbinary people organise programme...   \n",
       "..                                                 ...   \n",
       "295  equal pay regardless gender listening worker m...   \n",
       "296  offer regular seminar advocate gender equality...   \n",
       "297  gender identity workshop staff look current pr...   \n",
       "298  firstly pay difference opportunity advancement...   \n",
       "299  teach school provide benefit opportunity every...   \n",
       "\n",
       "                                                    q3  \\\n",
       "0    look conservation plan ensure poacher prosecut...   \n",
       "1    hefty fine long prison sentence educating scho...   \n",
       "2    punishing poacher armed guard around habitat i...   \n",
       "3    safe living area tourist based funding preserv...   \n",
       "4    ban hunting elephant create sanctuary elephant...   \n",
       "..                                                 ...   \n",
       "295  funding security animal harsh punishment hunte...   \n",
       "296  increase sexual reproduction animal zoo harshe...   \n",
       "297  ban ivory importsexports try breed captivity p...   \n",
       "298  keep trophy hunter away breed confined area ma...   \n",
       "299  create sanctuary favor breeding control huntin...   \n",
       "\n",
       "                                                    q4  \\\n",
       "0    make affordable make reliable make accessible ...   \n",
       "1    lower price ask local people decrease gap serv...   \n",
       "2    better network frequent transport reducing cos...   \n",
       "3    lower price increase reliability increase freq...   \n",
       "4    dropping price offer free public transport bui...   \n",
       "..                                                 ...   \n",
       "295  ventilation available time avoid crowding good...   \n",
       "296  lower price public transportation ticket bette...   \n",
       "297  free travel need le parking private vehicle sa...   \n",
       "298  firstly reduce fare increase discount student ...   \n",
       "299  decreasing cost ticket encourage bigger better...   \n",
       "\n",
       "                                                    q5  \n",
       "0    better worklife balance flexible working affor...  \n",
       "1    provide local event ensure fairness people pos...  \n",
       "2    4 day week getting rid social medium automatin...  \n",
       "3    slow reduce working hour garden allotment read...  \n",
       "4    promote benefit meditation focus benefit exerc...  \n",
       "..                                                 ...  \n",
       "295  police available cctv coverage smaller area so...  \n",
       "296  four day working week green space available ed...  \n",
       "297  kinder educate people mental health issue give...  \n",
       "298  newspaper headline le depressing full doom glo...  \n",
       "299  reduce working hour regular meeting everybodys...  \n",
       "\n",
       "[300 rows x 6 columns]"
      ]
     },
     "execution_count": 15,
     "metadata": {},
     "output_type": "execute_result"
    }
   ],
   "source": [
    "q_merged"
   ]
  },
  {
   "cell_type": "code",
   "execution_count": 16,
   "id": "cf55f53e",
   "metadata": {},
   "outputs": [
    {
     "name": "stdout",
     "output_type": "stream",
     "text": [
      "0      00278 vaccination scheme area increase awarene...\n",
      "1      0068d mobile vaccination van used ask various ...\n",
      "2      00f13 get people vaccination travel rural area...\n",
      "3      01cb6 visiting nurse dropin rural clinic eveni...\n",
      "4      02670 organise targeted campaign rural area en...\n",
      "                             ...                        \n",
      "295    fb2a2 lot clear evidence making easy travel re...\n",
      "296    fb9c4 referral scheme patient referred family ...\n",
      "297    ff2bf education benefit vaccination reward inc...\n",
      "298    b9593 nan firstly pay difference opportunity a...\n",
      "299    f3885 nan teach school provide benefit opportu...\n",
      "Name: concat, Length: 300, dtype: object\n"
     ]
    }
   ],
   "source": [
    "# concatenate each question response by participant\n",
    "# Concatenate responses for each participant\n",
    "q_merged['concat'] = q_merged.apply(lambda row: ' '.join(row.values.astype(str)), axis=1)\n",
    "print(q_merged['concat'])\n"
   ]
  },
  {
   "cell_type": "code",
   "execution_count": 17,
   "id": "8152d8a6",
   "metadata": {},
   "outputs": [],
   "source": [
    "# Specify the data to analysis\n",
    "data = q_merged['concat']"
   ]
  },
  {
   "cell_type": "code",
   "execution_count": 18,
   "id": "969643e8",
   "metadata": {},
   "outputs": [
    {
     "name": "stdout",
     "output_type": "stream",
     "text": [
      "Features (Words): ['00278' '0068d' '00f13' ... 'zone' 'zoo' 'zoossafari']\n",
      "Bag of Words Matrix:\n",
      " [[1 0 0 ... 0 0 0]\n",
      " [0 1 0 ... 0 0 0]\n",
      " [0 0 1 ... 0 0 0]\n",
      " ...\n",
      " [0 0 0 ... 0 0 0]\n",
      " [0 0 0 ... 0 0 0]\n",
      " [0 0 0 ... 0 0 0]]\n"
     ]
    }
   ],
   "source": [
    "from sklearn.feature_extraction.text import CountVectorizer\n",
    "\n",
    "# Initialize the CountVectorizer\n",
    "vectorizer = CountVectorizer()\n",
    "\n",
    "# Fit and transform the combined responses\n",
    "X = vectorizer.fit_transform(data)\n",
    "\n",
    "# Convert to an array to view the BoW matrix\n",
    "X_array = X.toarray()\n",
    "\n",
    "# Feature names (words)\n",
    "features = vectorizer.get_feature_names_out()\n",
    "\n",
    "print(\"Features (Words):\", features)\n",
    "print(\"Bag of Words Matrix:\\n\", X_array)\n"
   ]
  },
  {
   "cell_type": "code",
   "execution_count": 19,
   "id": "0495e152",
   "metadata": {},
   "outputs": [
    {
     "name": "stdout",
     "output_type": "stream",
     "text": [
      "Cluster Labels: [0 0 0 0 1 0 0 0 1 0 0 0 1 0 1 0 1 0 1 0 1 0 0 0 1 0 1 0 1 1 1 1 1 0 0 0 1\n",
      " 0 0 0 0 0 1 0 0 0 0 0 0 0 0 0 1 0 0 0 0 0 0 1 0 0 0 0 0 0 1 1 0 1 1 0 1 0\n",
      " 0 0 0 0 0 0 1 0 1 1 1 0 0 0 0 0 0 1 0 0 1 0 0 0 0 0 0 1 0 0 1 0 1 0 0 1 0\n",
      " 0 0 0 0 0 1 0 0 0 0 1 0 0 0 0 0 0 0 0 1 0 1 0 1 0 1 0 1 0 0 0 1 0 0 0 0 0\n",
      " 0 0 0 0 1 1 1 1 0 0 0 0 0 1 0 0 0 0 0 1 0 1 0 0 0 0 0 0 1 0 0 0 0 0 1 0 0\n",
      " 0 0 0 0 1 1 0 0 0 0 0 1 0 0 0 1 1 1 0 1 1 0 0 0 0 0 0 0 1 0 0 1 0 0 1 1 1\n",
      " 0 0 0 1 1 0 0 1 0 0 0 0 0 0 0 1 0 1 0 0 1 0 0 0 0 0 0 0 0 1 1 1 0 1 0 0 1\n",
      " 0 0 0 0 0 0 0 1 0 1 0 0 0 0 1 1 1 0 0 0 0 1 0 1 0 0 0 0 0 1 0 0 0 0 0 0 0\n",
      " 0 0 0 0]\n"
     ]
    }
   ],
   "source": [
    "from sklearn.cluster import KMeans\n",
    "\n",
    "# Apply KMeans clustering\n",
    "n_clusters = 2  # Example: trying to find 2 clusters\n",
    "kmeans = KMeans(n_clusters=n_clusters, random_state=0)\n",
    "kmeans.fit(X_array)\n",
    "\n",
    "# Get cluster labels\n",
    "labels = kmeans.labels_\n",
    "\n",
    "print(\"Cluster Labels:\", labels)"
   ]
  },
  {
   "cell_type": "code",
   "execution_count": 20,
   "id": "c62a9135",
   "metadata": {},
   "outputs": [
    {
     "name": "stdout",
     "output_type": "stream",
     "text": [
      "Silhouette Score: 0.08260337296058397\n"
     ]
    }
   ],
   "source": [
    "from sklearn.metrics import silhouette_score\n",
    "\n",
    "# Calculate the silhouette score\n",
    "sil_score = silhouette_score(X_array, labels)\n",
    "print(f\"Silhouette Score: {sil_score}\")\n"
   ]
  },
  {
   "cell_type": "markdown",
   "id": "3d7c97a6",
   "metadata": {},
   "source": [
    "**Result:** Worse than my clustering result for the participants clustering (sil 0.48)"
   ]
  },
  {
   "cell_type": "markdown",
   "id": "23d4503d",
   "metadata": {},
   "source": [
    "## 2. Topics-dataset: stacked responses for each questions"
   ]
  },
  {
   "cell_type": "markdown",
   "id": "b2e30c56",
   "metadata": {},
   "source": [
    "### Question 1"
   ]
  },
  {
   "cell_type": "code",
   "execution_count": 21,
   "id": "96cad79d",
   "metadata": {},
   "outputs": [],
   "source": [
    "# Specify the data to use\n",
    "data = q1['q1']"
   ]
  },
  {
   "cell_type": "code",
   "execution_count": 22,
   "id": "124859ad",
   "metadata": {},
   "outputs": [
    {
     "name": "stdout",
     "output_type": "stream",
     "text": [
      "Features (Words): ['12' '18' '24' ... 'wrong' 'year' 'young']\n",
      "Bag of Words Matrix:\n",
      " [[0 0 0 ... 0 0 0]\n",
      " [0 0 0 ... 0 0 0]\n",
      " [0 0 0 ... 0 0 0]\n",
      " ...\n",
      " [0 0 0 ... 0 0 0]\n",
      " [0 0 0 ... 0 0 0]\n",
      " [0 0 0 ... 0 0 0]]\n"
     ]
    }
   ],
   "source": [
    "from sklearn.feature_extraction.text import CountVectorizer\n",
    "\n",
    "# Initialize the CountVectorizer\n",
    "vectorizer = CountVectorizer()\n",
    "\n",
    "# Fit and transform the combined responses\n",
    "X = vectorizer.fit_transform(data)\n",
    "\n",
    "# Convert to an array to view the BoW matrix\n",
    "X_array = X.toarray()\n",
    "\n",
    "# Feature names (words)\n",
    "features = vectorizer.get_feature_names_out()\n",
    "\n",
    "print(\"Features (Words):\", features)\n",
    "print(\"Bag of Words Matrix:\\n\", X_array)\n"
   ]
  },
  {
   "cell_type": "code",
   "execution_count": 23,
   "id": "8d7499b7",
   "metadata": {},
   "outputs": [
    {
     "name": "stdout",
     "output_type": "stream",
     "text": [
      "Cluster Labels: [1 0 1 ... 1 0 0]\n"
     ]
    }
   ],
   "source": [
    "from sklearn.cluster import KMeans\n",
    "\n",
    "# Apply KMeans clustering\n",
    "n_clusters = 2  # Example: trying to find 2 clusters\n",
    "kmeans = KMeans(n_clusters=n_clusters, random_state=0)\n",
    "kmeans.fit(X_array)\n",
    "\n",
    "# Get cluster labels\n",
    "labels = kmeans.labels_\n",
    "\n",
    "print(\"Cluster Labels:\", labels)"
   ]
  },
  {
   "cell_type": "code",
   "execution_count": 24,
   "id": "c7dda734",
   "metadata": {},
   "outputs": [
    {
     "name": "stdout",
     "output_type": "stream",
     "text": [
      "Silhouette Score: 0.057548109988467405\n"
     ]
    }
   ],
   "source": [
    "from sklearn.metrics import silhouette_score\n",
    "\n",
    "# Calculate the silhouette score\n",
    "sil_score = silhouette_score(X_array, labels)\n",
    "print(f\"Silhouette Score: {sil_score}\")\n"
   ]
  },
  {
   "cell_type": "markdown",
   "id": "8d6ec89d",
   "metadata": {},
   "source": [
    "### Question 2"
   ]
  },
  {
   "cell_type": "code",
   "execution_count": 25,
   "id": "025fcaab",
   "metadata": {},
   "outputs": [],
   "source": [
    "# Specify the data to use\n",
    "data = q2['q2']"
   ]
  },
  {
   "cell_type": "code",
   "execution_count": 26,
   "id": "1cf82825",
   "metadata": {},
   "outputs": [
    {
     "name": "stdout",
     "output_type": "stream",
     "text": [
      "Features (Words): ['10' '40' '50' ... 'younger' 'zero' 'zone']\n",
      "Bag of Words Matrix:\n",
      " [[0 0 0 ... 0 0 0]\n",
      " [0 0 0 ... 0 0 0]\n",
      " [0 0 0 ... 0 0 0]\n",
      " ...\n",
      " [0 0 0 ... 0 0 0]\n",
      " [0 0 0 ... 0 0 0]\n",
      " [0 0 0 ... 0 0 0]]\n"
     ]
    }
   ],
   "source": [
    "from sklearn.feature_extraction.text import CountVectorizer\n",
    "\n",
    "# Initialize the CountVectorizer\n",
    "vectorizer = CountVectorizer()\n",
    "\n",
    "# Fit and transform the combined responses\n",
    "X = vectorizer.fit_transform(data)\n",
    "\n",
    "# Convert to an array to view the BoW matrix\n",
    "X_array = X.toarray()\n",
    "\n",
    "# Feature names (words)\n",
    "features = vectorizer.get_feature_names_out()\n",
    "\n",
    "print(\"Features (Words):\", features)\n",
    "print(\"Bag of Words Matrix:\\n\", X_array)\n"
   ]
  },
  {
   "cell_type": "code",
   "execution_count": 27,
   "id": "283409af",
   "metadata": {},
   "outputs": [
    {
     "name": "stdout",
     "output_type": "stream",
     "text": [
      "Cluster Labels: [1 1 1 ... 1 1 1]\n"
     ]
    }
   ],
   "source": [
    "from sklearn.cluster import KMeans\n",
    "\n",
    "# Apply KMeans clustering\n",
    "n_clusters = 2  # Example: trying to find 2 clusters\n",
    "kmeans = KMeans(n_clusters=n_clusters, random_state=0)\n",
    "kmeans.fit(X_array)\n",
    "\n",
    "# Get cluster labels\n",
    "labels = kmeans.labels_\n",
    "\n",
    "print(\"Cluster Labels:\", labels)"
   ]
  },
  {
   "cell_type": "code",
   "execution_count": 28,
   "id": "75264d88",
   "metadata": {},
   "outputs": [
    {
     "name": "stdout",
     "output_type": "stream",
     "text": [
      "Silhouette Score: 0.09859761890316641\n"
     ]
    }
   ],
   "source": [
    "from sklearn.metrics import silhouette_score\n",
    "\n",
    "# Calculate the silhouette score\n",
    "sil_score = silhouette_score(X_array, labels)\n",
    "print(f\"Silhouette Score: {sil_score}\")\n"
   ]
  },
  {
   "cell_type": "markdown",
   "id": "9b635e3b",
   "metadata": {},
   "source": [
    "### Question 3"
   ]
  },
  {
   "cell_type": "code",
   "execution_count": 29,
   "id": "1a402f64",
   "metadata": {},
   "outputs": [],
   "source": [
    "# Specify the data to use\n",
    "data = q3['q3']"
   ]
  },
  {
   "cell_type": "code",
   "execution_count": 30,
   "id": "8ed54cdd",
   "metadata": {},
   "outputs": [
    {
     "name": "stdout",
     "output_type": "stream",
     "text": [
      "Features (Words): ['10' '20' 'accept' ... 'zone' 'zoo' 'zoossafari']\n",
      "Bag of Words Matrix:\n",
      " [[0 0 0 ... 0 0 0]\n",
      " [0 0 0 ... 0 0 0]\n",
      " [0 0 0 ... 0 0 0]\n",
      " ...\n",
      " [0 0 0 ... 0 0 0]\n",
      " [0 0 0 ... 0 0 0]\n",
      " [0 0 0 ... 0 0 0]]\n"
     ]
    }
   ],
   "source": [
    "from sklearn.feature_extraction.text import CountVectorizer\n",
    "\n",
    "# Initialize the CountVectorizer\n",
    "vectorizer = CountVectorizer()\n",
    "\n",
    "# Fit and transform the combined responses\n",
    "X = vectorizer.fit_transform(data)\n",
    "\n",
    "# Convert to an array to view the BoW matrix\n",
    "X_array = X.toarray()\n",
    "\n",
    "# Feature names (words)\n",
    "features = vectorizer.get_feature_names_out()\n",
    "\n",
    "print(\"Features (Words):\", features)\n",
    "print(\"Bag of Words Matrix:\\n\", X_array)\n"
   ]
  },
  {
   "cell_type": "code",
   "execution_count": 31,
   "id": "9f5690c1",
   "metadata": {},
   "outputs": [
    {
     "name": "stdout",
     "output_type": "stream",
     "text": [
      "Cluster Labels: [1 1 1 ... 1 1 1]\n"
     ]
    }
   ],
   "source": [
    "from sklearn.cluster import KMeans\n",
    "\n",
    "# Apply KMeans clustering\n",
    "n_clusters = 2  # Example: trying to find 2 clusters\n",
    "kmeans = KMeans(n_clusters=n_clusters, random_state=0)\n",
    "kmeans.fit(X_array)\n",
    "\n",
    "# Get cluster labels\n",
    "labels = kmeans.labels_\n",
    "\n",
    "print(\"Cluster Labels:\", labels)"
   ]
  },
  {
   "cell_type": "code",
   "execution_count": 32,
   "id": "93b6759e",
   "metadata": {},
   "outputs": [
    {
     "name": "stdout",
     "output_type": "stream",
     "text": [
      "Silhouette Score: 0.025451296656610094\n"
     ]
    }
   ],
   "source": [
    "from sklearn.metrics import silhouette_score\n",
    "\n",
    "# Calculate the silhouette score\n",
    "sil_score = silhouette_score(X_array, labels)\n",
    "print(f\"Silhouette Score: {sil_score}\")\n"
   ]
  },
  {
   "cell_type": "markdown",
   "id": "c6db4456",
   "metadata": {},
   "source": [
    "### Question 4"
   ]
  },
  {
   "cell_type": "code",
   "execution_count": 33,
   "id": "f4c37205",
   "metadata": {},
   "outputs": [],
   "source": [
    "# Specify the data to use\n",
    "data = q4['q4']"
   ]
  },
  {
   "cell_type": "code",
   "execution_count": 34,
   "id": "17c2dd24",
   "metadata": {},
   "outputs": [
    {
     "name": "stdout",
     "output_type": "stream",
     "text": [
      "Features (Words): ['10th' '18' '20' ... 'young' 'younger' 'zone']\n",
      "Bag of Words Matrix:\n",
      " [[0 0 0 ... 0 0 0]\n",
      " [0 0 0 ... 0 0 0]\n",
      " [0 0 0 ... 0 0 0]\n",
      " ...\n",
      " [0 0 0 ... 0 0 0]\n",
      " [0 0 0 ... 0 0 0]\n",
      " [0 0 0 ... 0 0 0]]\n"
     ]
    }
   ],
   "source": [
    "from sklearn.feature_extraction.text import CountVectorizer\n",
    "\n",
    "# Initialize the CountVectorizer\n",
    "vectorizer = CountVectorizer()\n",
    "\n",
    "# Fit and transform the combined responses\n",
    "X = vectorizer.fit_transform(data)\n",
    "\n",
    "# Convert to an array to view the BoW matrix\n",
    "X_array = X.toarray()\n",
    "\n",
    "# Feature names (words)\n",
    "features = vectorizer.get_feature_names_out()\n",
    "\n",
    "print(\"Features (Words):\", features)\n",
    "print(\"Bag of Words Matrix:\\n\", X_array)\n"
   ]
  },
  {
   "cell_type": "code",
   "execution_count": 35,
   "id": "9fc2e946",
   "metadata": {},
   "outputs": [
    {
     "name": "stdout",
     "output_type": "stream",
     "text": [
      "Cluster Labels: [1 1 1 ... 1 1 1]\n"
     ]
    }
   ],
   "source": [
    "from sklearn.cluster import KMeans\n",
    "\n",
    "# Apply KMeans clustering\n",
    "n_clusters = 2  # Example: trying to find 2 clusters\n",
    "kmeans = KMeans(n_clusters=n_clusters, random_state=0)\n",
    "kmeans.fit(X_array)\n",
    "\n",
    "# Get cluster labels\n",
    "labels = kmeans.labels_\n",
    "\n",
    "print(\"Cluster Labels:\", labels)"
   ]
  },
  {
   "cell_type": "code",
   "execution_count": 36,
   "id": "da6cf251",
   "metadata": {},
   "outputs": [
    {
     "name": "stdout",
     "output_type": "stream",
     "text": [
      "Silhouette Score: 0.0989674907570943\n"
     ]
    }
   ],
   "source": [
    "from sklearn.metrics import silhouette_score\n",
    "\n",
    "# Calculate the silhouette score\n",
    "sil_score = silhouette_score(X_array, labels)\n",
    "print(f\"Silhouette Score: {sil_score}\")\n"
   ]
  },
  {
   "cell_type": "markdown",
   "id": "135534bd",
   "metadata": {},
   "source": [
    "### Question 5"
   ]
  },
  {
   "cell_type": "code",
   "execution_count": 37,
   "id": "8c433d32",
   "metadata": {},
   "outputs": [],
   "source": [
    "# Specify the data to use\n",
    "data = q5['q5']"
   ]
  },
  {
   "cell_type": "code",
   "execution_count": 38,
   "id": "193f7f8b",
   "metadata": {},
   "outputs": [
    {
     "name": "stdout",
     "output_type": "stream",
     "text": [
      "Features (Words): ['100' '110mph' '160mins' ... 'young' 'youth' 'zone']\n",
      "Bag of Words Matrix:\n",
      " [[0 0 0 ... 0 0 0]\n",
      " [0 0 0 ... 0 0 0]\n",
      " [0 0 0 ... 0 0 0]\n",
      " ...\n",
      " [0 0 0 ... 0 0 0]\n",
      " [0 0 0 ... 0 0 0]\n",
      " [0 0 0 ... 0 0 0]]\n"
     ]
    }
   ],
   "source": [
    "from sklearn.feature_extraction.text import CountVectorizer\n",
    "\n",
    "# Initialize the CountVectorizer\n",
    "vectorizer = CountVectorizer()\n",
    "\n",
    "# Fit and transform the combined responses\n",
    "X = vectorizer.fit_transform(data)\n",
    "\n",
    "# Convert to an array to view the BoW matrix\n",
    "X_array = X.toarray()\n",
    "\n",
    "# Feature names (words)\n",
    "features = vectorizer.get_feature_names_out()\n",
    "\n",
    "print(\"Features (Words):\", features)\n",
    "print(\"Bag of Words Matrix:\\n\", X_array)\n"
   ]
  },
  {
   "cell_type": "code",
   "execution_count": 39,
   "id": "d0b897f9",
   "metadata": {},
   "outputs": [
    {
     "name": "stdout",
     "output_type": "stream",
     "text": [
      "Cluster Labels: [1 0 0 ... 0 0 0]\n"
     ]
    }
   ],
   "source": [
    "from sklearn.cluster import KMeans\n",
    "\n",
    "# Apply KMeans clustering\n",
    "n_clusters = 2  # Example: trying to find 2 clusters\n",
    "kmeans = KMeans(n_clusters=n_clusters, random_state=0)\n",
    "kmeans.fit(X_array)\n",
    "\n",
    "# Get cluster labels\n",
    "labels = kmeans.labels_\n",
    "\n",
    "print(\"Cluster Labels:\", labels)"
   ]
  },
  {
   "cell_type": "code",
   "execution_count": 40,
   "id": "2d3c71b9",
   "metadata": {},
   "outputs": [
    {
     "name": "stdout",
     "output_type": "stream",
     "text": [
      "Silhouette Score: 0.04291646507313858\n"
     ]
    }
   ],
   "source": [
    "from sklearn.metrics import silhouette_score\n",
    "\n",
    "# Calculate the silhouette score\n",
    "sil_score = silhouette_score(X_array, labels)\n",
    "print(f\"Silhouette Score: {sil_score}\")\n"
   ]
  },
  {
   "cell_type": "code",
   "execution_count": null,
   "id": "6a1b1dce",
   "metadata": {},
   "outputs": [],
   "source": []
  }
 ],
 "metadata": {
  "kernelspec": {
   "display_name": "Kim - 1st Custom Python environment",
   "language": "python",
   "name": "my-python-env"
  },
  "language_info": {
   "codemirror_mode": {
    "name": "ipython",
    "version": 3
   },
   "file_extension": ".py",
   "mimetype": "text/x-python",
   "name": "python",
   "nbconvert_exporter": "python",
   "pygments_lexer": "ipython3",
   "version": "3.9.12"
  }
 },
 "nbformat": 4,
 "nbformat_minor": 5
}
