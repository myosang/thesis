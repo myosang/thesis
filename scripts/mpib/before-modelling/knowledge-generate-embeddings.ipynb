{
 "cells": [
  {
   "cell_type": "markdown",
   "id": "16241ea7",
   "metadata": {},
   "source": [
    "# Embedding generation\n",
    "### Knowledge-explore dataset"
   ]
  },
  {
   "cell_type": "code",
   "execution_count": 287,
   "id": "c90750a5",
   "metadata": {},
   "outputs": [
    {
     "data": {
      "text/plain": [
       "True"
      ]
     },
     "execution_count": 287,
     "metadata": {},
     "output_type": "execute_result"
    }
   ],
   "source": [
    "import torch\n",
    "\n",
    "# Check if the GPU is available\n",
    "use_cuda = torch.cuda.is_available()\n",
    "use_cuda"
   ]
  },
  {
   "cell_type": "code",
   "execution_count": 288,
   "id": "93192317",
   "metadata": {},
   "outputs": [],
   "source": [
    "import pandas as pd\n",
    "import numpy as np\n",
    "import matplotlib.pyplot as plt"
   ]
  },
  {
   "cell_type": "code",
   "execution_count": 289,
   "id": "f4bc9lrrbyGJ",
   "metadata": {
    "id": "f4bc9lrrbyGJ",
    "scrolled": true
   },
   "outputs": [],
   "source": [
    "from sklearn.cluster import KMeans\n",
    "from sklearn import metrics\n",
    "from sklearn.metrics import silhouette_score, calinski_harabasz_score, davies_bouldin_score\n",
    "from scipy.spatial.distance import cdist"
   ]
  },
  {
   "cell_type": "code",
   "execution_count": 290,
   "id": "b093050c",
   "metadata": {},
   "outputs": [],
   "source": [
    "from transformers import DistilBertTokenizer, DistilBertModel\n",
    "tokenizer = DistilBertTokenizer.from_pretrained('distilbert-base-uncased')\n",
    "model = DistilBertModel.from_pretrained(\"distilbert-base-uncased\")"
   ]
  },
  {
   "cell_type": "markdown",
   "id": "a40bcf3c",
   "metadata": {},
   "source": [
    "### Question 1 \n",
    "\"How could we increase vaccination rates in social areas?\""
   ]
  },
  {
   "cell_type": "code",
   "execution_count": 291,
   "id": "58a08342",
   "metadata": {},
   "outputs": [],
   "source": [
    "data = pd.read_json('~/thesis/data/processed_data/knowledge_q1_lemmatized.jsonl', orient='records', lines=True)"
   ]
  },
  {
   "cell_type": "code",
   "execution_count": 292,
   "id": "e98501b3",
   "metadata": {},
   "outputs": [],
   "source": [
    "participant = data['participant_id'].copy()"
   ]
  },
  {
   "cell_type": "code",
   "execution_count": 293,
   "id": "e4489aa3",
   "metadata": {
    "scrolled": false
   },
   "outputs": [
    {
     "name": "stdout",
     "output_type": "stream",
     "text": [
      "655\n"
     ]
    }
   ],
   "source": [
    "for x in range(len(data)): \n",
    "    if data['answer'].iloc[x] == '': # Check if there's empty strings values\n",
    "        print(x)"
   ]
  },
  {
   "cell_type": "code",
   "execution_count": 294,
   "id": "0f0e4edf",
   "metadata": {},
   "outputs": [],
   "source": [
    "data = data['answer'].copy()"
   ]
  },
  {
   "cell_type": "code",
   "execution_count": 295,
   "id": "ffc11b9e",
   "metadata": {},
   "outputs": [],
   "source": [
    "# Example list of texts to cluster\n",
    "texts = [ answer for answer in data]"
   ]
  },
  {
   "cell_type": "code",
   "execution_count": 296,
   "id": "2eb8e704",
   "metadata": {},
   "outputs": [],
   "source": [
    "# Tokenize and encode the texts\n",
    "encoded_texts = tokenizer(texts, padding=True, truncation=True, return_tensors=\"pt\")\n",
    "\n",
    "# Obtain distilBERT embeddings\n",
    "with torch.no_grad():\n",
    "    model_output = model(**encoded_texts)\n",
    "\n",
    "# Get the embeddings from the model output\n",
    "embeddings = model_output.last_hidden_state[:, 0, :].numpy()"
   ]
  },
  {
   "cell_type": "code",
   "execution_count": 297,
   "id": "d8b12a01",
   "metadata": {
    "scrolled": true
   },
   "outputs": [
    {
     "data": {
      "text/plain": [
       "(1294, 768)"
      ]
     },
     "execution_count": 297,
     "metadata": {},
     "output_type": "execute_result"
    }
   ],
   "source": [
    "embeddings.shape"
   ]
  },
  {
   "cell_type": "code",
   "execution_count": 298,
   "id": "65fa67c1",
   "metadata": {},
   "outputs": [
    {
     "data": {
      "text/plain": [
       "array([[-0.19127376, -0.17733298, -0.26054257, ..., -0.22700275,\n",
       "         0.01577356,  0.41399235],\n",
       "       [-0.06792968, -0.13514109, -0.13267083, ..., -0.17478277,\n",
       "         0.13954921,  0.22890878],\n",
       "       [-0.10311951, -0.21144652, -0.38806748, ..., -0.29994968,\n",
       "         0.1419051 ,  0.34876743],\n",
       "       ...,\n",
       "       [-0.04628503, -0.13581693, -0.37709054, ..., -0.20757696,\n",
       "         0.04609798,  0.44425988],\n",
       "       [-0.33347216, -0.17306219,  0.09216662, ..., -0.25133562,\n",
       "        -0.05142123,  0.27784327],\n",
       "       [-0.20325579, -0.15237466, -0.23004963, ..., -0.25612628,\n",
       "         0.05647596,  0.45491406]], dtype=float32)"
      ]
     },
     "execution_count": 298,
     "metadata": {},
     "output_type": "execute_result"
    }
   ],
   "source": [
    "embeddings"
   ]
  },
  {
   "cell_type": "code",
   "execution_count": 299,
   "id": "2bc1e5b7",
   "metadata": {
    "scrolled": true
   },
   "outputs": [],
   "source": [
    "# save it to the json file\n",
    "column_names = ['participant_id', 'answer1', 'embedding1']\n",
    "\n",
    "# Ensure that the length of text_data and the number of embeddings match\n",
    "assert len(data) == len(embeddings), \"The length of text data and embeddings must match\"\n",
    "\n",
    "# Convert each row of embeddings to a list\n",
    "embeddings_list = embeddings.tolist()\n",
    "\n",
    "result = pd.DataFrame({column_names[0]: participant , column_names[1]: data, column_names[2]: embeddings_list})"
   ]
  },
  {
   "cell_type": "code",
   "execution_count": 300,
   "id": "6e3838c4",
   "metadata": {},
   "outputs": [
    {
     "data": {
      "text/html": [
       "<div>\n",
       "<style scoped>\n",
       "    .dataframe tbody tr th:only-of-type {\n",
       "        vertical-align: middle;\n",
       "    }\n",
       "\n",
       "    .dataframe tbody tr th {\n",
       "        vertical-align: top;\n",
       "    }\n",
       "\n",
       "    .dataframe thead th {\n",
       "        text-align: right;\n",
       "    }\n",
       "</style>\n",
       "<table border=\"1\" class=\"dataframe\">\n",
       "  <thead>\n",
       "    <tr style=\"text-align: right;\">\n",
       "      <th></th>\n",
       "      <th>participant_id</th>\n",
       "      <th>answer1</th>\n",
       "      <th>embedding1</th>\n",
       "    </tr>\n",
       "  </thead>\n",
       "  <tbody>\n",
       "    <tr>\n",
       "      <th>0</th>\n",
       "      <td>00278</td>\n",
       "      <td>vaccination scheme area</td>\n",
       "      <td>[-0.1912737637758255, -0.17733298242092133, -0...</td>\n",
       "    </tr>\n",
       "    <tr>\n",
       "      <th>1</th>\n",
       "      <td>00278</td>\n",
       "      <td>increase awareness education</td>\n",
       "      <td>[-0.06792967766523361, -0.13514108955860138, -...</td>\n",
       "    </tr>\n",
       "    <tr>\n",
       "      <th>2</th>\n",
       "      <td>00278</td>\n",
       "      <td>mass vaccination programme</td>\n",
       "      <td>[-0.10311951488256454, -0.21144652366638184, -...</td>\n",
       "    </tr>\n",
       "    <tr>\n",
       "      <th>3</th>\n",
       "      <td>00278</td>\n",
       "      <td>gp practice discus patient</td>\n",
       "      <td>[-0.22583332657814026, -0.0020551765337586403,...</td>\n",
       "    </tr>\n",
       "    <tr>\n",
       "      <th>4</th>\n",
       "      <td>00278</td>\n",
       "      <td>advertisement vaccination need availability</td>\n",
       "      <td>[-0.12228399515151978, 0.03003622218966484, -0...</td>\n",
       "    </tr>\n",
       "    <tr>\n",
       "      <th>...</th>\n",
       "      <td>...</td>\n",
       "      <td>...</td>\n",
       "      <td>...</td>\n",
       "    </tr>\n",
       "    <tr>\n",
       "      <th>1289</th>\n",
       "      <td>fb9c4</td>\n",
       "      <td>visiting local school vaccinating child</td>\n",
       "      <td>[-0.21164929866790771, -0.10677900910377502, -...</td>\n",
       "    </tr>\n",
       "    <tr>\n",
       "      <th>1290</th>\n",
       "      <td>fb9c4</td>\n",
       "      <td>offering door door vaccination programme</td>\n",
       "      <td>[-0.19278275966644287, -0.1603478342294693, -0...</td>\n",
       "    </tr>\n",
       "    <tr>\n",
       "      <th>1291</th>\n",
       "      <td>ff2bf</td>\n",
       "      <td>education benefit vaccination</td>\n",
       "      <td>[-0.04628502577543259, -0.13581693172454834, -...</td>\n",
       "    </tr>\n",
       "    <tr>\n",
       "      <th>1292</th>\n",
       "      <td>ff2bf</td>\n",
       "      <td>reward incentive eg cash good</td>\n",
       "      <td>[-0.3334721624851227, -0.17306219041347504, 0....</td>\n",
       "    </tr>\n",
       "    <tr>\n",
       "      <th>1293</th>\n",
       "      <td>ff2bf</td>\n",
       "      <td>benefit vaccinated</td>\n",
       "      <td>[-0.2032557874917984, -0.15237465500831604, -0...</td>\n",
       "    </tr>\n",
       "  </tbody>\n",
       "</table>\n",
       "<p>1294 rows × 3 columns</p>\n",
       "</div>"
      ],
      "text/plain": [
       "     participant_id                                      answer1  \\\n",
       "0             00278                      vaccination scheme area   \n",
       "1             00278                 increase awareness education   \n",
       "2             00278                   mass vaccination programme   \n",
       "3             00278                   gp practice discus patient   \n",
       "4             00278  advertisement vaccination need availability   \n",
       "...             ...                                          ...   \n",
       "1289          fb9c4      visiting local school vaccinating child   \n",
       "1290          fb9c4     offering door door vaccination programme   \n",
       "1291          ff2bf                education benefit vaccination   \n",
       "1292          ff2bf                reward incentive eg cash good   \n",
       "1293          ff2bf                           benefit vaccinated   \n",
       "\n",
       "                                             embedding1  \n",
       "0     [-0.1912737637758255, -0.17733298242092133, -0...  \n",
       "1     [-0.06792967766523361, -0.13514108955860138, -...  \n",
       "2     [-0.10311951488256454, -0.21144652366638184, -...  \n",
       "3     [-0.22583332657814026, -0.0020551765337586403,...  \n",
       "4     [-0.12228399515151978, 0.03003622218966484, -0...  \n",
       "...                                                 ...  \n",
       "1289  [-0.21164929866790771, -0.10677900910377502, -...  \n",
       "1290  [-0.19278275966644287, -0.1603478342294693, -0...  \n",
       "1291  [-0.04628502577543259, -0.13581693172454834, -...  \n",
       "1292  [-0.3334721624851227, -0.17306219041347504, 0....  \n",
       "1293  [-0.2032557874917984, -0.15237465500831604, -0...  \n",
       "\n",
       "[1294 rows x 3 columns]"
      ]
     },
     "execution_count": 300,
     "metadata": {},
     "output_type": "execute_result"
    }
   ],
   "source": [
    "result"
   ]
  },
  {
   "cell_type": "code",
   "execution_count": 301,
   "id": "c7c5285f",
   "metadata": {},
   "outputs": [],
   "source": [
    "# save the embedding to json file\n",
    "result.to_json('~/thesis/embeddings/knowledge_distilbert_answer1.jsonl', orient='index')"
   ]
  },
  {
   "cell_type": "markdown",
   "id": "1c572bd5",
   "metadata": {},
   "source": [
    "### Question 2\n",
    "\"How could we improve gender equality at work?\""
   ]
  },
  {
   "cell_type": "code",
   "execution_count": 302,
   "id": "6dd761ad",
   "metadata": {},
   "outputs": [],
   "source": [
    "data = pd.read_json('~/thesis/data/processed_data/knowledge_q2_lemmatized.jsonl', orient='records', lines=True)"
   ]
  },
  {
   "cell_type": "code",
   "execution_count": 303,
   "id": "793c9f2b",
   "metadata": {},
   "outputs": [],
   "source": [
    "participant = data['participant_id'].copy()"
   ]
  },
  {
   "cell_type": "code",
   "execution_count": 304,
   "id": "4882ca22",
   "metadata": {
    "scrolled": false
   },
   "outputs": [],
   "source": [
    "for x in range(len(data)): \n",
    "    if data['answer'].iloc[x] == '': # Check if there's empty strings values\n",
    "        print(x)"
   ]
  },
  {
   "cell_type": "code",
   "execution_count": 305,
   "id": "7384d0f6",
   "metadata": {},
   "outputs": [],
   "source": [
    "data = data['answer'].copy()"
   ]
  },
  {
   "cell_type": "code",
   "execution_count": 306,
   "id": "625345d1",
   "metadata": {},
   "outputs": [],
   "source": [
    "# Example list of texts to cluster\n",
    "texts = [ answer for answer in data]"
   ]
  },
  {
   "cell_type": "code",
   "execution_count": 307,
   "id": "87ceaae7",
   "metadata": {},
   "outputs": [],
   "source": [
    "# Tokenize and encode the texts\n",
    "encoded_texts = tokenizer(texts, padding=True, truncation=True, return_tensors=\"pt\")\n",
    "\n",
    "# Obtain distilBERT embeddings\n",
    "with torch.no_grad():\n",
    "    model_output = model(**encoded_texts)\n",
    "\n",
    "# Get the embeddings from the model output\n",
    "embeddings = model_output.last_hidden_state[:, 0, :].numpy()"
   ]
  },
  {
   "cell_type": "code",
   "execution_count": 308,
   "id": "4c9f7d7a",
   "metadata": {
    "scrolled": false
   },
   "outputs": [
    {
     "data": {
      "text/plain": [
       "(1299, 768)"
      ]
     },
     "execution_count": 308,
     "metadata": {},
     "output_type": "execute_result"
    }
   ],
   "source": [
    "embeddings.shape"
   ]
  },
  {
   "cell_type": "code",
   "execution_count": 309,
   "id": "e68fdae4",
   "metadata": {},
   "outputs": [
    {
     "data": {
      "text/plain": [
       "array([[-0.27246663, -0.11421003, -0.25762886, ..., -0.25822142,\n",
       "         0.04988267,  0.33396098],\n",
       "       [-0.20662355, -0.05778245, -0.02536843, ..., -0.23782359,\n",
       "         0.12621512,  0.18647127],\n",
       "       [-0.32578346, -0.05905151, -0.19272937, ..., -0.28107145,\n",
       "         0.25809512,  0.38366055],\n",
       "       ...,\n",
       "       [-0.29391214, -0.01502347, -0.37965733, ..., -0.19332778,\n",
       "         0.10386197,  0.33840808],\n",
       "       [-0.24768837, -0.22516981,  0.00928485, ..., -0.2717694 ,\n",
       "         0.00258983,  0.40271506],\n",
       "       [-0.3109877 , -0.16754803, -0.3148152 , ..., -0.26551035,\n",
       "         0.03409884,  0.4636308 ]], dtype=float32)"
      ]
     },
     "execution_count": 309,
     "metadata": {},
     "output_type": "execute_result"
    }
   ],
   "source": [
    "embeddings"
   ]
  },
  {
   "cell_type": "code",
   "execution_count": 310,
   "id": "1a8b9936",
   "metadata": {
    "scrolled": true
   },
   "outputs": [],
   "source": [
    "# save it to the json file\n",
    "column_names = ['participant_id', 'answer2', 'embedding2']\n",
    "\n",
    "# Ensure that the length of text_data and the number of embeddings match\n",
    "assert len(data) == len(embeddings), \"The length of text data and embeddings must match\"\n",
    "\n",
    "# Convert each row of embeddings to a list\n",
    "embeddings_list = embeddings.tolist()\n",
    "\n",
    "result = pd.DataFrame({column_names[0]: participant , column_names[1]: data, column_names[2]: embeddings_list})"
   ]
  },
  {
   "cell_type": "code",
   "execution_count": 311,
   "id": "09328909",
   "metadata": {},
   "outputs": [
    {
     "data": {
      "text/html": [
       "<div>\n",
       "<style scoped>\n",
       "    .dataframe tbody tr th:only-of-type {\n",
       "        vertical-align: middle;\n",
       "    }\n",
       "\n",
       "    .dataframe tbody tr th {\n",
       "        vertical-align: top;\n",
       "    }\n",
       "\n",
       "    .dataframe thead th {\n",
       "        text-align: right;\n",
       "    }\n",
       "</style>\n",
       "<table border=\"1\" class=\"dataframe\">\n",
       "  <thead>\n",
       "    <tr style=\"text-align: right;\">\n",
       "      <th></th>\n",
       "      <th>participant_id</th>\n",
       "      <th>answer2</th>\n",
       "      <th>embedding2</th>\n",
       "    </tr>\n",
       "  </thead>\n",
       "  <tbody>\n",
       "    <tr>\n",
       "      <th>0</th>\n",
       "      <td>00278</td>\n",
       "      <td>equal pay woman men role</td>\n",
       "      <td>[-0.27246662974357605, -0.11421003192663193, -...</td>\n",
       "    </tr>\n",
       "    <tr>\n",
       "      <th>1</th>\n",
       "      <td>00278</td>\n",
       "      <td>ensure woman voice heard</td>\n",
       "      <td>[-0.20662355422973633, -0.05778244510293007, -...</td>\n",
       "    </tr>\n",
       "    <tr>\n",
       "      <th>2</th>\n",
       "      <td>00278</td>\n",
       "      <td>woman equally considered promotion</td>\n",
       "      <td>[-0.32578346133232117, -0.0590515062212944, -0...</td>\n",
       "    </tr>\n",
       "    <tr>\n",
       "      <th>3</th>\n",
       "      <td>00278</td>\n",
       "      <td>education sexual harassment</td>\n",
       "      <td>[-0.15188588201999664, 0.03038639947772026, -0...</td>\n",
       "    </tr>\n",
       "    <tr>\n",
       "      <th>4</th>\n",
       "      <td>00278</td>\n",
       "      <td>woman seen equal men capable</td>\n",
       "      <td>[-0.2573717534542084, -0.19600646197795868, -0...</td>\n",
       "    </tr>\n",
       "    <tr>\n",
       "      <th>...</th>\n",
       "      <td>...</td>\n",
       "      <td>...</td>\n",
       "      <td>...</td>\n",
       "    </tr>\n",
       "    <tr>\n",
       "      <th>1294</th>\n",
       "      <td>fb9c4</td>\n",
       "      <td>female high paying role within company</td>\n",
       "      <td>[-0.33563175797462463, -0.17630937695503235, -...</td>\n",
       "    </tr>\n",
       "    <tr>\n",
       "      <th>1295</th>\n",
       "      <td>fb9c4</td>\n",
       "      <td>offering male female worker time maternitypate...</td>\n",
       "      <td>[-0.330673485994339, -0.04863996431231499, -0....</td>\n",
       "    </tr>\n",
       "    <tr>\n",
       "      <th>1296</th>\n",
       "      <td>ff2bf</td>\n",
       "      <td>gender identity workshop staff</td>\n",
       "      <td>[-0.2939121425151825, -0.015023472718894482, -...</td>\n",
       "    </tr>\n",
       "    <tr>\n",
       "      <th>1297</th>\n",
       "      <td>ff2bf</td>\n",
       "      <td>look current procedure improved</td>\n",
       "      <td>[-0.24768836796283722, -0.2251698076725006, 0....</td>\n",
       "    </tr>\n",
       "    <tr>\n",
       "      <th>1298</th>\n",
       "      <td>ff2bf</td>\n",
       "      <td>identify problem area</td>\n",
       "      <td>[-0.3109877109527588, -0.1675480306148529, -0....</td>\n",
       "    </tr>\n",
       "  </tbody>\n",
       "</table>\n",
       "<p>1299 rows × 3 columns</p>\n",
       "</div>"
      ],
      "text/plain": [
       "     participant_id                                            answer2  \\\n",
       "0             00278                           equal pay woman men role   \n",
       "1             00278                           ensure woman voice heard   \n",
       "2             00278                 woman equally considered promotion   \n",
       "3             00278                        education sexual harassment   \n",
       "4             00278                       woman seen equal men capable   \n",
       "...             ...                                                ...   \n",
       "1294          fb9c4             female high paying role within company   \n",
       "1295          fb9c4  offering male female worker time maternitypate...   \n",
       "1296          ff2bf                     gender identity workshop staff   \n",
       "1297          ff2bf                    look current procedure improved   \n",
       "1298          ff2bf                              identify problem area   \n",
       "\n",
       "                                             embedding2  \n",
       "0     [-0.27246662974357605, -0.11421003192663193, -...  \n",
       "1     [-0.20662355422973633, -0.05778244510293007, -...  \n",
       "2     [-0.32578346133232117, -0.0590515062212944, -0...  \n",
       "3     [-0.15188588201999664, 0.03038639947772026, -0...  \n",
       "4     [-0.2573717534542084, -0.19600646197795868, -0...  \n",
       "...                                                 ...  \n",
       "1294  [-0.33563175797462463, -0.17630937695503235, -...  \n",
       "1295  [-0.330673485994339, -0.04863996431231499, -0....  \n",
       "1296  [-0.2939121425151825, -0.015023472718894482, -...  \n",
       "1297  [-0.24768836796283722, -0.2251698076725006, 0....  \n",
       "1298  [-0.3109877109527588, -0.1675480306148529, -0....  \n",
       "\n",
       "[1299 rows x 3 columns]"
      ]
     },
     "execution_count": 311,
     "metadata": {},
     "output_type": "execute_result"
    }
   ],
   "source": [
    "result"
   ]
  },
  {
   "cell_type": "code",
   "execution_count": 312,
   "id": "ca774cbf",
   "metadata": {},
   "outputs": [],
   "source": [
    "# save the embedding to json file\n",
    "result.to_json('~/thesis/embeddings/knowledge_distilbert_answer2.jsonl', orient='index')"
   ]
  },
  {
   "cell_type": "markdown",
   "id": "c3d949be",
   "metadata": {},
   "source": [
    "### Question 3\n",
    "\"How could we prevent the extinction of the elephant?\""
   ]
  },
  {
   "cell_type": "code",
   "execution_count": 313,
   "id": "4c375c91",
   "metadata": {},
   "outputs": [],
   "source": [
    "data = pd.read_json('~/thesis/data/processed_data/knowledge_q3_lemmatized.jsonl', orient='records', lines=True)"
   ]
  },
  {
   "cell_type": "code",
   "execution_count": 314,
   "id": "6cb1498f",
   "metadata": {},
   "outputs": [],
   "source": [
    "participant = data['participant_id'].copy()"
   ]
  },
  {
   "cell_type": "code",
   "execution_count": 315,
   "id": "6477911e",
   "metadata": {
    "scrolled": false
   },
   "outputs": [],
   "source": [
    "for x in range(len(data)): \n",
    "    if data['answer'].iloc[x] == '': # Check if there's empty strings values\n",
    "        print(x)"
   ]
  },
  {
   "cell_type": "code",
   "execution_count": 316,
   "id": "d6480aa0",
   "metadata": {},
   "outputs": [],
   "source": [
    "data = data['answer'].copy()"
   ]
  },
  {
   "cell_type": "code",
   "execution_count": 317,
   "id": "d501d5a6",
   "metadata": {},
   "outputs": [],
   "source": [
    "# Example list of texts to cluster\n",
    "texts = [ answer for answer in data]"
   ]
  },
  {
   "cell_type": "code",
   "execution_count": 318,
   "id": "e8854aa1",
   "metadata": {},
   "outputs": [],
   "source": [
    "# Tokenize and encode the texts\n",
    "encoded_texts = tokenizer(texts, padding=True, truncation=True, return_tensors=\"pt\")\n",
    "\n",
    "# Obtain distilBERT embeddings\n",
    "with torch.no_grad():\n",
    "    model_output = model(**encoded_texts)\n",
    "\n",
    "# Get the embeddings from the model output\n",
    "embeddings = model_output.last_hidden_state[:, 0, :].numpy()"
   ]
  },
  {
   "cell_type": "code",
   "execution_count": 319,
   "id": "85a12d9b",
   "metadata": {
    "scrolled": false
   },
   "outputs": [
    {
     "data": {
      "text/plain": [
       "(1330, 768)"
      ]
     },
     "execution_count": 319,
     "metadata": {},
     "output_type": "execute_result"
    }
   ],
   "source": [
    "embeddings.shape"
   ]
  },
  {
   "cell_type": "code",
   "execution_count": 320,
   "id": "bb5ec3f5",
   "metadata": {},
   "outputs": [
    {
     "data": {
      "text/plain": [
       "array([[-0.26007342, -0.10248095, -0.06801523, ..., -0.19478488,\n",
       "         0.07291865,  0.24238463],\n",
       "       [-0.19300213, -0.09409611, -0.138834  , ..., -0.19442259,\n",
       "         0.15002112,  0.23779206],\n",
       "       [ 0.02903957, -0.15060198, -0.21470082, ..., -0.12194512,\n",
       "         0.06245731,  0.15667342],\n",
       "       ...,\n",
       "       [-0.17498773,  0.02680914, -0.18700269, ..., -0.07259836,\n",
       "         0.25937122,  0.18128693],\n",
       "       [-0.09044164, -0.19122785, -0.1173988 , ..., -0.15873171,\n",
       "         0.02188621,  0.2703989 ],\n",
       "       [-0.23726068, -0.05401746, -0.4242938 , ..., -0.17293528,\n",
       "         0.15000957,  0.22560188]], dtype=float32)"
      ]
     },
     "execution_count": 320,
     "metadata": {},
     "output_type": "execute_result"
    }
   ],
   "source": [
    "embeddings"
   ]
  },
  {
   "cell_type": "code",
   "execution_count": 321,
   "id": "049ef02c",
   "metadata": {
    "scrolled": true
   },
   "outputs": [],
   "source": [
    "# save it to the json file\n",
    "column_names = ['participant_id', 'answer3', 'embedding3']\n",
    "\n",
    "# Ensure that the length of text_data and the number of embeddings match\n",
    "assert len(data) == len(embeddings), \"The length of text data and embeddings must match\"\n",
    "\n",
    "# Convert each row of embeddings to a list\n",
    "embeddings_list = embeddings.tolist()\n",
    "\n",
    "result = pd.DataFrame({column_names[0]: participant , column_names[1]: data, column_names[2]: embeddings_list})"
   ]
  },
  {
   "cell_type": "code",
   "execution_count": 322,
   "id": "4533fa22",
   "metadata": {},
   "outputs": [
    {
     "data": {
      "text/html": [
       "<div>\n",
       "<style scoped>\n",
       "    .dataframe tbody tr th:only-of-type {\n",
       "        vertical-align: middle;\n",
       "    }\n",
       "\n",
       "    .dataframe tbody tr th {\n",
       "        vertical-align: top;\n",
       "    }\n",
       "\n",
       "    .dataframe thead th {\n",
       "        text-align: right;\n",
       "    }\n",
       "</style>\n",
       "<table border=\"1\" class=\"dataframe\">\n",
       "  <thead>\n",
       "    <tr style=\"text-align: right;\">\n",
       "      <th></th>\n",
       "      <th>participant_id</th>\n",
       "      <th>answer3</th>\n",
       "      <th>embedding3</th>\n",
       "    </tr>\n",
       "  </thead>\n",
       "  <tbody>\n",
       "    <tr>\n",
       "      <th>0</th>\n",
       "      <td>00278</td>\n",
       "      <td>look conservation plan</td>\n",
       "      <td>[-0.2600734233856201, -0.102480947971344, -0.0...</td>\n",
       "    </tr>\n",
       "    <tr>\n",
       "      <th>1</th>\n",
       "      <td>00278</td>\n",
       "      <td>ensure poacher prosecuted stopped</td>\n",
       "      <td>[-0.1930021345615387, -0.0940961092710495, -0....</td>\n",
       "    </tr>\n",
       "    <tr>\n",
       "      <th>2</th>\n",
       "      <td>00278</td>\n",
       "      <td>protect land live</td>\n",
       "      <td>[0.029039565473794937, -0.15060198307037354, -...</td>\n",
       "    </tr>\n",
       "    <tr>\n",
       "      <th>3</th>\n",
       "      <td>00278</td>\n",
       "      <td>protected area people access</td>\n",
       "      <td>[-0.2305000275373459, 0.1180906593799591, -0.2...</td>\n",
       "    </tr>\n",
       "    <tr>\n",
       "      <th>4</th>\n",
       "      <td>00278</td>\n",
       "      <td>stop used human entertainmenttourism</td>\n",
       "      <td>[-0.0794864222407341, -0.07702479511499405, -0...</td>\n",
       "    </tr>\n",
       "    <tr>\n",
       "      <th>...</th>\n",
       "      <td>...</td>\n",
       "      <td>...</td>\n",
       "      <td>...</td>\n",
       "    </tr>\n",
       "    <tr>\n",
       "      <th>1325</th>\n",
       "      <td>fb9c4</td>\n",
       "      <td>prosecute profit elephant called sancturies</td>\n",
       "      <td>[-0.14983583986759186, 0.015399899333715439, -...</td>\n",
       "    </tr>\n",
       "    <tr>\n",
       "      <th>1326</th>\n",
       "      <td>fb9c4</td>\n",
       "      <td>create scheme impregnate lot female elephant</td>\n",
       "      <td>[-0.29400578141212463, -0.2693106532096863, -0...</td>\n",
       "    </tr>\n",
       "    <tr>\n",
       "      <th>1327</th>\n",
       "      <td>ff2bf</td>\n",
       "      <td>ban ivory importsexports</td>\n",
       "      <td>[-0.17498773336410522, 0.026809141039848328, -...</td>\n",
       "    </tr>\n",
       "    <tr>\n",
       "      <th>1328</th>\n",
       "      <td>ff2bf</td>\n",
       "      <td>try breed captivity</td>\n",
       "      <td>[-0.09044164419174194, -0.19122785329818726, -...</td>\n",
       "    </tr>\n",
       "    <tr>\n",
       "      <th>1329</th>\n",
       "      <td>ff2bf</td>\n",
       "      <td>protected elephant colony</td>\n",
       "      <td>[-0.23726068437099457, -0.054017458111047745, ...</td>\n",
       "    </tr>\n",
       "  </tbody>\n",
       "</table>\n",
       "<p>1330 rows × 3 columns</p>\n",
       "</div>"
      ],
      "text/plain": [
       "     participant_id                                       answer3  \\\n",
       "0             00278                        look conservation plan   \n",
       "1             00278             ensure poacher prosecuted stopped   \n",
       "2             00278                             protect land live   \n",
       "3             00278                  protected area people access   \n",
       "4             00278          stop used human entertainmenttourism   \n",
       "...             ...                                           ...   \n",
       "1325          fb9c4   prosecute profit elephant called sancturies   \n",
       "1326          fb9c4  create scheme impregnate lot female elephant   \n",
       "1327          ff2bf                      ban ivory importsexports   \n",
       "1328          ff2bf                           try breed captivity   \n",
       "1329          ff2bf                     protected elephant colony   \n",
       "\n",
       "                                             embedding3  \n",
       "0     [-0.2600734233856201, -0.102480947971344, -0.0...  \n",
       "1     [-0.1930021345615387, -0.0940961092710495, -0....  \n",
       "2     [0.029039565473794937, -0.15060198307037354, -...  \n",
       "3     [-0.2305000275373459, 0.1180906593799591, -0.2...  \n",
       "4     [-0.0794864222407341, -0.07702479511499405, -0...  \n",
       "...                                                 ...  \n",
       "1325  [-0.14983583986759186, 0.015399899333715439, -...  \n",
       "1326  [-0.29400578141212463, -0.2693106532096863, -0...  \n",
       "1327  [-0.17498773336410522, 0.026809141039848328, -...  \n",
       "1328  [-0.09044164419174194, -0.19122785329818726, -...  \n",
       "1329  [-0.23726068437099457, -0.054017458111047745, ...  \n",
       "\n",
       "[1330 rows x 3 columns]"
      ]
     },
     "execution_count": 322,
     "metadata": {},
     "output_type": "execute_result"
    }
   ],
   "source": [
    "result"
   ]
  },
  {
   "cell_type": "code",
   "execution_count": 323,
   "id": "fa3ce822",
   "metadata": {},
   "outputs": [],
   "source": [
    "# save the embedding to json file\n",
    "result.to_json('~/thesis/embeddings/knowledge_distilbert_answer3.jsonl', orient='index')"
   ]
  },
  {
   "cell_type": "code",
   "execution_count": null,
   "id": "af851555",
   "metadata": {},
   "outputs": [],
   "source": []
  },
  {
   "cell_type": "markdown",
   "id": "489aac8a",
   "metadata": {},
   "source": [
    "### Question 4\n",
    "\"How could we increase the use of public transport?\""
   ]
  },
  {
   "cell_type": "code",
   "execution_count": 324,
   "id": "16990c8a",
   "metadata": {},
   "outputs": [],
   "source": [
    "data = pd.read_json('~/thesis/data/processed_data/knowledge_q4_lemmatized.jsonl', orient='records', lines=True)"
   ]
  },
  {
   "cell_type": "code",
   "execution_count": 325,
   "id": "04e97a6a",
   "metadata": {},
   "outputs": [],
   "source": [
    "participant = data['participant_id'].copy()"
   ]
  },
  {
   "cell_type": "code",
   "execution_count": 326,
   "id": "950c4c57",
   "metadata": {
    "scrolled": false
   },
   "outputs": [],
   "source": [
    "for x in range(len(data)): \n",
    "    if data['answer'].iloc[x] == '': # Check if there's empty strings values\n",
    "        print(x)"
   ]
  },
  {
   "cell_type": "code",
   "execution_count": 327,
   "id": "d3bcee68",
   "metadata": {},
   "outputs": [],
   "source": [
    "data = data['answer'].copy()"
   ]
  },
  {
   "cell_type": "code",
   "execution_count": 328,
   "id": "7a7e10f2",
   "metadata": {},
   "outputs": [],
   "source": [
    "# Example list of texts to cluster\n",
    "texts = [ answer for answer in data]"
   ]
  },
  {
   "cell_type": "code",
   "execution_count": 329,
   "id": "ce7af15c",
   "metadata": {},
   "outputs": [],
   "source": [
    "# Tokenize and encode the texts\n",
    "encoded_texts = tokenizer(texts, padding=True, truncation=True, return_tensors=\"pt\")\n",
    "\n",
    "# Obtain distilBERT embeddings\n",
    "with torch.no_grad():\n",
    "    model_output = model(**encoded_texts)\n",
    "\n",
    "# Get the embeddings from the model output\n",
    "embeddings = model_output.last_hidden_state[:, 0, :].numpy()"
   ]
  },
  {
   "cell_type": "code",
   "execution_count": 330,
   "id": "ea220bde",
   "metadata": {
    "scrolled": false
   },
   "outputs": [
    {
     "data": {
      "text/plain": [
       "(1228, 768)"
      ]
     },
     "execution_count": 330,
     "metadata": {},
     "output_type": "execute_result"
    }
   ],
   "source": [
    "embeddings.shape"
   ]
  },
  {
   "cell_type": "code",
   "execution_count": 331,
   "id": "ed133191",
   "metadata": {},
   "outputs": [
    {
     "data": {
      "text/plain": [
       "array([[-0.1105326 , -0.18945812, -0.03787645, ..., -0.16354793,\n",
       "         0.17749348,  0.15497705],\n",
       "       [-0.13820766, -0.03308623,  0.05139754, ..., -0.15541585,\n",
       "         0.12188373,  0.22924781],\n",
       "       [-0.19806035, -0.14538558, -0.02777266, ..., -0.12017956,\n",
       "         0.07377895,  0.33324617],\n",
       "       ...,\n",
       "       [-0.09752385,  0.05519659, -0.00851689, ..., -0.20211183,\n",
       "        -0.03859911,  0.3129117 ],\n",
       "       [-0.22521718, -0.09770241, -0.13090718, ..., -0.18667755,\n",
       "         0.02443858,  0.2766239 ],\n",
       "       [-0.23792972, -0.09585156,  0.01390878, ..., -0.15713789,\n",
       "         0.20701213,  0.36168784]], dtype=float32)"
      ]
     },
     "execution_count": 331,
     "metadata": {},
     "output_type": "execute_result"
    }
   ],
   "source": [
    "embeddings"
   ]
  },
  {
   "cell_type": "code",
   "execution_count": 332,
   "id": "154aaa9e",
   "metadata": {
    "scrolled": true
   },
   "outputs": [],
   "source": [
    "# save it to the json file\n",
    "column_names = ['participant_id', 'answer4', 'embedding4']\n",
    "\n",
    "# Ensure that the length of text_data and the number of embeddings match\n",
    "assert len(data) == len(embeddings), \"The length of text data and embeddings must match\"\n",
    "\n",
    "# Convert each row of embeddings to a list\n",
    "embeddings_list = embeddings.tolist()\n",
    "\n",
    "result = pd.DataFrame({column_names[0]: participant , column_names[1]: data, column_names[2]: embeddings_list})"
   ]
  },
  {
   "cell_type": "code",
   "execution_count": 333,
   "id": "f261e5bd",
   "metadata": {},
   "outputs": [
    {
     "data": {
      "text/html": [
       "<div>\n",
       "<style scoped>\n",
       "    .dataframe tbody tr th:only-of-type {\n",
       "        vertical-align: middle;\n",
       "    }\n",
       "\n",
       "    .dataframe tbody tr th {\n",
       "        vertical-align: top;\n",
       "    }\n",
       "\n",
       "    .dataframe thead th {\n",
       "        text-align: right;\n",
       "    }\n",
       "</style>\n",
       "<table border=\"1\" class=\"dataframe\">\n",
       "  <thead>\n",
       "    <tr style=\"text-align: right;\">\n",
       "      <th></th>\n",
       "      <th>participant_id</th>\n",
       "      <th>answer4</th>\n",
       "      <th>embedding4</th>\n",
       "    </tr>\n",
       "  </thead>\n",
       "  <tbody>\n",
       "    <tr>\n",
       "      <th>0</th>\n",
       "      <td>00278</td>\n",
       "      <td>make affordable</td>\n",
       "      <td>[-0.11053259670734406, -0.18945811688899994, -...</td>\n",
       "    </tr>\n",
       "    <tr>\n",
       "      <th>1</th>\n",
       "      <td>00278</td>\n",
       "      <td>make reliable</td>\n",
       "      <td>[-0.13820765912532806, -0.033086229115724564, ...</td>\n",
       "    </tr>\n",
       "    <tr>\n",
       "      <th>2</th>\n",
       "      <td>00278</td>\n",
       "      <td>make accessible</td>\n",
       "      <td>[-0.19806034862995148, -0.14538557827472687, -...</td>\n",
       "    </tr>\n",
       "    <tr>\n",
       "      <th>3</th>\n",
       "      <td>00278</td>\n",
       "      <td>hire staff support service</td>\n",
       "      <td>[-0.024831995368003845, -0.03276780620217323, ...</td>\n",
       "    </tr>\n",
       "    <tr>\n",
       "      <th>4</th>\n",
       "      <td>00278</td>\n",
       "      <td>funding newfaster route</td>\n",
       "      <td>[-0.23124073445796967, -0.12966595590114594, -...</td>\n",
       "    </tr>\n",
       "    <tr>\n",
       "      <th>...</th>\n",
       "      <td>...</td>\n",
       "      <td>...</td>\n",
       "      <td>...</td>\n",
       "    </tr>\n",
       "    <tr>\n",
       "      <th>1223</th>\n",
       "      <td>fb9c4</td>\n",
       "      <td>reward scheme often use public transport</td>\n",
       "      <td>[-0.10024309158325195, -0.01906384527683258, -...</td>\n",
       "    </tr>\n",
       "    <tr>\n",
       "      <th>1224</th>\n",
       "      <td>fb9c4</td>\n",
       "      <td>increase hygiene level bus train</td>\n",
       "      <td>[-0.06521286815404892, -0.25344136357307434, -...</td>\n",
       "    </tr>\n",
       "    <tr>\n",
       "      <th>1225</th>\n",
       "      <td>ff2bf</td>\n",
       "      <td>free travel need</td>\n",
       "      <td>[-0.09752384573221207, 0.05519659444689751, -0...</td>\n",
       "    </tr>\n",
       "    <tr>\n",
       "      <th>1226</th>\n",
       "      <td>ff2bf</td>\n",
       "      <td>le parking private vehicle</td>\n",
       "      <td>[-0.22521717846393585, -0.09770240634679794, -...</td>\n",
       "    </tr>\n",
       "    <tr>\n",
       "      <th>1227</th>\n",
       "      <td>ff2bf</td>\n",
       "      <td>safer station</td>\n",
       "      <td>[-0.23792971670627594, -0.09585156291723251, 0...</td>\n",
       "    </tr>\n",
       "  </tbody>\n",
       "</table>\n",
       "<p>1228 rows × 3 columns</p>\n",
       "</div>"
      ],
      "text/plain": [
       "     participant_id                                   answer4  \\\n",
       "0             00278                           make affordable   \n",
       "1             00278                             make reliable   \n",
       "2             00278                           make accessible   \n",
       "3             00278                hire staff support service   \n",
       "4             00278                   funding newfaster route   \n",
       "...             ...                                       ...   \n",
       "1223          fb9c4  reward scheme often use public transport   \n",
       "1224          fb9c4          increase hygiene level bus train   \n",
       "1225          ff2bf                          free travel need   \n",
       "1226          ff2bf                le parking private vehicle   \n",
       "1227          ff2bf                             safer station   \n",
       "\n",
       "                                             embedding4  \n",
       "0     [-0.11053259670734406, -0.18945811688899994, -...  \n",
       "1     [-0.13820765912532806, -0.033086229115724564, ...  \n",
       "2     [-0.19806034862995148, -0.14538557827472687, -...  \n",
       "3     [-0.024831995368003845, -0.03276780620217323, ...  \n",
       "4     [-0.23124073445796967, -0.12966595590114594, -...  \n",
       "...                                                 ...  \n",
       "1223  [-0.10024309158325195, -0.01906384527683258, -...  \n",
       "1224  [-0.06521286815404892, -0.25344136357307434, -...  \n",
       "1225  [-0.09752384573221207, 0.05519659444689751, -0...  \n",
       "1226  [-0.22521717846393585, -0.09770240634679794, -...  \n",
       "1227  [-0.23792971670627594, -0.09585156291723251, 0...  \n",
       "\n",
       "[1228 rows x 3 columns]"
      ]
     },
     "execution_count": 333,
     "metadata": {},
     "output_type": "execute_result"
    }
   ],
   "source": [
    "result"
   ]
  },
  {
   "cell_type": "code",
   "execution_count": 334,
   "id": "647d67fa",
   "metadata": {},
   "outputs": [],
   "source": [
    "# save the embedding to json file\n",
    "result.to_json('~/thesis/embeddings/knowledge_distilbert_answer4.jsonl', orient='index')"
   ]
  },
  {
   "cell_type": "markdown",
   "id": "2597ba60",
   "metadata": {},
   "source": [
    "### Question 5\n",
    "\"How could we reduce stress in our society?\""
   ]
  },
  {
   "cell_type": "code",
   "execution_count": 335,
   "id": "7048b548",
   "metadata": {},
   "outputs": [],
   "source": [
    "data = pd.read_json('~/thesis/data/processed_data/knowledge_q5_lemmatized.jsonl', orient='records', lines=True)"
   ]
  },
  {
   "cell_type": "code",
   "execution_count": 336,
   "id": "6ca567bf",
   "metadata": {},
   "outputs": [],
   "source": [
    "participant = data['participant_id'].copy()"
   ]
  },
  {
   "cell_type": "code",
   "execution_count": 337,
   "id": "822038ac",
   "metadata": {
    "scrolled": false
   },
   "outputs": [],
   "source": [
    "for x in range(len(data)): \n",
    "    if data['answer'].iloc[x] == '': # Check if there's empty strings values\n",
    "        print(x)"
   ]
  },
  {
   "cell_type": "code",
   "execution_count": 338,
   "id": "01463aaf",
   "metadata": {},
   "outputs": [],
   "source": [
    "data = data['answer'].copy()"
   ]
  },
  {
   "cell_type": "code",
   "execution_count": 339,
   "id": "b8d16ab5",
   "metadata": {},
   "outputs": [],
   "source": [
    "# Example list of texts to cluster\n",
    "texts = [ answer for answer in data]"
   ]
  },
  {
   "cell_type": "code",
   "execution_count": 340,
   "id": "f692afba",
   "metadata": {},
   "outputs": [],
   "source": [
    "# Tokenize and encode the texts\n",
    "encoded_texts = tokenizer(texts, padding=True, truncation=True, return_tensors=\"pt\")\n",
    "\n",
    "# Obtain distilBERT embeddings\n",
    "with torch.no_grad():\n",
    "    model_output = model(**encoded_texts)\n",
    "\n",
    "# Get the embeddings from the model output\n",
    "embeddings = model_output.last_hidden_state[:, 0, :].numpy()"
   ]
  },
  {
   "cell_type": "code",
   "execution_count": 341,
   "id": "300455f0",
   "metadata": {
    "scrolled": false
   },
   "outputs": [
    {
     "data": {
      "text/plain": [
       "(1311, 768)"
      ]
     },
     "execution_count": 341,
     "metadata": {},
     "output_type": "execute_result"
    }
   ],
   "source": [
    "embeddings.shape"
   ]
  },
  {
   "cell_type": "code",
   "execution_count": 342,
   "id": "0e51f4d0",
   "metadata": {},
   "outputs": [
    {
     "data": {
      "text/plain": [
       "array([[-0.18155296,  0.01037041, -0.05033297, ..., -0.2776332 ,\n",
       "         0.08216145,  0.28639117],\n",
       "       [-0.25153264, -0.14449532, -0.0904041 , ..., -0.20504676,\n",
       "        -0.00303022,  0.24036193],\n",
       "       [-0.2174866 , -0.22824603, -0.14886817, ..., -0.00183848,\n",
       "        -0.02660225,  0.2756349 ],\n",
       "       ...,\n",
       "       [-0.37797144, -0.15594889, -0.02280019, ..., -0.11585557,\n",
       "         0.29140317,  0.24774489],\n",
       "       [ 0.00210757, -0.14199375, -0.47691756, ..., -0.15677524,\n",
       "         0.15974632,  0.3441266 ],\n",
       "       [-0.15090314,  0.00807869, -0.22196297, ..., -0.29263887,\n",
       "         0.05773852,  0.16149037]], dtype=float32)"
      ]
     },
     "execution_count": 342,
     "metadata": {},
     "output_type": "execute_result"
    }
   ],
   "source": [
    "embeddings"
   ]
  },
  {
   "cell_type": "code",
   "execution_count": 343,
   "id": "4b70a9ab",
   "metadata": {
    "scrolled": true
   },
   "outputs": [],
   "source": [
    "# save it to the json file\n",
    "column_names = ['participant_id', 'answer5', 'embedding5']\n",
    "\n",
    "# Ensure that the length of text_data and the number of embeddings match\n",
    "assert len(data) == len(embeddings), \"The length of text data and embeddings must match\"\n",
    "\n",
    "# Convert each row of embeddings to a list\n",
    "embeddings_list = embeddings.tolist()\n",
    "\n",
    "result = pd.DataFrame({column_names[0]: participant , column_names[1]: data, column_names[2]: embeddings_list})"
   ]
  },
  {
   "cell_type": "code",
   "execution_count": 344,
   "id": "cc673c70",
   "metadata": {},
   "outputs": [
    {
     "data": {
      "text/html": [
       "<div>\n",
       "<style scoped>\n",
       "    .dataframe tbody tr th:only-of-type {\n",
       "        vertical-align: middle;\n",
       "    }\n",
       "\n",
       "    .dataframe tbody tr th {\n",
       "        vertical-align: top;\n",
       "    }\n",
       "\n",
       "    .dataframe thead th {\n",
       "        text-align: right;\n",
       "    }\n",
       "</style>\n",
       "<table border=\"1\" class=\"dataframe\">\n",
       "  <thead>\n",
       "    <tr style=\"text-align: right;\">\n",
       "      <th></th>\n",
       "      <th>participant_id</th>\n",
       "      <th>answer5</th>\n",
       "      <th>embedding5</th>\n",
       "    </tr>\n",
       "  </thead>\n",
       "  <tbody>\n",
       "    <tr>\n",
       "      <th>0</th>\n",
       "      <td>00278</td>\n",
       "      <td>better worklife balance</td>\n",
       "      <td>[-0.1815529614686966, 0.01037040539085865, -0....</td>\n",
       "    </tr>\n",
       "    <tr>\n",
       "      <th>1</th>\n",
       "      <td>00278</td>\n",
       "      <td>flexible working</td>\n",
       "      <td>[-0.251532644033432, -0.14449532330036163, -0....</td>\n",
       "    </tr>\n",
       "    <tr>\n",
       "      <th>2</th>\n",
       "      <td>00278</td>\n",
       "      <td>affordable bill housing</td>\n",
       "      <td>[-0.21748660504817963, -0.2282460331916809, -0...</td>\n",
       "    </tr>\n",
       "    <tr>\n",
       "      <th>3</th>\n",
       "      <td>00278</td>\n",
       "      <td>higher living wage</td>\n",
       "      <td>[-0.14937050640583038, -0.06709479540586472, -...</td>\n",
       "    </tr>\n",
       "    <tr>\n",
       "      <th>4</th>\n",
       "      <td>00278</td>\n",
       "      <td>accessible healthcare</td>\n",
       "      <td>[-0.18807484209537506, -0.08514208346605301, -...</td>\n",
       "    </tr>\n",
       "    <tr>\n",
       "      <th>...</th>\n",
       "      <td>...</td>\n",
       "      <td>...</td>\n",
       "      <td>...</td>\n",
       "    </tr>\n",
       "    <tr>\n",
       "      <th>1306</th>\n",
       "      <td>fb9c4</td>\n",
       "      <td>creative style based curriculum school</td>\n",
       "      <td>[-0.11061372607946396, -0.07716570794582367, -...</td>\n",
       "    </tr>\n",
       "    <tr>\n",
       "      <th>1307</th>\n",
       "      <td>fb9c4</td>\n",
       "      <td>advocate importance mental health school workp...</td>\n",
       "      <td>[-0.10510043799877167, 0.027560219168663025, -...</td>\n",
       "    </tr>\n",
       "    <tr>\n",
       "      <th>1308</th>\n",
       "      <td>ff2bf</td>\n",
       "      <td>kinder</td>\n",
       "      <td>[-0.37797144055366516, -0.15594889223575592, -...</td>\n",
       "    </tr>\n",
       "    <tr>\n",
       "      <th>1309</th>\n",
       "      <td>ff2bf</td>\n",
       "      <td>educate people mental health issue</td>\n",
       "      <td>[0.002107567386701703, -0.14199374616146088, -...</td>\n",
       "    </tr>\n",
       "    <tr>\n",
       "      <th>1310</th>\n",
       "      <td>ff2bf</td>\n",
       "      <td>give people tool deal stress effectively</td>\n",
       "      <td>[-0.1509031355381012, 0.00807869154959917, -0....</td>\n",
       "    </tr>\n",
       "  </tbody>\n",
       "</table>\n",
       "<p>1311 rows × 3 columns</p>\n",
       "</div>"
      ],
      "text/plain": [
       "     participant_id                                            answer5  \\\n",
       "0             00278                            better worklife balance   \n",
       "1             00278                                   flexible working   \n",
       "2             00278                            affordable bill housing   \n",
       "3             00278                                 higher living wage   \n",
       "4             00278                              accessible healthcare   \n",
       "...             ...                                                ...   \n",
       "1306          fb9c4             creative style based curriculum school   \n",
       "1307          fb9c4  advocate importance mental health school workp...   \n",
       "1308          ff2bf                                             kinder   \n",
       "1309          ff2bf                 educate people mental health issue   \n",
       "1310          ff2bf           give people tool deal stress effectively   \n",
       "\n",
       "                                             embedding5  \n",
       "0     [-0.1815529614686966, 0.01037040539085865, -0....  \n",
       "1     [-0.251532644033432, -0.14449532330036163, -0....  \n",
       "2     [-0.21748660504817963, -0.2282460331916809, -0...  \n",
       "3     [-0.14937050640583038, -0.06709479540586472, -...  \n",
       "4     [-0.18807484209537506, -0.08514208346605301, -...  \n",
       "...                                                 ...  \n",
       "1306  [-0.11061372607946396, -0.07716570794582367, -...  \n",
       "1307  [-0.10510043799877167, 0.027560219168663025, -...  \n",
       "1308  [-0.37797144055366516, -0.15594889223575592, -...  \n",
       "1309  [0.002107567386701703, -0.14199374616146088, -...  \n",
       "1310  [-0.1509031355381012, 0.00807869154959917, -0....  \n",
       "\n",
       "[1311 rows x 3 columns]"
      ]
     },
     "execution_count": 344,
     "metadata": {},
     "output_type": "execute_result"
    }
   ],
   "source": [
    "result"
   ]
  },
  {
   "cell_type": "code",
   "execution_count": 345,
   "id": "f3ee10bf",
   "metadata": {},
   "outputs": [],
   "source": [
    "# save the embedding to json file\n",
    "result.to_json('~/thesis/embeddings/knowledge_distilbert_answer5.jsonl', orient='index')"
   ]
  },
  {
   "cell_type": "code",
   "execution_count": null,
   "id": "65272418",
   "metadata": {},
   "outputs": [],
   "source": []
  }
 ],
 "metadata": {
  "kernelspec": {
   "display_name": "Kim - 1st Custom Python environment",
   "language": "python",
   "name": "my-python-env"
  },
  "language_info": {
   "codemirror_mode": {
    "name": "ipython",
    "version": 3
   },
   "file_extension": ".py",
   "mimetype": "text/x-python",
   "name": "python",
   "nbconvert_exporter": "python",
   "pygments_lexer": "ipython3",
   "version": "3.9.12"
  }
 },
 "nbformat": 4,
 "nbformat_minor": 5
}
